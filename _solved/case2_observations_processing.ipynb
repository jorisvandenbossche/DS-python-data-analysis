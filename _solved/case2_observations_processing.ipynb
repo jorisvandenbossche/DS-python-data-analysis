{
 "cells": [
  {
   "cell_type": "markdown",
   "metadata": {},
   "source": [
    "<p><font size=\"6\"><b> CASE - Observation data - data cleaning and enrichment</b></font></p>\n",
    "\n",
    "> *© 2021, Joris Van den Bossche and Stijn Van Hoey  (<mailto:jorisvandenbossche@gmail.com>, <mailto:stijnvanhoey@gmail.com>). Licensed under [CC BY 4.0 Creative Commons](http://creativecommons.org/licenses/by/4.0/)*\n",
    "\n",
    "---"
   ]
  },
  {
   "cell_type": "code",
   "execution_count": 1,
   "metadata": {},
   "outputs": [],
   "source": [
    "import numpy as np\n",
    "import pandas as pd\n",
    "import matplotlib.pyplot as plt\n",
    "\n",
    "plt.style.use('seaborn-whitegrid')"
   ]
  },
  {
   "cell_type": "markdown",
   "metadata": {},
   "source": [
    "**Scenario**:<br>\n",
    "\n",
    "Observation data of species (when and where is a given species observed) is typical in biodiversity studies. Large international initiatives support the collection of this data by volunteers, e.g. [iNaturalist](https://www.inaturalist.org/). Thanks to initiatives like [GBIF](https://www.gbif.org/), a lot of these data is also openly available."
   ]
  },
  {
   "cell_type": "markdown",
   "metadata": {},
   "source": [
    "You decide to share data of a field campaign, but the data set still requires some cleaning and standardization. For example, the coordinates, can be named `x`/`y`, `decimalLatitude`/`decimalLongitude`, `lat`/`long`... Luckily, you know of an international **open data standard** to describe occurrence/observation data, i.e. [Darwin Core (DwC)](http://rs.tdwg.org/dwc/terms). Instead of inventing your own data model, you decide to comply to this international standard. The latter will enhance communication and will also make your data compliant with GBIF."
   ]
  },
  {
   "cell_type": "markdown",
   "metadata": {},
   "source": [
    "In short, the DwC describes a flat table (cfr. `CSV`) with an agreed name convention on the header names and conventions on how certain data types need to be represented (as a reference, an in depth description is given [here](https://www.tdwg.org/standards/dwc/)). For this tutorial, we will focus on a few of the existing terms to learn some elements about data cleaning:\n",
    "* `eventDate`: ISO 6801 format of dates\n",
    "* `scientificName`: the accepted scientific name of the species\n",
    "* `decimalLatitude`/`decimalLongitude`: coordinates of the occurrence in WGS84 format\n",
    "* `sex`: either `male` or `female` to characterize the sex of the occurrence\n",
    "* `occurrenceID`: an identifier within the data set to identify the individual records\n",
    "* `datasetName`: a static string defining the source of the data\n",
    "\n",
    "Furthermore, additional information concerning the taxonomy will be added using an external API service"
   ]
  },
  {
   "cell_type": "markdown",
   "metadata": {},
   "source": [
    "**Dataset to work on:**"
   ]
  },
  {
   "cell_type": "markdown",
   "metadata": {},
   "source": [
    "For this data set, the data is split up in the following main data files:\n",
    "* `surveys.csv` the data with the surveys in the individual plots\n",
    "* `species.csv` the overview list of the species short-names\n",
    "* `plot_location.xlsx` the overview of coordinates of the individual locations\n",
    "\n",
    "The data originates from a [study](http://esapubs.org/archive/ecol/E090/118/metadata.htm) of a Chihuahuan desert ecosystem near Portal, Arizona.\n",
    "\n",
    "![](../img/plot_overview.png)"
   ]
  },
  {
   "cell_type": "markdown",
   "metadata": {},
   "source": [
    "## 1. Survey-data"
   ]
  },
  {
   "cell_type": "markdown",
   "metadata": {},
   "source": [
    "Reading in the data of the individual surveys:"
   ]
  },
  {
   "cell_type": "code",
   "execution_count": 4,
   "metadata": {},
   "outputs": [],
   "source": [
    "survey_data = pd.read_csv(\"data/surveys.csv\")"
   ]
  },
  {
   "cell_type": "code",
   "execution_count": 5,
   "metadata": {},
   "outputs": [
    {
     "data": {
      "text/html": [
       "<div>\n",
       "<style scoped>\n",
       "    .dataframe tbody tr th:only-of-type {\n",
       "        vertical-align: middle;\n",
       "    }\n",
       "\n",
       "    .dataframe tbody tr th {\n",
       "        vertical-align: top;\n",
       "    }\n",
       "\n",
       "    .dataframe thead th {\n",
       "        text-align: right;\n",
       "    }\n",
       "</style>\n",
       "<table border=\"1\" class=\"dataframe\">\n",
       "  <thead>\n",
       "    <tr style=\"text-align: right;\">\n",
       "      <th></th>\n",
       "      <th>record_id</th>\n",
       "      <th>month</th>\n",
       "      <th>day</th>\n",
       "      <th>year</th>\n",
       "      <th>plot</th>\n",
       "      <th>species</th>\n",
       "      <th>sex_char</th>\n",
       "      <th>wgt</th>\n",
       "    </tr>\n",
       "  </thead>\n",
       "  <tbody>\n",
       "    <tr>\n",
       "      <th>0</th>\n",
       "      <td>1</td>\n",
       "      <td>7</td>\n",
       "      <td>16</td>\n",
       "      <td>1977</td>\n",
       "      <td>2</td>\n",
       "      <td>NaN</td>\n",
       "      <td>M</td>\n",
       "      <td>NaN</td>\n",
       "    </tr>\n",
       "    <tr>\n",
       "      <th>1</th>\n",
       "      <td>2</td>\n",
       "      <td>7</td>\n",
       "      <td>16</td>\n",
       "      <td>1977</td>\n",
       "      <td>3</td>\n",
       "      <td>NaN</td>\n",
       "      <td>M</td>\n",
       "      <td>NaN</td>\n",
       "    </tr>\n",
       "    <tr>\n",
       "      <th>2</th>\n",
       "      <td>3</td>\n",
       "      <td>7</td>\n",
       "      <td>16</td>\n",
       "      <td>1977</td>\n",
       "      <td>2</td>\n",
       "      <td>DM</td>\n",
       "      <td>F</td>\n",
       "      <td>NaN</td>\n",
       "    </tr>\n",
       "    <tr>\n",
       "      <th>3</th>\n",
       "      <td>4</td>\n",
       "      <td>7</td>\n",
       "      <td>16</td>\n",
       "      <td>1977</td>\n",
       "      <td>7</td>\n",
       "      <td>DM</td>\n",
       "      <td>M</td>\n",
       "      <td>NaN</td>\n",
       "    </tr>\n",
       "    <tr>\n",
       "      <th>4</th>\n",
       "      <td>5</td>\n",
       "      <td>7</td>\n",
       "      <td>16</td>\n",
       "      <td>1977</td>\n",
       "      <td>3</td>\n",
       "      <td>DM</td>\n",
       "      <td>M</td>\n",
       "      <td>NaN</td>\n",
       "    </tr>\n",
       "  </tbody>\n",
       "</table>\n",
       "</div>"
      ],
      "text/plain": [
       "   record_id  month  day  year  plot species sex_char  wgt\n",
       "0          1      7   16  1977     2     NaN        M  NaN\n",
       "1          2      7   16  1977     3     NaN        M  NaN\n",
       "2          3      7   16  1977     2      DM        F  NaN\n",
       "3          4      7   16  1977     7      DM        M  NaN\n",
       "4          5      7   16  1977     3      DM        M  NaN"
      ]
     },
     "execution_count": 5,
     "metadata": {},
     "output_type": "execute_result"
    }
   ],
   "source": [
    "survey_data.head()"
   ]
  },
  {
   "cell_type": "markdown",
   "metadata": {},
   "source": [
    "<div class=\"alert alert-success\">\n",
    "\n",
    "**EXERCISE**\n",
    "\n",
    "- How many individual records (occurrences) does the survey data set contain?\n",
    "\n",
    "</div>"
   ]
  },
  {
   "cell_type": "code",
   "execution_count": 6,
   "metadata": {
    "tags": [
     "nbtutor-solution"
    ]
   },
   "outputs": [
    {
     "data": {
      "text/plain": [
       "35549"
      ]
     },
     "execution_count": 6,
     "metadata": {},
     "output_type": "execute_result"
    }
   ],
   "source": [
    "len(survey_data)"
   ]
  },
  {
   "cell_type": "markdown",
   "metadata": {},
   "source": [
    "### Adding the data source information as static column"
   ]
  },
  {
   "cell_type": "markdown",
   "metadata": {},
   "source": [
    "For convenience when this data-set will be combined with other datasets, we first add a column of static values, defining the `datasetName` of this particular data:"
   ]
  },
  {
   "cell_type": "code",
   "execution_count": 5,
   "metadata": {},
   "outputs": [],
   "source": [
    "datasetname = \"Ecological Archives E090-118-D1.\""
   ]
  },
  {
   "cell_type": "markdown",
   "metadata": {},
   "source": [
    "Adding this static value as a new column `datasetName`:"
   ]
  },
  {
   "cell_type": "markdown",
   "metadata": {},
   "source": [
    "<div class=\"alert alert-success\">\n",
    "\n",
    "**EXERCISE**\n",
    "\n",
    "Add a new column, `datasetName`, to the survey data set with `datasetname` as value for all of the records (static value for the entire data set)\n",
    "\n",
    "<details><summary>Hints</summary>\n",
    "\n",
    "- When a column does not exist, a new `df[\"a_new_column\"]` can be created by assigning a value to it.\n",
    "- No `for`-loop is required, as Pandas will automatically broadcast a single string value to each of the rows in the `DataFrame`.\n",
    "\n",
    "</details>\n",
    "\n",
    "</div>"
   ]
  },
  {
   "cell_type": "code",
   "execution_count": 6,
   "metadata": {
    "tags": [
     "nbtutor-solution"
    ]
   },
   "outputs": [],
   "source": [
    "survey_data[\"datasetName\"] = datasetname"
   ]
  },
  {
   "cell_type": "markdown",
   "metadata": {},
   "source": [
    "### Cleaning the `sex_char` column into a DwC called [sex](http://rs.tdwg.org/dwc/terms/#sex) column"
   ]
  },
  {
   "cell_type": "markdown",
   "metadata": {},
   "source": [
    "<div class=\"alert alert-success\">\n",
    "\n",
    "**EXERCISE**\n",
    "\n",
    "- Get a list of the unique values for the column `sex_char`.\n",
    "\n",
    "<details><summary>Hints</summary>\n",
    "\n",
    "- To find the unique values, look for a function called `unique` (remember `SHIFT`+`TAB` combination to explore the available methods/attributes?)\n",
    "\n",
    "</details>\n",
    "\n",
    "</div>"
   ]
  },
  {
   "cell_type": "code",
   "execution_count": 7,
   "metadata": {
    "tags": [
     "nbtutor-solution"
    ]
   },
   "outputs": [
    {
     "data": {
      "text/plain": [
       "['M', 'F', nan, 'R', 'P', 'Z']"
      ]
     },
     "execution_count": 7,
     "metadata": {},
     "output_type": "execute_result"
    }
   ],
   "source": [
    "survey_data[\"sex_char\"].unique().tolist()"
   ]
  },
  {
   "cell_type": "markdown",
   "metadata": {},
   "source": [
    "So, apparently, more information is provided in this column, whereas according to the [metadata](http://esapubs.org/archive/ecol/E090/118/Portal_rodent_metadata.htm) information, the sex information should be either `M` (male) or `F` (female). We will create a column, named `sex` and convert the symbols to the corresponding sex, taking into account the following mapping of the values (see [metadata](http://esapubs.org/archive/ecol/E090/118/Portal_rodent_metadata.htm) for more details):\n",
    "* `M` -> `male`\n",
    "* `F` -> `female`\n",
    "* `R` -> `male`\n",
    "* `P` -> `female`\n",
    "* `Z` -> nan\n",
    "\n",
    "At the same time, we will save the original information of the `sex_char` in a separate column, called `verbatimSex`, as a reference in case we need the original data later."
   ]
  },
  {
   "cell_type": "markdown",
   "metadata": {},
   "source": [
    "In summary, we have to:\n",
    "* rename the `sex_char` column to `verbatimSex`\n",
    "* create a new column with the name `sex`\n",
    "* map the original values of the `sex_char` to the values `male` and `female` according to the mapping above"
   ]
  },
  {
   "cell_type": "markdown",
   "metadata": {},
   "source": [
    "First, let's convert the name of the column header `sex_char` to `verbatimSex` with the `rename` function:"
   ]
  },
  {
   "cell_type": "code",
   "execution_count": 8,
   "metadata": {},
   "outputs": [],
   "source": [
    "survey_data = survey_data.rename(columns={'sex_char': 'verbatimSex'})"
   ]
  },
  {
   "cell_type": "markdown",
   "metadata": {},
   "source": [
    "<div class=\"alert alert-success\">\n",
    "\n",
    "**EXERCISE**\n",
    "\n",
    "- Express the mapping of the values (e.g. `M` -> `male`) into a Python dictionary object with the variable name `sex_dict`. `Z` values correspond to _Not a Number_, which can be defined as `np.nan`.\n",
    "- Use the `sex_dict` dictionary to replace the values in the `verbatimSex` column to the new values and save the mapped values in a new column 'sex' of the DataFrame.\n",
    "\n",
    "<details><summary>Hints</summary>\n",
    "\n",
    "- A dictionary is a Python standard library data structure, see https://docs.python.org/3/tutorial/datastructures.html#dictionaries - no Pandas magic involved when you need a key/value mapping.\n",
    "- When you need to replace values, look for the Pandas method `replace`.\n",
    "\n",
    "</details>\n",
    "\n",
    "</div>"
   ]
  },
  {
   "cell_type": "code",
   "execution_count": 9,
   "metadata": {
    "tags": [
     "nbtutor-solution"
    ]
   },
   "outputs": [],
   "source": [
    "sex_dict = {\"M\": \"male\",\n",
    "            \"F\": \"female\",\n",
    "            \"R\": \"male\",\n",
    "            \"P\": \"female\",\n",
    "            \"Z\": np.nan}"
   ]
  },
  {
   "cell_type": "code",
   "execution_count": 10,
   "metadata": {
    "tags": [
     "nbtutor-solution"
    ]
   },
   "outputs": [],
   "source": [
    "survey_data['sex'] = survey_data['verbatimSex'].replace(sex_dict)"
   ]
  },
  {
   "cell_type": "markdown",
   "metadata": {},
   "source": [
    "Checking the current frequency of values of the resulting `sex` column (this should result in the values `male`, `female` and `nan`):"
   ]
  },
  {
   "cell_type": "code",
   "execution_count": 11,
   "metadata": {},
   "outputs": [
    {
     "data": {
      "text/plain": [
       "array(['male', 'female', nan], dtype=object)"
      ]
     },
     "execution_count": 11,
     "metadata": {},
     "output_type": "execute_result"
    }
   ],
   "source": [
    "survey_data[\"sex\"].unique()"
   ]
  },
  {
   "cell_type": "markdown",
   "metadata": {},
   "source": [
    "To check what the frequency of occurrences is for male/female of the categories, a bar chart is a possible representation:"
   ]
  },
  {
   "cell_type": "markdown",
   "metadata": {},
   "source": [
    "<div class=\"alert alert-success\">\n",
    "\n",
    "**EXERCISE**\n",
    "\n",
    "- Make a horizontal bar chart comparing the number of male, female and unknown (`NaN`) records in the data set.\n",
    "\n",
    "<details><summary>Hints</summary>\n",
    "\n",
    "- Pandas provides a shortcut method `value_counts` which works on Pandas `Series` to count unique values. Explore the documentation of the `value_counts` method to include the `NaN` values as well.\n",
    "- Check in the help of the Pandas plot function for the `kind` parameter.\n",
    "\n",
    "</details>\n",
    "\n",
    "</div>"
   ]
  },
  {
   "cell_type": "code",
   "execution_count": 12,
   "metadata": {
    "tags": [
     "nbtutor-solution"
    ]
   },
   "outputs": [
    {
     "data": {
      "text/plain": [
       "<AxesSubplot:>"
      ]
     },
     "execution_count": 12,
     "metadata": {},
     "output_type": "execute_result"
    },
    {
     "data": {
      "image/png": "[encoded data removed]",
      "text/plain": [
       "<Figure size 432x288 with 1 Axes>"
      ]
     },
     "metadata": {},
     "output_type": "display_data"
    }
   ],
   "source": [
    "survey_data[\"sex\"].value_counts(dropna=False).plot(kind=\"barh\", color=\"#00007f\")"
   ]
  },
  {
   "cell_type": "markdown",
   "metadata": {},
   "source": [
    "<div class=\"alert alert-warning\">\n",
    "\n",
    "<b>NOTE</b>: The usage of `groupby` combined with the `size` of each group would be an option as well. However, the latter does not support to count the `NaN` values as well. The `value_counts` method does support this with the `dropna=False` argument.\n",
    "\n",
    "</div>"
   ]
  },
  {
   "cell_type": "markdown",
   "metadata": {},
   "source": [
    "### Solving double entry field by decoupling"
   ]
  },
  {
   "cell_type": "markdown",
   "metadata": {},
   "source": [
    "When checking the species unique information:"
   ]
  },
  {
   "cell_type": "code",
   "execution_count": 13,
   "metadata": {},
   "outputs": [
    {
     "data": {
      "text/plain": [
       "array([nan, 'DM', 'PF', 'PE', 'DM and SH', 'DS', 'PP', 'SH', 'OT', 'DO',\n",
       "       'OX', 'SS', 'OL', 'RM', 'SA', 'PM', 'AH', 'DX', 'AB', 'CB', 'CM',\n",
       "       'CQ', 'RF', 'PC', 'PG', 'PH', 'PU', 'CV', 'UR', 'UP', 'ZL', 'UL',\n",
       "       'CS', 'SC', 'BA', 'SF', 'RO', 'AS', 'SO', 'PI', 'ST', 'CU', 'SU',\n",
       "       'RX', 'PB', 'PL', 'PX', 'CT', 'US'], dtype=object)"
      ]
     },
     "execution_count": 13,
     "metadata": {},
     "output_type": "execute_result"
    }
   ],
   "source": [
    "survey_data[\"species\"].unique()"
   ]
  },
  {
   "cell_type": "code",
   "execution_count": 14,
   "metadata": {},
   "outputs": [
    {
     "data": {
      "text/html": [
       "<div>\n",
       "<style scoped>\n",
       "    .dataframe tbody tr th:only-of-type {\n",
       "        vertical-align: middle;\n",
       "    }\n",
       "\n",
       "    .dataframe tbody tr th {\n",
       "        vertical-align: top;\n",
       "    }\n",
       "\n",
       "    .dataframe thead th {\n",
       "        text-align: right;\n",
       "    }\n",
       "</style>\n",
       "<table border=\"1\" class=\"dataframe\">\n",
       "  <thead>\n",
       "    <tr style=\"text-align: right;\">\n",
       "      <th></th>\n",
       "      <th>record_id</th>\n",
       "      <th>month</th>\n",
       "      <th>day</th>\n",
       "      <th>year</th>\n",
       "      <th>plot</th>\n",
       "      <th>species</th>\n",
       "      <th>verbatimSex</th>\n",
       "      <th>wgt</th>\n",
       "      <th>datasetName</th>\n",
       "      <th>sex</th>\n",
       "    </tr>\n",
       "  </thead>\n",
       "  <tbody>\n",
       "    <tr>\n",
       "      <th>0</th>\n",
       "      <td>1</td>\n",
       "      <td>7</td>\n",
       "      <td>16</td>\n",
       "      <td>1977</td>\n",
       "      <td>2</td>\n",
       "      <td>NaN</td>\n",
       "      <td>M</td>\n",
       "      <td>NaN</td>\n",
       "      <td>Ecological Archives E090-118-D1.</td>\n",
       "      <td>male</td>\n",
       "    </tr>\n",
       "    <tr>\n",
       "      <th>1</th>\n",
       "      <td>2</td>\n",
       "      <td>7</td>\n",
       "      <td>16</td>\n",
       "      <td>1977</td>\n",
       "      <td>3</td>\n",
       "      <td>NaN</td>\n",
       "      <td>M</td>\n",
       "      <td>NaN</td>\n",
       "      <td>Ecological Archives E090-118-D1.</td>\n",
       "      <td>male</td>\n",
       "    </tr>\n",
       "    <tr>\n",
       "      <th>2</th>\n",
       "      <td>3</td>\n",
       "      <td>7</td>\n",
       "      <td>16</td>\n",
       "      <td>1977</td>\n",
       "      <td>2</td>\n",
       "      <td>DM</td>\n",
       "      <td>F</td>\n",
       "      <td>NaN</td>\n",
       "      <td>Ecological Archives E090-118-D1.</td>\n",
       "      <td>female</td>\n",
       "    </tr>\n",
       "    <tr>\n",
       "      <th>3</th>\n",
       "      <td>4</td>\n",
       "      <td>7</td>\n",
       "      <td>16</td>\n",
       "      <td>1977</td>\n",
       "      <td>7</td>\n",
       "      <td>DM</td>\n",
       "      <td>M</td>\n",
       "      <td>NaN</td>\n",
       "      <td>Ecological Archives E090-118-D1.</td>\n",
       "      <td>male</td>\n",
       "    </tr>\n",
       "    <tr>\n",
       "      <th>4</th>\n",
       "      <td>5</td>\n",
       "      <td>7</td>\n",
       "      <td>16</td>\n",
       "      <td>1977</td>\n",
       "      <td>3</td>\n",
       "      <td>DM</td>\n",
       "      <td>M</td>\n",
       "      <td>NaN</td>\n",
       "      <td>Ecological Archives E090-118-D1.</td>\n",
       "      <td>male</td>\n",
       "    </tr>\n",
       "    <tr>\n",
       "      <th>5</th>\n",
       "      <td>6</td>\n",
       "      <td>7</td>\n",
       "      <td>16</td>\n",
       "      <td>1977</td>\n",
       "      <td>1</td>\n",
       "      <td>PF</td>\n",
       "      <td>M</td>\n",
       "      <td>NaN</td>\n",
       "      <td>Ecological Archives E090-118-D1.</td>\n",
       "      <td>male</td>\n",
       "    </tr>\n",
       "    <tr>\n",
       "      <th>6</th>\n",
       "      <td>7</td>\n",
       "      <td>7</td>\n",
       "      <td>16</td>\n",
       "      <td>1977</td>\n",
       "      <td>2</td>\n",
       "      <td>PE</td>\n",
       "      <td>F</td>\n",
       "      <td>NaN</td>\n",
       "      <td>Ecological Archives E090-118-D1.</td>\n",
       "      <td>female</td>\n",
       "    </tr>\n",
       "    <tr>\n",
       "      <th>7</th>\n",
       "      <td>8</td>\n",
       "      <td>7</td>\n",
       "      <td>16</td>\n",
       "      <td>1977</td>\n",
       "      <td>1</td>\n",
       "      <td>DM</td>\n",
       "      <td>M</td>\n",
       "      <td>NaN</td>\n",
       "      <td>Ecological Archives E090-118-D1.</td>\n",
       "      <td>male</td>\n",
       "    </tr>\n",
       "    <tr>\n",
       "      <th>8</th>\n",
       "      <td>9</td>\n",
       "      <td>7</td>\n",
       "      <td>16</td>\n",
       "      <td>1977</td>\n",
       "      <td>1</td>\n",
       "      <td>DM and SH</td>\n",
       "      <td>NaN</td>\n",
       "      <td>NaN</td>\n",
       "      <td>Ecological Archives E090-118-D1.</td>\n",
       "      <td>NaN</td>\n",
       "    </tr>\n",
       "    <tr>\n",
       "      <th>9</th>\n",
       "      <td>10</td>\n",
       "      <td>7</td>\n",
       "      <td>16</td>\n",
       "      <td>1977</td>\n",
       "      <td>6</td>\n",
       "      <td>PF</td>\n",
       "      <td>F</td>\n",
       "      <td>NaN</td>\n",
       "      <td>Ecological Archives E090-118-D1.</td>\n",
       "      <td>female</td>\n",
       "    </tr>\n",
       "  </tbody>\n",
       "</table>\n",
       "</div>"
      ],
      "text/plain": [
       "   record_id  month  day  year  plot    species verbatimSex  wgt  \\\n",
       "0          1      7   16  1977     2        NaN           M  NaN   \n",
       "1          2      7   16  1977     3        NaN           M  NaN   \n",
       "2          3      7   16  1977     2         DM           F  NaN   \n",
       "3          4      7   16  1977     7         DM           M  NaN   \n",
       "4          5      7   16  1977     3         DM           M  NaN   \n",
       "5          6      7   16  1977     1         PF           M  NaN   \n",
       "6          7      7   16  1977     2         PE           F  NaN   \n",
       "7          8      7   16  1977     1         DM           M  NaN   \n",
       "8          9      7   16  1977     1  DM and SH         NaN  NaN   \n",
       "9         10      7   16  1977     6         PF           F  NaN   \n",
       "\n",
       "                        datasetName     sex  \n",
       "0  Ecological Archives E090-118-D1.    male  \n",
       "1  Ecological Archives E090-118-D1.    male  \n",
       "2  Ecological Archives E090-118-D1.  female  \n",
       "3  Ecological Archives E090-118-D1.    male  \n",
       "4  Ecological Archives E090-118-D1.    male  \n",
       "5  Ecological Archives E090-118-D1.    male  \n",
       "6  Ecological Archives E090-118-D1.  female  \n",
       "7  Ecological Archives E090-118-D1.    male  \n",
       "8  Ecological Archives E090-118-D1.     NaN  \n",
       "9  Ecological Archives E090-118-D1.  female  "
      ]
     },
     "execution_count": 14,
     "metadata": {},
     "output_type": "execute_result"
    }
   ],
   "source": [
    "survey_data.head(10)"
   ]
  },
  {
   "cell_type": "markdown",
   "metadata": {},
   "source": [
    "There apparently exists a double entry: `'DM and SH'`, which basically defines two records and should be decoupled to two individual records (i.e. rows). Hence, we should be able to create an additional row based on this split. To do so, Pandas provides a dedicated function since version 0.25, called `explode`. Starting from a small subset example:"
   ]
  },
  {
   "cell_type": "code",
   "execution_count": 15,
   "metadata": {},
   "outputs": [
    {
     "data": {
      "text/plain": [
       "7            DM\n",
       "8     DM and SH\n",
       "9            PF\n",
       "10           DS\n",
       "Name: species, dtype: object"
      ]
     },
     "execution_count": 15,
     "metadata": {},
     "output_type": "execute_result"
    }
   ],
   "source": [
    "example = survey_data.loc[7:10, \"species\"]\n",
    "example"
   ]
  },
  {
   "cell_type": "markdown",
   "metadata": {},
   "source": [
    "Using the `split` method on strings, we can split the string using a given character, in this case the word `and`:"
   ]
  },
  {
   "cell_type": "code",
   "execution_count": 16,
   "metadata": {},
   "outputs": [
    {
     "data": {
      "text/plain": [
       "7           [DM]\n",
       "8     [DM ,  SH]\n",
       "9           [PF]\n",
       "10          [DS]\n",
       "Name: species, dtype: object"
      ]
     },
     "execution_count": 16,
     "metadata": {},
     "output_type": "execute_result"
    }
   ],
   "source": [
    "example.str.split(\"and\")"
   ]
  },
  {
   "cell_type": "markdown",
   "metadata": {},
   "source": [
    "The `explode` method will create a row for each element in the list:"
   ]
  },
  {
   "cell_type": "code",
   "execution_count": 17,
   "metadata": {},
   "outputs": [
    {
     "data": {
      "text/plain": [
       "7      DM\n",
       "8     DM \n",
       "8      SH\n",
       "9      PF\n",
       "10     DS\n",
       "Name: species, dtype: object"
      ]
     },
     "execution_count": 17,
     "metadata": {},
     "output_type": "execute_result"
    }
   ],
   "source": [
    "example_split = example.str.split(\"and\").explode()\n",
    "example_split"
   ]
  },
  {
   "cell_type": "markdown",
   "metadata": {},
   "source": [
    "Hence, the `DM` and `SH` are now enlisted in separate rows. Other rows remain unchanged. The only remaining issue is the spaces around the characters:"
   ]
  },
  {
   "cell_type": "code",
   "execution_count": 18,
   "metadata": {},
   "outputs": [
    {
     "data": {
      "text/plain": [
       "('DM ', ' SH')"
      ]
     },
     "execution_count": 18,
     "metadata": {},
     "output_type": "execute_result"
    }
   ],
   "source": [
    "example_split.iloc[1], example_split.iloc[2]"
   ]
  },
  {
   "cell_type": "markdown",
   "metadata": {},
   "source": [
    "Which we can solve again using the string method `strip`, removing the spaces before and after the characters:"
   ]
  },
  {
   "cell_type": "code",
   "execution_count": 19,
   "metadata": {},
   "outputs": [
    {
     "data": {
      "text/plain": [
       "7     DM\n",
       "8     DM\n",
       "8     SH\n",
       "9     PF\n",
       "10    DS\n",
       "Name: species, dtype: object"
      ]
     },
     "execution_count": 19,
     "metadata": {},
     "output_type": "execute_result"
    }
   ],
   "source": [
    "example_split.str.strip()"
   ]
  },
  {
   "cell_type": "markdown",
   "metadata": {},
   "source": [
    "To make this reusable, let's create a dedicated function to combine these steps, called `solve_double_field_entry`:"
   ]
  },
  {
   "cell_type": "code",
   "execution_count": 20,
   "metadata": {},
   "outputs": [],
   "source": [
    "def solve_double_field_entry(df, keyword=\"and\", column=\"verbatimEventDate\"):\n",
    "    \"\"\"Split on keyword in column for an enumeration and create extra record\n",
    "\n",
    "    Parameters\n",
    "    ----------\n",
    "    df: pd.DataFrame\n",
    "        DataFrame with a double field entry in one or more values\n",
    "    keyword: str\n",
    "        word/character to split the double records on\n",
    "    column: str\n",
    "        column name to use for the decoupling of the records\n",
    "    \"\"\"\n",
    "    df = df.copy()  # copy the input DataFrame to avoid editing the original\n",
    "    df[column] = df[column].str.split(keyword)\n",
    "    df = df.explode(column)\n",
    "    df[column] = df[column].str.strip()  # remove white space around the words\n",
    "    return df"
   ]
  },
  {
   "cell_type": "markdown",
   "metadata": {},
   "source": [
    "The function takes a `DataFrame` as input, splits the record into separate rows and returns an updated `DataFrame`. We can use this function to get an update of the `DataFrame`, with an additional row (observation) added by decoupling the specific field. Let's apply this new function."
   ]
  },
  {
   "cell_type": "markdown",
   "metadata": {},
   "source": [
    "<div class=\"alert alert-success\">\n",
    "\n",
    "**EXERCISE**\n",
    "\n",
    "- Use the function `solve_double_field_entry` to update the `survey_data` by decoupling the double entries. Save the result as a variable `survey_data_decoupled`.\n",
    "\n",
    "<details><summary>Hints</summary>\n",
    "\n",
    "- As we added a 'docstring' to the function, we can check our own documentation to know how to use the function and which inputs we should provide. You can use `SHIFT` + `TAB` to explore the documentation just like any other function.\n",
    "\n",
    "</details>\n",
    "\n",
    "</div>"
   ]
  },
  {
   "cell_type": "code",
   "execution_count": 21,
   "metadata": {
    "tags": [
     "nbtutor-solution"
    ]
   },
   "outputs": [],
   "source": [
    "survey_data_decoupled = solve_double_field_entry(survey_data,\n",
    "                                                 \"and\",\n",
    "                                                 column=\"species\") # get help of the function by SHIFT + TAB"
   ]
  },
  {
   "cell_type": "code",
   "execution_count": 22,
   "metadata": {},
   "outputs": [
    {
     "data": {
      "text/plain": [
       "array([nan, 'DM', 'PF', 'PE', 'SH', 'DS', 'PP', 'OT', 'DO', 'OX', 'SS',\n",
       "       'OL', 'RM', 'SA', 'PM', 'AH', 'DX', 'AB', 'CB', 'CM', 'CQ', 'RF',\n",
       "       'PC', 'PG', 'PH', 'PU', 'CV', 'UR', 'UP', 'ZL', 'UL', 'CS', 'SC',\n",
       "       'BA', 'SF', 'RO', 'AS', 'SO', 'PI', 'ST', 'CU', 'SU', 'RX', 'PB',\n",
       "       'PL', 'PX', 'CT', 'US'], dtype=object)"
      ]
     },
     "execution_count": 22,
     "metadata": {},
     "output_type": "execute_result"
    }
   ],
   "source": [
    "survey_data_decoupled[\"species\"].unique()"
   ]
  },
  {
   "cell_type": "code",
   "execution_count": 23,
   "metadata": {},
   "outputs": [
    {
     "data": {
      "text/html": [
       "<div>\n",
       "<style scoped>\n",
       "    .dataframe tbody tr th:only-of-type {\n",
       "        vertical-align: middle;\n",
       "    }\n",
       "\n",
       "    .dataframe tbody tr th {\n",
       "        vertical-align: top;\n",
       "    }\n",
       "\n",
       "    .dataframe thead th {\n",
       "        text-align: right;\n",
       "    }\n",
       "</style>\n",
       "<table border=\"1\" class=\"dataframe\">\n",
       "  <thead>\n",
       "    <tr style=\"text-align: right;\">\n",
       "      <th></th>\n",
       "      <th>record_id</th>\n",
       "      <th>month</th>\n",
       "      <th>day</th>\n",
       "      <th>year</th>\n",
       "      <th>plot</th>\n",
       "      <th>species</th>\n",
       "      <th>verbatimSex</th>\n",
       "      <th>wgt</th>\n",
       "      <th>datasetName</th>\n",
       "      <th>sex</th>\n",
       "    </tr>\n",
       "  </thead>\n",
       "  <tbody>\n",
       "    <tr>\n",
       "      <th>0</th>\n",
       "      <td>1</td>\n",
       "      <td>7</td>\n",
       "      <td>16</td>\n",
       "      <td>1977</td>\n",
       "      <td>2</td>\n",
       "      <td>NaN</td>\n",
       "      <td>M</td>\n",
       "      <td>NaN</td>\n",
       "      <td>Ecological Archives E090-118-D1.</td>\n",
       "      <td>male</td>\n",
       "    </tr>\n",
       "    <tr>\n",
       "      <th>1</th>\n",
       "      <td>2</td>\n",
       "      <td>7</td>\n",
       "      <td>16</td>\n",
       "      <td>1977</td>\n",
       "      <td>3</td>\n",
       "      <td>NaN</td>\n",
       "      <td>M</td>\n",
       "      <td>NaN</td>\n",
       "      <td>Ecological Archives E090-118-D1.</td>\n",
       "      <td>male</td>\n",
       "    </tr>\n",
       "    <tr>\n",
       "      <th>2</th>\n",
       "      <td>3</td>\n",
       "      <td>7</td>\n",
       "      <td>16</td>\n",
       "      <td>1977</td>\n",
       "      <td>2</td>\n",
       "      <td>DM</td>\n",
       "      <td>F</td>\n",
       "      <td>NaN</td>\n",
       "      <td>Ecological Archives E090-118-D1.</td>\n",
       "      <td>female</td>\n",
       "    </tr>\n",
       "    <tr>\n",
       "      <th>3</th>\n",
       "      <td>4</td>\n",
       "      <td>7</td>\n",
       "      <td>16</td>\n",
       "      <td>1977</td>\n",
       "      <td>7</td>\n",
       "      <td>DM</td>\n",
       "      <td>M</td>\n",
       "      <td>NaN</td>\n",
       "      <td>Ecological Archives E090-118-D1.</td>\n",
       "      <td>male</td>\n",
       "    </tr>\n",
       "    <tr>\n",
       "      <th>4</th>\n",
       "      <td>5</td>\n",
       "      <td>7</td>\n",
       "      <td>16</td>\n",
       "      <td>1977</td>\n",
       "      <td>3</td>\n",
       "      <td>DM</td>\n",
       "      <td>M</td>\n",
       "      <td>NaN</td>\n",
       "      <td>Ecological Archives E090-118-D1.</td>\n",
       "      <td>male</td>\n",
       "    </tr>\n",
       "    <tr>\n",
       "      <th>5</th>\n",
       "      <td>6</td>\n",
       "      <td>7</td>\n",
       "      <td>16</td>\n",
       "      <td>1977</td>\n",
       "      <td>1</td>\n",
       "      <td>PF</td>\n",
       "      <td>M</td>\n",
       "      <td>NaN</td>\n",
       "      <td>Ecological Archives E090-118-D1.</td>\n",
       "      <td>male</td>\n",
       "    </tr>\n",
       "    <tr>\n",
       "      <th>6</th>\n",
       "      <td>7</td>\n",
       "      <td>7</td>\n",
       "      <td>16</td>\n",
       "      <td>1977</td>\n",
       "      <td>2</td>\n",
       "      <td>PE</td>\n",
       "      <td>F</td>\n",
       "      <td>NaN</td>\n",
       "      <td>Ecological Archives E090-118-D1.</td>\n",
       "      <td>female</td>\n",
       "    </tr>\n",
       "    <tr>\n",
       "      <th>7</th>\n",
       "      <td>8</td>\n",
       "      <td>7</td>\n",
       "      <td>16</td>\n",
       "      <td>1977</td>\n",
       "      <td>1</td>\n",
       "      <td>DM</td>\n",
       "      <td>M</td>\n",
       "      <td>NaN</td>\n",
       "      <td>Ecological Archives E090-118-D1.</td>\n",
       "      <td>male</td>\n",
       "    </tr>\n",
       "    <tr>\n",
       "      <th>8</th>\n",
       "      <td>9</td>\n",
       "      <td>7</td>\n",
       "      <td>16</td>\n",
       "      <td>1977</td>\n",
       "      <td>1</td>\n",
       "      <td>DM</td>\n",
       "      <td>NaN</td>\n",
       "      <td>NaN</td>\n",
       "      <td>Ecological Archives E090-118-D1.</td>\n",
       "      <td>NaN</td>\n",
       "    </tr>\n",
       "    <tr>\n",
       "      <th>8</th>\n",
       "      <td>9</td>\n",
       "      <td>7</td>\n",
       "      <td>16</td>\n",
       "      <td>1977</td>\n",
       "      <td>1</td>\n",
       "      <td>SH</td>\n",
       "      <td>NaN</td>\n",
       "      <td>NaN</td>\n",
       "      <td>Ecological Archives E090-118-D1.</td>\n",
       "      <td>NaN</td>\n",
       "    </tr>\n",
       "    <tr>\n",
       "      <th>9</th>\n",
       "      <td>10</td>\n",
       "      <td>7</td>\n",
       "      <td>16</td>\n",
       "      <td>1977</td>\n",
       "      <td>6</td>\n",
       "      <td>PF</td>\n",
       "      <td>F</td>\n",
       "      <td>NaN</td>\n",
       "      <td>Ecological Archives E090-118-D1.</td>\n",
       "      <td>female</td>\n",
       "    </tr>\n",
       "  </tbody>\n",
       "</table>\n",
       "</div>"
      ],
      "text/plain": [
       "   record_id  month  day  year  plot species verbatimSex  wgt  \\\n",
       "0          1      7   16  1977     2     NaN           M  NaN   \n",
       "1          2      7   16  1977     3     NaN           M  NaN   \n",
       "2          3      7   16  1977     2      DM           F  NaN   \n",
       "3          4      7   16  1977     7      DM           M  NaN   \n",
       "4          5      7   16  1977     3      DM           M  NaN   \n",
       "5          6      7   16  1977     1      PF           M  NaN   \n",
       "6          7      7   16  1977     2      PE           F  NaN   \n",
       "7          8      7   16  1977     1      DM           M  NaN   \n",
       "8          9      7   16  1977     1      DM         NaN  NaN   \n",
       "8          9      7   16  1977     1      SH         NaN  NaN   \n",
       "9         10      7   16  1977     6      PF           F  NaN   \n",
       "\n",
       "                        datasetName     sex  \n",
       "0  Ecological Archives E090-118-D1.    male  \n",
       "1  Ecological Archives E090-118-D1.    male  \n",
       "2  Ecological Archives E090-118-D1.  female  \n",
       "3  Ecological Archives E090-118-D1.    male  \n",
       "4  Ecological Archives E090-118-D1.    male  \n",
       "5  Ecological Archives E090-118-D1.    male  \n",
       "6  Ecological Archives E090-118-D1.  female  \n",
       "7  Ecological Archives E090-118-D1.    male  \n",
       "8  Ecological Archives E090-118-D1.     NaN  \n",
       "8  Ecological Archives E090-118-D1.     NaN  \n",
       "9  Ecological Archives E090-118-D1.  female  "
      ]
     },
     "execution_count": 23,
     "metadata": {},
     "output_type": "execute_result"
    }
   ],
   "source": [
    "survey_data_decoupled.head(11)"
   ]
  },
  {
   "cell_type": "markdown",
   "metadata": {},
   "source": [
    "### Create new occurrence identifier"
   ]
  },
  {
   "cell_type": "markdown",
   "metadata": {},
   "source": [
    "The `record_id` is no longer a unique identifier for each observation after the decoupling of this data set. We will make a new data set specific identifier, by adding a column called `occurrenceID` that takes a new counter as identifier. As a simple and straightforward approach, we will use a new counter for the whole dataset, starting with 1:"
   ]
  },
  {
   "cell_type": "code",
   "execution_count": 24,
   "metadata": {},
   "outputs": [
    {
     "data": {
      "text/plain": [
       "array([    1,     2,     3, ..., 35548, 35549, 35550])"
      ]
     },
     "execution_count": 24,
     "metadata": {},
     "output_type": "execute_result"
    }
   ],
   "source": [
    "np.arange(1, len(survey_data_decoupled) + 1, 1)"
   ]
  },
  {
   "cell_type": "markdown",
   "metadata": {},
   "source": [
    "To create a new column with header `occurrenceID` with the values 1 -> 35550 as field values:"
   ]
  },
  {
   "cell_type": "code",
   "execution_count": 25,
   "metadata": {},
   "outputs": [],
   "source": [
    "survey_data_decoupled[\"occurrenceID\"] = np.arange(1, len(survey_data_decoupled) + 1, 1)"
   ]
  },
  {
   "cell_type": "markdown",
   "metadata": {},
   "source": [
    "To overcome the confusion on having both a `record_id` and `occurrenceID` field, we will remove the `record_id` term:"
   ]
  },
  {
   "cell_type": "code",
   "execution_count": 26,
   "metadata": {},
   "outputs": [],
   "source": [
    "survey_data_decoupled = survey_data_decoupled.drop(columns=\"record_id\")"
   ]
  },
  {
   "cell_type": "markdown",
   "metadata": {},
   "source": [
    "Hence, columns can be `drop`-ped out of a DataFrame"
   ]
  },
  {
   "cell_type": "code",
   "execution_count": 27,
   "metadata": {},
   "outputs": [
    {
     "data": {
      "text/html": [
       "<div>\n",
       "<style scoped>\n",
       "    .dataframe tbody tr th:only-of-type {\n",
       "        vertical-align: middle;\n",
       "    }\n",
       "\n",
       "    .dataframe tbody tr th {\n",
       "        vertical-align: top;\n",
       "    }\n",
       "\n",
       "    .dataframe thead th {\n",
       "        text-align: right;\n",
       "    }\n",
       "</style>\n",
       "<table border=\"1\" class=\"dataframe\">\n",
       "  <thead>\n",
       "    <tr style=\"text-align: right;\">\n",
       "      <th></th>\n",
       "      <th>month</th>\n",
       "      <th>day</th>\n",
       "      <th>year</th>\n",
       "      <th>plot</th>\n",
       "      <th>species</th>\n",
       "      <th>verbatimSex</th>\n",
       "      <th>wgt</th>\n",
       "      <th>datasetName</th>\n",
       "      <th>sex</th>\n",
       "      <th>occurrenceID</th>\n",
       "    </tr>\n",
       "  </thead>\n",
       "  <tbody>\n",
       "    <tr>\n",
       "      <th>0</th>\n",
       "      <td>7</td>\n",
       "      <td>16</td>\n",
       "      <td>1977</td>\n",
       "      <td>2</td>\n",
       "      <td>NaN</td>\n",
       "      <td>M</td>\n",
       "      <td>NaN</td>\n",
       "      <td>Ecological Archives E090-118-D1.</td>\n",
       "      <td>male</td>\n",
       "      <td>1</td>\n",
       "    </tr>\n",
       "    <tr>\n",
       "      <th>1</th>\n",
       "      <td>7</td>\n",
       "      <td>16</td>\n",
       "      <td>1977</td>\n",
       "      <td>3</td>\n",
       "      <td>NaN</td>\n",
       "      <td>M</td>\n",
       "      <td>NaN</td>\n",
       "      <td>Ecological Archives E090-118-D1.</td>\n",
       "      <td>male</td>\n",
       "      <td>2</td>\n",
       "    </tr>\n",
       "    <tr>\n",
       "      <th>2</th>\n",
       "      <td>7</td>\n",
       "      <td>16</td>\n",
       "      <td>1977</td>\n",
       "      <td>2</td>\n",
       "      <td>DM</td>\n",
       "      <td>F</td>\n",
       "      <td>NaN</td>\n",
       "      <td>Ecological Archives E090-118-D1.</td>\n",
       "      <td>female</td>\n",
       "      <td>3</td>\n",
       "    </tr>\n",
       "    <tr>\n",
       "      <th>3</th>\n",
       "      <td>7</td>\n",
       "      <td>16</td>\n",
       "      <td>1977</td>\n",
       "      <td>7</td>\n",
       "      <td>DM</td>\n",
       "      <td>M</td>\n",
       "      <td>NaN</td>\n",
       "      <td>Ecological Archives E090-118-D1.</td>\n",
       "      <td>male</td>\n",
       "      <td>4</td>\n",
       "    </tr>\n",
       "    <tr>\n",
       "      <th>4</th>\n",
       "      <td>7</td>\n",
       "      <td>16</td>\n",
       "      <td>1977</td>\n",
       "      <td>3</td>\n",
       "      <td>DM</td>\n",
       "      <td>M</td>\n",
       "      <td>NaN</td>\n",
       "      <td>Ecological Archives E090-118-D1.</td>\n",
       "      <td>male</td>\n",
       "      <td>5</td>\n",
       "    </tr>\n",
       "    <tr>\n",
       "      <th>5</th>\n",
       "      <td>7</td>\n",
       "      <td>16</td>\n",
       "      <td>1977</td>\n",
       "      <td>1</td>\n",
       "      <td>PF</td>\n",
       "      <td>M</td>\n",
       "      <td>NaN</td>\n",
       "      <td>Ecological Archives E090-118-D1.</td>\n",
       "      <td>male</td>\n",
       "      <td>6</td>\n",
       "    </tr>\n",
       "    <tr>\n",
       "      <th>6</th>\n",
       "      <td>7</td>\n",
       "      <td>16</td>\n",
       "      <td>1977</td>\n",
       "      <td>2</td>\n",
       "      <td>PE</td>\n",
       "      <td>F</td>\n",
       "      <td>NaN</td>\n",
       "      <td>Ecological Archives E090-118-D1.</td>\n",
       "      <td>female</td>\n",
       "      <td>7</td>\n",
       "    </tr>\n",
       "    <tr>\n",
       "      <th>7</th>\n",
       "      <td>7</td>\n",
       "      <td>16</td>\n",
       "      <td>1977</td>\n",
       "      <td>1</td>\n",
       "      <td>DM</td>\n",
       "      <td>M</td>\n",
       "      <td>NaN</td>\n",
       "      <td>Ecological Archives E090-118-D1.</td>\n",
       "      <td>male</td>\n",
       "      <td>8</td>\n",
       "    </tr>\n",
       "    <tr>\n",
       "      <th>8</th>\n",
       "      <td>7</td>\n",
       "      <td>16</td>\n",
       "      <td>1977</td>\n",
       "      <td>1</td>\n",
       "      <td>DM</td>\n",
       "      <td>NaN</td>\n",
       "      <td>NaN</td>\n",
       "      <td>Ecological Archives E090-118-D1.</td>\n",
       "      <td>NaN</td>\n",
       "      <td>9</td>\n",
       "    </tr>\n",
       "    <tr>\n",
       "      <th>8</th>\n",
       "      <td>7</td>\n",
       "      <td>16</td>\n",
       "      <td>1977</td>\n",
       "      <td>1</td>\n",
       "      <td>SH</td>\n",
       "      <td>NaN</td>\n",
       "      <td>NaN</td>\n",
       "      <td>Ecological Archives E090-118-D1.</td>\n",
       "      <td>NaN</td>\n",
       "      <td>10</td>\n",
       "    </tr>\n",
       "  </tbody>\n",
       "</table>\n",
       "</div>"
      ],
      "text/plain": [
       "   month  day  year  plot species verbatimSex  wgt  \\\n",
       "0      7   16  1977     2     NaN           M  NaN   \n",
       "1      7   16  1977     3     NaN           M  NaN   \n",
       "2      7   16  1977     2      DM           F  NaN   \n",
       "3      7   16  1977     7      DM           M  NaN   \n",
       "4      7   16  1977     3      DM           M  NaN   \n",
       "5      7   16  1977     1      PF           M  NaN   \n",
       "6      7   16  1977     2      PE           F  NaN   \n",
       "7      7   16  1977     1      DM           M  NaN   \n",
       "8      7   16  1977     1      DM         NaN  NaN   \n",
       "8      7   16  1977     1      SH         NaN  NaN   \n",
       "\n",
       "                        datasetName     sex  occurrenceID  \n",
       "0  Ecological Archives E090-118-D1.    male             1  \n",
       "1  Ecological Archives E090-118-D1.    male             2  \n",
       "2  Ecological Archives E090-118-D1.  female             3  \n",
       "3  Ecological Archives E090-118-D1.    male             4  \n",
       "4  Ecological Archives E090-118-D1.    male             5  \n",
       "5  Ecological Archives E090-118-D1.    male             6  \n",
       "6  Ecological Archives E090-118-D1.  female             7  \n",
       "7  Ecological Archives E090-118-D1.    male             8  \n",
       "8  Ecological Archives E090-118-D1.     NaN             9  \n",
       "8  Ecological Archives E090-118-D1.     NaN            10  "
      ]
     },
     "execution_count": 27,
     "metadata": {},
     "output_type": "execute_result"
    }
   ],
   "source": [
    "survey_data_decoupled.head(10)"
   ]
  },
  {
   "cell_type": "markdown",
   "metadata": {},
   "source": [
    "### Converting the date values"
   ]
  },
  {
   "cell_type": "markdown",
   "metadata": {},
   "source": [
    "In the survey data set we received, the `month`, `day`, and `year` columns are containing the information about the date, i.e. `eventDate` in DarwinCore terms. We want this data in a ISO format `YYYY-MM-DD`. A convenient Pandas function is the usage of `to_datetime`, which provides multiple options to interpret dates. One of the options is the automatic interpretation of some 'typical' columns, like `year`, `month` and `day`, when passing a `DataFrame`."
   ]
  },
  {
   "cell_type": "code",
   "execution_count": 28,
   "metadata": {},
   "outputs": [],
   "source": [
    "# pd.to_datetime(survey_data_decoupled[[\"year\", \"month\", \"day\"]])  # uncomment the line and test this statement"
   ]
  },
  {
   "cell_type": "markdown",
   "metadata": {},
   "source": [
    "This is not working, not all dates can be interpreted... We should get some more information on the reason of the errors. By using the option `coerce`, the problem makers will be labeled as a missing value `NaT`. We can count the number of dates that can not be interpreted:"
   ]
  },
  {
   "cell_type": "code",
   "execution_count": 29,
   "metadata": {},
   "outputs": [
    {
     "data": {
      "text/plain": [
       "136"
      ]
     },
     "execution_count": 29,
     "metadata": {},
     "output_type": "execute_result"
    }
   ],
   "source": [
    "sum(pd.to_datetime(survey_data_decoupled[[\"year\", \"month\", \"day\"]], errors='coerce').isna())"
   ]
  },
  {
   "cell_type": "markdown",
   "metadata": {},
   "source": [
    "<div class=\"alert alert-success\">\n",
    "\n",
    "**EXERCISE**\n",
    "\n",
    "- Make a selection of `survey_data_decoupled` containing those records that can not correctly be interpreted as date values and save the resulting `DataFrame` as a new variable `trouble_makers`\n",
    "\n",
    "<details><summary>Hints</summary>\n",
    "\n",
    "- The result of the `.isna()` method is a `Series` of boolean values, which can be used to make a selection (so called boolean indexing or filtering)\n",
    "\n",
    "</details>\n",
    "\n",
    "</div>"
   ]
  },
  {
   "cell_type": "code",
   "execution_count": 30,
   "metadata": {
    "tags": [
     "nbtutor-solution"
    ]
   },
   "outputs": [],
   "source": [
    "mask = pd.to_datetime(survey_data_decoupled[[\"year\", \"month\", \"day\"]], errors='coerce').isna()\n",
    "trouble_makers = survey_data_decoupled[mask]"
   ]
  },
  {
   "cell_type": "markdown",
   "metadata": {},
   "source": [
    "Checking some charactersitics of the trouble_makers:"
   ]
  },
  {
   "cell_type": "code",
   "execution_count": 31,
   "metadata": {},
   "outputs": [
    {
     "data": {
      "text/html": [
       "<div>\n",
       "<style scoped>\n",
       "    .dataframe tbody tr th:only-of-type {\n",
       "        vertical-align: middle;\n",
       "    }\n",
       "\n",
       "    .dataframe tbody tr th {\n",
       "        vertical-align: top;\n",
       "    }\n",
       "\n",
       "    .dataframe thead th {\n",
       "        text-align: right;\n",
       "    }\n",
       "</style>\n",
       "<table border=\"1\" class=\"dataframe\">\n",
       "  <thead>\n",
       "    <tr style=\"text-align: right;\">\n",
       "      <th></th>\n",
       "      <th>month</th>\n",
       "      <th>day</th>\n",
       "      <th>year</th>\n",
       "      <th>plot</th>\n",
       "      <th>species</th>\n",
       "      <th>verbatimSex</th>\n",
       "      <th>wgt</th>\n",
       "      <th>datasetName</th>\n",
       "      <th>sex</th>\n",
       "      <th>occurrenceID</th>\n",
       "    </tr>\n",
       "  </thead>\n",
       "  <tbody>\n",
       "    <tr>\n",
       "      <th>30649</th>\n",
       "      <td>4</td>\n",
       "      <td>31</td>\n",
       "      <td>2000</td>\n",
       "      <td>6</td>\n",
       "      <td>PP</td>\n",
       "      <td>F</td>\n",
       "      <td>19.0</td>\n",
       "      <td>Ecological Archives E090-118-D1.</td>\n",
       "      <td>female</td>\n",
       "      <td>30651</td>\n",
       "    </tr>\n",
       "    <tr>\n",
       "      <th>30650</th>\n",
       "      <td>4</td>\n",
       "      <td>31</td>\n",
       "      <td>2000</td>\n",
       "      <td>6</td>\n",
       "      <td>PB</td>\n",
       "      <td>M</td>\n",
       "      <td>32.0</td>\n",
       "      <td>Ecological Archives E090-118-D1.</td>\n",
       "      <td>male</td>\n",
       "      <td>30652</td>\n",
       "    </tr>\n",
       "    <tr>\n",
       "      <th>30651</th>\n",
       "      <td>4</td>\n",
       "      <td>31</td>\n",
       "      <td>2000</td>\n",
       "      <td>6</td>\n",
       "      <td>PB</td>\n",
       "      <td>F</td>\n",
       "      <td>30.0</td>\n",
       "      <td>Ecological Archives E090-118-D1.</td>\n",
       "      <td>female</td>\n",
       "      <td>30653</td>\n",
       "    </tr>\n",
       "    <tr>\n",
       "      <th>30652</th>\n",
       "      <td>4</td>\n",
       "      <td>31</td>\n",
       "      <td>2000</td>\n",
       "      <td>6</td>\n",
       "      <td>PP</td>\n",
       "      <td>M</td>\n",
       "      <td>20.0</td>\n",
       "      <td>Ecological Archives E090-118-D1.</td>\n",
       "      <td>male</td>\n",
       "      <td>30654</td>\n",
       "    </tr>\n",
       "    <tr>\n",
       "      <th>30653</th>\n",
       "      <td>4</td>\n",
       "      <td>31</td>\n",
       "      <td>2000</td>\n",
       "      <td>6</td>\n",
       "      <td>PP</td>\n",
       "      <td>M</td>\n",
       "      <td>24.0</td>\n",
       "      <td>Ecological Archives E090-118-D1.</td>\n",
       "      <td>male</td>\n",
       "      <td>30655</td>\n",
       "    </tr>\n",
       "  </tbody>\n",
       "</table>\n",
       "</div>"
      ],
      "text/plain": [
       "       month  day  year  plot species verbatimSex   wgt  \\\n",
       "30649      4   31  2000     6      PP           F  19.0   \n",
       "30650      4   31  2000     6      PB           M  32.0   \n",
       "30651      4   31  2000     6      PB           F  30.0   \n",
       "30652      4   31  2000     6      PP           M  20.0   \n",
       "30653      4   31  2000     6      PP           M  24.0   \n",
       "\n",
       "                            datasetName     sex  occurrenceID  \n",
       "30649  Ecological Archives E090-118-D1.  female         30651  \n",
       "30650  Ecological Archives E090-118-D1.    male         30652  \n",
       "30651  Ecological Archives E090-118-D1.  female         30653  \n",
       "30652  Ecological Archives E090-118-D1.    male         30654  \n",
       "30653  Ecological Archives E090-118-D1.    male         30655  "
      ]
     },
     "execution_count": 31,
     "metadata": {},
     "output_type": "execute_result"
    }
   ],
   "source": [
    "trouble_makers.head()"
   ]
  },
  {
   "cell_type": "code",
   "execution_count": 32,
   "metadata": {},
   "outputs": [
    {
     "data": {
      "text/plain": [
       "array([31])"
      ]
     },
     "execution_count": 32,
     "metadata": {},
     "output_type": "execute_result"
    }
   ],
   "source": [
    "trouble_makers[\"day\"].unique()"
   ]
  },
  {
   "cell_type": "code",
   "execution_count": 33,
   "metadata": {},
   "outputs": [
    {
     "data": {
      "text/plain": [
       "array([4, 9])"
      ]
     },
     "execution_count": 33,
     "metadata": {},
     "output_type": "execute_result"
    }
   ],
   "source": [
    "trouble_makers[\"month\"].unique()"
   ]
  },
  {
   "cell_type": "code",
   "execution_count": 34,
   "metadata": {},
   "outputs": [
    {
     "data": {
      "text/plain": [
       "array([2000])"
      ]
     },
     "execution_count": 34,
     "metadata": {},
     "output_type": "execute_result"
    }
   ],
   "source": [
    "trouble_makers[\"year\"].unique()"
   ]
  },
  {
   "cell_type": "markdown",
   "metadata": {},
   "source": [
    "The issue is the presence of day `31` during the months April and September of the year 2000. At this moment, we would have to recheck the original data in order to know how the issue could be solved. Apparently, - for this specific case - there has been a data-entry problem in 2000, making the `31` days during this period should actually be `30`. It would be optimal to correct this in the source data set, but for the exercise, we will correct it here."
   ]
  },
  {
   "cell_type": "markdown",
   "metadata": {},
   "source": [
    "<div class=\"alert alert-success\">\n",
    "\n",
    "**EXERCISE**\n",
    "\n",
    "- Assign in the `DataFrame` `survey_data_decoupled` all of the troublemakers `day` values the value 30 instead of 31.\n",
    "\n",
    "<details><summary>Hints</summary>\n",
    "\n",
    "- No `for`-loop is required, but use the same boolean mask to assign the new value to the correct rows.\n",
    "- Check `pandas_03b_indexing.ipynb` for the usage of `loc` and `iloc` to assign new values.\n",
    "- With `loc`, specify both the selecting for the rows and for the columns (`df.loc[row_indexer, column_indexer] = ..`).\n",
    "\n",
    "</details>\n",
    "\n",
    "</div>"
   ]
  },
  {
   "cell_type": "code",
   "execution_count": 35,
   "metadata": {
    "tags": [
     "nbtutor-solution"
    ]
   },
   "outputs": [],
   "source": [
    "mask = pd.to_datetime(survey_data_decoupled[[\"year\", \"month\", \"day\"]], errors='coerce').isna()\n",
    "survey_data_decoupled.loc[mask, \"day\"] = 30"
   ]
  },
  {
   "cell_type": "markdown",
   "metadata": {},
   "source": [
    "Now, we do the parsing again to create a proper `eventDate` field, containing the dates:"
   ]
  },
  {
   "cell_type": "code",
   "execution_count": 36,
   "metadata": {},
   "outputs": [],
   "source": [
    "survey_data_decoupled[\"eventDate\"] = \\\n",
    "    pd.to_datetime(survey_data_decoupled[[\"year\", \"month\", \"day\"]])"
   ]
  },
  {
   "cell_type": "markdown",
   "metadata": {},
   "source": [
    "<div class=\"alert alert-success\">\n",
    "\n",
    "**EXERCISE**\n",
    "\n",
    "- Check the number of observations for each year. Create a horizontal bar chart with the number of rows/observations for each year.\n",
    "\n",
    "<details><summary>Hints</summary>\n",
    "\n",
    "- To get the total number of observations, both the usage of `value_counts` as using `groupby` + `size` will work.  `value_counts` is a convenient function when all you need to do is counting rows.\n",
    "- When using `value_counts`, the years in the index will no longer be in ascending order. You can chain methods and include a `sort_index()` method to sort these again.\n",
    "\n",
    "</details>\n",
    "\n",
    "\n",
    "</div>"
   ]
  },
  {
   "cell_type": "code",
   "execution_count": 37,
   "metadata": {
    "tags": [
     "nbtutor-solution"
    ]
   },
   "outputs": [
    {
     "data": {
      "image/png": "[encoded data removed]",
      "text/plain": [
       "<Figure size 720x720 with 1 Axes>"
      ]
     },
     "metadata": {},
     "output_type": "display_data"
    }
   ],
   "source": [
    "(survey_data_decoupled[\"year\"]\n",
    "     .value_counts(sort=False)\n",
    "     .sort_index()\n",
    "     .plot(kind='barh', color=\"#00007f\", figsize=(10, 10)));"
   ]
  },
  {
   "cell_type": "code",
   "execution_count": 38,
   "metadata": {
    "tags": [
     "nbtutor-solution"
    ]
   },
   "outputs": [
    {
     "data": {
      "text/plain": [
       "<AxesSubplot:ylabel='year'>"
      ]
     },
     "execution_count": 38,
     "metadata": {},
     "output_type": "execute_result"
    },
    {
     "data": {
      "image/png": "[encoded data removed]",
      "text/plain": [
       "<Figure size 720x720 with 1 Axes>"
      ]
     },
     "metadata": {},
     "output_type": "display_data"
    }
   ],
   "source": [
    "(survey_data_decoupled\n",
    "     .groupby(\"year\")\n",
    "     .size()\n",
    "     .plot(kind='barh', color=\"#00007f\", figsize=(10, 10)))"
   ]
  },
  {
   "cell_type": "code",
   "execution_count": 39,
   "metadata": {},
   "outputs": [
    {
     "data": {
      "text/html": [
       "<div>\n",
       "<style scoped>\n",
       "    .dataframe tbody tr th:only-of-type {\n",
       "        vertical-align: middle;\n",
       "    }\n",
       "\n",
       "    .dataframe tbody tr th {\n",
       "        vertical-align: top;\n",
       "    }\n",
       "\n",
       "    .dataframe thead th {\n",
       "        text-align: right;\n",
       "    }\n",
       "</style>\n",
       "<table border=\"1\" class=\"dataframe\">\n",
       "  <thead>\n",
       "    <tr style=\"text-align: right;\">\n",
       "      <th></th>\n",
       "      <th>month</th>\n",
       "      <th>day</th>\n",
       "      <th>year</th>\n",
       "      <th>plot</th>\n",
       "      <th>species</th>\n",
       "      <th>verbatimSex</th>\n",
       "      <th>wgt</th>\n",
       "      <th>datasetName</th>\n",
       "      <th>sex</th>\n",
       "      <th>occurrenceID</th>\n",
       "      <th>eventDate</th>\n",
       "    </tr>\n",
       "  </thead>\n",
       "  <tbody>\n",
       "    <tr>\n",
       "      <th>0</th>\n",
       "      <td>7</td>\n",
       "      <td>16</td>\n",
       "      <td>1977</td>\n",
       "      <td>2</td>\n",
       "      <td>NaN</td>\n",
       "      <td>M</td>\n",
       "      <td>NaN</td>\n",
       "      <td>Ecological Archives E090-118-D1.</td>\n",
       "      <td>male</td>\n",
       "      <td>1</td>\n",
       "      <td>1977-07-16</td>\n",
       "    </tr>\n",
       "    <tr>\n",
       "      <th>1</th>\n",
       "      <td>7</td>\n",
       "      <td>16</td>\n",
       "      <td>1977</td>\n",
       "      <td>3</td>\n",
       "      <td>NaN</td>\n",
       "      <td>M</td>\n",
       "      <td>NaN</td>\n",
       "      <td>Ecological Archives E090-118-D1.</td>\n",
       "      <td>male</td>\n",
       "      <td>2</td>\n",
       "      <td>1977-07-16</td>\n",
       "    </tr>\n",
       "    <tr>\n",
       "      <th>2</th>\n",
       "      <td>7</td>\n",
       "      <td>16</td>\n",
       "      <td>1977</td>\n",
       "      <td>2</td>\n",
       "      <td>DM</td>\n",
       "      <td>F</td>\n",
       "      <td>NaN</td>\n",
       "      <td>Ecological Archives E090-118-D1.</td>\n",
       "      <td>female</td>\n",
       "      <td>3</td>\n",
       "      <td>1977-07-16</td>\n",
       "    </tr>\n",
       "    <tr>\n",
       "      <th>3</th>\n",
       "      <td>7</td>\n",
       "      <td>16</td>\n",
       "      <td>1977</td>\n",
       "      <td>7</td>\n",
       "      <td>DM</td>\n",
       "      <td>M</td>\n",
       "      <td>NaN</td>\n",
       "      <td>Ecological Archives E090-118-D1.</td>\n",
       "      <td>male</td>\n",
       "      <td>4</td>\n",
       "      <td>1977-07-16</td>\n",
       "    </tr>\n",
       "    <tr>\n",
       "      <th>4</th>\n",
       "      <td>7</td>\n",
       "      <td>16</td>\n",
       "      <td>1977</td>\n",
       "      <td>3</td>\n",
       "      <td>DM</td>\n",
       "      <td>M</td>\n",
       "      <td>NaN</td>\n",
       "      <td>Ecological Archives E090-118-D1.</td>\n",
       "      <td>male</td>\n",
       "      <td>5</td>\n",
       "      <td>1977-07-16</td>\n",
       "    </tr>\n",
       "  </tbody>\n",
       "</table>\n",
       "</div>"
      ],
      "text/plain": [
       "   month  day  year  plot species verbatimSex  wgt  \\\n",
       "0      7   16  1977     2     NaN           M  NaN   \n",
       "1      7   16  1977     3     NaN           M  NaN   \n",
       "2      7   16  1977     2      DM           F  NaN   \n",
       "3      7   16  1977     7      DM           M  NaN   \n",
       "4      7   16  1977     3      DM           M  NaN   \n",
       "\n",
       "                        datasetName     sex  occurrenceID  eventDate  \n",
       "0  Ecological Archives E090-118-D1.    male             1 1977-07-16  \n",
       "1  Ecological Archives E090-118-D1.    male             2 1977-07-16  \n",
       "2  Ecological Archives E090-118-D1.  female             3 1977-07-16  \n",
       "3  Ecological Archives E090-118-D1.    male             4 1977-07-16  \n",
       "4  Ecological Archives E090-118-D1.    male             5 1977-07-16  "
      ]
     },
     "execution_count": 39,
     "metadata": {},
     "output_type": "execute_result"
    }
   ],
   "source": [
    "survey_data_decoupled.head()"
   ]
  },
  {
   "cell_type": "markdown",
   "metadata": {},
   "source": [
    "Currently, the dates are stored in a python specific date format:"
   ]
  },
  {
   "cell_type": "code",
   "execution_count": 40,
   "metadata": {},
   "outputs": [
    {
     "data": {
      "text/plain": [
       "dtype('<M8[ns]')"
      ]
     },
     "execution_count": 40,
     "metadata": {},
     "output_type": "execute_result"
    }
   ],
   "source": [
    "survey_data_decoupled[\"eventDate\"].dtype"
   ]
  },
  {
   "cell_type": "markdown",
   "metadata": {},
   "source": [
    "This is great, because it allows for many functionalities using the `.dt` accessor:"
   ]
  },
  {
   "cell_type": "code",
   "execution_count": 41,
   "metadata": {},
   "outputs": [
    {
     "data": {
      "text/plain": [
       "<pandas.core.indexes.accessors.DatetimeProperties object at 0x7fbc0dac4670>"
      ]
     },
     "execution_count": 41,
     "metadata": {},
     "output_type": "execute_result"
    }
   ],
   "source": [
    "survey_data_decoupled.eventDate.dt #add a dot (.) and press TAB to explore the date options it provides"
   ]
  },
  {
   "cell_type": "markdown",
   "metadata": {},
   "source": [
    "<div class=\"alert alert-success\">\n",
    "\n",
    "**EXERCISE**\n",
    "\n",
    "- Create a horizontal bar chart with the number of records for each year (cfr. supra), but without using the column `year`, using the `eventDate` column directly.\n",
    "\n",
    "<details><summary>Hints</summary>\n",
    "\n",
    "- Check the `groupby` + `size` solution of the previous exercise and use this to start with. Replace the `year` inside the `groupby` method...\n",
    "\n",
    "</details>\n",
    "\n",
    "</div>"
   ]
  },
  {
   "cell_type": "code",
   "execution_count": 42,
   "metadata": {
    "tags": [
     "nbtutor-solution"
    ]
   },
   "outputs": [
    {
     "data": {
      "text/plain": [
       "<AxesSubplot:ylabel='eventDate'>"
      ]
     },
     "execution_count": 42,
     "metadata": {},
     "output_type": "execute_result"
    },
    {
     "data": {
      "image/png": "[encoded data removed]",
      "text/plain": [
       "<Figure size 720x720 with 1 Axes>"
      ]
     },
     "metadata": {},
     "output_type": "display_data"
    }
   ],
   "source": [
    "(survey_data_decoupled\n",
    "     .groupby(survey_data_decoupled[\"eventDate\"].dt.year)\n",
    "     .size()\n",
    "     .plot(kind='barh', color=\"#00007f\", figsize=(10, 10)))"
   ]
  },
  {
   "cell_type": "markdown",
   "metadata": {},
   "source": [
    "We actually do not need the `day`, `month`, `year` columns anymore, but feel free to use what suits you best."
   ]
  },
  {
   "cell_type": "markdown",
   "metadata": {},
   "source": [
    "<div class=\"alert alert-success\">\n",
    "\n",
    "**EXERCISE**\n",
    "\n",
    "- Create a bar chart with the number of records for each day of the week (`dayofweek`)\n",
    "\n",
    "<details><summary>Hints</summary>\n",
    "\n",
    "- Pandas has an accessor for `dayofweek` as well.\n",
    "- You can specify the days of the week yourself to improve the plot, or use the Python standard library `calendar.day_name` (import the calendar module first) to get the names.\n",
    "\n",
    "</details>\n",
    "\n",
    "</div>"
   ]
  },
  {
   "cell_type": "code",
   "execution_count": 43,
   "metadata": {
    "tags": [
     "nbtutor-solution"
    ]
   },
   "outputs": [
    {
     "data": {
      "image/png": "[encoded data removed]",
      "text/plain": [
       "<Figure size 432x432 with 1 Axes>"
      ]
     },
     "metadata": {},
     "output_type": "display_data"
    }
   ],
   "source": [
    "nrecords_by_dayofweek = survey_data_decoupled[\"eventDate\"].dt.dayofweek.value_counts().sort_index()\n",
    "\n",
    "fig, ax = plt.subplots(figsize=(6, 6))\n",
    "nrecords_by_dayofweek.plot(kind=\"barh\", color=\"#00007f\", ax=ax);\n",
    "# If you want to represent the ticklabels as proper names, uncomment the following line:\n",
    "# ax.set_yticklabels([\"Monday\", \"Tuesday\", \"Wednesday\", \"Thursday\", \"Friday\", \"Saturday\", \"Sunday\"]);\n",
    "\n",
    "# Python standard library has a lot of useful functionalities! So why not use them?\n",
    "#import calendar\n",
    "#ax.set_yticklabels(calendar.day_name);"
   ]
  },
  {
   "cell_type": "markdown",
   "metadata": {},
   "source": [
    "When saving the information to a file (e.g. `CSV`-file), this data type will be automatically converted to a string representation. However, we could also decide to explicitly provide the string format the dates are stored (losing the date type functionalities), in order to have full control on the way these dates are formatted:"
   ]
  },
  {
   "cell_type": "code",
   "execution_count": 44,
   "metadata": {},
   "outputs": [],
   "source": [
    "survey_data_decoupled[\"eventDate\"] = survey_data_decoupled[\"eventDate\"].dt.strftime('%Y-%m-%d')"
   ]
  },
  {
   "cell_type": "code",
   "execution_count": 45,
   "metadata": {},
   "outputs": [
    {
     "data": {
      "text/plain": [
       "0    1977-07-16\n",
       "1    1977-07-16\n",
       "2    1977-07-16\n",
       "3    1977-07-16\n",
       "4    1977-07-16\n",
       "Name: eventDate, dtype: object"
      ]
     },
     "execution_count": 45,
     "metadata": {},
     "output_type": "execute_result"
    }
   ],
   "source": [
    "survey_data_decoupled[\"eventDate\"].head()"
   ]
  },
  {
   "cell_type": "markdown",
   "metadata": {},
   "source": [
    "For the remainder, let's remove the day/year/month columns."
   ]
  },
  {
   "cell_type": "code",
   "execution_count": 46,
   "metadata": {},
   "outputs": [],
   "source": [
    "survey_data_decoupled = survey_data_decoupled.drop(columns=[\"day\", \"month\", \"year\"])"
   ]
  },
  {
   "cell_type": "markdown",
   "metadata": {},
   "source": [
    "## 2. Add species names to dataset"
   ]
  },
  {
   "cell_type": "markdown",
   "metadata": {},
   "source": [
    "The column `species` only provides a short identifier in the survey overview. The name information is stored in a separate file `species.csv`. We want our data set to include this information, read in the data and add it to our survey data set:"
   ]
  },
  {
   "cell_type": "markdown",
   "metadata": {},
   "source": [
    "<div class=\"alert alert-success\">\n",
    "\n",
    "**EXERCISE**\n",
    "\n",
    "- Read in the 'species.csv' file and save the resulting `DataFrame` as variable `species_data`.\n",
    "\n",
    "<details><summary>Hints</summary>\n",
    "\n",
    "- Check the delimiter (`sep`) parameter of the `read_csv` function.\n",
    "\n",
    "</details>\n",
    "\n",
    "</div>"
   ]
  },
  {
   "cell_type": "code",
   "execution_count": 47,
   "metadata": {
    "tags": [
     "nbtutor-solution"
    ]
   },
   "outputs": [],
   "source": [
    "species_data = pd.read_csv(\"data/species.csv\", sep=\";\")"
   ]
  },
  {
   "cell_type": "code",
   "execution_count": 48,
   "metadata": {},
   "outputs": [
    {
     "data": {
      "text/html": [
       "<div>\n",
       "<style scoped>\n",
       "    .dataframe tbody tr th:only-of-type {\n",
       "        vertical-align: middle;\n",
       "    }\n",
       "\n",
       "    .dataframe tbody tr th {\n",
       "        vertical-align: top;\n",
       "    }\n",
       "\n",
       "    .dataframe thead th {\n",
       "        text-align: right;\n",
       "    }\n",
       "</style>\n",
       "<table border=\"1\" class=\"dataframe\">\n",
       "  <thead>\n",
       "    <tr style=\"text-align: right;\">\n",
       "      <th></th>\n",
       "      <th>species_id</th>\n",
       "      <th>genus</th>\n",
       "      <th>species</th>\n",
       "      <th>taxa</th>\n",
       "    </tr>\n",
       "  </thead>\n",
       "  <tbody>\n",
       "    <tr>\n",
       "      <th>0</th>\n",
       "      <td>AB</td>\n",
       "      <td>Amphispiza</td>\n",
       "      <td>bilineata</td>\n",
       "      <td>Bird</td>\n",
       "    </tr>\n",
       "    <tr>\n",
       "      <th>1</th>\n",
       "      <td>AH</td>\n",
       "      <td>Ammospermophilus</td>\n",
       "      <td>harrisi</td>\n",
       "      <td>Rodent-not censused</td>\n",
       "    </tr>\n",
       "    <tr>\n",
       "      <th>2</th>\n",
       "      <td>AS</td>\n",
       "      <td>Ammodramus</td>\n",
       "      <td>savannarum</td>\n",
       "      <td>Bird</td>\n",
       "    </tr>\n",
       "    <tr>\n",
       "      <th>3</th>\n",
       "      <td>BA</td>\n",
       "      <td>Baiomys</td>\n",
       "      <td>taylori</td>\n",
       "      <td>Rodent</td>\n",
       "    </tr>\n",
       "    <tr>\n",
       "      <th>4</th>\n",
       "      <td>CB</td>\n",
       "      <td>Campylorhynchus</td>\n",
       "      <td>brunneicapillus</td>\n",
       "      <td>Bird</td>\n",
       "    </tr>\n",
       "  </tbody>\n",
       "</table>\n",
       "</div>"
      ],
      "text/plain": [
       "  species_id             genus          species                 taxa\n",
       "0         AB        Amphispiza        bilineata                 Bird\n",
       "1         AH  Ammospermophilus          harrisi  Rodent-not censused\n",
       "2         AS        Ammodramus       savannarum                 Bird\n",
       "3         BA           Baiomys          taylori               Rodent\n",
       "4         CB   Campylorhynchus  brunneicapillus                 Bird"
      ]
     },
     "execution_count": 48,
     "metadata": {},
     "output_type": "execute_result"
    }
   ],
   "source": [
    "species_data.head()"
   ]
  },
  {
   "cell_type": "markdown",
   "metadata": {},
   "source": [
    "### Fix a wrong acronym naming"
   ]
  },
  {
   "cell_type": "markdown",
   "metadata": {},
   "source": [
    "When reviewing the metadata, you see that in the data-file the acronym `NE` is used to describe `Neotoma albigula`, whereas in the [metadata description](http://esapubs.org/archive/ecol/E090/118/Portal_rodent_metadata.htm), the acronym `NA` is used."
   ]
  },
  {
   "cell_type": "markdown",
   "metadata": {},
   "source": [
    "<div class=\"alert alert-success\">\n",
    "\n",
    "**EXERCISE**\n",
    "\n",
    "- Convert the value of 'NE' to 'NA' by using Boolean indexing/Filtering for the `species_id` column.\n",
    "\n",
    "<details><summary>Hints</summary>\n",
    "\n",
    "- To assign a new value, use the `loc` operator.\n",
    "- With `loc`, specify both the selecting for the rows and for the columns (`df.loc[row_indexer, column_indexer] = ..`).\n",
    "\n",
    "</details>\n",
    "\n",
    "</div>"
   ]
  },
  {
   "cell_type": "code",
   "execution_count": 49,
   "metadata": {
    "tags": [
     "nbtutor-solution"
    ]
   },
   "outputs": [],
   "source": [
    "species_data.loc[species_data[\"species_id\"] == \"NE\", \"species_id\"] = \"NA\""
   ]
  },
  {
   "cell_type": "markdown",
   "metadata": {},
   "source": [
    "### Merging surveys and species"
   ]
  },
  {
   "cell_type": "markdown",
   "metadata": {},
   "source": [
    "As we now prepared the two series, we can combine the data, using again the `pd.merge` operation."
   ]
  },
  {
   "cell_type": "markdown",
   "metadata": {},
   "source": [
    "We want to add the data of the species to the survey data, in order to see the full species names in the combined data table."
   ]
  },
  {
   "cell_type": "markdown",
   "metadata": {},
   "source": [
    "<div class=\"alert alert-success\">\n",
    "\n",
    "**EXERCISE**\n",
    "\n",
    "Combine the DataFrames `survey_data_plots` and the `DataFrame` `species_data` by adding the corresponding species information (name, class, kingdom,..) to the individual observations. Assign the output to a new variable `survey_data_species`.\n",
    "\n",
    "<details><summary>Hints</summary>\n",
    "\n",
    "- This is an example of a database JOIN operation. Pandas provides the `pd.merge` function to join two data sets using a common identifier.\n",
    "- Take into account that our key-column is different for `species_data` and `survey_data_plots`, respectively `species` and `species_id`. The `pd.merge()` function has `left_on` and `right_on` keywords to specify the name of the column in the left and right `DataFrame` to merge on.\n",
    "\n",
    "</details>"
   ]
  },
  {
   "cell_type": "code",
   "execution_count": 51,
   "metadata": {
    "tags": [
     "nbtutor-solution"
    ]
   },
   "outputs": [],
   "source": [
    "survey_data_species = pd.merge(survey_data_decoupled, species_data, how=\"left\",  # LEFT OR INNER?\n",
    "                                left_on=\"species\", right_on=\"species_id\")"
   ]
  },
  {
   "cell_type": "code",
   "execution_count": 52,
   "metadata": {},
   "outputs": [
    {
     "data": {
      "text/plain": [
       "35550"
      ]
     },
     "execution_count": 52,
     "metadata": {},
     "output_type": "execute_result"
    }
   ],
   "source": [
    "len(survey_data_species) # check length after join operation"
   ]
  },
  {
   "cell_type": "markdown",
   "metadata": {},
   "source": [
    "The join is ok, but we are left with some redundant columns and wrong naming:"
   ]
  },
  {
   "cell_type": "code",
   "execution_count": 53,
   "metadata": {},
   "outputs": [
    {
     "data": {
      "text/html": [
       "<div>\n",
       "<style scoped>\n",
       "    .dataframe tbody tr th:only-of-type {\n",
       "        vertical-align: middle;\n",
       "    }\n",
       "\n",
       "    .dataframe tbody tr th {\n",
       "        vertical-align: top;\n",
       "    }\n",
       "\n",
       "    .dataframe thead th {\n",
       "        text-align: right;\n",
       "    }\n",
       "</style>\n",
       "<table border=\"1\" class=\"dataframe\">\n",
       "  <thead>\n",
       "    <tr style=\"text-align: right;\">\n",
       "      <th></th>\n",
       "      <th>plot</th>\n",
       "      <th>species_x</th>\n",
       "      <th>verbatimSex</th>\n",
       "      <th>wgt</th>\n",
       "      <th>datasetName</th>\n",
       "      <th>sex</th>\n",
       "      <th>occurrenceID</th>\n",
       "      <th>eventDate</th>\n",
       "      <th>species_id</th>\n",
       "      <th>genus</th>\n",
       "      <th>species_y</th>\n",
       "      <th>taxa</th>\n",
       "    </tr>\n",
       "  </thead>\n",
       "  <tbody>\n",
       "    <tr>\n",
       "      <th>0</th>\n",
       "      <td>2</td>\n",
       "      <td>NaN</td>\n",
       "      <td>M</td>\n",
       "      <td>NaN</td>\n",
       "      <td>Ecological Archives E090-118-D1.</td>\n",
       "      <td>male</td>\n",
       "      <td>1</td>\n",
       "      <td>1977-07-16</td>\n",
       "      <td>NaN</td>\n",
       "      <td>NaN</td>\n",
       "      <td>NaN</td>\n",
       "      <td>NaN</td>\n",
       "    </tr>\n",
       "    <tr>\n",
       "      <th>1</th>\n",
       "      <td>3</td>\n",
       "      <td>NaN</td>\n",
       "      <td>M</td>\n",
       "      <td>NaN</td>\n",
       "      <td>Ecological Archives E090-118-D1.</td>\n",
       "      <td>male</td>\n",
       "      <td>2</td>\n",
       "      <td>1977-07-16</td>\n",
       "      <td>NaN</td>\n",
       "      <td>NaN</td>\n",
       "      <td>NaN</td>\n",
       "      <td>NaN</td>\n",
       "    </tr>\n",
       "    <tr>\n",
       "      <th>2</th>\n",
       "      <td>2</td>\n",
       "      <td>DM</td>\n",
       "      <td>F</td>\n",
       "      <td>NaN</td>\n",
       "      <td>Ecological Archives E090-118-D1.</td>\n",
       "      <td>female</td>\n",
       "      <td>3</td>\n",
       "      <td>1977-07-16</td>\n",
       "      <td>DM</td>\n",
       "      <td>Dipodomys</td>\n",
       "      <td>merriami</td>\n",
       "      <td>Rodent</td>\n",
       "    </tr>\n",
       "    <tr>\n",
       "      <th>3</th>\n",
       "      <td>7</td>\n",
       "      <td>DM</td>\n",
       "      <td>M</td>\n",
       "      <td>NaN</td>\n",
       "      <td>Ecological Archives E090-118-D1.</td>\n",
       "      <td>male</td>\n",
       "      <td>4</td>\n",
       "      <td>1977-07-16</td>\n",
       "      <td>DM</td>\n",
       "      <td>Dipodomys</td>\n",
       "      <td>merriami</td>\n",
       "      <td>Rodent</td>\n",
       "    </tr>\n",
       "    <tr>\n",
       "      <th>4</th>\n",
       "      <td>3</td>\n",
       "      <td>DM</td>\n",
       "      <td>M</td>\n",
       "      <td>NaN</td>\n",
       "      <td>Ecological Archives E090-118-D1.</td>\n",
       "      <td>male</td>\n",
       "      <td>5</td>\n",
       "      <td>1977-07-16</td>\n",
       "      <td>DM</td>\n",
       "      <td>Dipodomys</td>\n",
       "      <td>merriami</td>\n",
       "      <td>Rodent</td>\n",
       "    </tr>\n",
       "  </tbody>\n",
       "</table>\n",
       "</div>"
      ],
      "text/plain": [
       "   plot species_x verbatimSex  wgt                       datasetName     sex  \\\n",
       "0     2       NaN           M  NaN  Ecological Archives E090-118-D1.    male   \n",
       "1     3       NaN           M  NaN  Ecological Archives E090-118-D1.    male   \n",
       "2     2        DM           F  NaN  Ecological Archives E090-118-D1.  female   \n",
       "3     7        DM           M  NaN  Ecological Archives E090-118-D1.    male   \n",
       "4     3        DM           M  NaN  Ecological Archives E090-118-D1.    male   \n",
       "\n",
       "   occurrenceID   eventDate species_id      genus species_y    taxa  \n",
       "0             1  1977-07-16        NaN        NaN       NaN     NaN  \n",
       "1             2  1977-07-16        NaN        NaN       NaN     NaN  \n",
       "2             3  1977-07-16         DM  Dipodomys  merriami  Rodent  \n",
       "3             4  1977-07-16         DM  Dipodomys  merriami  Rodent  \n",
       "4             5  1977-07-16         DM  Dipodomys  merriami  Rodent  "
      ]
     },
     "execution_count": 53,
     "metadata": {},
     "output_type": "execute_result"
    }
   ],
   "source": [
    "survey_data_species.head()"
   ]
  },
  {
   "cell_type": "markdown",
   "metadata": {},
   "source": [
    "We do not need the columns `species_x` and `species_id` column anymore, as we will use the scientific names from now on:"
   ]
  },
  {
   "cell_type": "code",
   "execution_count": 54,
   "metadata": {},
   "outputs": [],
   "source": [
    "survey_data_species = survey_data_species.drop([\"species_x\", \"species_id\"], axis=1)"
   ]
  },
  {
   "cell_type": "markdown",
   "metadata": {},
   "source": [
    "The column `species_y` could just be named `species`:"
   ]
  },
  {
   "cell_type": "code",
   "execution_count": 55,
   "metadata": {},
   "outputs": [],
   "source": [
    "survey_data_species = survey_data_species.rename(columns={\"species_y\": \"species\"})"
   ]
  },
  {
   "cell_type": "code",
   "execution_count": 56,
   "metadata": {},
   "outputs": [
    {
     "data": {
      "text/html": [
       "<div>\n",
       "<style scoped>\n",
       "    .dataframe tbody tr th:only-of-type {\n",
       "        vertical-align: middle;\n",
       "    }\n",
       "\n",
       "    .dataframe tbody tr th {\n",
       "        vertical-align: top;\n",
       "    }\n",
       "\n",
       "    .dataframe thead th {\n",
       "        text-align: right;\n",
       "    }\n",
       "</style>\n",
       "<table border=\"1\" class=\"dataframe\">\n",
       "  <thead>\n",
       "    <tr style=\"text-align: right;\">\n",
       "      <th></th>\n",
       "      <th>plot</th>\n",
       "      <th>verbatimSex</th>\n",
       "      <th>wgt</th>\n",
       "      <th>datasetName</th>\n",
       "      <th>sex</th>\n",
       "      <th>occurrenceID</th>\n",
       "      <th>eventDate</th>\n",
       "      <th>genus</th>\n",
       "      <th>species</th>\n",
       "      <th>taxa</th>\n",
       "    </tr>\n",
       "  </thead>\n",
       "  <tbody>\n",
       "    <tr>\n",
       "      <th>0</th>\n",
       "      <td>2</td>\n",
       "      <td>M</td>\n",
       "      <td>NaN</td>\n",
       "      <td>Ecological Archives E090-118-D1.</td>\n",
       "      <td>male</td>\n",
       "      <td>1</td>\n",
       "      <td>1977-07-16</td>\n",
       "      <td>NaN</td>\n",
       "      <td>NaN</td>\n",
       "      <td>NaN</td>\n",
       "    </tr>\n",
       "    <tr>\n",
       "      <th>1</th>\n",
       "      <td>3</td>\n",
       "      <td>M</td>\n",
       "      <td>NaN</td>\n",
       "      <td>Ecological Archives E090-118-D1.</td>\n",
       "      <td>male</td>\n",
       "      <td>2</td>\n",
       "      <td>1977-07-16</td>\n",
       "      <td>NaN</td>\n",
       "      <td>NaN</td>\n",
       "      <td>NaN</td>\n",
       "    </tr>\n",
       "    <tr>\n",
       "      <th>2</th>\n",
       "      <td>2</td>\n",
       "      <td>F</td>\n",
       "      <td>NaN</td>\n",
       "      <td>Ecological Archives E090-118-D1.</td>\n",
       "      <td>female</td>\n",
       "      <td>3</td>\n",
       "      <td>1977-07-16</td>\n",
       "      <td>Dipodomys</td>\n",
       "      <td>merriami</td>\n",
       "      <td>Rodent</td>\n",
       "    </tr>\n",
       "    <tr>\n",
       "      <th>3</th>\n",
       "      <td>7</td>\n",
       "      <td>M</td>\n",
       "      <td>NaN</td>\n",
       "      <td>Ecological Archives E090-118-D1.</td>\n",
       "      <td>male</td>\n",
       "      <td>4</td>\n",
       "      <td>1977-07-16</td>\n",
       "      <td>Dipodomys</td>\n",
       "      <td>merriami</td>\n",
       "      <td>Rodent</td>\n",
       "    </tr>\n",
       "    <tr>\n",
       "      <th>4</th>\n",
       "      <td>3</td>\n",
       "      <td>M</td>\n",
       "      <td>NaN</td>\n",
       "      <td>Ecological Archives E090-118-D1.</td>\n",
       "      <td>male</td>\n",
       "      <td>5</td>\n",
       "      <td>1977-07-16</td>\n",
       "      <td>Dipodomys</td>\n",
       "      <td>merriami</td>\n",
       "      <td>Rodent</td>\n",
       "    </tr>\n",
       "  </tbody>\n",
       "</table>\n",
       "</div>"
      ],
      "text/plain": [
       "   plot verbatimSex  wgt                       datasetName     sex  \\\n",
       "0     2           M  NaN  Ecological Archives E090-118-D1.    male   \n",
       "1     3           M  NaN  Ecological Archives E090-118-D1.    male   \n",
       "2     2           F  NaN  Ecological Archives E090-118-D1.  female   \n",
       "3     7           M  NaN  Ecological Archives E090-118-D1.    male   \n",
       "4     3           M  NaN  Ecological Archives E090-118-D1.    male   \n",
       "\n",
       "   occurrenceID   eventDate      genus   species    taxa  \n",
       "0             1  1977-07-16        NaN       NaN     NaN  \n",
       "1             2  1977-07-16        NaN       NaN     NaN  \n",
       "2             3  1977-07-16  Dipodomys  merriami  Rodent  \n",
       "3             4  1977-07-16  Dipodomys  merriami  Rodent  \n",
       "4             5  1977-07-16  Dipodomys  merriami  Rodent  "
      ]
     },
     "execution_count": 56,
     "metadata": {},
     "output_type": "execute_result"
    }
   ],
   "source": [
    "survey_data_species.head()"
   ]
  },
  {
   "cell_type": "code",
   "execution_count": 59,
   "metadata": {
    "tags": []
   },
   "outputs": [
    {
     "data": {
      "text/plain": [
       "35550"
      ]
     },
     "execution_count": 59,
     "metadata": {},
     "output_type": "execute_result"
    }
   ],
   "source": [
    "len(survey_data_species)"
   ]
  },
  {
   "cell_type": "markdown",
   "metadata": {},
   "source": [
    "## 3. Add coordinates from the plot locations"
   ]
  },
  {
   "cell_type": "markdown",
   "metadata": {},
   "source": [
    "### Loading the coordinate data"
   ]
  },
  {
   "cell_type": "markdown",
   "metadata": {},
   "source": [
    "The individual plots are only identified by a `plot` identification number. In order to provide sufficient information to external users, additional information about the coordinates should be added. The coordinates of the individual plots are saved in another file: `plot_location.xlsx`. We will use this information to further enrich our data set and add the Darwin Core Terms `decimalLongitude` and `decimalLatitude`."
   ]
  },
  {
   "cell_type": "markdown",
   "metadata": {},
   "source": [
    "<div class=\"alert alert-success\">\n",
    "\n",
    "**EXERCISE**\n",
    "\n",
    "- Read the excel file 'plot_location.xlsx' and store the data as the variable `plot_data`, with 3 columns: plot, xutm, yutm.\n",
    "\n",
    "<details><summary>Hints</summary>\n",
    "\n",
    "- Pandas read methods all have a similar name, `read_...`.\n",
    "\n",
    "</details>\n",
    "\n",
    "</div>"
   ]
  },
  {
   "cell_type": "code",
   "execution_count": 60,
   "metadata": {
    "tags": [
     "nbtutor-solution"
    ]
   },
   "outputs": [],
   "source": [
    "plot_data = pd.read_excel(\"data/plot_location.xlsx\", skiprows=3, index_col=0)"
   ]
  },
  {
   "cell_type": "code",
   "execution_count": 61,
   "metadata": {},
   "outputs": [
    {
     "data": {
      "text/html": [
       "<div>\n",
       "<style scoped>\n",
       "    .dataframe tbody tr th:only-of-type {\n",
       "        vertical-align: middle;\n",
       "    }\n",
       "\n",
       "    .dataframe tbody tr th {\n",
       "        vertical-align: top;\n",
       "    }\n",
       "\n",
       "    .dataframe thead th {\n",
       "        text-align: right;\n",
       "    }\n",
       "</style>\n",
       "<table border=\"1\" class=\"dataframe\">\n",
       "  <thead>\n",
       "    <tr style=\"text-align: right;\">\n",
       "      <th></th>\n",
       "      <th>plot</th>\n",
       "      <th>xutm</th>\n",
       "      <th>yutm</th>\n",
       "    </tr>\n",
       "  </thead>\n",
       "  <tbody>\n",
       "    <tr>\n",
       "      <th>0</th>\n",
       "      <td>1</td>\n",
       "      <td>681222.131658</td>\n",
       "      <td>3.535262e+06</td>\n",
       "    </tr>\n",
       "    <tr>\n",
       "      <th>1</th>\n",
       "      <td>2</td>\n",
       "      <td>681302.799361</td>\n",
       "      <td>3.535268e+06</td>\n",
       "    </tr>\n",
       "    <tr>\n",
       "      <th>2</th>\n",
       "      <td>3</td>\n",
       "      <td>681375.294968</td>\n",
       "      <td>3.535270e+06</td>\n",
       "    </tr>\n",
       "    <tr>\n",
       "      <th>3</th>\n",
       "      <td>4</td>\n",
       "      <td>681450.837525</td>\n",
       "      <td>3.535271e+06</td>\n",
       "    </tr>\n",
       "    <tr>\n",
       "      <th>4</th>\n",
       "      <td>5</td>\n",
       "      <td>681526.983040</td>\n",
       "      <td>3.535281e+06</td>\n",
       "    </tr>\n",
       "  </tbody>\n",
       "</table>\n",
       "</div>"
      ],
      "text/plain": [
       "   plot           xutm          yutm\n",
       "0     1  681222.131658  3.535262e+06\n",
       "1     2  681302.799361  3.535268e+06\n",
       "2     3  681375.294968  3.535270e+06\n",
       "3     4  681450.837525  3.535271e+06\n",
       "4     5  681526.983040  3.535281e+06"
      ]
     },
     "execution_count": 61,
     "metadata": {},
     "output_type": "execute_result"
    }
   ],
   "source": [
    "plot_data.head()"
   ]
  },
  {
   "cell_type": "markdown",
   "metadata": {},
   "source": [
    "### Transforming to other coordinate reference system"
   ]
  },
  {
   "cell_type": "markdown",
   "metadata": {},
   "source": [
    "These coordinates are in meters, more specifically in the [UTM 12 N](https://en.wikipedia.org/wiki/Universal_Transverse_Mercator_coordinate_system) coordinate system. However, the agreed coordinate representation for Darwin Core is the [World Geodetic System 1984 (WGS84)](http://spatialreference.org/ref/epsg/wgs-84/).\n",
    "\n",
    "As this is not a GIS course, we will shortcut the discussion about different projection systems, but provide an example on how such a conversion from `UTM12N` to `WGS84` can be performed with the projection toolkit `pyproj` and by relying on the existing EPSG codes (a registry originally setup by the association of oil & gas producers)."
   ]
  },
  {
   "cell_type": "markdown",
   "metadata": {},
   "source": [
    "First, we define out two projection systems, using their corresponding EPSG codes:"
   ]
  },
  {
   "cell_type": "code",
   "execution_count": 62,
   "metadata": {},
   "outputs": [],
   "source": [
    "from pyproj import Transformer"
   ]
  },
  {
   "cell_type": "code",
   "execution_count": 63,
   "metadata": {},
   "outputs": [],
   "source": [
    "transformer = Transformer.from_crs(\"EPSG:32612\", \"epsg:4326\")"
   ]
  },
  {
   "cell_type": "markdown",
   "metadata": {},
   "source": [
    "The reprojection can be done by the function `transform` of the projection toolkit, providing the coordinate systems and a set of x, y coordinates. For example, for a single coordinate, this can be applied as follows:"
   ]
  },
  {
   "cell_type": "code",
   "execution_count": 64,
   "metadata": {},
   "outputs": [
    {
     "data": {
      "text/plain": [
       "(31.9388498837225, -109.08282902317859)"
      ]
     },
     "execution_count": 64,
     "metadata": {},
     "output_type": "execute_result"
    }
   ],
   "source": [
    "transformer.transform(681222.131658, 3.535262e+06)"
   ]
  },
  {
   "cell_type": "markdown",
   "metadata": {},
   "source": [
    "Such a transformation is a function not supported by Pandas itself (it is in https://geopandas.org/). In such an situation, we want to _apply_ a custom function to _each row of the DataFrame_. Instead of writing a `for` loop to do this for each of the coordinates in the list, we can `.apply()` this function with Pandas."
   ]
  },
  {
   "cell_type": "markdown",
   "metadata": {},
   "source": [
    "<div class=\"alert alert-success\">\n",
    "\n",
    "**EXERCISE**\n",
    "\n",
    "Apply the pyproj function `transform` to plot_data, using the columns `xutm` and `yutm` and save the resulting output in 2 new columns, called `decimalLongitude` and `decimalLatitude`:\n",
    "\n",
    "- Create a function `transform_utm_to_wgs` that takes a row of a `DataFrame` and returns a `Series` of two elements with the longitude and latitude.\n",
    "- Test this function on the first row of `plot_data`\n",
    "- Now `apply` this function on all rows (use the `axis` parameter correct)\n",
    "- Assign the result of the previous step to `decimalLongitude` and `decimalLatitude` columns\n",
    "\n",
    "<details><summary>Hints</summary>\n",
    "\n",
    "- Convert the output of the transformer to a Series before returning (`pd.Series(....)`)\n",
    "- A convenient way to select a single row is using the `.loc[0]` operator.\n",
    "- `apply` can be used for both rows (`axis` 1) as columns (`axis` 0).\n",
    "- To assign two columns at once, you can use a similar syntax as for selecting multiple columns with a list of column names (`df[['col1', 'col2']]`).\n",
    "\n",
    "</details>\n",
    "\n",
    "</div>"
   ]
  },
  {
   "cell_type": "code",
   "execution_count": 65,
   "metadata": {
    "tags": [
     "nbtutor-solution"
    ]
   },
   "outputs": [],
   "source": [
    "def transform_utm_to_wgs(row):\n",
    "    \"\"\"Converts the x and y coordinates\n",
    "\n",
    "    Parameters\n",
    "    ----------\n",
    "    row : pd.Series\n",
    "        Single DataFrame row\n",
    "\n",
    "    Returns\n",
    "    -------\n",
    "    pd.Series with longitude and latitude\n",
    "    \"\"\"\n",
    "    transformer = Transformer.from_crs(\"EPSG:32612\", \"epsg:4326\")\n",
    "\n",
    "    return pd.Series(transformer.transform(row['xutm'], row['yutm']))"
   ]
  },
  {
   "cell_type": "code",
   "execution_count": 66,
   "metadata": {
    "tags": [
     "nbtutor-solution"
    ]
   },
   "outputs": [
    {
     "data": {
      "text/plain": [
       "0     31.938851\n",
       "1   -109.082829\n",
       "dtype: float64"
      ]
     },
     "execution_count": 66,
     "metadata": {},
     "output_type": "execute_result"
    }
   ],
   "source": [
    "# test the new function on a single row of the DataFrame\n",
    "transform_utm_to_wgs(plot_data.loc[0])"
   ]
  },
  {
   "cell_type": "code",
   "execution_count": 67,
   "metadata": {
    "tags": [
     "nbtutor-solution"
    ]
   },
   "outputs": [
    {
     "data": {
      "text/html": [
       "<div>\n",
       "<style scoped>\n",
       "    .dataframe tbody tr th:only-of-type {\n",
       "        vertical-align: middle;\n",
       "    }\n",
       "\n",
       "    .dataframe tbody tr th {\n",
       "        vertical-align: top;\n",
       "    }\n",
       "\n",
       "    .dataframe thead th {\n",
       "        text-align: right;\n",
       "    }\n",
       "</style>\n",
       "<table border=\"1\" class=\"dataframe\">\n",
       "  <thead>\n",
       "    <tr style=\"text-align: right;\">\n",
       "      <th></th>\n",
       "      <th>0</th>\n",
       "      <th>1</th>\n",
       "    </tr>\n",
       "  </thead>\n",
       "  <tbody>\n",
       "    <tr>\n",
       "      <th>0</th>\n",
       "      <td>31.938851</td>\n",
       "      <td>-109.082829</td>\n",
       "    </tr>\n",
       "    <tr>\n",
       "      <th>1</th>\n",
       "      <td>31.938887</td>\n",
       "      <td>-109.081975</td>\n",
       "    </tr>\n",
       "    <tr>\n",
       "      <th>2</th>\n",
       "      <td>31.938896</td>\n",
       "      <td>-109.081208</td>\n",
       "    </tr>\n",
       "    <tr>\n",
       "      <th>3</th>\n",
       "      <td>31.938894</td>\n",
       "      <td>-109.080409</td>\n",
       "    </tr>\n",
       "    <tr>\n",
       "      <th>4</th>\n",
       "      <td>31.938970</td>\n",
       "      <td>-109.079602</td>\n",
       "    </tr>\n",
       "    <tr>\n",
       "      <th>5</th>\n",
       "      <td>31.939078</td>\n",
       "      <td>-109.078836</td>\n",
       "    </tr>\n",
       "    <tr>\n",
       "      <th>6</th>\n",
       "      <td>31.938113</td>\n",
       "      <td>-109.082816</td>\n",
       "    </tr>\n",
       "    <tr>\n",
       "      <th>7</th>\n",
       "      <td>31.937884</td>\n",
       "      <td>-109.081680</td>\n",
       "    </tr>\n",
       "    <tr>\n",
       "      <th>8</th>\n",
       "      <td>31.937859</td>\n",
       "      <td>-109.080903</td>\n",
       "    </tr>\n",
       "    <tr>\n",
       "      <th>9</th>\n",
       "      <td>31.938017</td>\n",
       "      <td>-109.080091</td>\n",
       "    </tr>\n",
       "    <tr>\n",
       "      <th>10</th>\n",
       "      <td>31.938056</td>\n",
       "      <td>-109.079307</td>\n",
       "    </tr>\n",
       "    <tr>\n",
       "      <th>11</th>\n",
       "      <td>31.938203</td>\n",
       "      <td>-109.078519</td>\n",
       "    </tr>\n",
       "    <tr>\n",
       "      <th>12</th>\n",
       "      <td>31.937028</td>\n",
       "      <td>-109.082613</td>\n",
       "    </tr>\n",
       "    <tr>\n",
       "      <th>13</th>\n",
       "      <td>31.937054</td>\n",
       "      <td>-109.081827</td>\n",
       "    </tr>\n",
       "    <tr>\n",
       "      <th>14</th>\n",
       "      <td>31.937059</td>\n",
       "      <td>-109.081036</td>\n",
       "    </tr>\n",
       "    <tr>\n",
       "      <th>15</th>\n",
       "      <td>31.937094</td>\n",
       "      <td>-109.080244</td>\n",
       "    </tr>\n",
       "    <tr>\n",
       "      <th>16</th>\n",
       "      <td>31.937117</td>\n",
       "      <td>-109.079415</td>\n",
       "    </tr>\n",
       "    <tr>\n",
       "      <th>17</th>\n",
       "      <td>31.937126</td>\n",
       "      <td>-109.078633</td>\n",
       "    </tr>\n",
       "    <tr>\n",
       "      <th>18</th>\n",
       "      <td>31.937438</td>\n",
       "      <td>-109.077912</td>\n",
       "    </tr>\n",
       "    <tr>\n",
       "      <th>19</th>\n",
       "      <td>31.936334</td>\n",
       "      <td>-109.080191</td>\n",
       "    </tr>\n",
       "    <tr>\n",
       "      <th>20</th>\n",
       "      <td>31.936448</td>\n",
       "      <td>-109.079398</td>\n",
       "    </tr>\n",
       "    <tr>\n",
       "      <th>21</th>\n",
       "      <td>31.936441</td>\n",
       "      <td>-109.078602</td>\n",
       "    </tr>\n",
       "    <tr>\n",
       "      <th>22</th>\n",
       "      <td>31.936763</td>\n",
       "      <td>-109.077838</td>\n",
       "    </tr>\n",
       "    <tr>\n",
       "      <th>23</th>\n",
       "      <td>31.938560</td>\n",
       "      <td>-109.077736</td>\n",
       "    </tr>\n",
       "  </tbody>\n",
       "</table>\n",
       "</div>"
      ],
      "text/plain": [
       "            0           1\n",
       "0   31.938851 -109.082829\n",
       "1   31.938887 -109.081975\n",
       "2   31.938896 -109.081208\n",
       "3   31.938894 -109.080409\n",
       "4   31.938970 -109.079602\n",
       "5   31.939078 -109.078836\n",
       "6   31.938113 -109.082816\n",
       "7   31.937884 -109.081680\n",
       "8   31.937859 -109.080903\n",
       "9   31.938017 -109.080091\n",
       "10  31.938056 -109.079307\n",
       "11  31.938203 -109.078519\n",
       "12  31.937028 -109.082613\n",
       "13  31.937054 -109.081827\n",
       "14  31.937059 -109.081036\n",
       "15  31.937094 -109.080244\n",
       "16  31.937117 -109.079415\n",
       "17  31.937126 -109.078633\n",
       "18  31.937438 -109.077912\n",
       "19  31.936334 -109.080191\n",
       "20  31.936448 -109.079398\n",
       "21  31.936441 -109.078602\n",
       "22  31.936763 -109.077838\n",
       "23  31.938560 -109.077736"
      ]
     },
     "execution_count": 67,
     "metadata": {},
     "output_type": "execute_result"
    }
   ],
   "source": [
    "plot_data.apply(transform_utm_to_wgs, axis=1)"
   ]
  },
  {
   "cell_type": "code",
   "execution_count": 68,
   "metadata": {
    "tags": [
     "nbtutor-solution"
    ]
   },
   "outputs": [],
   "source": [
    "plot_data[[\"decimalLongitude\" ,\"decimalLatitude\"]] = plot_data.apply(transform_utm_to_wgs, axis=1)"
   ]
  },
  {
   "cell_type": "code",
   "execution_count": 69,
   "metadata": {},
   "outputs": [
    {
     "data": {
      "text/html": [
       "<div>\n",
       "<style scoped>\n",
       "    .dataframe tbody tr th:only-of-type {\n",
       "        vertical-align: middle;\n",
       "    }\n",
       "\n",
       "    .dataframe tbody tr th {\n",
       "        vertical-align: top;\n",
       "    }\n",
       "\n",
       "    .dataframe thead th {\n",
       "        text-align: right;\n",
       "    }\n",
       "</style>\n",
       "<table border=\"1\" class=\"dataframe\">\n",
       "  <thead>\n",
       "    <tr style=\"text-align: right;\">\n",
       "      <th></th>\n",
       "      <th>plot</th>\n",
       "      <th>xutm</th>\n",
       "      <th>yutm</th>\n",
       "      <th>decimalLongitude</th>\n",
       "      <th>decimalLatitude</th>\n",
       "    </tr>\n",
       "  </thead>\n",
       "  <tbody>\n",
       "    <tr>\n",
       "      <th>0</th>\n",
       "      <td>1</td>\n",
       "      <td>681222.131658</td>\n",
       "      <td>3.535262e+06</td>\n",
       "      <td>31.938851</td>\n",
       "      <td>-109.082829</td>\n",
       "    </tr>\n",
       "    <tr>\n",
       "      <th>1</th>\n",
       "      <td>2</td>\n",
       "      <td>681302.799361</td>\n",
       "      <td>3.535268e+06</td>\n",
       "      <td>31.938887</td>\n",
       "      <td>-109.081975</td>\n",
       "    </tr>\n",
       "    <tr>\n",
       "      <th>2</th>\n",
       "      <td>3</td>\n",
       "      <td>681375.294968</td>\n",
       "      <td>3.535270e+06</td>\n",
       "      <td>31.938896</td>\n",
       "      <td>-109.081208</td>\n",
       "    </tr>\n",
       "    <tr>\n",
       "      <th>3</th>\n",
       "      <td>4</td>\n",
       "      <td>681450.837525</td>\n",
       "      <td>3.535271e+06</td>\n",
       "      <td>31.938894</td>\n",
       "      <td>-109.080409</td>\n",
       "    </tr>\n",
       "    <tr>\n",
       "      <th>4</th>\n",
       "      <td>5</td>\n",
       "      <td>681526.983040</td>\n",
       "      <td>3.535281e+06</td>\n",
       "      <td>31.938970</td>\n",
       "      <td>-109.079602</td>\n",
       "    </tr>\n",
       "  </tbody>\n",
       "</table>\n",
       "</div>"
      ],
      "text/plain": [
       "   plot           xutm          yutm  decimalLongitude  decimalLatitude\n",
       "0     1  681222.131658  3.535262e+06         31.938851      -109.082829\n",
       "1     2  681302.799361  3.535268e+06         31.938887      -109.081975\n",
       "2     3  681375.294968  3.535270e+06         31.938896      -109.081208\n",
       "3     4  681450.837525  3.535271e+06         31.938894      -109.080409\n",
       "4     5  681526.983040  3.535281e+06         31.938970      -109.079602"
      ]
     },
     "execution_count": 69,
     "metadata": {},
     "output_type": "execute_result"
    }
   ],
   "source": [
    "plot_data.head()"
   ]
  },
  {
   "cell_type": "markdown",
   "metadata": {},
   "source": [
    "The above function `transform_utm_to_wgs` you have created is a very specific function that knows the structure of the `DataFrame` you will apply it to (it assumes the 'xutm' and 'yutm' column names). We could also make a more generic function that just takes a X and Y coordinate and returns the `Series` of converted coordinates (`transform_utm_to_wgs2(X, Y)`).\n",
    "\n",
    "An alternative to apply such a custom function to the `plot_data` `DataFrame` is the usage of the `lambda` construct, which lets you specify a function on one line as an argument:\n",
    "\n",
    "    transformer = Transformer.from_crs(\"EPSG:32612\", \"epsg:4326\")\n",
    "    plot_data.apply(lambda row : transformer.transform(row['xutm'], row['yutm']), axis=1)\n",
    "\n",
    "\n",
    "<div class=\"alert alert-warning\">\n",
    "\n",
    "__WARNING__\n",
    "\n",
    "Do not abuse the usage of the `apply` method, but always look for an existing Pandas function first as these are - in general - faster!\n",
    "\n",
    "</div>"
   ]
  },
  {
   "cell_type": "markdown",
   "metadata": {},
   "source": [
    "### Join the coordinate information to the survey data set"
   ]
  },
  {
   "cell_type": "markdown",
   "metadata": {},
   "source": [
    "We can extend our survey data set with this coordinate information. Making the combination of two data sets based on a common identifier is completely similar to the usage of `JOIN` operations in databases. In Pandas, this functionality is provided by [`pd.merge`](http://pandas.pydata.org/pandas-docs/stable/merging.html#database-style-DataFrame-joining-merging).\n",
    "\n",
    "In practice, we have to add the columns `decimalLongitude`/`decimalLatitude` to the current data set `survey_data_decoupled`, by using the plot identification number as key to join."
   ]
  },
  {
   "cell_type": "markdown",
   "metadata": {},
   "source": [
    "<div class=\"alert alert-success\">\n",
    "\n",
    "**EXERCISE**\n",
    "\n",
    "- Extract only the columns to join to our survey dataset: the `plot` identifiers, `decimalLatitude` and `decimalLongitude` into a new variable named `plot_data_selection`\n",
    "\n",
    "<details><summary>Hints</summary>\n",
    "\n",
    "- To select multiple columns, use a `list` of column names, e.g. `df[[\"my_col1\", \"my_col2\"]]`\n",
    "\n",
    "</details>\n",
    "\n",
    "</div>"
   ]
  },
  {
   "cell_type": "code",
   "execution_count": 70,
   "metadata": {
    "tags": [
     "nbtutor-solution"
    ]
   },
   "outputs": [],
   "source": [
    "plot_data_selection = plot_data[[\"plot\", \"decimalLongitude\", \"decimalLatitude\"]]"
   ]
  },
  {
   "cell_type": "markdown",
   "metadata": {},
   "source": [
    "<div class=\"alert alert-success\">\n",
    "\n",
    "**EXERCISE**\n",
    "\n",
    "Combine the `DataFrame` `plot_data_selection` and the `DataFrame` `survey_data_decoupled` by adding the corresponding coordinate information to the individual observations using the `pd.merge()` function. Assign the output to a new variable `survey_data_plots`.\n",
    "\n",
    "<details><summary>Hints</summary>\n",
    "\n",
    "- This is an example of a database JOIN operation. Pandas provides the `pd.merge` function to join two data sets using a common identifier.\n",
    "- The key-column is the `plot`.\n",
    "\n",
    "</details>"
   ]
  },
  {
   "cell_type": "code",
   "execution_count": 72,
   "metadata": {
    "tags": [
     "nbtutor-solution"
    ]
   },
   "outputs": [],
   "source": [
    "survey_data_plots = pd.merge(survey_data_species, plot_data_selection,\n",
    "                             how=\"left\", on=\"plot\")"
   ]
  },
  {
   "cell_type": "code",
   "execution_count": 73,
   "metadata": {},
   "outputs": [
    {
     "data": {
      "text/html": [
       "<div>\n",
       "<style scoped>\n",
       "    .dataframe tbody tr th:only-of-type {\n",
       "        vertical-align: middle;\n",
       "    }\n",
       "\n",
       "    .dataframe tbody tr th {\n",
       "        vertical-align: top;\n",
       "    }\n",
       "\n",
       "    .dataframe thead th {\n",
       "        text-align: right;\n",
       "    }\n",
       "</style>\n",
       "<table border=\"1\" class=\"dataframe\">\n",
       "  <thead>\n",
       "    <tr style=\"text-align: right;\">\n",
       "      <th></th>\n",
       "      <th>plot</th>\n",
       "      <th>verbatimSex</th>\n",
       "      <th>wgt</th>\n",
       "      <th>datasetName</th>\n",
       "      <th>sex</th>\n",
       "      <th>occurrenceID</th>\n",
       "      <th>eventDate</th>\n",
       "      <th>genus</th>\n",
       "      <th>species</th>\n",
       "      <th>taxa</th>\n",
       "      <th>decimalLongitude</th>\n",
       "      <th>decimalLatitude</th>\n",
       "    </tr>\n",
       "  </thead>\n",
       "  <tbody>\n",
       "    <tr>\n",
       "      <th>0</th>\n",
       "      <td>2</td>\n",
       "      <td>M</td>\n",
       "      <td>NaN</td>\n",
       "      <td>Ecological Archives E090-118-D1.</td>\n",
       "      <td>male</td>\n",
       "      <td>1</td>\n",
       "      <td>1977-07-16</td>\n",
       "      <td>NaN</td>\n",
       "      <td>NaN</td>\n",
       "      <td>NaN</td>\n",
       "      <td>31.938887</td>\n",
       "      <td>-109.081975</td>\n",
       "    </tr>\n",
       "    <tr>\n",
       "      <th>1</th>\n",
       "      <td>3</td>\n",
       "      <td>M</td>\n",
       "      <td>NaN</td>\n",
       "      <td>Ecological Archives E090-118-D1.</td>\n",
       "      <td>male</td>\n",
       "      <td>2</td>\n",
       "      <td>1977-07-16</td>\n",
       "      <td>NaN</td>\n",
       "      <td>NaN</td>\n",
       "      <td>NaN</td>\n",
       "      <td>31.938896</td>\n",
       "      <td>-109.081208</td>\n",
       "    </tr>\n",
       "    <tr>\n",
       "      <th>2</th>\n",
       "      <td>2</td>\n",
       "      <td>F</td>\n",
       "      <td>NaN</td>\n",
       "      <td>Ecological Archives E090-118-D1.</td>\n",
       "      <td>female</td>\n",
       "      <td>3</td>\n",
       "      <td>1977-07-16</td>\n",
       "      <td>Dipodomys</td>\n",
       "      <td>merriami</td>\n",
       "      <td>Rodent</td>\n",
       "      <td>31.938887</td>\n",
       "      <td>-109.081975</td>\n",
       "    </tr>\n",
       "    <tr>\n",
       "      <th>3</th>\n",
       "      <td>7</td>\n",
       "      <td>M</td>\n",
       "      <td>NaN</td>\n",
       "      <td>Ecological Archives E090-118-D1.</td>\n",
       "      <td>male</td>\n",
       "      <td>4</td>\n",
       "      <td>1977-07-16</td>\n",
       "      <td>Dipodomys</td>\n",
       "      <td>merriami</td>\n",
       "      <td>Rodent</td>\n",
       "      <td>31.938113</td>\n",
       "      <td>-109.082816</td>\n",
       "    </tr>\n",
       "    <tr>\n",
       "      <th>4</th>\n",
       "      <td>3</td>\n",
       "      <td>M</td>\n",
       "      <td>NaN</td>\n",
       "      <td>Ecological Archives E090-118-D1.</td>\n",
       "      <td>male</td>\n",
       "      <td>5</td>\n",
       "      <td>1977-07-16</td>\n",
       "      <td>Dipodomys</td>\n",
       "      <td>merriami</td>\n",
       "      <td>Rodent</td>\n",
       "      <td>31.938896</td>\n",
       "      <td>-109.081208</td>\n",
       "    </tr>\n",
       "  </tbody>\n",
       "</table>\n",
       "</div>"
      ],
      "text/plain": [
       "   plot verbatimSex  wgt                       datasetName     sex  \\\n",
       "0     2           M  NaN  Ecological Archives E090-118-D1.    male   \n",
       "1     3           M  NaN  Ecological Archives E090-118-D1.    male   \n",
       "2     2           F  NaN  Ecological Archives E090-118-D1.  female   \n",
       "3     7           M  NaN  Ecological Archives E090-118-D1.    male   \n",
       "4     3           M  NaN  Ecological Archives E090-118-D1.    male   \n",
       "\n",
       "   occurrenceID   eventDate      genus   species    taxa  decimalLongitude  \\\n",
       "0             1  1977-07-16        NaN       NaN     NaN         31.938887   \n",
       "1             2  1977-07-16        NaN       NaN     NaN         31.938896   \n",
       "2             3  1977-07-16  Dipodomys  merriami  Rodent         31.938887   \n",
       "3             4  1977-07-16  Dipodomys  merriami  Rodent         31.938113   \n",
       "4             5  1977-07-16  Dipodomys  merriami  Rodent         31.938896   \n",
       "\n",
       "   decimalLatitude  \n",
       "0      -109.081975  \n",
       "1      -109.081208  \n",
       "2      -109.081975  \n",
       "3      -109.082816  \n",
       "4      -109.081208  "
      ]
     },
     "execution_count": 73,
     "metadata": {},
     "output_type": "execute_result"
    }
   ],
   "source": [
    "survey_data_plots.head()"
   ]
  },
  {
   "cell_type": "markdown",
   "metadata": {},
   "source": [
    "The plot locations need to be stored with the variable name `verbatimLocality` indicating the identifier as integer value of the plot:"
   ]
  },
  {
   "cell_type": "code",
   "execution_count": 74,
   "metadata": {},
   "outputs": [],
   "source": [
    "survey_data_plots = survey_data_plots.rename(columns={'plot': 'verbatimLocality'})"
   ]
  },
  {
   "cell_type": "markdown",
   "metadata": {},
   "source": [
    "Let's now save our clean data to a `csv` file, so we can further analyze the data in a following notebook:"
   ]
  },
  {
   "cell_type": "code",
   "execution_count": 76,
   "metadata": {},
   "outputs": [],
   "source": [
    "survey_data_plots.to_csv(\"interim_survey_data_species.csv\", index=False)"
   ]
  },
  {
   "cell_type": "markdown",
   "metadata": {},
   "source": [
    "## (OPTIONAL SECTION) 4. Using a API service to match the scientific names"
   ]
  },
  {
   "cell_type": "markdown",
   "metadata": {},
   "source": [
    "As the current species names are rather short and could eventually lead to confusion when shared with other users, retrieving additional information about the different species in our dataset would be useful to integrate our work with other research. An option is to match our names with an external service to request additional information about the different species.\n",
    "\n",
    "One of these services is [GBIF API](http://www.gbif.org/developer/species). The service can most easily be illustrated with a small example:<br><br>\n",
    "In a new tab blad of the browser, go to the URL [http://www.gbif.org/species/2475532](http://www.gbif.org/species/2475532), which corresponds to the page of `Alcedo atthis` (*ijsvogel* in dutch). One could for each of the species in the list we have do a search on the website of GBIF to find the corresponding page of the different species, from which more information can be extracted manually. However, this would take a lot of time...\n",
    "\n",
    "Therefore, GBIF (as many other organizations!) provides a service (or API) to extract the same information in a machine-readable way, in order to automate these searches. As an example, let's search for the information of `Alcedo atthis`, using the GBIF API: Go to the URL: [http://api.gbif.org/v1/species/match?name=Alcedo atthis](http://api.gbif.org/v1/species/match?name=%22Alcedo%20atthis%22) and check the output. What we did is a machine-based search on the GBIF website for information about `Alcedo atthis`.\n",
    "\n",
    "The same can be done using Python. The main library we need to this kind of automated searches is the [`requests` package](http://docs.python-requests.org/en/master/), which can be used to do request to any kind of API out there."
   ]
  },
  {
   "cell_type": "code",
   "execution_count": 78,
   "metadata": {},
   "outputs": [],
   "source": [
    "import requests"
   ]
  },
  {
   "cell_type": "markdown",
   "metadata": {},
   "source": [
    "### Example matching with Alcedo Atthis"
   ]
  },
  {
   "cell_type": "markdown",
   "metadata": {},
   "source": [
    "For the example of `Alcedo atthis`:"
   ]
  },
  {
   "cell_type": "code",
   "execution_count": 79,
   "metadata": {},
   "outputs": [],
   "source": [
    "species_name = 'Alcedo atthis'"
   ]
  },
  {
   "cell_type": "code",
   "execution_count": 80,
   "metadata": {},
   "outputs": [
    {
     "data": {
      "text/plain": [
       "{'usageKey': 2475532,\n",
       " 'scientificName': 'Alcedo atthis (Linnaeus, 1758)',\n",
       " 'canonicalName': 'Alcedo atthis',\n",
       " 'rank': 'SPECIES',\n",
       " 'status': 'ACCEPTED',\n",
       " 'confidence': 99,\n",
       " 'matchType': 'EXACT',\n",
       " 'kingdom': 'Animalia',\n",
       " 'phylum': 'Chordata',\n",
       " 'order': 'Coraciiformes',\n",
       " 'family': 'Alcedinidae',\n",
       " 'genus': 'Alcedo',\n",
       " 'species': 'Alcedo atthis',\n",
       " 'kingdomKey': 1,\n",
       " 'phylumKey': 44,\n",
       " 'classKey': 212,\n",
       " 'orderKey': 1447,\n",
       " 'familyKey': 2984,\n",
       " 'genusKey': 2475493,\n",
       " 'speciesKey': 2475532,\n",
       " 'synonym': False,\n",
       " 'class': 'Aves'}"
      ]
     },
     "execution_count": 80,
     "metadata": {},
     "output_type": "execute_result"
    }
   ],
   "source": [
    "base_string = 'http://api.gbif.org/v1/species/match?'\n",
    "request_parameters = {'verbose': False, 'strict': True, 'name': species_name}\n",
    "message = requests.get(base_string, params=request_parameters).json()\n",
    "message"
   ]
  },
  {
   "cell_type": "markdown",
   "metadata": {},
   "source": [
    "From which we get a dictionary containing more information about the taxonomy of the `Alcedo atthis`."
   ]
  },
  {
   "cell_type": "markdown",
   "metadata": {},
   "source": [
    "In the species data set available, the name to match is provided in the combination of two columns, so we have to combine those to in order to execute the name matching:"
   ]
  },
  {
   "cell_type": "code",
   "execution_count": 81,
   "metadata": {},
   "outputs": [
    {
     "data": {
      "text/plain": [
       "{'usageKey': 5228075,\n",
       " 'scientificName': 'Callipepla squamata (Vigors, 1830)',\n",
       " 'canonicalName': 'Callipepla squamata',\n",
       " 'rank': 'SPECIES',\n",
       " 'status': 'ACCEPTED',\n",
       " 'confidence': 99,\n",
       " 'matchType': 'EXACT',\n",
       " 'kingdom': 'Animalia',\n",
       " 'phylum': 'Chordata',\n",
       " 'order': 'Galliformes',\n",
       " 'family': 'Odontophoridae',\n",
       " 'genus': 'Callipepla',\n",
       " 'species': 'Callipepla squamata',\n",
       " 'kingdomKey': 1,\n",
       " 'phylumKey': 44,\n",
       " 'classKey': 212,\n",
       " 'orderKey': 723,\n",
       " 'familyKey': 9325,\n",
       " 'genusKey': 2474205,\n",
       " 'speciesKey': 5228075,\n",
       " 'synonym': False,\n",
       " 'class': 'Aves'}"
      ]
     },
     "execution_count": 81,
     "metadata": {},
     "output_type": "execute_result"
    }
   ],
   "source": [
    "genus_name = \"Callipepla\"\n",
    "species_name = \"squamata\"\n",
    "name_to_match = '{} {}'.format(genus_name, species_name)\n",
    "base_string = 'http://api.gbif.org/v1/species/match?'\n",
    "request_parameters = {'strict': True, 'name': name_to_match} # use strict matching(!)\n",
    "message = requests.get(base_string, params=request_parameters).json()\n",
    "message"
   ]
  },
  {
   "cell_type": "markdown",
   "metadata": {},
   "source": [
    "To apply this on our species data set, we will have to do this request for each of the individual species/genus combination. As, this is a returning functionality, we will write a small function to do this:"
   ]
  },
  {
   "cell_type": "markdown",
   "metadata": {},
   "source": [
    "### Writing a custom matching function"
   ]
  },
  {
   "cell_type": "markdown",
   "metadata": {},
   "source": [
    "<div class=\"alert alert-success\">\n",
    "\n",
    "**EXERCISE**\n",
    "\n",
    "- Write a function, called `name_match` that takes the `genus`, the `species` and the option to perform a strict matching or not as inputs, performs a matching with the GBIF name matching API and return the received message as a dictionary.\n",
    "\n",
    "</div>"
   ]
  },
  {
   "cell_type": "code",
   "execution_count": 82,
   "metadata": {
    "tags": [
     "nbtutor-solution"
    ]
   },
   "outputs": [],
   "source": [
    "def name_match(genus_name, species_name, strict=True):\n",
    "    \"\"\"\n",
    "    Perform a GBIF name matching using the species and genus names\n",
    "\n",
    "    Parameters\n",
    "    ----------\n",
    "    genus_name: str\n",
    "        name of the genus of the species\n",
    "    species_name: str\n",
    "        name of the species to request more information\n",
    "    strict: boolean\n",
    "        define if the mathing need to be performed with the strict\n",
    "        option (True) or not (False)\n",
    "\n",
    "    Returns\n",
    "    -------\n",
    "    message: dict\n",
    "        dictionary with the information returned by the GBIF matching service\n",
    "    \"\"\"\n",
    "    name = '{} {}'.format(genus_name, species_name)\n",
    "    base_string = 'http://api.gbif.org/v1/species/match?'\n",
    "    request_parameters = {'strict': strict, 'name': name} # use strict matching(!)\n",
    "    message = requests.get(base_string, params=request_parameters).json()\n",
    "    return message"
   ]
  },
  {
   "cell_type": "markdown",
   "metadata": {},
   "source": [
    "<div class=\"alert alert-info\">\n",
    "\n",
    "**NOTE**\n",
    "\n",
    "For many of these API request handling, dedicated packages do exist, e.g. <a href=\"https://github.com/sckott/pygbif\">pygbif</a> provides different functions to do requests to the GBIF API, basically wrapping the request possibilities. For any kind of service, just ask yourself: is the dedicated library providing sufficient additional advantage, or can I easily setup the request myself. (or sometimes: for which the documentation is the best...)<br><br>Many services do exist for a wide range of applications, e.g. scientific name matching, matching of addresses, downloading of data,...\n",
    "\n",
    "</div>"
   ]
  },
  {
   "cell_type": "markdown",
   "metadata": {},
   "source": [
    "Testing our custom matching function:"
   ]
  },
  {
   "cell_type": "code",
   "execution_count": 83,
   "metadata": {},
   "outputs": [
    {
     "data": {
      "text/plain": [
       "{'usageKey': 5228075,\n",
       " 'scientificName': 'Callipepla squamata (Vigors, 1830)',\n",
       " 'canonicalName': 'Callipepla squamata',\n",
       " 'rank': 'SPECIES',\n",
       " 'status': 'ACCEPTED',\n",
       " 'confidence': 99,\n",
       " 'matchType': 'EXACT',\n",
       " 'kingdom': 'Animalia',\n",
       " 'phylum': 'Chordata',\n",
       " 'order': 'Galliformes',\n",
       " 'family': 'Odontophoridae',\n",
       " 'genus': 'Callipepla',\n",
       " 'species': 'Callipepla squamata',\n",
       " 'kingdomKey': 1,\n",
       " 'phylumKey': 44,\n",
       " 'classKey': 212,\n",
       " 'orderKey': 723,\n",
       " 'familyKey': 9325,\n",
       " 'genusKey': 2474205,\n",
       " 'speciesKey': 5228075,\n",
       " 'synonym': False,\n",
       " 'class': 'Aves'}"
      ]
     },
     "execution_count": 83,
     "metadata": {},
     "output_type": "execute_result"
    }
   ],
   "source": [
    "genus_name = \"Callipepla\"\n",
    "species_name = \"squamata\"\n",
    "name_match(genus_name, species_name, strict=True)"
   ]
  },
  {
   "cell_type": "markdown",
   "metadata": {},
   "source": [
    "However, the matching won't provide an answer for every search:"
   ]
  },
  {
   "cell_type": "code",
   "execution_count": 84,
   "metadata": {},
   "outputs": [
    {
     "data": {
      "text/plain": [
       "{'confidence': 100, 'matchType': 'NONE', 'synonym': False}"
      ]
     },
     "execution_count": 84,
     "metadata": {},
     "output_type": "execute_result"
    }
   ],
   "source": [
    "genus_name = \"Lizard\"\n",
    "species_name = \"sp.\"\n",
    "name_match(genus_name, species_name, strict=True)"
   ]
  },
  {
   "cell_type": "markdown",
   "metadata": {},
   "source": [
    "### Match each of the species names of the survey data set"
   ]
  },
  {
   "cell_type": "markdown",
   "metadata": {},
   "source": [
    "Hence, in order to add this information to our survey DataFrame, we need to perform the following steps:\n",
    "1. extract the unique genus/species combinations in our dataset and combine them in single column\n",
    "2. match each of these names to the GBIF API service\n",
    "3. process the returned message:\n",
    "    * if a match is found, add the information of the columns 'class', 'kingdom', 'order', 'phylum', 'scientificName', 'status' and 'usageKey'\n",
    "    * if no match was found: nan-values\n",
    "4. Join the DataFrame of unique genus/species information with the enriched GBIF info to the `survey_data_species` data set"
   ]
  },
  {
   "cell_type": "markdown",
   "metadata": {},
   "source": [
    "<div class=\"alert alert-success\">\n",
    "\n",
    "**EXERCISE**\n",
    "\n",
    "- Extract the unique combinations of genus and species in the `survey_data_species` using the function `drop_duplicates()`. Save the result as the variable `unique_species` and remove the `NaN` values using `.dropna()`.\n",
    "\n",
    "</div>"
   ]
  },
  {
   "cell_type": "code",
   "execution_count": 86,
   "metadata": {
    "tags": [
     "nbtutor-solution"
    ]
   },
   "outputs": [],
   "source": [
    "#%%timeit\n",
    "unique_species = survey_data_plots[[\"genus\", \"species\"]].drop_duplicates().dropna()"
   ]
  },
  {
   "cell_type": "code",
   "execution_count": 87,
   "metadata": {},
   "outputs": [
    {
     "data": {
      "text/plain": [
       "47"
      ]
     },
     "execution_count": 87,
     "metadata": {},
     "output_type": "execute_result"
    }
   ],
   "source": [
    "len(unique_species)"
   ]
  },
  {
   "cell_type": "markdown",
   "metadata": {},
   "source": [
    "<div class=\"alert alert-success\">\n",
    "\n",
    "**EXERCISE**\n",
    "\n",
    "- Extract the unique combinations of genus and species in the `survey_data_species` using `groupby`. Save the result as the variable `unique_species`.\n",
    "\n",
    "<details><summary>Hints</summary>\n",
    "\n",
    "- As `groupby` needs an aggregation function, this can be `first()` (the first of each group) as well.\n",
    "- Do not forget to `reset_index` after the `groupby`.\n",
    "\n",
    "</details>\n",
    "\n",
    "</div>"
   ]
  },
  {
   "cell_type": "code",
   "execution_count": 88,
   "metadata": {
    "tags": [
     "nbtutor-solution"
    ]
   },
   "outputs": [],
   "source": [
    "#%%timeit\n",
    "unique_species = \\\n",
    "    survey_data_plots.groupby([\"genus\", \"species\"]).first().reset_index()[[\"genus\", \"species\"]]"
   ]
  },
  {
   "cell_type": "code",
   "execution_count": 89,
   "metadata": {},
   "outputs": [
    {
     "data": {
      "text/plain": [
       "47"
      ]
     },
     "execution_count": 89,
     "metadata": {},
     "output_type": "execute_result"
    }
   ],
   "source": [
    "len(unique_species)"
   ]
  },
  {
   "cell_type": "markdown",
   "metadata": {},
   "source": [
    "<div class=\"alert alert-success\">\n",
    "\n",
    "**EXERCISE**\n",
    "\n",
    "- Combine the columns genus and species to a single column with the complete name, save it in a new column named 'name'\n",
    "\n",
    "</div>"
   ]
  },
  {
   "cell_type": "code",
   "execution_count": 90,
   "metadata": {
    "tags": [
     "nbtutor-solution"
    ]
   },
   "outputs": [],
   "source": [
    "unique_species[\"name\"] = unique_species[\"genus\"] + \" \" + unique_species[\"species\"]\n",
    "# an alternative approach worthwhile to know:\n",
    "#unique_species[\"name\"] = unique_species[\"genus\"].str.cat(unique_species[\"species\"], \" \")"
   ]
  },
  {
   "cell_type": "code",
   "execution_count": 91,
   "metadata": {},
   "outputs": [
    {
     "data": {
      "text/html": [
       "<div>\n",
       "<style scoped>\n",
       "    .dataframe tbody tr th:only-of-type {\n",
       "        vertical-align: middle;\n",
       "    }\n",
       "\n",
       "    .dataframe tbody tr th {\n",
       "        vertical-align: top;\n",
       "    }\n",
       "\n",
       "    .dataframe thead th {\n",
       "        text-align: right;\n",
       "    }\n",
       "</style>\n",
       "<table border=\"1\" class=\"dataframe\">\n",
       "  <thead>\n",
       "    <tr style=\"text-align: right;\">\n",
       "      <th></th>\n",
       "      <th>genus</th>\n",
       "      <th>species</th>\n",
       "      <th>name</th>\n",
       "    </tr>\n",
       "  </thead>\n",
       "  <tbody>\n",
       "    <tr>\n",
       "      <th>0</th>\n",
       "      <td>Ammodramus</td>\n",
       "      <td>savannarum</td>\n",
       "      <td>Ammodramus savannarum</td>\n",
       "    </tr>\n",
       "    <tr>\n",
       "      <th>1</th>\n",
       "      <td>Ammospermophilus</td>\n",
       "      <td>harrisi</td>\n",
       "      <td>Ammospermophilus harrisi</td>\n",
       "    </tr>\n",
       "    <tr>\n",
       "      <th>2</th>\n",
       "      <td>Amphispiza</td>\n",
       "      <td>bilineata</td>\n",
       "      <td>Amphispiza bilineata</td>\n",
       "    </tr>\n",
       "    <tr>\n",
       "      <th>3</th>\n",
       "      <td>Baiomys</td>\n",
       "      <td>taylori</td>\n",
       "      <td>Baiomys taylori</td>\n",
       "    </tr>\n",
       "    <tr>\n",
       "      <th>4</th>\n",
       "      <td>Calamospiza</td>\n",
       "      <td>melanocorys</td>\n",
       "      <td>Calamospiza melanocorys</td>\n",
       "    </tr>\n",
       "  </tbody>\n",
       "</table>\n",
       "</div>"
      ],
      "text/plain": [
       "              genus      species                      name\n",
       "0        Ammodramus   savannarum     Ammodramus savannarum\n",
       "1  Ammospermophilus      harrisi  Ammospermophilus harrisi\n",
       "2        Amphispiza    bilineata      Amphispiza bilineata\n",
       "3           Baiomys      taylori           Baiomys taylori\n",
       "4       Calamospiza  melanocorys   Calamospiza melanocorys"
      ]
     },
     "execution_count": 91,
     "metadata": {},
     "output_type": "execute_result"
    }
   ],
   "source": [
    "unique_species.head()"
   ]
  },
  {
   "cell_type": "markdown",
   "metadata": {},
   "source": [
    "To perform the matching for each of the combination, different options do exist (remember `apply`?)\n",
    "\n",
    "Just to showcase the possibility of using `for` loops in such a situation, let's do the addition of the matched information with a `for` loop. First, we will store everything in one dictionary, where the keys of the dictionary are the index values of `unique_species` (in order to later merge them again) and the values are the entire messages (which are dictionaries on itself). The format will look as following:\n",
    "\n",
    "```\n",
    "species_annotated = {O: {'canonicalName': 'Squamata', 'class': 'Reptilia', 'classKey': 358, ...},\n",
    "                     1: {'canonicalName':...},\n",
    "                     2:...}\n",
    "```"
   ]
  },
  {
   "cell_type": "code",
   "execution_count": 92,
   "metadata": {},
   "outputs": [],
   "source": [
    "# this will take a bit as we do a request to gbif for each individual species\n",
    "species_annotated = {}\n",
    "for key, row in unique_species.iterrows():\n",
    "    species_annotated[key] = name_match(row[\"genus\"], row[\"species\"], strict=True)"
   ]
  },
  {
   "cell_type": "code",
   "execution_count": 93,
   "metadata": {},
   "outputs": [],
   "source": [
    "#species_annotated  # uncomment to see output"
   ]
  },
  {
   "cell_type": "markdown",
   "metadata": {},
   "source": [
    "We can now transform this to a pandas `DataFrame`:"
   ]
  },
  {
   "cell_type": "markdown",
   "metadata": {},
   "source": [
    "<div class=\"alert alert-success\">\n",
    "\n",
    "**EXERCISE**\n",
    "\n",
    "- Convert the dictionary `species_annotated` into a pandas DataFrame with the row index the key-values corresponding to `unique_species` and the column headers the output columns of the API response. Save the result as the variable `df_species_annotated`.\n",
    "\n",
    "<details><summary>Hints</summary>\n",
    "\n",
    "- The documentation of `pd.DataFrame` says the input van be 'ndarray (structured or homogeneous), Iterable, dict, or DataFrame'.\n",
    "- `transpose` can be used to flip rows and columns.\n",
    "\n",
    "</details>\n",
    "\n",
    "</div>"
   ]
  },
  {
   "cell_type": "code",
   "execution_count": 94,
   "metadata": {
    "tags": [
     "nbtutor-solution"
    ]
   },
   "outputs": [],
   "source": [
    "df_species_annotated = pd.DataFrame(species_annotated).transpose()"
   ]
  },
  {
   "cell_type": "code",
   "execution_count": 95,
   "metadata": {},
   "outputs": [
    {
     "data": {
      "text/html": [
       "<div>\n",
       "<style scoped>\n",
       "    .dataframe tbody tr th:only-of-type {\n",
       "        vertical-align: middle;\n",
       "    }\n",
       "\n",
       "    .dataframe tbody tr th {\n",
       "        vertical-align: top;\n",
       "    }\n",
       "\n",
       "    .dataframe thead th {\n",
       "        text-align: right;\n",
       "    }\n",
       "</style>\n",
       "<table border=\"1\" class=\"dataframe\">\n",
       "  <thead>\n",
       "    <tr style=\"text-align: right;\">\n",
       "      <th></th>\n",
       "      <th>usageKey</th>\n",
       "      <th>scientificName</th>\n",
       "      <th>canonicalName</th>\n",
       "      <th>rank</th>\n",
       "      <th>status</th>\n",
       "      <th>confidence</th>\n",
       "      <th>matchType</th>\n",
       "      <th>kingdom</th>\n",
       "      <th>phylum</th>\n",
       "      <th>order</th>\n",
       "      <th>...</th>\n",
       "      <th>phylumKey</th>\n",
       "      <th>classKey</th>\n",
       "      <th>orderKey</th>\n",
       "      <th>familyKey</th>\n",
       "      <th>genusKey</th>\n",
       "      <th>speciesKey</th>\n",
       "      <th>synonym</th>\n",
       "      <th>class</th>\n",
       "      <th>note</th>\n",
       "      <th>acceptedUsageKey</th>\n",
       "    </tr>\n",
       "  </thead>\n",
       "  <tbody>\n",
       "    <tr>\n",
       "      <th>0</th>\n",
       "      <td>2491123</td>\n",
       "      <td>Ammodramus savannarum (J.F.Gmelin, 1789)</td>\n",
       "      <td>Ammodramus savannarum</td>\n",
       "      <td>SPECIES</td>\n",
       "      <td>ACCEPTED</td>\n",
       "      <td>99</td>\n",
       "      <td>EXACT</td>\n",
       "      <td>Animalia</td>\n",
       "      <td>Chordata</td>\n",
       "      <td>Passeriformes</td>\n",
       "      <td>...</td>\n",
       "      <td>44</td>\n",
       "      <td>212</td>\n",
       "      <td>729</td>\n",
       "      <td>9608</td>\n",
       "      <td>2491079</td>\n",
       "      <td>2491123</td>\n",
       "      <td>False</td>\n",
       "      <td>Aves</td>\n",
       "      <td>NaN</td>\n",
       "      <td>NaN</td>\n",
       "    </tr>\n",
       "    <tr>\n",
       "      <th>1</th>\n",
       "      <td>2437568</td>\n",
       "      <td>Ammospermophilus harrisii (Audubon &amp; Bachman, ...</td>\n",
       "      <td>Ammospermophilus harrisii</td>\n",
       "      <td>SPECIES</td>\n",
       "      <td>ACCEPTED</td>\n",
       "      <td>96</td>\n",
       "      <td>FUZZY</td>\n",
       "      <td>Animalia</td>\n",
       "      <td>Chordata</td>\n",
       "      <td>Rodentia</td>\n",
       "      <td>...</td>\n",
       "      <td>44</td>\n",
       "      <td>359</td>\n",
       "      <td>1459</td>\n",
       "      <td>9456</td>\n",
       "      <td>2437567</td>\n",
       "      <td>2437568</td>\n",
       "      <td>False</td>\n",
       "      <td>Mammalia</td>\n",
       "      <td>NaN</td>\n",
       "      <td>NaN</td>\n",
       "    </tr>\n",
       "    <tr>\n",
       "      <th>2</th>\n",
       "      <td>2491757</td>\n",
       "      <td>Amphispiza bilineata (Cassin, 1850)</td>\n",
       "      <td>Amphispiza bilineata</td>\n",
       "      <td>SPECIES</td>\n",
       "      <td>ACCEPTED</td>\n",
       "      <td>99</td>\n",
       "      <td>EXACT</td>\n",
       "      <td>Animalia</td>\n",
       "      <td>Chordata</td>\n",
       "      <td>Passeriformes</td>\n",
       "      <td>...</td>\n",
       "      <td>44</td>\n",
       "      <td>212</td>\n",
       "      <td>729</td>\n",
       "      <td>9608</td>\n",
       "      <td>2491750</td>\n",
       "      <td>2491757</td>\n",
       "      <td>False</td>\n",
       "      <td>Aves</td>\n",
       "      <td>NaN</td>\n",
       "      <td>NaN</td>\n",
       "    </tr>\n",
       "    <tr>\n",
       "      <th>3</th>\n",
       "      <td>2438866</td>\n",
       "      <td>Baiomys taylori (Thomas, 1887)</td>\n",
       "      <td>Baiomys taylori</td>\n",
       "      <td>SPECIES</td>\n",
       "      <td>ACCEPTED</td>\n",
       "      <td>99</td>\n",
       "      <td>EXACT</td>\n",
       "      <td>Animalia</td>\n",
       "      <td>Chordata</td>\n",
       "      <td>Rodentia</td>\n",
       "      <td>...</td>\n",
       "      <td>44</td>\n",
       "      <td>359</td>\n",
       "      <td>1459</td>\n",
       "      <td>3240723</td>\n",
       "      <td>2438864</td>\n",
       "      <td>2438866</td>\n",
       "      <td>False</td>\n",
       "      <td>Mammalia</td>\n",
       "      <td>NaN</td>\n",
       "      <td>NaN</td>\n",
       "    </tr>\n",
       "    <tr>\n",
       "      <th>4</th>\n",
       "      <td>2491893</td>\n",
       "      <td>Calamospiza melanocorys Stejneger, 1885</td>\n",
       "      <td>Calamospiza melanocorys</td>\n",
       "      <td>SPECIES</td>\n",
       "      <td>ACCEPTED</td>\n",
       "      <td>99</td>\n",
       "      <td>EXACT</td>\n",
       "      <td>Animalia</td>\n",
       "      <td>Chordata</td>\n",
       "      <td>Passeriformes</td>\n",
       "      <td>...</td>\n",
       "      <td>44</td>\n",
       "      <td>212</td>\n",
       "      <td>729</td>\n",
       "      <td>9608</td>\n",
       "      <td>2491892</td>\n",
       "      <td>2491893</td>\n",
       "      <td>False</td>\n",
       "      <td>Aves</td>\n",
       "      <td>NaN</td>\n",
       "      <td>NaN</td>\n",
       "    </tr>\n",
       "  </tbody>\n",
       "</table>\n",
       "<p>5 rows × 24 columns</p>\n",
       "</div>"
      ],
      "text/plain": [
       "  usageKey                                     scientificName  \\\n",
       "0  2491123           Ammodramus savannarum (J.F.Gmelin, 1789)   \n",
       "1  2437568  Ammospermophilus harrisii (Audubon & Bachman, ...   \n",
       "2  2491757                Amphispiza bilineata (Cassin, 1850)   \n",
       "3  2438866                     Baiomys taylori (Thomas, 1887)   \n",
       "4  2491893            Calamospiza melanocorys Stejneger, 1885   \n",
       "\n",
       "               canonicalName     rank    status confidence matchType  \\\n",
       "0      Ammodramus savannarum  SPECIES  ACCEPTED         99     EXACT   \n",
       "1  Ammospermophilus harrisii  SPECIES  ACCEPTED         96     FUZZY   \n",
       "2       Amphispiza bilineata  SPECIES  ACCEPTED         99     EXACT   \n",
       "3            Baiomys taylori  SPECIES  ACCEPTED         99     EXACT   \n",
       "4    Calamospiza melanocorys  SPECIES  ACCEPTED         99     EXACT   \n",
       "\n",
       "    kingdom    phylum          order  ... phylumKey classKey orderKey  \\\n",
       "0  Animalia  Chordata  Passeriformes  ...        44      212      729   \n",
       "1  Animalia  Chordata       Rodentia  ...        44      359     1459   \n",
       "2  Animalia  Chordata  Passeriformes  ...        44      212      729   \n",
       "3  Animalia  Chordata       Rodentia  ...        44      359     1459   \n",
       "4  Animalia  Chordata  Passeriformes  ...        44      212      729   \n",
       "\n",
       "  familyKey genusKey speciesKey synonym     class note acceptedUsageKey  \n",
       "0      9608  2491079    2491123   False      Aves  NaN              NaN  \n",
       "1      9456  2437567    2437568   False  Mammalia  NaN              NaN  \n",
       "2      9608  2491750    2491757   False      Aves  NaN              NaN  \n",
       "3   3240723  2438864    2438866   False  Mammalia  NaN              NaN  \n",
       "4      9608  2491892    2491893   False      Aves  NaN              NaN  \n",
       "\n",
       "[5 rows x 24 columns]"
      ]
     },
     "execution_count": 95,
     "metadata": {},
     "output_type": "execute_result"
    }
   ],
   "source": [
    "df_species_annotated.head()"
   ]
  },
  {
   "cell_type": "markdown",
   "metadata": {},
   "source": [
    "### Select relevant information and add this to the survey data"
   ]
  },
  {
   "cell_type": "markdown",
   "metadata": {},
   "source": [
    "<div class=\"alert alert-success\">\n",
    "\n",
    "**EXERCISE**\n",
    "\n",
    "- Subselect the columns 'class', 'kingdom', 'order', 'phylum', 'scientificName', 'status' and  'usageKey' from the DataFrame `df_species_annotated`. Save it as the variable `df_species_annotated_subset`\n",
    "\n",
    "</div>"
   ]
  },
  {
   "cell_type": "code",
   "execution_count": 96,
   "metadata": {
    "tags": [
     "nbtutor-solution"
    ]
   },
   "outputs": [],
   "source": [
    "df_species_annotated_subset = df_species_annotated[['class', 'kingdom', 'order', 'phylum',\n",
    "                                                    'scientificName', 'status', 'usageKey']]"
   ]
  },
  {
   "cell_type": "code",
   "execution_count": 97,
   "metadata": {},
   "outputs": [
    {
     "data": {
      "text/html": [
       "<div>\n",
       "<style scoped>\n",
       "    .dataframe tbody tr th:only-of-type {\n",
       "        vertical-align: middle;\n",
       "    }\n",
       "\n",
       "    .dataframe tbody tr th {\n",
       "        vertical-align: top;\n",
       "    }\n",
       "\n",
       "    .dataframe thead th {\n",
       "        text-align: right;\n",
       "    }\n",
       "</style>\n",
       "<table border=\"1\" class=\"dataframe\">\n",
       "  <thead>\n",
       "    <tr style=\"text-align: right;\">\n",
       "      <th></th>\n",
       "      <th>class</th>\n",
       "      <th>kingdom</th>\n",
       "      <th>order</th>\n",
       "      <th>phylum</th>\n",
       "      <th>scientificName</th>\n",
       "      <th>status</th>\n",
       "      <th>usageKey</th>\n",
       "    </tr>\n",
       "  </thead>\n",
       "  <tbody>\n",
       "    <tr>\n",
       "      <th>0</th>\n",
       "      <td>Aves</td>\n",
       "      <td>Animalia</td>\n",
       "      <td>Passeriformes</td>\n",
       "      <td>Chordata</td>\n",
       "      <td>Ammodramus savannarum (J.F.Gmelin, 1789)</td>\n",
       "      <td>ACCEPTED</td>\n",
       "      <td>2491123</td>\n",
       "    </tr>\n",
       "    <tr>\n",
       "      <th>1</th>\n",
       "      <td>Mammalia</td>\n",
       "      <td>Animalia</td>\n",
       "      <td>Rodentia</td>\n",
       "      <td>Chordata</td>\n",
       "      <td>Ammospermophilus harrisii (Audubon &amp; Bachman, ...</td>\n",
       "      <td>ACCEPTED</td>\n",
       "      <td>2437568</td>\n",
       "    </tr>\n",
       "    <tr>\n",
       "      <th>2</th>\n",
       "      <td>Aves</td>\n",
       "      <td>Animalia</td>\n",
       "      <td>Passeriformes</td>\n",
       "      <td>Chordata</td>\n",
       "      <td>Amphispiza bilineata (Cassin, 1850)</td>\n",
       "      <td>ACCEPTED</td>\n",
       "      <td>2491757</td>\n",
       "    </tr>\n",
       "    <tr>\n",
       "      <th>3</th>\n",
       "      <td>Mammalia</td>\n",
       "      <td>Animalia</td>\n",
       "      <td>Rodentia</td>\n",
       "      <td>Chordata</td>\n",
       "      <td>Baiomys taylori (Thomas, 1887)</td>\n",
       "      <td>ACCEPTED</td>\n",
       "      <td>2438866</td>\n",
       "    </tr>\n",
       "    <tr>\n",
       "      <th>4</th>\n",
       "      <td>Aves</td>\n",
       "      <td>Animalia</td>\n",
       "      <td>Passeriformes</td>\n",
       "      <td>Chordata</td>\n",
       "      <td>Calamospiza melanocorys Stejneger, 1885</td>\n",
       "      <td>ACCEPTED</td>\n",
       "      <td>2491893</td>\n",
       "    </tr>\n",
       "  </tbody>\n",
       "</table>\n",
       "</div>"
      ],
      "text/plain": [
       "      class   kingdom          order    phylum  \\\n",
       "0      Aves  Animalia  Passeriformes  Chordata   \n",
       "1  Mammalia  Animalia       Rodentia  Chordata   \n",
       "2      Aves  Animalia  Passeriformes  Chordata   \n",
       "3  Mammalia  Animalia       Rodentia  Chordata   \n",
       "4      Aves  Animalia  Passeriformes  Chordata   \n",
       "\n",
       "                                      scientificName    status usageKey  \n",
       "0           Ammodramus savannarum (J.F.Gmelin, 1789)  ACCEPTED  2491123  \n",
       "1  Ammospermophilus harrisii (Audubon & Bachman, ...  ACCEPTED  2437568  \n",
       "2                Amphispiza bilineata (Cassin, 1850)  ACCEPTED  2491757  \n",
       "3                     Baiomys taylori (Thomas, 1887)  ACCEPTED  2438866  \n",
       "4            Calamospiza melanocorys Stejneger, 1885  ACCEPTED  2491893  "
      ]
     },
     "execution_count": 97,
     "metadata": {},
     "output_type": "execute_result"
    }
   ],
   "source": [
    "df_species_annotated_subset.head()"
   ]
  },
  {
   "cell_type": "markdown",
   "metadata": {},
   "source": [
    "<div class=\"alert alert-success\">\n",
    "\n",
    "**EXERCISE**\n",
    "\n",
    "- Join the `df_species_annotated_subset` information to the `unique_species` overview of species. Save the result as variable `unique_species_annotated`.\n",
    "</div>"
   ]
  },
  {
   "cell_type": "code",
   "execution_count": 98,
   "metadata": {
    "tags": [
     "nbtutor-solution"
    ]
   },
   "outputs": [],
   "source": [
    "unique_species_annotated = pd.merge(unique_species, df_species_annotated_subset,\n",
    "                                    left_index=True, right_index=True)"
   ]
  },
  {
   "cell_type": "code",
   "execution_count": 99,
   "metadata": {},
   "outputs": [
    {
     "data": {
      "text/html": [
       "<div>\n",
       "<style scoped>\n",
       "    .dataframe tbody tr th:only-of-type {\n",
       "        vertical-align: middle;\n",
       "    }\n",
       "\n",
       "    .dataframe tbody tr th {\n",
       "        vertical-align: top;\n",
       "    }\n",
       "\n",
       "    .dataframe thead th {\n",
       "        text-align: right;\n",
       "    }\n",
       "</style>\n",
       "<table border=\"1\" class=\"dataframe\">\n",
       "  <thead>\n",
       "    <tr style=\"text-align: right;\">\n",
       "      <th></th>\n",
       "      <th>genus</th>\n",
       "      <th>species</th>\n",
       "      <th>name</th>\n",
       "      <th>class</th>\n",
       "      <th>kingdom</th>\n",
       "      <th>order</th>\n",
       "      <th>phylum</th>\n",
       "      <th>scientificName</th>\n",
       "      <th>status</th>\n",
       "      <th>usageKey</th>\n",
       "    </tr>\n",
       "  </thead>\n",
       "  <tbody>\n",
       "    <tr>\n",
       "      <th>0</th>\n",
       "      <td>Ammodramus</td>\n",
       "      <td>savannarum</td>\n",
       "      <td>Ammodramus savannarum</td>\n",
       "      <td>Aves</td>\n",
       "      <td>Animalia</td>\n",
       "      <td>Passeriformes</td>\n",
       "      <td>Chordata</td>\n",
       "      <td>Ammodramus savannarum (J.F.Gmelin, 1789)</td>\n",
       "      <td>ACCEPTED</td>\n",
       "      <td>2491123</td>\n",
       "    </tr>\n",
       "    <tr>\n",
       "      <th>1</th>\n",
       "      <td>Ammospermophilus</td>\n",
       "      <td>harrisi</td>\n",
       "      <td>Ammospermophilus harrisi</td>\n",
       "      <td>Mammalia</td>\n",
       "      <td>Animalia</td>\n",
       "      <td>Rodentia</td>\n",
       "      <td>Chordata</td>\n",
       "      <td>Ammospermophilus harrisii (Audubon &amp; Bachman, ...</td>\n",
       "      <td>ACCEPTED</td>\n",
       "      <td>2437568</td>\n",
       "    </tr>\n",
       "    <tr>\n",
       "      <th>2</th>\n",
       "      <td>Amphispiza</td>\n",
       "      <td>bilineata</td>\n",
       "      <td>Amphispiza bilineata</td>\n",
       "      <td>Aves</td>\n",
       "      <td>Animalia</td>\n",
       "      <td>Passeriformes</td>\n",
       "      <td>Chordata</td>\n",
       "      <td>Amphispiza bilineata (Cassin, 1850)</td>\n",
       "      <td>ACCEPTED</td>\n",
       "      <td>2491757</td>\n",
       "    </tr>\n",
       "    <tr>\n",
       "      <th>3</th>\n",
       "      <td>Baiomys</td>\n",
       "      <td>taylori</td>\n",
       "      <td>Baiomys taylori</td>\n",
       "      <td>Mammalia</td>\n",
       "      <td>Animalia</td>\n",
       "      <td>Rodentia</td>\n",
       "      <td>Chordata</td>\n",
       "      <td>Baiomys taylori (Thomas, 1887)</td>\n",
       "      <td>ACCEPTED</td>\n",
       "      <td>2438866</td>\n",
       "    </tr>\n",
       "    <tr>\n",
       "      <th>4</th>\n",
       "      <td>Calamospiza</td>\n",
       "      <td>melanocorys</td>\n",
       "      <td>Calamospiza melanocorys</td>\n",
       "      <td>Aves</td>\n",
       "      <td>Animalia</td>\n",
       "      <td>Passeriformes</td>\n",
       "      <td>Chordata</td>\n",
       "      <td>Calamospiza melanocorys Stejneger, 1885</td>\n",
       "      <td>ACCEPTED</td>\n",
       "      <td>2491893</td>\n",
       "    </tr>\n",
       "  </tbody>\n",
       "</table>\n",
       "</div>"
      ],
      "text/plain": [
       "              genus      species                      name     class  \\\n",
       "0        Ammodramus   savannarum     Ammodramus savannarum      Aves   \n",
       "1  Ammospermophilus      harrisi  Ammospermophilus harrisi  Mammalia   \n",
       "2        Amphispiza    bilineata      Amphispiza bilineata      Aves   \n",
       "3           Baiomys      taylori           Baiomys taylori  Mammalia   \n",
       "4       Calamospiza  melanocorys   Calamospiza melanocorys      Aves   \n",
       "\n",
       "    kingdom          order    phylum  \\\n",
       "0  Animalia  Passeriformes  Chordata   \n",
       "1  Animalia       Rodentia  Chordata   \n",
       "2  Animalia  Passeriformes  Chordata   \n",
       "3  Animalia       Rodentia  Chordata   \n",
       "4  Animalia  Passeriformes  Chordata   \n",
       "\n",
       "                                      scientificName    status usageKey  \n",
       "0           Ammodramus savannarum (J.F.Gmelin, 1789)  ACCEPTED  2491123  \n",
       "1  Ammospermophilus harrisii (Audubon & Bachman, ...  ACCEPTED  2437568  \n",
       "2                Amphispiza bilineata (Cassin, 1850)  ACCEPTED  2491757  \n",
       "3                     Baiomys taylori (Thomas, 1887)  ACCEPTED  2438866  \n",
       "4            Calamospiza melanocorys Stejneger, 1885  ACCEPTED  2491893  "
      ]
     },
     "execution_count": 99,
     "metadata": {},
     "output_type": "execute_result"
    }
   ],
   "source": [
    "unique_species_annotated.head()"
   ]
  },
  {
   "cell_type": "markdown",
   "metadata": {},
   "source": [
    "<div class=\"alert alert-success\">\n",
    "\n",
    "**EXERCISE**\n",
    "\n",
    "- Join the `unique_species_annotated` data to the `survey_data_species` data set, using both the genus and species column as keys. Save the result as the variable `survey_data_completed`.\n",
    "\n",
    "</div>"
   ]
  },
  {
   "cell_type": "code",
   "execution_count": 103,
   "metadata": {
    "tags": [
     "nbtutor-solution"
    ]
   },
   "outputs": [],
   "source": [
    "survey_data_completed = pd.merge(survey_data_plots, unique_species_annotated,\n",
    "                                 how='left', on= [\"genus\", \"species\"])"
   ]
  },
  {
   "cell_type": "code",
   "execution_count": 104,
   "metadata": {},
   "outputs": [
    {
     "data": {
      "text/plain": [
       "35550"
      ]
     },
     "execution_count": 104,
     "metadata": {},
     "output_type": "execute_result"
    }
   ],
   "source": [
    "len(survey_data_completed)"
   ]
  },
  {
   "cell_type": "code",
   "execution_count": 105,
   "metadata": {},
   "outputs": [
    {
     "data": {
      "text/html": [
       "<div>\n",
       "<style scoped>\n",
       "    .dataframe tbody tr th:only-of-type {\n",
       "        vertical-align: middle;\n",
       "    }\n",
       "\n",
       "    .dataframe tbody tr th {\n",
       "        vertical-align: top;\n",
       "    }\n",
       "\n",
       "    .dataframe thead th {\n",
       "        text-align: right;\n",
       "    }\n",
       "</style>\n",
       "<table border=\"1\" class=\"dataframe\">\n",
       "  <thead>\n",
       "    <tr style=\"text-align: right;\">\n",
       "      <th></th>\n",
       "      <th>verbatimLocality</th>\n",
       "      <th>verbatimSex</th>\n",
       "      <th>wgt</th>\n",
       "      <th>datasetName</th>\n",
       "      <th>sex</th>\n",
       "      <th>occurrenceID</th>\n",
       "      <th>eventDate</th>\n",
       "      <th>genus</th>\n",
       "      <th>species</th>\n",
       "      <th>taxa</th>\n",
       "      <th>decimalLongitude</th>\n",
       "      <th>decimalLatitude</th>\n",
       "      <th>name</th>\n",
       "      <th>class</th>\n",
       "      <th>kingdom</th>\n",
       "      <th>order</th>\n",
       "      <th>phylum</th>\n",
       "      <th>scientificName</th>\n",
       "      <th>status</th>\n",
       "      <th>usageKey</th>\n",
       "    </tr>\n",
       "  </thead>\n",
       "  <tbody>\n",
       "    <tr>\n",
       "      <th>0</th>\n",
       "      <td>2</td>\n",
       "      <td>M</td>\n",
       "      <td>NaN</td>\n",
       "      <td>Ecological Archives E090-118-D1.</td>\n",
       "      <td>male</td>\n",
       "      <td>1</td>\n",
       "      <td>1977-07-16</td>\n",
       "      <td>NaN</td>\n",
       "      <td>NaN</td>\n",
       "      <td>NaN</td>\n",
       "      <td>31.938887</td>\n",
       "      <td>-109.081975</td>\n",
       "      <td>NaN</td>\n",
       "      <td>NaN</td>\n",
       "      <td>NaN</td>\n",
       "      <td>NaN</td>\n",
       "      <td>NaN</td>\n",
       "      <td>NaN</td>\n",
       "      <td>NaN</td>\n",
       "      <td>NaN</td>\n",
       "    </tr>\n",
       "    <tr>\n",
       "      <th>1</th>\n",
       "      <td>3</td>\n",
       "      <td>M</td>\n",
       "      <td>NaN</td>\n",
       "      <td>Ecological Archives E090-118-D1.</td>\n",
       "      <td>male</td>\n",
       "      <td>2</td>\n",
       "      <td>1977-07-16</td>\n",
       "      <td>NaN</td>\n",
       "      <td>NaN</td>\n",
       "      <td>NaN</td>\n",
       "      <td>31.938896</td>\n",
       "      <td>-109.081208</td>\n",
       "      <td>NaN</td>\n",
       "      <td>NaN</td>\n",
       "      <td>NaN</td>\n",
       "      <td>NaN</td>\n",
       "      <td>NaN</td>\n",
       "      <td>NaN</td>\n",
       "      <td>NaN</td>\n",
       "      <td>NaN</td>\n",
       "    </tr>\n",
       "    <tr>\n",
       "      <th>2</th>\n",
       "      <td>2</td>\n",
       "      <td>F</td>\n",
       "      <td>NaN</td>\n",
       "      <td>Ecological Archives E090-118-D1.</td>\n",
       "      <td>female</td>\n",
       "      <td>3</td>\n",
       "      <td>1977-07-16</td>\n",
       "      <td>Dipodomys</td>\n",
       "      <td>merriami</td>\n",
       "      <td>Rodent</td>\n",
       "      <td>31.938887</td>\n",
       "      <td>-109.081975</td>\n",
       "      <td>Dipodomys merriami</td>\n",
       "      <td>Mammalia</td>\n",
       "      <td>Animalia</td>\n",
       "      <td>Rodentia</td>\n",
       "      <td>Chordata</td>\n",
       "      <td>Dipodomys merriami Mearns, 1890</td>\n",
       "      <td>ACCEPTED</td>\n",
       "      <td>2439521</td>\n",
       "    </tr>\n",
       "    <tr>\n",
       "      <th>3</th>\n",
       "      <td>7</td>\n",
       "      <td>M</td>\n",
       "      <td>NaN</td>\n",
       "      <td>Ecological Archives E090-118-D1.</td>\n",
       "      <td>male</td>\n",
       "      <td>4</td>\n",
       "      <td>1977-07-16</td>\n",
       "      <td>Dipodomys</td>\n",
       "      <td>merriami</td>\n",
       "      <td>Rodent</td>\n",
       "      <td>31.938113</td>\n",
       "      <td>-109.082816</td>\n",
       "      <td>Dipodomys merriami</td>\n",
       "      <td>Mammalia</td>\n",
       "      <td>Animalia</td>\n",
       "      <td>Rodentia</td>\n",
       "      <td>Chordata</td>\n",
       "      <td>Dipodomys merriami Mearns, 1890</td>\n",
       "      <td>ACCEPTED</td>\n",
       "      <td>2439521</td>\n",
       "    </tr>\n",
       "    <tr>\n",
       "      <th>4</th>\n",
       "      <td>3</td>\n",
       "      <td>M</td>\n",
       "      <td>NaN</td>\n",
       "      <td>Ecological Archives E090-118-D1.</td>\n",
       "      <td>male</td>\n",
       "      <td>5</td>\n",
       "      <td>1977-07-16</td>\n",
       "      <td>Dipodomys</td>\n",
       "      <td>merriami</td>\n",
       "      <td>Rodent</td>\n",
       "      <td>31.938896</td>\n",
       "      <td>-109.081208</td>\n",
       "      <td>Dipodomys merriami</td>\n",
       "      <td>Mammalia</td>\n",
       "      <td>Animalia</td>\n",
       "      <td>Rodentia</td>\n",
       "      <td>Chordata</td>\n",
       "      <td>Dipodomys merriami Mearns, 1890</td>\n",
       "      <td>ACCEPTED</td>\n",
       "      <td>2439521</td>\n",
       "    </tr>\n",
       "  </tbody>\n",
       "</table>\n",
       "</div>"
      ],
      "text/plain": [
       "   verbatimLocality verbatimSex  wgt                       datasetName  \\\n",
       "0                 2           M  NaN  Ecological Archives E090-118-D1.   \n",
       "1                 3           M  NaN  Ecological Archives E090-118-D1.   \n",
       "2                 2           F  NaN  Ecological Archives E090-118-D1.   \n",
       "3                 7           M  NaN  Ecological Archives E090-118-D1.   \n",
       "4                 3           M  NaN  Ecological Archives E090-118-D1.   \n",
       "\n",
       "      sex  occurrenceID   eventDate      genus   species    taxa  \\\n",
       "0    male             1  1977-07-16        NaN       NaN     NaN   \n",
       "1    male             2  1977-07-16        NaN       NaN     NaN   \n",
       "2  female             3  1977-07-16  Dipodomys  merriami  Rodent   \n",
       "3    male             4  1977-07-16  Dipodomys  merriami  Rodent   \n",
       "4    male             5  1977-07-16  Dipodomys  merriami  Rodent   \n",
       "\n",
       "   decimalLongitude  decimalLatitude                name     class   kingdom  \\\n",
       "0         31.938887      -109.081975                 NaN       NaN       NaN   \n",
       "1         31.938896      -109.081208                 NaN       NaN       NaN   \n",
       "2         31.938887      -109.081975  Dipodomys merriami  Mammalia  Animalia   \n",
       "3         31.938113      -109.082816  Dipodomys merriami  Mammalia  Animalia   \n",
       "4         31.938896      -109.081208  Dipodomys merriami  Mammalia  Animalia   \n",
       "\n",
       "      order    phylum                   scientificName    status usageKey  \n",
       "0       NaN       NaN                              NaN       NaN      NaN  \n",
       "1       NaN       NaN                              NaN       NaN      NaN  \n",
       "2  Rodentia  Chordata  Dipodomys merriami Mearns, 1890  ACCEPTED  2439521  \n",
       "3  Rodentia  Chordata  Dipodomys merriami Mearns, 1890  ACCEPTED  2439521  \n",
       "4  Rodentia  Chordata  Dipodomys merriami Mearns, 1890  ACCEPTED  2439521  "
      ]
     },
     "execution_count": 105,
     "metadata": {},
     "output_type": "execute_result"
    }
   ],
   "source": [
    "survey_data_completed.head()"
   ]
  },
  {
   "cell_type": "markdown",
   "metadata": {},
   "source": [
    "Congratulations! You did a great cleaning job, save your result:"
   ]
  },
  {
   "cell_type": "code",
   "execution_count": 95,
   "metadata": {},
   "outputs": [],
   "source": [
    "survey_data_completed.to_csv(\"survey_data_completed_.csv\", index=False)"
   ]
  },
  {
   "cell_type": "markdown",
   "metadata": {},
   "source": [
    "## Acknowledgements"
   ]
  },
  {
   "cell_type": "markdown",
   "metadata": {},
   "source": [
    "* `species.csv` and `survey.csv` are used from the [data carpentry workshop](https://github.com/datacarpentry/python-ecology-lesson) This data is from the paper S. K. Morgan Ernest, Thomas J. Valone, and James H.\n",
    "Brown. 2009. Long-term monitoring and experimental manipulation of a Chihuahuan Desert ecosystem near Portal, Arizona, USA. Ecology 90:1708. http://esapubs.org/archive/ecol/E090/118/\n",
    "* The `plot_location.xlsx` is a dummy created location file purely created for this exercise, using the plots location on google maps\n",
    "* [GBIF API](http://www.gbif.org/developer/summary)"
   ]
  }
 ],
 "metadata": {
  "celltoolbar": "Nbtutor - export exercises",
  "jupytext": {
   "formats": "ipynb,md:myst"
  },
  "kernelspec": {
   "display_name": "Python 3",
   "language": "python",
   "name": "python3"
  },
  "language_info": {
   "codemirror_mode": {
    "name": "ipython",
    "version": 3
   },
   "file_extension": ".py",
   "mimetype": "text/x-python",
   "name": "python",
   "nbconvert_exporter": "python",
   "pygments_lexer": "ipython3",
   "version": "3.8.10"
  },
  "nav_menu": {},
  "toc": {
   "navigate_menu": true,
   "number_sections": true,
   "sideBar": true,
   "threshold": 6,
   "toc_cell": false,
   "toc_section_display": "block",
   "toc_window_display": true
  },
  "toc_position": {
   "height": "811px",
   "left": "0px",
   "right": "1864.67px",
   "top": "106px",
   "width": "212px"
  },
  "widgets": {
   "application/vnd.jupyter.widget-state+json": {
    "state": {},
    "version_major": 2,
    "version_minor": 0
   }
  }
 },
 "nbformat": 4,
 "nbformat_minor": 4
}
