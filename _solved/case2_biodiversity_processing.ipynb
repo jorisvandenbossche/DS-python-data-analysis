{
 "cells": [
  {
   "cell_type": "markdown",
   "metadata": {},
   "source": [
    "<p><font size=\"6\"><b> CASE - Biodiversity data - data cleaning and enrichment</b></font></p>\n",
    "\n",
    "\n",
    "> *DS Data manipulation, analysis and visualisation in Python*  \n",
    "> *December, 2019*\n",
    "\n",
    "> *© 2016, Joris Van den Bossche and Stijn Van Hoey  (<mailto:jorisvandenbossche@gmail.com>, <mailto:stijnvanhoey@gmail.com>). Licensed under [CC BY 4.0 Creative Commons](http://creativecommons.org/licenses/by/4.0/)*\n",
    "\n",
    "---"
   ]
  },
  {
   "cell_type": "code",
   "execution_count": 1,
   "metadata": {
    "run_control": {
     "frozen": false,
     "read_only": false
    }
   },
   "outputs": [],
   "source": [
    "import numpy as np\n",
    "import pandas as pd\n",
    "import matplotlib.pyplot as plt\n",
    "\n",
    "plt.style.use('seaborn-whitegrid')"
   ]
  },
  {
   "cell_type": "markdown",
   "metadata": {},
   "source": [
    "**Scenario**:<br> You are interested in occurrence data for a number of species in Flanders. Unfortunately, the sources for this type of data are still scattered among different institutes. After a mailing campaign, you receive a number of files from different formats, in various data formats and styles... \n",
    "\n",
    "You decide to be brave and script the interpretation and transformation, in order to provide reproducibility of your work. Moreover, similar analysis will be needed in the future with new data requests. You *hope* that future data requests will result in similar data formats from the individual partners. So, having a script will enhance the efficiency at that moment."
   ]
  },
  {
   "cell_type": "markdown",
   "metadata": {},
   "source": [
    "Besides from the technical differences in the data formats (`csv`, `excel`, `shapefile`, `sqlite`...), there are also differences in the naming of the content. For example, the coordinates, can be named `x`/`y`, `decimalLatitude`/`decimalLongitude`, `lat`/`long`... Luckely, you know of an international **open data standard** to describe occurrence data, i.e. [Darwin Core (DwC)](http://rs.tdwg.org/dwc/terms/#sex). Instead of inventing your own data model, you decide to comply to this international standard. The latter will enhance communication and will also make your data compliant to other data services working with this kind of data."
   ]
  },
  {
   "cell_type": "markdown",
   "metadata": {},
   "source": [
    "In short, the DwC describes a flat table (cfr. CSV) with an agreed name convention on the header names and conventions on how certain data types need to be represented. Whereas the standard definitions are out of scope, an in depth description is given [here](https://www.tdwg.org/standards/dwc/). For this tutorial, we will focus on a few of the existing terms to learn some elements about data cleaning:\n",
    "* `eventDate`: ISO 6801 format of dates\n",
    "* `scientificName`: the accepted scientific name of the species\n",
    "* `decimalLatitude`/`decimalLongitude`: coordinates of the occurrence in WGS84 format\n",
    "* `sex`: either `male` or `female` to characterise the sex of the occurrence\n",
    "* `occurrenceID`: a identifier within the dataset to identify the individual records\n",
    "* `datasetName`: a static string defining the source of the data\n",
    "\n",
    "Futhermore, additional information concering the taxonomy will be added using an external API service"
   ]
  },
  {
   "cell_type": "markdown",
   "metadata": {},
   "source": [
    "**Dataset to work on:**"
   ]
  },
  {
   "cell_type": "markdown",
   "metadata": {},
   "source": [
    "For this dataset, the data is provided in the following main data files:\n",
    "* `surveys.csv` the data with the surveys observed in the individual plots\n",
    "* `species.csv` the overview list of the species shortnames\n",
    "* `plot_location.xlsx` the overview of coordinates of the individual locations\n",
    "\n",
    "The data originates from a [study](http://esapubs.org/archive/ecol/E090/118/metadata.htm) of a Chihuahuan desert ecosystem near Portal, Arizona\n",
    "\n",
    "![](../img/plot_overview.png)"
   ]
  },
  {
   "cell_type": "markdown",
   "metadata": {},
   "source": [
    "## Survey-data"
   ]
  },
  {
   "cell_type": "markdown",
   "metadata": {},
   "source": [
    "Reading in the data of the individual surveys:"
   ]
  },
  {
   "cell_type": "code",
   "execution_count": 2,
   "metadata": {
    "run_control": {
     "frozen": false,
     "read_only": false
    }
   },
   "outputs": [],
   "source": [
    "survey_data = pd.read_csv(\"../data/surveys.csv\")"
   ]
  },
  {
   "cell_type": "code",
   "execution_count": 3,
   "metadata": {
    "run_control": {
     "frozen": false,
     "read_only": false
    }
   },
   "outputs": [
    {
     "data": {
      "text/html": [
       "<div>\n",
       "<style scoped>\n",
       "    .dataframe tbody tr th:only-of-type {\n",
       "        vertical-align: middle;\n",
       "    }\n",
       "\n",
       "    .dataframe tbody tr th {\n",
       "        vertical-align: top;\n",
       "    }\n",
       "\n",
       "    .dataframe thead th {\n",
       "        text-align: right;\n",
       "    }\n",
       "</style>\n",
       "<table border=\"1\" class=\"dataframe\">\n",
       "  <thead>\n",
       "    <tr style=\"text-align: right;\">\n",
       "      <th></th>\n",
       "      <th>record_id</th>\n",
       "      <th>month</th>\n",
       "      <th>day</th>\n",
       "      <th>year</th>\n",
       "      <th>plot</th>\n",
       "      <th>species</th>\n",
       "      <th>sex_char</th>\n",
       "      <th>wgt</th>\n",
       "    </tr>\n",
       "  </thead>\n",
       "  <tbody>\n",
       "    <tr>\n",
       "      <th>0</th>\n",
       "      <td>1</td>\n",
       "      <td>7</td>\n",
       "      <td>16</td>\n",
       "      <td>1977</td>\n",
       "      <td>2</td>\n",
       "      <td>NaN</td>\n",
       "      <td>M</td>\n",
       "      <td>NaN</td>\n",
       "    </tr>\n",
       "    <tr>\n",
       "      <th>1</th>\n",
       "      <td>2</td>\n",
       "      <td>7</td>\n",
       "      <td>16</td>\n",
       "      <td>1977</td>\n",
       "      <td>3</td>\n",
       "      <td>NaN</td>\n",
       "      <td>M</td>\n",
       "      <td>NaN</td>\n",
       "    </tr>\n",
       "    <tr>\n",
       "      <th>2</th>\n",
       "      <td>3</td>\n",
       "      <td>7</td>\n",
       "      <td>16</td>\n",
       "      <td>1977</td>\n",
       "      <td>2</td>\n",
       "      <td>DM</td>\n",
       "      <td>F</td>\n",
       "      <td>NaN</td>\n",
       "    </tr>\n",
       "    <tr>\n",
       "      <th>3</th>\n",
       "      <td>4</td>\n",
       "      <td>7</td>\n",
       "      <td>16</td>\n",
       "      <td>1977</td>\n",
       "      <td>7</td>\n",
       "      <td>DM</td>\n",
       "      <td>M</td>\n",
       "      <td>NaN</td>\n",
       "    </tr>\n",
       "    <tr>\n",
       "      <th>4</th>\n",
       "      <td>5</td>\n",
       "      <td>7</td>\n",
       "      <td>16</td>\n",
       "      <td>1977</td>\n",
       "      <td>3</td>\n",
       "      <td>DM</td>\n",
       "      <td>M</td>\n",
       "      <td>NaN</td>\n",
       "    </tr>\n",
       "  </tbody>\n",
       "</table>\n",
       "</div>"
      ],
      "text/plain": [
       "   record_id  month  day  year  plot species sex_char  wgt\n",
       "0          1      7   16  1977     2     NaN        M  NaN\n",
       "1          2      7   16  1977     3     NaN        M  NaN\n",
       "2          3      7   16  1977     2      DM        F  NaN\n",
       "3          4      7   16  1977     7      DM        M  NaN\n",
       "4          5      7   16  1977     3      DM        M  NaN"
      ]
     },
     "execution_count": 3,
     "metadata": {},
     "output_type": "execute_result"
    }
   ],
   "source": [
    "survey_data.head()"
   ]
  },
  {
   "cell_type": "markdown",
   "metadata": {},
   "source": [
    "<div class=\"alert alert-success\">\n",
    "    \n",
    "<b>EXERCISE</b>: How many individual records (occurrences) does the survey data set contain?\n",
    "\n",
    "</div>"
   ]
  },
  {
   "cell_type": "code",
   "execution_count": 4,
   "metadata": {
    "clear_cell": true,
    "run_control": {
     "frozen": false,
     "read_only": false
    }
   },
   "outputs": [
    {
     "data": {
      "text/plain": [
       "35549"
      ]
     },
     "execution_count": 4,
     "metadata": {},
     "output_type": "execute_result"
    }
   ],
   "source": [
    "len(survey_data)"
   ]
  },
  {
   "cell_type": "markdown",
   "metadata": {},
   "source": [
    "### Adding the data source information as static column"
   ]
  },
  {
   "cell_type": "markdown",
   "metadata": {},
   "source": [
    "For convenience when this dataset will be combined with other datasets, we first add a column of static values, defining the `datasetName` of this particular data:"
   ]
  },
  {
   "cell_type": "code",
   "execution_count": 5,
   "metadata": {
    "run_control": {
     "frozen": false,
     "read_only": false
    }
   },
   "outputs": [],
   "source": [
    "datasetname = \"Ecological Archives E090-118-D1.\""
   ]
  },
  {
   "cell_type": "markdown",
   "metadata": {},
   "source": [
    "Adding this static value as a new column `datasetName`:"
   ]
  },
  {
   "cell_type": "markdown",
   "metadata": {},
   "source": [
    "<div class=\"alert alert-success\">\n",
    "    \n",
    "<b>EXERCISE</b>: Add a new column, 'datasetName', to the survey data set with <code>datasetname</code> as value for all of the records (static value for the entire data set)\n",
    "\n",
    "</div>"
   ]
  },
  {
   "cell_type": "code",
   "execution_count": 6,
   "metadata": {
    "clear_cell": true,
    "run_control": {
     "frozen": false,
     "read_only": false
    }
   },
   "outputs": [],
   "source": [
    "survey_data[\"datasetName\"] = datasetname"
   ]
  },
  {
   "cell_type": "markdown",
   "metadata": {},
   "source": [
    "### Cleaning the sex_char column into a DwC called [sex](http://rs.tdwg.org/dwc/terms/#sex) column"
   ]
  },
  {
   "cell_type": "markdown",
   "metadata": {},
   "source": [
    "<div class=\"alert alert-success\">\n",
    "\n",
    "<b>EXERCISE</b>: Get a list of the unique values for the column <code>sex_char</code>.\n",
    "    \n",
    "__Tip__, to find the unique values, look for a function called `unique`...\n",
    "\n",
    "</div>"
   ]
  },
  {
   "cell_type": "code",
   "execution_count": 7,
   "metadata": {
    "clear_cell": true,
    "run_control": {
     "frozen": false,
     "read_only": false
    }
   },
   "outputs": [
    {
     "data": {
      "text/plain": [
       "['M', 'F', nan, 'R', 'P', 'Z']"
      ]
     },
     "execution_count": 7,
     "metadata": {},
     "output_type": "execute_result"
    }
   ],
   "source": [
    "survey_data[\"sex_char\"].unique().tolist()"
   ]
  },
  {
   "cell_type": "markdown",
   "metadata": {},
   "source": [
    "So, apparently, more information is provided in this column, whereas according to the [metadata](http://esapubs.org/archive/ecol/E090/118/Portal_rodent_metadata.htm) information, the sex information should be either `M` (male) or `F` (female). We will create a column, named `sex` and convert the symbols to the corresponding sex, taking into account the following mapping of the values (see [metadata](http://esapubs.org/archive/ecol/E090/118/Portal_rodent_metadata.htm) for more details):\n",
    "* `M` -> `male`\n",
    "* `F` -> `female`\n",
    "* `R` -> `male`\n",
    "* `P` -> `female`\n",
    "* `Z` -> nan\n",
    "\n",
    "At the same time, we will save the original information of the `sex_char` in a separate column, called `verbatimSex`, as a reference."
   ]
  },
  {
   "cell_type": "markdown",
   "metadata": {},
   "source": [
    "In summary, we have to:\n",
    "* create a new column `verbatimSex`, which is a copy of the current `sex_char` column\n",
    "* create a new column with the name `sex`\n",
    "* map the original values of the `sex_char` to the values `male` and `female` according to the listing above"
   ]
  },
  {
   "cell_type": "markdown",
   "metadata": {},
   "source": [
    "Converting the name of the column header `sex_char` to `verbatimSex` with the `rename` function:"
   ]
  },
  {
   "cell_type": "code",
   "execution_count": 8,
   "metadata": {
    "run_control": {
     "frozen": false,
     "read_only": false
    }
   },
   "outputs": [],
   "source": [
    "survey_data = survey_data.rename(columns={'sex_char': 'verbatimSex'})"
   ]
  },
  {
   "cell_type": "markdown",
   "metadata": {},
   "source": [
    "<div class=\"alert alert-success\">\n",
    "\n",
    "<b>EXERCISE</b>: Express the mapping of the the values (e.g. M -> male) into a dictionary object called sex_dict \n",
    "    \n",
    "__Tip__: (1) a NaN-value can be defined as `np.nan`, (2) a dictionary is a Python data structure, https://docs.python.org/3/tutorial/datastructures.html#dictionaries\n",
    "\n",
    "</div>"
   ]
  },
  {
   "cell_type": "code",
   "execution_count": 9,
   "metadata": {
    "clear_cell": true,
    "run_control": {
     "frozen": false,
     "read_only": false
    }
   },
   "outputs": [],
   "source": [
    "sex_dict = {\"M\": \"male\",\n",
    "            \"F\": \"female\",\n",
    "            \"R\": \"male\",\n",
    "            \"P\": \"female\",\n",
    "            \"Z\": np.nan}"
   ]
  },
  {
   "cell_type": "markdown",
   "metadata": {},
   "source": [
    "<div class=\"alert alert-success\">\n",
    "\n",
    "<b>EXERCISE</b>: Use the dictionary to replace the values in the `verbatimSex` column to the new values according to the `sex_dict` mapping dictionary and save the mapped values in a new column 'sex'.\n",
    "    \n",
    "__Tip__: to replace values using a mapping dictionary, look for a function called `replace`...\n",
    "\n",
    "</div>"
   ]
  },
  {
   "cell_type": "code",
   "execution_count": 10,
   "metadata": {
    "clear_cell": true,
    "run_control": {
     "frozen": false,
     "read_only": false
    }
   },
   "outputs": [],
   "source": [
    "survey_data['sex'] = survey_data['verbatimSex'].replace(sex_dict)"
   ]
  },
  {
   "cell_type": "markdown",
   "metadata": {},
   "source": [
    "Checking the current frequency of values (this should result in the values `male`, `female` and `nan`):"
   ]
  },
  {
   "cell_type": "code",
   "execution_count": 11,
   "metadata": {
    "run_control": {
     "frozen": false,
     "read_only": false
    }
   },
   "outputs": [
    {
     "data": {
      "text/plain": [
       "array(['male', 'female', nan], dtype=object)"
      ]
     },
     "execution_count": 11,
     "metadata": {},
     "output_type": "execute_result"
    }
   ],
   "source": [
    "survey_data[\"sex\"].unique()"
   ]
  },
  {
   "cell_type": "markdown",
   "metadata": {},
   "source": [
    "To check what the frequency of occurrences is for male/female of the categories, a bar chart is an possible representation:"
   ]
  },
  {
   "cell_type": "markdown",
   "metadata": {},
   "source": [
    "<div class=\"alert alert-success\">\n",
    "\n",
    "<b>EXERCISE</b>: Make a horizontal bar chart comparing the number of male, female and unknown (NaN) records in the dataset\n",
    "    \n",
    "__Tip__: check in the help of the Pandas plot function for the `kind` parameter\n",
    "\n",
    "</div>"
   ]
  },
  {
   "cell_type": "code",
   "execution_count": 12,
   "metadata": {
    "clear_cell": true,
    "run_control": {
     "frozen": false,
     "read_only": false
    }
   },
   "outputs": [
    {
     "data": {
      "text/plain": [
       "<matplotlib.axes._subplots.AxesSubplot at 0x7f481027fa90>"
      ]
     },
     "execution_count": 12,
     "metadata": {},
     "output_type": "execute_result"
    },
    {
     "data": {
      "image/png": "[encoded data removed]",
      "text/plain": [
       "<Figure size 432x288 with 1 Axes>"
      ]
     },
     "metadata": {},
     "output_type": "display_data"
    }
   ],
   "source": [
    "survey_data[\"sex\"].value_counts(dropna=False).plot(kind=\"barh\", color=\"#00007f\")"
   ]
  },
  {
   "cell_type": "markdown",
   "metadata": {},
   "source": [
    "<div class=\"alert alert-warning\">\n",
    "\n",
    "<b>NOTE</b>: The usage of `groupby` combined with a `count` of each group would be an option as well. However, the latter does not support to count the `NaN` values as well. The `value_counts` method does support this with the `dropna=False` argument.\n",
    "\n",
    "</div>"
   ]
  },
  {
   "cell_type": "markdown",
   "metadata": {},
   "source": [
    "### Solving double entry field by decoupling"
   ]
  },
  {
   "cell_type": "markdown",
   "metadata": {},
   "source": [
    "When checking the species unique information:"
   ]
  },
  {
   "cell_type": "code",
   "execution_count": 13,
   "metadata": {
    "run_control": {
     "frozen": false,
     "read_only": false
    }
   },
   "outputs": [
    {
     "data": {
      "text/plain": [
       "array([nan, 'DM', 'PF', 'PE', 'DM and SH', 'DS', 'PP', 'SH', 'OT', 'DO',\n",
       "       'OX', 'SS', 'OL', 'RM', 'SA', 'PM', 'AH', 'DX', 'AB', 'CB', 'CM',\n",
       "       'CQ', 'RF', 'PC', 'PG', 'PH', 'PU', 'CV', 'UR', 'UP', 'ZL', 'UL',\n",
       "       'CS', 'SC', 'BA', 'SF', 'RO', 'AS', 'SO', 'PI', 'ST', 'CU', 'SU',\n",
       "       'RX', 'PB', 'PL', 'PX', 'CT', 'US'], dtype=object)"
      ]
     },
     "execution_count": 13,
     "metadata": {},
     "output_type": "execute_result"
    }
   ],
   "source": [
    "survey_data[\"species\"].unique()"
   ]
  },
  {
   "cell_type": "code",
   "execution_count": 14,
   "metadata": {
    "run_control": {
     "frozen": false,
     "read_only": false
    }
   },
   "outputs": [
    {
     "data": {
      "text/html": [
       "<div>\n",
       "<style scoped>\n",
       "    .dataframe tbody tr th:only-of-type {\n",
       "        vertical-align: middle;\n",
       "    }\n",
       "\n",
       "    .dataframe tbody tr th {\n",
       "        vertical-align: top;\n",
       "    }\n",
       "\n",
       "    .dataframe thead th {\n",
       "        text-align: right;\n",
       "    }\n",
       "</style>\n",
       "<table border=\"1\" class=\"dataframe\">\n",
       "  <thead>\n",
       "    <tr style=\"text-align: right;\">\n",
       "      <th></th>\n",
       "      <th>record_id</th>\n",
       "      <th>month</th>\n",
       "      <th>day</th>\n",
       "      <th>year</th>\n",
       "      <th>plot</th>\n",
       "      <th>species</th>\n",
       "      <th>verbatimSex</th>\n",
       "      <th>wgt</th>\n",
       "      <th>datasetName</th>\n",
       "      <th>sex</th>\n",
       "    </tr>\n",
       "  </thead>\n",
       "  <tbody>\n",
       "    <tr>\n",
       "      <th>0</th>\n",
       "      <td>1</td>\n",
       "      <td>7</td>\n",
       "      <td>16</td>\n",
       "      <td>1977</td>\n",
       "      <td>2</td>\n",
       "      <td>NaN</td>\n",
       "      <td>M</td>\n",
       "      <td>NaN</td>\n",
       "      <td>Ecological Archives E090-118-D1.</td>\n",
       "      <td>male</td>\n",
       "    </tr>\n",
       "    <tr>\n",
       "      <th>1</th>\n",
       "      <td>2</td>\n",
       "      <td>7</td>\n",
       "      <td>16</td>\n",
       "      <td>1977</td>\n",
       "      <td>3</td>\n",
       "      <td>NaN</td>\n",
       "      <td>M</td>\n",
       "      <td>NaN</td>\n",
       "      <td>Ecological Archives E090-118-D1.</td>\n",
       "      <td>male</td>\n",
       "    </tr>\n",
       "    <tr>\n",
       "      <th>2</th>\n",
       "      <td>3</td>\n",
       "      <td>7</td>\n",
       "      <td>16</td>\n",
       "      <td>1977</td>\n",
       "      <td>2</td>\n",
       "      <td>DM</td>\n",
       "      <td>F</td>\n",
       "      <td>NaN</td>\n",
       "      <td>Ecological Archives E090-118-D1.</td>\n",
       "      <td>female</td>\n",
       "    </tr>\n",
       "    <tr>\n",
       "      <th>3</th>\n",
       "      <td>4</td>\n",
       "      <td>7</td>\n",
       "      <td>16</td>\n",
       "      <td>1977</td>\n",
       "      <td>7</td>\n",
       "      <td>DM</td>\n",
       "      <td>M</td>\n",
       "      <td>NaN</td>\n",
       "      <td>Ecological Archives E090-118-D1.</td>\n",
       "      <td>male</td>\n",
       "    </tr>\n",
       "    <tr>\n",
       "      <th>4</th>\n",
       "      <td>5</td>\n",
       "      <td>7</td>\n",
       "      <td>16</td>\n",
       "      <td>1977</td>\n",
       "      <td>3</td>\n",
       "      <td>DM</td>\n",
       "      <td>M</td>\n",
       "      <td>NaN</td>\n",
       "      <td>Ecological Archives E090-118-D1.</td>\n",
       "      <td>male</td>\n",
       "    </tr>\n",
       "    <tr>\n",
       "      <th>5</th>\n",
       "      <td>6</td>\n",
       "      <td>7</td>\n",
       "      <td>16</td>\n",
       "      <td>1977</td>\n",
       "      <td>1</td>\n",
       "      <td>PF</td>\n",
       "      <td>M</td>\n",
       "      <td>NaN</td>\n",
       "      <td>Ecological Archives E090-118-D1.</td>\n",
       "      <td>male</td>\n",
       "    </tr>\n",
       "    <tr>\n",
       "      <th>6</th>\n",
       "      <td>7</td>\n",
       "      <td>7</td>\n",
       "      <td>16</td>\n",
       "      <td>1977</td>\n",
       "      <td>2</td>\n",
       "      <td>PE</td>\n",
       "      <td>F</td>\n",
       "      <td>NaN</td>\n",
       "      <td>Ecological Archives E090-118-D1.</td>\n",
       "      <td>female</td>\n",
       "    </tr>\n",
       "    <tr>\n",
       "      <th>7</th>\n",
       "      <td>8</td>\n",
       "      <td>7</td>\n",
       "      <td>16</td>\n",
       "      <td>1977</td>\n",
       "      <td>1</td>\n",
       "      <td>DM</td>\n",
       "      <td>M</td>\n",
       "      <td>NaN</td>\n",
       "      <td>Ecological Archives E090-118-D1.</td>\n",
       "      <td>male</td>\n",
       "    </tr>\n",
       "    <tr>\n",
       "      <th>8</th>\n",
       "      <td>9</td>\n",
       "      <td>7</td>\n",
       "      <td>16</td>\n",
       "      <td>1977</td>\n",
       "      <td>1</td>\n",
       "      <td>DM and SH</td>\n",
       "      <td>NaN</td>\n",
       "      <td>NaN</td>\n",
       "      <td>Ecological Archives E090-118-D1.</td>\n",
       "      <td>NaN</td>\n",
       "    </tr>\n",
       "    <tr>\n",
       "      <th>9</th>\n",
       "      <td>10</td>\n",
       "      <td>7</td>\n",
       "      <td>16</td>\n",
       "      <td>1977</td>\n",
       "      <td>6</td>\n",
       "      <td>PF</td>\n",
       "      <td>F</td>\n",
       "      <td>NaN</td>\n",
       "      <td>Ecological Archives E090-118-D1.</td>\n",
       "      <td>female</td>\n",
       "    </tr>\n",
       "  </tbody>\n",
       "</table>\n",
       "</div>"
      ],
      "text/plain": [
       "   record_id  month  day  year  plot    species verbatimSex  wgt  \\\n",
       "0          1      7   16  1977     2        NaN           M  NaN   \n",
       "1          2      7   16  1977     3        NaN           M  NaN   \n",
       "2          3      7   16  1977     2         DM           F  NaN   \n",
       "3          4      7   16  1977     7         DM           M  NaN   \n",
       "4          5      7   16  1977     3         DM           M  NaN   \n",
       "5          6      7   16  1977     1         PF           M  NaN   \n",
       "6          7      7   16  1977     2         PE           F  NaN   \n",
       "7          8      7   16  1977     1         DM           M  NaN   \n",
       "8          9      7   16  1977     1  DM and SH         NaN  NaN   \n",
       "9         10      7   16  1977     6         PF           F  NaN   \n",
       "\n",
       "                        datasetName     sex  \n",
       "0  Ecological Archives E090-118-D1.    male  \n",
       "1  Ecological Archives E090-118-D1.    male  \n",
       "2  Ecological Archives E090-118-D1.  female  \n",
       "3  Ecological Archives E090-118-D1.    male  \n",
       "4  Ecological Archives E090-118-D1.    male  \n",
       "5  Ecological Archives E090-118-D1.    male  \n",
       "6  Ecological Archives E090-118-D1.  female  \n",
       "7  Ecological Archives E090-118-D1.    male  \n",
       "8  Ecological Archives E090-118-D1.     NaN  \n",
       "9  Ecological Archives E090-118-D1.  female  "
      ]
     },
     "execution_count": 14,
     "metadata": {},
     "output_type": "execute_result"
    }
   ],
   "source": [
    "survey_data.head(10)"
   ]
  },
  {
   "cell_type": "markdown",
   "metadata": {},
   "source": [
    "There apparently exists a double entry: `'DM and SH'`, which basically defines two records and should be decoupled to two individual records (i.e. rows). Hence, we should be able to create a additional row based on this split. To do so, Pandas provides a dedicated function since version 0.25, called `explode`. Starting from a small subset example:"
   ]
  },
  {
   "cell_type": "code",
   "execution_count": 15,
   "metadata": {},
   "outputs": [
    {
     "data": {
      "text/plain": [
       "7            DM\n",
       "8     DM and SH\n",
       "9            PF\n",
       "10           DS\n",
       "Name: species, dtype: object"
      ]
     },
     "execution_count": 15,
     "metadata": {},
     "output_type": "execute_result"
    }
   ],
   "source": [
    "example = survey_data.loc[7:10, \"species\"]\n",
    "example"
   ]
  },
  {
   "cell_type": "markdown",
   "metadata": {},
   "source": [
    "Using the `split` method on strings, we can split the string using a given character, in this case the word `and`:"
   ]
  },
  {
   "cell_type": "code",
   "execution_count": 16,
   "metadata": {},
   "outputs": [
    {
     "data": {
      "text/plain": [
       "7           [DM]\n",
       "8     [DM ,  SH]\n",
       "9           [PF]\n",
       "10          [DS]\n",
       "Name: species, dtype: object"
      ]
     },
     "execution_count": 16,
     "metadata": {},
     "output_type": "execute_result"
    }
   ],
   "source": [
    "example.str.split(\"and\")"
   ]
  },
  {
   "cell_type": "markdown",
   "metadata": {},
   "source": [
    "The `explode` method will create a row for each element in the list:"
   ]
  },
  {
   "cell_type": "code",
   "execution_count": 17,
   "metadata": {},
   "outputs": [
    {
     "data": {
      "text/plain": [
       "7      DM\n",
       "8     DM \n",
       "8      SH\n",
       "9      PF\n",
       "10     DS\n",
       "Name: species, dtype: object"
      ]
     },
     "execution_count": 17,
     "metadata": {},
     "output_type": "execute_result"
    }
   ],
   "source": [
    "example_split = example.str.split(\"and\").explode()\n",
    "example_split"
   ]
  },
  {
   "cell_type": "markdown",
   "metadata": {},
   "source": [
    "Hence, the `DM` and `SH` are now enlisted in separate rows. Other rows remain unchanged. The only remaining issue is the spaces around the characters:"
   ]
  },
  {
   "cell_type": "code",
   "execution_count": 18,
   "metadata": {},
   "outputs": [
    {
     "data": {
      "text/plain": [
       "('DM ', ' SH')"
      ]
     },
     "execution_count": 18,
     "metadata": {},
     "output_type": "execute_result"
    }
   ],
   "source": [
    "example_split.iloc[1], example_split.iloc[2]"
   ]
  },
  {
   "cell_type": "markdown",
   "metadata": {},
   "source": [
    "Which we can solve again using the string method `strip`, removing the spaces before and after the characters:"
   ]
  },
  {
   "cell_type": "code",
   "execution_count": 19,
   "metadata": {},
   "outputs": [
    {
     "data": {
      "text/plain": [
       "7     DM\n",
       "8     DM\n",
       "8     SH\n",
       "9     PF\n",
       "10    DS\n",
       "Name: species, dtype: object"
      ]
     },
     "execution_count": 19,
     "metadata": {},
     "output_type": "execute_result"
    }
   ],
   "source": [
    "example_split.str.strip()"
   ]
  },
  {
   "cell_type": "markdown",
   "metadata": {},
   "source": [
    "To make this reusable, let's create a dedicated function to combine these steps, called `solve_double_field_entry`:"
   ]
  },
  {
   "cell_type": "code",
   "execution_count": 20,
   "metadata": {
    "run_control": {
     "frozen": false,
     "read_only": false
    }
   },
   "outputs": [],
   "source": [
    "def solve_double_field_entry(df, keyword=\"and\", column=\"verbatimEventDate\"):\n",
    "    \"\"\"split on keyword in column for an enumeration and create extra record\n",
    "    \n",
    "    Parameters\n",
    "    ----------\n",
    "    df: pd.DataFrame\n",
    "        DataFrame with a double field entry in one or more values\n",
    "    keyword: str\n",
    "        word/character to split the double records on\n",
    "    column: str\n",
    "        column name to use for the decoupling of the records\n",
    "    \"\"\"\n",
    "    df[column] = df[column].str.split(keyword)\n",
    "    df = df.explode(column)\n",
    "    df[column] = df[column].str.strip()  # remove white space around the words\n",
    "    return df"
   ]
  },
  {
   "cell_type": "markdown",
   "metadata": {},
   "source": [
    "The function takes a DataFrame as input, splits the record into separate rows and returns the updated DataFrame. We can use this function to get an update of the dataFrame, with the an additional row (occurrence) added by decoupling the specific field:"
   ]
  },
  {
   "cell_type": "markdown",
   "metadata": {},
   "source": [
    "<div class=\"alert alert-success\">\n",
    "<b>EXERCISE</b>: Use the function <code>solve_double_field_entry</code> to create a dataFrame with an additional row, by decoupling the double entries. Save the result as a variable <code>survey_data_decoupled</code>.\n",
    "</div>"
   ]
  },
  {
   "cell_type": "code",
   "execution_count": 21,
   "metadata": {
    "clear_cell": true,
    "run_control": {
     "frozen": false,
     "read_only": false
    }
   },
   "outputs": [],
   "source": [
    "survey_data_decoupled = solve_double_field_entry(survey_data.copy(), \n",
    "                                                 \"and\", \n",
    "                                                 column=\"species\") # get help of the function by SHIFT + TAB\n",
    "# REMARK: the copy() statement here (!) see pandas_03b_indexing.ipynb notebook `chained indexing section`"
   ]
  },
  {
   "cell_type": "code",
   "execution_count": 22,
   "metadata": {
    "run_control": {
     "frozen": false,
     "read_only": false
    }
   },
   "outputs": [
    {
     "data": {
      "text/plain": [
       "array([nan, 'DM', 'PF', 'PE', 'SH', 'DS', 'PP', 'OT', 'DO', 'OX', 'SS',\n",
       "       'OL', 'RM', 'SA', 'PM', 'AH', 'DX', 'AB', 'CB', 'CM', 'CQ', 'RF',\n",
       "       'PC', 'PG', 'PH', 'PU', 'CV', 'UR', 'UP', 'ZL', 'UL', 'CS', 'SC',\n",
       "       'BA', 'SF', 'RO', 'AS', 'SO', 'PI', 'ST', 'CU', 'SU', 'RX', 'PB',\n",
       "       'PL', 'PX', 'CT', 'US'], dtype=object)"
      ]
     },
     "execution_count": 22,
     "metadata": {},
     "output_type": "execute_result"
    }
   ],
   "source": [
    "survey_data_decoupled[\"species\"].unique()"
   ]
  },
  {
   "cell_type": "code",
   "execution_count": 23,
   "metadata": {
    "run_control": {
     "frozen": false,
     "read_only": false
    }
   },
   "outputs": [
    {
     "data": {
      "text/html": [
       "<div>\n",
       "<style scoped>\n",
       "    .dataframe tbody tr th:only-of-type {\n",
       "        vertical-align: middle;\n",
       "    }\n",
       "\n",
       "    .dataframe tbody tr th {\n",
       "        vertical-align: top;\n",
       "    }\n",
       "\n",
       "    .dataframe thead th {\n",
       "        text-align: right;\n",
       "    }\n",
       "</style>\n",
       "<table border=\"1\" class=\"dataframe\">\n",
       "  <thead>\n",
       "    <tr style=\"text-align: right;\">\n",
       "      <th></th>\n",
       "      <th>record_id</th>\n",
       "      <th>month</th>\n",
       "      <th>day</th>\n",
       "      <th>year</th>\n",
       "      <th>plot</th>\n",
       "      <th>species</th>\n",
       "      <th>verbatimSex</th>\n",
       "      <th>wgt</th>\n",
       "      <th>datasetName</th>\n",
       "      <th>sex</th>\n",
       "    </tr>\n",
       "  </thead>\n",
       "  <tbody>\n",
       "    <tr>\n",
       "      <th>0</th>\n",
       "      <td>1</td>\n",
       "      <td>7</td>\n",
       "      <td>16</td>\n",
       "      <td>1977</td>\n",
       "      <td>2</td>\n",
       "      <td>NaN</td>\n",
       "      <td>M</td>\n",
       "      <td>NaN</td>\n",
       "      <td>Ecological Archives E090-118-D1.</td>\n",
       "      <td>male</td>\n",
       "    </tr>\n",
       "    <tr>\n",
       "      <th>1</th>\n",
       "      <td>2</td>\n",
       "      <td>7</td>\n",
       "      <td>16</td>\n",
       "      <td>1977</td>\n",
       "      <td>3</td>\n",
       "      <td>NaN</td>\n",
       "      <td>M</td>\n",
       "      <td>NaN</td>\n",
       "      <td>Ecological Archives E090-118-D1.</td>\n",
       "      <td>male</td>\n",
       "    </tr>\n",
       "    <tr>\n",
       "      <th>2</th>\n",
       "      <td>3</td>\n",
       "      <td>7</td>\n",
       "      <td>16</td>\n",
       "      <td>1977</td>\n",
       "      <td>2</td>\n",
       "      <td>DM</td>\n",
       "      <td>F</td>\n",
       "      <td>NaN</td>\n",
       "      <td>Ecological Archives E090-118-D1.</td>\n",
       "      <td>female</td>\n",
       "    </tr>\n",
       "    <tr>\n",
       "      <th>3</th>\n",
       "      <td>4</td>\n",
       "      <td>7</td>\n",
       "      <td>16</td>\n",
       "      <td>1977</td>\n",
       "      <td>7</td>\n",
       "      <td>DM</td>\n",
       "      <td>M</td>\n",
       "      <td>NaN</td>\n",
       "      <td>Ecological Archives E090-118-D1.</td>\n",
       "      <td>male</td>\n",
       "    </tr>\n",
       "    <tr>\n",
       "      <th>4</th>\n",
       "      <td>5</td>\n",
       "      <td>7</td>\n",
       "      <td>16</td>\n",
       "      <td>1977</td>\n",
       "      <td>3</td>\n",
       "      <td>DM</td>\n",
       "      <td>M</td>\n",
       "      <td>NaN</td>\n",
       "      <td>Ecological Archives E090-118-D1.</td>\n",
       "      <td>male</td>\n",
       "    </tr>\n",
       "    <tr>\n",
       "      <th>5</th>\n",
       "      <td>6</td>\n",
       "      <td>7</td>\n",
       "      <td>16</td>\n",
       "      <td>1977</td>\n",
       "      <td>1</td>\n",
       "      <td>PF</td>\n",
       "      <td>M</td>\n",
       "      <td>NaN</td>\n",
       "      <td>Ecological Archives E090-118-D1.</td>\n",
       "      <td>male</td>\n",
       "    </tr>\n",
       "    <tr>\n",
       "      <th>6</th>\n",
       "      <td>7</td>\n",
       "      <td>7</td>\n",
       "      <td>16</td>\n",
       "      <td>1977</td>\n",
       "      <td>2</td>\n",
       "      <td>PE</td>\n",
       "      <td>F</td>\n",
       "      <td>NaN</td>\n",
       "      <td>Ecological Archives E090-118-D1.</td>\n",
       "      <td>female</td>\n",
       "    </tr>\n",
       "    <tr>\n",
       "      <th>7</th>\n",
       "      <td>8</td>\n",
       "      <td>7</td>\n",
       "      <td>16</td>\n",
       "      <td>1977</td>\n",
       "      <td>1</td>\n",
       "      <td>DM</td>\n",
       "      <td>M</td>\n",
       "      <td>NaN</td>\n",
       "      <td>Ecological Archives E090-118-D1.</td>\n",
       "      <td>male</td>\n",
       "    </tr>\n",
       "    <tr>\n",
       "      <th>8</th>\n",
       "      <td>9</td>\n",
       "      <td>7</td>\n",
       "      <td>16</td>\n",
       "      <td>1977</td>\n",
       "      <td>1</td>\n",
       "      <td>DM</td>\n",
       "      <td>NaN</td>\n",
       "      <td>NaN</td>\n",
       "      <td>Ecological Archives E090-118-D1.</td>\n",
       "      <td>NaN</td>\n",
       "    </tr>\n",
       "    <tr>\n",
       "      <th>8</th>\n",
       "      <td>9</td>\n",
       "      <td>7</td>\n",
       "      <td>16</td>\n",
       "      <td>1977</td>\n",
       "      <td>1</td>\n",
       "      <td>SH</td>\n",
       "      <td>NaN</td>\n",
       "      <td>NaN</td>\n",
       "      <td>Ecological Archives E090-118-D1.</td>\n",
       "      <td>NaN</td>\n",
       "    </tr>\n",
       "    <tr>\n",
       "      <th>9</th>\n",
       "      <td>10</td>\n",
       "      <td>7</td>\n",
       "      <td>16</td>\n",
       "      <td>1977</td>\n",
       "      <td>6</td>\n",
       "      <td>PF</td>\n",
       "      <td>F</td>\n",
       "      <td>NaN</td>\n",
       "      <td>Ecological Archives E090-118-D1.</td>\n",
       "      <td>female</td>\n",
       "    </tr>\n",
       "  </tbody>\n",
       "</table>\n",
       "</div>"
      ],
      "text/plain": [
       "   record_id  month  day  year  plot species verbatimSex  wgt  \\\n",
       "0          1      7   16  1977     2     NaN           M  NaN   \n",
       "1          2      7   16  1977     3     NaN           M  NaN   \n",
       "2          3      7   16  1977     2      DM           F  NaN   \n",
       "3          4      7   16  1977     7      DM           M  NaN   \n",
       "4          5      7   16  1977     3      DM           M  NaN   \n",
       "5          6      7   16  1977     1      PF           M  NaN   \n",
       "6          7      7   16  1977     2      PE           F  NaN   \n",
       "7          8      7   16  1977     1      DM           M  NaN   \n",
       "8          9      7   16  1977     1      DM         NaN  NaN   \n",
       "8          9      7   16  1977     1      SH         NaN  NaN   \n",
       "9         10      7   16  1977     6      PF           F  NaN   \n",
       "\n",
       "                        datasetName     sex  \n",
       "0  Ecological Archives E090-118-D1.    male  \n",
       "1  Ecological Archives E090-118-D1.    male  \n",
       "2  Ecological Archives E090-118-D1.  female  \n",
       "3  Ecological Archives E090-118-D1.    male  \n",
       "4  Ecological Archives E090-118-D1.    male  \n",
       "5  Ecological Archives E090-118-D1.    male  \n",
       "6  Ecological Archives E090-118-D1.  female  \n",
       "7  Ecological Archives E090-118-D1.    male  \n",
       "8  Ecological Archives E090-118-D1.     NaN  \n",
       "8  Ecological Archives E090-118-D1.     NaN  \n",
       "9  Ecological Archives E090-118-D1.  female  "
      ]
     },
     "execution_count": 23,
     "metadata": {},
     "output_type": "execute_result"
    }
   ],
   "source": [
    "survey_data_decoupled.head(11)"
   ]
  },
  {
   "cell_type": "markdown",
   "metadata": {},
   "source": [
    "### Create new occurrence identifier"
   ]
  },
  {
   "cell_type": "markdown",
   "metadata": {},
   "source": [
    "The `record_id` is no longer a unique identifier after the decoupling of this dataset. We will make a new dataset-specific identifier, by adding a column called `occurrenceID` that takes a new counter as identifier. As a simply and straightforward approach, we will use a new counter for the whole dataset, starting with 1:"
   ]
  },
  {
   "cell_type": "code",
   "execution_count": 24,
   "metadata": {
    "run_control": {
     "frozen": false,
     "read_only": false
    }
   },
   "outputs": [
    {
     "data": {
      "text/plain": [
       "array([    1,     2,     3, ..., 35548, 35549, 35550])"
      ]
     },
     "execution_count": 24,
     "metadata": {},
     "output_type": "execute_result"
    }
   ],
   "source": [
    "np.arange(1, len(survey_data_decoupled) + 1, 1)"
   ]
  },
  {
   "cell_type": "markdown",
   "metadata": {},
   "source": [
    "Create a new column with header <code>occurrenceID</code> with the values 1 -> 35550 as field values:"
   ]
  },
  {
   "cell_type": "code",
   "execution_count": 25,
   "metadata": {
    "clear_cell": false,
    "run_control": {
     "frozen": false,
     "read_only": false
    }
   },
   "outputs": [],
   "source": [
    "survey_data_decoupled[\"occurrenceID\"] = np.arange(1, len(survey_data_decoupled) + 1, 1)"
   ]
  },
  {
   "cell_type": "markdown",
   "metadata": {},
   "source": [
    "<div class=\"alert alert-warning\">\n",
    "\n",
    " <b>Remark</b>: A reset of the index to generate this column with `reset_index(drop=False)` would be technically perfectly valid. Still, we want the indices to start at 1 instead of 0 (and Python starts counting at 0!)\n",
    "    \n",
    "</div>"
   ]
  },
  {
   "cell_type": "markdown",
   "metadata": {},
   "source": [
    "To overcome the confusion on having both a `record_id` and `occurrenceID` field, we will remove the `record_id` term:"
   ]
  },
  {
   "cell_type": "code",
   "execution_count": 26,
   "metadata": {
    "run_control": {
     "frozen": false,
     "read_only": false
    }
   },
   "outputs": [],
   "source": [
    "survey_data_decoupled = survey_data_decoupled.drop(columns=\"record_id\")"
   ]
  },
  {
   "cell_type": "markdown",
   "metadata": {},
   "source": [
    "Hence, columns can be `drop`-ped out of a DataFrame"
   ]
  },
  {
   "cell_type": "code",
   "execution_count": 27,
   "metadata": {
    "run_control": {
     "frozen": false,
     "read_only": false
    }
   },
   "outputs": [
    {
     "data": {
      "text/html": [
       "<div>\n",
       "<style scoped>\n",
       "    .dataframe tbody tr th:only-of-type {\n",
       "        vertical-align: middle;\n",
       "    }\n",
       "\n",
       "    .dataframe tbody tr th {\n",
       "        vertical-align: top;\n",
       "    }\n",
       "\n",
       "    .dataframe thead th {\n",
       "        text-align: right;\n",
       "    }\n",
       "</style>\n",
       "<table border=\"1\" class=\"dataframe\">\n",
       "  <thead>\n",
       "    <tr style=\"text-align: right;\">\n",
       "      <th></th>\n",
       "      <th>month</th>\n",
       "      <th>day</th>\n",
       "      <th>year</th>\n",
       "      <th>plot</th>\n",
       "      <th>species</th>\n",
       "      <th>verbatimSex</th>\n",
       "      <th>wgt</th>\n",
       "      <th>datasetName</th>\n",
       "      <th>sex</th>\n",
       "      <th>occurrenceID</th>\n",
       "    </tr>\n",
       "  </thead>\n",
       "  <tbody>\n",
       "    <tr>\n",
       "      <th>0</th>\n",
       "      <td>7</td>\n",
       "      <td>16</td>\n",
       "      <td>1977</td>\n",
       "      <td>2</td>\n",
       "      <td>NaN</td>\n",
       "      <td>M</td>\n",
       "      <td>NaN</td>\n",
       "      <td>Ecological Archives E090-118-D1.</td>\n",
       "      <td>male</td>\n",
       "      <td>1</td>\n",
       "    </tr>\n",
       "    <tr>\n",
       "      <th>1</th>\n",
       "      <td>7</td>\n",
       "      <td>16</td>\n",
       "      <td>1977</td>\n",
       "      <td>3</td>\n",
       "      <td>NaN</td>\n",
       "      <td>M</td>\n",
       "      <td>NaN</td>\n",
       "      <td>Ecological Archives E090-118-D1.</td>\n",
       "      <td>male</td>\n",
       "      <td>2</td>\n",
       "    </tr>\n",
       "    <tr>\n",
       "      <th>2</th>\n",
       "      <td>7</td>\n",
       "      <td>16</td>\n",
       "      <td>1977</td>\n",
       "      <td>2</td>\n",
       "      <td>DM</td>\n",
       "      <td>F</td>\n",
       "      <td>NaN</td>\n",
       "      <td>Ecological Archives E090-118-D1.</td>\n",
       "      <td>female</td>\n",
       "      <td>3</td>\n",
       "    </tr>\n",
       "    <tr>\n",
       "      <th>3</th>\n",
       "      <td>7</td>\n",
       "      <td>16</td>\n",
       "      <td>1977</td>\n",
       "      <td>7</td>\n",
       "      <td>DM</td>\n",
       "      <td>M</td>\n",
       "      <td>NaN</td>\n",
       "      <td>Ecological Archives E090-118-D1.</td>\n",
       "      <td>male</td>\n",
       "      <td>4</td>\n",
       "    </tr>\n",
       "    <tr>\n",
       "      <th>4</th>\n",
       "      <td>7</td>\n",
       "      <td>16</td>\n",
       "      <td>1977</td>\n",
       "      <td>3</td>\n",
       "      <td>DM</td>\n",
       "      <td>M</td>\n",
       "      <td>NaN</td>\n",
       "      <td>Ecological Archives E090-118-D1.</td>\n",
       "      <td>male</td>\n",
       "      <td>5</td>\n",
       "    </tr>\n",
       "    <tr>\n",
       "      <th>5</th>\n",
       "      <td>7</td>\n",
       "      <td>16</td>\n",
       "      <td>1977</td>\n",
       "      <td>1</td>\n",
       "      <td>PF</td>\n",
       "      <td>M</td>\n",
       "      <td>NaN</td>\n",
       "      <td>Ecological Archives E090-118-D1.</td>\n",
       "      <td>male</td>\n",
       "      <td>6</td>\n",
       "    </tr>\n",
       "    <tr>\n",
       "      <th>6</th>\n",
       "      <td>7</td>\n",
       "      <td>16</td>\n",
       "      <td>1977</td>\n",
       "      <td>2</td>\n",
       "      <td>PE</td>\n",
       "      <td>F</td>\n",
       "      <td>NaN</td>\n",
       "      <td>Ecological Archives E090-118-D1.</td>\n",
       "      <td>female</td>\n",
       "      <td>7</td>\n",
       "    </tr>\n",
       "    <tr>\n",
       "      <th>7</th>\n",
       "      <td>7</td>\n",
       "      <td>16</td>\n",
       "      <td>1977</td>\n",
       "      <td>1</td>\n",
       "      <td>DM</td>\n",
       "      <td>M</td>\n",
       "      <td>NaN</td>\n",
       "      <td>Ecological Archives E090-118-D1.</td>\n",
       "      <td>male</td>\n",
       "      <td>8</td>\n",
       "    </tr>\n",
       "    <tr>\n",
       "      <th>8</th>\n",
       "      <td>7</td>\n",
       "      <td>16</td>\n",
       "      <td>1977</td>\n",
       "      <td>1</td>\n",
       "      <td>DM</td>\n",
       "      <td>NaN</td>\n",
       "      <td>NaN</td>\n",
       "      <td>Ecological Archives E090-118-D1.</td>\n",
       "      <td>NaN</td>\n",
       "      <td>9</td>\n",
       "    </tr>\n",
       "    <tr>\n",
       "      <th>8</th>\n",
       "      <td>7</td>\n",
       "      <td>16</td>\n",
       "      <td>1977</td>\n",
       "      <td>1</td>\n",
       "      <td>SH</td>\n",
       "      <td>NaN</td>\n",
       "      <td>NaN</td>\n",
       "      <td>Ecological Archives E090-118-D1.</td>\n",
       "      <td>NaN</td>\n",
       "      <td>10</td>\n",
       "    </tr>\n",
       "  </tbody>\n",
       "</table>\n",
       "</div>"
      ],
      "text/plain": [
       "   month  day  year  plot species verbatimSex  wgt  \\\n",
       "0      7   16  1977     2     NaN           M  NaN   \n",
       "1      7   16  1977     3     NaN           M  NaN   \n",
       "2      7   16  1977     2      DM           F  NaN   \n",
       "3      7   16  1977     7      DM           M  NaN   \n",
       "4      7   16  1977     3      DM           M  NaN   \n",
       "5      7   16  1977     1      PF           M  NaN   \n",
       "6      7   16  1977     2      PE           F  NaN   \n",
       "7      7   16  1977     1      DM           M  NaN   \n",
       "8      7   16  1977     1      DM         NaN  NaN   \n",
       "8      7   16  1977     1      SH         NaN  NaN   \n",
       "\n",
       "                        datasetName     sex  occurrenceID  \n",
       "0  Ecological Archives E090-118-D1.    male             1  \n",
       "1  Ecological Archives E090-118-D1.    male             2  \n",
       "2  Ecological Archives E090-118-D1.  female             3  \n",
       "3  Ecological Archives E090-118-D1.    male             4  \n",
       "4  Ecological Archives E090-118-D1.    male             5  \n",
       "5  Ecological Archives E090-118-D1.    male             6  \n",
       "6  Ecological Archives E090-118-D1.  female             7  \n",
       "7  Ecological Archives E090-118-D1.    male             8  \n",
       "8  Ecological Archives E090-118-D1.     NaN             9  \n",
       "8  Ecological Archives E090-118-D1.     NaN            10  "
      ]
     },
     "execution_count": 27,
     "metadata": {},
     "output_type": "execute_result"
    }
   ],
   "source": [
    "survey_data_decoupled.head(10)"
   ]
  },
  {
   "cell_type": "markdown",
   "metadata": {},
   "source": [
    "### Converting the date values"
   ]
  },
  {
   "cell_type": "markdown",
   "metadata": {
    "collapsed": true,
    "run_control": {
     "frozen": false,
     "read_only": false
    }
   },
   "source": [
    "In the survey-dataset we received, the `month`, `day`, and `year` columns are containing the information about the date, i.e. `eventDate` in DarwinCore terms. We want this data in a ISO format `YYYY-MM-DD`. A convenvient Pandas function is the usage of `to_datatime`, which provides multiple options to interpret dates. One of thes options is the automatic interpretation of some 'typical' columns, like `year`, `month` and `day`, when passing a DataFrame."
   ]
  },
  {
   "cell_type": "code",
   "execution_count": 28,
   "metadata": {
    "run_control": {
     "frozen": false,
     "read_only": false
    }
   },
   "outputs": [],
   "source": [
    "# pd.to_datetime(survey_data_decoupled[[\"year\", \"month\", \"day\"]])  # uncomment the line and test this statement"
   ]
  },
  {
   "cell_type": "markdown",
   "metadata": {
    "collapsed": true,
    "run_control": {
     "frozen": false,
     "read_only": false
    }
   },
   "source": [
    "This is not working, not all dates can be interpreted... We should get some more information on the reason of the errors. By using the option `coerce`, the problem makers will be labeled as a missing value `NaT`. We can count the number of dates that can not be interpreted:"
   ]
  },
  {
   "cell_type": "code",
   "execution_count": 29,
   "metadata": {
    "run_control": {
     "frozen": false,
     "read_only": false
    }
   },
   "outputs": [
    {
     "data": {
      "text/plain": [
       "136"
      ]
     },
     "execution_count": 29,
     "metadata": {},
     "output_type": "execute_result"
    }
   ],
   "source": [
    "sum(pd.to_datetime(survey_data_decoupled[[\"year\", \"month\", \"day\"]], errors='coerce').isnull())"
   ]
  },
  {
   "cell_type": "markdown",
   "metadata": {},
   "source": [
    "<div class=\"alert alert-success\">\n",
    "\n",
    "<b>EXERCISE</b>: Make a subselection of <code>survey_data_decoupled</code> containing those records that can not correctly be interpreted as date values and save the resulting dataframe as variable <code>trouble_makers</code>\n",
    "\n",
    "</div>"
   ]
  },
  {
   "cell_type": "code",
   "execution_count": 30,
   "metadata": {
    "clear_cell": true,
    "run_control": {
     "frozen": false,
     "read_only": false
    }
   },
   "outputs": [],
   "source": [
    "mask = pd.to_datetime(survey_data_decoupled[[\"year\", \"month\", \"day\"]], errors='coerce').isnull()\n",
    "trouble_makers = survey_data_decoupled[mask]"
   ]
  },
  {
   "cell_type": "markdown",
   "metadata": {},
   "source": [
    "Checking some charactersitics of the trouble_makers:"
   ]
  },
  {
   "cell_type": "code",
   "execution_count": 31,
   "metadata": {
    "run_control": {
     "frozen": false,
     "read_only": false
    }
   },
   "outputs": [
    {
     "data": {
      "text/html": [
       "<div>\n",
       "<style scoped>\n",
       "    .dataframe tbody tr th:only-of-type {\n",
       "        vertical-align: middle;\n",
       "    }\n",
       "\n",
       "    .dataframe tbody tr th {\n",
       "        vertical-align: top;\n",
       "    }\n",
       "\n",
       "    .dataframe thead th {\n",
       "        text-align: right;\n",
       "    }\n",
       "</style>\n",
       "<table border=\"1\" class=\"dataframe\">\n",
       "  <thead>\n",
       "    <tr style=\"text-align: right;\">\n",
       "      <th></th>\n",
       "      <th>month</th>\n",
       "      <th>day</th>\n",
       "      <th>year</th>\n",
       "      <th>plot</th>\n",
       "      <th>species</th>\n",
       "      <th>verbatimSex</th>\n",
       "      <th>wgt</th>\n",
       "      <th>datasetName</th>\n",
       "      <th>sex</th>\n",
       "      <th>occurrenceID</th>\n",
       "    </tr>\n",
       "  </thead>\n",
       "  <tbody>\n",
       "    <tr>\n",
       "      <th>30649</th>\n",
       "      <td>4</td>\n",
       "      <td>31</td>\n",
       "      <td>2000</td>\n",
       "      <td>6</td>\n",
       "      <td>PP</td>\n",
       "      <td>F</td>\n",
       "      <td>19.0</td>\n",
       "      <td>Ecological Archives E090-118-D1.</td>\n",
       "      <td>female</td>\n",
       "      <td>30651</td>\n",
       "    </tr>\n",
       "    <tr>\n",
       "      <th>30650</th>\n",
       "      <td>4</td>\n",
       "      <td>31</td>\n",
       "      <td>2000</td>\n",
       "      <td>6</td>\n",
       "      <td>PB</td>\n",
       "      <td>M</td>\n",
       "      <td>32.0</td>\n",
       "      <td>Ecological Archives E090-118-D1.</td>\n",
       "      <td>male</td>\n",
       "      <td>30652</td>\n",
       "    </tr>\n",
       "    <tr>\n",
       "      <th>30651</th>\n",
       "      <td>4</td>\n",
       "      <td>31</td>\n",
       "      <td>2000</td>\n",
       "      <td>6</td>\n",
       "      <td>PB</td>\n",
       "      <td>F</td>\n",
       "      <td>30.0</td>\n",
       "      <td>Ecological Archives E090-118-D1.</td>\n",
       "      <td>female</td>\n",
       "      <td>30653</td>\n",
       "    </tr>\n",
       "    <tr>\n",
       "      <th>30652</th>\n",
       "      <td>4</td>\n",
       "      <td>31</td>\n",
       "      <td>2000</td>\n",
       "      <td>6</td>\n",
       "      <td>PP</td>\n",
       "      <td>M</td>\n",
       "      <td>20.0</td>\n",
       "      <td>Ecological Archives E090-118-D1.</td>\n",
       "      <td>male</td>\n",
       "      <td>30654</td>\n",
       "    </tr>\n",
       "    <tr>\n",
       "      <th>30653</th>\n",
       "      <td>4</td>\n",
       "      <td>31</td>\n",
       "      <td>2000</td>\n",
       "      <td>6</td>\n",
       "      <td>PP</td>\n",
       "      <td>M</td>\n",
       "      <td>24.0</td>\n",
       "      <td>Ecological Archives E090-118-D1.</td>\n",
       "      <td>male</td>\n",
       "      <td>30655</td>\n",
       "    </tr>\n",
       "  </tbody>\n",
       "</table>\n",
       "</div>"
      ],
      "text/plain": [
       "       month  day  year  plot species verbatimSex   wgt  \\\n",
       "30649      4   31  2000     6      PP           F  19.0   \n",
       "30650      4   31  2000     6      PB           M  32.0   \n",
       "30651      4   31  2000     6      PB           F  30.0   \n",
       "30652      4   31  2000     6      PP           M  20.0   \n",
       "30653      4   31  2000     6      PP           M  24.0   \n",
       "\n",
       "                            datasetName     sex  occurrenceID  \n",
       "30649  Ecological Archives E090-118-D1.  female         30651  \n",
       "30650  Ecological Archives E090-118-D1.    male         30652  \n",
       "30651  Ecological Archives E090-118-D1.  female         30653  \n",
       "30652  Ecological Archives E090-118-D1.    male         30654  \n",
       "30653  Ecological Archives E090-118-D1.    male         30655  "
      ]
     },
     "execution_count": 31,
     "metadata": {},
     "output_type": "execute_result"
    }
   ],
   "source": [
    "trouble_makers.head()"
   ]
  },
  {
   "cell_type": "code",
   "execution_count": 32,
   "metadata": {
    "run_control": {
     "frozen": false,
     "read_only": false
    }
   },
   "outputs": [
    {
     "data": {
      "text/plain": [
       "array([31])"
      ]
     },
     "execution_count": 32,
     "metadata": {},
     "output_type": "execute_result"
    }
   ],
   "source": [
    "trouble_makers[\"day\"].unique()"
   ]
  },
  {
   "cell_type": "code",
   "execution_count": 33,
   "metadata": {
    "run_control": {
     "frozen": false,
     "read_only": false
    }
   },
   "outputs": [
    {
     "data": {
      "text/plain": [
       "array([4, 9])"
      ]
     },
     "execution_count": 33,
     "metadata": {},
     "output_type": "execute_result"
    }
   ],
   "source": [
    "trouble_makers[\"month\"].unique()"
   ]
  },
  {
   "cell_type": "code",
   "execution_count": 34,
   "metadata": {
    "run_control": {
     "frozen": false,
     "read_only": false
    }
   },
   "outputs": [
    {
     "data": {
      "text/plain": [
       "array([2000])"
      ]
     },
     "execution_count": 34,
     "metadata": {},
     "output_type": "execute_result"
    }
   ],
   "source": [
    "trouble_makers[\"year\"].unique()"
   ]
  },
  {
   "cell_type": "markdown",
   "metadata": {
    "collapsed": true,
    "run_control": {
     "frozen": false,
     "read_only": false
    }
   },
   "source": [
    "So, basically the problem is the presence of day `31` during the months April and September of the year 2000. At this moment, we would have to recheck the original data in order to know how the issue could be solved. Apparently, - for this specific case - there has been a data-entry problem in 2000, making the `31` days during this period should actually be `30`. It would be optimal to correct this in the source dataset, but for the further exercise, it will be corrected here."
   ]
  },
  {
   "cell_type": "markdown",
   "metadata": {},
   "source": [
    "<div class=\"alert alert-success\">\n",
    "    <b>EXERCISE</b>: Replace in the dataFrame <code>survey_data_decoupled</code> all of the troublemakers <code>day</code> values into the value 30\n",
    "</div>"
   ]
  },
  {
   "cell_type": "code",
   "execution_count": 35,
   "metadata": {
    "clear_cell": true,
    "run_control": {
     "frozen": false,
     "read_only": false
    }
   },
   "outputs": [],
   "source": [
    "mask = pd.to_datetime(survey_data_decoupled[[\"year\", \"month\", \"day\"]], errors='coerce').isnull()\n",
    "survey_data_decoupled.loc[mask, \"day\"] = 30"
   ]
  },
  {
   "cell_type": "markdown",
   "metadata": {},
   "source": [
    "Now, we do the parsing again to create a proper `eventDate` field, containing the dates:"
   ]
  },
  {
   "cell_type": "code",
   "execution_count": 36,
   "metadata": {
    "run_control": {
     "frozen": false,
     "read_only": false
    }
   },
   "outputs": [],
   "source": [
    "survey_data_decoupled[\"eventDate\"] = \\\n",
    "    pd.to_datetime(survey_data_decoupled[[\"year\", \"month\", \"day\"]])"
   ]
  },
  {
   "cell_type": "markdown",
   "metadata": {},
   "source": [
    "Just let's do a check the amount of data for each year:"
   ]
  },
  {
   "cell_type": "markdown",
   "metadata": {},
   "source": [
    "<div class=\"alert alert-success\">\n",
    "    <b>EXERCISE</b>: Create a horizontal bar chart with the number of records for each year\n",
    "</div>"
   ]
  },
  {
   "cell_type": "code",
   "execution_count": 37,
   "metadata": {
    "clear_cell": true,
    "run_control": {
     "frozen": false,
     "read_only": false
    }
   },
   "outputs": [
    {
     "data": {
      "text/plain": [
       "<matplotlib.axes._subplots.AxesSubplot at 0x7f480f9c2310>"
      ]
     },
     "execution_count": 37,
     "metadata": {},
     "output_type": "execute_result"
    },
    {
     "data": {
      "image/png": "[encoded data removed]",
      "text/plain": [
       "<Figure size 720x720 with 1 Axes>"
      ]
     },
     "metadata": {},
     "output_type": "display_data"
    }
   ],
   "source": [
    "survey_data_decoupled.groupby(\"year\").size().plot(kind='barh', color=\"#00007f\", figsize=(10, 10))"
   ]
  },
  {
   "cell_type": "code",
   "execution_count": 38,
   "metadata": {
    "run_control": {
     "frozen": false,
     "read_only": false
    }
   },
   "outputs": [
    {
     "data": {
      "text/html": [
       "<div>\n",
       "<style scoped>\n",
       "    .dataframe tbody tr th:only-of-type {\n",
       "        vertical-align: middle;\n",
       "    }\n",
       "\n",
       "    .dataframe tbody tr th {\n",
       "        vertical-align: top;\n",
       "    }\n",
       "\n",
       "    .dataframe thead th {\n",
       "        text-align: right;\n",
       "    }\n",
       "</style>\n",
       "<table border=\"1\" class=\"dataframe\">\n",
       "  <thead>\n",
       "    <tr style=\"text-align: right;\">\n",
       "      <th></th>\n",
       "      <th>month</th>\n",
       "      <th>day</th>\n",
       "      <th>year</th>\n",
       "      <th>plot</th>\n",
       "      <th>species</th>\n",
       "      <th>verbatimSex</th>\n",
       "      <th>wgt</th>\n",
       "      <th>datasetName</th>\n",
       "      <th>sex</th>\n",
       "      <th>occurrenceID</th>\n",
       "      <th>eventDate</th>\n",
       "    </tr>\n",
       "  </thead>\n",
       "  <tbody>\n",
       "    <tr>\n",
       "      <th>0</th>\n",
       "      <td>7</td>\n",
       "      <td>16</td>\n",
       "      <td>1977</td>\n",
       "      <td>2</td>\n",
       "      <td>NaN</td>\n",
       "      <td>M</td>\n",
       "      <td>NaN</td>\n",
       "      <td>Ecological Archives E090-118-D1.</td>\n",
       "      <td>male</td>\n",
       "      <td>1</td>\n",
       "      <td>1977-07-16</td>\n",
       "    </tr>\n",
       "    <tr>\n",
       "      <th>1</th>\n",
       "      <td>7</td>\n",
       "      <td>16</td>\n",
       "      <td>1977</td>\n",
       "      <td>3</td>\n",
       "      <td>NaN</td>\n",
       "      <td>M</td>\n",
       "      <td>NaN</td>\n",
       "      <td>Ecological Archives E090-118-D1.</td>\n",
       "      <td>male</td>\n",
       "      <td>2</td>\n",
       "      <td>1977-07-16</td>\n",
       "    </tr>\n",
       "    <tr>\n",
       "      <th>2</th>\n",
       "      <td>7</td>\n",
       "      <td>16</td>\n",
       "      <td>1977</td>\n",
       "      <td>2</td>\n",
       "      <td>DM</td>\n",
       "      <td>F</td>\n",
       "      <td>NaN</td>\n",
       "      <td>Ecological Archives E090-118-D1.</td>\n",
       "      <td>female</td>\n",
       "      <td>3</td>\n",
       "      <td>1977-07-16</td>\n",
       "    </tr>\n",
       "    <tr>\n",
       "      <th>3</th>\n",
       "      <td>7</td>\n",
       "      <td>16</td>\n",
       "      <td>1977</td>\n",
       "      <td>7</td>\n",
       "      <td>DM</td>\n",
       "      <td>M</td>\n",
       "      <td>NaN</td>\n",
       "      <td>Ecological Archives E090-118-D1.</td>\n",
       "      <td>male</td>\n",
       "      <td>4</td>\n",
       "      <td>1977-07-16</td>\n",
       "    </tr>\n",
       "    <tr>\n",
       "      <th>4</th>\n",
       "      <td>7</td>\n",
       "      <td>16</td>\n",
       "      <td>1977</td>\n",
       "      <td>3</td>\n",
       "      <td>DM</td>\n",
       "      <td>M</td>\n",
       "      <td>NaN</td>\n",
       "      <td>Ecological Archives E090-118-D1.</td>\n",
       "      <td>male</td>\n",
       "      <td>5</td>\n",
       "      <td>1977-07-16</td>\n",
       "    </tr>\n",
       "  </tbody>\n",
       "</table>\n",
       "</div>"
      ],
      "text/plain": [
       "   month  day  year  plot species verbatimSex  wgt  \\\n",
       "0      7   16  1977     2     NaN           M  NaN   \n",
       "1      7   16  1977     3     NaN           M  NaN   \n",
       "2      7   16  1977     2      DM           F  NaN   \n",
       "3      7   16  1977     7      DM           M  NaN   \n",
       "4      7   16  1977     3      DM           M  NaN   \n",
       "\n",
       "                        datasetName     sex  occurrenceID  eventDate  \n",
       "0  Ecological Archives E090-118-D1.    male             1 1977-07-16  \n",
       "1  Ecological Archives E090-118-D1.    male             2 1977-07-16  \n",
       "2  Ecological Archives E090-118-D1.  female             3 1977-07-16  \n",
       "3  Ecological Archives E090-118-D1.    male             4 1977-07-16  \n",
       "4  Ecological Archives E090-118-D1.    male             5 1977-07-16  "
      ]
     },
     "execution_count": 38,
     "metadata": {},
     "output_type": "execute_result"
    }
   ],
   "source": [
    "survey_data_decoupled.head()"
   ]
  },
  {
   "cell_type": "markdown",
   "metadata": {},
   "source": [
    "Currently, the dates are stored in a python specific date format:"
   ]
  },
  {
   "cell_type": "code",
   "execution_count": 39,
   "metadata": {
    "run_control": {
     "frozen": false,
     "read_only": false
    }
   },
   "outputs": [
    {
     "data": {
      "text/plain": [
       "dtype('<M8[ns]')"
      ]
     },
     "execution_count": 39,
     "metadata": {},
     "output_type": "execute_result"
    }
   ],
   "source": [
    "survey_data_decoupled[\"eventDate\"].dtype"
   ]
  },
  {
   "cell_type": "markdown",
   "metadata": {},
   "source": [
    "This is great, because it allows for many functionalities:"
   ]
  },
  {
   "cell_type": "code",
   "execution_count": 40,
   "metadata": {
    "run_control": {
     "frozen": false,
     "read_only": false
    }
   },
   "outputs": [
    {
     "data": {
      "text/plain": [
       "<pandas.core.indexes.accessors.DatetimeProperties object at 0x7f480f9a3890>"
      ]
     },
     "execution_count": 40,
     "metadata": {},
     "output_type": "execute_result"
    }
   ],
   "source": [
    "survey_data_decoupled.eventDate.dt #add a dot and press TAB to explore the date options it provides "
   ]
  },
  {
   "cell_type": "markdown",
   "metadata": {},
   "source": [
    "<div class=\"alert alert-success\">\n",
    "\n",
    "<b>EXERCISE</b>: Create a horizontal bar chart with the number of records for each year (cfr. supra), but without using the column `year`\n",
    "\n",
    "</div>"
   ]
  },
  {
   "cell_type": "code",
   "execution_count": 41,
   "metadata": {
    "clear_cell": true,
    "run_control": {
     "frozen": false,
     "read_only": false
    }
   },
   "outputs": [
    {
     "data": {
      "text/plain": [
       "<matplotlib.axes._subplots.AxesSubplot at 0x7f480f73ded0>"
      ]
     },
     "execution_count": 41,
     "metadata": {},
     "output_type": "execute_result"
    },
    {
     "data": {
      "image/png": "[encoded data removed]",
      "text/plain": [
       "<Figure size 720x720 with 1 Axes>"
      ]
     },
     "metadata": {},
     "output_type": "display_data"
    }
   ],
   "source": [
    "survey_data_decoupled.groupby(survey_data_decoupled[\"eventDate\"].dt.year).size().plot(kind='barh', color=\"#00007f\", figsize=(10, 10))"
   ]
  },
  {
   "cell_type": "markdown",
   "metadata": {},
   "source": [
    "So, we actually do not need the `day`, `month`, `year` columns anymore and have other options available as well"
   ]
  },
  {
   "cell_type": "markdown",
   "metadata": {},
   "source": [
    "<div class=\"alert alert-success\">\n",
    "    <b>EXERCISE</b>: Create a bar chart with the number of records for each weekday\n",
    "</div>"
   ]
  },
  {
   "cell_type": "code",
   "execution_count": 42,
   "metadata": {
    "clear_cell": true,
    "run_control": {
     "frozen": false,
     "read_only": false
    }
   },
   "outputs": [
    {
     "data": {
      "image/png": "[encoded data removed]",
      "text/plain": [
       "<Figure size 432x432 with 1 Axes>"
      ]
     },
     "metadata": {},
     "output_type": "display_data"
    }
   ],
   "source": [
    "nrecords_by_weekday = survey_data_decoupled.groupby(survey_data_decoupled[\"eventDate\"].dt.weekday).size()\n",
    "ax = nrecords_by_weekday.plot(kind=\"barh\", color=\"#00007f\", figsize=(6, 6))\n",
    "# I you want to represent the ticklabels as proper names, uncomment the following line:\n",
    "#ticklabels = ax.set_yticklabels([\"Monday\", \"Tuesday\", \"Wednesday\", \"Thursday\", \"Friday\", \"Saturday\", \"Sunday\"])"
   ]
  },
  {
   "cell_type": "markdown",
   "metadata": {},
   "source": [
    "When saving the information to a file (e.g. CSV-file), this data type will be automatically converted to a string representation. However, we could also decide to explicitly provide the string format the dates are stored (losing the date type functionalities), in order to have full control on the way these dates are formatted:"
   ]
  },
  {
   "cell_type": "code",
   "execution_count": 43,
   "metadata": {
    "run_control": {
     "frozen": false,
     "read_only": false
    }
   },
   "outputs": [],
   "source": [
    "survey_data_decoupled[\"eventDate\"] = survey_data_decoupled[\"eventDate\"].dt.strftime('%Y-%m-%d')"
   ]
  },
  {
   "cell_type": "code",
   "execution_count": 44,
   "metadata": {
    "run_control": {
     "frozen": false,
     "read_only": false
    }
   },
   "outputs": [
    {
     "data": {
      "text/plain": [
       "0    1977-07-16\n",
       "1    1977-07-16\n",
       "2    1977-07-16\n",
       "3    1977-07-16\n",
       "4    1977-07-16\n",
       "Name: eventDate, dtype: object"
      ]
     },
     "execution_count": 44,
     "metadata": {},
     "output_type": "execute_result"
    }
   ],
   "source": [
    "survey_data_decoupled[\"eventDate\"].head()"
   ]
  },
  {
   "cell_type": "markdown",
   "metadata": {},
   "source": [
    "As we do not need the `day`, `month`, `year` columns anymore, we can drop them from the DataFrame:"
   ]
  },
  {
   "cell_type": "markdown",
   "metadata": {},
   "source": [
    "<div class=\"alert alert-success\">\n",
    "\n",
    "<b>EXERCISE</b>: Remove the columns day, month and year from the `survey_data_decoupled` DataFrame:\n",
    "    \n",
    "__Tip__: Remember the `drop` method?\n",
    "\n",
    "</div>"
   ]
  },
  {
   "cell_type": "code",
   "execution_count": 45,
   "metadata": {
    "clear_cell": true,
    "run_control": {
     "frozen": false,
     "read_only": false
    }
   },
   "outputs": [],
   "source": [
    "survey_data_decoupled = survey_data_decoupled.drop(columns=[\"day\", \"month\", \"year\"])"
   ]
  },
  {
   "cell_type": "markdown",
   "metadata": {},
   "source": [
    "## Add coordinates from the plot locations"
   ]
  },
  {
   "cell_type": "markdown",
   "metadata": {},
   "source": [
    "### Loading the coordinate data"
   ]
  },
  {
   "cell_type": "markdown",
   "metadata": {},
   "source": [
    "The individual plots are only identified by a `plot` identification number. In order to provide sufficient information to external users, additional information about the coordinates should be added. The coordinates of the individual plots are saved in another file: `plot_location.xlsx`. We will use this information to further enrich our dataset and add the Darwin Core Terms `decimalLongitude` and `decimalLatitude`."
   ]
  },
  {
   "cell_type": "markdown",
   "metadata": {},
   "source": [
    "<div class=\"alert alert-success\">\n",
    "    \n",
    "<b>EXERCISE</b>: Read in the excel file 'plot_location.xlsx' and store the data as the variable `plot_data`, with 3 columns: plot, xutm, yutm.\n",
    "\n",
    "</div>"
   ]
  },
  {
   "cell_type": "code",
   "execution_count": 46,
   "metadata": {
    "clear_cell": true,
    "run_control": {
     "frozen": false,
     "read_only": false
    }
   },
   "outputs": [],
   "source": [
    "plot_data = pd.read_excel(\"../data/plot_location.xlsx\", skiprows=3, index_col=0)"
   ]
  },
  {
   "cell_type": "code",
   "execution_count": 47,
   "metadata": {
    "run_control": {
     "frozen": false,
     "read_only": false
    }
   },
   "outputs": [
    {
     "data": {
      "text/html": [
       "<div>\n",
       "<style scoped>\n",
       "    .dataframe tbody tr th:only-of-type {\n",
       "        vertical-align: middle;\n",
       "    }\n",
       "\n",
       "    .dataframe tbody tr th {\n",
       "        vertical-align: top;\n",
       "    }\n",
       "\n",
       "    .dataframe thead th {\n",
       "        text-align: right;\n",
       "    }\n",
       "</style>\n",
       "<table border=\"1\" class=\"dataframe\">\n",
       "  <thead>\n",
       "    <tr style=\"text-align: right;\">\n",
       "      <th></th>\n",
       "      <th>plot</th>\n",
       "      <th>xutm</th>\n",
       "      <th>yutm</th>\n",
       "    </tr>\n",
       "  </thead>\n",
       "  <tbody>\n",
       "    <tr>\n",
       "      <th>0</th>\n",
       "      <td>1</td>\n",
       "      <td>681222.131658</td>\n",
       "      <td>3.535262e+06</td>\n",
       "    </tr>\n",
       "    <tr>\n",
       "      <th>1</th>\n",
       "      <td>2</td>\n",
       "      <td>681302.799361</td>\n",
       "      <td>3.535268e+06</td>\n",
       "    </tr>\n",
       "    <tr>\n",
       "      <th>2</th>\n",
       "      <td>3</td>\n",
       "      <td>681375.294968</td>\n",
       "      <td>3.535270e+06</td>\n",
       "    </tr>\n",
       "    <tr>\n",
       "      <th>3</th>\n",
       "      <td>4</td>\n",
       "      <td>681450.837525</td>\n",
       "      <td>3.535271e+06</td>\n",
       "    </tr>\n",
       "    <tr>\n",
       "      <th>4</th>\n",
       "      <td>5</td>\n",
       "      <td>681526.983040</td>\n",
       "      <td>3.535281e+06</td>\n",
       "    </tr>\n",
       "  </tbody>\n",
       "</table>\n",
       "</div>"
      ],
      "text/plain": [
       "   plot           xutm          yutm\n",
       "0     1  681222.131658  3.535262e+06\n",
       "1     2  681302.799361  3.535268e+06\n",
       "2     3  681375.294968  3.535270e+06\n",
       "3     4  681450.837525  3.535271e+06\n",
       "4     5  681526.983040  3.535281e+06"
      ]
     },
     "execution_count": 47,
     "metadata": {},
     "output_type": "execute_result"
    }
   ],
   "source": [
    "plot_data.head()"
   ]
  },
  {
   "cell_type": "markdown",
   "metadata": {},
   "source": [
    "### Transforming to other coordinate reference system"
   ]
  },
  {
   "cell_type": "markdown",
   "metadata": {},
   "source": [
    "These coordinates are in meters, more specifically in [UTM 12 N](https://en.wikipedia.org/wiki/Universal_Transverse_Mercator_coordinate_system) coordinate system. However, the agreed coordinate system for Darwin Core is the [World Geodetic System 1984 (WGS84)](http://spatialreference.org/ref/epsg/wgs-84/). \n",
    "\n",
    "As this is not a GIS course, we will shortcut the discussion about different projection systems, but provide an example on how such a conversion from UTM12N to WGS84 can be performed with the projection toolkit `pyproj` and by relying on the existing EPSG codes (a registry originally setup by the association of oil & gas producers)."
   ]
  },
  {
   "cell_type": "markdown",
   "metadata": {},
   "source": [
    "First, we define out two projection systems, using their corresponding EPSG codes:"
   ]
  },
  {
   "cell_type": "code",
   "execution_count": 48,
   "metadata": {
    "run_control": {
     "frozen": false,
     "read_only": false
    }
   },
   "outputs": [],
   "source": [
    "import pyproj"
   ]
  },
  {
   "cell_type": "code",
   "execution_count": 49,
   "metadata": {
    "run_control": {
     "frozen": false,
     "read_only": false
    }
   },
   "outputs": [],
   "source": [
    "utm12n = pyproj.Proj(\"+init=EPSG:32612\")\n",
    "wgs84 = pyproj.Proj(\"+init=EPSG:4326\")"
   ]
  },
  {
   "cell_type": "markdown",
   "metadata": {},
   "source": [
    "The reprojection can be done by the function `transform` of the projection toolkit, providing the coordinate systems and a set of x, y coordinates. For example, for a single coordinate, this can be applied as follows:"
   ]
  },
  {
   "cell_type": "code",
   "execution_count": 50,
   "metadata": {
    "run_control": {
     "frozen": false,
     "read_only": false
    }
   },
   "outputs": [
    {
     "data": {
      "text/plain": [
       "(-109.08282902317859, 31.938849883722508)"
      ]
     },
     "execution_count": 50,
     "metadata": {},
     "output_type": "execute_result"
    }
   ],
   "source": [
    "pyproj.transform(utm12n, wgs84, 681222.131658, 3.535262e+06)"
   ]
  },
  {
   "cell_type": "markdown",
   "metadata": {},
   "source": [
    "Instead of writing a `for` loop to do this for each of the coordinates in the list, we can <code>apply</code> this function to each of them:"
   ]
  },
  {
   "cell_type": "markdown",
   "metadata": {},
   "source": [
    "<div class=\"alert alert-success\">\n",
    "    <b>EXERCISE</b>: Apply the pyproj function <code>transform</code> to plot_data, using the columns <code>xutm</code> and <code>yutm</code> and save the resulting output in 2 new columns, called <code>decimalLongitude</code> and <code>decimalLatitude</code>:\n",
    "    \n",
    "<ul>\n",
    "  <li>Create a function <code>transform_utm_to_wgs</code> that takes a row of a DataFrame and returns a Series of two elements with the longitude and latitude.</li>\n",
    "  <li>Test this function on the first row of <code>plot_data</code> </li>\n",
    "  <li>Now <b>apply</b> this function on all rows (remember the <code>axis</code> parameter)</li>\n",
    "  <li>Assign the result of the previous step to <code>decimalLongitude</code> and <code>decimalLatitude</code> columns</li>\n",
    "</ul> \n",
    "    \n",
    "</div>"
   ]
  },
  {
   "cell_type": "code",
   "execution_count": 51,
   "metadata": {
    "clear_cell": true,
    "run_control": {
     "frozen": false,
     "read_only": false
    }
   },
   "outputs": [],
   "source": [
    "def transform_utm_to_wgs(row):\n",
    "    \"\"\"\n",
    "    Converts the x and y coordinates of this row into a Series of the\n",
    "    longitude and latitude.\n",
    "    \n",
    "    \"\"\"\n",
    "    utm12n = pyproj.Proj(\"+init=EPSG:32612\")\n",
    "    wgs84 = pyproj.Proj(\"+init=EPSG:4326\")\n",
    "    \n",
    "    return pd.Series(pyproj.transform(utm12n, wgs84, row['xutm'], row['yutm']))"
   ]
  },
  {
   "cell_type": "code",
   "execution_count": 52,
   "metadata": {
    "clear_cell": true,
    "run_control": {
     "frozen": false,
     "read_only": false
    }
   },
   "outputs": [
    {
     "data": {
      "text/plain": [
       "0   -109.082829\n",
       "1     31.938851\n",
       "dtype: float64"
      ]
     },
     "execution_count": 52,
     "metadata": {},
     "output_type": "execute_result"
    }
   ],
   "source": [
    "transform_utm_to_wgs(plot_data.loc[0])"
   ]
  },
  {
   "cell_type": "code",
   "execution_count": 53,
   "metadata": {
    "clear_cell": true,
    "run_control": {
     "frozen": false,
     "read_only": false
    }
   },
   "outputs": [
    {
     "data": {
      "text/html": [
       "<div>\n",
       "<style scoped>\n",
       "    .dataframe tbody tr th:only-of-type {\n",
       "        vertical-align: middle;\n",
       "    }\n",
       "\n",
       "    .dataframe tbody tr th {\n",
       "        vertical-align: top;\n",
       "    }\n",
       "\n",
       "    .dataframe thead th {\n",
       "        text-align: right;\n",
       "    }\n",
       "</style>\n",
       "<table border=\"1\" class=\"dataframe\">\n",
       "  <thead>\n",
       "    <tr style=\"text-align: right;\">\n",
       "      <th></th>\n",
       "      <th>0</th>\n",
       "      <th>1</th>\n",
       "    </tr>\n",
       "  </thead>\n",
       "  <tbody>\n",
       "    <tr>\n",
       "      <th>0</th>\n",
       "      <td>-109.082829</td>\n",
       "      <td>31.938851</td>\n",
       "    </tr>\n",
       "    <tr>\n",
       "      <th>1</th>\n",
       "      <td>-109.081975</td>\n",
       "      <td>31.938887</td>\n",
       "    </tr>\n",
       "    <tr>\n",
       "      <th>2</th>\n",
       "      <td>-109.081208</td>\n",
       "      <td>31.938896</td>\n",
       "    </tr>\n",
       "    <tr>\n",
       "      <th>3</th>\n",
       "      <td>-109.080409</td>\n",
       "      <td>31.938894</td>\n",
       "    </tr>\n",
       "    <tr>\n",
       "      <th>4</th>\n",
       "      <td>-109.079602</td>\n",
       "      <td>31.938970</td>\n",
       "    </tr>\n",
       "    <tr>\n",
       "      <th>5</th>\n",
       "      <td>-109.078836</td>\n",
       "      <td>31.939078</td>\n",
       "    </tr>\n",
       "    <tr>\n",
       "      <th>6</th>\n",
       "      <td>-109.082816</td>\n",
       "      <td>31.938113</td>\n",
       "    </tr>\n",
       "    <tr>\n",
       "      <th>7</th>\n",
       "      <td>-109.081680</td>\n",
       "      <td>31.937884</td>\n",
       "    </tr>\n",
       "    <tr>\n",
       "      <th>8</th>\n",
       "      <td>-109.080903</td>\n",
       "      <td>31.937859</td>\n",
       "    </tr>\n",
       "    <tr>\n",
       "      <th>9</th>\n",
       "      <td>-109.080091</td>\n",
       "      <td>31.938017</td>\n",
       "    </tr>\n",
       "    <tr>\n",
       "      <th>10</th>\n",
       "      <td>-109.079307</td>\n",
       "      <td>31.938056</td>\n",
       "    </tr>\n",
       "    <tr>\n",
       "      <th>11</th>\n",
       "      <td>-109.078519</td>\n",
       "      <td>31.938203</td>\n",
       "    </tr>\n",
       "    <tr>\n",
       "      <th>12</th>\n",
       "      <td>-109.082613</td>\n",
       "      <td>31.937028</td>\n",
       "    </tr>\n",
       "    <tr>\n",
       "      <th>13</th>\n",
       "      <td>-109.081827</td>\n",
       "      <td>31.937054</td>\n",
       "    </tr>\n",
       "    <tr>\n",
       "      <th>14</th>\n",
       "      <td>-109.081036</td>\n",
       "      <td>31.937059</td>\n",
       "    </tr>\n",
       "    <tr>\n",
       "      <th>15</th>\n",
       "      <td>-109.080244</td>\n",
       "      <td>31.937094</td>\n",
       "    </tr>\n",
       "    <tr>\n",
       "      <th>16</th>\n",
       "      <td>-109.079415</td>\n",
       "      <td>31.937117</td>\n",
       "    </tr>\n",
       "    <tr>\n",
       "      <th>17</th>\n",
       "      <td>-109.078633</td>\n",
       "      <td>31.937126</td>\n",
       "    </tr>\n",
       "    <tr>\n",
       "      <th>18</th>\n",
       "      <td>-109.077912</td>\n",
       "      <td>31.937438</td>\n",
       "    </tr>\n",
       "    <tr>\n",
       "      <th>19</th>\n",
       "      <td>-109.080191</td>\n",
       "      <td>31.936334</td>\n",
       "    </tr>\n",
       "    <tr>\n",
       "      <th>20</th>\n",
       "      <td>-109.079398</td>\n",
       "      <td>31.936448</td>\n",
       "    </tr>\n",
       "    <tr>\n",
       "      <th>21</th>\n",
       "      <td>-109.078602</td>\n",
       "      <td>31.936441</td>\n",
       "    </tr>\n",
       "    <tr>\n",
       "      <th>22</th>\n",
       "      <td>-109.077838</td>\n",
       "      <td>31.936763</td>\n",
       "    </tr>\n",
       "    <tr>\n",
       "      <th>23</th>\n",
       "      <td>-109.077736</td>\n",
       "      <td>31.938560</td>\n",
       "    </tr>\n",
       "  </tbody>\n",
       "</table>\n",
       "</div>"
      ],
      "text/plain": [
       "             0          1\n",
       "0  -109.082829  31.938851\n",
       "1  -109.081975  31.938887\n",
       "2  -109.081208  31.938896\n",
       "3  -109.080409  31.938894\n",
       "4  -109.079602  31.938970\n",
       "5  -109.078836  31.939078\n",
       "6  -109.082816  31.938113\n",
       "7  -109.081680  31.937884\n",
       "8  -109.080903  31.937859\n",
       "9  -109.080091  31.938017\n",
       "10 -109.079307  31.938056\n",
       "11 -109.078519  31.938203\n",
       "12 -109.082613  31.937028\n",
       "13 -109.081827  31.937054\n",
       "14 -109.081036  31.937059\n",
       "15 -109.080244  31.937094\n",
       "16 -109.079415  31.937117\n",
       "17 -109.078633  31.937126\n",
       "18 -109.077912  31.937438\n",
       "19 -109.080191  31.936334\n",
       "20 -109.079398  31.936448\n",
       "21 -109.078602  31.936441\n",
       "22 -109.077838  31.936763\n",
       "23 -109.077736  31.938560"
      ]
     },
     "execution_count": 53,
     "metadata": {},
     "output_type": "execute_result"
    }
   ],
   "source": [
    "plot_data.apply(transform_utm_to_wgs, axis=1)"
   ]
  },
  {
   "cell_type": "code",
   "execution_count": 54,
   "metadata": {
    "clear_cell": true,
    "run_control": {
     "frozen": false,
     "read_only": false
    }
   },
   "outputs": [],
   "source": [
    "plot_data[[\"decimalLongitude\" ,\"decimalLatitude\"]] = plot_data.apply(transform_utm_to_wgs, axis=1)"
   ]
  },
  {
   "cell_type": "code",
   "execution_count": 55,
   "metadata": {
    "run_control": {
     "frozen": false,
     "read_only": false
    }
   },
   "outputs": [
    {
     "data": {
      "text/html": [
       "<div>\n",
       "<style scoped>\n",
       "    .dataframe tbody tr th:only-of-type {\n",
       "        vertical-align: middle;\n",
       "    }\n",
       "\n",
       "    .dataframe tbody tr th {\n",
       "        vertical-align: top;\n",
       "    }\n",
       "\n",
       "    .dataframe thead th {\n",
       "        text-align: right;\n",
       "    }\n",
       "</style>\n",
       "<table border=\"1\" class=\"dataframe\">\n",
       "  <thead>\n",
       "    <tr style=\"text-align: right;\">\n",
       "      <th></th>\n",
       "      <th>plot</th>\n",
       "      <th>xutm</th>\n",
       "      <th>yutm</th>\n",
       "      <th>decimalLongitude</th>\n",
       "      <th>decimalLatitude</th>\n",
       "    </tr>\n",
       "  </thead>\n",
       "  <tbody>\n",
       "    <tr>\n",
       "      <th>0</th>\n",
       "      <td>1</td>\n",
       "      <td>681222.131658</td>\n",
       "      <td>3.535262e+06</td>\n",
       "      <td>-109.082829</td>\n",
       "      <td>31.938851</td>\n",
       "    </tr>\n",
       "    <tr>\n",
       "      <th>1</th>\n",
       "      <td>2</td>\n",
       "      <td>681302.799361</td>\n",
       "      <td>3.535268e+06</td>\n",
       "      <td>-109.081975</td>\n",
       "      <td>31.938887</td>\n",
       "    </tr>\n",
       "    <tr>\n",
       "      <th>2</th>\n",
       "      <td>3</td>\n",
       "      <td>681375.294968</td>\n",
       "      <td>3.535270e+06</td>\n",
       "      <td>-109.081208</td>\n",
       "      <td>31.938896</td>\n",
       "    </tr>\n",
       "    <tr>\n",
       "      <th>3</th>\n",
       "      <td>4</td>\n",
       "      <td>681450.837525</td>\n",
       "      <td>3.535271e+06</td>\n",
       "      <td>-109.080409</td>\n",
       "      <td>31.938894</td>\n",
       "    </tr>\n",
       "    <tr>\n",
       "      <th>4</th>\n",
       "      <td>5</td>\n",
       "      <td>681526.983040</td>\n",
       "      <td>3.535281e+06</td>\n",
       "      <td>-109.079602</td>\n",
       "      <td>31.938970</td>\n",
       "    </tr>\n",
       "  </tbody>\n",
       "</table>\n",
       "</div>"
      ],
      "text/plain": [
       "   plot           xutm          yutm  decimalLongitude  decimalLatitude\n",
       "0     1  681222.131658  3.535262e+06       -109.082829        31.938851\n",
       "1     2  681302.799361  3.535268e+06       -109.081975        31.938887\n",
       "2     3  681375.294968  3.535270e+06       -109.081208        31.938896\n",
       "3     4  681450.837525  3.535271e+06       -109.080409        31.938894\n",
       "4     5  681526.983040  3.535281e+06       -109.079602        31.938970"
      ]
     },
     "execution_count": 55,
     "metadata": {},
     "output_type": "execute_result"
    }
   ],
   "source": [
    "plot_data.head()"
   ]
  },
  {
   "cell_type": "markdown",
   "metadata": {},
   "source": [
    "The above function `transform_utm_to_wgs` you have created is a very specific function that knows the structure of the DataFrame you will apply it to (it assumes the 'xutm' and 'yutm' column names). We could also make a more generic function that just takes a X and Y coordinate and returns the Series of converted coordinates (`transform_utm_to_wgs2(X, Y)`).  \n",
    "\n",
    "To apply such a more generic function to the `plot_data` DataFrame, we can make use of the `lambda` construct, which lets you specify a function on one line as an argument:\n",
    "    \n",
    "    plot_data.apply(lambda row : transform_utm_to_wgs2(row['xutm'], row['yutm']), axis=1)\n",
    "\n",
    "If you have time, try to implement this function and test it as well."
   ]
  },
  {
   "cell_type": "markdown",
   "metadata": {},
   "source": [
    "### (intermezzo) Checking the coordinates on a map "
   ]
  },
  {
   "cell_type": "markdown",
   "metadata": {},
   "source": [
    "To check the transformation, let's put these on an interactive map. [Leaflet](http://leafletjs.com/) is a famous service for this and in many programming languages wrappers do exist to simplify the usage. [Folium](https://github.com/python-visualization/folium) is an extensive library providing multiple options. As we just want to do a quick checkup of the coordinates, we will rely on the package [mplleaflet](https://github.com/jwass/mplleaflet), which just converts a matplotlib image to a leaflet map:"
   ]
  },
  {
   "cell_type": "code",
   "execution_count": 56,
   "metadata": {
    "run_control": {
     "frozen": false,
     "read_only": false
    }
   },
   "outputs": [],
   "source": [
    "import mplleaflet  # https://github.com/jwass/mplleaflet"
   ]
  },
  {
   "cell_type": "code",
   "execution_count": 57,
   "metadata": {
    "run_control": {
     "frozen": false,
     "read_only": false
    }
   },
   "outputs": [
    {
     "name": "stderr",
     "output_type": "stream",
     "text": [
      "/home/stijnvanhoey/miniconda3/envs/DS-python-data-analysis/lib/python3.7/site-packages/IPython/core/display.py:701: UserWarning: Consider using IPython.display.IFrame instead\n",
      "  warnings.warn(\"Consider using IPython.display.IFrame instead\")\n"
     ]
    },
    {
     "data": {
      "text/html": [
       "<iframe src=\"data:text/html;base64,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\" width=\"100%\" height=\"480\"></iframe>"
      ],
      "text/plain": [
       "<IPython.core.display.HTML object>"
      ]
     },
     "execution_count": 57,
     "metadata": {},
     "output_type": "execute_result"
    }
   ],
   "source": [
    "fig, ax = plt.subplots(figsize=(5, 8))\n",
    "plt.plot(plot_data['decimalLongitude'], plot_data['decimalLatitude'], 'rs')\n",
    "\n",
    "mplleaflet.display(fig=fig) # zoom out to see where the measurement plot is located"
   ]
  },
  {
   "cell_type": "markdown",
   "metadata": {},
   "source": [
    "### Join the coordinate information to the survey data set"
   ]
  },
  {
   "cell_type": "markdown",
   "metadata": {},
   "source": [
    "All points are inside the desert region as we expected, so we can extend our survey dataset with this coordinate information. Making the combination of two data sets based on a common identifier is completely similar to the usage of `JOIN` operations in databases. In Pandas, this functionality is provided by [`pd.merge`](http://pandas.pydata.org/pandas-docs/stable/merging.html#database-style-DataFrame-joining-merging). \n",
    "\n",
    "In practice, we have to add the columns `decimalLongitude`/`decimalLatitude` to the current dataset `survey_data_decoupled`, by using the plot identification number as key to join. "
   ]
  },
  {
   "cell_type": "markdown",
   "metadata": {},
   "source": [
    "<div class=\"alert alert-success\">\n",
    "    <b>EXERCISE</b>: Extract only the columns to join to our survey dataset: the plot identifiers, decimalLatitude and decimalLongitude into a new variable named <code>plot_data_selection</code>\n",
    "</div>"
   ]
  },
  {
   "cell_type": "code",
   "execution_count": 58,
   "metadata": {
    "clear_cell": true,
    "run_control": {
     "frozen": false,
     "read_only": false
    }
   },
   "outputs": [],
   "source": [
    "plot_data_selection = plot_data[[\"plot\", \"decimalLongitude\", \"decimalLatitude\"]]"
   ]
  },
  {
   "cell_type": "markdown",
   "metadata": {},
   "source": [
    "<div class=\"alert alert-success\">\n",
    "    \n",
    "<b>EXERCISE</b>: Based on the documentation of Pandas <code>merge</code>, add the coordinate information (plot_data_selection) to the survey data set and save the resulting DataFrame as <code>survey_data_plots</code>.\n",
    "    \n",
    "__Tip__: documentation of [merge](http://pandas.pydata.org/pandas-docs/stable/merging.html#database-style-DataFrame-joining-merging)...\n",
    "\n",
    "</div>"
   ]
  },
  {
   "cell_type": "code",
   "execution_count": 59,
   "metadata": {
    "clear_cell": true,
    "run_control": {
     "frozen": false,
     "read_only": false
    }
   },
   "outputs": [],
   "source": [
    "survey_data_plots = pd.merge(survey_data_decoupled, plot_data_selection, \n",
    "                             how=\"left\", on=\"plot\")"
   ]
  },
  {
   "cell_type": "code",
   "execution_count": 60,
   "metadata": {
    "run_control": {
     "frozen": false,
     "read_only": false
    }
   },
   "outputs": [
    {
     "data": {
      "text/html": [
       "<div>\n",
       "<style scoped>\n",
       "    .dataframe tbody tr th:only-of-type {\n",
       "        vertical-align: middle;\n",
       "    }\n",
       "\n",
       "    .dataframe tbody tr th {\n",
       "        vertical-align: top;\n",
       "    }\n",
       "\n",
       "    .dataframe thead th {\n",
       "        text-align: right;\n",
       "    }\n",
       "</style>\n",
       "<table border=\"1\" class=\"dataframe\">\n",
       "  <thead>\n",
       "    <tr style=\"text-align: right;\">\n",
       "      <th></th>\n",
       "      <th>plot</th>\n",
       "      <th>species</th>\n",
       "      <th>verbatimSex</th>\n",
       "      <th>wgt</th>\n",
       "      <th>datasetName</th>\n",
       "      <th>sex</th>\n",
       "      <th>occurrenceID</th>\n",
       "      <th>eventDate</th>\n",
       "      <th>decimalLongitude</th>\n",
       "      <th>decimalLatitude</th>\n",
       "    </tr>\n",
       "  </thead>\n",
       "  <tbody>\n",
       "    <tr>\n",
       "      <th>0</th>\n",
       "      <td>2</td>\n",
       "      <td>NaN</td>\n",
       "      <td>M</td>\n",
       "      <td>NaN</td>\n",
       "      <td>Ecological Archives E090-118-D1.</td>\n",
       "      <td>male</td>\n",
       "      <td>1</td>\n",
       "      <td>1977-07-16</td>\n",
       "      <td>-109.081975</td>\n",
       "      <td>31.938887</td>\n",
       "    </tr>\n",
       "    <tr>\n",
       "      <th>1</th>\n",
       "      <td>3</td>\n",
       "      <td>NaN</td>\n",
       "      <td>M</td>\n",
       "      <td>NaN</td>\n",
       "      <td>Ecological Archives E090-118-D1.</td>\n",
       "      <td>male</td>\n",
       "      <td>2</td>\n",
       "      <td>1977-07-16</td>\n",
       "      <td>-109.081208</td>\n",
       "      <td>31.938896</td>\n",
       "    </tr>\n",
       "    <tr>\n",
       "      <th>2</th>\n",
       "      <td>2</td>\n",
       "      <td>DM</td>\n",
       "      <td>F</td>\n",
       "      <td>NaN</td>\n",
       "      <td>Ecological Archives E090-118-D1.</td>\n",
       "      <td>female</td>\n",
       "      <td>3</td>\n",
       "      <td>1977-07-16</td>\n",
       "      <td>-109.081975</td>\n",
       "      <td>31.938887</td>\n",
       "    </tr>\n",
       "    <tr>\n",
       "      <th>3</th>\n",
       "      <td>7</td>\n",
       "      <td>DM</td>\n",
       "      <td>M</td>\n",
       "      <td>NaN</td>\n",
       "      <td>Ecological Archives E090-118-D1.</td>\n",
       "      <td>male</td>\n",
       "      <td>4</td>\n",
       "      <td>1977-07-16</td>\n",
       "      <td>-109.082816</td>\n",
       "      <td>31.938113</td>\n",
       "    </tr>\n",
       "    <tr>\n",
       "      <th>4</th>\n",
       "      <td>3</td>\n",
       "      <td>DM</td>\n",
       "      <td>M</td>\n",
       "      <td>NaN</td>\n",
       "      <td>Ecological Archives E090-118-D1.</td>\n",
       "      <td>male</td>\n",
       "      <td>5</td>\n",
       "      <td>1977-07-16</td>\n",
       "      <td>-109.081208</td>\n",
       "      <td>31.938896</td>\n",
       "    </tr>\n",
       "  </tbody>\n",
       "</table>\n",
       "</div>"
      ],
      "text/plain": [
       "   plot species verbatimSex  wgt                       datasetName     sex  \\\n",
       "0     2     NaN           M  NaN  Ecological Archives E090-118-D1.    male   \n",
       "1     3     NaN           M  NaN  Ecological Archives E090-118-D1.    male   \n",
       "2     2      DM           F  NaN  Ecological Archives E090-118-D1.  female   \n",
       "3     7      DM           M  NaN  Ecological Archives E090-118-D1.    male   \n",
       "4     3      DM           M  NaN  Ecological Archives E090-118-D1.    male   \n",
       "\n",
       "   occurrenceID   eventDate  decimalLongitude  decimalLatitude  \n",
       "0             1  1977-07-16       -109.081975        31.938887  \n",
       "1             2  1977-07-16       -109.081208        31.938896  \n",
       "2             3  1977-07-16       -109.081975        31.938887  \n",
       "3             4  1977-07-16       -109.082816        31.938113  \n",
       "4             5  1977-07-16       -109.081208        31.938896  "
      ]
     },
     "execution_count": 60,
     "metadata": {},
     "output_type": "execute_result"
    }
   ],
   "source": [
    "survey_data_plots.head()"
   ]
  },
  {
   "cell_type": "markdown",
   "metadata": {},
   "source": [
    "The plot locations need to be stored with the variable name `verbatimLocality` indicating th identifier as integer value of the plot:"
   ]
  },
  {
   "cell_type": "code",
   "execution_count": 61,
   "metadata": {},
   "outputs": [],
   "source": [
    "survey_data_plots = survey_data_plots.rename(columns={'plot': 'verbatimLocality'})"
   ]
  },
  {
   "cell_type": "markdown",
   "metadata": {
    "collapsed": true
   },
   "source": [
    "## Add species names to dataset"
   ]
  },
  {
   "cell_type": "markdown",
   "metadata": {},
   "source": [
    "The column `species` only provides a short identifier in the survey overview. The name information is stored in a separate file `species.csv`. As we want our dataset to include this information, we will read in this data and add it to our survey dataset:"
   ]
  },
  {
   "cell_type": "markdown",
   "metadata": {},
   "source": [
    "<div class=\"alert alert-success\">\n",
    "\n",
    "<b>EXERCISE</b>: Read in the 'species.csv' file and save the resulting DataFrame as variable <code>species_data</code>\n",
    "\n",
    "__Tip__: check the delimiter (`sep`) to define\n",
    "    \n",
    "</div>"
   ]
  },
  {
   "cell_type": "code",
   "execution_count": 62,
   "metadata": {
    "clear_cell": true,
    "run_control": {
     "frozen": false,
     "read_only": false
    }
   },
   "outputs": [],
   "source": [
    "species_data = pd.read_csv(\"../data/species.csv\", sep=\";\")"
   ]
  },
  {
   "cell_type": "code",
   "execution_count": 63,
   "metadata": {
    "run_control": {
     "frozen": false,
     "read_only": false
    }
   },
   "outputs": [
    {
     "data": {
      "text/html": [
       "<div>\n",
       "<style scoped>\n",
       "    .dataframe tbody tr th:only-of-type {\n",
       "        vertical-align: middle;\n",
       "    }\n",
       "\n",
       "    .dataframe tbody tr th {\n",
       "        vertical-align: top;\n",
       "    }\n",
       "\n",
       "    .dataframe thead th {\n",
       "        text-align: right;\n",
       "    }\n",
       "</style>\n",
       "<table border=\"1\" class=\"dataframe\">\n",
       "  <thead>\n",
       "    <tr style=\"text-align: right;\">\n",
       "      <th></th>\n",
       "      <th>species_id</th>\n",
       "      <th>genus</th>\n",
       "      <th>species</th>\n",
       "      <th>taxa</th>\n",
       "    </tr>\n",
       "  </thead>\n",
       "  <tbody>\n",
       "    <tr>\n",
       "      <th>0</th>\n",
       "      <td>AB</td>\n",
       "      <td>Amphispiza</td>\n",
       "      <td>bilineata</td>\n",
       "      <td>Bird</td>\n",
       "    </tr>\n",
       "    <tr>\n",
       "      <th>1</th>\n",
       "      <td>AH</td>\n",
       "      <td>Ammospermophilus</td>\n",
       "      <td>harrisi</td>\n",
       "      <td>Rodent-not censused</td>\n",
       "    </tr>\n",
       "    <tr>\n",
       "      <th>2</th>\n",
       "      <td>AS</td>\n",
       "      <td>Ammodramus</td>\n",
       "      <td>savannarum</td>\n",
       "      <td>Bird</td>\n",
       "    </tr>\n",
       "    <tr>\n",
       "      <th>3</th>\n",
       "      <td>BA</td>\n",
       "      <td>Baiomys</td>\n",
       "      <td>taylori</td>\n",
       "      <td>Rodent</td>\n",
       "    </tr>\n",
       "    <tr>\n",
       "      <th>4</th>\n",
       "      <td>CB</td>\n",
       "      <td>Campylorhynchus</td>\n",
       "      <td>brunneicapillus</td>\n",
       "      <td>Bird</td>\n",
       "    </tr>\n",
       "  </tbody>\n",
       "</table>\n",
       "</div>"
      ],
      "text/plain": [
       "  species_id             genus          species                 taxa\n",
       "0         AB        Amphispiza        bilineata                 Bird\n",
       "1         AH  Ammospermophilus          harrisi  Rodent-not censused\n",
       "2         AS        Ammodramus       savannarum                 Bird\n",
       "3         BA           Baiomys          taylori               Rodent\n",
       "4         CB   Campylorhynchus  brunneicapillus                 Bird"
      ]
     },
     "execution_count": 63,
     "metadata": {},
     "output_type": "execute_result"
    }
   ],
   "source": [
    "species_data.head()"
   ]
  },
  {
   "cell_type": "markdown",
   "metadata": {},
   "source": [
    "### Fix a wrong acronym naming"
   ]
  },
  {
   "cell_type": "markdown",
   "metadata": {},
   "source": [
    "When reviewing the metadata, you see that in the data-file the acronym `NE` is used to describe `Neotoma albigula`, whereas in the [metadata description](http://esapubs.org/archive/ecol/E090/118/Portal_rodent_metadata.htm), the acronym `NA` is used. "
   ]
  },
  {
   "cell_type": "markdown",
   "metadata": {},
   "source": [
    "<div class=\"alert alert-success\">\n",
    "    <b>EXERCISE</b>: Convert the value of 'NE' to 'NA' by using boolean indexing for the `species_id` column\n",
    "</div>"
   ]
  },
  {
   "cell_type": "code",
   "execution_count": 64,
   "metadata": {
    "clear_cell": true,
    "run_control": {
     "frozen": false,
     "read_only": false
    }
   },
   "outputs": [],
   "source": [
    "species_data.loc[species_data[\"species_id\"] == \"NE\", \"species_id\"] = \"NA\""
   ]
  },
  {
   "cell_type": "markdown",
   "metadata": {
    "collapsed": true,
    "run_control": {
     "frozen": false,
     "read_only": false
    }
   },
   "source": [
    "(At the same time, you decide to cure this problem at the source and alert the data provider about this issue.)"
   ]
  },
  {
   "cell_type": "markdown",
   "metadata": {},
   "source": [
    "### Merging surveys and species"
   ]
  },
  {
   "cell_type": "markdown",
   "metadata": {},
   "source": [
    "As we now prepared the two series, we can combine the data, using the `merge` operation. Take into account that our key-column is different for `species_data` and `survey_data_plots`, respectively `species_id` and `species`:"
   ]
  },
  {
   "cell_type": "markdown",
   "metadata": {},
   "source": [
    "We want to add the data of the species to the survey data, in order to see the full species names:"
   ]
  },
  {
   "cell_type": "markdown",
   "metadata": {},
   "source": [
    "<div class=\"alert alert-success\">\n",
    "\n",
    "<b>EXERCISE</b>: Merge the `survey_data_plots` data set with the `species_data` information in order to pass the species information to the survey data:\n",
    "\n",
    "</div>"
   ]
  },
  {
   "cell_type": "code",
   "execution_count": 65,
   "metadata": {
    "clear_cell": true,
    "run_control": {
     "frozen": false,
     "read_only": false
    }
   },
   "outputs": [],
   "source": [
    "survey_data_species = pd.merge(survey_data_plots, species_data, how=\"left\",  # LEFT OR INNER?\n",
    "                                left_on=\"species\", right_on=\"species_id\")"
   ]
  },
  {
   "cell_type": "code",
   "execution_count": 66,
   "metadata": {
    "run_control": {
     "frozen": false,
     "read_only": false
    }
   },
   "outputs": [
    {
     "data": {
      "text/plain": [
       "35550"
      ]
     },
     "execution_count": 66,
     "metadata": {},
     "output_type": "execute_result"
    }
   ],
   "source": [
    "len(survey_data_species)"
   ]
  },
  {
   "cell_type": "markdown",
   "metadata": {},
   "source": [
    "The join is ok, but we are left with some redundant columns and wrong naming:"
   ]
  },
  {
   "cell_type": "code",
   "execution_count": 67,
   "metadata": {
    "run_control": {
     "frozen": false,
     "read_only": false
    }
   },
   "outputs": [
    {
     "data": {
      "text/html": [
       "<div>\n",
       "<style scoped>\n",
       "    .dataframe tbody tr th:only-of-type {\n",
       "        vertical-align: middle;\n",
       "    }\n",
       "\n",
       "    .dataframe tbody tr th {\n",
       "        vertical-align: top;\n",
       "    }\n",
       "\n",
       "    .dataframe thead th {\n",
       "        text-align: right;\n",
       "    }\n",
       "</style>\n",
       "<table border=\"1\" class=\"dataframe\">\n",
       "  <thead>\n",
       "    <tr style=\"text-align: right;\">\n",
       "      <th></th>\n",
       "      <th>verbatimLocality</th>\n",
       "      <th>species_x</th>\n",
       "      <th>verbatimSex</th>\n",
       "      <th>wgt</th>\n",
       "      <th>datasetName</th>\n",
       "      <th>sex</th>\n",
       "      <th>occurrenceID</th>\n",
       "      <th>eventDate</th>\n",
       "      <th>decimalLongitude</th>\n",
       "      <th>decimalLatitude</th>\n",
       "      <th>species_id</th>\n",
       "      <th>genus</th>\n",
       "      <th>species_y</th>\n",
       "      <th>taxa</th>\n",
       "    </tr>\n",
       "  </thead>\n",
       "  <tbody>\n",
       "    <tr>\n",
       "      <th>0</th>\n",
       "      <td>2</td>\n",
       "      <td>NaN</td>\n",
       "      <td>M</td>\n",
       "      <td>NaN</td>\n",
       "      <td>Ecological Archives E090-118-D1.</td>\n",
       "      <td>male</td>\n",
       "      <td>1</td>\n",
       "      <td>1977-07-16</td>\n",
       "      <td>-109.081975</td>\n",
       "      <td>31.938887</td>\n",
       "      <td>NaN</td>\n",
       "      <td>NaN</td>\n",
       "      <td>NaN</td>\n",
       "      <td>NaN</td>\n",
       "    </tr>\n",
       "    <tr>\n",
       "      <th>1</th>\n",
       "      <td>3</td>\n",
       "      <td>NaN</td>\n",
       "      <td>M</td>\n",
       "      <td>NaN</td>\n",
       "      <td>Ecological Archives E090-118-D1.</td>\n",
       "      <td>male</td>\n",
       "      <td>2</td>\n",
       "      <td>1977-07-16</td>\n",
       "      <td>-109.081208</td>\n",
       "      <td>31.938896</td>\n",
       "      <td>NaN</td>\n",
       "      <td>NaN</td>\n",
       "      <td>NaN</td>\n",
       "      <td>NaN</td>\n",
       "    </tr>\n",
       "    <tr>\n",
       "      <th>2</th>\n",
       "      <td>2</td>\n",
       "      <td>DM</td>\n",
       "      <td>F</td>\n",
       "      <td>NaN</td>\n",
       "      <td>Ecological Archives E090-118-D1.</td>\n",
       "      <td>female</td>\n",
       "      <td>3</td>\n",
       "      <td>1977-07-16</td>\n",
       "      <td>-109.081975</td>\n",
       "      <td>31.938887</td>\n",
       "      <td>DM</td>\n",
       "      <td>Dipodomys</td>\n",
       "      <td>merriami</td>\n",
       "      <td>Rodent</td>\n",
       "    </tr>\n",
       "    <tr>\n",
       "      <th>3</th>\n",
       "      <td>7</td>\n",
       "      <td>DM</td>\n",
       "      <td>M</td>\n",
       "      <td>NaN</td>\n",
       "      <td>Ecological Archives E090-118-D1.</td>\n",
       "      <td>male</td>\n",
       "      <td>4</td>\n",
       "      <td>1977-07-16</td>\n",
       "      <td>-109.082816</td>\n",
       "      <td>31.938113</td>\n",
       "      <td>DM</td>\n",
       "      <td>Dipodomys</td>\n",
       "      <td>merriami</td>\n",
       "      <td>Rodent</td>\n",
       "    </tr>\n",
       "    <tr>\n",
       "      <th>4</th>\n",
       "      <td>3</td>\n",
       "      <td>DM</td>\n",
       "      <td>M</td>\n",
       "      <td>NaN</td>\n",
       "      <td>Ecological Archives E090-118-D1.</td>\n",
       "      <td>male</td>\n",
       "      <td>5</td>\n",
       "      <td>1977-07-16</td>\n",
       "      <td>-109.081208</td>\n",
       "      <td>31.938896</td>\n",
       "      <td>DM</td>\n",
       "      <td>Dipodomys</td>\n",
       "      <td>merriami</td>\n",
       "      <td>Rodent</td>\n",
       "    </tr>\n",
       "  </tbody>\n",
       "</table>\n",
       "</div>"
      ],
      "text/plain": [
       "   verbatimLocality species_x verbatimSex  wgt  \\\n",
       "0                 2       NaN           M  NaN   \n",
       "1                 3       NaN           M  NaN   \n",
       "2                 2        DM           F  NaN   \n",
       "3                 7        DM           M  NaN   \n",
       "4                 3        DM           M  NaN   \n",
       "\n",
       "                        datasetName     sex  occurrenceID   eventDate  \\\n",
       "0  Ecological Archives E090-118-D1.    male             1  1977-07-16   \n",
       "1  Ecological Archives E090-118-D1.    male             2  1977-07-16   \n",
       "2  Ecological Archives E090-118-D1.  female             3  1977-07-16   \n",
       "3  Ecological Archives E090-118-D1.    male             4  1977-07-16   \n",
       "4  Ecological Archives E090-118-D1.    male             5  1977-07-16   \n",
       "\n",
       "   decimalLongitude  decimalLatitude species_id      genus species_y    taxa  \n",
       "0       -109.081975        31.938887        NaN        NaN       NaN     NaN  \n",
       "1       -109.081208        31.938896        NaN        NaN       NaN     NaN  \n",
       "2       -109.081975        31.938887         DM  Dipodomys  merriami  Rodent  \n",
       "3       -109.082816        31.938113         DM  Dipodomys  merriami  Rodent  \n",
       "4       -109.081208        31.938896         DM  Dipodomys  merriami  Rodent  "
      ]
     },
     "execution_count": 67,
     "metadata": {},
     "output_type": "execute_result"
    }
   ],
   "source": [
    " survey_data_species.head()"
   ]
  },
  {
   "cell_type": "markdown",
   "metadata": {},
   "source": [
    "We do not need the columns `species_x` and `species_id` column anymore, as we will use the scientific names from now on:"
   ]
  },
  {
   "cell_type": "code",
   "execution_count": 68,
   "metadata": {
    "run_control": {
     "frozen": false,
     "read_only": false
    }
   },
   "outputs": [],
   "source": [
    "survey_data_species = survey_data_species.drop([\"species_x\", \"species_id\"], axis=1)"
   ]
  },
  {
   "cell_type": "markdown",
   "metadata": {},
   "source": [
    "The column `species_y` could just be named `species`:"
   ]
  },
  {
   "cell_type": "code",
   "execution_count": 69,
   "metadata": {
    "run_control": {
     "frozen": false,
     "read_only": false
    }
   },
   "outputs": [],
   "source": [
    "survey_data_species = survey_data_species.rename(columns={\"species_y\": \"species\"})"
   ]
  },
  {
   "cell_type": "code",
   "execution_count": 70,
   "metadata": {
    "run_control": {
     "frozen": false,
     "read_only": false
    }
   },
   "outputs": [
    {
     "data": {
      "text/html": [
       "<div>\n",
       "<style scoped>\n",
       "    .dataframe tbody tr th:only-of-type {\n",
       "        vertical-align: middle;\n",
       "    }\n",
       "\n",
       "    .dataframe tbody tr th {\n",
       "        vertical-align: top;\n",
       "    }\n",
       "\n",
       "    .dataframe thead th {\n",
       "        text-align: right;\n",
       "    }\n",
       "</style>\n",
       "<table border=\"1\" class=\"dataframe\">\n",
       "  <thead>\n",
       "    <tr style=\"text-align: right;\">\n",
       "      <th></th>\n",
       "      <th>verbatimLocality</th>\n",
       "      <th>verbatimSex</th>\n",
       "      <th>wgt</th>\n",
       "      <th>datasetName</th>\n",
       "      <th>sex</th>\n",
       "      <th>occurrenceID</th>\n",
       "      <th>eventDate</th>\n",
       "      <th>decimalLongitude</th>\n",
       "      <th>decimalLatitude</th>\n",
       "      <th>genus</th>\n",
       "      <th>species</th>\n",
       "      <th>taxa</th>\n",
       "    </tr>\n",
       "  </thead>\n",
       "  <tbody>\n",
       "    <tr>\n",
       "      <th>0</th>\n",
       "      <td>2</td>\n",
       "      <td>M</td>\n",
       "      <td>NaN</td>\n",
       "      <td>Ecological Archives E090-118-D1.</td>\n",
       "      <td>male</td>\n",
       "      <td>1</td>\n",
       "      <td>1977-07-16</td>\n",
       "      <td>-109.081975</td>\n",
       "      <td>31.938887</td>\n",
       "      <td>NaN</td>\n",
       "      <td>NaN</td>\n",
       "      <td>NaN</td>\n",
       "    </tr>\n",
       "    <tr>\n",
       "      <th>1</th>\n",
       "      <td>3</td>\n",
       "      <td>M</td>\n",
       "      <td>NaN</td>\n",
       "      <td>Ecological Archives E090-118-D1.</td>\n",
       "      <td>male</td>\n",
       "      <td>2</td>\n",
       "      <td>1977-07-16</td>\n",
       "      <td>-109.081208</td>\n",
       "      <td>31.938896</td>\n",
       "      <td>NaN</td>\n",
       "      <td>NaN</td>\n",
       "      <td>NaN</td>\n",
       "    </tr>\n",
       "    <tr>\n",
       "      <th>2</th>\n",
       "      <td>2</td>\n",
       "      <td>F</td>\n",
       "      <td>NaN</td>\n",
       "      <td>Ecological Archives E090-118-D1.</td>\n",
       "      <td>female</td>\n",
       "      <td>3</td>\n",
       "      <td>1977-07-16</td>\n",
       "      <td>-109.081975</td>\n",
       "      <td>31.938887</td>\n",
       "      <td>Dipodomys</td>\n",
       "      <td>merriami</td>\n",
       "      <td>Rodent</td>\n",
       "    </tr>\n",
       "    <tr>\n",
       "      <th>3</th>\n",
       "      <td>7</td>\n",
       "      <td>M</td>\n",
       "      <td>NaN</td>\n",
       "      <td>Ecological Archives E090-118-D1.</td>\n",
       "      <td>male</td>\n",
       "      <td>4</td>\n",
       "      <td>1977-07-16</td>\n",
       "      <td>-109.082816</td>\n",
       "      <td>31.938113</td>\n",
       "      <td>Dipodomys</td>\n",
       "      <td>merriami</td>\n",
       "      <td>Rodent</td>\n",
       "    </tr>\n",
       "    <tr>\n",
       "      <th>4</th>\n",
       "      <td>3</td>\n",
       "      <td>M</td>\n",
       "      <td>NaN</td>\n",
       "      <td>Ecological Archives E090-118-D1.</td>\n",
       "      <td>male</td>\n",
       "      <td>5</td>\n",
       "      <td>1977-07-16</td>\n",
       "      <td>-109.081208</td>\n",
       "      <td>31.938896</td>\n",
       "      <td>Dipodomys</td>\n",
       "      <td>merriami</td>\n",
       "      <td>Rodent</td>\n",
       "    </tr>\n",
       "  </tbody>\n",
       "</table>\n",
       "</div>"
      ],
      "text/plain": [
       "   verbatimLocality verbatimSex  wgt                       datasetName  \\\n",
       "0                 2           M  NaN  Ecological Archives E090-118-D1.   \n",
       "1                 3           M  NaN  Ecological Archives E090-118-D1.   \n",
       "2                 2           F  NaN  Ecological Archives E090-118-D1.   \n",
       "3                 7           M  NaN  Ecological Archives E090-118-D1.   \n",
       "4                 3           M  NaN  Ecological Archives E090-118-D1.   \n",
       "\n",
       "      sex  occurrenceID   eventDate  decimalLongitude  decimalLatitude  \\\n",
       "0    male             1  1977-07-16       -109.081975        31.938887   \n",
       "1    male             2  1977-07-16       -109.081208        31.938896   \n",
       "2  female             3  1977-07-16       -109.081975        31.938887   \n",
       "3    male             4  1977-07-16       -109.082816        31.938113   \n",
       "4    male             5  1977-07-16       -109.081208        31.938896   \n",
       "\n",
       "       genus   species    taxa  \n",
       "0        NaN       NaN     NaN  \n",
       "1        NaN       NaN     NaN  \n",
       "2  Dipodomys  merriami  Rodent  \n",
       "3  Dipodomys  merriami  Rodent  \n",
       "4  Dipodomys  merriami  Rodent  "
      ]
     },
     "execution_count": 70,
     "metadata": {},
     "output_type": "execute_result"
    }
   ],
   "source": [
    "survey_data_species.head()"
   ]
  },
  {
   "cell_type": "code",
   "execution_count": 71,
   "metadata": {
    "run_control": {
     "frozen": false,
     "read_only": false
    }
   },
   "outputs": [
    {
     "data": {
      "text/plain": [
       "35550"
      ]
     },
     "execution_count": 71,
     "metadata": {},
     "output_type": "execute_result"
    }
   ],
   "source": [
    "len(survey_data_species)"
   ]
  },
  {
   "cell_type": "markdown",
   "metadata": {},
   "source": [
    "Let's now save our cleaned-up to a csv file, so we can further analyze the data in a following notebook:"
   ]
  },
  {
   "cell_type": "code",
   "execution_count": 72,
   "metadata": {
    "run_control": {
     "frozen": false,
     "read_only": false
    }
   },
   "outputs": [],
   "source": [
    "survey_data_species.to_csv(\"interim_survey_data_species.csv\", index=False)"
   ]
  },
  {
   "cell_type": "markdown",
   "metadata": {},
   "source": [
    "## (OPTIONAL SECTION) Using a API service to match the scientific names"
   ]
  },
  {
   "cell_type": "markdown",
   "metadata": {},
   "source": [
    "As the current species names are rather short and could eventually lead to confusion when shared with other users, retrieving additional information about the different species in our dataset would be useful to integrate our work with other research. An option is to match our names with an external service to request additional information about the different species.\n",
    "\n",
    "One of these services is [GBIF API](http://www.gbif.org/developer/species). The service can most easily be illustrated with a small example:<br><br>\n",
    "In a new tabblad of the browser, go to the URL [http://www.gbif.org/species/2475532](http://www.gbif.org/species/2475532), which corresponds to the page of `Alcedo atthis` (*ijsvogel* in dutch). One could for each of the species in the list we have do a search on the website of GBIF to find the corresponding page of the different species, from which more information can be extracted manually. However, this would take a lot of time...\n",
    "\n",
    "Therefore, GBIF (and many other organisations!) provides a service to extract the same information on a machine-readable way, in order to automate these searches. As an example, let's search for the information of `Alcedo atthis`, using the GBIF API: Go to the URL: [http://api.gbif.org/v1/species/match?name=Alcedo atthis](http://api.gbif.org/v1/species/match?name=%22Alcedo%20atthis%22) and check the output. What we did is a machine-based search on the GBIF website for information about `Alcedo atthis`.\n",
    "\n",
    "The same can be done using Python. The main library we need to this kind of automated searches is the [`requests` package](http://docs.python-requests.org/en/master/), which can be used to do request to any kind of API out there."
   ]
  },
  {
   "cell_type": "code",
   "execution_count": 73,
   "metadata": {
    "run_control": {
     "frozen": false,
     "read_only": false
    }
   },
   "outputs": [],
   "source": [
    "import requests"
   ]
  },
  {
   "cell_type": "markdown",
   "metadata": {},
   "source": [
    "### Example matching with Alcedo Atthis"
   ]
  },
  {
   "cell_type": "markdown",
   "metadata": {},
   "source": [
    "For the example of `Alcedo atthis`:"
   ]
  },
  {
   "cell_type": "code",
   "execution_count": 74,
   "metadata": {
    "run_control": {
     "frozen": false,
     "read_only": false
    }
   },
   "outputs": [],
   "source": [
    "species_name = 'Alcedo atthis'"
   ]
  },
  {
   "cell_type": "code",
   "execution_count": 75,
   "metadata": {
    "run_control": {
     "frozen": false,
     "read_only": false
    }
   },
   "outputs": [
    {
     "data": {
      "text/plain": [
       "{'usageKey': 2475532,\n",
       " 'scientificName': 'Alcedo atthis (Linnaeus, 1758)',\n",
       " 'canonicalName': 'Alcedo atthis',\n",
       " 'rank': 'SPECIES',\n",
       " 'status': 'ACCEPTED',\n",
       " 'confidence': 99,\n",
       " 'matchType': 'EXACT',\n",
       " 'kingdom': 'Animalia',\n",
       " 'phylum': 'Chordata',\n",
       " 'order': 'Coraciiformes',\n",
       " 'family': 'Alcedinidae',\n",
       " 'genus': 'Alcedo',\n",
       " 'species': 'Alcedo atthis',\n",
       " 'kingdomKey': 1,\n",
       " 'phylumKey': 44,\n",
       " 'classKey': 212,\n",
       " 'orderKey': 1447,\n",
       " 'familyKey': 2984,\n",
       " 'genusKey': 2475493,\n",
       " 'speciesKey': 2475532,\n",
       " 'synonym': False,\n",
       " 'class': 'Aves'}"
      ]
     },
     "execution_count": 75,
     "metadata": {},
     "output_type": "execute_result"
    }
   ],
   "source": [
    "base_string = 'http://api.gbif.org/v1/species/match?'\n",
    "request_parameters = {'verbose': False, 'strict': True, 'name': species_name}\n",
    "message = requests.get(base_string, params=request_parameters).json()\n",
    "message"
   ]
  },
  {
   "cell_type": "markdown",
   "metadata": {},
   "source": [
    "From which we get a dictionary containing more information about the taxonomy of the `Alcedo atthis`."
   ]
  },
  {
   "cell_type": "markdown",
   "metadata": {},
   "source": [
    "In the species data set available, the name to match is provided in the combination of two columns, so we have to combine those to in order to execute the name matching:"
   ]
  },
  {
   "cell_type": "code",
   "execution_count": 76,
   "metadata": {
    "run_control": {
     "frozen": false,
     "read_only": false
    }
   },
   "outputs": [
    {
     "data": {
      "text/plain": [
       "{'usageKey': 5228075,\n",
       " 'scientificName': 'Callipepla squamata (Vigors, 1830)',\n",
       " 'canonicalName': 'Callipepla squamata',\n",
       " 'rank': 'SPECIES',\n",
       " 'status': 'ACCEPTED',\n",
       " 'confidence': 99,\n",
       " 'matchType': 'EXACT',\n",
       " 'kingdom': 'Animalia',\n",
       " 'phylum': 'Chordata',\n",
       " 'order': 'Galliformes',\n",
       " 'family': 'Odontophoridae',\n",
       " 'genus': 'Callipepla',\n",
       " 'species': 'Callipepla squamata',\n",
       " 'kingdomKey': 1,\n",
       " 'phylumKey': 44,\n",
       " 'classKey': 212,\n",
       " 'orderKey': 723,\n",
       " 'familyKey': 9325,\n",
       " 'genusKey': 2474205,\n",
       " 'speciesKey': 5228075,\n",
       " 'synonym': False,\n",
       " 'class': 'Aves'}"
      ]
     },
     "execution_count": 76,
     "metadata": {},
     "output_type": "execute_result"
    }
   ],
   "source": [
    "genus_name = \"Callipepla\"\n",
    "species_name = \"squamata\"\n",
    "name_to_match = '{} {}'.format(genus_name, species_name)\n",
    "base_string = 'http://api.gbif.org/v1/species/match?'\n",
    "request_parameters = {'strict': True, 'name': name_to_match} # use strict matching(!)\n",
    "message = requests.get(base_string, params=request_parameters).json()\n",
    "message"
   ]
  },
  {
   "cell_type": "markdown",
   "metadata": {},
   "source": [
    "To apply this on our species data set, we will have to do this request for each of the individual species/genus combination. As, this is a returning functionality, we will write a small function to do this:"
   ]
  },
  {
   "cell_type": "markdown",
   "metadata": {},
   "source": [
    "### Writing a custom matching function"
   ]
  },
  {
   "cell_type": "markdown",
   "metadata": {},
   "source": [
    "<div class=\"alert alert-success\">\n",
    "    \n",
    "<b>EXERCISE</b>: Write a function, called `name_match` that takes the `genus`, the `species` and the option to perform a strict matching or not as inputs, performs a matching with the GBIF name matching API and return the received message as a dictionary.\n",
    "\n",
    "</div>"
   ]
  },
  {
   "cell_type": "code",
   "execution_count": 77,
   "metadata": {
    "clear_cell": true,
    "run_control": {
     "frozen": false,
     "read_only": false
    }
   },
   "outputs": [],
   "source": [
    "def name_match(genus_name, species_name, strict=True):\n",
    "    \"\"\"\n",
    "    Perform a GBIF name matching using the species and genus names\n",
    "    \n",
    "    Parameters\n",
    "    ----------\n",
    "    genus_name: str\n",
    "        name of the genus of the species\n",
    "    species_name: str\n",
    "        name of the species to request more information\n",
    "    strict: boolean\n",
    "        define if the mathing need to be performed with the strict \n",
    "        option (True) or not (False)\n",
    "    \n",
    "    Returns\n",
    "    -------\n",
    "    message: dict\n",
    "        dictionary with the information returned by the GBIF matching service\n",
    "    \"\"\"\n",
    "    name = '{} {}'.format(genus_name, species_name)\n",
    "    base_string = 'http://api.gbif.org/v1/species/match?'\n",
    "    request_parameters = {'strict': strict, 'name': name} # use strict matching(!)\n",
    "    message = requests.get(base_string, params=request_parameters).json()\n",
    "    return message"
   ]
  },
  {
   "cell_type": "markdown",
   "metadata": {},
   "source": [
    "<div class=\"alert alert-danger\">\n",
    "    \n",
    "<b>NOTE</b>: For many of these API request handling, dedicated packages do exist, e.g. <a href=\"https://github.com/sckott/pygbif\">pygbif</a> provides different functions to do requests to the GBIF API, basically wrapping the request possibilities. For any kind of service, just ask yourself: is the dedicated library providing sufficient additional advantage, or can I easily setup the request myself. (or sometimes: for which the documentation is the best...)<br><br>Many services do exist for a wide range of applications, e.g. scientific name matching, matching of addresses, downloading of data,...\n",
    "    \n",
    "</div>"
   ]
  },
  {
   "cell_type": "markdown",
   "metadata": {},
   "source": [
    "Testing our custom matching function:"
   ]
  },
  {
   "cell_type": "code",
   "execution_count": 78,
   "metadata": {
    "run_control": {
     "frozen": false,
     "read_only": false
    }
   },
   "outputs": [
    {
     "data": {
      "text/plain": [
       "{'usageKey': 5228075,\n",
       " 'scientificName': 'Callipepla squamata (Vigors, 1830)',\n",
       " 'canonicalName': 'Callipepla squamata',\n",
       " 'rank': 'SPECIES',\n",
       " 'status': 'ACCEPTED',\n",
       " 'confidence': 99,\n",
       " 'matchType': 'EXACT',\n",
       " 'kingdom': 'Animalia',\n",
       " 'phylum': 'Chordata',\n",
       " 'order': 'Galliformes',\n",
       " 'family': 'Odontophoridae',\n",
       " 'genus': 'Callipepla',\n",
       " 'species': 'Callipepla squamata',\n",
       " 'kingdomKey': 1,\n",
       " 'phylumKey': 44,\n",
       " 'classKey': 212,\n",
       " 'orderKey': 723,\n",
       " 'familyKey': 9325,\n",
       " 'genusKey': 2474205,\n",
       " 'speciesKey': 5228075,\n",
       " 'synonym': False,\n",
       " 'class': 'Aves'}"
      ]
     },
     "execution_count": 78,
     "metadata": {},
     "output_type": "execute_result"
    }
   ],
   "source": [
    "genus_name = \"Callipepla\"\n",
    "species_name = \"squamata\"\n",
    "name_match(genus_name, species_name, strict=True)"
   ]
  },
  {
   "cell_type": "markdown",
   "metadata": {},
   "source": [
    "However, the matching won't provide an answer for every search:"
   ]
  },
  {
   "cell_type": "code",
   "execution_count": 79,
   "metadata": {
    "run_control": {
     "frozen": false,
     "read_only": false
    }
   },
   "outputs": [
    {
     "data": {
      "text/plain": [
       "{'confidence': 100, 'matchType': 'NONE', 'synonym': False}"
      ]
     },
     "execution_count": 79,
     "metadata": {},
     "output_type": "execute_result"
    }
   ],
   "source": [
    "genus_name = \"Lizard\"\n",
    "species_name = \"sp.\"\n",
    "name_match(genus_name, species_name, strict=True)"
   ]
  },
  {
   "cell_type": "markdown",
   "metadata": {},
   "source": [
    "### Match each of the species names of the survey data set"
   ]
  },
  {
   "cell_type": "markdown",
   "metadata": {},
   "source": [
    "Hence, in order to add this information to our survey DataFrame, we need to perform the following steps:\n",
    "1. extract the unique genus/species combinations in our dataset and combine them in single column\n",
    "2. match each of these names to the GBIF API service\n",
    "3. process the returned message:\n",
    "    * if a match is found, add the information of the columns 'class', 'kingdom', 'order', 'phylum', 'scientificName', 'status' and 'usageKey'\n",
    "    * if no match was found: nan-values\n",
    "4. Join the DataFrame of unique genus/species information with the enriched GBIF info to the `survey_data_species` data set"
   ]
  },
  {
   "cell_type": "markdown",
   "metadata": {},
   "source": [
    "<div class=\"alert alert-success\">\n",
    "    <b>EXERCISE</b>: Extract the unique combinations of genus and species in the `survey_data_species` using the function <code>drop_duplicates()</code>. Save the result as the variable <code>unique_species</code>\n",
    "</div>"
   ]
  },
  {
   "cell_type": "code",
   "execution_count": 80,
   "metadata": {
    "clear_cell": true,
    "run_control": {
     "frozen": false,
     "read_only": false
    }
   },
   "outputs": [],
   "source": [
    "#%%timeit\n",
    "unique_species = survey_data_species[[\"genus\", \"species\"]].drop_duplicates().dropna()"
   ]
  },
  {
   "cell_type": "code",
   "execution_count": 81,
   "metadata": {
    "run_control": {
     "frozen": false,
     "read_only": false
    }
   },
   "outputs": [
    {
     "data": {
      "text/plain": [
       "47"
      ]
     },
     "execution_count": 81,
     "metadata": {},
     "output_type": "execute_result"
    }
   ],
   "source": [
    "len(unique_species)"
   ]
  },
  {
   "cell_type": "markdown",
   "metadata": {},
   "source": [
    "<div class=\"alert alert-success\">\n",
    "    \n",
    "<b>EXERCISE</b>: Extract the unique combinations of genus and species in the `survey_data_species` using <code>groupby</code>. Save the result as the variable <code>unique_species</code>\n",
    "\n",
    "</div>"
   ]
  },
  {
   "cell_type": "code",
   "execution_count": 82,
   "metadata": {
    "clear_cell": true,
    "run_control": {
     "frozen": false,
     "read_only": false
    }
   },
   "outputs": [],
   "source": [
    "#%%timeit\n",
    "unique_species = \\\n",
    "    survey_data_species.groupby([\"genus\", \"species\"]).first().reset_index()[[\"genus\", \"species\"]]"
   ]
  },
  {
   "cell_type": "code",
   "execution_count": 83,
   "metadata": {
    "run_control": {
     "frozen": false,
     "read_only": false
    }
   },
   "outputs": [
    {
     "data": {
      "text/plain": [
       "47"
      ]
     },
     "execution_count": 83,
     "metadata": {},
     "output_type": "execute_result"
    }
   ],
   "source": [
    "len(unique_species)"
   ]
  },
  {
   "cell_type": "markdown",
   "metadata": {},
   "source": [
    "<div class=\"alert alert-success\">\n",
    "    <b>EXERCISE</b>: Combine the columns genus and species to a single column with the complete name, save it in a new column named 'name'\n",
    "</div>"
   ]
  },
  {
   "cell_type": "code",
   "execution_count": 84,
   "metadata": {
    "clear_cell": true,
    "run_control": {
     "frozen": false,
     "read_only": false
    }
   },
   "outputs": [],
   "source": [
    "unique_species[\"name\"] = unique_species[\"genus\"] + \" \" + unique_species[\"species\"] \n",
    "# an alternative approach worthwhile to know:\n",
    "#unique_species[\"name\"] = unique_species[\"genus\"].str.cat(unique_species[\"species\"], \" \")"
   ]
  },
  {
   "cell_type": "code",
   "execution_count": 85,
   "metadata": {
    "run_control": {
     "frozen": false,
     "read_only": false
    }
   },
   "outputs": [
    {
     "data": {
      "text/html": [
       "<div>\n",
       "<style scoped>\n",
       "    .dataframe tbody tr th:only-of-type {\n",
       "        vertical-align: middle;\n",
       "    }\n",
       "\n",
       "    .dataframe tbody tr th {\n",
       "        vertical-align: top;\n",
       "    }\n",
       "\n",
       "    .dataframe thead th {\n",
       "        text-align: right;\n",
       "    }\n",
       "</style>\n",
       "<table border=\"1\" class=\"dataframe\">\n",
       "  <thead>\n",
       "    <tr style=\"text-align: right;\">\n",
       "      <th></th>\n",
       "      <th>genus</th>\n",
       "      <th>species</th>\n",
       "      <th>name</th>\n",
       "    </tr>\n",
       "  </thead>\n",
       "  <tbody>\n",
       "    <tr>\n",
       "      <th>0</th>\n",
       "      <td>Ammodramus</td>\n",
       "      <td>savannarum</td>\n",
       "      <td>Ammodramus savannarum</td>\n",
       "    </tr>\n",
       "    <tr>\n",
       "      <th>1</th>\n",
       "      <td>Ammospermophilus</td>\n",
       "      <td>harrisi</td>\n",
       "      <td>Ammospermophilus harrisi</td>\n",
       "    </tr>\n",
       "    <tr>\n",
       "      <th>2</th>\n",
       "      <td>Amphispiza</td>\n",
       "      <td>bilineata</td>\n",
       "      <td>Amphispiza bilineata</td>\n",
       "    </tr>\n",
       "    <tr>\n",
       "      <th>3</th>\n",
       "      <td>Baiomys</td>\n",
       "      <td>taylori</td>\n",
       "      <td>Baiomys taylori</td>\n",
       "    </tr>\n",
       "    <tr>\n",
       "      <th>4</th>\n",
       "      <td>Calamospiza</td>\n",
       "      <td>melanocorys</td>\n",
       "      <td>Calamospiza melanocorys</td>\n",
       "    </tr>\n",
       "  </tbody>\n",
       "</table>\n",
       "</div>"
      ],
      "text/plain": [
       "              genus      species                      name\n",
       "0        Ammodramus   savannarum     Ammodramus savannarum\n",
       "1  Ammospermophilus      harrisi  Ammospermophilus harrisi\n",
       "2        Amphispiza    bilineata      Amphispiza bilineata\n",
       "3           Baiomys      taylori           Baiomys taylori\n",
       "4       Calamospiza  melanocorys   Calamospiza melanocorys"
      ]
     },
     "execution_count": 85,
     "metadata": {},
     "output_type": "execute_result"
    }
   ],
   "source": [
    "unique_species.head()"
   ]
  },
  {
   "cell_type": "markdown",
   "metadata": {},
   "source": [
    "To perform the matching for each of the combination, different options do exist. \n",
    "\n",
    "Just to show the possibility of using `for` loops, the addition of the matched information will be done as such. First, we will store everything in one dictionary, where the keys of the dictionary are the index values of `unique_species` (in order to later merge them again) and the values are the entire messages (which are dictionaries aon itself). The format will look as following: \n",
    "\n",
    "```\n",
    "species_annotated = {O: {'canonicalName': 'Squamata', 'class': 'Reptilia', 'classKey': 358, ...}, \n",
    "                     1: {'canonicalName':...},\n",
    "                     2:...}\n",
    "```"
   ]
  },
  {
   "cell_type": "code",
   "execution_count": 86,
   "metadata": {
    "run_control": {
     "frozen": false,
     "read_only": false
    }
   },
   "outputs": [],
   "source": [
    "species_annotated = {}\n",
    "for key, row in unique_species.iterrows():\n",
    "    species_annotated[key] = name_match(row[\"genus\"], row[\"species\"], strict=True)"
   ]
  },
  {
   "cell_type": "code",
   "execution_count": 87,
   "metadata": {
    "run_control": {
     "frozen": false,
     "read_only": false
    }
   },
   "outputs": [
    {
     "data": {
      "text/plain": [
       "{0: {'usageKey': 2491123,\n",
       "  'scientificName': 'Ammodramus savannarum (J.F.Gmelin, 1789)',\n",
       "  'canonicalName': 'Ammodramus savannarum',\n",
       "  'rank': 'SPECIES',\n",
       "  'status': 'ACCEPTED',\n",
       "  'confidence': 99,\n",
       "  'matchType': 'EXACT',\n",
       "  'kingdom': 'Animalia',\n",
       "  'phylum': 'Chordata',\n",
       "  'order': 'Passeriformes',\n",
       "  'family': 'Emberizidae',\n",
       "  'genus': 'Ammodramus',\n",
       "  'species': 'Ammodramus savannarum',\n",
       "  'kingdomKey': 1,\n",
       "  'phylumKey': 44,\n",
       "  'classKey': 212,\n",
       "  'orderKey': 729,\n",
       "  'familyKey': 9608,\n",
       "  'genusKey': 2491079,\n",
       "  'speciesKey': 2491123,\n",
       "  'synonym': False,\n",
       "  'class': 'Aves'},\n",
       " 1: {'usageKey': 2437568,\n",
       "  'scientificName': 'Ammospermophilus harrisii (Audubon & Bachman, 1854)',\n",
       "  'canonicalName': 'Ammospermophilus harrisii',\n",
       "  'rank': 'SPECIES',\n",
       "  'status': 'ACCEPTED',\n",
       "  'confidence': 96,\n",
       "  'matchType': 'FUZZY',\n",
       "  'kingdom': 'Animalia',\n",
       "  'phylum': 'Chordata',\n",
       "  'order': 'Rodentia',\n",
       "  'family': 'Sciuridae',\n",
       "  'genus': 'Ammospermophilus',\n",
       "  'species': 'Ammospermophilus harrisii',\n",
       "  'kingdomKey': 1,\n",
       "  'phylumKey': 44,\n",
       "  'classKey': 359,\n",
       "  'orderKey': 1459,\n",
       "  'familyKey': 9456,\n",
       "  'genusKey': 2437567,\n",
       "  'speciesKey': 2437568,\n",
       "  'synonym': False,\n",
       "  'class': 'Mammalia'},\n",
       " 2: {'usageKey': 2491757,\n",
       "  'scientificName': 'Amphispiza bilineata (Cassin, 1850)',\n",
       "  'canonicalName': 'Amphispiza bilineata',\n",
       "  'rank': 'SPECIES',\n",
       "  'status': 'ACCEPTED',\n",
       "  'confidence': 99,\n",
       "  'matchType': 'EXACT',\n",
       "  'kingdom': 'Animalia',\n",
       "  'phylum': 'Chordata',\n",
       "  'order': 'Passeriformes',\n",
       "  'family': 'Emberizidae',\n",
       "  'genus': 'Amphispiza',\n",
       "  'species': 'Amphispiza bilineata',\n",
       "  'kingdomKey': 1,\n",
       "  'phylumKey': 44,\n",
       "  'classKey': 212,\n",
       "  'orderKey': 729,\n",
       "  'familyKey': 9608,\n",
       "  'genusKey': 2491750,\n",
       "  'speciesKey': 2491757,\n",
       "  'synonym': False,\n",
       "  'class': 'Aves'},\n",
       " 3: {'usageKey': 2438866,\n",
       "  'scientificName': 'Baiomys taylori (Thomas, 1887)',\n",
       "  'canonicalName': 'Baiomys taylori',\n",
       "  'rank': 'SPECIES',\n",
       "  'status': 'ACCEPTED',\n",
       "  'confidence': 99,\n",
       "  'matchType': 'EXACT',\n",
       "  'kingdom': 'Animalia',\n",
       "  'phylum': 'Chordata',\n",
       "  'order': 'Rodentia',\n",
       "  'family': 'Cricetidae',\n",
       "  'genus': 'Baiomys',\n",
       "  'species': 'Baiomys taylori',\n",
       "  'kingdomKey': 1,\n",
       "  'phylumKey': 44,\n",
       "  'classKey': 359,\n",
       "  'orderKey': 1459,\n",
       "  'familyKey': 3240723,\n",
       "  'genusKey': 2438864,\n",
       "  'speciesKey': 2438866,\n",
       "  'synonym': False,\n",
       "  'class': 'Mammalia'},\n",
       " 4: {'usageKey': 2491893,\n",
       "  'scientificName': 'Calamospiza melanocorys Stejneger, 1885',\n",
       "  'canonicalName': 'Calamospiza melanocorys',\n",
       "  'rank': 'SPECIES',\n",
       "  'status': 'ACCEPTED',\n",
       "  'confidence': 99,\n",
       "  'matchType': 'EXACT',\n",
       "  'kingdom': 'Animalia',\n",
       "  'phylum': 'Chordata',\n",
       "  'order': 'Passeriformes',\n",
       "  'family': 'Emberizidae',\n",
       "  'genus': 'Calamospiza',\n",
       "  'species': 'Calamospiza melanocorys',\n",
       "  'kingdomKey': 1,\n",
       "  'phylumKey': 44,\n",
       "  'classKey': 212,\n",
       "  'orderKey': 729,\n",
       "  'familyKey': 9608,\n",
       "  'genusKey': 2491892,\n",
       "  'speciesKey': 2491893,\n",
       "  'synonym': False,\n",
       "  'class': 'Aves'},\n",
       " 5: {'usageKey': 5228075,\n",
       "  'scientificName': 'Callipepla squamata (Vigors, 1830)',\n",
       "  'canonicalName': 'Callipepla squamata',\n",
       "  'rank': 'SPECIES',\n",
       "  'status': 'ACCEPTED',\n",
       "  'confidence': 99,\n",
       "  'matchType': 'EXACT',\n",
       "  'kingdom': 'Animalia',\n",
       "  'phylum': 'Chordata',\n",
       "  'order': 'Galliformes',\n",
       "  'family': 'Odontophoridae',\n",
       "  'genus': 'Callipepla',\n",
       "  'species': 'Callipepla squamata',\n",
       "  'kingdomKey': 1,\n",
       "  'phylumKey': 44,\n",
       "  'classKey': 212,\n",
       "  'orderKey': 723,\n",
       "  'familyKey': 9325,\n",
       "  'genusKey': 2474205,\n",
       "  'speciesKey': 5228075,\n",
       "  'synonym': False,\n",
       "  'class': 'Aves'},\n",
       " 6: {'usageKey': 5231474,\n",
       "  'scientificName': 'Campylorhynchus brunneicapillus (Lafresnaye, 1835)',\n",
       "  'canonicalName': 'Campylorhynchus brunneicapillus',\n",
       "  'rank': 'SPECIES',\n",
       "  'status': 'ACCEPTED',\n",
       "  'confidence': 99,\n",
       "  'matchType': 'EXACT',\n",
       "  'kingdom': 'Animalia',\n",
       "  'phylum': 'Chordata',\n",
       "  'order': 'Passeriformes',\n",
       "  'family': 'Troglodytidae',\n",
       "  'genus': 'Campylorhynchus',\n",
       "  'species': 'Campylorhynchus brunneicapillus',\n",
       "  'kingdomKey': 1,\n",
       "  'phylumKey': 44,\n",
       "  'classKey': 212,\n",
       "  'orderKey': 729,\n",
       "  'familyKey': 9355,\n",
       "  'genusKey': 2493929,\n",
       "  'speciesKey': 5231474,\n",
       "  'synonym': False,\n",
       "  'class': 'Aves'},\n",
       " 7: {'usageKey': 2439581,\n",
       "  'scientificName': 'Chaetodipus baileyi (Merriam, 1894)',\n",
       "  'canonicalName': 'Chaetodipus baileyi',\n",
       "  'rank': 'SPECIES',\n",
       "  'status': 'ACCEPTED',\n",
       "  'confidence': 99,\n",
       "  'matchType': 'EXACT',\n",
       "  'kingdom': 'Animalia',\n",
       "  'phylum': 'Chordata',\n",
       "  'order': 'Rodentia',\n",
       "  'family': 'Heteromyidae',\n",
       "  'genus': 'Chaetodipus',\n",
       "  'species': 'Chaetodipus baileyi',\n",
       "  'kingdomKey': 1,\n",
       "  'phylumKey': 44,\n",
       "  'classKey': 359,\n",
       "  'orderKey': 1459,\n",
       "  'familyKey': 5504,\n",
       "  'genusKey': 2439576,\n",
       "  'speciesKey': 2439581,\n",
       "  'synonym': False,\n",
       "  'class': 'Mammalia'},\n",
       " 8: {'usageKey': 2439589,\n",
       "  'scientificName': 'Chaetodipus intermedius (Merriam, 1889)',\n",
       "  'canonicalName': 'Chaetodipus intermedius',\n",
       "  'rank': 'SPECIES',\n",
       "  'status': 'ACCEPTED',\n",
       "  'confidence': 99,\n",
       "  'matchType': 'EXACT',\n",
       "  'kingdom': 'Animalia',\n",
       "  'phylum': 'Chordata',\n",
       "  'order': 'Rodentia',\n",
       "  'family': 'Heteromyidae',\n",
       "  'genus': 'Chaetodipus',\n",
       "  'species': 'Chaetodipus intermedius',\n",
       "  'kingdomKey': 1,\n",
       "  'phylumKey': 44,\n",
       "  'classKey': 359,\n",
       "  'orderKey': 1459,\n",
       "  'familyKey': 5504,\n",
       "  'genusKey': 2439576,\n",
       "  'speciesKey': 2439589,\n",
       "  'synonym': False,\n",
       "  'class': 'Mammalia'},\n",
       " 9: {'usageKey': 2439591,\n",
       "  'scientificName': 'Chaetodipus penicillatus (Woodhouse, 1852)',\n",
       "  'canonicalName': 'Chaetodipus penicillatus',\n",
       "  'rank': 'SPECIES',\n",
       "  'status': 'ACCEPTED',\n",
       "  'confidence': 99,\n",
       "  'matchType': 'EXACT',\n",
       "  'kingdom': 'Animalia',\n",
       "  'phylum': 'Chordata',\n",
       "  'order': 'Rodentia',\n",
       "  'family': 'Heteromyidae',\n",
       "  'genus': 'Chaetodipus',\n",
       "  'species': 'Chaetodipus penicillatus',\n",
       "  'kingdomKey': 1,\n",
       "  'phylumKey': 44,\n",
       "  'classKey': 359,\n",
       "  'orderKey': 1459,\n",
       "  'familyKey': 5504,\n",
       "  'genusKey': 2439576,\n",
       "  'speciesKey': 2439591,\n",
       "  'synonym': False,\n",
       "  'class': 'Mammalia'},\n",
       " 10: {'confidence': 99,\n",
       "  'note': 'No match because of too little confidence',\n",
       "  'matchType': 'NONE',\n",
       "  'synonym': False},\n",
       " 11: {'usageKey': 8071886,\n",
       "  'acceptedUsageKey': 6158624,\n",
       "  'scientificName': 'Cnemidophorus tigris Grismer, 1999',\n",
       "  'canonicalName': 'Cnemidophorus tigris',\n",
       "  'rank': 'SPECIES',\n",
       "  'status': 'SYNONYM',\n",
       "  'confidence': 97,\n",
       "  'note': '2 synonym homonyms',\n",
       "  'matchType': 'EXACT',\n",
       "  'kingdom': 'Animalia',\n",
       "  'phylum': 'Chordata',\n",
       "  'order': 'Squamata',\n",
       "  'family': 'Teiidae',\n",
       "  'genus': 'Aspidoscelis',\n",
       "  'species': 'Aspidoscelis tigris',\n",
       "  'kingdomKey': 1,\n",
       "  'phylumKey': 44,\n",
       "  'classKey': 358,\n",
       "  'orderKey': 715,\n",
       "  'familyKey': 5019,\n",
       "  'genusKey': 2472006,\n",
       "  'speciesKey': 8913064,\n",
       "  'synonym': True,\n",
       "  'class': 'Reptilia'},\n",
       " 12: {'usageKey': 5227544,\n",
       "  'acceptedUsageKey': 2472455,\n",
       "  'scientificName': 'Cnemidophorus uniparens Wright & Lowe, 1965',\n",
       "  'canonicalName': 'Cnemidophorus uniparens',\n",
       "  'rank': 'SPECIES',\n",
       "  'status': 'SYNONYM',\n",
       "  'confidence': 99,\n",
       "  'matchType': 'EXACT',\n",
       "  'kingdom': 'Animalia',\n",
       "  'phylum': 'Chordata',\n",
       "  'order': 'Squamata',\n",
       "  'family': 'Teiidae',\n",
       "  'genus': 'Aspidoscelis',\n",
       "  'species': 'Aspidoscelis uniparens',\n",
       "  'kingdomKey': 1,\n",
       "  'phylumKey': 44,\n",
       "  'classKey': 358,\n",
       "  'orderKey': 715,\n",
       "  'familyKey': 5019,\n",
       "  'genusKey': 2472006,\n",
       "  'speciesKey': 2472455,\n",
       "  'synonym': True,\n",
       "  'class': 'Reptilia'},\n",
       " 13: {'confidence': 100, 'matchType': 'NONE', 'synonym': False},\n",
       " 14: {'usageKey': 8945077,\n",
       "  'scientificName': 'Crotalus viridis Rafinesque, 1818',\n",
       "  'canonicalName': 'Crotalus viridis',\n",
       "  'rank': 'SPECIES',\n",
       "  'status': 'ACCEPTED',\n",
       "  'confidence': 98,\n",
       "  'matchType': 'EXACT',\n",
       "  'kingdom': 'Animalia',\n",
       "  'phylum': 'Chordata',\n",
       "  'order': 'Squamata',\n",
       "  'family': 'Viperidae',\n",
       "  'genus': 'Crotalus',\n",
       "  'species': 'Crotalus viridis',\n",
       "  'kingdomKey': 1,\n",
       "  'phylumKey': 44,\n",
       "  'classKey': 358,\n",
       "  'orderKey': 715,\n",
       "  'familyKey': 5024,\n",
       "  'genusKey': 2444354,\n",
       "  'speciesKey': 8945077,\n",
       "  'synonym': False,\n",
       "  'class': 'Reptilia'},\n",
       " 15: {'usageKey': 2439521,\n",
       "  'scientificName': 'Dipodomys merriami Mearns, 1890',\n",
       "  'canonicalName': 'Dipodomys merriami',\n",
       "  'rank': 'SPECIES',\n",
       "  'status': 'ACCEPTED',\n",
       "  'confidence': 99,\n",
       "  'matchType': 'EXACT',\n",
       "  'kingdom': 'Animalia',\n",
       "  'phylum': 'Chordata',\n",
       "  'order': 'Rodentia',\n",
       "  'family': 'Heteromyidae',\n",
       "  'genus': 'Dipodomys',\n",
       "  'species': 'Dipodomys merriami',\n",
       "  'kingdomKey': 1,\n",
       "  'phylumKey': 44,\n",
       "  'classKey': 359,\n",
       "  'orderKey': 1459,\n",
       "  'familyKey': 5504,\n",
       "  'genusKey': 2439509,\n",
       "  'speciesKey': 2439521,\n",
       "  'synonym': False,\n",
       "  'class': 'Mammalia'},\n",
       " 16: {'usageKey': 2439541,\n",
       "  'scientificName': 'Dipodomys ordii Woodhouse, 1853',\n",
       "  'canonicalName': 'Dipodomys ordii',\n",
       "  'rank': 'SPECIES',\n",
       "  'status': 'ACCEPTED',\n",
       "  'confidence': 99,\n",
       "  'matchType': 'EXACT',\n",
       "  'kingdom': 'Animalia',\n",
       "  'phylum': 'Chordata',\n",
       "  'order': 'Rodentia',\n",
       "  'family': 'Heteromyidae',\n",
       "  'genus': 'Dipodomys',\n",
       "  'species': 'Dipodomys ordii',\n",
       "  'kingdomKey': 1,\n",
       "  'phylumKey': 44,\n",
       "  'classKey': 359,\n",
       "  'orderKey': 1459,\n",
       "  'familyKey': 5504,\n",
       "  'genusKey': 2439509,\n",
       "  'speciesKey': 2439541,\n",
       "  'synonym': False,\n",
       "  'class': 'Mammalia'},\n",
       " 17: {'confidence': 99,\n",
       "  'note': 'No match because of too little confidence',\n",
       "  'matchType': 'NONE',\n",
       "  'synonym': False},\n",
       " 18: {'usageKey': 2439531,\n",
       "  'scientificName': 'Dipodomys spectabilis Merriam, 1890',\n",
       "  'canonicalName': 'Dipodomys spectabilis',\n",
       "  'rank': 'SPECIES',\n",
       "  'status': 'ACCEPTED',\n",
       "  'confidence': 99,\n",
       "  'matchType': 'EXACT',\n",
       "  'kingdom': 'Animalia',\n",
       "  'phylum': 'Chordata',\n",
       "  'order': 'Rodentia',\n",
       "  'family': 'Heteromyidae',\n",
       "  'genus': 'Dipodomys',\n",
       "  'species': 'Dipodomys spectabilis',\n",
       "  'kingdomKey': 1,\n",
       "  'phylumKey': 44,\n",
       "  'classKey': 359,\n",
       "  'orderKey': 1459,\n",
       "  'familyKey': 5504,\n",
       "  'genusKey': 2439509,\n",
       "  'speciesKey': 2439531,\n",
       "  'synonym': False,\n",
       "  'class': 'Mammalia'},\n",
       " 19: {'confidence': 100, 'matchType': 'NONE', 'synonym': False},\n",
       " 20: {'usageKey': 2438517,\n",
       "  'scientificName': 'Onychomys leucogaster (Wied-Neuwied, 1841)',\n",
       "  'canonicalName': 'Onychomys leucogaster',\n",
       "  'rank': 'SPECIES',\n",
       "  'status': 'ACCEPTED',\n",
       "  'confidence': 99,\n",
       "  'matchType': 'EXACT',\n",
       "  'kingdom': 'Animalia',\n",
       "  'phylum': 'Chordata',\n",
       "  'order': 'Rodentia',\n",
       "  'family': 'Cricetidae',\n",
       "  'genus': 'Onychomys',\n",
       "  'species': 'Onychomys leucogaster',\n",
       "  'kingdomKey': 1,\n",
       "  'phylumKey': 44,\n",
       "  'classKey': 359,\n",
       "  'orderKey': 1459,\n",
       "  'familyKey': 3240723,\n",
       "  'genusKey': 2438514,\n",
       "  'speciesKey': 2438517,\n",
       "  'synonym': False,\n",
       "  'class': 'Mammalia'},\n",
       " 21: {'confidence': 99,\n",
       "  'note': 'No match because of too little confidence',\n",
       "  'matchType': 'NONE',\n",
       "  'synonym': False},\n",
       " 22: {'usageKey': 2438516,\n",
       "  'scientificName': 'Onychomys torridus (Coues, 1874)',\n",
       "  'canonicalName': 'Onychomys torridus',\n",
       "  'rank': 'SPECIES',\n",
       "  'status': 'ACCEPTED',\n",
       "  'confidence': 99,\n",
       "  'matchType': 'EXACT',\n",
       "  'kingdom': 'Animalia',\n",
       "  'phylum': 'Chordata',\n",
       "  'order': 'Rodentia',\n",
       "  'family': 'Cricetidae',\n",
       "  'genus': 'Onychomys',\n",
       "  'species': 'Onychomys torridus',\n",
       "  'kingdomKey': 1,\n",
       "  'phylumKey': 44,\n",
       "  'classKey': 359,\n",
       "  'orderKey': 1459,\n",
       "  'familyKey': 3240723,\n",
       "  'genusKey': 2438514,\n",
       "  'speciesKey': 2438516,\n",
       "  'synonym': False,\n",
       "  'class': 'Mammalia'},\n",
       " 23: {'usageKey': 2439566,\n",
       "  'scientificName': 'Perognathus flavus Baird, 1855',\n",
       "  'canonicalName': 'Perognathus flavus',\n",
       "  'rank': 'SPECIES',\n",
       "  'status': 'ACCEPTED',\n",
       "  'confidence': 99,\n",
       "  'matchType': 'EXACT',\n",
       "  'kingdom': 'Animalia',\n",
       "  'phylum': 'Chordata',\n",
       "  'order': 'Rodentia',\n",
       "  'family': 'Heteromyidae',\n",
       "  'genus': 'Perognathus',\n",
       "  'species': 'Perognathus flavus',\n",
       "  'kingdomKey': 1,\n",
       "  'phylumKey': 44,\n",
       "  'classKey': 359,\n",
       "  'orderKey': 1459,\n",
       "  'familyKey': 5504,\n",
       "  'genusKey': 2439552,\n",
       "  'speciesKey': 2439566,\n",
       "  'synonym': False,\n",
       "  'class': 'Mammalia'},\n",
       " 24: {'usageKey': 2439584,\n",
       "  'acceptedUsageKey': 2439583,\n",
       "  'scientificName': 'Perognathus hispidus Baird, 1858',\n",
       "  'canonicalName': 'Perognathus hispidus',\n",
       "  'rank': 'SPECIES',\n",
       "  'status': 'SYNONYM',\n",
       "  'confidence': 99,\n",
       "  'matchType': 'EXACT',\n",
       "  'kingdom': 'Animalia',\n",
       "  'phylum': 'Chordata',\n",
       "  'order': 'Rodentia',\n",
       "  'family': 'Heteromyidae',\n",
       "  'genus': 'Chaetodipus',\n",
       "  'species': 'Chaetodipus hispidus',\n",
       "  'kingdomKey': 1,\n",
       "  'phylumKey': 44,\n",
       "  'classKey': 359,\n",
       "  'orderKey': 1459,\n",
       "  'familyKey': 5504,\n",
       "  'genusKey': 2439576,\n",
       "  'speciesKey': 2439583,\n",
       "  'synonym': True,\n",
       "  'class': 'Mammalia'},\n",
       " 25: {'usageKey': 2437981,\n",
       "  'scientificName': 'Peromyscus eremicus (Baird, 1857)',\n",
       "  'canonicalName': 'Peromyscus eremicus',\n",
       "  'rank': 'SPECIES',\n",
       "  'status': 'ACCEPTED',\n",
       "  'confidence': 99,\n",
       "  'matchType': 'EXACT',\n",
       "  'kingdom': 'Animalia',\n",
       "  'phylum': 'Chordata',\n",
       "  'order': 'Rodentia',\n",
       "  'family': 'Cricetidae',\n",
       "  'genus': 'Peromyscus',\n",
       "  'species': 'Peromyscus eremicus',\n",
       "  'kingdomKey': 1,\n",
       "  'phylumKey': 44,\n",
       "  'classKey': 359,\n",
       "  'orderKey': 1459,\n",
       "  'familyKey': 3240723,\n",
       "  'genusKey': 2437961,\n",
       "  'speciesKey': 2437981,\n",
       "  'synonym': False,\n",
       "  'class': 'Mammalia'},\n",
       " 26: {'usageKey': 2438019,\n",
       "  'scientificName': 'Peromyscus leucopus (Rafinesque, 1818)',\n",
       "  'canonicalName': 'Peromyscus leucopus',\n",
       "  'rank': 'SPECIES',\n",
       "  'status': 'ACCEPTED',\n",
       "  'confidence': 99,\n",
       "  'matchType': 'EXACT',\n",
       "  'kingdom': 'Animalia',\n",
       "  'phylum': 'Chordata',\n",
       "  'order': 'Rodentia',\n",
       "  'family': 'Cricetidae',\n",
       "  'genus': 'Peromyscus',\n",
       "  'species': 'Peromyscus leucopus',\n",
       "  'kingdomKey': 1,\n",
       "  'phylumKey': 44,\n",
       "  'classKey': 359,\n",
       "  'orderKey': 1459,\n",
       "  'familyKey': 3240723,\n",
       "  'genusKey': 2437961,\n",
       "  'speciesKey': 2438019,\n",
       "  'synonym': False,\n",
       "  'class': 'Mammalia'},\n",
       " 27: {'usageKey': 2437967,\n",
       "  'scientificName': 'Peromyscus maniculatus (Wagner, 1845)',\n",
       "  'canonicalName': 'Peromyscus maniculatus',\n",
       "  'rank': 'SPECIES',\n",
       "  'status': 'ACCEPTED',\n",
       "  'confidence': 99,\n",
       "  'matchType': 'EXACT',\n",
       "  'kingdom': 'Animalia',\n",
       "  'phylum': 'Chordata',\n",
       "  'order': 'Rodentia',\n",
       "  'family': 'Cricetidae',\n",
       "  'genus': 'Peromyscus',\n",
       "  'species': 'Peromyscus maniculatus',\n",
       "  'kingdomKey': 1,\n",
       "  'phylumKey': 44,\n",
       "  'classKey': 359,\n",
       "  'orderKey': 1459,\n",
       "  'familyKey': 3240723,\n",
       "  'genusKey': 2437961,\n",
       "  'speciesKey': 2437967,\n",
       "  'synonym': False,\n",
       "  'class': 'Mammalia'},\n",
       " 28: {'usageKey': 2491276,\n",
       "  'scientificName': 'Pipilo chlorurus (Audubon, 1839)',\n",
       "  'canonicalName': 'Pipilo chlorurus',\n",
       "  'rank': 'SPECIES',\n",
       "  'status': 'ACCEPTED',\n",
       "  'confidence': 99,\n",
       "  'matchType': 'EXACT',\n",
       "  'kingdom': 'Animalia',\n",
       "  'phylum': 'Chordata',\n",
       "  'order': 'Passeriformes',\n",
       "  'family': 'Emberizidae',\n",
       "  'genus': 'Pipilo',\n",
       "  'species': 'Pipilo chlorurus',\n",
       "  'kingdomKey': 1,\n",
       "  'phylumKey': 44,\n",
       "  'classKey': 212,\n",
       "  'orderKey': 729,\n",
       "  'familyKey': 9608,\n",
       "  'genusKey': 2491204,\n",
       "  'speciesKey': 2491276,\n",
       "  'synonym': False,\n",
       "  'class': 'Aves'},\n",
       " 29: {'usageKey': 2491244,\n",
       "  'acceptedUsageKey': 7341622,\n",
       "  'scientificName': 'Pipilo fuscus Swainson, 1827',\n",
       "  'canonicalName': 'Pipilo fuscus',\n",
       "  'rank': 'SPECIES',\n",
       "  'status': 'SYNONYM',\n",
       "  'confidence': 99,\n",
       "  'matchType': 'EXACT',\n",
       "  'kingdom': 'Animalia',\n",
       "  'phylum': 'Chordata',\n",
       "  'order': 'Passeriformes',\n",
       "  'family': 'Emberizidae',\n",
       "  'genus': 'Melozone',\n",
       "  'species': 'Melozone fusca',\n",
       "  'kingdomKey': 1,\n",
       "  'phylumKey': 44,\n",
       "  'classKey': 212,\n",
       "  'orderKey': 729,\n",
       "  'familyKey': 9608,\n",
       "  'genusKey': 2491170,\n",
       "  'speciesKey': 7341622,\n",
       "  'synonym': True,\n",
       "  'class': 'Aves'},\n",
       " 30: {'confidence': 99,\n",
       "  'note': 'No match because of too little confidence',\n",
       "  'matchType': 'NONE',\n",
       "  'synonym': False},\n",
       " 31: {'usageKey': 2491728,\n",
       "  'scientificName': 'Pooecetes gramineus (J.F.Gmelin, 1789)',\n",
       "  'canonicalName': 'Pooecetes gramineus',\n",
       "  'rank': 'SPECIES',\n",
       "  'status': 'ACCEPTED',\n",
       "  'confidence': 99,\n",
       "  'matchType': 'EXACT',\n",
       "  'kingdom': 'Animalia',\n",
       "  'phylum': 'Chordata',\n",
       "  'order': 'Passeriformes',\n",
       "  'family': 'Emberizidae',\n",
       "  'genus': 'Pooecetes',\n",
       "  'species': 'Pooecetes gramineus',\n",
       "  'kingdomKey': 1,\n",
       "  'phylumKey': 44,\n",
       "  'classKey': 212,\n",
       "  'orderKey': 729,\n",
       "  'familyKey': 9608,\n",
       "  'genusKey': 2491727,\n",
       "  'speciesKey': 2491728,\n",
       "  'synonym': False,\n",
       "  'class': 'Aves'},\n",
       " 32: {'usageKey': 2437864,\n",
       "  'scientificName': 'Reithrodontomys fulvescens J.A.Allen, 1894',\n",
       "  'canonicalName': 'Reithrodontomys fulvescens',\n",
       "  'rank': 'SPECIES',\n",
       "  'status': 'ACCEPTED',\n",
       "  'confidence': 99,\n",
       "  'matchType': 'EXACT',\n",
       "  'kingdom': 'Animalia',\n",
       "  'phylum': 'Chordata',\n",
       "  'order': 'Rodentia',\n",
       "  'family': 'Cricetidae',\n",
       "  'genus': 'Reithrodontomys',\n",
       "  'species': 'Reithrodontomys fulvescens',\n",
       "  'kingdomKey': 1,\n",
       "  'phylumKey': 44,\n",
       "  'classKey': 359,\n",
       "  'orderKey': 1459,\n",
       "  'familyKey': 3240723,\n",
       "  'genusKey': 2437854,\n",
       "  'speciesKey': 2437864,\n",
       "  'synonym': False,\n",
       "  'class': 'Mammalia'},\n",
       " 33: {'usageKey': 2437874,\n",
       "  'scientificName': 'Reithrodontomys megalotis (Baird, 1857)',\n",
       "  'canonicalName': 'Reithrodontomys megalotis',\n",
       "  'rank': 'SPECIES',\n",
       "  'status': 'ACCEPTED',\n",
       "  'confidence': 99,\n",
       "  'matchType': 'EXACT',\n",
       "  'kingdom': 'Animalia',\n",
       "  'phylum': 'Chordata',\n",
       "  'order': 'Rodentia',\n",
       "  'family': 'Cricetidae',\n",
       "  'genus': 'Reithrodontomys',\n",
       "  'species': 'Reithrodontomys megalotis',\n",
       "  'kingdomKey': 1,\n",
       "  'phylumKey': 44,\n",
       "  'classKey': 359,\n",
       "  'orderKey': 1459,\n",
       "  'familyKey': 3240723,\n",
       "  'genusKey': 2437854,\n",
       "  'speciesKey': 2437874,\n",
       "  'synonym': False,\n",
       "  'class': 'Mammalia'},\n",
       " 34: {'usageKey': 2437866,\n",
       "  'scientificName': 'Reithrodontomys montanus (Baird, 1855)',\n",
       "  'canonicalName': 'Reithrodontomys montanus',\n",
       "  'rank': 'SPECIES',\n",
       "  'status': 'ACCEPTED',\n",
       "  'confidence': 99,\n",
       "  'matchType': 'EXACT',\n",
       "  'kingdom': 'Animalia',\n",
       "  'phylum': 'Chordata',\n",
       "  'order': 'Rodentia',\n",
       "  'family': 'Cricetidae',\n",
       "  'genus': 'Reithrodontomys',\n",
       "  'species': 'Reithrodontomys montanus',\n",
       "  'kingdomKey': 1,\n",
       "  'phylumKey': 44,\n",
       "  'classKey': 359,\n",
       "  'orderKey': 1459,\n",
       "  'familyKey': 3240723,\n",
       "  'genusKey': 2437854,\n",
       "  'speciesKey': 2437866,\n",
       "  'synonym': False,\n",
       "  'class': 'Mammalia'},\n",
       " 35: {'confidence': 99,\n",
       "  'note': 'No match because of too little confidence',\n",
       "  'matchType': 'NONE',\n",
       "  'synonym': False},\n",
       " 36: {'confidence': 100, 'matchType': 'NONE', 'synonym': False},\n",
       " 37: {'usageKey': 2451192,\n",
       "  'scientificName': 'Sceloporus clarkii Baird & Girard, 1852',\n",
       "  'canonicalName': 'Sceloporus clarkii',\n",
       "  'rank': 'SPECIES',\n",
       "  'status': 'ACCEPTED',\n",
       "  'confidence': 96,\n",
       "  'matchType': 'FUZZY',\n",
       "  'kingdom': 'Animalia',\n",
       "  'phylum': 'Chordata',\n",
       "  'order': 'Squamata',\n",
       "  'family': 'Phrynosomatidae',\n",
       "  'genus': 'Sceloporus',\n",
       "  'species': 'Sceloporus clarkii',\n",
       "  'kingdomKey': 1,\n",
       "  'phylumKey': 44,\n",
       "  'classKey': 358,\n",
       "  'orderKey': 715,\n",
       "  'familyKey': 5016,\n",
       "  'genusKey': 2451143,\n",
       "  'speciesKey': 2451192,\n",
       "  'synonym': False,\n",
       "  'class': 'Reptilia'},\n",
       " 38: {'usageKey': 2451347,\n",
       "  'scientificName': 'Sceloporus undulatus (Bosc & Daudin, 1801)',\n",
       "  'canonicalName': 'Sceloporus undulatus',\n",
       "  'rank': 'SPECIES',\n",
       "  'status': 'ACCEPTED',\n",
       "  'confidence': 99,\n",
       "  'matchType': 'EXACT',\n",
       "  'kingdom': 'Animalia',\n",
       "  'phylum': 'Chordata',\n",
       "  'order': 'Squamata',\n",
       "  'family': 'Phrynosomatidae',\n",
       "  'genus': 'Sceloporus',\n",
       "  'species': 'Sceloporus undulatus',\n",
       "  'kingdomKey': 1,\n",
       "  'phylumKey': 44,\n",
       "  'classKey': 358,\n",
       "  'orderKey': 715,\n",
       "  'familyKey': 5016,\n",
       "  'genusKey': 2451143,\n",
       "  'speciesKey': 2451347,\n",
       "  'synonym': False,\n",
       "  'class': 'Reptilia'},\n",
       " 39: {'usageKey': 2438153,\n",
       "  'scientificName': 'Sigmodon fulviventer J.A.Allen, 1889',\n",
       "  'canonicalName': 'Sigmodon fulviventer',\n",
       "  'rank': 'SPECIES',\n",
       "  'status': 'ACCEPTED',\n",
       "  'confidence': 99,\n",
       "  'matchType': 'EXACT',\n",
       "  'kingdom': 'Animalia',\n",
       "  'phylum': 'Chordata',\n",
       "  'order': 'Rodentia',\n",
       "  'family': 'Cricetidae',\n",
       "  'genus': 'Sigmodon',\n",
       "  'species': 'Sigmodon fulviventer',\n",
       "  'kingdomKey': 1,\n",
       "  'phylumKey': 44,\n",
       "  'classKey': 359,\n",
       "  'orderKey': 1459,\n",
       "  'familyKey': 3240723,\n",
       "  'genusKey': 2438146,\n",
       "  'speciesKey': 2438153,\n",
       "  'synonym': False,\n",
       "  'class': 'Mammalia'},\n",
       " 40: {'usageKey': 2438147,\n",
       "  'scientificName': 'Sigmodon hispidus Say & Ord, 1825',\n",
       "  'canonicalName': 'Sigmodon hispidus',\n",
       "  'rank': 'SPECIES',\n",
       "  'status': 'ACCEPTED',\n",
       "  'confidence': 99,\n",
       "  'matchType': 'EXACT',\n",
       "  'kingdom': 'Animalia',\n",
       "  'phylum': 'Chordata',\n",
       "  'order': 'Rodentia',\n",
       "  'family': 'Cricetidae',\n",
       "  'genus': 'Sigmodon',\n",
       "  'species': 'Sigmodon hispidus',\n",
       "  'kingdomKey': 1,\n",
       "  'phylumKey': 44,\n",
       "  'classKey': 359,\n",
       "  'orderKey': 1459,\n",
       "  'familyKey': 3240723,\n",
       "  'genusKey': 2438146,\n",
       "  'speciesKey': 2438147,\n",
       "  'synonym': False,\n",
       "  'class': 'Mammalia'},\n",
       " 41: {'usageKey': 2438156,\n",
       "  'scientificName': 'Sigmodon ochrognathus Bailey, 1902',\n",
       "  'canonicalName': 'Sigmodon ochrognathus',\n",
       "  'rank': 'SPECIES',\n",
       "  'status': 'ACCEPTED',\n",
       "  'confidence': 99,\n",
       "  'matchType': 'EXACT',\n",
       "  'kingdom': 'Animalia',\n",
       "  'phylum': 'Chordata',\n",
       "  'order': 'Rodentia',\n",
       "  'family': 'Cricetidae',\n",
       "  'genus': 'Sigmodon',\n",
       "  'species': 'Sigmodon ochrognathus',\n",
       "  'kingdomKey': 1,\n",
       "  'phylumKey': 44,\n",
       "  'classKey': 359,\n",
       "  'orderKey': 1459,\n",
       "  'familyKey': 3240723,\n",
       "  'genusKey': 2438146,\n",
       "  'speciesKey': 2438156,\n",
       "  'synonym': False,\n",
       "  'class': 'Mammalia'},\n",
       " 42: {'confidence': 100, 'matchType': 'NONE', 'synonym': False},\n",
       " 43: {'usageKey': 2437300,\n",
       "  'acceptedUsageKey': 8299308,\n",
       "  'scientificName': 'Spermophilus spilosoma Bennett, 1833',\n",
       "  'canonicalName': 'Spermophilus spilosoma',\n",
       "  'rank': 'SPECIES',\n",
       "  'status': 'SYNONYM',\n",
       "  'confidence': 99,\n",
       "  'matchType': 'EXACT',\n",
       "  'kingdom': 'Animalia',\n",
       "  'phylum': 'Chordata',\n",
       "  'order': 'Rodentia',\n",
       "  'family': 'Sciuridae',\n",
       "  'genus': 'Xerospermophilus',\n",
       "  'species': 'Xerospermophilus spilosoma',\n",
       "  'kingdomKey': 1,\n",
       "  'phylumKey': 44,\n",
       "  'classKey': 359,\n",
       "  'orderKey': 1459,\n",
       "  'familyKey': 9456,\n",
       "  'genusKey': 7838133,\n",
       "  'speciesKey': 8299308,\n",
       "  'synonym': True,\n",
       "  'class': 'Mammalia'},\n",
       " 44: {'usageKey': 2437325,\n",
       "  'acceptedUsageKey': 8032606,\n",
       "  'scientificName': 'Spermophilus tereticaudus Baird, 1858',\n",
       "  'canonicalName': 'Spermophilus tereticaudus',\n",
       "  'rank': 'SPECIES',\n",
       "  'status': 'SYNONYM',\n",
       "  'confidence': 99,\n",
       "  'matchType': 'EXACT',\n",
       "  'kingdom': 'Animalia',\n",
       "  'phylum': 'Chordata',\n",
       "  'order': 'Rodentia',\n",
       "  'family': 'Sciuridae',\n",
       "  'genus': 'Xerospermophilus',\n",
       "  'species': 'Xerospermophilus tereticaudus',\n",
       "  'kingdomKey': 1,\n",
       "  'phylumKey': 44,\n",
       "  'classKey': 359,\n",
       "  'orderKey': 1459,\n",
       "  'familyKey': 9456,\n",
       "  'genusKey': 7838133,\n",
       "  'speciesKey': 8032606,\n",
       "  'synonym': True,\n",
       "  'class': 'Mammalia'},\n",
       " 45: {'usageKey': 2436910,\n",
       "  'scientificName': 'Sylvilagus audubonii (Baird, 1858)',\n",
       "  'canonicalName': 'Sylvilagus audubonii',\n",
       "  'rank': 'SPECIES',\n",
       "  'status': 'ACCEPTED',\n",
       "  'confidence': 99,\n",
       "  'matchType': 'EXACT',\n",
       "  'kingdom': 'Animalia',\n",
       "  'phylum': 'Chordata',\n",
       "  'order': 'Lagomorpha',\n",
       "  'family': 'Leporidae',\n",
       "  'genus': 'Sylvilagus',\n",
       "  'species': 'Sylvilagus audubonii',\n",
       "  'kingdomKey': 1,\n",
       "  'phylumKey': 44,\n",
       "  'classKey': 359,\n",
       "  'orderKey': 785,\n",
       "  'familyKey': 9379,\n",
       "  'genusKey': 2436839,\n",
       "  'speciesKey': 2436910,\n",
       "  'synonym': False,\n",
       "  'class': 'Mammalia'},\n",
       " 46: {'usageKey': 5231132,\n",
       "  'scientificName': 'Zonotrichia leucophrys (J.R.Forster, 1772)',\n",
       "  'canonicalName': 'Zonotrichia leucophrys',\n",
       "  'rank': 'SPECIES',\n",
       "  'status': 'ACCEPTED',\n",
       "  'confidence': 99,\n",
       "  'matchType': 'EXACT',\n",
       "  'kingdom': 'Animalia',\n",
       "  'phylum': 'Chordata',\n",
       "  'order': 'Passeriformes',\n",
       "  'family': 'Emberizidae',\n",
       "  'genus': 'Zonotrichia',\n",
       "  'species': 'Zonotrichia leucophrys',\n",
       "  'kingdomKey': 1,\n",
       "  'phylumKey': 44,\n",
       "  'classKey': 212,\n",
       "  'orderKey': 729,\n",
       "  'familyKey': 9608,\n",
       "  'genusKey': 6173226,\n",
       "  'speciesKey': 5231132,\n",
       "  'synonym': False,\n",
       "  'class': 'Aves'}}"
      ]
     },
     "execution_count": 87,
     "metadata": {},
     "output_type": "execute_result"
    }
   ],
   "source": [
    " species_annotated"
   ]
  },
  {
   "cell_type": "markdown",
   "metadata": {},
   "source": [
    "We can now transform this to a pandas DataFrame:"
   ]
  },
  {
   "cell_type": "markdown",
   "metadata": {},
   "source": [
    "<div class=\"alert alert-success\">\n",
    "\n",
    "<b>EXERCISE</b>: Convert the dictionary <code>species_annotated</code> into a pandas DataFrame with the row index the key-values corresponding to <code>unique_species</code> and the column headers the output columns of the API response. Save the result as the variable <code>df_species_annotated</code>.\n",
    "    \n",
    "__Tip__: `transpose` can be used to flip rows and columns\n",
    "    \n",
    "</div>"
   ]
  },
  {
   "cell_type": "code",
   "execution_count": 88,
   "metadata": {
    "clear_cell": true,
    "run_control": {
     "frozen": false,
     "read_only": false
    }
   },
   "outputs": [],
   "source": [
    "df_species_annotated = pd.DataFrame(species_annotated).transpose()"
   ]
  },
  {
   "cell_type": "code",
   "execution_count": 89,
   "metadata": {
    "run_control": {
     "frozen": false,
     "read_only": false
    }
   },
   "outputs": [
    {
     "data": {
      "text/html": [
       "<div>\n",
       "<style scoped>\n",
       "    .dataframe tbody tr th:only-of-type {\n",
       "        vertical-align: middle;\n",
       "    }\n",
       "\n",
       "    .dataframe tbody tr th {\n",
       "        vertical-align: top;\n",
       "    }\n",
       "\n",
       "    .dataframe thead th {\n",
       "        text-align: right;\n",
       "    }\n",
       "</style>\n",
       "<table border=\"1\" class=\"dataframe\">\n",
       "  <thead>\n",
       "    <tr style=\"text-align: right;\">\n",
       "      <th></th>\n",
       "      <th>usageKey</th>\n",
       "      <th>scientificName</th>\n",
       "      <th>canonicalName</th>\n",
       "      <th>rank</th>\n",
       "      <th>status</th>\n",
       "      <th>confidence</th>\n",
       "      <th>matchType</th>\n",
       "      <th>kingdom</th>\n",
       "      <th>phylum</th>\n",
       "      <th>order</th>\n",
       "      <th>...</th>\n",
       "      <th>phylumKey</th>\n",
       "      <th>classKey</th>\n",
       "      <th>orderKey</th>\n",
       "      <th>familyKey</th>\n",
       "      <th>genusKey</th>\n",
       "      <th>speciesKey</th>\n",
       "      <th>synonym</th>\n",
       "      <th>class</th>\n",
       "      <th>note</th>\n",
       "      <th>acceptedUsageKey</th>\n",
       "    </tr>\n",
       "  </thead>\n",
       "  <tbody>\n",
       "    <tr>\n",
       "      <th>0</th>\n",
       "      <td>2491123</td>\n",
       "      <td>Ammodramus savannarum (J.F.Gmelin, 1789)</td>\n",
       "      <td>Ammodramus savannarum</td>\n",
       "      <td>SPECIES</td>\n",
       "      <td>ACCEPTED</td>\n",
       "      <td>99</td>\n",
       "      <td>EXACT</td>\n",
       "      <td>Animalia</td>\n",
       "      <td>Chordata</td>\n",
       "      <td>Passeriformes</td>\n",
       "      <td>...</td>\n",
       "      <td>44</td>\n",
       "      <td>212</td>\n",
       "      <td>729</td>\n",
       "      <td>9608</td>\n",
       "      <td>2491079</td>\n",
       "      <td>2491123</td>\n",
       "      <td>False</td>\n",
       "      <td>Aves</td>\n",
       "      <td>NaN</td>\n",
       "      <td>NaN</td>\n",
       "    </tr>\n",
       "    <tr>\n",
       "      <th>1</th>\n",
       "      <td>2437568</td>\n",
       "      <td>Ammospermophilus harrisii (Audubon &amp; Bachman, ...</td>\n",
       "      <td>Ammospermophilus harrisii</td>\n",
       "      <td>SPECIES</td>\n",
       "      <td>ACCEPTED</td>\n",
       "      <td>96</td>\n",
       "      <td>FUZZY</td>\n",
       "      <td>Animalia</td>\n",
       "      <td>Chordata</td>\n",
       "      <td>Rodentia</td>\n",
       "      <td>...</td>\n",
       "      <td>44</td>\n",
       "      <td>359</td>\n",
       "      <td>1459</td>\n",
       "      <td>9456</td>\n",
       "      <td>2437567</td>\n",
       "      <td>2437568</td>\n",
       "      <td>False</td>\n",
       "      <td>Mammalia</td>\n",
       "      <td>NaN</td>\n",
       "      <td>NaN</td>\n",
       "    </tr>\n",
       "    <tr>\n",
       "      <th>2</th>\n",
       "      <td>2491757</td>\n",
       "      <td>Amphispiza bilineata (Cassin, 1850)</td>\n",
       "      <td>Amphispiza bilineata</td>\n",
       "      <td>SPECIES</td>\n",
       "      <td>ACCEPTED</td>\n",
       "      <td>99</td>\n",
       "      <td>EXACT</td>\n",
       "      <td>Animalia</td>\n",
       "      <td>Chordata</td>\n",
       "      <td>Passeriformes</td>\n",
       "      <td>...</td>\n",
       "      <td>44</td>\n",
       "      <td>212</td>\n",
       "      <td>729</td>\n",
       "      <td>9608</td>\n",
       "      <td>2491750</td>\n",
       "      <td>2491757</td>\n",
       "      <td>False</td>\n",
       "      <td>Aves</td>\n",
       "      <td>NaN</td>\n",
       "      <td>NaN</td>\n",
       "    </tr>\n",
       "    <tr>\n",
       "      <th>3</th>\n",
       "      <td>2438866</td>\n",
       "      <td>Baiomys taylori (Thomas, 1887)</td>\n",
       "      <td>Baiomys taylori</td>\n",
       "      <td>SPECIES</td>\n",
       "      <td>ACCEPTED</td>\n",
       "      <td>99</td>\n",
       "      <td>EXACT</td>\n",
       "      <td>Animalia</td>\n",
       "      <td>Chordata</td>\n",
       "      <td>Rodentia</td>\n",
       "      <td>...</td>\n",
       "      <td>44</td>\n",
       "      <td>359</td>\n",
       "      <td>1459</td>\n",
       "      <td>3240723</td>\n",
       "      <td>2438864</td>\n",
       "      <td>2438866</td>\n",
       "      <td>False</td>\n",
       "      <td>Mammalia</td>\n",
       "      <td>NaN</td>\n",
       "      <td>NaN</td>\n",
       "    </tr>\n",
       "    <tr>\n",
       "      <th>4</th>\n",
       "      <td>2491893</td>\n",
       "      <td>Calamospiza melanocorys Stejneger, 1885</td>\n",
       "      <td>Calamospiza melanocorys</td>\n",
       "      <td>SPECIES</td>\n",
       "      <td>ACCEPTED</td>\n",
       "      <td>99</td>\n",
       "      <td>EXACT</td>\n",
       "      <td>Animalia</td>\n",
       "      <td>Chordata</td>\n",
       "      <td>Passeriformes</td>\n",
       "      <td>...</td>\n",
       "      <td>44</td>\n",
       "      <td>212</td>\n",
       "      <td>729</td>\n",
       "      <td>9608</td>\n",
       "      <td>2491892</td>\n",
       "      <td>2491893</td>\n",
       "      <td>False</td>\n",
       "      <td>Aves</td>\n",
       "      <td>NaN</td>\n",
       "      <td>NaN</td>\n",
       "    </tr>\n",
       "  </tbody>\n",
       "</table>\n",
       "<p>5 rows × 24 columns</p>\n",
       "</div>"
      ],
      "text/plain": [
       "  usageKey                                     scientificName  \\\n",
       "0  2491123           Ammodramus savannarum (J.F.Gmelin, 1789)   \n",
       "1  2437568  Ammospermophilus harrisii (Audubon & Bachman, ...   \n",
       "2  2491757                Amphispiza bilineata (Cassin, 1850)   \n",
       "3  2438866                     Baiomys taylori (Thomas, 1887)   \n",
       "4  2491893            Calamospiza melanocorys Stejneger, 1885   \n",
       "\n",
       "               canonicalName     rank    status confidence matchType  \\\n",
       "0      Ammodramus savannarum  SPECIES  ACCEPTED         99     EXACT   \n",
       "1  Ammospermophilus harrisii  SPECIES  ACCEPTED         96     FUZZY   \n",
       "2       Amphispiza bilineata  SPECIES  ACCEPTED         99     EXACT   \n",
       "3            Baiomys taylori  SPECIES  ACCEPTED         99     EXACT   \n",
       "4    Calamospiza melanocorys  SPECIES  ACCEPTED         99     EXACT   \n",
       "\n",
       "    kingdom    phylum          order  ... phylumKey classKey orderKey  \\\n",
       "0  Animalia  Chordata  Passeriformes  ...        44      212      729   \n",
       "1  Animalia  Chordata       Rodentia  ...        44      359     1459   \n",
       "2  Animalia  Chordata  Passeriformes  ...        44      212      729   \n",
       "3  Animalia  Chordata       Rodentia  ...        44      359     1459   \n",
       "4  Animalia  Chordata  Passeriformes  ...        44      212      729   \n",
       "\n",
       "  familyKey genusKey speciesKey synonym     class note acceptedUsageKey  \n",
       "0      9608  2491079    2491123   False      Aves  NaN              NaN  \n",
       "1      9456  2437567    2437568   False  Mammalia  NaN              NaN  \n",
       "2      9608  2491750    2491757   False      Aves  NaN              NaN  \n",
       "3   3240723  2438864    2438866   False  Mammalia  NaN              NaN  \n",
       "4      9608  2491892    2491893   False      Aves  NaN              NaN  \n",
       "\n",
       "[5 rows x 24 columns]"
      ]
     },
     "execution_count": 89,
     "metadata": {},
     "output_type": "execute_result"
    }
   ],
   "source": [
    "df_species_annotated.head()"
   ]
  },
  {
   "cell_type": "markdown",
   "metadata": {},
   "source": [
    "### Select relevant information and add this to the survey data"
   ]
  },
  {
   "cell_type": "markdown",
   "metadata": {},
   "source": [
    "<div class=\"alert alert-success\">\n",
    "    \n",
    "<b>EXERCISE</b>: Subselect the columns 'class', 'kingdom', 'order', 'phylum', 'scientificName', 'status' and  'usageKey' from the DataFrame `df_species_annotated`. Save it as the variable <code>df_species_annotated_subset</code>\n",
    "\n",
    "</div>"
   ]
  },
  {
   "cell_type": "code",
   "execution_count": 90,
   "metadata": {
    "clear_cell": true,
    "run_control": {
     "frozen": false,
     "read_only": false
    }
   },
   "outputs": [],
   "source": [
    "df_species_annotated_subset = df_species_annotated[['class', 'kingdom', 'order', 'phylum', \n",
    "                                                    'scientificName', 'status', 'usageKey']]"
   ]
  },
  {
   "cell_type": "code",
   "execution_count": 91,
   "metadata": {
    "run_control": {
     "frozen": false,
     "read_only": false
    }
   },
   "outputs": [
    {
     "data": {
      "text/html": [
       "<div>\n",
       "<style scoped>\n",
       "    .dataframe tbody tr th:only-of-type {\n",
       "        vertical-align: middle;\n",
       "    }\n",
       "\n",
       "    .dataframe tbody tr th {\n",
       "        vertical-align: top;\n",
       "    }\n",
       "\n",
       "    .dataframe thead th {\n",
       "        text-align: right;\n",
       "    }\n",
       "</style>\n",
       "<table border=\"1\" class=\"dataframe\">\n",
       "  <thead>\n",
       "    <tr style=\"text-align: right;\">\n",
       "      <th></th>\n",
       "      <th>class</th>\n",
       "      <th>kingdom</th>\n",
       "      <th>order</th>\n",
       "      <th>phylum</th>\n",
       "      <th>scientificName</th>\n",
       "      <th>status</th>\n",
       "      <th>usageKey</th>\n",
       "    </tr>\n",
       "  </thead>\n",
       "  <tbody>\n",
       "    <tr>\n",
       "      <th>0</th>\n",
       "      <td>Aves</td>\n",
       "      <td>Animalia</td>\n",
       "      <td>Passeriformes</td>\n",
       "      <td>Chordata</td>\n",
       "      <td>Ammodramus savannarum (J.F.Gmelin, 1789)</td>\n",
       "      <td>ACCEPTED</td>\n",
       "      <td>2491123</td>\n",
       "    </tr>\n",
       "    <tr>\n",
       "      <th>1</th>\n",
       "      <td>Mammalia</td>\n",
       "      <td>Animalia</td>\n",
       "      <td>Rodentia</td>\n",
       "      <td>Chordata</td>\n",
       "      <td>Ammospermophilus harrisii (Audubon &amp; Bachman, ...</td>\n",
       "      <td>ACCEPTED</td>\n",
       "      <td>2437568</td>\n",
       "    </tr>\n",
       "    <tr>\n",
       "      <th>2</th>\n",
       "      <td>Aves</td>\n",
       "      <td>Animalia</td>\n",
       "      <td>Passeriformes</td>\n",
       "      <td>Chordata</td>\n",
       "      <td>Amphispiza bilineata (Cassin, 1850)</td>\n",
       "      <td>ACCEPTED</td>\n",
       "      <td>2491757</td>\n",
       "    </tr>\n",
       "    <tr>\n",
       "      <th>3</th>\n",
       "      <td>Mammalia</td>\n",
       "      <td>Animalia</td>\n",
       "      <td>Rodentia</td>\n",
       "      <td>Chordata</td>\n",
       "      <td>Baiomys taylori (Thomas, 1887)</td>\n",
       "      <td>ACCEPTED</td>\n",
       "      <td>2438866</td>\n",
       "    </tr>\n",
       "    <tr>\n",
       "      <th>4</th>\n",
       "      <td>Aves</td>\n",
       "      <td>Animalia</td>\n",
       "      <td>Passeriformes</td>\n",
       "      <td>Chordata</td>\n",
       "      <td>Calamospiza melanocorys Stejneger, 1885</td>\n",
       "      <td>ACCEPTED</td>\n",
       "      <td>2491893</td>\n",
       "    </tr>\n",
       "  </tbody>\n",
       "</table>\n",
       "</div>"
      ],
      "text/plain": [
       "      class   kingdom          order    phylum  \\\n",
       "0      Aves  Animalia  Passeriformes  Chordata   \n",
       "1  Mammalia  Animalia       Rodentia  Chordata   \n",
       "2      Aves  Animalia  Passeriformes  Chordata   \n",
       "3  Mammalia  Animalia       Rodentia  Chordata   \n",
       "4      Aves  Animalia  Passeriformes  Chordata   \n",
       "\n",
       "                                      scientificName    status usageKey  \n",
       "0           Ammodramus savannarum (J.F.Gmelin, 1789)  ACCEPTED  2491123  \n",
       "1  Ammospermophilus harrisii (Audubon & Bachman, ...  ACCEPTED  2437568  \n",
       "2                Amphispiza bilineata (Cassin, 1850)  ACCEPTED  2491757  \n",
       "3                     Baiomys taylori (Thomas, 1887)  ACCEPTED  2438866  \n",
       "4            Calamospiza melanocorys Stejneger, 1885  ACCEPTED  2491893  "
      ]
     },
     "execution_count": 91,
     "metadata": {},
     "output_type": "execute_result"
    }
   ],
   "source": [
    "df_species_annotated_subset.head()"
   ]
  },
  {
   "cell_type": "markdown",
   "metadata": {},
   "source": [
    "<div class=\"alert alert-success\">\n",
    "    <b>EXERCISE</b>: Join the df_species_annotated_subset information to the `unique_species` overview of species. Save the result as variable <code>unique_species_annotated</code>:\n",
    "</div>"
   ]
  },
  {
   "cell_type": "code",
   "execution_count": 92,
   "metadata": {
    "clear_cell": true,
    "run_control": {
     "frozen": false,
     "read_only": false
    }
   },
   "outputs": [],
   "source": [
    "unique_species_annotated = pd.merge(unique_species, df_species_annotated_subset, \n",
    "                                    left_index=True, right_index=True)"
   ]
  },
  {
   "cell_type": "markdown",
   "metadata": {},
   "source": [
    "<div class=\"alert alert-success\">\n",
    "    \n",
    "<b>EXERCISE</b>: Add the `unique_species_annotated` data to the `survey_data_species` data set, using both the genus and species column as keys. Save the result as the variable <code>survey_data_completed</code>.\n",
    " \n",
    "</div>"
   ]
  },
  {
   "cell_type": "code",
   "execution_count": 93,
   "metadata": {
    "clear_cell": true,
    "run_control": {
     "frozen": false,
     "read_only": false
    }
   },
   "outputs": [],
   "source": [
    "survey_data_completed = pd.merge(survey_data_species, unique_species_annotated, \n",
    "                                 how='left', on= [\"genus\", \"species\"])"
   ]
  },
  {
   "cell_type": "code",
   "execution_count": 94,
   "metadata": {
    "run_control": {
     "frozen": false,
     "read_only": false
    }
   },
   "outputs": [
    {
     "data": {
      "text/plain": [
       "35550"
      ]
     },
     "execution_count": 94,
     "metadata": {},
     "output_type": "execute_result"
    }
   ],
   "source": [
    "len(survey_data_completed)"
   ]
  },
  {
   "cell_type": "code",
   "execution_count": 95,
   "metadata": {
    "run_control": {
     "frozen": false,
     "read_only": false
    }
   },
   "outputs": [
    {
     "data": {
      "text/html": [
       "<div>\n",
       "<style scoped>\n",
       "    .dataframe tbody tr th:only-of-type {\n",
       "        vertical-align: middle;\n",
       "    }\n",
       "\n",
       "    .dataframe tbody tr th {\n",
       "        vertical-align: top;\n",
       "    }\n",
       "\n",
       "    .dataframe thead th {\n",
       "        text-align: right;\n",
       "    }\n",
       "</style>\n",
       "<table border=\"1\" class=\"dataframe\">\n",
       "  <thead>\n",
       "    <tr style=\"text-align: right;\">\n",
       "      <th></th>\n",
       "      <th>verbatimLocality</th>\n",
       "      <th>verbatimSex</th>\n",
       "      <th>wgt</th>\n",
       "      <th>datasetName</th>\n",
       "      <th>sex</th>\n",
       "      <th>occurrenceID</th>\n",
       "      <th>eventDate</th>\n",
       "      <th>decimalLongitude</th>\n",
       "      <th>decimalLatitude</th>\n",
       "      <th>genus</th>\n",
       "      <th>species</th>\n",
       "      <th>taxa</th>\n",
       "      <th>name</th>\n",
       "      <th>class</th>\n",
       "      <th>kingdom</th>\n",
       "      <th>order</th>\n",
       "      <th>phylum</th>\n",
       "      <th>scientificName</th>\n",
       "      <th>status</th>\n",
       "      <th>usageKey</th>\n",
       "    </tr>\n",
       "  </thead>\n",
       "  <tbody>\n",
       "    <tr>\n",
       "      <th>0</th>\n",
       "      <td>2</td>\n",
       "      <td>M</td>\n",
       "      <td>NaN</td>\n",
       "      <td>Ecological Archives E090-118-D1.</td>\n",
       "      <td>male</td>\n",
       "      <td>1</td>\n",
       "      <td>1977-07-16</td>\n",
       "      <td>-109.081975</td>\n",
       "      <td>31.938887</td>\n",
       "      <td>NaN</td>\n",
       "      <td>NaN</td>\n",
       "      <td>NaN</td>\n",
       "      <td>NaN</td>\n",
       "      <td>NaN</td>\n",
       "      <td>NaN</td>\n",
       "      <td>NaN</td>\n",
       "      <td>NaN</td>\n",
       "      <td>NaN</td>\n",
       "      <td>NaN</td>\n",
       "      <td>NaN</td>\n",
       "    </tr>\n",
       "    <tr>\n",
       "      <th>1</th>\n",
       "      <td>3</td>\n",
       "      <td>M</td>\n",
       "      <td>NaN</td>\n",
       "      <td>Ecological Archives E090-118-D1.</td>\n",
       "      <td>male</td>\n",
       "      <td>2</td>\n",
       "      <td>1977-07-16</td>\n",
       "      <td>-109.081208</td>\n",
       "      <td>31.938896</td>\n",
       "      <td>NaN</td>\n",
       "      <td>NaN</td>\n",
       "      <td>NaN</td>\n",
       "      <td>NaN</td>\n",
       "      <td>NaN</td>\n",
       "      <td>NaN</td>\n",
       "      <td>NaN</td>\n",
       "      <td>NaN</td>\n",
       "      <td>NaN</td>\n",
       "      <td>NaN</td>\n",
       "      <td>NaN</td>\n",
       "    </tr>\n",
       "    <tr>\n",
       "      <th>2</th>\n",
       "      <td>2</td>\n",
       "      <td>F</td>\n",
       "      <td>NaN</td>\n",
       "      <td>Ecological Archives E090-118-D1.</td>\n",
       "      <td>female</td>\n",
       "      <td>3</td>\n",
       "      <td>1977-07-16</td>\n",
       "      <td>-109.081975</td>\n",
       "      <td>31.938887</td>\n",
       "      <td>Dipodomys</td>\n",
       "      <td>merriami</td>\n",
       "      <td>Rodent</td>\n",
       "      <td>Dipodomys merriami</td>\n",
       "      <td>Mammalia</td>\n",
       "      <td>Animalia</td>\n",
       "      <td>Rodentia</td>\n",
       "      <td>Chordata</td>\n",
       "      <td>Dipodomys merriami Mearns, 1890</td>\n",
       "      <td>ACCEPTED</td>\n",
       "      <td>2439521</td>\n",
       "    </tr>\n",
       "    <tr>\n",
       "      <th>3</th>\n",
       "      <td>7</td>\n",
       "      <td>M</td>\n",
       "      <td>NaN</td>\n",
       "      <td>Ecological Archives E090-118-D1.</td>\n",
       "      <td>male</td>\n",
       "      <td>4</td>\n",
       "      <td>1977-07-16</td>\n",
       "      <td>-109.082816</td>\n",
       "      <td>31.938113</td>\n",
       "      <td>Dipodomys</td>\n",
       "      <td>merriami</td>\n",
       "      <td>Rodent</td>\n",
       "      <td>Dipodomys merriami</td>\n",
       "      <td>Mammalia</td>\n",
       "      <td>Animalia</td>\n",
       "      <td>Rodentia</td>\n",
       "      <td>Chordata</td>\n",
       "      <td>Dipodomys merriami Mearns, 1890</td>\n",
       "      <td>ACCEPTED</td>\n",
       "      <td>2439521</td>\n",
       "    </tr>\n",
       "    <tr>\n",
       "      <th>4</th>\n",
       "      <td>3</td>\n",
       "      <td>M</td>\n",
       "      <td>NaN</td>\n",
       "      <td>Ecological Archives E090-118-D1.</td>\n",
       "      <td>male</td>\n",
       "      <td>5</td>\n",
       "      <td>1977-07-16</td>\n",
       "      <td>-109.081208</td>\n",
       "      <td>31.938896</td>\n",
       "      <td>Dipodomys</td>\n",
       "      <td>merriami</td>\n",
       "      <td>Rodent</td>\n",
       "      <td>Dipodomys merriami</td>\n",
       "      <td>Mammalia</td>\n",
       "      <td>Animalia</td>\n",
       "      <td>Rodentia</td>\n",
       "      <td>Chordata</td>\n",
       "      <td>Dipodomys merriami Mearns, 1890</td>\n",
       "      <td>ACCEPTED</td>\n",
       "      <td>2439521</td>\n",
       "    </tr>\n",
       "  </tbody>\n",
       "</table>\n",
       "</div>"
      ],
      "text/plain": [
       "   verbatimLocality verbatimSex  wgt                       datasetName  \\\n",
       "0                 2           M  NaN  Ecological Archives E090-118-D1.   \n",
       "1                 3           M  NaN  Ecological Archives E090-118-D1.   \n",
       "2                 2           F  NaN  Ecological Archives E090-118-D1.   \n",
       "3                 7           M  NaN  Ecological Archives E090-118-D1.   \n",
       "4                 3           M  NaN  Ecological Archives E090-118-D1.   \n",
       "\n",
       "      sex  occurrenceID   eventDate  decimalLongitude  decimalLatitude  \\\n",
       "0    male             1  1977-07-16       -109.081975        31.938887   \n",
       "1    male             2  1977-07-16       -109.081208        31.938896   \n",
       "2  female             3  1977-07-16       -109.081975        31.938887   \n",
       "3    male             4  1977-07-16       -109.082816        31.938113   \n",
       "4    male             5  1977-07-16       -109.081208        31.938896   \n",
       "\n",
       "       genus   species    taxa                name     class   kingdom  \\\n",
       "0        NaN       NaN     NaN                 NaN       NaN       NaN   \n",
       "1        NaN       NaN     NaN                 NaN       NaN       NaN   \n",
       "2  Dipodomys  merriami  Rodent  Dipodomys merriami  Mammalia  Animalia   \n",
       "3  Dipodomys  merriami  Rodent  Dipodomys merriami  Mammalia  Animalia   \n",
       "4  Dipodomys  merriami  Rodent  Dipodomys merriami  Mammalia  Animalia   \n",
       "\n",
       "      order    phylum                   scientificName    status usageKey  \n",
       "0       NaN       NaN                              NaN       NaN      NaN  \n",
       "1       NaN       NaN                              NaN       NaN      NaN  \n",
       "2  Rodentia  Chordata  Dipodomys merriami Mearns, 1890  ACCEPTED  2439521  \n",
       "3  Rodentia  Chordata  Dipodomys merriami Mearns, 1890  ACCEPTED  2439521  \n",
       "4  Rodentia  Chordata  Dipodomys merriami Mearns, 1890  ACCEPTED  2439521  "
      ]
     },
     "execution_count": 95,
     "metadata": {},
     "output_type": "execute_result"
    }
   ],
   "source": [
    "survey_data_completed.head()"
   ]
  },
  {
   "cell_type": "markdown",
   "metadata": {},
   "source": [
    "Congratulations! You did a great cleaning job, save your result:"
   ]
  },
  {
   "cell_type": "code",
   "execution_count": 96,
   "metadata": {
    "run_control": {
     "frozen": false,
     "read_only": false
    }
   },
   "outputs": [],
   "source": [
    "survey_data_completed.to_csv(\"../data/survey_data_completed.csv\", index=False)"
   ]
  },
  {
   "cell_type": "markdown",
   "metadata": {
    "collapsed": true,
    "run_control": {
     "frozen": false,
     "read_only": false
    }
   },
   "source": [
    "## Acknowledgements"
   ]
  },
  {
   "cell_type": "markdown",
   "metadata": {},
   "source": [
    "* `species.csv` and `survey.csv` are used from the [data carpentry workshop](https://github.com/datacarpentry/python-ecology-lesson) This data is from the paper S. K. Morgan Ernest, Thomas J. Valone, and James H.\n",
    "Brown. 2009. Long-term monitoring and experimental manipulation of a Chihuahuan Desert ecosystem near Portal, Arizona, USA. Ecology 90:1708. http://esapubs.org/archive/ecol/E090/118/\n",
    "* The `plot_location.xlsx` is a dummy created location file purely created for this exercise, using the plots location on google maps\n",
    "* [GBIF API](http://www.gbif.org/developer/summary)"
   ]
  }
 ],
 "metadata": {
  "celltoolbar": "Nbtutor - export exercises",
  "kernelspec": {
   "display_name": "Python 3",
   "language": "python",
   "name": "python3"
  },
  "language_info": {
   "codemirror_mode": {
    "name": "ipython",
    "version": 3
   },
   "file_extension": ".py",
   "mimetype": "text/x-python",
   "name": "python",
   "nbconvert_exporter": "python",
   "pygments_lexer": "ipython3",
   "version": "3.7.5"
  },
  "nav_menu": {},
  "toc": {
   "navigate_menu": true,
   "number_sections": true,
   "sideBar": true,
   "threshold": 6,
   "toc_cell": false,
   "toc_section_display": "block",
   "toc_window_display": true
  },
  "toc_position": {
   "height": "811px",
   "left": "0px",
   "right": "1864.67px",
   "top": "106px",
   "width": "212px"
  }
 },
 "nbformat": 4,
 "nbformat_minor": 1
}
