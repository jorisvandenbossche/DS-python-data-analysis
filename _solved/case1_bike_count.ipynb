{
 "cells": [
  {
   "cell_type": "markdown",
   "metadata": {},
   "source": [
    "<p><font size=\"6\"><b> CASE - Bike count data</b></font></p>\n",
    "\n",
    "\n",
    "> *DS Data manipulation, analysis and visualisation in Python*  \n",
    "> *December, 2019*\n",
    "\n",
    "> *© 2016, Joris Van den Bossche and Stijn Van Hoey  (<mailto:jorisvandenbossche@gmail.com>, <mailto:stijnvanhoey@gmail.com>). Licensed under [CC BY 4.0 Creative Commons](http://creativecommons.org/licenses/by/4.0/)*\n",
    "\n",
    "---"
   ]
  },
  {
   "cell_type": "markdown",
   "metadata": {},
   "source": [
    "<img src=\"https://nbocdn.akamaized.net/Assets/Images_Upload/2016/11/24/GEFV45415.jpg?maxheight=460&maxwidth=638\">"
   ]
  },
  {
   "cell_type": "markdown",
   "metadata": {},
   "source": [
    "In this case study, we will make use of the freely available bike count data of the city of Ghent. At the Coupure Links, next to the Faculty of Bioscience Engineering, a counter keeps track of the number of passing cyclists in both directions.  \n",
    "\n",
    "Those data are available on the open data portal of the city: https://data.stad.gent/data/236"
   ]
  },
  {
   "cell_type": "code",
   "execution_count": 2,
   "metadata": {
    "run_control": {
     "frozen": false,
     "read_only": false
    }
   },
   "outputs": [],
   "source": [
    "import pandas as pd\n",
    "import matplotlib.pyplot as plt\n",
    "plt.style.use('seaborn-whitegrid')\n",
    "\n",
    "%matplotlib notebook"
   ]
  },
  {
   "cell_type": "markdown",
   "metadata": {},
   "source": [
    "## Reading and processing the data"
   ]
  },
  {
   "cell_type": "markdown",
   "metadata": {},
   "source": [
    "### Read csv data from URL"
   ]
  },
  {
   "cell_type": "markdown",
   "metadata": {},
   "source": [
    "The data are avaible in CSV, JSON and XML format. We will make use of the CSV data. The link to download the data can be found on the webpage. For the first dataset, this is:\n",
    "\n",
    "    link = \"https://datatank.stad.gent/4/mobiliteit/fietstellingencoupure.csv\"\n",
    "    \n",
    "A limit defines the size of the requested data set, by adding a limit parameter `limit` to the URL :\n",
    "\n",
    "    link = \"https://datatank.stad.gent/4/mobiliteit/fietstellingencoupure.csv?limit=100000\"\n",
    "\n",
    "Those datasets contain the historical data of the bike counters, and consist of the following columns:\n",
    "\n",
    "- The first column `datum` is the date, in `dd/mm/yy` format\n",
    "- The second column `tijd` is the time of the day, in `hh:mm` format\n",
    "- The third and fourth column `ri Centrum` and `ri Mariakerke` are the counts at that point in time (counts between this timestamp and the previous)"
   ]
  },
  {
   "cell_type": "code",
   "execution_count": 3,
   "metadata": {
    "run_control": {
     "frozen": false,
     "read_only": false
    }
   },
   "outputs": [],
   "source": [
    "limit = 200000\n",
    "link = \"https://datatank.stad.gent/4/mobiliteit/fietstellingencoupure.csv?limit={}\".format(limit)"
   ]
  },
  {
   "cell_type": "markdown",
   "metadata": {},
   "source": [
    "<div class=\"alert alert-success\">\n",
    " <b>EXERCISE</b>:\n",
    " <ul>\n",
    "  <li>Read the csv file from the url into a DataFrame `df`, the delimiter of the data is `;`</li>\n",
    "  <li>Inspect the first and last 5 rows, and check the number of observations</li>\n",
    "  <li>Inspect the data types of the different columns</li>\n",
    "\n",
    "</ul> \n",
    "\n",
    "</div>"
   ]
  },
  {
   "cell_type": "code",
   "execution_count": 4,
   "metadata": {
    "clear_cell": true,
    "run_control": {
     "frozen": false,
     "read_only": false
    }
   },
   "outputs": [],
   "source": [
    "df = pd.read_csv(link, sep=';')"
   ]
  },
  {
   "cell_type": "code",
   "execution_count": 5,
   "metadata": {
    "clear_cell": true,
    "run_control": {
     "frozen": false,
     "read_only": false
    },
    "scrolled": true
   },
   "outputs": [
    {
     "data": {
      "text/html": [
       "<div>\n",
       "<style scoped>\n",
       "    .dataframe tbody tr th:only-of-type {\n",
       "        vertical-align: middle;\n",
       "    }\n",
       "\n",
       "    .dataframe tbody tr th {\n",
       "        vertical-align: top;\n",
       "    }\n",
       "\n",
       "    .dataframe thead th {\n",
       "        text-align: right;\n",
       "    }\n",
       "</style>\n",
       "<table border=\"1\" class=\"dataframe\">\n",
       "  <thead>\n",
       "    <tr style=\"text-align: right;\">\n",
       "      <th></th>\n",
       "      <th>datum</th>\n",
       "      <th>tijd</th>\n",
       "      <th>ri Centrum</th>\n",
       "      <th>ri Mariakerke</th>\n",
       "    </tr>\n",
       "  </thead>\n",
       "  <tbody>\n",
       "    <tr>\n",
       "      <th>0</th>\n",
       "      <td>14/07/2011</td>\n",
       "      <td>17:44</td>\n",
       "      <td>21</td>\n",
       "      <td>46</td>\n",
       "    </tr>\n",
       "    <tr>\n",
       "      <th>1</th>\n",
       "      <td>14/07/2011</td>\n",
       "      <td>17:59</td>\n",
       "      <td>17</td>\n",
       "      <td>60</td>\n",
       "    </tr>\n",
       "    <tr>\n",
       "      <th>2</th>\n",
       "      <td>14/07/2011</td>\n",
       "      <td>18:14</td>\n",
       "      <td>13</td>\n",
       "      <td>48</td>\n",
       "    </tr>\n",
       "    <tr>\n",
       "      <th>3</th>\n",
       "      <td>14/07/2011</td>\n",
       "      <td>18:29</td>\n",
       "      <td>22</td>\n",
       "      <td>48</td>\n",
       "    </tr>\n",
       "    <tr>\n",
       "      <th>4</th>\n",
       "      <td>14/07/2011</td>\n",
       "      <td>18:44</td>\n",
       "      <td>15</td>\n",
       "      <td>51</td>\n",
       "    </tr>\n",
       "  </tbody>\n",
       "</table>\n",
       "</div>"
      ],
      "text/plain": [
       "        datum   tijd  ri Centrum  ri Mariakerke\n",
       "0  14/07/2011  17:44          21             46\n",
       "1  14/07/2011  17:59          17             60\n",
       "2  14/07/2011  18:14          13             48\n",
       "3  14/07/2011  18:29          22             48\n",
       "4  14/07/2011  18:44          15             51"
      ]
     },
     "execution_count": 5,
     "metadata": {},
     "output_type": "execute_result"
    }
   ],
   "source": [
    "df.head()"
   ]
  },
  {
   "cell_type": "code",
   "execution_count": 6,
   "metadata": {
    "clear_cell": true,
    "run_control": {
     "frozen": false,
     "read_only": false
    }
   },
   "outputs": [
    {
     "data": {
      "text/html": [
       "<div>\n",
       "<style scoped>\n",
       "    .dataframe tbody tr th:only-of-type {\n",
       "        vertical-align: middle;\n",
       "    }\n",
       "\n",
       "    .dataframe tbody tr th {\n",
       "        vertical-align: top;\n",
       "    }\n",
       "\n",
       "    .dataframe thead th {\n",
       "        text-align: right;\n",
       "    }\n",
       "</style>\n",
       "<table border=\"1\" class=\"dataframe\">\n",
       "  <thead>\n",
       "    <tr style=\"text-align: right;\">\n",
       "      <th></th>\n",
       "      <th>datum</th>\n",
       "      <th>tijd</th>\n",
       "      <th>ri Centrum</th>\n",
       "      <th>ri Mariakerke</th>\n",
       "    </tr>\n",
       "  </thead>\n",
       "  <tbody>\n",
       "    <tr>\n",
       "      <th>191442</th>\n",
       "      <td>18/01/2017</td>\n",
       "      <td>22:54</td>\n",
       "      <td>16</td>\n",
       "      <td>32</td>\n",
       "    </tr>\n",
       "    <tr>\n",
       "      <th>191443</th>\n",
       "      <td>18/01/2017</td>\n",
       "      <td>23:09</td>\n",
       "      <td>8</td>\n",
       "      <td>22</td>\n",
       "    </tr>\n",
       "    <tr>\n",
       "      <th>191444</th>\n",
       "      <td>18/01/2017</td>\n",
       "      <td>23:24</td>\n",
       "      <td>10</td>\n",
       "      <td>29</td>\n",
       "    </tr>\n",
       "    <tr>\n",
       "      <th>191445</th>\n",
       "      <td>18/01/2017</td>\n",
       "      <td>23:39</td>\n",
       "      <td>11</td>\n",
       "      <td>31</td>\n",
       "    </tr>\n",
       "    <tr>\n",
       "      <th>191446</th>\n",
       "      <td>18/01/2017</td>\n",
       "      <td>23:54</td>\n",
       "      <td>12</td>\n",
       "      <td>19</td>\n",
       "    </tr>\n",
       "  </tbody>\n",
       "</table>\n",
       "</div>"
      ],
      "text/plain": [
       "             datum   tijd  ri Centrum  ri Mariakerke\n",
       "191442  18/01/2017  22:54          16             32\n",
       "191443  18/01/2017  23:09           8             22\n",
       "191444  18/01/2017  23:24          10             29\n",
       "191445  18/01/2017  23:39          11             31\n",
       "191446  18/01/2017  23:54          12             19"
      ]
     },
     "execution_count": 6,
     "metadata": {},
     "output_type": "execute_result"
    }
   ],
   "source": [
    "df.tail()"
   ]
  },
  {
   "cell_type": "code",
   "execution_count": 7,
   "metadata": {
    "clear_cell": true,
    "run_control": {
     "frozen": false,
     "read_only": false
    }
   },
   "outputs": [
    {
     "data": {
      "text/plain": [
       "191447"
      ]
     },
     "execution_count": 7,
     "metadata": {},
     "output_type": "execute_result"
    }
   ],
   "source": [
    "len(df)"
   ]
  },
  {
   "cell_type": "code",
   "execution_count": 8,
   "metadata": {
    "clear_cell": true,
    "run_control": {
     "frozen": false,
     "read_only": false
    }
   },
   "outputs": [
    {
     "data": {
      "text/plain": [
       "datum            object\n",
       "tijd             object\n",
       "ri Centrum        int64\n",
       "ri Mariakerke     int64\n",
       "dtype: object"
      ]
     },
     "execution_count": 8,
     "metadata": {},
     "output_type": "execute_result"
    }
   ],
   "source": [
    "df.dtypes"
   ]
  },
  {
   "cell_type": "markdown",
   "metadata": {},
   "source": [
    "<div class=\"alert alert-warning\">\n",
    "\n",
    " <b>Remark</b>: If the download is very slow, consider to reset the limit variable to a lower value as most execises will just work with the first 100000 records as well.\n",
    "\n",
    "</div>"
   ]
  },
  {
   "cell_type": "markdown",
   "metadata": {},
   "source": [
    "### Data processing"
   ]
  },
  {
   "cell_type": "markdown",
   "metadata": {},
   "source": [
    "As explained above, the first and second column (respectively `datum` and `tijd`) indicate the date and hour of the day. To obtain a time series, we have to combine those two columns into one series of actual datetime values. "
   ]
  },
  {
   "cell_type": "markdown",
   "metadata": {},
   "source": [
    "<div class=\"alert alert-success\">\n",
    "\n",
    " <b>EXERCISE</b>: Preprocess the data\n",
    "\n",
    " <ul>\n",
    "  <li>Combine the 'datum' and 'tijd' columns into one Series of string datetime values (Hint: concatenating strings can be done with the addition operation)</li>\n",
    "  <li>Parse the string datetime values (Hint: specifying the format will make this a lot faster)</li>\n",
    "  <li>Set the resulting dates as the index</li>\n",
    "  <li>Remove the original 'tijd' and 'tijd' columns (Hint: check the <code>drop</code> method)</li>\n",
    "  <li>Rename the 'ri Centrum', 'ri Mariakerke' to 'direction_centre', 'direction_mariakerke' (Hint: check the <code>rename</code> function)</li>\n",
    "</ul> \n",
    "\n",
    "</div>"
   ]
  },
  {
   "cell_type": "code",
   "execution_count": 9,
   "metadata": {
    "clear_cell": true,
    "run_control": {
     "frozen": false,
     "read_only": false
    }
   },
   "outputs": [
    {
     "data": {
      "text/plain": [
       "0    14/07/2011 17:44\n",
       "1    14/07/2011 17:59\n",
       "2    14/07/2011 18:14\n",
       "3    14/07/2011 18:29\n",
       "4    14/07/2011 18:44\n",
       "dtype: object"
      ]
     },
     "execution_count": 9,
     "metadata": {},
     "output_type": "execute_result"
    }
   ],
   "source": [
    "combined = df['datum'] + ' ' + df['tijd']\n",
    "combined.head()"
   ]
  },
  {
   "cell_type": "code",
   "execution_count": 10,
   "metadata": {
    "clear_cell": true,
    "run_control": {
     "frozen": false,
     "read_only": false
    }
   },
   "outputs": [],
   "source": [
    "df.index = pd.to_datetime(combined, format=\"%d/%m/%Y %H:%M\")"
   ]
  },
  {
   "cell_type": "code",
   "execution_count": 11,
   "metadata": {
    "clear_cell": true,
    "run_control": {
     "frozen": false,
     "read_only": false
    }
   },
   "outputs": [],
   "source": [
    "df = df.drop(columns=['datum', 'tijd'])"
   ]
  },
  {
   "cell_type": "code",
   "execution_count": 12,
   "metadata": {
    "clear_cell": true,
    "run_control": {
     "frozen": false,
     "read_only": false
    }
   },
   "outputs": [],
   "source": [
    "df = df.rename(columns={'ri Centrum': 'direction_centre', 'ri Mariakerke':'direction_mariakerke'})"
   ]
  },
  {
   "cell_type": "code",
   "execution_count": 13,
   "metadata": {
    "run_control": {
     "frozen": false,
     "read_only": false
    }
   },
   "outputs": [
    {
     "data": {
      "text/html": [
       "<div>\n",
       "<style scoped>\n",
       "    .dataframe tbody tr th:only-of-type {\n",
       "        vertical-align: middle;\n",
       "    }\n",
       "\n",
       "    .dataframe tbody tr th {\n",
       "        vertical-align: top;\n",
       "    }\n",
       "\n",
       "    .dataframe thead th {\n",
       "        text-align: right;\n",
       "    }\n",
       "</style>\n",
       "<table border=\"1\" class=\"dataframe\">\n",
       "  <thead>\n",
       "    <tr style=\"text-align: right;\">\n",
       "      <th></th>\n",
       "      <th>direction_centre</th>\n",
       "      <th>direction_mariakerke</th>\n",
       "    </tr>\n",
       "  </thead>\n",
       "  <tbody>\n",
       "    <tr>\n",
       "      <th>2011-07-14 17:44:00</th>\n",
       "      <td>21</td>\n",
       "      <td>46</td>\n",
       "    </tr>\n",
       "    <tr>\n",
       "      <th>2011-07-14 17:59:00</th>\n",
       "      <td>17</td>\n",
       "      <td>60</td>\n",
       "    </tr>\n",
       "    <tr>\n",
       "      <th>2011-07-14 18:14:00</th>\n",
       "      <td>13</td>\n",
       "      <td>48</td>\n",
       "    </tr>\n",
       "    <tr>\n",
       "      <th>2011-07-14 18:29:00</th>\n",
       "      <td>22</td>\n",
       "      <td>48</td>\n",
       "    </tr>\n",
       "    <tr>\n",
       "      <th>2011-07-14 18:44:00</th>\n",
       "      <td>15</td>\n",
       "      <td>51</td>\n",
       "    </tr>\n",
       "  </tbody>\n",
       "</table>\n",
       "</div>"
      ],
      "text/plain": [
       "                     direction_centre  direction_mariakerke\n",
       "2011-07-14 17:44:00                21                    46\n",
       "2011-07-14 17:59:00                17                    60\n",
       "2011-07-14 18:14:00                13                    48\n",
       "2011-07-14 18:29:00                22                    48\n",
       "2011-07-14 18:44:00                15                    51"
      ]
     },
     "execution_count": 13,
     "metadata": {},
     "output_type": "execute_result"
    }
   ],
   "source": [
    "df.head()"
   ]
  },
  {
   "cell_type": "markdown",
   "metadata": {},
   "source": [
    "Having the data available with an interpreted datetime, provides us the possibility of having time aware plotting:"
   ]
  },
  {
   "cell_type": "code",
   "execution_count": 14,
   "metadata": {
    "run_control": {
     "frozen": false,
     "read_only": false
    }
   },
   "outputs": [
    {
     "data": {
      "application/javascript": [
       "/* Put everything inside the global mpl namespace */\n",
       "window.mpl = {};\n",
       "\n",
       "\n",
       "mpl.get_websocket_type = function() {\n",
       "    if (typeof(WebSocket) !== 'undefined') {\n",
       "        return WebSocket;\n",
       "    } else if (typeof(MozWebSocket) !== 'undefined') {\n",
       "        return MozWebSocket;\n",
       "    } else {\n",
       "        alert('Your browser does not have WebSocket support. ' +\n",
       "              'Please try Chrome, Safari or Firefox ≥ 6. ' +\n",
       "              'Firefox 4 and 5 are also supported but you ' +\n",
       "              'have to enable WebSockets in about:config.');\n",
       "    };\n",
       "}\n",
       "\n",
       "mpl.figure = function(figure_id, websocket, ondownload, parent_element) {\n",
       "    this.id = figure_id;\n",
       "\n",
       "    this.ws = websocket;\n",
       "\n",
       "    this.supports_binary = (this.ws.binaryType != undefined);\n",
       "\n",
       "    if (!this.supports_binary) {\n",
       "        var warnings = document.getElementById(\"mpl-warnings\");\n",
       "        if (warnings) {\n",
       "            warnings.style.display = 'block';\n",
       "            warnings.textContent = (\n",
       "                \"This browser does not support binary websocket messages. \" +\n",
       "                    \"Performance may be slow.\");\n",
       "        }\n",
       "    }\n",
       "\n",
       "    this.imageObj = new Image();\n",
       "\n",
       "    this.context = undefined;\n",
       "    this.message = undefined;\n",
       "    this.canvas = undefined;\n",
       "    this.rubberband_canvas = undefined;\n",
       "    this.rubberband_context = undefined;\n",
       "    this.format_dropdown = undefined;\n",
       "\n",
       "    this.image_mode = 'full';\n",
       "\n",
       "    this.root = $('<div/>');\n",
       "    this._root_extra_style(this.root)\n",
       "    this.root.attr('style', 'display: inline-block');\n",
       "\n",
       "    $(parent_element).append(this.root);\n",
       "\n",
       "    this._init_header(this);\n",
       "    this._init_canvas(this);\n",
       "    this._init_toolbar(this);\n",
       "\n",
       "    var fig = this;\n",
       "\n",
       "    this.waiting = false;\n",
       "\n",
       "    this.ws.onopen =  function () {\n",
       "            fig.send_message(\"supports_binary\", {value: fig.supports_binary});\n",
       "            fig.send_message(\"send_image_mode\", {});\n",
       "            if (mpl.ratio != 1) {\n",
       "                fig.send_message(\"set_dpi_ratio\", {'dpi_ratio': mpl.ratio});\n",
       "            }\n",
       "            fig.send_message(\"refresh\", {});\n",
       "        }\n",
       "\n",
       "    this.imageObj.onload = function() {\n",
       "            if (fig.image_mode == 'full') {\n",
       "                // Full images could contain transparency (where diff images\n",
       "                // almost always do), so we need to clear the canvas so that\n",
       "                // there is no ghosting.\n",
       "                fig.context.clearRect(0, 0, fig.canvas.width, fig.canvas.height);\n",
       "            }\n",
       "            fig.context.drawImage(fig.imageObj, 0, 0);\n",
       "        };\n",
       "\n",
       "    this.imageObj.onunload = function() {\n",
       "        fig.ws.close();\n",
       "    }\n",
       "\n",
       "    this.ws.onmessage = this._make_on_message_function(this);\n",
       "\n",
       "    this.ondownload = ondownload;\n",
       "}\n",
       "\n",
       "mpl.figure.prototype._init_header = function() {\n",
       "    var titlebar = $(\n",
       "        '<div class=\"ui-dialog-titlebar ui-widget-header ui-corner-all ' +\n",
       "        'ui-helper-clearfix\"/>');\n",
       "    var titletext = $(\n",
       "        '<div class=\"ui-dialog-title\" style=\"width: 100%; ' +\n",
       "        'text-align: center; padding: 3px;\"/>');\n",
       "    titlebar.append(titletext)\n",
       "    this.root.append(titlebar);\n",
       "    this.header = titletext[0];\n",
       "}\n",
       "\n",
       "\n",
       "\n",
       "mpl.figure.prototype._canvas_extra_style = function(canvas_div) {\n",
       "\n",
       "}\n",
       "\n",
       "\n",
       "mpl.figure.prototype._root_extra_style = function(canvas_div) {\n",
       "\n",
       "}\n",
       "\n",
       "mpl.figure.prototype._init_canvas = function() {\n",
       "    var fig = this;\n",
       "\n",
       "    var canvas_div = $('<div/>');\n",
       "\n",
       "    canvas_div.attr('style', 'position: relative; clear: both; outline: 0');\n",
       "\n",
       "    function canvas_keyboard_event(event) {\n",
       "        return fig.key_event(event, event['data']);\n",
       "    }\n",
       "\n",
       "    canvas_div.keydown('key_press', canvas_keyboard_event);\n",
       "    canvas_div.keyup('key_release', canvas_keyboard_event);\n",
       "    this.canvas_div = canvas_div\n",
       "    this._canvas_extra_style(canvas_div)\n",
       "    this.root.append(canvas_div);\n",
       "\n",
       "    var canvas = $('<canvas/>');\n",
       "    canvas.addClass('mpl-canvas');\n",
       "    canvas.attr('style', \"left: 0; top: 0; z-index: 0; outline: 0\")\n",
       "\n",
       "    this.canvas = canvas[0];\n",
       "    this.context = canvas[0].getContext(\"2d\");\n",
       "\n",
       "    var backingStore = this.context.backingStorePixelRatio ||\n",
       "\tthis.context.webkitBackingStorePixelRatio ||\n",
       "\tthis.context.mozBackingStorePixelRatio ||\n",
       "\tthis.context.msBackingStorePixelRatio ||\n",
       "\tthis.context.oBackingStorePixelRatio ||\n",
       "\tthis.context.backingStorePixelRatio || 1;\n",
       "\n",
       "    mpl.ratio = (window.devicePixelRatio || 1) / backingStore;\n",
       "\n",
       "    var rubberband = $('<canvas/>');\n",
       "    rubberband.attr('style', \"position: absolute; left: 0; top: 0; z-index: 1;\")\n",
       "\n",
       "    var pass_mouse_events = true;\n",
       "\n",
       "    canvas_div.resizable({\n",
       "        start: function(event, ui) {\n",
       "            pass_mouse_events = false;\n",
       "        },\n",
       "        resize: function(event, ui) {\n",
       "            fig.request_resize(ui.size.width, ui.size.height);\n",
       "        },\n",
       "        stop: function(event, ui) {\n",
       "            pass_mouse_events = true;\n",
       "            fig.request_resize(ui.size.width, ui.size.height);\n",
       "        },\n",
       "    });\n",
       "\n",
       "    function mouse_event_fn(event) {\n",
       "        if (pass_mouse_events)\n",
       "            return fig.mouse_event(event, event['data']);\n",
       "    }\n",
       "\n",
       "    rubberband.mousedown('button_press', mouse_event_fn);\n",
       "    rubberband.mouseup('button_release', mouse_event_fn);\n",
       "    // Throttle sequential mouse events to 1 every 20ms.\n",
       "    rubberband.mousemove('motion_notify', mouse_event_fn);\n",
       "\n",
       "    rubberband.mouseenter('figure_enter', mouse_event_fn);\n",
       "    rubberband.mouseleave('figure_leave', mouse_event_fn);\n",
       "\n",
       "    canvas_div.on(\"wheel\", function (event) {\n",
       "        event = event.originalEvent;\n",
       "        event['data'] = 'scroll'\n",
       "        if (event.deltaY < 0) {\n",
       "            event.step = 1;\n",
       "        } else {\n",
       "            event.step = -1;\n",
       "        }\n",
       "        mouse_event_fn(event);\n",
       "    });\n",
       "\n",
       "    canvas_div.append(canvas);\n",
       "    canvas_div.append(rubberband);\n",
       "\n",
       "    this.rubberband = rubberband;\n",
       "    this.rubberband_canvas = rubberband[0];\n",
       "    this.rubberband_context = rubberband[0].getContext(\"2d\");\n",
       "    this.rubberband_context.strokeStyle = \"#000000\";\n",
       "\n",
       "    this._resize_canvas = function(width, height) {\n",
       "        // Keep the size of the canvas, canvas container, and rubber band\n",
       "        // canvas in synch.\n",
       "        canvas_div.css('width', width)\n",
       "        canvas_div.css('height', height)\n",
       "\n",
       "        canvas.attr('width', width * mpl.ratio);\n",
       "        canvas.attr('height', height * mpl.ratio);\n",
       "        canvas.attr('style', 'width: ' + width + 'px; height: ' + height + 'px;');\n",
       "\n",
       "        rubberband.attr('width', width);\n",
       "        rubberband.attr('height', height);\n",
       "    }\n",
       "\n",
       "    // Set the figure to an initial 600x600px, this will subsequently be updated\n",
       "    // upon first draw.\n",
       "    this._resize_canvas(600, 600);\n",
       "\n",
       "    // Disable right mouse context menu.\n",
       "    $(this.rubberband_canvas).bind(\"contextmenu\",function(e){\n",
       "        return false;\n",
       "    });\n",
       "\n",
       "    function set_focus () {\n",
       "        canvas.focus();\n",
       "        canvas_div.focus();\n",
       "    }\n",
       "\n",
       "    window.setTimeout(set_focus, 100);\n",
       "}\n",
       "\n",
       "mpl.figure.prototype._init_toolbar = function() {\n",
       "    var fig = this;\n",
       "\n",
       "    var nav_element = $('<div/>');\n",
       "    nav_element.attr('style', 'width: 100%');\n",
       "    this.root.append(nav_element);\n",
       "\n",
       "    // Define a callback function for later on.\n",
       "    function toolbar_event(event) {\n",
       "        return fig.toolbar_button_onclick(event['data']);\n",
       "    }\n",
       "    function toolbar_mouse_event(event) {\n",
       "        return fig.toolbar_button_onmouseover(event['data']);\n",
       "    }\n",
       "\n",
       "    for(var toolbar_ind in mpl.toolbar_items) {\n",
       "        var name = mpl.toolbar_items[toolbar_ind][0];\n",
       "        var tooltip = mpl.toolbar_items[toolbar_ind][1];\n",
       "        var image = mpl.toolbar_items[toolbar_ind][2];\n",
       "        var method_name = mpl.toolbar_items[toolbar_ind][3];\n",
       "\n",
       "        if (!name) {\n",
       "            // put a spacer in here.\n",
       "            continue;\n",
       "        }\n",
       "        var button = $('<button/>');\n",
       "        button.addClass('ui-button ui-widget ui-state-default ui-corner-all ' +\n",
       "                        'ui-button-icon-only');\n",
       "        button.attr('role', 'button');\n",
       "        button.attr('aria-disabled', 'false');\n",
       "        button.click(method_name, toolbar_event);\n",
       "        button.mouseover(tooltip, toolbar_mouse_event);\n",
       "\n",
       "        var icon_img = $('<span/>');\n",
       "        icon_img.addClass('ui-button-icon-primary ui-icon');\n",
       "        icon_img.addClass(image);\n",
       "        icon_img.addClass('ui-corner-all');\n",
       "\n",
       "        var tooltip_span = $('<span/>');\n",
       "        tooltip_span.addClass('ui-button-text');\n",
       "        tooltip_span.html(tooltip);\n",
       "\n",
       "        button.append(icon_img);\n",
       "        button.append(tooltip_span);\n",
       "\n",
       "        nav_element.append(button);\n",
       "    }\n",
       "\n",
       "    var fmt_picker_span = $('<span/>');\n",
       "\n",
       "    var fmt_picker = $('<select/>');\n",
       "    fmt_picker.addClass('mpl-toolbar-option ui-widget ui-widget-content');\n",
       "    fmt_picker_span.append(fmt_picker);\n",
       "    nav_element.append(fmt_picker_span);\n",
       "    this.format_dropdown = fmt_picker[0];\n",
       "\n",
       "    for (var ind in mpl.extensions) {\n",
       "        var fmt = mpl.extensions[ind];\n",
       "        var option = $(\n",
       "            '<option/>', {selected: fmt === mpl.default_extension}).html(fmt);\n",
       "        fmt_picker.append(option);\n",
       "    }\n",
       "\n",
       "    // Add hover states to the ui-buttons\n",
       "    $( \".ui-button\" ).hover(\n",
       "        function() { $(this).addClass(\"ui-state-hover\");},\n",
       "        function() { $(this).removeClass(\"ui-state-hover\");}\n",
       "    );\n",
       "\n",
       "    var status_bar = $('<span class=\"mpl-message\"/>');\n",
       "    nav_element.append(status_bar);\n",
       "    this.message = status_bar[0];\n",
       "}\n",
       "\n",
       "mpl.figure.prototype.request_resize = function(x_pixels, y_pixels) {\n",
       "    // Request matplotlib to resize the figure. Matplotlib will then trigger a resize in the client,\n",
       "    // which will in turn request a refresh of the image.\n",
       "    this.send_message('resize', {'width': x_pixels, 'height': y_pixels});\n",
       "}\n",
       "\n",
       "mpl.figure.prototype.send_message = function(type, properties) {\n",
       "    properties['type'] = type;\n",
       "    properties['figure_id'] = this.id;\n",
       "    this.ws.send(JSON.stringify(properties));\n",
       "}\n",
       "\n",
       "mpl.figure.prototype.send_draw_message = function() {\n",
       "    if (!this.waiting) {\n",
       "        this.waiting = true;\n",
       "        this.ws.send(JSON.stringify({type: \"draw\", figure_id: this.id}));\n",
       "    }\n",
       "}\n",
       "\n",
       "\n",
       "mpl.figure.prototype.handle_save = function(fig, msg) {\n",
       "    var format_dropdown = fig.format_dropdown;\n",
       "    var format = format_dropdown.options[format_dropdown.selectedIndex].value;\n",
       "    fig.ondownload(fig, format);\n",
       "}\n",
       "\n",
       "\n",
       "mpl.figure.prototype.handle_resize = function(fig, msg) {\n",
       "    var size = msg['size'];\n",
       "    if (size[0] != fig.canvas.width || size[1] != fig.canvas.height) {\n",
       "        fig._resize_canvas(size[0], size[1]);\n",
       "        fig.send_message(\"refresh\", {});\n",
       "    };\n",
       "}\n",
       "\n",
       "mpl.figure.prototype.handle_rubberband = function(fig, msg) {\n",
       "    var x0 = msg['x0'] / mpl.ratio;\n",
       "    var y0 = (fig.canvas.height - msg['y0']) / mpl.ratio;\n",
       "    var x1 = msg['x1'] / mpl.ratio;\n",
       "    var y1 = (fig.canvas.height - msg['y1']) / mpl.ratio;\n",
       "    x0 = Math.floor(x0) + 0.5;\n",
       "    y0 = Math.floor(y0) + 0.5;\n",
       "    x1 = Math.floor(x1) + 0.5;\n",
       "    y1 = Math.floor(y1) + 0.5;\n",
       "    var min_x = Math.min(x0, x1);\n",
       "    var min_y = Math.min(y0, y1);\n",
       "    var width = Math.abs(x1 - x0);\n",
       "    var height = Math.abs(y1 - y0);\n",
       "\n",
       "    fig.rubberband_context.clearRect(\n",
       "        0, 0, fig.canvas.width / mpl.ratio, fig.canvas.height / mpl.ratio);\n",
       "\n",
       "    fig.rubberband_context.strokeRect(min_x, min_y, width, height);\n",
       "}\n",
       "\n",
       "mpl.figure.prototype.handle_figure_label = function(fig, msg) {\n",
       "    // Updates the figure title.\n",
       "    fig.header.textContent = msg['label'];\n",
       "}\n",
       "\n",
       "mpl.figure.prototype.handle_cursor = function(fig, msg) {\n",
       "    var cursor = msg['cursor'];\n",
       "    switch(cursor)\n",
       "    {\n",
       "    case 0:\n",
       "        cursor = 'pointer';\n",
       "        break;\n",
       "    case 1:\n",
       "        cursor = 'default';\n",
       "        break;\n",
       "    case 2:\n",
       "        cursor = 'crosshair';\n",
       "        break;\n",
       "    case 3:\n",
       "        cursor = 'move';\n",
       "        break;\n",
       "    }\n",
       "    fig.rubberband_canvas.style.cursor = cursor;\n",
       "}\n",
       "\n",
       "mpl.figure.prototype.handle_message = function(fig, msg) {\n",
       "    fig.message.textContent = msg['message'];\n",
       "}\n",
       "\n",
       "mpl.figure.prototype.handle_draw = function(fig, msg) {\n",
       "    // Request the server to send over a new figure.\n",
       "    fig.send_draw_message();\n",
       "}\n",
       "\n",
       "mpl.figure.prototype.handle_image_mode = function(fig, msg) {\n",
       "    fig.image_mode = msg['mode'];\n",
       "}\n",
       "\n",
       "mpl.figure.prototype.updated_canvas_event = function() {\n",
       "    // Called whenever the canvas gets updated.\n",
       "    this.send_message(\"ack\", {});\n",
       "}\n",
       "\n",
       "// A function to construct a web socket function for onmessage handling.\n",
       "// Called in the figure constructor.\n",
       "mpl.figure.prototype._make_on_message_function = function(fig) {\n",
       "    return function socket_on_message(evt) {\n",
       "        if (evt.data instanceof Blob) {\n",
       "            /* FIXME: We get \"Resource interpreted as Image but\n",
       "             * transferred with MIME type text/plain:\" errors on\n",
       "             * Chrome.  But how to set the MIME type?  It doesn't seem\n",
       "             * to be part of the websocket stream */\n",
       "            evt.data.type = \"image/png\";\n",
       "\n",
       "            /* Free the memory for the previous frames */\n",
       "            if (fig.imageObj.src) {\n",
       "                (window.URL || window.webkitURL).revokeObjectURL(\n",
       "                    fig.imageObj.src);\n",
       "            }\n",
       "\n",
       "            fig.imageObj.src = (window.URL || window.webkitURL).createObjectURL(\n",
       "                evt.data);\n",
       "            fig.updated_canvas_event();\n",
       "            fig.waiting = false;\n",
       "            return;\n",
       "        }\n",
       "        else if (typeof evt.data === 'string' && evt.data.slice(0, 21) == \"data:image/png;base64\") {\n",
       "            fig.imageObj.src = evt.data;\n",
       "            fig.updated_canvas_event();\n",
       "            fig.waiting = false;\n",
       "            return;\n",
       "        }\n",
       "\n",
       "        var msg = JSON.parse(evt.data);\n",
       "        var msg_type = msg['type'];\n",
       "\n",
       "        // Call the  \"handle_{type}\" callback, which takes\n",
       "        // the figure and JSON message as its only arguments.\n",
       "        try {\n",
       "            var callback = fig[\"handle_\" + msg_type];\n",
       "        } catch (e) {\n",
       "            console.log(\"No handler for the '\" + msg_type + \"' message type: \", msg);\n",
       "            return;\n",
       "        }\n",
       "\n",
       "        if (callback) {\n",
       "            try {\n",
       "                // console.log(\"Handling '\" + msg_type + \"' message: \", msg);\n",
       "                callback(fig, msg);\n",
       "            } catch (e) {\n",
       "                console.log(\"Exception inside the 'handler_\" + msg_type + \"' callback:\", e, e.stack, msg);\n",
       "            }\n",
       "        }\n",
       "    };\n",
       "}\n",
       "\n",
       "// from http://stackoverflow.com/questions/1114465/getting-mouse-location-in-canvas\n",
       "mpl.findpos = function(e) {\n",
       "    //this section is from http://www.quirksmode.org/js/events_properties.html\n",
       "    var targ;\n",
       "    if (!e)\n",
       "        e = window.event;\n",
       "    if (e.target)\n",
       "        targ = e.target;\n",
       "    else if (e.srcElement)\n",
       "        targ = e.srcElement;\n",
       "    if (targ.nodeType == 3) // defeat Safari bug\n",
       "        targ = targ.parentNode;\n",
       "\n",
       "    // jQuery normalizes the pageX and pageY\n",
       "    // pageX,Y are the mouse positions relative to the document\n",
       "    // offset() returns the position of the element relative to the document\n",
       "    var x = e.pageX - $(targ).offset().left;\n",
       "    var y = e.pageY - $(targ).offset().top;\n",
       "\n",
       "    return {\"x\": x, \"y\": y};\n",
       "};\n",
       "\n",
       "/*\n",
       " * return a copy of an object with only non-object keys\n",
       " * we need this to avoid circular references\n",
       " * http://stackoverflow.com/a/24161582/3208463\n",
       " */\n",
       "function simpleKeys (original) {\n",
       "  return Object.keys(original).reduce(function (obj, key) {\n",
       "    if (typeof original[key] !== 'object')\n",
       "        obj[key] = original[key]\n",
       "    return obj;\n",
       "  }, {});\n",
       "}\n",
       "\n",
       "mpl.figure.prototype.mouse_event = function(event, name) {\n",
       "    var canvas_pos = mpl.findpos(event)\n",
       "\n",
       "    if (name === 'button_press')\n",
       "    {\n",
       "        this.canvas.focus();\n",
       "        this.canvas_div.focus();\n",
       "    }\n",
       "\n",
       "    var x = canvas_pos.x * mpl.ratio;\n",
       "    var y = canvas_pos.y * mpl.ratio;\n",
       "\n",
       "    this.send_message(name, {x: x, y: y, button: event.button,\n",
       "                             step: event.step,\n",
       "                             guiEvent: simpleKeys(event)});\n",
       "\n",
       "    /* This prevents the web browser from automatically changing to\n",
       "     * the text insertion cursor when the button is pressed.  We want\n",
       "     * to control all of the cursor setting manually through the\n",
       "     * 'cursor' event from matplotlib */\n",
       "    event.preventDefault();\n",
       "    return false;\n",
       "}\n",
       "\n",
       "mpl.figure.prototype._key_event_extra = function(event, name) {\n",
       "    // Handle any extra behaviour associated with a key event\n",
       "}\n",
       "\n",
       "mpl.figure.prototype.key_event = function(event, name) {\n",
       "\n",
       "    // Prevent repeat events\n",
       "    if (name == 'key_press')\n",
       "    {\n",
       "        if (event.which === this._key)\n",
       "            return;\n",
       "        else\n",
       "            this._key = event.which;\n",
       "    }\n",
       "    if (name == 'key_release')\n",
       "        this._key = null;\n",
       "\n",
       "    var value = '';\n",
       "    if (event.ctrlKey && event.which != 17)\n",
       "        value += \"ctrl+\";\n",
       "    if (event.altKey && event.which != 18)\n",
       "        value += \"alt+\";\n",
       "    if (event.shiftKey && event.which != 16)\n",
       "        value += \"shift+\";\n",
       "\n",
       "    value += 'k';\n",
       "    value += event.which.toString();\n",
       "\n",
       "    this._key_event_extra(event, name);\n",
       "\n",
       "    this.send_message(name, {key: value,\n",
       "                             guiEvent: simpleKeys(event)});\n",
       "    return false;\n",
       "}\n",
       "\n",
       "mpl.figure.prototype.toolbar_button_onclick = function(name) {\n",
       "    if (name == 'download') {\n",
       "        this.handle_save(this, null);\n",
       "    } else {\n",
       "        this.send_message(\"toolbar_button\", {name: name});\n",
       "    }\n",
       "};\n",
       "\n",
       "mpl.figure.prototype.toolbar_button_onmouseover = function(tooltip) {\n",
       "    this.message.textContent = tooltip;\n",
       "};\n",
       "mpl.toolbar_items = [[\"Home\", \"Reset original view\", \"fa fa-home icon-home\", \"home\"], [\"Back\", \"Back to previous view\", \"fa fa-arrow-left icon-arrow-left\", \"back\"], [\"Forward\", \"Forward to next view\", \"fa fa-arrow-right icon-arrow-right\", \"forward\"], [\"\", \"\", \"\", \"\"], [\"Pan\", \"Pan axes with left mouse, zoom with right\", \"fa fa-arrows icon-move\", \"pan\"], [\"Zoom\", \"Zoom to rectangle\", \"fa fa-square-o icon-check-empty\", \"zoom\"], [\"\", \"\", \"\", \"\"], [\"Download\", \"Download plot\", \"fa fa-floppy-o icon-save\", \"download\"]];\n",
       "\n",
       "mpl.extensions = [\"eps\", \"jpeg\", \"pdf\", \"png\", \"ps\", \"raw\", \"svg\", \"tif\"];\n",
       "\n",
       "mpl.default_extension = \"png\";var comm_websocket_adapter = function(comm) {\n",
       "    // Create a \"websocket\"-like object which calls the given IPython comm\n",
       "    // object with the appropriate methods. Currently this is a non binary\n",
       "    // socket, so there is still some room for performance tuning.\n",
       "    var ws = {};\n",
       "\n",
       "    ws.close = function() {\n",
       "        comm.close()\n",
       "    };\n",
       "    ws.send = function(m) {\n",
       "        //console.log('sending', m);\n",
       "        comm.send(m);\n",
       "    };\n",
       "    // Register the callback with on_msg.\n",
       "    comm.on_msg(function(msg) {\n",
       "        //console.log('receiving', msg['content']['data'], msg);\n",
       "        // Pass the mpl event to the overridden (by mpl) onmessage function.\n",
       "        ws.onmessage(msg['content']['data'])\n",
       "    });\n",
       "    return ws;\n",
       "}\n",
       "\n",
       "mpl.mpl_figure_comm = function(comm, msg) {\n",
       "    // This is the function which gets called when the mpl process\n",
       "    // starts-up an IPython Comm through the \"matplotlib\" channel.\n",
       "\n",
       "    var id = msg.content.data.id;\n",
       "    // Get hold of the div created by the display call when the Comm\n",
       "    // socket was opened in Python.\n",
       "    var element = $(\"#\" + id);\n",
       "    var ws_proxy = comm_websocket_adapter(comm)\n",
       "\n",
       "    function ondownload(figure, format) {\n",
       "        window.open(figure.imageObj.src);\n",
       "    }\n",
       "\n",
       "    var fig = new mpl.figure(id, ws_proxy,\n",
       "                           ondownload,\n",
       "                           element.get(0));\n",
       "\n",
       "    // Call onopen now - mpl needs it, as it is assuming we've passed it a real\n",
       "    // web socket which is closed, not our websocket->open comm proxy.\n",
       "    ws_proxy.onopen();\n",
       "\n",
       "    fig.parent_element = element.get(0);\n",
       "    fig.cell_info = mpl.find_output_cell(\"<div id='\" + id + \"'></div>\");\n",
       "    if (!fig.cell_info) {\n",
       "        console.error(\"Failed to find cell for figure\", id, fig);\n",
       "        return;\n",
       "    }\n",
       "\n",
       "    var output_index = fig.cell_info[2]\n",
       "    var cell = fig.cell_info[0];\n",
       "\n",
       "};\n",
       "\n",
       "mpl.figure.prototype.handle_close = function(fig, msg) {\n",
       "    var width = fig.canvas.width/mpl.ratio\n",
       "    fig.root.unbind('remove')\n",
       "\n",
       "    // Update the output cell to use the data from the current canvas.\n",
       "    fig.push_to_output();\n",
       "    var dataURL = fig.canvas.toDataURL();\n",
       "    // Re-enable the keyboard manager in IPython - without this line, in FF,\n",
       "    // the notebook keyboard shortcuts fail.\n",
       "    IPython.keyboard_manager.enable()\n",
       "    $(fig.parent_element).html('<img src=\"' + dataURL + '\" width=\"' + width + '\">');\n",
       "    fig.close_ws(fig, msg);\n",
       "}\n",
       "\n",
       "mpl.figure.prototype.close_ws = function(fig, msg){\n",
       "    fig.send_message('closing', msg);\n",
       "    // fig.ws.close()\n",
       "}\n",
       "\n",
       "mpl.figure.prototype.push_to_output = function(remove_interactive) {\n",
       "    // Turn the data on the canvas into data in the output cell.\n",
       "    var width = this.canvas.width/mpl.ratio\n",
       "    var dataURL = this.canvas.toDataURL();\n",
       "    this.cell_info[1]['text/html'] = '<img src=\"' + dataURL + '\" width=\"' + width + '\">';\n",
       "}\n",
       "\n",
       "mpl.figure.prototype.updated_canvas_event = function() {\n",
       "    // Tell IPython that the notebook contents must change.\n",
       "    IPython.notebook.set_dirty(true);\n",
       "    this.send_message(\"ack\", {});\n",
       "    var fig = this;\n",
       "    // Wait a second, then push the new image to the DOM so\n",
       "    // that it is saved nicely (might be nice to debounce this).\n",
       "    setTimeout(function () { fig.push_to_output() }, 1000);\n",
       "}\n",
       "\n",
       "mpl.figure.prototype._init_toolbar = function() {\n",
       "    var fig = this;\n",
       "\n",
       "    var nav_element = $('<div/>');\n",
       "    nav_element.attr('style', 'width: 100%');\n",
       "    this.root.append(nav_element);\n",
       "\n",
       "    // Define a callback function for later on.\n",
       "    function toolbar_event(event) {\n",
       "        return fig.toolbar_button_onclick(event['data']);\n",
       "    }\n",
       "    function toolbar_mouse_event(event) {\n",
       "        return fig.toolbar_button_onmouseover(event['data']);\n",
       "    }\n",
       "\n",
       "    for(var toolbar_ind in mpl.toolbar_items){\n",
       "        var name = mpl.toolbar_items[toolbar_ind][0];\n",
       "        var tooltip = mpl.toolbar_items[toolbar_ind][1];\n",
       "        var image = mpl.toolbar_items[toolbar_ind][2];\n",
       "        var method_name = mpl.toolbar_items[toolbar_ind][3];\n",
       "\n",
       "        if (!name) { continue; };\n",
       "\n",
       "        var button = $('<button class=\"btn btn-default\" href=\"#\" title=\"' + name + '\"><i class=\"fa ' + image + ' fa-lg\"></i></button>');\n",
       "        button.click(method_name, toolbar_event);\n",
       "        button.mouseover(tooltip, toolbar_mouse_event);\n",
       "        nav_element.append(button);\n",
       "    }\n",
       "\n",
       "    // Add the status bar.\n",
       "    var status_bar = $('<span class=\"mpl-message\" style=\"text-align:right; float: right;\"/>');\n",
       "    nav_element.append(status_bar);\n",
       "    this.message = status_bar[0];\n",
       "\n",
       "    // Add the close button to the window.\n",
       "    var buttongrp = $('<div class=\"btn-group inline pull-right\"></div>');\n",
       "    var button = $('<button class=\"btn btn-mini btn-primary\" href=\"#\" title=\"Stop Interaction\"><i class=\"fa fa-power-off icon-remove icon-large\"></i></button>');\n",
       "    button.click(function (evt) { fig.handle_close(fig, {}); } );\n",
       "    button.mouseover('Stop Interaction', toolbar_mouse_event);\n",
       "    buttongrp.append(button);\n",
       "    var titlebar = this.root.find($('.ui-dialog-titlebar'));\n",
       "    titlebar.prepend(buttongrp);\n",
       "}\n",
       "\n",
       "mpl.figure.prototype._root_extra_style = function(el){\n",
       "    var fig = this\n",
       "    el.on(\"remove\", function(){\n",
       "\tfig.close_ws(fig, {});\n",
       "    });\n",
       "}\n",
       "\n",
       "mpl.figure.prototype._canvas_extra_style = function(el){\n",
       "    // this is important to make the div 'focusable\n",
       "    el.attr('tabindex', 0)\n",
       "    // reach out to IPython and tell the keyboard manager to turn it's self\n",
       "    // off when our div gets focus\n",
       "\n",
       "    // location in version 3\n",
       "    if (IPython.notebook.keyboard_manager) {\n",
       "        IPython.notebook.keyboard_manager.register_events(el);\n",
       "    }\n",
       "    else {\n",
       "        // location in version 2\n",
       "        IPython.keyboard_manager.register_events(el);\n",
       "    }\n",
       "\n",
       "}\n",
       "\n",
       "mpl.figure.prototype._key_event_extra = function(event, name) {\n",
       "    var manager = IPython.notebook.keyboard_manager;\n",
       "    if (!manager)\n",
       "        manager = IPython.keyboard_manager;\n",
       "\n",
       "    // Check for shift+enter\n",
       "    if (event.shiftKey && event.which == 13) {\n",
       "        this.canvas_div.blur();\n",
       "        event.shiftKey = false;\n",
       "        // Send a \"J\" for go to next cell\n",
       "        event.which = 74;\n",
       "        event.keyCode = 74;\n",
       "        manager.command_mode();\n",
       "        manager.handle_keydown(event);\n",
       "    }\n",
       "}\n",
       "\n",
       "mpl.figure.prototype.handle_save = function(fig, msg) {\n",
       "    fig.ondownload(fig, null);\n",
       "}\n",
       "\n",
       "\n",
       "mpl.find_output_cell = function(html_output) {\n",
       "    // Return the cell and output element which can be found *uniquely* in the notebook.\n",
       "    // Note - this is a bit hacky, but it is done because the \"notebook_saving.Notebook\"\n",
       "    // IPython event is triggered only after the cells have been serialised, which for\n",
       "    // our purposes (turning an active figure into a static one), is too late.\n",
       "    var cells = IPython.notebook.get_cells();\n",
       "    var ncells = cells.length;\n",
       "    for (var i=0; i<ncells; i++) {\n",
       "        var cell = cells[i];\n",
       "        if (cell.cell_type === 'code'){\n",
       "            for (var j=0; j<cell.output_area.outputs.length; j++) {\n",
       "                var data = cell.output_area.outputs[j];\n",
       "                if (data.data) {\n",
       "                    // IPython >= 3 moved mimebundle to data attribute of output\n",
       "                    data = data.data;\n",
       "                }\n",
       "                if (data['text/html'] == html_output) {\n",
       "                    return [cell, data, j];\n",
       "                }\n",
       "            }\n",
       "        }\n",
       "    }\n",
       "}\n",
       "\n",
       "// Register the function which deals with the matplotlib target/channel.\n",
       "// The kernel may be null if the page has been refreshed.\n",
       "if (IPython.notebook.kernel != null) {\n",
       "    IPython.notebook.kernel.comm_manager.register_target('matplotlib', mpl.mpl_figure_comm);\n",
       "}\n"
      ],
      "text/plain": [
       "<IPython.core.display.Javascript object>"
      ]
     },
     "metadata": {},
     "output_type": "display_data"
    },
    {
     "data": {
      "text/html": [
       "<img src=\"data:image/png;base64,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\" width=\"999.4166666666666\">"
      ],
      "text/plain": [
       "<IPython.core.display.HTML object>"
      ]
     },
     "metadata": {},
     "output_type": "display_data"
    },
    {
     "data": {
      "text/plain": [
       "<matplotlib.axes._subplots.AxesSubplot at 0x7fbeb516e0d0>"
      ]
     },
     "execution_count": 14,
     "metadata": {},
     "output_type": "execute_result"
    }
   ],
   "source": [
    "fig, ax = plt.subplots(figsize=(10, 6))\n",
    "df.plot(colormap='coolwarm', ax=ax)"
   ]
  },
  {
   "cell_type": "markdown",
   "metadata": {},
   "source": [
    "<div class=\"alert alert-warning\">\n",
    "\n",
    " <b>Remark</b>: Interpretation of the dates with and without predefined date format.\n",
    "\n",
    "</div>"
   ]
  },
  {
   "cell_type": "markdown",
   "metadata": {},
   "source": [
    "When we just want to interpret the dates, without specifying how the dates are formatted, Pandas makes an attempt as good as possible:"
   ]
  },
  {
   "cell_type": "code",
   "execution_count": 14,
   "metadata": {
    "run_control": {
     "frozen": false,
     "read_only": false
    }
   },
   "outputs": [
    {
     "name": "stdout",
     "output_type": "stream",
     "text": [
      "17.5 s ± 0 ns per loop (mean ± std. dev. of 1 run, 1 loop each)\n"
     ]
    }
   ],
   "source": [
    "%timeit -n 1 -r 1 pd.to_datetime(combined, dayfirst=True)"
   ]
  },
  {
   "cell_type": "markdown",
   "metadata": {},
   "source": [
    "However, when we already know the format of the dates (and if this is consistent throughout the full dataset), we can use this information to interpret the dates:"
   ]
  },
  {
   "cell_type": "code",
   "execution_count": 15,
   "metadata": {
    "run_control": {
     "frozen": false,
     "read_only": false
    }
   },
   "outputs": [
    {
     "name": "stdout",
     "output_type": "stream",
     "text": [
      "500 ms ± 12 ms per loop (mean ± std. dev. of 7 runs, 1 loop each)\n"
     ]
    }
   ],
   "source": [
    "%timeit pd.to_datetime(combined, format=\"%d/%m/%Y %H:%M\")"
   ]
  },
  {
   "cell_type": "markdown",
   "metadata": {},
   "source": [
    "<div class=\"alert alert-info\">\n",
    "\n",
    " <b>Remember</b>: Whenever possible, specify the date format to interpret the dates to datetime values!\n",
    "\n",
    "</div>"
   ]
  },
  {
   "cell_type": "markdown",
   "metadata": {},
   "source": [
    "### Write the data set cleaning as a function\n",
    "\n",
    "In order to make it easier to reuse the code for the preprocessing we have now implemented, let's convert the code to a Python function"
   ]
  },
  {
   "cell_type": "markdown",
   "metadata": {},
   "source": [
    "<div class=\"alert alert-success\">\n",
    "\n",
    "<b>EXERCISE</b>:\n",
    "\n",
    " <ul>\n",
    "  <li>Write a function <code>process_bike_count_data(df)</code> that performs the processing steps as done above for an input DataFrame and return the updated DataFrame</li>\n",
    "</ul> \n",
    "\n",
    "</div>"
   ]
  },
  {
   "cell_type": "code",
   "execution_count": 16,
   "metadata": {
    "clear_cell": true,
    "run_control": {
     "frozen": false,
     "read_only": false
    }
   },
   "outputs": [],
   "source": [
    "def process_bike_count_data(df):\n",
    "    \"\"\"\n",
    "    Process the provided dataframe: parse datetimes and rename columns.\n",
    "    \n",
    "    \"\"\"\n",
    "    df.index = pd.to_datetime(df['datum'] + ' ' + df['tijd'], format=\"%d/%m/%Y %H:%M\")\n",
    "    df = df.drop(columns=['datum', 'tijd'])\n",
    "    df = df.rename(columns={'ri Centrum': 'direction_centre', 'ri Mariakerke':'direction_mariakerke'})\n",
    "    return df"
   ]
  },
  {
   "cell_type": "code",
   "execution_count": 17,
   "metadata": {
    "run_control": {
     "frozen": false,
     "read_only": false
    }
   },
   "outputs": [],
   "source": [
    "df_raw = pd.read_csv(link, sep=';')\n",
    "df_preprocessed = process_bike_count_data(df_raw)"
   ]
  },
  {
   "cell_type": "markdown",
   "metadata": {},
   "source": [
    "### Store our collected dataset as an interim data product"
   ]
  },
  {
   "cell_type": "markdown",
   "metadata": {},
   "source": [
    "As we finished our data-collection step, we want to save this result as a interim data output of our small investigation. As such, we do not have to re-download all the files each time something went wrong, but can restart from our interim step."
   ]
  },
  {
   "cell_type": "code",
   "execution_count": 18,
   "metadata": {
    "run_control": {
     "frozen": false,
     "read_only": false
    }
   },
   "outputs": [],
   "source": [
    "df_preprocessed.to_csv(\"bike_count_interim.csv\")"
   ]
  },
  {
   "cell_type": "markdown",
   "metadata": {},
   "source": [
    "## Data exploration and analysis"
   ]
  },
  {
   "cell_type": "markdown",
   "metadata": {},
   "source": [
    "We now have a cleaned-up dataset of the bike counts at Coupure Links. Next, we want to get an impression of the characteristics and properties of the data"
   ]
  },
  {
   "cell_type": "markdown",
   "metadata": {},
   "source": [
    "### Load the interim data"
   ]
  },
  {
   "cell_type": "markdown",
   "metadata": {},
   "source": [
    "Reading the file in from the interim file (when you want to rerun the whole analysis on the updated online data, you would comment out this cell...)"
   ]
  },
  {
   "cell_type": "code",
   "execution_count": 19,
   "metadata": {
    "run_control": {
     "frozen": false,
     "read_only": false
    }
   },
   "outputs": [],
   "source": [
    "df = pd.read_csv(\"bike_count_interim.csv\", index_col=0, parse_dates=True)"
   ]
  },
  {
   "cell_type": "markdown",
   "metadata": {},
   "source": [
    "### Count interval verification"
   ]
  },
  {
   "cell_type": "markdown",
   "metadata": {},
   "source": [
    "The number of bikers are counted for intervals of approximately 15 minutes. But let's check if this is indeed the case.  \n",
    "For this, we want to calculate the difference between each of the consecutive values of the index. We can use the `Series.diff()` method:"
   ]
  },
  {
   "cell_type": "code",
   "execution_count": 20,
   "metadata": {
    "run_control": {
     "frozen": false,
     "read_only": false
    }
   },
   "outputs": [
    {
     "data": {
      "text/plain": [
       "0             NaT\n",
       "1        00:15:00\n",
       "2        00:15:00\n",
       "3        00:15:00\n",
       "4        00:15:00\n",
       "           ...   \n",
       "191442   00:15:00\n",
       "191443   00:15:00\n",
       "191444   00:15:00\n",
       "191445   00:15:00\n",
       "191446   00:15:00\n",
       "Length: 191447, dtype: timedelta64[ns]"
      ]
     },
     "execution_count": 20,
     "metadata": {},
     "output_type": "execute_result"
    }
   ],
   "source": [
    "pd.Series(df.index).diff()"
   ]
  },
  {
   "cell_type": "markdown",
   "metadata": {},
   "source": [
    "Again, the count of the possible intervals is of interest:"
   ]
  },
  {
   "cell_type": "code",
   "execution_count": 21,
   "metadata": {
    "run_control": {
     "frozen": false,
     "read_only": false
    }
   },
   "outputs": [
    {
     "data": {
      "text/plain": [
       "0 days 00:15:00      191356\n",
       "0 days 00:16:00           9\n",
       "0 days 00:09:00           6\n",
       "-1 days +23:15:00         6\n",
       "0 days 00:13:00           6\n",
       "0 days 00:04:00           5\n",
       "0 days 01:15:00           5\n",
       "0 days 00:06:00           4\n",
       "0 days 00:12:00           4\n",
       "0 days 00:11:00           4\n",
       "0 days 00:03:00           4\n",
       "0 days 00:00:00           4\n",
       "0 days 00:02:00           4\n",
       "0 days 00:08:00           4\n",
       "0 days 00:10:00           3\n",
       "0 days 00:01:00           3\n",
       "0 days 00:38:00           3\n",
       "0 days 00:37:00           3\n",
       "0 days 00:14:00           2\n",
       "0 days 00:05:00           2\n",
       "0 days 01:11:00           1\n",
       "0 days 00:26:00           1\n",
       "0 days 00:20:00           1\n",
       "0 days 00:29:00           1\n",
       "0 days 01:24:00           1\n",
       "0 days 00:30:00           1\n",
       "0 days 06:49:00           1\n",
       "0 days 00:07:00           1\n",
       "20 days 21:29:00          1\n",
       "dtype: int64"
      ]
     },
     "execution_count": 21,
     "metadata": {},
     "output_type": "execute_result"
    }
   ],
   "source": [
    "pd.Series(df.index).diff().value_counts()"
   ]
  },
  {
   "cell_type": "markdown",
   "metadata": {},
   "source": [
    "There are a few records that is not exactly 15min. But given it are only a few ones, we will ignore this for the current case study and just keep them as such for this explorative study.  \n",
    "\n",
    "Bonus question: do you know where the values of `-1 days +23:15:01` and `01:15:00` are coming from?"
   ]
  },
  {
   "cell_type": "code",
   "execution_count": 22,
   "metadata": {
    "run_control": {
     "frozen": false,
     "read_only": false
    }
   },
   "outputs": [
    {
     "data": {
      "text/html": [
       "<div>\n",
       "<style scoped>\n",
       "    .dataframe tbody tr th:only-of-type {\n",
       "        vertical-align: middle;\n",
       "    }\n",
       "\n",
       "    .dataframe tbody tr th {\n",
       "        vertical-align: top;\n",
       "    }\n",
       "\n",
       "    .dataframe thead th {\n",
       "        text-align: right;\n",
       "    }\n",
       "</style>\n",
       "<table border=\"1\" class=\"dataframe\">\n",
       "  <thead>\n",
       "    <tr style=\"text-align: right;\">\n",
       "      <th></th>\n",
       "      <th>direction_centre</th>\n",
       "      <th>direction_mariakerke</th>\n",
       "    </tr>\n",
       "  </thead>\n",
       "  <tbody>\n",
       "    <tr>\n",
       "      <th>count</th>\n",
       "      <td>191447.000000</td>\n",
       "      <td>191447.000000</td>\n",
       "    </tr>\n",
       "    <tr>\n",
       "      <th>mean</th>\n",
       "      <td>25.545237</td>\n",
       "      <td>25.338585</td>\n",
       "    </tr>\n",
       "    <tr>\n",
       "      <th>std</th>\n",
       "      <td>31.625619</td>\n",
       "      <td>26.903810</td>\n",
       "    </tr>\n",
       "    <tr>\n",
       "      <th>min</th>\n",
       "      <td>0.000000</td>\n",
       "      <td>0.000000</td>\n",
       "    </tr>\n",
       "    <tr>\n",
       "      <th>25%</th>\n",
       "      <td>5.000000</td>\n",
       "      <td>7.000000</td>\n",
       "    </tr>\n",
       "    <tr>\n",
       "      <th>50%</th>\n",
       "      <td>17.000000</td>\n",
       "      <td>17.000000</td>\n",
       "    </tr>\n",
       "    <tr>\n",
       "      <th>75%</th>\n",
       "      <td>34.000000</td>\n",
       "      <td>34.000000</td>\n",
       "    </tr>\n",
       "    <tr>\n",
       "      <th>max</th>\n",
       "      <td>361.000000</td>\n",
       "      <td>299.000000</td>\n",
       "    </tr>\n",
       "  </tbody>\n",
       "</table>\n",
       "</div>"
      ],
      "text/plain": [
       "       direction_centre  direction_mariakerke\n",
       "count     191447.000000         191447.000000\n",
       "mean          25.545237             25.338585\n",
       "std           31.625619             26.903810\n",
       "min            0.000000              0.000000\n",
       "25%            5.000000              7.000000\n",
       "50%           17.000000             17.000000\n",
       "75%           34.000000             34.000000\n",
       "max          361.000000            299.000000"
      ]
     },
     "execution_count": 22,
     "metadata": {},
     "output_type": "execute_result"
    }
   ],
   "source": [
    "df.describe()"
   ]
  },
  {
   "cell_type": "markdown",
   "metadata": {},
   "source": [
    "### Quiet periods"
   ]
  },
  {
   "cell_type": "markdown",
   "metadata": {},
   "source": [
    "<div class=\"alert alert-success\">\n",
    "\n",
    "<b>EXERCISE</b>:\n",
    "\n",
    " <ul>\n",
    "  <li>Create a new Series, <code>df_both</code> which contains the sum of the counts of both directions</li>\n",
    "</ul> \n",
    "\n",
    "<br>\n",
    "\n",
    "_Tip:_ check the purpose of the `axis` argument of the `sum` function\n",
    "\n",
    "</div>"
   ]
  },
  {
   "cell_type": "code",
   "execution_count": 23,
   "metadata": {
    "clear_cell": true
   },
   "outputs": [],
   "source": [
    "df_both = df.sum(axis=1)"
   ]
  },
  {
   "cell_type": "markdown",
   "metadata": {},
   "source": [
    "<div class=\"alert alert-success\">\n",
    "\n",
    "<b>EXERCISE</b>:\n",
    "\n",
    " <ul>\n",
    "  <li>Using the <code>df_both</code> from the previous exercise, create a new Series <code>df_quiet</code> which contains only those intervals for which less than 5 cyclists passed in both directions combined</li>\n",
    "</ul> \n",
    "\n",
    "</div>"
   ]
  },
  {
   "cell_type": "code",
   "execution_count": 24,
   "metadata": {
    "clear_cell": true
   },
   "outputs": [],
   "source": [
    "df_quiet = df_both[df_both < 5]"
   ]
  },
  {
   "cell_type": "markdown",
   "metadata": {},
   "source": [
    "<div class=\"alert alert-success\">\n",
    "\n",
    "<b>EXERCISE</b>:\n",
    "\n",
    " <ul>\n",
    "  <li>Using the original data, select only the intervals for which less than 3 cyclists passed in one or the other direction. Hence, less than 3 cyclists towards the centre or less than 3 cyclists towards Mariakerke.</li>\n",
    "</ul> \n",
    "\n",
    "</div>"
   ]
  },
  {
   "cell_type": "code",
   "execution_count": 25,
   "metadata": {
    "clear_cell": true,
    "run_control": {
     "frozen": false,
     "read_only": false
    }
   },
   "outputs": [
    {
     "data": {
      "text/html": [
       "<div>\n",
       "<style scoped>\n",
       "    .dataframe tbody tr th:only-of-type {\n",
       "        vertical-align: middle;\n",
       "    }\n",
       "\n",
       "    .dataframe tbody tr th {\n",
       "        vertical-align: top;\n",
       "    }\n",
       "\n",
       "    .dataframe thead th {\n",
       "        text-align: right;\n",
       "    }\n",
       "</style>\n",
       "<table border=\"1\" class=\"dataframe\">\n",
       "  <thead>\n",
       "    <tr style=\"text-align: right;\">\n",
       "      <th></th>\n",
       "      <th>direction_centre</th>\n",
       "      <th>direction_mariakerke</th>\n",
       "    </tr>\n",
       "  </thead>\n",
       "  <tbody>\n",
       "    <tr>\n",
       "      <th>2011-07-14 23:59:00</th>\n",
       "      <td>1</td>\n",
       "      <td>13</td>\n",
       "    </tr>\n",
       "    <tr>\n",
       "      <th>2011-07-15 00:14:00</th>\n",
       "      <td>2</td>\n",
       "      <td>3</td>\n",
       "    </tr>\n",
       "    <tr>\n",
       "      <th>2011-07-15 00:44:00</th>\n",
       "      <td>2</td>\n",
       "      <td>6</td>\n",
       "    </tr>\n",
       "    <tr>\n",
       "      <th>2011-07-15 00:59:00</th>\n",
       "      <td>0</td>\n",
       "      <td>4</td>\n",
       "    </tr>\n",
       "    <tr>\n",
       "      <th>2011-07-15 01:29:00</th>\n",
       "      <td>1</td>\n",
       "      <td>10</td>\n",
       "    </tr>\n",
       "    <tr>\n",
       "      <th>...</th>\n",
       "      <td>...</td>\n",
       "      <td>...</td>\n",
       "    </tr>\n",
       "    <tr>\n",
       "      <th>2017-01-18 06:09:00</th>\n",
       "      <td>2</td>\n",
       "      <td>2</td>\n",
       "    </tr>\n",
       "    <tr>\n",
       "      <th>2017-01-18 06:24:00</th>\n",
       "      <td>7</td>\n",
       "      <td>1</td>\n",
       "    </tr>\n",
       "    <tr>\n",
       "      <th>2017-01-18 06:39:00</th>\n",
       "      <td>2</td>\n",
       "      <td>2</td>\n",
       "    </tr>\n",
       "    <tr>\n",
       "      <th>2017-01-18 06:54:00</th>\n",
       "      <td>8</td>\n",
       "      <td>2</td>\n",
       "    </tr>\n",
       "    <tr>\n",
       "      <th>2017-01-18 07:09:00</th>\n",
       "      <td>9</td>\n",
       "      <td>2</td>\n",
       "    </tr>\n",
       "  </tbody>\n",
       "</table>\n",
       "<p>38007 rows × 2 columns</p>\n",
       "</div>"
      ],
      "text/plain": [
       "                     direction_centre  direction_mariakerke\n",
       "2011-07-14 23:59:00                 1                    13\n",
       "2011-07-15 00:14:00                 2                     3\n",
       "2011-07-15 00:44:00                 2                     6\n",
       "2011-07-15 00:59:00                 0                     4\n",
       "2011-07-15 01:29:00                 1                    10\n",
       "...                               ...                   ...\n",
       "2017-01-18 06:09:00                 2                     2\n",
       "2017-01-18 06:24:00                 7                     1\n",
       "2017-01-18 06:39:00                 2                     2\n",
       "2017-01-18 06:54:00                 8                     2\n",
       "2017-01-18 07:09:00                 9                     2\n",
       "\n",
       "[38007 rows x 2 columns]"
      ]
     },
     "execution_count": 25,
     "metadata": {},
     "output_type": "execute_result"
    }
   ],
   "source": [
    "df[(df['direction_centre'] < 3) | (df['direction_mariakerke'] < 3)]"
   ]
  },
  {
   "cell_type": "markdown",
   "metadata": {},
   "source": [
    "### Count statistics"
   ]
  },
  {
   "cell_type": "markdown",
   "metadata": {},
   "source": [
    "<div class=\"alert alert-success\">\n",
    "\n",
    "<b>EXERCISE</b>:\n",
    "\n",
    " <ul>\n",
    "  <li>What is the average number of bikers passing each 15 min?</li>\n",
    "</ul> \n",
    "\n",
    "</div>"
   ]
  },
  {
   "cell_type": "code",
   "execution_count": 26,
   "metadata": {
    "clear_cell": true,
    "run_control": {
     "frozen": false,
     "read_only": false
    }
   },
   "outputs": [
    {
     "data": {
      "text/plain": [
       "direction_centre        25.545237\n",
       "direction_mariakerke    25.338585\n",
       "dtype: float64"
      ]
     },
     "execution_count": 26,
     "metadata": {},
     "output_type": "execute_result"
    }
   ],
   "source": [
    "df.mean()"
   ]
  },
  {
   "cell_type": "markdown",
   "metadata": {},
   "source": [
    "<div class=\"alert alert-success\">\n",
    "\n",
    "<b>EXERCISE</b>:\n",
    "\n",
    " <ul>\n",
    "  <li>What is the average number of bikers passing each hour?</li>\n",
    "</ul> \n",
    "\n",
    "_Tip:_ you can use `resample` to first calculate the number of bikers passing each hour.\n",
    "\n",
    "</div>"
   ]
  },
  {
   "cell_type": "code",
   "execution_count": 27,
   "metadata": {
    "clear_cell": true,
    "run_control": {
     "frozen": false,
     "read_only": false
    }
   },
   "outputs": [
    {
     "data": {
      "text/plain": [
       "direction_centre        101.113548\n",
       "direction_mariakerke    100.295573\n",
       "dtype: float64"
      ]
     },
     "execution_count": 27,
     "metadata": {},
     "output_type": "execute_result"
    }
   ],
   "source": [
    "df.resample('H').sum().mean()"
   ]
  },
  {
   "cell_type": "markdown",
   "metadata": {},
   "source": [
    "<div class=\"alert alert-success\">\n",
    "\n",
    "<b>EXERCISE</b>:\n",
    "\n",
    " <ul>\n",
    "  <li>What are the 10 highest peak values observed during any of the intervals for the direction towards the centre of Ghent?</li>\n",
    "</ul> \n",
    "\n",
    "</div>"
   ]
  },
  {
   "cell_type": "code",
   "execution_count": 28,
   "metadata": {
    "clear_cell": true,
    "run_control": {
     "frozen": false,
     "read_only": false
    }
   },
   "outputs": [
    {
     "data": {
      "text/plain": [
       "2013-10-16 21:38:00    361\n",
       "2014-09-23 08:12:00    333\n",
       "2016-10-06 09:16:00    325\n",
       "2011-10-04 08:27:00    319\n",
       "2013-10-03 08:49:00    318\n",
       "2016-03-31 00:45:00    316\n",
       "2016-10-13 09:16:00    316\n",
       "2014-09-30 08:05:00    315\n",
       "2013-09-23 08:34:00    314\n",
       "2016-10-04 09:01:00    314\n",
       "Name: direction_centre, dtype: int64"
      ]
     },
     "execution_count": 28,
     "metadata": {},
     "output_type": "execute_result"
    }
   ],
   "source": [
    "df['direction_centre'].nlargest(10)\n",
    "# alternative:\n",
    "# df['direction_centre'].sort_values(ascending=False).head(10)"
   ]
  },
  {
   "cell_type": "markdown",
   "metadata": {},
   "source": [
    "<div class=\"alert alert-success\">\n",
    "\n",
    "<b>EXERCISE</b>:\n",
    "\n",
    " <ul>\n",
    "  <li>What is the maximum number of cyclist that passed on a single day calculated on both directions combined?</li>\n",
    "</ul> \n",
    "\n",
    "</div>"
   ]
  },
  {
   "cell_type": "code",
   "execution_count": 29,
   "metadata": {
    "clear_cell": true,
    "run_control": {
     "frozen": false,
     "read_only": false
    }
   },
   "outputs": [],
   "source": [
    "df_both = df.sum(axis=1)"
   ]
  },
  {
   "cell_type": "code",
   "execution_count": 30,
   "metadata": {
    "clear_cell": true,
    "run_control": {
     "frozen": false,
     "read_only": false
    }
   },
   "outputs": [],
   "source": [
    "df_daily = df_both.resample('D').sum()"
   ]
  },
  {
   "cell_type": "code",
   "execution_count": 31,
   "metadata": {
    "clear_cell": true,
    "run_control": {
     "frozen": false,
     "read_only": false
    }
   },
   "outputs": [
    {
     "data": {
      "text/plain": [
       "10770"
      ]
     },
     "execution_count": 31,
     "metadata": {},
     "output_type": "execute_result"
    }
   ],
   "source": [
    "df_daily.max()"
   ]
  },
  {
   "cell_type": "code",
   "execution_count": 32,
   "metadata": {
    "run_control": {
     "frozen": false,
     "read_only": false
    }
   },
   "outputs": [
    {
     "data": {
      "text/plain": [
       "2016-09-29    10770\n",
       "2016-09-28    10640\n",
       "2016-09-27    10394\n",
       "2014-11-05    10321\n",
       "2016-10-04    10295\n",
       "2012-10-30    10213\n",
       "2016-10-05    10179\n",
       "2016-10-06    10157\n",
       "2013-06-05    10041\n",
       "2016-10-13     9996\n",
       "dtype: int64"
      ]
     },
     "execution_count": 32,
     "metadata": {},
     "output_type": "execute_result"
    }
   ],
   "source": [
    "df_daily.nlargest(10)"
   ]
  },
  {
   "cell_type": "markdown",
   "metadata": {},
   "source": [
    "2013-06-05 was the first time more than 10,000 bikers passed on one day. Apparanlty, this was not just by coincidence... http://www.nieuwsblad.be/cnt/dmf20130605_022"
   ]
  },
  {
   "cell_type": "markdown",
   "metadata": {},
   "source": [
    "### Trends as function of time"
   ]
  },
  {
   "cell_type": "markdown",
   "metadata": {},
   "source": [
    "<div class=\"alert alert-success\">\n",
    "\n",
    "<b>EXERCISE</b>:\n",
    "\n",
    " <ul>\n",
    "  <li>How does the long-term trend look like? Calculate monthly sums and plot the result.</li>\n",
    "</ul> \n",
    "\n",
    "</div>"
   ]
  },
  {
   "cell_type": "code",
   "execution_count": 33,
   "metadata": {
    "clear_cell": true,
    "run_control": {
     "frozen": false,
     "read_only": false
    }
   },
   "outputs": [
    {
     "data": {
      "text/plain": [
       "<matplotlib.axes._subplots.AxesSubplot at 0x7f61ff179cd0>"
      ]
     },
     "execution_count": 33,
     "metadata": {},
     "output_type": "execute_result"
    },
    {
     "data": {
      "image/png": "[encoded data removed]",
      "text/plain": [
       "<Figure size 432x288 with 1 Axes>"
      ]
     },
     "metadata": {},
     "output_type": "display_data"
    }
   ],
   "source": [
    "df_monthly = df.resample('M').sum()\n",
    "df_monthly.plot()"
   ]
  },
  {
   "cell_type": "markdown",
   "metadata": {},
   "source": [
    "<div class=\"alert alert-success\">\n",
    "\n",
    "<b>EXERCISE</b>:\n",
    "\n",
    " <ul>\n",
    "  <li>Let's have a look at some short term patterns. For the data of the first 3 weeks of January 2014, calculate the hourly counts and visualize them.</li>\n",
    "</ul> \n",
    "\n",
    "</div>"
   ]
  },
  {
   "cell_type": "code",
   "execution_count": 34,
   "metadata": {
    "clear_cell": true,
    "run_control": {
     "frozen": false,
     "read_only": false
    }
   },
   "outputs": [],
   "source": [
    "df_hourly = df.resample('H').sum()"
   ]
  },
  {
   "cell_type": "code",
   "execution_count": 35,
   "metadata": {
    "clear_cell": true,
    "run_control": {
     "frozen": false,
     "read_only": false
    }
   },
   "outputs": [
    {
     "data": {
      "text/html": [
       "<div>\n",
       "<style scoped>\n",
       "    .dataframe tbody tr th:only-of-type {\n",
       "        vertical-align: middle;\n",
       "    }\n",
       "\n",
       "    .dataframe tbody tr th {\n",
       "        vertical-align: top;\n",
       "    }\n",
       "\n",
       "    .dataframe thead th {\n",
       "        text-align: right;\n",
       "    }\n",
       "</style>\n",
       "<table border=\"1\" class=\"dataframe\">\n",
       "  <thead>\n",
       "    <tr style=\"text-align: right;\">\n",
       "      <th></th>\n",
       "      <th>direction_centre</th>\n",
       "      <th>direction_mariakerke</th>\n",
       "    </tr>\n",
       "  </thead>\n",
       "  <tbody>\n",
       "    <tr>\n",
       "      <th>2011-07-14 17:00:00</th>\n",
       "      <td>38</td>\n",
       "      <td>106</td>\n",
       "    </tr>\n",
       "    <tr>\n",
       "      <th>2011-07-14 18:00:00</th>\n",
       "      <td>66</td>\n",
       "      <td>177</td>\n",
       "    </tr>\n",
       "    <tr>\n",
       "      <th>2011-07-14 19:00:00</th>\n",
       "      <td>62</td>\n",
       "      <td>92</td>\n",
       "    </tr>\n",
       "    <tr>\n",
       "      <th>2011-07-14 20:00:00</th>\n",
       "      <td>45</td>\n",
       "      <td>40</td>\n",
       "    </tr>\n",
       "    <tr>\n",
       "      <th>2011-07-14 21:00:00</th>\n",
       "      <td>28</td>\n",
       "      <td>30</td>\n",
       "    </tr>\n",
       "  </tbody>\n",
       "</table>\n",
       "</div>"
      ],
      "text/plain": [
       "                     direction_centre  direction_mariakerke\n",
       "2011-07-14 17:00:00                38                   106\n",
       "2011-07-14 18:00:00                66                   177\n",
       "2011-07-14 19:00:00                62                    92\n",
       "2011-07-14 20:00:00                45                    40\n",
       "2011-07-14 21:00:00                28                    30"
      ]
     },
     "execution_count": 35,
     "metadata": {},
     "output_type": "execute_result"
    }
   ],
   "source": [
    "df_hourly.head()"
   ]
  },
  {
   "cell_type": "code",
   "execution_count": 36,
   "metadata": {
    "clear_cell": true,
    "run_control": {
     "frozen": false,
     "read_only": false
    }
   },
   "outputs": [
    {
     "data": {
      "text/plain": [
       "<matplotlib.axes._subplots.AxesSubplot at 0x7f61fed60390>"
      ]
     },
     "execution_count": 36,
     "metadata": {},
     "output_type": "execute_result"
    },
    {
     "data": {
      "image/png": "[encoded data removed]",
      "text/plain": [
       "<Figure size 432x288 with 1 Axes>"
      ]
     },
     "metadata": {},
     "output_type": "display_data"
    }
   ],
   "source": [
    "df_hourly['2014-01-01':'2014-01-20'].plot()"
   ]
  },
  {
   "cell_type": "markdown",
   "metadata": {},
   "source": [
    "**New Year's Eve 2013-2014**"
   ]
  },
  {
   "cell_type": "markdown",
   "metadata": {},
   "source": [
    "<div class=\"alert alert-success\">\n",
    "\n",
    "<b>EXERCISE</b>:\n",
    "\n",
    " <ul>\n",
    "  <li>Select a subset of the data set from 2013-12-31 12:00:00 untill 2014-01-01 12:00:00, store as variable <code>newyear</code> and plot this subset</li>\n",
    "  <li>Use a <code>rolling</code> function (check documentation of the function!) to smooth the data of this period and make a plot of the smoothed version</li>\n",
    "</ul> \n",
    "\n",
    "</div>"
   ]
  },
  {
   "cell_type": "code",
   "execution_count": 37,
   "metadata": {
    "clear_cell": true,
    "run_control": {
     "frozen": false,
     "read_only": false
    }
   },
   "outputs": [],
   "source": [
    "newyear = df[\"2013-12-31 12:00:00\": \"2014-01-01 12:00:00\"]"
   ]
  },
  {
   "cell_type": "code",
   "execution_count": 38,
   "metadata": {
    "clear_cell": true,
    "run_control": {
     "frozen": false,
     "read_only": false
    }
   },
   "outputs": [
    {
     "data": {
      "text/plain": [
       "<matplotlib.axes._subplots.AxesSubplot at 0x7f61ff0b87d0>"
      ]
     },
     "execution_count": 38,
     "metadata": {},
     "output_type": "execute_result"
    },
    {
     "data": {
      "image/png": "[encoded data removed]",
      "text/plain": [
       "<Figure size 432x288 with 1 Axes>"
      ]
     },
     "metadata": {},
     "output_type": "display_data"
    }
   ],
   "source": [
    "newyear.plot()"
   ]
  },
  {
   "cell_type": "code",
   "execution_count": 39,
   "metadata": {
    "clear_cell": true,
    "run_control": {
     "frozen": false,
     "read_only": false
    }
   },
   "outputs": [
    {
     "data": {
      "text/plain": [
       "<matplotlib.axes._subplots.AxesSubplot at 0x7f61ff031750>"
      ]
     },
     "execution_count": 39,
     "metadata": {},
     "output_type": "execute_result"
    },
    {
     "data": {
      "image/png": "[encoded data removed]",
      "text/plain": [
       "<Figure size 432x288 with 1 Axes>"
      ]
     },
     "metadata": {},
     "output_type": "display_data"
    }
   ],
   "source": [
    "newyear.rolling(10, center=True).mean().plot(linewidth=2)"
   ]
  },
  {
   "cell_type": "markdown",
   "metadata": {},
   "source": [
    "A more advanced usage of matplotlib to create a combined plot:"
   ]
  },
  {
   "cell_type": "code",
   "execution_count": 40,
   "metadata": {
    "clear_cell": true,
    "run_control": {
     "frozen": false,
     "read_only": false
    }
   },
   "outputs": [
    {
     "data": {
      "text/plain": [
       "Text(0, 0.5, 'Cyclists count')"
      ]
     },
     "execution_count": 40,
     "metadata": {},
     "output_type": "execute_result"
    },
    {
     "data": {
      "image/png": "[encoded data removed]",
      "text/plain": [
       "<Figure size 432x288 with 1 Axes>"
      ]
     },
     "metadata": {},
     "output_type": "display_data"
    }
   ],
   "source": [
    "# A more in-detail plotting version of the graph.\n",
    "fig, ax = plt.subplots()\n",
    "newyear.plot(ax=ax, color=['LightGreen', 'LightBlue'], legend=False, rot=0)\n",
    "newyear.rolling(10, center=True).mean().plot(linewidth=2, ax=ax, color=['DarkGreen', 'DarkBlue'], rot=0)\n",
    "\n",
    "ax.set_xlabel('')\n",
    "ax.set_ylabel('Cyclists count')"
   ]
  },
  {
   "cell_type": "markdown",
   "metadata": {},
   "source": [
    "---\n",
    "\n",
    "## The power of `groupby`...\n",
    "\n",
    "Looking at the data in the above exercises, there seems to be clearly a:\n",
    "\n",
    "- daily pattern\n",
    "- weekly pattern\n",
    "- yearly pattern\n",
    "\n",
    "Such patterns can easily be calculated and visualized in pandas using the DatetimeIndex attributes `weekday` combined with `groupby` functionality. Below a taste of the possibilities, and we will learn about this in the proceeding notebooks:"
   ]
  },
  {
   "cell_type": "markdown",
   "metadata": {},
   "source": [
    "**Weekly pattern**:"
   ]
  },
  {
   "cell_type": "code",
   "execution_count": 41,
   "metadata": {
    "run_control": {
     "frozen": false,
     "read_only": false
    }
   },
   "outputs": [],
   "source": [
    "df_daily = df.resample('D').sum()"
   ]
  },
  {
   "cell_type": "code",
   "execution_count": 42,
   "metadata": {
    "run_control": {
     "frozen": false,
     "read_only": false
    },
    "scrolled": false
   },
   "outputs": [
    {
     "data": {
      "text/plain": [
       "<matplotlib.axes._subplots.AxesSubplot at 0x7f61fee93410>"
      ]
     },
     "execution_count": 42,
     "metadata": {},
     "output_type": "execute_result"
    },
    {
     "data": {
      "image/png": "[encoded data removed]",
      "text/plain": [
       "<Figure size 432x288 with 1 Axes>"
      ]
     },
     "metadata": {},
     "output_type": "display_data"
    }
   ],
   "source": [
    "df_daily.groupby(df_daily.index.weekday).mean().plot(kind='bar')"
   ]
  },
  {
   "cell_type": "markdown",
   "metadata": {},
   "source": [
    "**Daily pattern:**"
   ]
  },
  {
   "cell_type": "code",
   "execution_count": 43,
   "metadata": {
    "run_control": {
     "frozen": false,
     "read_only": false
    }
   },
   "outputs": [
    {
     "data": {
      "text/plain": [
       "<matplotlib.axes._subplots.AxesSubplot at 0x7f61fee629d0>"
      ]
     },
     "execution_count": 43,
     "metadata": {},
     "output_type": "execute_result"
    },
    {
     "data": {
      "image/png": "[encoded data removed]",
      "text/plain": [
       "<Figure size 432x288 with 1 Axes>"
      ]
     },
     "metadata": {},
     "output_type": "display_data"
    }
   ],
   "source": [
    "df_hourly.groupby(df_hourly.index.hour).mean().plot()"
   ]
  },
  {
   "cell_type": "markdown",
   "metadata": {},
   "source": [
    "So the daily pattern is clearly different for both directions. In the morning more people go north, in the evening more people go south. The morning peak is also more condensed."
   ]
  },
  {
   "cell_type": "markdown",
   "metadata": {},
   "source": [
    "**Monthly pattern**"
   ]
  },
  {
   "cell_type": "code",
   "execution_count": 44,
   "metadata": {
    "run_control": {
     "frozen": false,
     "read_only": false
    }
   },
   "outputs": [],
   "source": [
    "df_monthly = df.resample('M').sum()"
   ]
  },
  {
   "cell_type": "code",
   "execution_count": 45,
   "metadata": {
    "run_control": {
     "frozen": false,
     "read_only": false
    }
   },
   "outputs": [],
   "source": [
    "from calendar import month_abbr "
   ]
  },
  {
   "cell_type": "code",
   "execution_count": 46,
   "metadata": {
    "run_control": {
     "frozen": false,
     "read_only": false
    }
   },
   "outputs": [
    {
     "data": {
      "image/png": "[encoded data removed]",
      "text/plain": [
       "<Figure size 432x288 with 1 Axes>"
      ]
     },
     "metadata": {},
     "output_type": "display_data"
    }
   ],
   "source": [
    "ax = df_monthly.groupby(df_monthly.index.month).mean().plot()\n",
    "ax.set_ylim(0)\n",
    "xlabels = ax.set_xticklabels(list(month_abbr)[0::2]) #too lazy to write the month values yourself..."
   ]
  },
  {
   "cell_type": "markdown",
   "metadata": {
    "run_control": {
     "frozen": false,
     "read_only": false
    }
   },
   "source": [
    "## Acknowledgements\n",
    "Thanks to the [city of Ghent](https://data.stad.gent/) for opening their data"
   ]
  }
 ],
 "metadata": {
  "kernelspec": {
   "display_name": "Python 3",
   "language": "python",
   "name": "python3"
  },
  "language_info": {
   "codemirror_mode": {
    "name": "ipython",
    "version": 3
   },
   "file_extension": ".py",
   "mimetype": "text/x-python",
   "name": "python",
   "nbconvert_exporter": "python",
   "pygments_lexer": "ipython3",
   "version": "3.7.5"
  },
  "nav_menu": {},
  "toc": {
   "navigate_menu": true,
   "number_sections": false,
   "sideBar": true,
   "threshold": 6,
   "toc_cell": false,
   "toc_section_display": "block",
   "toc_window_display": true
  }
 },
 "nbformat": 4,
 "nbformat_minor": 4
}
