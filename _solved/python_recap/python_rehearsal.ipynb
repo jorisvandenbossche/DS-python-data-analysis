{
 "cells": [
  {
   "cell_type": "markdown",
   "metadata": {},
   "source": [
    "<p><font size=\"6\"><b> Python rehearsal</b></font></p>\n",
    "\n",
    "\n",
    "> *DS Data manipulation, analysis and visualisation in Python*  \n",
    "> *December, 2019*\n",
    "\n",
    "> *© 2016, Joris Van den Bossche and Stijn Van Hoey  (<mailto:jorisvandenbossche@gmail.com>, <mailto:stijnvanhoey@gmail.com>). Licensed under [CC BY 4.0 Creative Commons](http://creativecommons.org/licenses/by/4.0/)*\n",
    "\n",
    "---"
   ]
  },
  {
   "cell_type": "markdown",
   "metadata": {},
   "source": [
    "## I measure air pressure"
   ]
  },
  {
   "cell_type": "code",
   "execution_count": 17,
   "metadata": {},
   "outputs": [],
   "source": [
    "pressure_hPa = 1010 # hPa"
   ]
  },
  {
   "cell_type": "markdown",
   "metadata": {},
   "source": [
    "<div class=\"alert alert-info\">\n",
    "    <b>REMEMBER</b>: Use meaningful variable names\n",
    "</div>"
   ]
  },
  {
   "cell_type": "markdown",
   "metadata": {},
   "source": [
    "I'm measuring at sea level, what would be the air pressure of this measured value on other altitudes?"
   ]
  },
  {
   "cell_type": "markdown",
   "metadata": {},
   "source": [
    "## I'm curious what the equivalent pressure would be on other alitudes..."
   ]
  },
  {
   "cell_type": "markdown",
   "metadata": {},
   "source": [
    "The **barometric formula**, sometimes called the exponential atmosphere or isothermal atmosphere, is a formula used to model how the **pressure** (or density) of the air **changes with altitude**. The pressure drops approximately by 11.3 Pa per meter in first 1000 meters above sea level.\n",
    "\n",
    "$$P=P_0 \\cdot \\exp \\left[\\frac{-g \\cdot M \\cdot h}{R \\cdot T}\\right]$$\n",
    "\n",
    "see https://www.math24.net/barometric-formula/ or https://en.wikipedia.org/wiki/Atmospheric_pressure"
   ]
  },
  {
   "cell_type": "markdown",
   "metadata": {},
   "source": [
    "where:\n",
    "* $T$ = standard temperature, 288.15 (K)\n",
    "* $R$ = universal gas constant, 8.3144598, (J/mol/K)\n",
    "* $g$ = gravitational acceleration, 9.81 (m/s$^2$)\n",
    "* $M$ = molar mass of Earth's air, 0.02896 (kg/mol)\n",
    "\n",
    "and:\n",
    "* $P_0$ = sea level pressure (hPa)\n",
    "* $h$ = height above sea level (m)"
   ]
  },
  {
   "cell_type": "markdown",
   "metadata": {},
   "source": [
    "Let's implement this..."
   ]
  },
  {
   "cell_type": "markdown",
   "metadata": {},
   "source": [
    "To calculate the formula, I need the exponential operator. Pure Python provide a number of mathematical functions, e.g. https://docs.python.org/3.7/library/math.html#math.exp within the `math` library"
   ]
  },
  {
   "cell_type": "code",
   "execution_count": 18,
   "metadata": {},
   "outputs": [],
   "source": [
    "import math"
   ]
  },
  {
   "cell_type": "code",
   "execution_count": 19,
   "metadata": {},
   "outputs": [],
   "source": [
    "# ...modules and libraries..."
   ]
  },
  {
   "cell_type": "markdown",
   "metadata": {},
   "source": [
    "<div class=\"alert alert-danger\">\n",
    "    <b>DON'T</b>: <code>from os import *</code>. Just don't!\n",
    "</div>"
   ]
  },
  {
   "cell_type": "code",
   "execution_count": 20,
   "metadata": {},
   "outputs": [],
   "source": [
    "standard_temperature = 288.15\n",
    "gas_constant = 8.31446\n",
    "gravit_acc = 9.81\n",
    "molar_mass_earth = 0.02896"
   ]
  },
  {
   "cell_type": "markdown",
   "metadata": {},
   "source": [
    "<div class=\"alert alert-success\">\n",
    "    <b>EXERCISE</b>: \n",
    "        <ul>\n",
    "          <li>Calculate the equivalent air pressure at the altitude of 2500 m above sea level for our measured value of <code>pressure_hPa</code> (1010 hPa)</li>\n",
    "    </ul> \n",
    "</div>"
   ]
  },
  {
   "cell_type": "code",
   "execution_count": 21,
   "metadata": {
    "clear_cell": true
   },
   "outputs": [
    {
     "data": {
      "text/plain": [
       "750.885560345225"
      ]
     },
     "execution_count": 21,
     "metadata": {},
     "output_type": "execute_result"
    }
   ],
   "source": [
    "height = 2500\n",
    "pressure_hPa * math.exp(-gravit_acc * molar_mass_earth* height/(gas_constant*standard_temperature))"
   ]
  },
  {
   "cell_type": "code",
   "execution_count": 22,
   "metadata": {},
   "outputs": [],
   "source": [
    "# ...function/definition for barometric_formula... "
   ]
  },
  {
   "cell_type": "code",
   "execution_count": 23,
   "metadata": {
    "clear_cell": true
   },
   "outputs": [],
   "source": [
    "def barometric_formula(pressure_sea_level, height=2500):\n",
    "    \"\"\"Apply barometric formula\n",
    "    \n",
    "    Apply the barometric formula to calculate the air pressure on a given height\n",
    "    \n",
    "    Parameters\n",
    "    ----------\n",
    "    pressure_sea_level : float\n",
    "        pressure, measured as sea level\n",
    "    height : float\n",
    "        height above sea level (m)\n",
    "    \n",
    "    Notes\n",
    "    ------\n",
    "    see https://www.math24.net/barometric-formula/ or \n",
    "    https://en.wikipedia.org/wiki/Atmospheric_pressure\n",
    "    \"\"\"\n",
    "    standard_temperature = 288.15\n",
    "    gas_constant = 8.3144598\n",
    "    gravit_acc = 9.81\n",
    "    molar_mass_earth = 0.02896\n",
    "    \n",
    "    pressure_altitude = pressure_sea_level * math.exp(-gravit_acc * molar_mass_earth* height/(gas_constant*standard_temperature))\n",
    "    return pressure_altitude"
   ]
  },
  {
   "cell_type": "code",
   "execution_count": 24,
   "metadata": {},
   "outputs": [
    {
     "data": {
      "text/plain": [
       "796.752205935891"
      ]
     },
     "execution_count": 24,
     "metadata": {},
     "output_type": "execute_result"
    }
   ],
   "source": [
    "barometric_formula(pressure_hPa, 2000)"
   ]
  },
  {
   "cell_type": "code",
   "execution_count": 25,
   "metadata": {},
   "outputs": [
    {
     "data": {
      "text/plain": [
       "750.8855549906549"
      ]
     },
     "execution_count": 25,
     "metadata": {},
     "output_type": "execute_result"
    }
   ],
   "source": [
    "barometric_formula(pressure_hPa)"
   ]
  },
  {
   "cell_type": "code",
   "execution_count": 26,
   "metadata": {},
   "outputs": [],
   "source": [
    "# ...formula not valid above 11000m... \n",
    "# barometric_formula(pressure_hPa, 12000)"
   ]
  },
  {
   "cell_type": "code",
   "execution_count": 27,
   "metadata": {
    "clear_cell": true
   },
   "outputs": [],
   "source": [
    "def barometric_formula(pressure_sea_level, height=2500):\n",
    "    \"\"\"Apply barometric formula\n",
    "    \n",
    "    Apply the barometric formula to calculate the air pressure on a given height\n",
    "    \n",
    "    Parameters\n",
    "    ----------\n",
    "    pressure_sea_level : float\n",
    "        pressure, measured as sea level\n",
    "    height : float\n",
    "        height above sea level (m)\n",
    "    \n",
    "    Notes\n",
    "    ------\n",
    "    see https://www.math24.net/barometric-formula/ or \n",
    "    https://en.wikipedia.org/wiki/Atmospheric_pressure\n",
    "    \"\"\"\n",
    "    if height > 11000:\n",
    "        raise Exception(\"Barometric formula only valid for heights lower than 11000m above sea level\")\n",
    "    \n",
    "    standard_temperature = 288.15\n",
    "    gas_constant = 8.3144598\n",
    "    gravit_acc = 9.81\n",
    "    molar_mass_earth = 0.02896\n",
    "    \n",
    "    pressure_altitude = pressure_sea_level * math.exp(-gravit_acc * molar_mass_earth* height/(gas_constant*standard_temperature))\n",
    "    return pressure_altitude"
   ]
  },
  {
   "cell_type": "code",
   "execution_count": 28,
   "metadata": {},
   "outputs": [],
   "source": [
    "# ...combining logical statements... "
   ]
  },
  {
   "cell_type": "code",
   "execution_count": 29,
   "metadata": {},
   "outputs": [
    {
     "data": {
      "text/plain": [
       "True"
      ]
     },
     "execution_count": 29,
     "metadata": {},
     "output_type": "execute_result"
    }
   ],
   "source": [
    "height > 11000 or pressure_hPa < 9000"
   ]
  },
  {
   "cell_type": "code",
   "execution_count": 30,
   "metadata": {},
   "outputs": [],
   "source": [
    "# ...load function from file..."
   ]
  },
  {
   "cell_type": "markdown",
   "metadata": {},
   "source": [
    "Instead of having the functions in a notebook, importing the function from a file can be done as importing a function from an installed package. Save the function `barometric_formula` in a file called `barometric_formula.py` and add the required import statement `import math` on top of the file. Next, run the following cell:"
   ]
  },
  {
   "cell_type": "code",
   "execution_count": 3,
   "metadata": {
    "clear_cell": false
   },
   "outputs": [],
   "source": [
    "from barometric_formula import barometric_formula"
   ]
  },
  {
   "cell_type": "markdown",
   "metadata": {},
   "source": [
    "<div class=\"alert alert-info\">\n",
    "    <b>REMEMBER</b>: \n",
    "     <ul>\n",
    "      <li>Write functions to prevent copy-pasting of code and maximize reuse</li>\n",
    "      <li>Add documentation to functions for your future self</li>\n",
    "      <li>Named arguments provide default values</li>\n",
    "      <li>Import functions from a file just as other modules</li>\n",
    "    </ul> \n",
    "    \n",
    "</div>"
   ]
  },
  {
   "cell_type": "markdown",
   "metadata": {},
   "source": [
    "## I measure air pressure multiple times"
   ]
  },
  {
   "cell_type": "markdown",
   "metadata": {},
   "source": [
    "We can store these in a Python [list](https://docs.python.org/3/tutorial/introduction.html#lists):"
   ]
  },
  {
   "cell_type": "code",
   "execution_count": 31,
   "metadata": {},
   "outputs": [],
   "source": [
    "pressures_hPa = [1013, 1003, 1010, 1020, 1032, 993, 989, 1018, 889, 1001]"
   ]
  },
  {
   "cell_type": "code",
   "execution_count": 32,
   "metadata": {},
   "outputs": [],
   "source": [
    "# ...check methods of lists... append vs insert"
   ]
  },
  {
   "cell_type": "markdown",
   "metadata": {},
   "source": [
    "<div class=\"alert alert-warning\">\n",
    "    <b>Notice</b>: \n",
    "        <ul>\n",
    "          <li>A list is a general container, so can exist of mixed data types as well.</li>\n",
    "    </ul> \n",
    "</div>"
   ]
  },
  {
   "cell_type": "code",
   "execution_count": 34,
   "metadata": {},
   "outputs": [],
   "source": [
    "# ...list is a container..."
   ]
  },
  {
   "cell_type": "markdown",
   "metadata": {},
   "source": [
    "### I want to apply my function to each of these measurements"
   ]
  },
  {
   "cell_type": "markdown",
   "metadata": {},
   "source": [
    "I want to calculate the barometric formula **for** each of these measured values."
   ]
  },
  {
   "cell_type": "code",
   "execution_count": 35,
   "metadata": {},
   "outputs": [],
   "source": [
    "# ...for loop... dummy example"
   ]
  },
  {
   "cell_type": "markdown",
   "metadata": {},
   "source": [
    "<div class=\"alert alert-success\">\n",
    "    <b>EXERCISE</b>: \n",
    "        <ul>\n",
    "          <li>Write a <code>for</code> loop that prints the adjusted value for altitude 3000m for each of the pressures in <code>pressures_hPa</code> </li>\n",
    "    </ul> \n",
    "</div>"
   ]
  },
  {
   "cell_type": "code",
   "execution_count": 36,
   "metadata": {
    "clear_cell": true
   },
   "outputs": [
    {
     "name": "stdout",
     "output_type": "stream",
     "text": [
      "709.761268850131\n",
      "702.7547410233775\n",
      "707.659310502105\n",
      "714.6658383288585\n",
      "723.0736717209627\n",
      "695.748213196624\n",
      "692.9456020659226\n",
      "713.2645327635078\n",
      "622.8803237983875\n",
      "701.3534354580269\n"
     ]
    }
   ],
   "source": [
    "for pressure in pressures_hPa:\n",
    "    print(barometric_formula(pressure, 3000))"
   ]
  },
  {
   "cell_type": "code",
   "execution_count": 37,
   "metadata": {},
   "outputs": [],
   "source": [
    "# ...list comprehensions..."
   ]
  },
  {
   "cell_type": "markdown",
   "metadata": {},
   "source": [
    "<div class=\"alert alert-success\">\n",
    "    <b>EXERCISE</b>: \n",
    "        <ul>\n",
    "          <li>Write a <code>for</code> loop as a list comprehension to calculate the adjusted value for altitude 3000m for each of the pressures in <code>pressures_hPa</code> and store these values in a new variable <code>pressures_hPa_adjusted</code></li>\n",
    "    </ul> \n",
    "</div>"
   ]
  },
  {
   "cell_type": "code",
   "execution_count": 38,
   "metadata": {
    "clear_cell": true
   },
   "outputs": [
    {
     "data": {
      "text/plain": [
       "[709.761268850131,\n",
       " 702.7547410233775,\n",
       " 707.659310502105,\n",
       " 714.6658383288585,\n",
       " 723.0736717209627,\n",
       " 695.748213196624,\n",
       " 692.9456020659226,\n",
       " 713.2645327635078,\n",
       " 622.8803237983875,\n",
       " 701.3534354580269]"
      ]
     },
     "execution_count": 38,
     "metadata": {},
     "output_type": "execute_result"
    }
   ],
   "source": [
    "pressures_hPa_adjusted = [barometric_formula(pressure, 3000) for pressure in pressures_hPa]\n",
    "pressures_hPa_adjusted"
   ]
  },
  {
   "cell_type": "markdown",
   "metadata": {},
   "source": [
    "### The power of numpy"
   ]
  },
  {
   "cell_type": "code",
   "execution_count": 39,
   "metadata": {},
   "outputs": [],
   "source": [
    "import numpy as np"
   ]
  },
  {
   "cell_type": "code",
   "execution_count": 40,
   "metadata": {},
   "outputs": [],
   "source": [
    "pressures_hPa = [1013, 1003, 1010, 1020, 1032, 993, 989, 1018, 889, 1001]"
   ]
  },
  {
   "cell_type": "code",
   "execution_count": 41,
   "metadata": {},
   "outputs": [],
   "source": [
    "np_pressures_hPa = np.array([1013, 1003, 1010, 1020, 1032, 993, 989, 1018, 889, 1001])"
   ]
  },
  {
   "cell_type": "code",
   "execution_count": 42,
   "metadata": {},
   "outputs": [],
   "source": [
    "# ...slicing/subselecting is similar..."
   ]
  },
  {
   "cell_type": "code",
   "execution_count": 43,
   "metadata": {},
   "outputs": [
    {
     "name": "stdout",
     "output_type": "stream",
     "text": [
      "1013 1013\n"
     ]
    }
   ],
   "source": [
    "print(np_pressures_hPa[0], pressures_hPa[0])"
   ]
  },
  {
   "cell_type": "code",
   "execution_count": null,
   "metadata": {},
   "outputs": [],
   "source": []
  },
  {
   "cell_type": "markdown",
   "metadata": {},
   "source": [
    "<div class=\"alert alert-info\">\n",
    "    <b>REMEMBER</b>: \n",
    "    <ul>\n",
    "        <li> <code>[]</code> for accessing elements\n",
    "        <li> <code>[start:end:step]</code>\n",
    "    </ul>\n",
    "</div>"
   ]
  },
  {
   "cell_type": "code",
   "execution_count": 48,
   "metadata": {},
   "outputs": [],
   "source": [
    "# ...original function using numpy array instead of list... do both"
   ]
  },
  {
   "cell_type": "code",
   "execution_count": 49,
   "metadata": {
    "clear_cell": true
   },
   "outputs": [
    {
     "data": {
      "text/plain": [
       "array([753.11591349, 745.681403  , 750.88556035, 758.32007084,\n",
       "       767.24148344, 738.2468925 , 735.2730883 , 756.83316874,\n",
       "       660.92798331, 744.1945009 ])"
      ]
     },
     "execution_count": 49,
     "metadata": {},
     "output_type": "execute_result"
    }
   ],
   "source": [
    "np_pressures_hPa * math.exp(-gravit_acc * molar_mass_earth* height/(gas_constant*standard_temperature))"
   ]
  },
  {
   "cell_type": "markdown",
   "metadata": {},
   "source": [
    "<div class=\"alert alert-info\">\n",
    "    <b>REMEMBER</b>: The operations do work on all elements of the array at the same time, you don't need a <strike>`for` loop<strike>\n",
    "</div>"
   ]
  },
  {
   "cell_type": "markdown",
   "metadata": {},
   "source": [
    "It is also a matter of **calculation speed**:"
   ]
  },
  {
   "cell_type": "code",
   "execution_count": 50,
   "metadata": {},
   "outputs": [],
   "source": [
    "lots_of_pressures = np.random.uniform(990, 1040, 1000)"
   ]
  },
  {
   "cell_type": "code",
   "execution_count": 51,
   "metadata": {},
   "outputs": [
    {
     "name": "stdout",
     "output_type": "stream",
     "text": [
      "510 µs ± 3.14 µs per loop (mean ± std. dev. of 7 runs, 1000 loops each)\n"
     ]
    }
   ],
   "source": [
    "%timeit [barometric_formula(pressure, 3000) for pressure in list(lots_of_pressures)]"
   ]
  },
  {
   "cell_type": "code",
   "execution_count": 52,
   "metadata": {},
   "outputs": [
    {
     "name": "stdout",
     "output_type": "stream",
     "text": [
      "2.91 µs ± 65 ns per loop (mean ± std. dev. of 7 runs, 100000 loops each)\n"
     ]
    }
   ],
   "source": [
    "%timeit lots_of_pressures * np.exp(-gravit_acc * molar_mass_earth* height/(gas_constant*standard_temperature))"
   ]
  },
  {
   "cell_type": "markdown",
   "metadata": {},
   "source": [
    "<div class=\"alert alert-info\">\n",
    "    <b>REMEMBER</b>: for calculations, numpy outperforms python\n",
    "</div>"
   ]
  },
  {
   "cell_type": "markdown",
   "metadata": {},
   "source": [
    "### Boolean indexing and filtering (!)"
   ]
  },
  {
   "cell_type": "code",
   "execution_count": 53,
   "metadata": {},
   "outputs": [
    {
     "data": {
      "text/plain": [
       "array([1013, 1003, 1010, 1020, 1032,  993,  989, 1018,  889, 1001])"
      ]
     },
     "execution_count": 53,
     "metadata": {},
     "output_type": "execute_result"
    }
   ],
   "source": [
    "np_pressures_hPa"
   ]
  },
  {
   "cell_type": "code",
   "execution_count": 54,
   "metadata": {},
   "outputs": [
    {
     "data": {
      "text/plain": [
       "array([ True,  True,  True,  True,  True, False, False,  True, False,\n",
       "        True])"
      ]
     },
     "execution_count": 54,
     "metadata": {},
     "output_type": "execute_result"
    }
   ],
   "source": [
    "np_pressures_hPa > 1000"
   ]
  },
  {
   "cell_type": "markdown",
   "metadata": {},
   "source": [
    "You can use this as a filter to select elements of an array:"
   ]
  },
  {
   "cell_type": "code",
   "execution_count": 55,
   "metadata": {},
   "outputs": [
    {
     "data": {
      "text/plain": [
       "array([1013, 1003, 1010, 1020, 1032, 1018, 1001])"
      ]
     },
     "execution_count": 55,
     "metadata": {},
     "output_type": "execute_result"
    }
   ],
   "source": [
    "boolean_mask = np_pressures_hPa > 1000\n",
    "np_pressures_hPa[boolean_mask]"
   ]
  },
  {
   "cell_type": "markdown",
   "metadata": {},
   "source": [
    "or, also to change the values in the array corresponding to these conditions:"
   ]
  },
  {
   "cell_type": "code",
   "execution_count": 56,
   "metadata": {},
   "outputs": [
    {
     "data": {
      "text/plain": [
       "array([1013, 1003, 1010, 1020, 1032,  993,  989, 1018,  900, 1001])"
      ]
     },
     "execution_count": 56,
     "metadata": {},
     "output_type": "execute_result"
    }
   ],
   "source": [
    "boolean_mask = np_pressures_hPa < 900\n",
    "np_pressures_hPa[boolean_mask] = 900\n",
    "np_pressures_hPa"
   ]
  },
  {
   "cell_type": "markdown",
   "metadata": {},
   "source": [
    "**Intermezzo:** Exercises boolean indexing:"
   ]
  },
  {
   "cell_type": "code",
   "execution_count": 57,
   "metadata": {},
   "outputs": [
    {
     "data": {
      "text/plain": [
       "array([ 6, 14, 14,  4, 12, 11,  4, 19, 15, 14,  3,  5, 17, 17,  8])"
      ]
     },
     "execution_count": 57,
     "metadata": {},
     "output_type": "execute_result"
    }
   ],
   "source": [
    "AR = np.random.randint(0, 20, 15)\n",
    "AR"
   ]
  },
  {
   "cell_type": "markdown",
   "metadata": {},
   "source": [
    "<div class=\"alert alert-success\">\n",
    "    <b>EXERCISE</b>: Count the number of values in AR that are larger than 10 \n",
    "    \n",
    "_Tip:_ You can count with True = 1 and False = 0 and take the sum of these values\n",
    "</div>"
   ]
  },
  {
   "cell_type": "code",
   "execution_count": 58,
   "metadata": {
    "clear_cell": true
   },
   "outputs": [
    {
     "data": {
      "text/plain": [
       "9"
      ]
     },
     "execution_count": 58,
     "metadata": {},
     "output_type": "execute_result"
    }
   ],
   "source": [
    "sum(AR > 10)"
   ]
  },
  {
   "cell_type": "markdown",
   "metadata": {},
   "source": [
    "<div class=\"alert alert-success\">\n",
    "    <b>EXERCISE</b>: Change all even numbers of `AR` into zero-values.\n",
    "</div>"
   ]
  },
  {
   "cell_type": "code",
   "execution_count": 59,
   "metadata": {
    "clear_cell": true
   },
   "outputs": [
    {
     "data": {
      "text/plain": [
       "array([ 0,  0,  0,  0,  0, 11,  0, 19, 15,  0,  3,  5, 17, 17,  0])"
      ]
     },
     "execution_count": 59,
     "metadata": {},
     "output_type": "execute_result"
    }
   ],
   "source": [
    "AR[AR%2 == 0] = 0\n",
    "AR"
   ]
  },
  {
   "cell_type": "markdown",
   "metadata": {},
   "source": [
    "<div class=\"alert alert-success\">\n",
    "    <b>EXERCISE</b>: Change all even positions of matrix AR into the value 30\n",
    "</div>"
   ]
  },
  {
   "cell_type": "code",
   "execution_count": 60,
   "metadata": {
    "clear_cell": true
   },
   "outputs": [
    {
     "data": {
      "text/plain": [
       "array([ 0, 30,  0, 30,  0, 30,  0, 30, 15, 30,  3, 30, 17, 30,  0])"
      ]
     },
     "execution_count": 60,
     "metadata": {},
     "output_type": "execute_result"
    }
   ],
   "source": [
    "AR[1::2] = 30\n",
    "AR"
   ]
  },
  {
   "cell_type": "markdown",
   "metadata": {},
   "source": [
    "<div class=\"alert alert-success\">\n",
    "    <b>EXERCISE</b>: Select all values above the 75th percentile of the following array AR2 ad take the square root of these values\n",
    "    \n",
    "_Tip_: numpy provides a function `percentile` to calculate a given percentile\n",
    "</div>"
   ]
  },
  {
   "cell_type": "code",
   "execution_count": 61,
   "metadata": {
    "clear_cell": false
   },
   "outputs": [
    {
     "data": {
      "text/plain": [
       "array([0.43809786, 0.0854234 , 0.94759354, 0.47935186, 0.6412736 ,\n",
       "       0.57084005, 0.32161626, 0.81288202, 0.44000385, 0.08868051])"
      ]
     },
     "execution_count": 61,
     "metadata": {},
     "output_type": "execute_result"
    }
   ],
   "source": [
    "AR2 = np.random.random(10)\n",
    "AR2"
   ]
  },
  {
   "cell_type": "code",
   "execution_count": 62,
   "metadata": {
    "clear_cell": true
   },
   "outputs": [
    {
     "data": {
      "text/plain": [
       "array([0.97344416, 0.8007956 , 0.9015997 ])"
      ]
     },
     "execution_count": 62,
     "metadata": {},
     "output_type": "execute_result"
    }
   ],
   "source": [
    "np.sqrt(AR2[AR2 > np.percentile(AR2, 75)])"
   ]
  },
  {
   "cell_type": "markdown",
   "metadata": {},
   "source": [
    "<div class=\"alert alert-success\">\n",
    "    <b>EXERCISE</b>: Convert all values -99 of the array AR3 into Nan-values \n",
    "\n",
    "_Tip_: that Nan values can be provided in float arrays as `np.nan` and that numpy provides a specialized function to compare float values, i.e. `np.isclose()`\n",
    "</div>"
   ]
  },
  {
   "cell_type": "code",
   "execution_count": 63,
   "metadata": {},
   "outputs": [],
   "source": [
    "AR3 = np.array([-99., 2., 3., 6., 8, -99., 7., 5., 6., -99.])"
   ]
  },
  {
   "cell_type": "code",
   "execution_count": 64,
   "metadata": {
    "clear_cell": true
   },
   "outputs": [
    {
     "data": {
      "text/plain": [
       "array([nan,  2.,  3.,  6.,  8., nan,  7.,  5.,  6., nan])"
      ]
     },
     "execution_count": 64,
     "metadata": {},
     "output_type": "execute_result"
    }
   ],
   "source": [
    "AR3[np.isclose(AR3, -99)] = np.nan\n",
    "AR3"
   ]
  },
  {
   "cell_type": "markdown",
   "metadata": {},
   "source": [
    "## I also have measurement locations"
   ]
  },
  {
   "cell_type": "code",
   "execution_count": 65,
   "metadata": {},
   "outputs": [],
   "source": [
    "location = 'Ghent - Sterre'"
   ]
  },
  {
   "cell_type": "code",
   "execution_count": 66,
   "metadata": {},
   "outputs": [],
   "source": [
    "# ...check methods of strings... split, upper,..."
   ]
  },
  {
   "cell_type": "code",
   "execution_count": null,
   "metadata": {},
   "outputs": [],
   "source": []
  },
  {
   "cell_type": "code",
   "execution_count": 67,
   "metadata": {},
   "outputs": [],
   "source": [
    "locations = ['Ghent - Sterre', 'Ghent - Coupure', 'Ghent - Blandijn', \n",
    "             'Ghent - Korenlei', 'Ghent - Kouter', 'Ghent - Coupure',\n",
    "             'Antwerp - Groenplaats', 'Brussels- Grand place', \n",
    "             'Antwerp - Justitipaleis', 'Brussels - Tour & taxis']"
   ]
  },
  {
   "cell_type": "markdown",
   "metadata": {},
   "source": [
    "<div class=\"alert alert alert-success\">\n",
    "    <b>EXERCISE</b>: Use a list comprehension to convert all locations to lower case.\n",
    "    \n",
    "_Tip:_ check the available methods of lists by writing: `location.` + TAB button\n",
    "</div>"
   ]
  },
  {
   "cell_type": "code",
   "execution_count": 68,
   "metadata": {
    "clear_cell": true
   },
   "outputs": [
    {
     "data": {
      "text/plain": [
       "['ghent - sterre',\n",
       " 'ghent - coupure',\n",
       " 'ghent - blandijn',\n",
       " 'ghent - korenlei',\n",
       " 'ghent - kouter',\n",
       " 'ghent - coupure',\n",
       " 'antwerp - groenplaats',\n",
       " 'brussels- grand place',\n",
       " 'antwerp - justitipaleis',\n",
       " 'brussels - tour & taxis']"
      ]
     },
     "execution_count": 68,
     "metadata": {},
     "output_type": "execute_result"
    }
   ],
   "source": [
    "[location.lower() for location in locations]"
   ]
  },
  {
   "cell_type": "markdown",
   "metadata": {},
   "source": [
    "## I also measure temperature"
   ]
  },
  {
   "cell_type": "code",
   "execution_count": 69,
   "metadata": {},
   "outputs": [],
   "source": [
    "pressures_hPa = [1013, 1003, 1010, 1020, 1032, 993, 989, 1018, 889, 1001]\n",
    "temperature_degree = [23, 20, 17, 8, 12, 5, 16, 22, -2, 16]\n",
    "locations = ['Ghent - Sterre', 'Ghent - Coupure', 'Ghent - Blandijn', \n",
    "             'Ghent - Korenlei', 'Ghent - Kouter', 'Ghent - Coupure',\n",
    "             'Antwerp - Groenplaats', 'Brussels- Grand place', \n",
    "             'Antwerp - Justitipaleis', 'Brussels - Tour & taxis']"
   ]
  },
  {
   "cell_type": "markdown",
   "metadata": {},
   "source": [
    "Python [dictionaries](https://docs.python.org/3/tutorial/datastructures.html#dictionaries) are a convenient way to store multiple types of data together, to not have too much different variables:"
   ]
  },
  {
   "cell_type": "code",
   "execution_count": 70,
   "metadata": {},
   "outputs": [],
   "source": [
    "measurement = {}\n",
    "measurement['pressure_hPa'] = 1010\n",
    "measurement['temperature'] = 23"
   ]
  },
  {
   "cell_type": "code",
   "execution_count": 71,
   "metadata": {},
   "outputs": [
    {
     "data": {
      "text/plain": [
       "{'pressure_hPa': 1010, 'temperature': 23}"
      ]
     },
     "execution_count": 71,
     "metadata": {},
     "output_type": "execute_result"
    }
   ],
   "source": [
    "measurement"
   ]
  },
  {
   "cell_type": "code",
   "execution_count": 72,
   "metadata": {},
   "outputs": [],
   "source": [
    "# ...select on name, iterate over keys or items..."
   ]
  },
  {
   "cell_type": "code",
   "execution_count": null,
   "metadata": {},
   "outputs": [],
   "source": []
  },
  {
   "cell_type": "code",
   "execution_count": 73,
   "metadata": {},
   "outputs": [],
   "source": [
    "measurements = {'pressure_hPa': pressures_hPa,\n",
    "                'temperature_degree': temperature_degree,\n",
    "                'location': locations}"
   ]
  },
  {
   "cell_type": "code",
   "execution_count": 74,
   "metadata": {},
   "outputs": [
    {
     "data": {
      "text/plain": [
       "{'pressure_hPa': [1013, 1003, 1010, 1020, 1032, 993, 989, 1018, 889, 1001],\n",
       " 'temperature_degree': [23, 20, 17, 8, 12, 5, 16, 22, -2, 16],\n",
       " 'location': ['Ghent - Sterre',\n",
       "  'Ghent - Coupure',\n",
       "  'Ghent - Blandijn',\n",
       "  'Ghent - Korenlei',\n",
       "  'Ghent - Kouter',\n",
       "  'Ghent - Coupure',\n",
       "  'Antwerp - Groenplaats',\n",
       "  'Brussels- Grand place',\n",
       "  'Antwerp - Justitipaleis',\n",
       "  'Brussels - Tour & taxis']}"
      ]
     },
     "execution_count": 74,
     "metadata": {},
     "output_type": "execute_result"
    }
   ],
   "source": [
    "measurements"
   ]
  },
  {
   "cell_type": "markdown",
   "metadata": {},
   "source": [
    "__But__: I want to apply my barometric function to measurements taken in Ghent when the temperature was below 10 degrees..."
   ]
  },
  {
   "cell_type": "code",
   "execution_count": 75,
   "metadata": {},
   "outputs": [
    {
     "name": "stdout",
     "output_type": "stream",
     "text": [
      "714.6658383288585\n",
      "695.748213196624\n"
     ]
    }
   ],
   "source": [
    "for idx, pressure in enumerate(measurements['pressure_hPa']):\n",
    "    if measurements['location'][idx].startswith(\"Ghent\") and \\\n",
    "        measurements['temperature_degree'][idx]< 10:\n",
    "        print(barometric_formula(pressure, 3000))\n",
    "        "
   ]
  },
  {
   "cell_type": "markdown",
   "metadata": {},
   "source": [
    "## when a table would be more appropriate... Pandas!"
   ]
  },
  {
   "cell_type": "code",
   "execution_count": 76,
   "metadata": {},
   "outputs": [],
   "source": [
    "import pandas as pd"
   ]
  },
  {
   "cell_type": "code",
   "execution_count": 77,
   "metadata": {},
   "outputs": [
    {
     "data": {
      "text/html": [
       "<div>\n",
       "<style scoped>\n",
       "    .dataframe tbody tr th:only-of-type {\n",
       "        vertical-align: middle;\n",
       "    }\n",
       "\n",
       "    .dataframe tbody tr th {\n",
       "        vertical-align: top;\n",
       "    }\n",
       "\n",
       "    .dataframe thead th {\n",
       "        text-align: right;\n",
       "    }\n",
       "</style>\n",
       "<table border=\"1\" class=\"dataframe\">\n",
       "  <thead>\n",
       "    <tr style=\"text-align: right;\">\n",
       "      <th></th>\n",
       "      <th>pressure_hPa</th>\n",
       "      <th>temperature_degree</th>\n",
       "      <th>location</th>\n",
       "    </tr>\n",
       "  </thead>\n",
       "  <tbody>\n",
       "    <tr>\n",
       "      <th>0</th>\n",
       "      <td>1013</td>\n",
       "      <td>23</td>\n",
       "      <td>Ghent - Sterre</td>\n",
       "    </tr>\n",
       "    <tr>\n",
       "      <th>1</th>\n",
       "      <td>1003</td>\n",
       "      <td>20</td>\n",
       "      <td>Ghent - Coupure</td>\n",
       "    </tr>\n",
       "    <tr>\n",
       "      <th>2</th>\n",
       "      <td>1010</td>\n",
       "      <td>17</td>\n",
       "      <td>Ghent - Blandijn</td>\n",
       "    </tr>\n",
       "    <tr>\n",
       "      <th>3</th>\n",
       "      <td>1020</td>\n",
       "      <td>8</td>\n",
       "      <td>Ghent - Korenlei</td>\n",
       "    </tr>\n",
       "    <tr>\n",
       "      <th>4</th>\n",
       "      <td>1032</td>\n",
       "      <td>12</td>\n",
       "      <td>Ghent - Kouter</td>\n",
       "    </tr>\n",
       "    <tr>\n",
       "      <th>5</th>\n",
       "      <td>993</td>\n",
       "      <td>5</td>\n",
       "      <td>Ghent - Coupure</td>\n",
       "    </tr>\n",
       "    <tr>\n",
       "      <th>6</th>\n",
       "      <td>989</td>\n",
       "      <td>16</td>\n",
       "      <td>Antwerp - Groenplaats</td>\n",
       "    </tr>\n",
       "    <tr>\n",
       "      <th>7</th>\n",
       "      <td>1018</td>\n",
       "      <td>22</td>\n",
       "      <td>Brussels- Grand place</td>\n",
       "    </tr>\n",
       "    <tr>\n",
       "      <th>8</th>\n",
       "      <td>889</td>\n",
       "      <td>-2</td>\n",
       "      <td>Antwerp - Justitipaleis</td>\n",
       "    </tr>\n",
       "    <tr>\n",
       "      <th>9</th>\n",
       "      <td>1001</td>\n",
       "      <td>16</td>\n",
       "      <td>Brussels - Tour &amp; taxis</td>\n",
       "    </tr>\n",
       "  </tbody>\n",
       "</table>\n",
       "</div>"
      ],
      "text/plain": [
       "   pressure_hPa  temperature_degree                 location\n",
       "0          1013                  23           Ghent - Sterre\n",
       "1          1003                  20          Ghent - Coupure\n",
       "2          1010                  17         Ghent - Blandijn\n",
       "3          1020                   8         Ghent - Korenlei\n",
       "4          1032                  12           Ghent - Kouter\n",
       "5           993                   5          Ghent - Coupure\n",
       "6           989                  16    Antwerp - Groenplaats\n",
       "7          1018                  22    Brussels- Grand place\n",
       "8           889                  -2  Antwerp - Justitipaleis\n",
       "9          1001                  16  Brussels - Tour & taxis"
      ]
     },
     "execution_count": 77,
     "metadata": {},
     "output_type": "execute_result"
    }
   ],
   "source": [
    "measurements = pd.DataFrame(measurements)\n",
    "measurements"
   ]
  },
  {
   "cell_type": "code",
   "execution_count": 78,
   "metadata": {},
   "outputs": [
    {
     "data": {
      "text/plain": [
       "3    714.665838\n",
       "5    695.748213\n",
       "Name: pressure_hPa, dtype: float64"
      ]
     },
     "execution_count": 78,
     "metadata": {},
     "output_type": "execute_result"
    }
   ],
   "source": [
    "barometric_formula(measurements[(measurements[\"location\"].str.contains(\"Ghent\")) & \n",
    "                  (measurements[\"temperature_degree\"] < 10)][\"pressure_hPa\"], 3000)"
   ]
  },
  {
   "cell_type": "markdown",
   "metadata": {},
   "source": [
    "<div class=\"alert alert-info\">\n",
    "    <b>REMEMBER</b>: We can combine the speed of numpy with the convenience of dictionaries and much more!\n",
    "</div>"
   ]
  }
 ],
 "metadata": {
  "celltoolbar": "Nbtutor - export exercises",
  "kernelspec": {
   "display_name": "Python 3",
   "language": "python",
   "name": "python3"
  },
  "language_info": {
   "codemirror_mode": {
    "name": "ipython",
    "version": 3
   },
   "file_extension": ".py",
   "mimetype": "text/x-python",
   "name": "python",
   "nbconvert_exporter": "python",
   "pygments_lexer": "ipython3",
   "version": "3.7.5"
  }
 },
 "nbformat": 4,
 "nbformat_minor": 2
}
