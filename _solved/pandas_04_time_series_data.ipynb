{
 "cells": [
  {
   "cell_type": "markdown",
   "id": "955085d7",
   "metadata": {
    "editable": true,
    "slideshow": {
     "slide_type": ""
    },
    "tags": []
   },
   "source": [
    "<p><font size=\"6\"><b>04 - Pandas: Working with time series data</b></font></p>\n",
    "\n",
    "> *© 2024, Joris Van den Bossche and Stijn Van Hoey  (<mailto:jorisvandenbossche@gmail.com>, <mailto:stijnvanhoey@gmail.com>). Licensed under [CC BY 4.0 Creative Commons](http://creativecommons.org/licenses/by/4.0/)*\n",
    "\n",
    "---"
   ]
  },
  {
   "cell_type": "code",
   "execution_count": null,
   "id": "b0acf1a9",
   "metadata": {
    "tags": []
   },
   "outputs": [],
   "source": [
    "import pandas as pd\n",
    "import numpy as np\n",
    "import matplotlib.pyplot as plt\n",
    "\n",
    "plt.style.use('ggplot')"
   ]
  },
  {
   "cell_type": "markdown",
   "id": "8ce33166",
   "metadata": {
    "tags": []
   },
   "source": [
    "# Dates and times in pandas"
   ]
  },
  {
   "cell_type": "markdown",
   "id": "b3a627c0-e037-4fa9-8b0d-305e766d70ed",
   "metadata": {},
   "source": [
    "Pandas has its own date and time objects, which are compatible with the [standard `datetime` objects](https://docs.python.org/3/library/datetime.html), but provide some more functionality to work with.  \n",
    "\n",
    "Consider the following datetime information, represented as strings:"
   ]
  },
  {
   "cell_type": "code",
   "execution_count": null,
   "id": "9d29929b-81c8-4127-94fb-0611f6e905dc",
   "metadata": {
    "tags": []
   },
   "outputs": [],
   "source": [
    "s = pd.Series(['2016-12-09 10:00:00', '2016-12-09 11:00:00', '2016-12-09 12:00:00'])"
   ]
  },
  {
   "cell_type": "code",
   "execution_count": null,
   "id": "8ef75ed6-3c90-4930-a72d-adbbbc5edb5f",
   "metadata": {
    "tags": []
   },
   "outputs": [],
   "source": [
    "s"
   ]
  },
  {
   "cell_type": "markdown",
   "id": "05f4960d-f827-4172-8754-74c29c813b11",
   "metadata": {},
   "source": [
    "The `to_datetime` function can be used to convert string formatted dates into Pandas __Timestamp__ objects:"
   ]
  },
  {
   "cell_type": "code",
   "execution_count": null,
   "id": "b0232176-f731-4353-b532-26acac820a4b",
   "metadata": {
    "tags": []
   },
   "outputs": [],
   "source": [
    "ts = pd.to_datetime(s)\n",
    "ts"
   ]
  },
  {
   "cell_type": "markdown",
   "id": "d8ce1098-4f81-41e8-a99c-f4283045e4d6",
   "metadata": {},
   "source": [
    "Notice the data type of this series has changed: the `datetime64[ns]` dtype. This indicates that we have a series of actual timestamp values."
   ]
  },
  {
   "cell_type": "markdown",
   "id": "af45b99c-68c8-44ed-8f11-5ba8fa151ac3",
   "metadata": {},
   "source": [
    "Like with standard Python [`datetime.datetime` objects](https://docs.python.org/3/library/datetime.html#datetime.datetime), there are several useful attributes available on the pandas `Timestamp`. And those are also available on a Series with datetime data using the **`.dt`** accessor. For example, we can get the month, hour, day of the week,... (experiment with tab completion!) for each of the timestamps:"
   ]
  },
  {
   "cell_type": "code",
   "execution_count": null,
   "id": "d5bc767b-7c8f-4b2d-9b37-c7a48205500f",
   "metadata": {
    "tags": []
   },
   "outputs": [],
   "source": [
    "ts.dt.month"
   ]
  },
  {
   "cell_type": "code",
   "execution_count": null,
   "id": "207db64f-ed66-4cdb-88ce-20cde3c352a7",
   "metadata": {
    "tags": []
   },
   "outputs": [],
   "source": [
    "ts.dt.hour"
   ]
  },
  {
   "cell_type": "code",
   "execution_count": null,
   "id": "e3d1db7e-0465-4dbd-b121-a78e2b773034",
   "metadata": {
    "tags": []
   },
   "outputs": [],
   "source": [
    "ts.dt.dayofweek"
   ]
  },
  {
   "cell_type": "markdown",
   "id": "9f71351f-1aa5-4d56-a1bd-c31aa6c647ac",
   "metadata": {},
   "source": [
    "Each of the individual elements in the Series is a pandas `Timestamp` object:"
   ]
  },
  {
   "cell_type": "code",
   "execution_count": null,
   "id": "9bc200f1-a66f-4a5a-a6f2-69596bfd9f20",
   "metadata": {
    "tags": []
   },
   "outputs": [],
   "source": [
    "ts[0]"
   ]
  },
  {
   "cell_type": "markdown",
   "id": "cf25127f-1250-4695-a976-df99344d5f32",
   "metadata": {
    "tags": []
   },
   "source": [
    "The `Timestamp` object can also be constructed from a string and provides access to the Timestamp attributes:"
   ]
  },
  {
   "cell_type": "code",
   "execution_count": null,
   "id": "5443c4c1-a8a7-4d3c-a1d5-c49012576cf9",
   "metadata": {
    "tags": []
   },
   "outputs": [],
   "source": [
    "ts_singe = pd.Timestamp('2016-12-21 23:02')"
   ]
  },
  {
   "cell_type": "code",
   "execution_count": null,
   "id": "5d09cf94-4088-43cf-a60f-2c1b3eda8a25",
   "metadata": {
    "tags": []
   },
   "outputs": [],
   "source": [
    "ts_singe.month, ts_singe.hour, ts_singe.dayofweek"
   ]
  },
  {
   "cell_type": "markdown",
   "id": "bce7e220-e0a0-4a82-8787-f39e54638339",
   "metadata": {},
   "source": [
    "There is also a `Timedelta` type, which can e.g. be used to add intervals of time:"
   ]
  },
  {
   "cell_type": "code",
   "execution_count": null,
   "id": "91e79d75-d8ec-41a5-9017-fa77c1d62521",
   "metadata": {
    "tags": []
   },
   "outputs": [],
   "source": [
    "ts + pd.Timedelta('5 days')"
   ]
  },
  {
   "cell_type": "markdown",
   "id": "81b32ea9-07d6-4b01-bdbe-870514f364d6",
   "metadata": {},
   "source": [
    "To quickly construct some regular time series data, the [``pd.date_range``](http://pandas.pydata.org/pandas-docs/stable/generated/pandas.date_range.html) function comes in handy:"
   ]
  },
  {
   "cell_type": "code",
   "execution_count": null,
   "id": "48764319-ee42-4cd6-b780-173d005a5d97",
   "metadata": {
    "editable": true,
    "slideshow": {
     "slide_type": ""
    },
    "tags": []
   },
   "outputs": [],
   "source": [
    "pd.Series(pd.date_range(start=\"2016-01-01\", periods=10, freq='3h'))"
   ]
  },
  {
   "cell_type": "markdown",
   "id": "b2c29c0c",
   "metadata": {
    "tags": []
   },
   "source": [
    "## Parsing datetime strings"
   ]
  },
  {
   "cell_type": "markdown",
   "id": "c351c421",
   "metadata": {},
   "source": [
    "![](http://imgs.xkcd.com/comics/iso_8601.png)"
   ]
  },
  {
   "cell_type": "markdown",
   "id": "67f7a6e1",
   "metadata": {},
   "source": [
    "Unfortunately, when working with real world data, you encounter many different `datetime` formats. Most of the time when you have to deal with them, they come in text format, e.g. from a `CSV` file. To work with those data in Pandas, we first have to *parse* the strings to actual `Timestamp` objects."
   ]
  },
  {
   "cell_type": "markdown",
   "id": "de509402",
   "metadata": {},
   "source": [
    "<div class=\"alert alert-info\">\n",
    "<b>REMEMBER</b>: <br><br>\n",
    "\n",
    "To convert different kind of string formatted dates to Timestamp objects: use the `pandas.to_datetime` function \n",
    "\n",
    "</div>"
   ]
  },
  {
   "cell_type": "code",
   "execution_count": null,
   "id": "a473dc6a",
   "metadata": {
    "tags": []
   },
   "outputs": [],
   "source": [
    "pd.to_datetime(\"2016-12-09\")"
   ]
  },
  {
   "cell_type": "code",
   "execution_count": null,
   "id": "e060083a",
   "metadata": {
    "tags": []
   },
   "outputs": [],
   "source": [
    "pd.to_datetime(\"09/12/2016\")"
   ]
  },
  {
   "cell_type": "code",
   "execution_count": null,
   "id": "26521674",
   "metadata": {
    "tags": []
   },
   "outputs": [],
   "source": [
    "pd.to_datetime(\"09/12/2016\", format=\"%d/%m/%Y\")"
   ]
  },
  {
   "cell_type": "markdown",
   "id": "40e81eb2",
   "metadata": {},
   "source": [
    "A detailed overview of how to specify the `format` string, see the table in the python documentation: https://docs.python.org/3/library/datetime.html#strftime-and-strptime-behavior"
   ]
  },
  {
   "cell_type": "markdown",
   "id": "2ad83144",
   "metadata": {
    "tags": []
   },
   "source": [
    "# Time series data: `Timestamp` in the index"
   ]
  },
  {
   "cell_type": "markdown",
   "id": "a98807e0",
   "metadata": {
    "tags": []
   },
   "source": [
    "## River discharge example data"
   ]
  },
  {
   "cell_type": "markdown",
   "id": "18e7295e",
   "metadata": {},
   "source": [
    "For the following demonstration of the time series functionality, we use a sample of discharge data of the Maarkebeek (Flanders) with 3 hour averaged values, derived from the [Waterinfo website](https://www.waterinfo.be/)."
   ]
  },
  {
   "cell_type": "code",
   "execution_count": null,
   "id": "d5d0a33c",
   "metadata": {
    "tags": []
   },
   "outputs": [],
   "source": [
    "data = pd.read_csv(\"data/vmm_flowdata.csv\")"
   ]
  },
  {
   "cell_type": "code",
   "execution_count": null,
   "id": "ebc832d8",
   "metadata": {
    "tags": []
   },
   "outputs": [],
   "source": [
    "data.head()"
   ]
  },
  {
   "cell_type": "markdown",
   "id": "c60057bb",
   "metadata": {},
   "source": [
    "We already know how to parse a date column with Pandas:"
   ]
  },
  {
   "cell_type": "code",
   "execution_count": null,
   "id": "1828d5e9",
   "metadata": {
    "tags": []
   },
   "outputs": [],
   "source": [
    "data['Time'] = pd.to_datetime(data['Time'])"
   ]
  },
  {
   "cell_type": "markdown",
   "id": "65f3c178",
   "metadata": {},
   "source": [
    "With `set_index('datetime')`, we set the column with datetime values as the index, which can be done by both `Series` and `DataFrame`."
   ]
  },
  {
   "cell_type": "code",
   "execution_count": null,
   "id": "c48b7766",
   "metadata": {
    "tags": []
   },
   "outputs": [],
   "source": [
    "data = data.set_index(\"Time\")"
   ]
  },
  {
   "cell_type": "code",
   "execution_count": null,
   "id": "da42adae",
   "metadata": {
    "tags": []
   },
   "outputs": [],
   "source": [
    "data"
   ]
  },
  {
   "cell_type": "markdown",
   "id": "658600da",
   "metadata": {},
   "source": [
    "The steps above are provided as built-in functionality of `read_csv`:"
   ]
  },
  {
   "cell_type": "code",
   "execution_count": null,
   "id": "abc7d903",
   "metadata": {
    "tags": []
   },
   "outputs": [],
   "source": [
    "data = pd.read_csv(\"data/vmm_flowdata.csv\", index_col=0, parse_dates=True)"
   ]
  },
  {
   "cell_type": "markdown",
   "id": "431c99fb",
   "metadata": {},
   "source": [
    "<div class=\"alert alert-info\">\n",
    "<b>REMEMBER</b>: <br><br>\n",
    "\n",
    "`pd.read_csv` provides a lot of built-in functionality to support this kind of transactions when reading in a file! Check the help of the read_csv function...\n",
    "\n",
    "</div>"
   ]
  },
  {
   "cell_type": "markdown",
   "id": "7d844940",
   "metadata": {
    "tags": []
   },
   "source": [
    "## The DatetimeIndex"
   ]
  },
  {
   "cell_type": "markdown",
   "id": "2b5d69e1",
   "metadata": {},
   "source": [
    "When we ensure the DataFrame has a `DatetimeIndex`, time-series related functionality becomes available:"
   ]
  },
  {
   "cell_type": "code",
   "execution_count": null,
   "id": "58bb0e42",
   "metadata": {
    "tags": []
   },
   "outputs": [],
   "source": [
    "data.index"
   ]
  },
  {
   "cell_type": "markdown",
   "id": "7a10a645",
   "metadata": {},
   "source": [
    "Similar to a Series with datetime data, there are some attributes of the timestamp values available:"
   ]
  },
  {
   "cell_type": "code",
   "execution_count": null,
   "id": "c0aad4d9",
   "metadata": {
    "tags": []
   },
   "outputs": [],
   "source": [
    "data.index.day"
   ]
  },
  {
   "cell_type": "code",
   "execution_count": null,
   "id": "dc2a17b9",
   "metadata": {
    "tags": []
   },
   "outputs": [],
   "source": [
    "data.index.dayofyear"
   ]
  },
  {
   "cell_type": "code",
   "execution_count": null,
   "id": "73a28eda",
   "metadata": {
    "tags": []
   },
   "outputs": [],
   "source": [
    "data.index.year"
   ]
  },
  {
   "cell_type": "markdown",
   "id": "56bbe1a2",
   "metadata": {},
   "source": [
    "The `plot` method will also adapt its labels (when you zoom in, you can see the different levels of detail of the datetime labels):"
   ]
  },
  {
   "cell_type": "code",
   "execution_count": null,
   "id": "4b83c216",
   "metadata": {
    "tags": []
   },
   "outputs": [],
   "source": [
    "%matplotlib widget"
   ]
  },
  {
   "cell_type": "code",
   "execution_count": null,
   "id": "2521063f",
   "metadata": {
    "tags": []
   },
   "outputs": [],
   "source": [
    "data.plot()"
   ]
  },
  {
   "cell_type": "code",
   "execution_count": null,
   "id": "7db0499c",
   "metadata": {
    "tags": []
   },
   "outputs": [],
   "source": [
    "# switching back to static inline plots (the default)\n",
    "%matplotlib inline"
   ]
  },
  {
   "cell_type": "markdown",
   "id": "7dc7c57c",
   "metadata": {},
   "source": [
    "We have too much data to sensibly plot on one figure. Let's see how we can easily select part of the data or aggregate the data to other time resolutions in the next sections."
   ]
  },
  {
   "cell_type": "markdown",
   "id": "ec38c40a",
   "metadata": {
    "tags": []
   },
   "source": [
    "## Selecting data from a time series"
   ]
  },
  {
   "cell_type": "markdown",
   "id": "83dc267d",
   "metadata": {},
   "source": [
    "We can use label based indexing on a timeseries as expected:"
   ]
  },
  {
   "cell_type": "code",
   "execution_count": null,
   "id": "23afc1f9",
   "metadata": {
    "tags": []
   },
   "outputs": [],
   "source": [
    "data[pd.Timestamp(\"2012-01-01 09:00\"):pd.Timestamp(\"2012-01-01 19:00\")]"
   ]
  },
  {
   "cell_type": "markdown",
   "id": "ef667c8c",
   "metadata": {},
   "source": [
    "But, for convenience, indexing a time series also works with strings:"
   ]
  },
  {
   "cell_type": "code",
   "execution_count": null,
   "id": "85291f39",
   "metadata": {
    "tags": []
   },
   "outputs": [],
   "source": [
    "data[\"2012-01-01 09:00\":\"2012-01-01 19:00\"]"
   ]
  },
  {
   "cell_type": "markdown",
   "id": "85d12faf",
   "metadata": {},
   "source": [
    "A nice feature is **\"partial string\" indexing**, where we can do implicit slicing by providing a partial datetime string.\n",
    "\n",
    "E.g. all data of 2013:"
   ]
  },
  {
   "cell_type": "code",
   "execution_count": null,
   "id": "b74fd93c",
   "metadata": {},
   "outputs": [],
   "source": [
    "data['2013':]"
   ]
  },
  {
   "cell_type": "markdown",
   "id": "cea519d6",
   "metadata": {},
   "source": [
    "Or all data of January up to March 2012:"
   ]
  },
  {
   "cell_type": "code",
   "execution_count": null,
   "id": "a223cc36",
   "metadata": {},
   "outputs": [],
   "source": [
    "data['2012-01':'2012-03']"
   ]
  },
  {
   "cell_type": "markdown",
   "id": "a95be1d6-8ea4-4889-ac3f-d3fe720e8882",
   "metadata": {},
   "source": [
    "# Exercises\n",
    "\n",
    "Let's practice this yourself using the same dataset:"
   ]
  },
  {
   "cell_type": "code",
   "execution_count": null,
   "id": "f2de366c-105a-40d7-bb93-bfb53e8f5c26",
   "metadata": {},
   "outputs": [],
   "source": [
    "data = pd.read_csv(\"data/vmm_flowdata.csv\", index_col=0, parse_dates=True)"
   ]
  },
  {
   "cell_type": "markdown",
   "id": "70d4f396",
   "metadata": {},
   "source": [
    "<div class=\"alert alert-success\">\n",
    "\n",
    "**EXERCISE:**\n",
    "\n",
    "Select all data starting from 2012\n",
    "\n",
    "</div>"
   ]
  },
  {
   "cell_type": "code",
   "execution_count": null,
   "id": "1701f43d",
   "metadata": {
    "tags": [
     "nbtutor-solution"
    ]
   },
   "outputs": [],
   "source": [
    "data['2012':]"
   ]
  },
  {
   "cell_type": "markdown",
   "id": "72f01346",
   "metadata": {},
   "source": [
    "<div class=\"alert alert-success\">\n",
    "\n",
    "**EXERCISE**:\n",
    "\n",
    "Select all data in January for all different years\n",
    "\n",
    "<details><summary>Hints</summary>\n",
    "\n",
    "* Remember you can get information about the month of each timestamp using the `month` attribute of the DatetimeIndex.\n",
    "\n",
    "</details>\n",
    "\n",
    "</div>"
   ]
  },
  {
   "cell_type": "code",
   "execution_count": null,
   "id": "3d61b665",
   "metadata": {
    "tags": [
     "nbtutor-solution"
    ]
   },
   "outputs": [],
   "source": [
    "data[data.index.month == 1]"
   ]
  },
  {
   "cell_type": "markdown",
   "id": "b069a677",
   "metadata": {},
   "source": [
    "<div class=\"alert alert-success\">\n",
    "\n",
    "**EXERCISE**:\n",
    "\n",
    "Select all data in April, May and June for all different years\n",
    "\n",
    "<details><summary>Hints</summary>\n",
    "\n",
    "* If you want to check for equality with multiple possible values (equal to x OR equal to y OR ...), the `isin()` method can be easier to use.\n",
    "\n",
    "</details>\n",
    "\n",
    "</div>"
   ]
  },
  {
   "cell_type": "code",
   "execution_count": null,
   "id": "8e2cf035",
   "metadata": {
    "tags": [
     "nbtutor-solution"
    ]
   },
   "outputs": [],
   "source": [
    "data[data.index.month.isin([4, 5, 6])]"
   ]
  },
  {
   "cell_type": "markdown",
   "id": "04d772d9",
   "metadata": {},
   "source": [
    "<div class=\"alert alert-success\">\n",
    "\n",
    "**EXERCISE**\n",
    "\n",
    "Select all 'daytime' data (between 8h and 20h) for all days\n",
    "    \n",
    "</div>"
   ]
  },
  {
   "cell_type": "code",
   "execution_count": null,
   "id": "760a4912",
   "metadata": {
    "tags": [
     "nbtutor-solution"
    ]
   },
   "outputs": [],
   "source": [
    "data[(data.index.hour > 8) & (data.index.hour < 20)]"
   ]
  },
  {
   "cell_type": "markdown",
   "id": "a89b10ba",
   "metadata": {},
   "source": [
    "# The power of pandas: `resample`"
   ]
  },
  {
   "cell_type": "markdown",
   "id": "3a91eb59",
   "metadata": {},
   "source": [
    "A very powerfull method is **`resample`: converting the frequency of the time series** (e.g. from hourly to daily data).\n",
    "\n",
    "The time series has a frequency of 1 hour. I want to change this to daily:"
   ]
  },
  {
   "cell_type": "code",
   "execution_count": null,
   "id": "2cd2d406",
   "metadata": {},
   "outputs": [],
   "source": [
    "data.resample('D').mean().head()"
   ]
  },
  {
   "cell_type": "markdown",
   "id": "c9cc6625",
   "metadata": {},
   "source": [
    "Other mathematical methods can also be specified:"
   ]
  },
  {
   "cell_type": "code",
   "execution_count": null,
   "id": "f01c960e",
   "metadata": {},
   "outputs": [],
   "source": [
    "data.resample('D').max().head()"
   ]
  },
  {
   "cell_type": "markdown",
   "id": "ac81a045",
   "metadata": {},
   "source": [
    "<div class=\"alert alert-info\">\n",
    "<b>REMEMBER</b>: <br><br>\n",
    "\n",
    "The string to specify the new time frequency: http://pandas.pydata.org/pandas-docs/stable/user_guide/timeseries.html#offset-aliases <br>\n",
    "\n",
    "These strings can also be combined with numbers, eg `'10D'`...\n",
    "\n",
    "</div>"
   ]
  },
  {
   "cell_type": "code",
   "execution_count": null,
   "id": "c69242c7",
   "metadata": {},
   "outputs": [],
   "source": [
    "data.resample('M').mean().plot() # 10D"
   ]
  },
  {
   "cell_type": "markdown",
   "id": "ffdcd329",
   "metadata": {},
   "source": [
    "<div class=\"alert alert-success\">\n",
    "\n",
    "**EXERCISE**\n",
    "\n",
    "Plot the monthly standard deviation of the columns\n",
    "    \n",
    "</div>"
   ]
  },
  {
   "cell_type": "code",
   "execution_count": null,
   "id": "037f5b47",
   "metadata": {
    "tags": [
     "nbtutor-solution"
    ]
   },
   "outputs": [],
   "source": [
    "data.resample('M').std().plot() # 'A'"
   ]
  },
  {
   "cell_type": "markdown",
   "id": "bfa2c82c",
   "metadata": {},
   "source": [
    "<div class=\"alert alert-success\">\n",
    "\n",
    "**EXERCISE**\n",
    "\n",
    "Plot the monthly mean and median values for the years 2011-2012 for 'L06_347'\n",
    "\n",
    "<details><summary>Hints</summary>\n",
    "\n",
    "* Did you know <a href=\"https://pandas.pydata.org/pandas-docs/stable/reference/api/pandas.DataFrame.agg.html\"><code>agg</code></a> to derive multiple statistics at the same time?\n",
    "\n",
    "</details>\n",
    "\n",
    "</div>"
   ]
  },
  {
   "cell_type": "code",
   "execution_count": null,
   "id": "edf270bf",
   "metadata": {
    "tags": [
     "nbtutor-solution"
    ]
   },
   "outputs": [],
   "source": [
    "subset = data['2011':'2012']['L06_347']\n",
    "subset.resample('M').agg(['mean', 'median']).plot()"
   ]
  },
  {
   "cell_type": "markdown",
   "id": "9728d8dc",
   "metadata": {},
   "source": [
    "<div class=\"alert alert-success\">\n",
    "\n",
    "**EXERCISE**\n",
    "\n",
    "Plot the monthly mininum and maximum daily average value of the 'LS06_348' column"
   ]
  },
  {
   "cell_type": "code",
   "execution_count": null,
   "id": "c0557860",
   "metadata": {
    "tags": [
     "nbtutor-solution"
    ]
   },
   "outputs": [],
   "source": [
    "daily = data['LS06_348'].resample('D').mean() # daily averages calculated"
   ]
  },
  {
   "cell_type": "code",
   "execution_count": null,
   "id": "20126280",
   "metadata": {
    "tags": [
     "nbtutor-solution"
    ]
   },
   "outputs": [],
   "source": [
    "daily.resample('M').agg(['min', 'max']).plot() # monthly minimum and maximum values of these daily averages"
   ]
  },
  {
   "cell_type": "markdown",
   "id": "131791a8",
   "metadata": {},
   "source": [
    "<div class=\"alert alert-success\">\n",
    "    \n",
    "**EXERCISE**\n",
    "    \n",
    "Make a bar plot of the mean of the stations in year of 2013\n",
    "\n",
    "</div>"
   ]
  },
  {
   "cell_type": "code",
   "execution_count": null,
   "id": "e0a18e44",
   "metadata": {
    "tags": [
     "nbtutor-solution"
    ]
   },
   "outputs": [],
   "source": [
    "data['2013':'2013'].mean().plot(kind='barh')"
   ]
  }
 ],
 "metadata": {
  "jupytext": {
   "formats": "ipynb,md:myst"
  },
  "kernelspec": {
   "display_name": "Python 3 (ipykernel)",
   "language": "python",
   "name": "python3"
  },
  "language_info": {
   "codemirror_mode": {
    "name": "ipython",
    "version": 3
   },
   "file_extension": ".py",
   "mimetype": "text/x-python",
   "name": "python",
   "nbconvert_exporter": "python",
   "pygments_lexer": "ipython3",
   "version": "3.11.7"
  },
  "widgets": {
   "application/vnd.jupyter.widget-state+json": {
    "state": {
     "bb9585b095264ad3a00cc7388d30b86b": {
      "model_module": "@jupyter-widgets/base",
      "model_module_version": "1.2.0",
      "model_name": "LayoutModel",
      "state": {}
     },
     "d9bdb65c08184bbe8f10e619f7de1905": {
      "model_module": "jupyter-matplotlib",
      "model_module_version": "^0.10.5",
      "model_name": "ToolbarModel",
      "state": {
       "collapsed": true,
       "layout": "IPY_MODEL_bb9585b095264ad3a00cc7388d30b86b",
       "orientation": "vertical",
       "toolitems": [
        [
         "Home",
         "Reset original view",
         "home",
         "home"
        ],
        [
         "Back",
         "Back to previous view",
         "arrow-left",
         "back"
        ],
        [
         "Forward",
         "Forward to next view",
         "arrow-right",
         "forward"
        ],
        [
         "Pan",
         "Left button pans, Right button zooms\nx/y fixes axis, CTRL fixes aspect",
         "arrows",
         "pan"
        ],
        [
         "Zoom",
         "Zoom to rectangle\nx/y fixes axis",
         "square-o",
         "zoom"
        ],
        [
         "Download",
         "Download plot",
         "floppy-o",
         "save_figure"
        ]
       ]
      }
     },
     "db1275c7e2c3491f8a74c49ab6b41e69": {
      "model_module": "@jupyter-widgets/base",
      "model_module_version": "1.2.0",
      "model_name": "LayoutModel",
      "state": {}
     }
    },
    "version_major": 2,
    "version_minor": 0
   }
  }
 },
 "nbformat": 4,
 "nbformat_minor": 5
}
