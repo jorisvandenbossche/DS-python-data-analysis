{
 "cells": [
  {
   "cell_type": "code",
   "execution_count": 1,
   "metadata": {
    "collapsed": true,
    "run_control": {
     "frozen": false,
     "read_only": false
    }
   },
   "outputs": [],
   "source": [
    "%matplotlib inline\n",
    "\n",
    "import numpy as np\n",
    "import pandas as pd\n",
    "import matplotlib.pyplot as plt\n",
    "\n",
    "plt.style.use('seaborn-whitegrid')"
   ]
  },
  {
   "cell_type": "markdown",
   "metadata": {},
   "source": [
    "# Data cleaning of biodiversity data set"
   ]
  },
  {
   "cell_type": "markdown",
   "metadata": {},
   "source": [
    "**Scenario**:<br> You are interested occurrence data for a number of species in Flanders. Unfortunately , the sources for this type of data are still scattered among different institutes. After a mailing campaign, you receive a number of files from different formats, in various data formats and styles... \n",
    "\n",
    "You decide to be brave and script the interpretation and transformation, in order to provide reproducibility of your work. Moreover, similar analysis will be needed in the future with new data requests. You *hope* that future data requests will result in similar data formats from the individual partners. So, having a script will enhance the efficiency at that moment."
   ]
  },
  {
   "cell_type": "markdown",
   "metadata": {},
   "source": [
    "Besides from the technical differences in the data formats (`csv`, `excel`, `shapefile`, `sqlite`...), there are also differences in the naming of the content. For example, the coordinates, can be named `x`/`y`, `decimalLatitude`/`decimalLongitude`, `lat`/`long`... Luckely, you know of an international **open data standard** to describe occurrence data, i.e. [Darwin Core (DwC)](http://rs.tdwg.org/dwc/terms/#sex). Instead of inventing your own data model, you decide to comply to this international standard. The latter will enhance communication and will also make your data compliant to other data services working with this kind of data."
   ]
  },
  {
   "cell_type": "markdown",
   "metadata": {},
   "source": [
    "In short, the DwC describes a flat table (cfr. CSV) with an agreed name convention on the header names and conventions on how certain data types need to be represented. Whereas the standard definitions are out of scope, an in depth description is given [here](LINK NR TERMS VAN DWC). For this tutorial, we will focus on a few of the existing terms to learn some elements about data cleaning:\n",
    "* `eventDate`: ISO 6801 format of dates\n",
    "* `scientificName`: the accepted scientific name of the species\n",
    "* `decimalLatitude`/`decimalLongitude`: coordinates of the occurrence in WGS84 format\n",
    "* `sex`: either `male` or `female` to characterise the sex of the occurrence\n",
    "* `occurrenceID`: a identifier within the dataset to identify the individual records\n",
    "* `datasetName`: a static string defining the source of the data\n",
    "\n",
    "Futhermore, additional information concering the taxonomy will be added using an external API service"
   ]
  },
  {
   "cell_type": "markdown",
   "metadata": {},
   "source": [
    "**Dataset to work on:**"
   ]
  },
  {
   "cell_type": "markdown",
   "metadata": {},
   "source": [
    "For this dataset, the data is provided in the following main data files:\n",
    "* `surveys.csv` the data with the surveys observed in the individual plots\n",
    "* `species.csv` the overview list of the species shortnames\n",
    "* `plot_location.xlsx` the overview of coordinates of the individual locations\n",
    "\n",
    "The data originates from a [study](http://esapubs.org/archive/ecol/E090/118/metadata.htm) of a Chihuahuan desert ecosystem near Portal, Arizona\n",
    "\n",
    "![](../img/plot_overview.png)"
   ]
  },
  {
   "cell_type": "markdown",
   "metadata": {},
   "source": [
    "## Survey-data"
   ]
  },
  {
   "cell_type": "markdown",
   "metadata": {},
   "source": [
    "Reading in the data of the individual surveys:"
   ]
  },
  {
   "cell_type": "code",
   "execution_count": 2,
   "metadata": {
    "collapsed": false,
    "run_control": {
     "frozen": false,
     "read_only": false
    }
   },
   "outputs": [],
   "source": [
    "survey_data = pd.read_csv(\"../data/surveys.csv\")"
   ]
  },
  {
   "cell_type": "code",
   "execution_count": 3,
   "metadata": {
    "collapsed": false,
    "run_control": {
     "frozen": false,
     "read_only": false
    }
   },
   "outputs": [
    {
     "data": {
      "text/html": [
       "<div>\n",
       "<table border=\"1\" class=\"dataframe\">\n",
       "  <thead>\n",
       "    <tr style=\"text-align: right;\">\n",
       "      <th></th>\n",
       "      <th>record_id</th>\n",
       "      <th>month</th>\n",
       "      <th>day</th>\n",
       "      <th>year</th>\n",
       "      <th>plot</th>\n",
       "      <th>species</th>\n",
       "      <th>sex_char</th>\n",
       "      <th>wgt</th>\n",
       "    </tr>\n",
       "  </thead>\n",
       "  <tbody>\n",
       "    <tr>\n",
       "      <th>0</th>\n",
       "      <td>1</td>\n",
       "      <td>7</td>\n",
       "      <td>16</td>\n",
       "      <td>1977</td>\n",
       "      <td>2</td>\n",
       "      <td>NaN</td>\n",
       "      <td>M</td>\n",
       "      <td>NaN</td>\n",
       "    </tr>\n",
       "    <tr>\n",
       "      <th>1</th>\n",
       "      <td>2</td>\n",
       "      <td>7</td>\n",
       "      <td>16</td>\n",
       "      <td>1977</td>\n",
       "      <td>3</td>\n",
       "      <td>NaN</td>\n",
       "      <td>M</td>\n",
       "      <td>NaN</td>\n",
       "    </tr>\n",
       "    <tr>\n",
       "      <th>2</th>\n",
       "      <td>3</td>\n",
       "      <td>7</td>\n",
       "      <td>16</td>\n",
       "      <td>1977</td>\n",
       "      <td>2</td>\n",
       "      <td>DM</td>\n",
       "      <td>F</td>\n",
       "      <td>NaN</td>\n",
       "    </tr>\n",
       "    <tr>\n",
       "      <th>3</th>\n",
       "      <td>4</td>\n",
       "      <td>7</td>\n",
       "      <td>16</td>\n",
       "      <td>1977</td>\n",
       "      <td>7</td>\n",
       "      <td>DM</td>\n",
       "      <td>M</td>\n",
       "      <td>NaN</td>\n",
       "    </tr>\n",
       "    <tr>\n",
       "      <th>4</th>\n",
       "      <td>5</td>\n",
       "      <td>7</td>\n",
       "      <td>16</td>\n",
       "      <td>1977</td>\n",
       "      <td>3</td>\n",
       "      <td>DM</td>\n",
       "      <td>M</td>\n",
       "      <td>NaN</td>\n",
       "    </tr>\n",
       "  </tbody>\n",
       "</table>\n",
       "</div>"
      ],
      "text/plain": [
       "   record_id  month  day  year  plot species sex_char  wgt\n",
       "0          1      7   16  1977     2     NaN        M  NaN\n",
       "1          2      7   16  1977     3     NaN        M  NaN\n",
       "2          3      7   16  1977     2      DM        F  NaN\n",
       "3          4      7   16  1977     7      DM        M  NaN\n",
       "4          5      7   16  1977     3      DM        M  NaN"
      ]
     },
     "execution_count": 3,
     "metadata": {},
     "output_type": "execute_result"
    }
   ],
   "source": [
    "survey_data.head()"
   ]
  },
  {
   "cell_type": "markdown",
   "metadata": {},
   "source": [
    "<div class=\"alert alert-success\">\n",
    "    <b>EXERCISE</b>: How many individual records (occurrences) does the survey data set contain?\n",
    "</div>"
   ]
  },
  {
   "cell_type": "code",
   "execution_count": 4,
   "metadata": {
    "collapsed": false,
    "run_control": {
     "frozen": false,
     "read_only": false
    }
   },
   "outputs": [
    {
     "data": {
      "text/plain": [
       "35549"
      ]
     },
     "execution_count": 4,
     "metadata": {},
     "output_type": "execute_result"
    }
   ],
   "source": [
    "len(survey_data)"
   ]
  },
  {
   "cell_type": "markdown",
   "metadata": {},
   "source": [
    "### Adding the data source information as static column"
   ]
  },
  {
   "cell_type": "markdown",
   "metadata": {},
   "source": [
    "For convenience when this dataset will be combined with other datasets, we first add a column of static values, defining the `datasetName` of this particular data:"
   ]
  },
  {
   "cell_type": "code",
   "execution_count": 5,
   "metadata": {
    "collapsed": true,
    "run_control": {
     "frozen": false,
     "read_only": false
    }
   },
   "outputs": [],
   "source": [
    "datasetname = \"Ecological Archives E090-118-D1.\""
   ]
  },
  {
   "cell_type": "markdown",
   "metadata": {},
   "source": [
    "Adding this static value as a new column `datasetName`:"
   ]
  },
  {
   "cell_type": "markdown",
   "metadata": {},
   "source": [
    "<div class=\"alert alert-success\">\n",
    "    <b>EXERCISE</b>: Add a new column, 'datasetName', to the survey data set with `datasetname` as value for all of the records (static value for the entire data set)\n",
    "</div>"
   ]
  },
  {
   "cell_type": "code",
   "execution_count": 6,
   "metadata": {
    "collapsed": true,
    "run_control": {
     "frozen": false,
     "read_only": false
    }
   },
   "outputs": [],
   "source": [
    "survey_data[\"datasetName\"] = datasetname"
   ]
  },
  {
   "cell_type": "markdown",
   "metadata": {},
   "source": [
    "### Cleaning the sex_char column into a DwC called [sex](http://rs.tdwg.org/dwc/terms/#sex) column"
   ]
  },
  {
   "cell_type": "markdown",
   "metadata": {},
   "source": [
    "<div class=\"alert alert-success\">\n",
    "    <b>EXERCISE</b>: Get a list of the unique values for the column sex_char.\n",
    "</div>"
   ]
  },
  {
   "cell_type": "code",
   "execution_count": 7,
   "metadata": {
    "collapsed": false,
    "run_control": {
     "frozen": false,
     "read_only": false
    }
   },
   "outputs": [
    {
     "data": {
      "text/plain": [
       "['M', 'F', nan, 'R', 'P', 'Z']"
      ]
     },
     "execution_count": 7,
     "metadata": {},
     "output_type": "execute_result"
    }
   ],
   "source": [
    "survey_data[\"sex_char\"].unique().tolist()"
   ]
  },
  {
   "cell_type": "markdown",
   "metadata": {},
   "source": [
    "So, apparently, more information is provided in this column, whereas according to the [metadata](http://esapubs.org/archive/ecol/E090/118/Portal_rodent_metadata.htm) information, the sex information should be either `M` (male) or `F` (female). We will create a column, named `sex` and convert the symbols to the corresponding sex, taking into account the following mapping of the values (see [metadata](http://esapubs.org/archive/ecol/E090/118/Portal_rodent_metadata.htm) for more details):\n",
    "* `M` -> `male`\n",
    "* `F` -> `female`\n",
    "* `R` -> `male`\n",
    "* `P` -> `female`\n",
    "* `Z` -> nan\n",
    "\n",
    "At the same time, we will save the original information of the `sex_char` in a separate column, called `verbatimSex`, as a reference."
   ]
  },
  {
   "cell_type": "markdown",
   "metadata": {},
   "source": [
    "In summary, we have to:\n",
    "* create a new column `verbatimSex`, which is a copy of the current `sex_char` column\n",
    "* create a new column with the name `sex`\n",
    "* map the original values of the `sex_char` to the values `male` and `female` according to the listing above"
   ]
  },
  {
   "cell_type": "markdown",
   "metadata": {},
   "source": [
    "Converting the name of the column header `sex_char` to `sex`:"
   ]
  },
  {
   "cell_type": "code",
   "execution_count": 8,
   "metadata": {
    "collapsed": false,
    "run_control": {
     "frozen": false,
     "read_only": false
    }
   },
   "outputs": [],
   "source": [
    "survey_data = survey_data.rename(columns={'sex_char': 'verbatimSex'})"
   ]
  },
  {
   "cell_type": "markdown",
   "metadata": {},
   "source": [
    "<div class=\"alert alert-success\">\n",
    "    <b>EXERCISE</b>: Express the mapping of the the values (e.g. M -> male) into a dictionary object called sex_dict (remember that a Nan-value can be defined as `np.nan`)\n",
    "</div>"
   ]
  },
  {
   "cell_type": "code",
   "execution_count": 9,
   "metadata": {
    "collapsed": true,
    "run_control": {
     "frozen": false,
     "read_only": false
    }
   },
   "outputs": [],
   "source": [
    "sex_dict = {\"M\": \"male\",\n",
    "            \"F\": \"female\",\n",
    "            \"R\": \"male\",\n",
    "            \"P\": \"female\",\n",
    "            \"Z\": np.nan}"
   ]
  },
  {
   "cell_type": "markdown",
   "metadata": {},
   "source": [
    "<div class=\"alert alert-success\">\n",
    "    <b>EXERCISE</b>: Use the dictionary to replace the values in the `verbatimSex` column to the new values according to the `sex_dict` mapping dictionary and save the mapped values in a new column 'sex'.\n",
    "</div>"
   ]
  },
  {
   "cell_type": "code",
   "execution_count": 10,
   "metadata": {
    "collapsed": false
   },
   "outputs": [],
   "source": [
    "survey_data['sex'] = survey_data['verbatimSex'].replace(sex_dict)"
   ]
  },
  {
   "cell_type": "markdown",
   "metadata": {},
   "source": [
    "Checking the current frequency of values (this should result in the values `male`, `female` and `nan`):"
   ]
  },
  {
   "cell_type": "code",
   "execution_count": 11,
   "metadata": {
    "collapsed": false,
    "run_control": {
     "frozen": false,
     "read_only": false
    }
   },
   "outputs": [
    {
     "data": {
      "text/plain": [
       "array(['male', 'female', nan], dtype=object)"
      ]
     },
     "execution_count": 11,
     "metadata": {},
     "output_type": "execute_result"
    }
   ],
   "source": [
    "survey_data[\"sex\"].unique()"
   ]
  },
  {
   "cell_type": "markdown",
   "metadata": {},
   "source": [
    "To check what the frequency of occurrences is for male/female of the categories, a bar chart is an easy representation:"
   ]
  },
  {
   "cell_type": "markdown",
   "metadata": {},
   "source": [
    "<div class=\"alert alert-success\">\n",
    "    <b>EXERCISE</b>: Make a horizontal bar chart comparing the number of male, female and unknown (Nan) records in the dataset\n",
    "</div>"
   ]
  },
  {
   "cell_type": "code",
   "execution_count": 12,
   "metadata": {
    "collapsed": false,
    "run_control": {
     "frozen": false,
     "read_only": false
    }
   },
   "outputs": [
    {
     "data": {
      "text/plain": [
       "<matplotlib.axes._subplots.AxesSubplot at 0x7f8a1806bc18>"
      ]
     },
     "execution_count": 12,
     "metadata": {},
     "output_type": "execute_result"
    },
    {
     "data": {
      "image/png": "[encoded data removed]",
      "text/plain": [
       "<matplotlib.figure.Figure at 0x7f8a18aecbe0>"
      ]
     },
     "metadata": {},
     "output_type": "display_data"
    }
   ],
   "source": [
    "survey_data[\"sex\"].value_counts(dropna=False).plot(kind=\"barh\")"
   ]
  },
  {
   "cell_type": "markdown",
   "metadata": {},
   "source": [
    "### Solving double entry field by decoupling"
   ]
  },
  {
   "cell_type": "markdown",
   "metadata": {},
   "source": [
    "When checking the species unique information:"
   ]
  },
  {
   "cell_type": "code",
   "execution_count": 13,
   "metadata": {
    "collapsed": false,
    "run_control": {
     "frozen": false,
     "read_only": false
    }
   },
   "outputs": [
    {
     "data": {
      "text/plain": [
       "array([nan, 'DM', 'PF', 'PE', 'DM and SH', 'DS', 'PP', 'SH', 'OT', 'DO',\n",
       "       'OX', 'SS', 'OL', 'RM', 'SA', 'PM', 'AH', 'DX', 'AB', 'CB', 'CM',\n",
       "       'CQ', 'RF', 'PC', 'PG', 'PH', 'PU', 'CV', 'UR', 'UP', 'ZL', 'UL',\n",
       "       'CS', 'SC', 'BA', 'SF', 'RO', 'AS', 'SO', 'PI', 'ST', 'CU', 'SU',\n",
       "       'RX', 'PB', 'PL', 'PX', 'CT', 'US'], dtype=object)"
      ]
     },
     "execution_count": 13,
     "metadata": {},
     "output_type": "execute_result"
    }
   ],
   "source": [
    "survey_data[\"species\"].unique()"
   ]
  },
  {
   "cell_type": "code",
   "execution_count": 14,
   "metadata": {
    "collapsed": false,
    "run_control": {
     "frozen": false,
     "read_only": false
    }
   },
   "outputs": [
    {
     "data": {
      "text/html": [
       "<div>\n",
       "<table border=\"1\" class=\"dataframe\">\n",
       "  <thead>\n",
       "    <tr style=\"text-align: right;\">\n",
       "      <th></th>\n",
       "      <th>record_id</th>\n",
       "      <th>month</th>\n",
       "      <th>day</th>\n",
       "      <th>year</th>\n",
       "      <th>plot</th>\n",
       "      <th>species</th>\n",
       "      <th>verbatimSex</th>\n",
       "      <th>wgt</th>\n",
       "      <th>datasetName</th>\n",
       "      <th>sex</th>\n",
       "    </tr>\n",
       "  </thead>\n",
       "  <tbody>\n",
       "    <tr>\n",
       "      <th>0</th>\n",
       "      <td>1</td>\n",
       "      <td>7</td>\n",
       "      <td>16</td>\n",
       "      <td>1977</td>\n",
       "      <td>2</td>\n",
       "      <td>NaN</td>\n",
       "      <td>M</td>\n",
       "      <td>NaN</td>\n",
       "      <td>Ecological Archives E090-118-D1.</td>\n",
       "      <td>male</td>\n",
       "    </tr>\n",
       "    <tr>\n",
       "      <th>1</th>\n",
       "      <td>2</td>\n",
       "      <td>7</td>\n",
       "      <td>16</td>\n",
       "      <td>1977</td>\n",
       "      <td>3</td>\n",
       "      <td>NaN</td>\n",
       "      <td>M</td>\n",
       "      <td>NaN</td>\n",
       "      <td>Ecological Archives E090-118-D1.</td>\n",
       "      <td>male</td>\n",
       "    </tr>\n",
       "    <tr>\n",
       "      <th>2</th>\n",
       "      <td>3</td>\n",
       "      <td>7</td>\n",
       "      <td>16</td>\n",
       "      <td>1977</td>\n",
       "      <td>2</td>\n",
       "      <td>DM</td>\n",
       "      <td>F</td>\n",
       "      <td>NaN</td>\n",
       "      <td>Ecological Archives E090-118-D1.</td>\n",
       "      <td>female</td>\n",
       "    </tr>\n",
       "    <tr>\n",
       "      <th>3</th>\n",
       "      <td>4</td>\n",
       "      <td>7</td>\n",
       "      <td>16</td>\n",
       "      <td>1977</td>\n",
       "      <td>7</td>\n",
       "      <td>DM</td>\n",
       "      <td>M</td>\n",
       "      <td>NaN</td>\n",
       "      <td>Ecological Archives E090-118-D1.</td>\n",
       "      <td>male</td>\n",
       "    </tr>\n",
       "    <tr>\n",
       "      <th>4</th>\n",
       "      <td>5</td>\n",
       "      <td>7</td>\n",
       "      <td>16</td>\n",
       "      <td>1977</td>\n",
       "      <td>3</td>\n",
       "      <td>DM</td>\n",
       "      <td>M</td>\n",
       "      <td>NaN</td>\n",
       "      <td>Ecological Archives E090-118-D1.</td>\n",
       "      <td>male</td>\n",
       "    </tr>\n",
       "    <tr>\n",
       "      <th>5</th>\n",
       "      <td>6</td>\n",
       "      <td>7</td>\n",
       "      <td>16</td>\n",
       "      <td>1977</td>\n",
       "      <td>1</td>\n",
       "      <td>PF</td>\n",
       "      <td>M</td>\n",
       "      <td>NaN</td>\n",
       "      <td>Ecological Archives E090-118-D1.</td>\n",
       "      <td>male</td>\n",
       "    </tr>\n",
       "    <tr>\n",
       "      <th>6</th>\n",
       "      <td>7</td>\n",
       "      <td>7</td>\n",
       "      <td>16</td>\n",
       "      <td>1977</td>\n",
       "      <td>2</td>\n",
       "      <td>PE</td>\n",
       "      <td>F</td>\n",
       "      <td>NaN</td>\n",
       "      <td>Ecological Archives E090-118-D1.</td>\n",
       "      <td>female</td>\n",
       "    </tr>\n",
       "    <tr>\n",
       "      <th>7</th>\n",
       "      <td>8</td>\n",
       "      <td>7</td>\n",
       "      <td>16</td>\n",
       "      <td>1977</td>\n",
       "      <td>1</td>\n",
       "      <td>DM</td>\n",
       "      <td>M</td>\n",
       "      <td>NaN</td>\n",
       "      <td>Ecological Archives E090-118-D1.</td>\n",
       "      <td>male</td>\n",
       "    </tr>\n",
       "    <tr>\n",
       "      <th>8</th>\n",
       "      <td>9</td>\n",
       "      <td>7</td>\n",
       "      <td>16</td>\n",
       "      <td>1977</td>\n",
       "      <td>1</td>\n",
       "      <td>DM and SH</td>\n",
       "      <td>NaN</td>\n",
       "      <td>NaN</td>\n",
       "      <td>Ecological Archives E090-118-D1.</td>\n",
       "      <td>NaN</td>\n",
       "    </tr>\n",
       "    <tr>\n",
       "      <th>9</th>\n",
       "      <td>10</td>\n",
       "      <td>7</td>\n",
       "      <td>16</td>\n",
       "      <td>1977</td>\n",
       "      <td>6</td>\n",
       "      <td>PF</td>\n",
       "      <td>F</td>\n",
       "      <td>NaN</td>\n",
       "      <td>Ecological Archives E090-118-D1.</td>\n",
       "      <td>female</td>\n",
       "    </tr>\n",
       "  </tbody>\n",
       "</table>\n",
       "</div>"
      ],
      "text/plain": [
       "   record_id  month  day  year  plot    species verbatimSex  wgt  \\\n",
       "0          1      7   16  1977     2        NaN           M  NaN   \n",
       "1          2      7   16  1977     3        NaN           M  NaN   \n",
       "2          3      7   16  1977     2         DM           F  NaN   \n",
       "3          4      7   16  1977     7         DM           M  NaN   \n",
       "4          5      7   16  1977     3         DM           M  NaN   \n",
       "5          6      7   16  1977     1         PF           M  NaN   \n",
       "6          7      7   16  1977     2         PE           F  NaN   \n",
       "7          8      7   16  1977     1         DM           M  NaN   \n",
       "8          9      7   16  1977     1  DM and SH         NaN  NaN   \n",
       "9         10      7   16  1977     6         PF           F  NaN   \n",
       "\n",
       "                        datasetName     sex  \n",
       "0  Ecological Archives E090-118-D1.    male  \n",
       "1  Ecological Archives E090-118-D1.    male  \n",
       "2  Ecological Archives E090-118-D1.  female  \n",
       "3  Ecological Archives E090-118-D1.    male  \n",
       "4  Ecological Archives E090-118-D1.    male  \n",
       "5  Ecological Archives E090-118-D1.    male  \n",
       "6  Ecological Archives E090-118-D1.  female  \n",
       "7  Ecological Archives E090-118-D1.    male  \n",
       "8  Ecological Archives E090-118-D1.     NaN  \n",
       "9  Ecological Archives E090-118-D1.  female  "
      ]
     },
     "execution_count": 14,
     "metadata": {},
     "output_type": "execute_result"
    }
   ],
   "source": [
    "survey_data.head(10)"
   ]
  },
  {
   "cell_type": "markdown",
   "metadata": {},
   "source": [
    "There apparently exists a double entry: `'DM and SH'`, which basically defines two records and should be decoupled to two individual records (i.e. rows). Hence, we should be able to create a additional row based on this split. To do so, an custom written function is available, called `solve_double_field_entry`:"
   ]
  },
  {
   "cell_type": "code",
   "execution_count": 15,
   "metadata": {
    "collapsed": true,
    "run_control": {
     "frozen": false,
     "read_only": false
    }
   },
   "outputs": [],
   "source": [
    "def solve_double_field_entry(df, keyword=\"and\", column=\"verbatimEventDate\"):\n",
    "    \"\"\"split on keyword in column for an enumeration and create extra record\n",
    "    \n",
    "    Parameters\n",
    "    ----------\n",
    "    df: pd.DataFrame\n",
    "        DataFrame with a double field entry in one or more values\n",
    "    keyword: str\n",
    "        word/character to split the double records on\n",
    "    column: str\n",
    "        column name to use for the decoupling of the records\n",
    "    \"\"\"\n",
    "    s = df[column].str.split(keyword).apply(pd.Series, 1).stack().str.strip()\n",
    "    s.index = s.index.droplevel(-1)\n",
    "    s.name = column\n",
    "    del df[column]\n",
    "    return df.join(s)"
   ]
  },
  {
   "cell_type": "markdown",
   "metadata": {
    "collapsed": false
   },
   "source": [
    "We can apply this function to get an update of the DataFrame, with the an additional row (occurrence) added by decoupling the specific field:"
   ]
  },
  {
   "cell_type": "markdown",
   "metadata": {},
   "source": [
    "<div class=\"alert alert-success\">\n",
    "    <b>EXERCISE</b>: Use the function solve_double_field_entry to create a DataFrame with an additional row, by decoupling the double entries. Save the result as a variable 'survey_data_decoupled'.\n",
    "</div>"
   ]
  },
  {
   "cell_type": "code",
   "execution_count": 16,
   "metadata": {
    "collapsed": false,
    "run_control": {
     "frozen": false,
     "read_only": false
    }
   },
   "outputs": [],
   "source": [
    "survey_data_decoupled = solve_double_field_entry(survey_data.copy(), \n",
    "                                                 \"and\", \n",
    "                                                 column=\"species\") # get help of the function by CTRL + TAB\n",
    "# REMARK: the copy() statement here (!)"
   ]
  },
  {
   "cell_type": "code",
   "execution_count": 17,
   "metadata": {
    "collapsed": false,
    "run_control": {
     "frozen": false,
     "read_only": false
    }
   },
   "outputs": [
    {
     "data": {
      "text/plain": [
       "array([nan, 'DM', 'PF', 'PE', 'SH', 'DS', 'PP', 'OT', 'DO', 'OX', 'SS',\n",
       "       'OL', 'RM', 'SA', 'PM', 'AH', 'DX', 'AB', 'CB', 'CM', 'CQ', 'RF',\n",
       "       'PC', 'PG', 'PH', 'PU', 'CV', 'UR', 'UP', 'ZL', 'UL', 'CS', 'SC',\n",
       "       'BA', 'SF', 'RO', 'AS', 'SO', 'PI', 'ST', 'CU', 'SU', 'RX', 'PB',\n",
       "       'PL', 'PX', 'CT', 'US'], dtype=object)"
      ]
     },
     "execution_count": 17,
     "metadata": {},
     "output_type": "execute_result"
    }
   ],
   "source": [
    "survey_data_decoupled[\"species\"].unique()"
   ]
  },
  {
   "cell_type": "code",
   "execution_count": 18,
   "metadata": {
    "collapsed": false,
    "run_control": {
     "frozen": false,
     "read_only": false
    }
   },
   "outputs": [
    {
     "data": {
      "text/html": [
       "<div>\n",
       "<table border=\"1\" class=\"dataframe\">\n",
       "  <thead>\n",
       "    <tr style=\"text-align: right;\">\n",
       "      <th></th>\n",
       "      <th>record_id</th>\n",
       "      <th>month</th>\n",
       "      <th>day</th>\n",
       "      <th>year</th>\n",
       "      <th>plot</th>\n",
       "      <th>verbatimSex</th>\n",
       "      <th>wgt</th>\n",
       "      <th>datasetName</th>\n",
       "      <th>sex</th>\n",
       "      <th>species</th>\n",
       "    </tr>\n",
       "  </thead>\n",
       "  <tbody>\n",
       "    <tr>\n",
       "      <th>0</th>\n",
       "      <td>1</td>\n",
       "      <td>7</td>\n",
       "      <td>16</td>\n",
       "      <td>1977</td>\n",
       "      <td>2</td>\n",
       "      <td>M</td>\n",
       "      <td>NaN</td>\n",
       "      <td>Ecological Archives E090-118-D1.</td>\n",
       "      <td>male</td>\n",
       "      <td>NaN</td>\n",
       "    </tr>\n",
       "    <tr>\n",
       "      <th>1</th>\n",
       "      <td>2</td>\n",
       "      <td>7</td>\n",
       "      <td>16</td>\n",
       "      <td>1977</td>\n",
       "      <td>3</td>\n",
       "      <td>M</td>\n",
       "      <td>NaN</td>\n",
       "      <td>Ecological Archives E090-118-D1.</td>\n",
       "      <td>male</td>\n",
       "      <td>NaN</td>\n",
       "    </tr>\n",
       "    <tr>\n",
       "      <th>2</th>\n",
       "      <td>3</td>\n",
       "      <td>7</td>\n",
       "      <td>16</td>\n",
       "      <td>1977</td>\n",
       "      <td>2</td>\n",
       "      <td>F</td>\n",
       "      <td>NaN</td>\n",
       "      <td>Ecological Archives E090-118-D1.</td>\n",
       "      <td>female</td>\n",
       "      <td>DM</td>\n",
       "    </tr>\n",
       "    <tr>\n",
       "      <th>3</th>\n",
       "      <td>4</td>\n",
       "      <td>7</td>\n",
       "      <td>16</td>\n",
       "      <td>1977</td>\n",
       "      <td>7</td>\n",
       "      <td>M</td>\n",
       "      <td>NaN</td>\n",
       "      <td>Ecological Archives E090-118-D1.</td>\n",
       "      <td>male</td>\n",
       "      <td>DM</td>\n",
       "    </tr>\n",
       "    <tr>\n",
       "      <th>4</th>\n",
       "      <td>5</td>\n",
       "      <td>7</td>\n",
       "      <td>16</td>\n",
       "      <td>1977</td>\n",
       "      <td>3</td>\n",
       "      <td>M</td>\n",
       "      <td>NaN</td>\n",
       "      <td>Ecological Archives E090-118-D1.</td>\n",
       "      <td>male</td>\n",
       "      <td>DM</td>\n",
       "    </tr>\n",
       "    <tr>\n",
       "      <th>5</th>\n",
       "      <td>6</td>\n",
       "      <td>7</td>\n",
       "      <td>16</td>\n",
       "      <td>1977</td>\n",
       "      <td>1</td>\n",
       "      <td>M</td>\n",
       "      <td>NaN</td>\n",
       "      <td>Ecological Archives E090-118-D1.</td>\n",
       "      <td>male</td>\n",
       "      <td>PF</td>\n",
       "    </tr>\n",
       "    <tr>\n",
       "      <th>6</th>\n",
       "      <td>7</td>\n",
       "      <td>7</td>\n",
       "      <td>16</td>\n",
       "      <td>1977</td>\n",
       "      <td>2</td>\n",
       "      <td>F</td>\n",
       "      <td>NaN</td>\n",
       "      <td>Ecological Archives E090-118-D1.</td>\n",
       "      <td>female</td>\n",
       "      <td>PE</td>\n",
       "    </tr>\n",
       "    <tr>\n",
       "      <th>7</th>\n",
       "      <td>8</td>\n",
       "      <td>7</td>\n",
       "      <td>16</td>\n",
       "      <td>1977</td>\n",
       "      <td>1</td>\n",
       "      <td>M</td>\n",
       "      <td>NaN</td>\n",
       "      <td>Ecological Archives E090-118-D1.</td>\n",
       "      <td>male</td>\n",
       "      <td>DM</td>\n",
       "    </tr>\n",
       "    <tr>\n",
       "      <th>8</th>\n",
       "      <td>9</td>\n",
       "      <td>7</td>\n",
       "      <td>16</td>\n",
       "      <td>1977</td>\n",
       "      <td>1</td>\n",
       "      <td>NaN</td>\n",
       "      <td>NaN</td>\n",
       "      <td>Ecological Archives E090-118-D1.</td>\n",
       "      <td>NaN</td>\n",
       "      <td>DM</td>\n",
       "    </tr>\n",
       "    <tr>\n",
       "      <th>8</th>\n",
       "      <td>9</td>\n",
       "      <td>7</td>\n",
       "      <td>16</td>\n",
       "      <td>1977</td>\n",
       "      <td>1</td>\n",
       "      <td>NaN</td>\n",
       "      <td>NaN</td>\n",
       "      <td>Ecological Archives E090-118-D1.</td>\n",
       "      <td>NaN</td>\n",
       "      <td>SH</td>\n",
       "    </tr>\n",
       "    <tr>\n",
       "      <th>9</th>\n",
       "      <td>10</td>\n",
       "      <td>7</td>\n",
       "      <td>16</td>\n",
       "      <td>1977</td>\n",
       "      <td>6</td>\n",
       "      <td>F</td>\n",
       "      <td>NaN</td>\n",
       "      <td>Ecological Archives E090-118-D1.</td>\n",
       "      <td>female</td>\n",
       "      <td>PF</td>\n",
       "    </tr>\n",
       "  </tbody>\n",
       "</table>\n",
       "</div>"
      ],
      "text/plain": [
       "   record_id  month  day  year  plot verbatimSex  wgt  \\\n",
       "0          1      7   16  1977     2           M  NaN   \n",
       "1          2      7   16  1977     3           M  NaN   \n",
       "2          3      7   16  1977     2           F  NaN   \n",
       "3          4      7   16  1977     7           M  NaN   \n",
       "4          5      7   16  1977     3           M  NaN   \n",
       "5          6      7   16  1977     1           M  NaN   \n",
       "6          7      7   16  1977     2           F  NaN   \n",
       "7          8      7   16  1977     1           M  NaN   \n",
       "8          9      7   16  1977     1         NaN  NaN   \n",
       "8          9      7   16  1977     1         NaN  NaN   \n",
       "9         10      7   16  1977     6           F  NaN   \n",
       "\n",
       "                        datasetName     sex species  \n",
       "0  Ecological Archives E090-118-D1.    male     NaN  \n",
       "1  Ecological Archives E090-118-D1.    male     NaN  \n",
       "2  Ecological Archives E090-118-D1.  female      DM  \n",
       "3  Ecological Archives E090-118-D1.    male      DM  \n",
       "4  Ecological Archives E090-118-D1.    male      DM  \n",
       "5  Ecological Archives E090-118-D1.    male      PF  \n",
       "6  Ecological Archives E090-118-D1.  female      PE  \n",
       "7  Ecological Archives E090-118-D1.    male      DM  \n",
       "8  Ecological Archives E090-118-D1.     NaN      DM  \n",
       "8  Ecological Archives E090-118-D1.     NaN      SH  \n",
       "9  Ecological Archives E090-118-D1.  female      PF  "
      ]
     },
     "execution_count": 18,
     "metadata": {},
     "output_type": "execute_result"
    }
   ],
   "source": [
    "survey_data_decoupled.head(11)"
   ]
  },
  {
   "cell_type": "markdown",
   "metadata": {},
   "source": [
    "### Create new occurrence identifier"
   ]
  },
  {
   "cell_type": "markdown",
   "metadata": {},
   "source": [
    "The `record_id` is no longer a unique identifier after the decoupling of this dataset. We will make a new dataset-specific identifier, by adding a column called `occurrenceID` that takes a new counter as identifier. As a simply and straightforward approach, we will use a new counter for the whole dataset, starting with 1:"
   ]
  },
  {
   "cell_type": "code",
   "execution_count": 19,
   "metadata": {
    "collapsed": false,
    "run_control": {
     "frozen": false,
     "read_only": false
    }
   },
   "outputs": [
    {
     "data": {
      "text/plain": [
       "array([    1,     2,     3, ..., 35548, 35549, 35550])"
      ]
     },
     "execution_count": 19,
     "metadata": {},
     "output_type": "execute_result"
    }
   ],
   "source": [
    "np.arange(1, len(survey_data_decoupled) +1, 1)"
   ]
  },
  {
   "cell_type": "markdown",
   "metadata": {},
   "source": [
    "<div class=\"alert alert-success\">\n",
    "    <b>EXERCISE</b>: Create a new column with header 'occurrenceID' with the values 1 -> 35550 as field values. Make the maximal value dependent from the total number of values in the data set\n",
    "</div>"
   ]
  },
  {
   "cell_type": "code",
   "execution_count": 20,
   "metadata": {
    "collapsed": true,
    "run_control": {
     "frozen": false,
     "read_only": false
    }
   },
   "outputs": [],
   "source": [
    "survey_data_decoupled[\"occurrenceID\"] = np.arange(1, len(survey_data_decoupled) +1, 1)"
   ]
  },
  {
   "cell_type": "markdown",
   "metadata": {},
   "source": [
    "To overcome the confusion on having both a `record_id` and `occurrenceID` field, we will remove the `record_id` term:"
   ]
  },
  {
   "cell_type": "code",
   "execution_count": 21,
   "metadata": {
    "collapsed": false,
    "run_control": {
     "frozen": false,
     "read_only": false
    }
   },
   "outputs": [],
   "source": [
    "survey_data_decoupled = survey_data_decoupled.drop(\"record_id\", axis=1)"
   ]
  },
  {
   "cell_type": "code",
   "execution_count": 22,
   "metadata": {
    "collapsed": false,
    "run_control": {
     "frozen": false,
     "read_only": false
    }
   },
   "outputs": [
    {
     "data": {
      "text/html": [
       "<div>\n",
       "<table border=\"1\" class=\"dataframe\">\n",
       "  <thead>\n",
       "    <tr style=\"text-align: right;\">\n",
       "      <th></th>\n",
       "      <th>month</th>\n",
       "      <th>day</th>\n",
       "      <th>year</th>\n",
       "      <th>plot</th>\n",
       "      <th>verbatimSex</th>\n",
       "      <th>wgt</th>\n",
       "      <th>datasetName</th>\n",
       "      <th>sex</th>\n",
       "      <th>species</th>\n",
       "      <th>occurrenceID</th>\n",
       "    </tr>\n",
       "  </thead>\n",
       "  <tbody>\n",
       "    <tr>\n",
       "      <th>0</th>\n",
       "      <td>7</td>\n",
       "      <td>16</td>\n",
       "      <td>1977</td>\n",
       "      <td>2</td>\n",
       "      <td>M</td>\n",
       "      <td>NaN</td>\n",
       "      <td>Ecological Archives E090-118-D1.</td>\n",
       "      <td>male</td>\n",
       "      <td>NaN</td>\n",
       "      <td>1</td>\n",
       "    </tr>\n",
       "    <tr>\n",
       "      <th>1</th>\n",
       "      <td>7</td>\n",
       "      <td>16</td>\n",
       "      <td>1977</td>\n",
       "      <td>3</td>\n",
       "      <td>M</td>\n",
       "      <td>NaN</td>\n",
       "      <td>Ecological Archives E090-118-D1.</td>\n",
       "      <td>male</td>\n",
       "      <td>NaN</td>\n",
       "      <td>2</td>\n",
       "    </tr>\n",
       "    <tr>\n",
       "      <th>2</th>\n",
       "      <td>7</td>\n",
       "      <td>16</td>\n",
       "      <td>1977</td>\n",
       "      <td>2</td>\n",
       "      <td>F</td>\n",
       "      <td>NaN</td>\n",
       "      <td>Ecological Archives E090-118-D1.</td>\n",
       "      <td>female</td>\n",
       "      <td>DM</td>\n",
       "      <td>3</td>\n",
       "    </tr>\n",
       "    <tr>\n",
       "      <th>3</th>\n",
       "      <td>7</td>\n",
       "      <td>16</td>\n",
       "      <td>1977</td>\n",
       "      <td>7</td>\n",
       "      <td>M</td>\n",
       "      <td>NaN</td>\n",
       "      <td>Ecological Archives E090-118-D1.</td>\n",
       "      <td>male</td>\n",
       "      <td>DM</td>\n",
       "      <td>4</td>\n",
       "    </tr>\n",
       "    <tr>\n",
       "      <th>4</th>\n",
       "      <td>7</td>\n",
       "      <td>16</td>\n",
       "      <td>1977</td>\n",
       "      <td>3</td>\n",
       "      <td>M</td>\n",
       "      <td>NaN</td>\n",
       "      <td>Ecological Archives E090-118-D1.</td>\n",
       "      <td>male</td>\n",
       "      <td>DM</td>\n",
       "      <td>5</td>\n",
       "    </tr>\n",
       "    <tr>\n",
       "      <th>5</th>\n",
       "      <td>7</td>\n",
       "      <td>16</td>\n",
       "      <td>1977</td>\n",
       "      <td>1</td>\n",
       "      <td>M</td>\n",
       "      <td>NaN</td>\n",
       "      <td>Ecological Archives E090-118-D1.</td>\n",
       "      <td>male</td>\n",
       "      <td>PF</td>\n",
       "      <td>6</td>\n",
       "    </tr>\n",
       "    <tr>\n",
       "      <th>6</th>\n",
       "      <td>7</td>\n",
       "      <td>16</td>\n",
       "      <td>1977</td>\n",
       "      <td>2</td>\n",
       "      <td>F</td>\n",
       "      <td>NaN</td>\n",
       "      <td>Ecological Archives E090-118-D1.</td>\n",
       "      <td>female</td>\n",
       "      <td>PE</td>\n",
       "      <td>7</td>\n",
       "    </tr>\n",
       "    <tr>\n",
       "      <th>7</th>\n",
       "      <td>7</td>\n",
       "      <td>16</td>\n",
       "      <td>1977</td>\n",
       "      <td>1</td>\n",
       "      <td>M</td>\n",
       "      <td>NaN</td>\n",
       "      <td>Ecological Archives E090-118-D1.</td>\n",
       "      <td>male</td>\n",
       "      <td>DM</td>\n",
       "      <td>8</td>\n",
       "    </tr>\n",
       "    <tr>\n",
       "      <th>8</th>\n",
       "      <td>7</td>\n",
       "      <td>16</td>\n",
       "      <td>1977</td>\n",
       "      <td>1</td>\n",
       "      <td>NaN</td>\n",
       "      <td>NaN</td>\n",
       "      <td>Ecological Archives E090-118-D1.</td>\n",
       "      <td>NaN</td>\n",
       "      <td>DM</td>\n",
       "      <td>9</td>\n",
       "    </tr>\n",
       "    <tr>\n",
       "      <th>8</th>\n",
       "      <td>7</td>\n",
       "      <td>16</td>\n",
       "      <td>1977</td>\n",
       "      <td>1</td>\n",
       "      <td>NaN</td>\n",
       "      <td>NaN</td>\n",
       "      <td>Ecological Archives E090-118-D1.</td>\n",
       "      <td>NaN</td>\n",
       "      <td>SH</td>\n",
       "      <td>10</td>\n",
       "    </tr>\n",
       "  </tbody>\n",
       "</table>\n",
       "</div>"
      ],
      "text/plain": [
       "   month  day  year  plot verbatimSex  wgt                       datasetName  \\\n",
       "0      7   16  1977     2           M  NaN  Ecological Archives E090-118-D1.   \n",
       "1      7   16  1977     3           M  NaN  Ecological Archives E090-118-D1.   \n",
       "2      7   16  1977     2           F  NaN  Ecological Archives E090-118-D1.   \n",
       "3      7   16  1977     7           M  NaN  Ecological Archives E090-118-D1.   \n",
       "4      7   16  1977     3           M  NaN  Ecological Archives E090-118-D1.   \n",
       "5      7   16  1977     1           M  NaN  Ecological Archives E090-118-D1.   \n",
       "6      7   16  1977     2           F  NaN  Ecological Archives E090-118-D1.   \n",
       "7      7   16  1977     1           M  NaN  Ecological Archives E090-118-D1.   \n",
       "8      7   16  1977     1         NaN  NaN  Ecological Archives E090-118-D1.   \n",
       "8      7   16  1977     1         NaN  NaN  Ecological Archives E090-118-D1.   \n",
       "\n",
       "      sex species  occurrenceID  \n",
       "0    male     NaN             1  \n",
       "1    male     NaN             2  \n",
       "2  female      DM             3  \n",
       "3    male      DM             4  \n",
       "4    male      DM             5  \n",
       "5    male      PF             6  \n",
       "6  female      PE             7  \n",
       "7    male      DM             8  \n",
       "8     NaN      DM             9  \n",
       "8     NaN      SH            10  "
      ]
     },
     "execution_count": 22,
     "metadata": {},
     "output_type": "execute_result"
    }
   ],
   "source": [
    "survey_data_decoupled.head(10)"
   ]
  },
  {
   "cell_type": "markdown",
   "metadata": {},
   "source": [
    "### Converting the date values"
   ]
  },
  {
   "cell_type": "markdown",
   "metadata": {
    "collapsed": true,
    "run_control": {
     "frozen": false,
     "read_only": false
    }
   },
   "source": [
    "In the survey-dataset we received, the `month`, `day`, and `year` columns are containing the information about the date, i.e. `eventDate` in DarwinCore terms. We want this data in a ISO format `YYYY-MM-DD`. A convenvient Pandas function is the usage of `to_datatime`, which provides multiple options to interpret dates. One of thes options is the automatic interpretation of some 'typical' columns, like `year`, `month` and `day`, when passing a DataFrame."
   ]
  },
  {
   "cell_type": "code",
   "execution_count": 23,
   "metadata": {
    "collapsed": false,
    "run_control": {
     "frozen": false,
     "read_only": false
    }
   },
   "outputs": [],
   "source": [
    "# pd.to_datetime(survey_data_decoupled[[\"year\", \"month\", \"day\"]])  # uncomment the line and test this statement"
   ]
  },
  {
   "cell_type": "markdown",
   "metadata": {
    "collapsed": true,
    "run_control": {
     "frozen": false,
     "read_only": false
    }
   },
   "source": [
    "This is not working, not all dates can be interpreted... We should get some more information on the reason of the errors. By using the option `coerce`, the problem makers will be labeled as a missing value `NaT`. We can count the number of dates that can not be interpreted:"
   ]
  },
  {
   "cell_type": "code",
   "execution_count": 24,
   "metadata": {
    "collapsed": false,
    "run_control": {
     "frozen": false,
     "read_only": false
    }
   },
   "outputs": [
    {
     "data": {
      "text/plain": [
       "136"
      ]
     },
     "execution_count": 24,
     "metadata": {},
     "output_type": "execute_result"
    }
   ],
   "source": [
    "sum(pd.to_datetime(survey_data_decoupled[[\"year\", \"month\", \"day\"]], errors='coerce').isnull())"
   ]
  },
  {
   "cell_type": "markdown",
   "metadata": {},
   "source": [
    "<div class=\"alert alert-success\">\n",
    "    <b>EXERCISE</b>: Make a subselection of 'survey_data_decoupled' containing those records that can not correctly be interpreted as date values and save the resulting DataFrame as variable trouble_makers \n",
    "</div>"
   ]
  },
  {
   "cell_type": "code",
   "execution_count": 25,
   "metadata": {
    "collapsed": false,
    "run_control": {
     "frozen": false,
     "read_only": false
    }
   },
   "outputs": [],
   "source": [
    "mask = pd.to_datetime(survey_data_decoupled[[\"year\", \"month\", \"day\"]], errors='coerce').isnull()\n",
    "trouble_makers = survey_data_decoupled[mask]"
   ]
  },
  {
   "cell_type": "markdown",
   "metadata": {},
   "source": [
    "Checking some charactersitics of the trouble_makers:"
   ]
  },
  {
   "cell_type": "code",
   "execution_count": 26,
   "metadata": {
    "collapsed": false,
    "run_control": {
     "frozen": false,
     "read_only": false
    }
   },
   "outputs": [
    {
     "data": {
      "text/html": [
       "<div>\n",
       "<table border=\"1\" class=\"dataframe\">\n",
       "  <thead>\n",
       "    <tr style=\"text-align: right;\">\n",
       "      <th></th>\n",
       "      <th>month</th>\n",
       "      <th>day</th>\n",
       "      <th>year</th>\n",
       "      <th>plot</th>\n",
       "      <th>verbatimSex</th>\n",
       "      <th>wgt</th>\n",
       "      <th>datasetName</th>\n",
       "      <th>sex</th>\n",
       "      <th>species</th>\n",
       "      <th>occurrenceID</th>\n",
       "    </tr>\n",
       "  </thead>\n",
       "  <tbody>\n",
       "    <tr>\n",
       "      <th>30649</th>\n",
       "      <td>4</td>\n",
       "      <td>31</td>\n",
       "      <td>2000</td>\n",
       "      <td>6</td>\n",
       "      <td>F</td>\n",
       "      <td>19.0</td>\n",
       "      <td>Ecological Archives E090-118-D1.</td>\n",
       "      <td>female</td>\n",
       "      <td>PP</td>\n",
       "      <td>30651</td>\n",
       "    </tr>\n",
       "    <tr>\n",
       "      <th>30650</th>\n",
       "      <td>4</td>\n",
       "      <td>31</td>\n",
       "      <td>2000</td>\n",
       "      <td>6</td>\n",
       "      <td>M</td>\n",
       "      <td>32.0</td>\n",
       "      <td>Ecological Archives E090-118-D1.</td>\n",
       "      <td>male</td>\n",
       "      <td>PB</td>\n",
       "      <td>30652</td>\n",
       "    </tr>\n",
       "    <tr>\n",
       "      <th>30651</th>\n",
       "      <td>4</td>\n",
       "      <td>31</td>\n",
       "      <td>2000</td>\n",
       "      <td>6</td>\n",
       "      <td>F</td>\n",
       "      <td>30.0</td>\n",
       "      <td>Ecological Archives E090-118-D1.</td>\n",
       "      <td>female</td>\n",
       "      <td>PB</td>\n",
       "      <td>30653</td>\n",
       "    </tr>\n",
       "    <tr>\n",
       "      <th>30652</th>\n",
       "      <td>4</td>\n",
       "      <td>31</td>\n",
       "      <td>2000</td>\n",
       "      <td>6</td>\n",
       "      <td>M</td>\n",
       "      <td>20.0</td>\n",
       "      <td>Ecological Archives E090-118-D1.</td>\n",
       "      <td>male</td>\n",
       "      <td>PP</td>\n",
       "      <td>30654</td>\n",
       "    </tr>\n",
       "    <tr>\n",
       "      <th>30653</th>\n",
       "      <td>4</td>\n",
       "      <td>31</td>\n",
       "      <td>2000</td>\n",
       "      <td>6</td>\n",
       "      <td>M</td>\n",
       "      <td>24.0</td>\n",
       "      <td>Ecological Archives E090-118-D1.</td>\n",
       "      <td>male</td>\n",
       "      <td>PP</td>\n",
       "      <td>30655</td>\n",
       "    </tr>\n",
       "  </tbody>\n",
       "</table>\n",
       "</div>"
      ],
      "text/plain": [
       "       month  day  year  plot verbatimSex   wgt  \\\n",
       "30649      4   31  2000     6           F  19.0   \n",
       "30650      4   31  2000     6           M  32.0   \n",
       "30651      4   31  2000     6           F  30.0   \n",
       "30652      4   31  2000     6           M  20.0   \n",
       "30653      4   31  2000     6           M  24.0   \n",
       "\n",
       "                            datasetName     sex species  occurrenceID  \n",
       "30649  Ecological Archives E090-118-D1.  female      PP         30651  \n",
       "30650  Ecological Archives E090-118-D1.    male      PB         30652  \n",
       "30651  Ecological Archives E090-118-D1.  female      PB         30653  \n",
       "30652  Ecological Archives E090-118-D1.    male      PP         30654  \n",
       "30653  Ecological Archives E090-118-D1.    male      PP         30655  "
      ]
     },
     "execution_count": 26,
     "metadata": {},
     "output_type": "execute_result"
    }
   ],
   "source": [
    "trouble_makers.head()"
   ]
  },
  {
   "cell_type": "code",
   "execution_count": 27,
   "metadata": {
    "collapsed": false,
    "run_control": {
     "frozen": false,
     "read_only": false
    }
   },
   "outputs": [
    {
     "data": {
      "text/plain": [
       "array([31])"
      ]
     },
     "execution_count": 27,
     "metadata": {},
     "output_type": "execute_result"
    }
   ],
   "source": [
    "trouble_makers[\"day\"].unique()"
   ]
  },
  {
   "cell_type": "code",
   "execution_count": 28,
   "metadata": {
    "collapsed": false,
    "run_control": {
     "frozen": false,
     "read_only": false
    }
   },
   "outputs": [
    {
     "data": {
      "text/plain": [
       "array([4, 9])"
      ]
     },
     "execution_count": 28,
     "metadata": {},
     "output_type": "execute_result"
    }
   ],
   "source": [
    "trouble_makers[\"month\"].unique()"
   ]
  },
  {
   "cell_type": "code",
   "execution_count": 29,
   "metadata": {
    "collapsed": false,
    "run_control": {
     "frozen": false,
     "read_only": false
    }
   },
   "outputs": [
    {
     "data": {
      "text/plain": [
       "array([2000])"
      ]
     },
     "execution_count": 29,
     "metadata": {},
     "output_type": "execute_result"
    }
   ],
   "source": [
    "trouble_makers[\"year\"].unique()"
   ]
  },
  {
   "cell_type": "markdown",
   "metadata": {
    "collapsed": true,
    "run_control": {
     "frozen": false,
     "read_only": false
    }
   },
   "source": [
    "So, basically the problem is the presence of day `31` during the months April and September of the year 2000. At this moment, we would have to recheck the original data in order to know how the issue could be solved. Apparently, there has been a data-entry problem in 2000, making the `31` days during this period should be `30`. It would be optimal to correct this in the source dataset, but for the further exercise, it will be corrected here."
   ]
  },
  {
   "cell_type": "markdown",
   "metadata": {},
   "source": [
    "<div class=\"alert alert-success\">\n",
    "    <b>EXERCISE</b>: Replace in the DataFrame survey_data_decoupled all of the troublemakers `day` values into the value 30\n",
    "</div>"
   ]
  },
  {
   "cell_type": "code",
   "execution_count": 30,
   "metadata": {
    "collapsed": false,
    "run_control": {
     "frozen": false,
     "read_only": false
    }
   },
   "outputs": [],
   "source": [
    "survey_data_decoupled.loc[pd.to_datetime(survey_data_decoupled[[\"year\", \"month\", \"day\"]], \n",
    "                                         errors='coerce').isnull(), \"day\"] = 30"
   ]
  },
  {
   "cell_type": "markdown",
   "metadata": {},
   "source": [
    "Now, we do the parsing again to create a proper `eventDate` field, containing the dates:"
   ]
  },
  {
   "cell_type": "code",
   "execution_count": 31,
   "metadata": {
    "collapsed": false,
    "run_control": {
     "frozen": false,
     "read_only": false
    }
   },
   "outputs": [],
   "source": [
    "survey_data_decoupled[\"eventDate\"] = \\\n",
    "    pd.to_datetime(survey_data_decoupled[[\"year\", \"month\", \"day\"]])"
   ]
  },
  {
   "cell_type": "markdown",
   "metadata": {},
   "source": [
    "Just let's do a check the amount of data for each year:"
   ]
  },
  {
   "cell_type": "markdown",
   "metadata": {},
   "source": [
    "<div class=\"alert alert-success\">\n",
    "    <b>EXERCISE</b>: Create a horizontal bar chart with the number of records for each year\n",
    "</div>"
   ]
  },
  {
   "cell_type": "code",
   "execution_count": 32,
   "metadata": {
    "collapsed": false
   },
   "outputs": [
    {
     "data": {
      "text/plain": [
       "<matplotlib.axes._subplots.AxesSubplot at 0x7f8a0979b5f8>"
      ]
     },
     "execution_count": 32,
     "metadata": {},
     "output_type": "execute_result"
    },
    {
     "data": {
      "image/png": "[encoded data removed]",
      "text/plain": [
       "<matplotlib.figure.Figure at 0x7f8a097523c8>"
      ]
     },
     "metadata": {},
     "output_type": "display_data"
    }
   ],
   "source": [
    "survey_data_decoupled.groupby(\"year\").size().plot(kind='bar')"
   ]
  },
  {
   "cell_type": "code",
   "execution_count": 33,
   "metadata": {
    "collapsed": false,
    "run_control": {
     "frozen": false,
     "read_only": false
    }
   },
   "outputs": [
    {
     "data": {
      "text/html": [
       "<div>\n",
       "<table border=\"1\" class=\"dataframe\">\n",
       "  <thead>\n",
       "    <tr style=\"text-align: right;\">\n",
       "      <th></th>\n",
       "      <th>month</th>\n",
       "      <th>day</th>\n",
       "      <th>year</th>\n",
       "      <th>plot</th>\n",
       "      <th>verbatimSex</th>\n",
       "      <th>wgt</th>\n",
       "      <th>datasetName</th>\n",
       "      <th>sex</th>\n",
       "      <th>species</th>\n",
       "      <th>occurrenceID</th>\n",
       "      <th>eventDate</th>\n",
       "    </tr>\n",
       "  </thead>\n",
       "  <tbody>\n",
       "    <tr>\n",
       "      <th>0</th>\n",
       "      <td>7</td>\n",
       "      <td>16</td>\n",
       "      <td>1977</td>\n",
       "      <td>2</td>\n",
       "      <td>M</td>\n",
       "      <td>NaN</td>\n",
       "      <td>Ecological Archives E090-118-D1.</td>\n",
       "      <td>male</td>\n",
       "      <td>NaN</td>\n",
       "      <td>1</td>\n",
       "      <td>1977-07-16</td>\n",
       "    </tr>\n",
       "    <tr>\n",
       "      <th>1</th>\n",
       "      <td>7</td>\n",
       "      <td>16</td>\n",
       "      <td>1977</td>\n",
       "      <td>3</td>\n",
       "      <td>M</td>\n",
       "      <td>NaN</td>\n",
       "      <td>Ecological Archives E090-118-D1.</td>\n",
       "      <td>male</td>\n",
       "      <td>NaN</td>\n",
       "      <td>2</td>\n",
       "      <td>1977-07-16</td>\n",
       "    </tr>\n",
       "    <tr>\n",
       "      <th>2</th>\n",
       "      <td>7</td>\n",
       "      <td>16</td>\n",
       "      <td>1977</td>\n",
       "      <td>2</td>\n",
       "      <td>F</td>\n",
       "      <td>NaN</td>\n",
       "      <td>Ecological Archives E090-118-D1.</td>\n",
       "      <td>female</td>\n",
       "      <td>DM</td>\n",
       "      <td>3</td>\n",
       "      <td>1977-07-16</td>\n",
       "    </tr>\n",
       "    <tr>\n",
       "      <th>3</th>\n",
       "      <td>7</td>\n",
       "      <td>16</td>\n",
       "      <td>1977</td>\n",
       "      <td>7</td>\n",
       "      <td>M</td>\n",
       "      <td>NaN</td>\n",
       "      <td>Ecological Archives E090-118-D1.</td>\n",
       "      <td>male</td>\n",
       "      <td>DM</td>\n",
       "      <td>4</td>\n",
       "      <td>1977-07-16</td>\n",
       "    </tr>\n",
       "    <tr>\n",
       "      <th>4</th>\n",
       "      <td>7</td>\n",
       "      <td>16</td>\n",
       "      <td>1977</td>\n",
       "      <td>3</td>\n",
       "      <td>M</td>\n",
       "      <td>NaN</td>\n",
       "      <td>Ecological Archives E090-118-D1.</td>\n",
       "      <td>male</td>\n",
       "      <td>DM</td>\n",
       "      <td>5</td>\n",
       "      <td>1977-07-16</td>\n",
       "    </tr>\n",
       "  </tbody>\n",
       "</table>\n",
       "</div>"
      ],
      "text/plain": [
       "   month  day  year  plot verbatimSex  wgt                       datasetName  \\\n",
       "0      7   16  1977     2           M  NaN  Ecological Archives E090-118-D1.   \n",
       "1      7   16  1977     3           M  NaN  Ecological Archives E090-118-D1.   \n",
       "2      7   16  1977     2           F  NaN  Ecological Archives E090-118-D1.   \n",
       "3      7   16  1977     7           M  NaN  Ecological Archives E090-118-D1.   \n",
       "4      7   16  1977     3           M  NaN  Ecological Archives E090-118-D1.   \n",
       "\n",
       "      sex species  occurrenceID  eventDate  \n",
       "0    male     NaN             1 1977-07-16  \n",
       "1    male     NaN             2 1977-07-16  \n",
       "2  female      DM             3 1977-07-16  \n",
       "3    male      DM             4 1977-07-16  \n",
       "4    male      DM             5 1977-07-16  "
      ]
     },
     "execution_count": 33,
     "metadata": {},
     "output_type": "execute_result"
    }
   ],
   "source": [
    "survey_data_decoupled.head()"
   ]
  },
  {
   "cell_type": "markdown",
   "metadata": {},
   "source": [
    "Currently, the dates are stored in a python specific date format:"
   ]
  },
  {
   "cell_type": "code",
   "execution_count": 34,
   "metadata": {
    "collapsed": false,
    "run_control": {
     "frozen": false,
     "read_only": false
    }
   },
   "outputs": [
    {
     "data": {
      "text/plain": [
       "dtype('<M8[ns]')"
      ]
     },
     "execution_count": 34,
     "metadata": {},
     "output_type": "execute_result"
    }
   ],
   "source": [
    "survey_data_decoupled[\"eventDate\"].dtype"
   ]
  },
  {
   "cell_type": "markdown",
   "metadata": {},
   "source": [
    "This is great, because it allows for many functionalities:"
   ]
  },
  {
   "cell_type": "code",
   "execution_count": 35,
   "metadata": {
    "collapsed": false,
    "run_control": {
     "frozen": false,
     "read_only": false
    }
   },
   "outputs": [
    {
     "data": {
      "text/plain": [
       "<pandas.tseries.common.DatetimeProperties object at 0x7f8a18b1fe80>"
      ]
     },
     "execution_count": 35,
     "metadata": {},
     "output_type": "execute_result"
    }
   ],
   "source": [
    "survey_data_decoupled.eventDate.dt #add a dot and press TAB to explore the date options it provides "
   ]
  },
  {
   "cell_type": "markdown",
   "metadata": {},
   "source": [
    "<div class=\"alert alert-success\">\n",
    "    <b>EXERCISE</b>: Create a horizontal bar chart with the number of records for each year (cfr. supra), but without using the column 'year'\n",
    "</div>"
   ]
  },
  {
   "cell_type": "code",
   "execution_count": 36,
   "metadata": {
    "collapsed": false
   },
   "outputs": [
    {
     "data": {
      "text/plain": [
       "<matplotlib.axes._subplots.AxesSubplot at 0x7f8a099e64a8>"
      ]
     },
     "execution_count": 36,
     "metadata": {},
     "output_type": "execute_result"
    },
    {
     "data": {
      "image/png": "[encoded data removed]",
      "text/plain": [
       "<matplotlib.figure.Figure at 0x7f8a09a28978>"
      ]
     },
     "metadata": {},
     "output_type": "display_data"
    }
   ],
   "source": [
    "survey_data_decoupled.groupby(survey_data_decoupled[\"eventDate\"].dt.year).size().plot(kind='barh')"
   ]
  },
  {
   "cell_type": "markdown",
   "metadata": {},
   "source": [
    "So, we actually do not need the `day`, `month`, `year` columns anymore and have other options available as well"
   ]
  },
  {
   "cell_type": "markdown",
   "metadata": {},
   "source": [
    "<div class=\"alert alert-success\">\n",
    "    <b>EXERCISE</b>: Create a bar chart with the number of records for each weekday\n",
    "</div>"
   ]
  },
  {
   "cell_type": "code",
   "execution_count": 37,
   "metadata": {
    "collapsed": false,
    "run_control": {
     "frozen": false,
     "read_only": false
    }
   },
   "outputs": [
    {
     "data": {
      "image/png": "[encoded data removed]",
      "text/plain": [
       "<matplotlib.figure.Figure at 0x7f8a09d39358>"
      ]
     },
     "metadata": {},
     "output_type": "display_data"
    }
   ],
   "source": [
    "ax = survey_data_decoupled.groupby(survey_data_decoupled[\"eventDate\"].dt.weekday).size().plot(kind=\"barh\")\n",
    "# I you want to represent the ticklabels as proper names, uncomment the following line\n",
    "#ticklabels = ax.set_yticklabels([\"Monday\", \"Tuesday\", \"Wednesday\", \"Thursday\", \"Friday\", \"Saturday\", \"Sunday\"])"
   ]
  },
  {
   "cell_type": "markdown",
   "metadata": {},
   "source": [
    "When saving the information to a file (e.g. CSV-file), this data type will be automatically converted to a string representation. However, we could also decide to explicitly provide the string format the dates are stored (losing the date type functionalities), in order to have full control on the way these dates are formatted:"
   ]
  },
  {
   "cell_type": "code",
   "execution_count": 38,
   "metadata": {
    "collapsed": false
   },
   "outputs": [],
   "source": [
    "survey_data_decoupled[\"eventDate\"] = survey_data_decoupled[\"eventDate\"].dt.strftime('%Y-%m-%d')"
   ]
  },
  {
   "cell_type": "code",
   "execution_count": 39,
   "metadata": {
    "collapsed": false,
    "run_control": {
     "frozen": false,
     "read_only": false
    }
   },
   "outputs": [
    {
     "data": {
      "text/plain": [
       "0    1977-07-16\n",
       "1    1977-07-16\n",
       "2    1977-07-16\n",
       "3    1977-07-16\n",
       "4    1977-07-16\n",
       "Name: eventDate, dtype: object"
      ]
     },
     "execution_count": 39,
     "metadata": {},
     "output_type": "execute_result"
    }
   ],
   "source": [
    "survey_data_decoupled[\"eventDate\"].head()"
   ]
  },
  {
   "cell_type": "markdown",
   "metadata": {},
   "source": [
    "As we do not need the `day`, `month`, `year` columns anymore, we can drop them from the DataFrame:"
   ]
  },
  {
   "cell_type": "markdown",
   "metadata": {},
   "source": [
    "<div class=\"alert alert-success\">\n",
    "    <b>EXERCISE</b>: Remove the columns day, month and year from the survey_data_decoupled DataFrame:\n",
    "</div>"
   ]
  },
  {
   "cell_type": "code",
   "execution_count": 40,
   "metadata": {
    "collapsed": true,
    "run_control": {
     "frozen": false,
     "read_only": false
    }
   },
   "outputs": [],
   "source": [
    "survey_data_decoupled = survey_data_decoupled.drop([\"day\", \"month\", \"year\"], axis=1)"
   ]
  },
  {
   "cell_type": "markdown",
   "metadata": {},
   "source": [
    "### Provide [weight](http://tdwg.github.io/dwc/terms/#MeasurementOrFact) in appropriate DwC term"
   ]
  },
  {
   "cell_type": "markdown",
   "metadata": {},
   "source": [
    "The [weights](http://esapubs.org/archive/ecol/E090/118/Portal_rodent_metadata.htm) of the animals are expressed in gram, which can be mapped to the DwC Term [MeasurementOrFact](http://tdwg.github.io/dwc/terms/#MeasurementOrFact). The proposed format is to provide this kind of measured information as a json-string with the following format:\n",
    "\n",
    "```\n",
    "{\"weight in gram\": 200, \"length in meter\": 0.3,...}\n",
    "```\n",
    "\n",
    "We only need to provide weight-information from the `wgt` column:"
   ]
  },
  {
   "cell_type": "code",
   "execution_count": 41,
   "metadata": {
    "collapsed": false,
    "run_control": {
     "frozen": false,
     "read_only": false
    }
   },
   "outputs": [
    {
     "data": {
      "text/plain": [
       "{'weight in gram': 200}"
      ]
     },
     "execution_count": 41,
     "metadata": {},
     "output_type": "execute_result"
    }
   ],
   "source": [
    "{\"weight in gram\": 200}"
   ]
  },
  {
   "cell_type": "code",
   "execution_count": 42,
   "metadata": {
    "collapsed": false,
    "run_control": {
     "frozen": false,
     "read_only": false
    }
   },
   "outputs": [
    {
     "data": {
      "text/plain": [
       "dict"
      ]
     },
     "execution_count": 42,
     "metadata": {},
     "output_type": "execute_result"
    }
   ],
   "source": [
    "type({\"weight in gram\": 200})"
   ]
  },
  {
   "cell_type": "markdown",
   "metadata": {},
   "source": [
    "Similar to the dates, if we need full control of the way this is represented when saving to a file, we want to store the values as a string inside the fields and not as a dictionary. Python supports the functionalities to convert from and to json-string with the [`json` package](https://docs.python.org/3.5/library/json.html)."
   ]
  },
  {
   "cell_type": "code",
   "execution_count": 43,
   "metadata": {
    "collapsed": true
   },
   "outputs": [],
   "source": [
    "import json"
   ]
  },
  {
   "cell_type": "code",
   "execution_count": 44,
   "metadata": {
    "collapsed": false,
    "run_control": {
     "frozen": false,
     "read_only": false
    }
   },
   "outputs": [
    {
     "data": {
      "text/plain": [
       "'{\"weight in gram\": 200}'"
      ]
     },
     "execution_count": 44,
     "metadata": {},
     "output_type": "execute_result"
    }
   ],
   "source": [
    "json.dumps({\"weight in gram\": 200})"
   ]
  },
  {
   "cell_type": "markdown",
   "metadata": {
    "collapsed": false
   },
   "source": [
    "By having a function available that takes such a value together with the string for the key-value and returns the corresponding json string, we can reuse this function for other measurements as well:"
   ]
  },
  {
   "cell_type": "code",
   "execution_count": 45,
   "metadata": {
    "collapsed": true,
    "run_control": {
     "frozen": false,
     "read_only": false
    }
   },
   "outputs": [],
   "source": [
    "def value_to_measurement(value, keystring):\n",
    "    \"\"\"convert a value to a json based key-value string\n",
    "    \n",
    "    Parameters\n",
    "    ----------\n",
    "    value: number\n",
    "        the measured value\n",
    "    keystring: str\n",
    "        the description used as key, describing the property and unit: `property` in `unit`\n",
    "    \"\"\"\n",
    "    if pd.isnull(value):\n",
    "        return np.nan\n",
    "    else:\n",
    "        return json.dumps({keystring: int(value)})"
   ]
  },
  {
   "cell_type": "markdown",
   "metadata": {},
   "source": [
    "<div class=\"alert alert-success\">\n",
    "    <b>EXERCISE</b>: Use the function `value_to_measurement` in order to convert the values of the column wgt into a json string and store these values in a new column `measurementOrFact`:\n",
    "</div>"
   ]
  },
  {
   "cell_type": "code",
   "execution_count": 46,
   "metadata": {
    "collapsed": false,
    "run_control": {
     "frozen": false,
     "read_only": false
    }
   },
   "outputs": [],
   "source": [
    "survey_data_decoupled[\"measurementOrFact\"] = survey_data_decoupled[\"wgt\"].apply(value_to_measurement, args=([\"weight in gram\"]))"
   ]
  },
  {
   "cell_type": "code",
   "execution_count": 47,
   "metadata": {
    "collapsed": false,
    "run_control": {
     "frozen": false,
     "read_only": false
    }
   },
   "outputs": [
    {
     "data": {
      "text/plain": [
       "array([nan, '{\"weight in gram\": 40}', '{\"weight in gram\": 48}',\n",
       "       '{\"weight in gram\": 29}', '{\"weight in gram\": 46}',\n",
       "       '{\"weight in gram\": 36}', '{\"weight in gram\": 52}',\n",
       "       '{\"weight in gram\": 8}', '{\"weight in gram\": 22}',\n",
       "       '{\"weight in gram\": 35}', '{\"weight in gram\": 7}',\n",
       "       '{\"weight in gram\": 9}', '{\"weight in gram\": 42}',\n",
       "       '{\"weight in gram\": 41}', '{\"weight in gram\": 37}',\n",
       "       '{\"weight in gram\": 43}', '{\"weight in gram\": 45}',\n",
       "       '{\"weight in gram\": 15}', '{\"weight in gram\": 39}',\n",
       "       '{\"weight in gram\": 30}', '{\"weight in gram\": 34}',\n",
       "       '{\"weight in gram\": 31}', '{\"weight in gram\": 16}',\n",
       "       '{\"weight in gram\": 44}', '{\"weight in gram\": 20}',\n",
       "       '{\"weight in gram\": 33}', '{\"weight in gram\": 51}',\n",
       "       '{\"weight in gram\": 53}', '{\"weight in gram\": 49}',\n",
       "       '{\"weight in gram\": 4}', '{\"weight in gram\": 50}',\n",
       "       '{\"weight in gram\": 19}', '{\"weight in gram\": 47}',\n",
       "       '{\"weight in gram\": 21}', '{\"weight in gram\": 55}',\n",
       "       '{\"weight in gram\": 38}', '{\"weight in gram\": 23}',\n",
       "       '{\"weight in gram\": 13}', '{\"weight in gram\": 25}',\n",
       "       '{\"weight in gram\": 117}', '{\"weight in gram\": 121}',\n",
       "       '{\"weight in gram\": 115}', '{\"weight in gram\": 6}',\n",
       "       '{\"weight in gram\": 120}', '{\"weight in gram\": 118}',\n",
       "       '{\"weight in gram\": 126}', '{\"weight in gram\": 132}',\n",
       "       '{\"weight in gram\": 113}', '{\"weight in gram\": 122}',\n",
       "       '{\"weight in gram\": 107}', '{\"weight in gram\": 116}',\n",
       "       '{\"weight in gram\": 137}', '{\"weight in gram\": 112}',\n",
       "       '{\"weight in gram\": 114}', '{\"weight in gram\": 134}',\n",
       "       '{\"weight in gram\": 139}', '{\"weight in gram\": 127}',\n",
       "       '{\"weight in gram\": 149}', '{\"weight in gram\": 138}',\n",
       "       '{\"weight in gram\": 110}', '{\"weight in gram\": 150}',\n",
       "       '{\"weight in gram\": 136}', '{\"weight in gram\": 135}',\n",
       "       '{\"weight in gram\": 133}', '{\"weight in gram\": 141}',\n",
       "       '{\"weight in gram\": 24}', '{\"weight in gram\": 157}',\n",
       "       '{\"weight in gram\": 218}', '{\"weight in gram\": 124}',\n",
       "       '{\"weight in gram\": 56}', '{\"weight in gram\": 197}',\n",
       "       '{\"weight in gram\": 154}', '{\"weight in gram\": 228}',\n",
       "       '{\"weight in gram\": 144}', '{\"weight in gram\": 232}',\n",
       "       '{\"weight in gram\": 128}', '{\"weight in gram\": 153}',\n",
       "       '{\"weight in gram\": 26}', '{\"weight in gram\": 146}',\n",
       "       '{\"weight in gram\": 28}', '{\"weight in gram\": 131}',\n",
       "       '{\"weight in gram\": 125}', '{\"weight in gram\": 69}',\n",
       "       '{\"weight in gram\": 152}', '{\"weight in gram\": 57}',\n",
       "       '{\"weight in gram\": 27}', '{\"weight in gram\": 90}',\n",
       "       '{\"weight in gram\": 148}', '{\"weight in gram\": 76}',\n",
       "       '{\"weight in gram\": 142}', '{\"weight in gram\": 84}',\n",
       "       '{\"weight in gram\": 75}', '{\"weight in gram\": 168}',\n",
       "       '{\"weight in gram\": 87}', '{\"weight in gram\": 140}',\n",
       "       '{\"weight in gram\": 225}', '{\"weight in gram\": 18}',\n",
       "       '{\"weight in gram\": 89}', '{\"weight in gram\": 73}',\n",
       "       '{\"weight in gram\": 123}', '{\"weight in gram\": 59}',\n",
       "       '{\"weight in gram\": 204}', '{\"weight in gram\": 212}',\n",
       "       '{\"weight in gram\": 91}', '{\"weight in gram\": 83}',\n",
       "       '{\"weight in gram\": 174}', '{\"weight in gram\": 74}',\n",
       "       '{\"weight in gram\": 130}', '{\"weight in gram\": 102}',\n",
       "       '{\"weight in gram\": 182}', '{\"weight in gram\": 68}',\n",
       "       '{\"weight in gram\": 97}', '{\"weight in gram\": 129}',\n",
       "       '{\"weight in gram\": 108}', '{\"weight in gram\": 160}',\n",
       "       '{\"weight in gram\": 54}', '{\"weight in gram\": 100}',\n",
       "       '{\"weight in gram\": 64}', '{\"weight in gram\": 119}',\n",
       "       '{\"weight in gram\": 70}', '{\"weight in gram\": 71}',\n",
       "       '{\"weight in gram\": 99}', '{\"weight in gram\": 94}',\n",
       "       '{\"weight in gram\": 98}', '{\"weight in gram\": 12}',\n",
       "       '{\"weight in gram\": 200}', '{\"weight in gram\": 17}',\n",
       "       '{\"weight in gram\": 82}', '{\"weight in gram\": 32}',\n",
       "       '{\"weight in gram\": 58}', '{\"weight in gram\": 81}',\n",
       "       '{\"weight in gram\": 93}', '{\"weight in gram\": 95}',\n",
       "       '{\"weight in gram\": 85}', '{\"weight in gram\": 111}',\n",
       "       '{\"weight in gram\": 105}', '{\"weight in gram\": 96}',\n",
       "       '{\"weight in gram\": 86}', '{\"weight in gram\": 106}',\n",
       "       '{\"weight in gram\": 10}', '{\"weight in gram\": 190}',\n",
       "       '{\"weight in gram\": 101}', '{\"weight in gram\": 63}',\n",
       "       '{\"weight in gram\": 65}', '{\"weight in gram\": 80}',\n",
       "       '{\"weight in gram\": 14}', '{\"weight in gram\": 189}',\n",
       "       '{\"weight in gram\": 179}', '{\"weight in gram\": 165}',\n",
       "       '{\"weight in gram\": 88}', '{\"weight in gram\": 199}',\n",
       "       '{\"weight in gram\": 196}', '{\"weight in gram\": 158}',\n",
       "       '{\"weight in gram\": 181}', '{\"weight in gram\": 77}',\n",
       "       '{\"weight in gram\": 223}', '{\"weight in gram\": 169}',\n",
       "       '{\"weight in gram\": 61}', '{\"weight in gram\": 109}',\n",
       "       '{\"weight in gram\": 60}', '{\"weight in gram\": 78}',\n",
       "       '{\"weight in gram\": 239}', '{\"weight in gram\": 143}',\n",
       "       '{\"weight in gram\": 166}', '{\"weight in gram\": 67}',\n",
       "       '{\"weight in gram\": 92}', '{\"weight in gram\": 66}',\n",
       "       '{\"weight in gram\": 72}', '{\"weight in gram\": 62}',\n",
       "       '{\"weight in gram\": 147}', '{\"weight in gram\": 184}',\n",
       "       '{\"weight in gram\": 156}', '{\"weight in gram\": 206}',\n",
       "       '{\"weight in gram\": 79}', '{\"weight in gram\": 151}',\n",
       "       '{\"weight in gram\": 145}', '{\"weight in gram\": 11}',\n",
       "       '{\"weight in gram\": 103}', '{\"weight in gram\": 211}',\n",
       "       '{\"weight in gram\": 171}', '{\"weight in gram\": 274}',\n",
       "       '{\"weight in gram\": 186}', '{\"weight in gram\": 217}',\n",
       "       '{\"weight in gram\": 214}', '{\"weight in gram\": 187}',\n",
       "       '{\"weight in gram\": 241}', '{\"weight in gram\": 155}',\n",
       "       '{\"weight in gram\": 170}', '{\"weight in gram\": 5}',\n",
       "       '{\"weight in gram\": 177}', '{\"weight in gram\": 104}',\n",
       "       '{\"weight in gram\": 243}', '{\"weight in gram\": 207}',\n",
       "       '{\"weight in gram\": 209}', '{\"weight in gram\": 191}',\n",
       "       '{\"weight in gram\": 173}', '{\"weight in gram\": 205}',\n",
       "       '{\"weight in gram\": 172}', '{\"weight in gram\": 193}',\n",
       "       '{\"weight in gram\": 198}', '{\"weight in gram\": 192}',\n",
       "       '{\"weight in gram\": 195}', '{\"weight in gram\": 159}',\n",
       "       '{\"weight in gram\": 231}', '{\"weight in gram\": 220}',\n",
       "       '{\"weight in gram\": 251}', '{\"weight in gram\": 161}',\n",
       "       '{\"weight in gram\": 208}', '{\"weight in gram\": 175}',\n",
       "       '{\"weight in gram\": 162}', '{\"weight in gram\": 185}',\n",
       "       '{\"weight in gram\": 235}', '{\"weight in gram\": 264}',\n",
       "       '{\"weight in gram\": 194}', '{\"weight in gram\": 180}',\n",
       "       '{\"weight in gram\": 163}', '{\"weight in gram\": 226}',\n",
       "       '{\"weight in gram\": 248}', '{\"weight in gram\": 202}',\n",
       "       '{\"weight in gram\": 164}', '{\"weight in gram\": 203}',\n",
       "       '{\"weight in gram\": 183}', '{\"weight in gram\": 252}',\n",
       "       '{\"weight in gram\": 210}', '{\"weight in gram\": 237}',\n",
       "       '{\"weight in gram\": 222}', '{\"weight in gram\": 219}',\n",
       "       '{\"weight in gram\": 178}', '{\"weight in gram\": 213}',\n",
       "       '{\"weight in gram\": 176}', '{\"weight in gram\": 216}',\n",
       "       '{\"weight in gram\": 256}', '{\"weight in gram\": 233}',\n",
       "       '{\"weight in gram\": 188}', '{\"weight in gram\": 259}',\n",
       "       '{\"weight in gram\": 250}', '{\"weight in gram\": 224}',\n",
       "       '{\"weight in gram\": 240}', '{\"weight in gram\": 227}',\n",
       "       '{\"weight in gram\": 221}', '{\"weight in gram\": 167}',\n",
       "       '{\"weight in gram\": 253}', '{\"weight in gram\": 260}',\n",
       "       '{\"weight in gram\": 234}', '{\"weight in gram\": 247}',\n",
       "       '{\"weight in gram\": 270}', '{\"weight in gram\": 278}',\n",
       "       '{\"weight in gram\": 230}', '{\"weight in gram\": 269}',\n",
       "       '{\"weight in gram\": 215}', '{\"weight in gram\": 275}',\n",
       "       '{\"weight in gram\": 249}', '{\"weight in gram\": 242}',\n",
       "       '{\"weight in gram\": 238}', '{\"weight in gram\": 265}',\n",
       "       '{\"weight in gram\": 280}'], dtype=object)"
      ]
     },
     "execution_count": 47,
     "metadata": {},
     "output_type": "execute_result"
    }
   ],
   "source": [
    "survey_data_decoupled[\"measurementOrFact\"].unique()"
   ]
  },
  {
   "cell_type": "markdown",
   "metadata": {},
   "source": [
    "Removing the `wgt` column:"
   ]
  },
  {
   "cell_type": "code",
   "execution_count": 48,
   "metadata": {
    "collapsed": true,
    "run_control": {
     "frozen": false,
     "read_only": false
    }
   },
   "outputs": [],
   "source": [
    "survey_data_decoupled = survey_data_decoupled.drop(\"wgt\", axis=1)"
   ]
  },
  {
   "cell_type": "code",
   "execution_count": 49,
   "metadata": {
    "collapsed": false,
    "run_control": {
     "frozen": false,
     "read_only": false
    }
   },
   "outputs": [
    {
     "data": {
      "text/html": [
       "<div>\n",
       "<table border=\"1\" class=\"dataframe\">\n",
       "  <thead>\n",
       "    <tr style=\"text-align: right;\">\n",
       "      <th></th>\n",
       "      <th>plot</th>\n",
       "      <th>verbatimSex</th>\n",
       "      <th>datasetName</th>\n",
       "      <th>sex</th>\n",
       "      <th>species</th>\n",
       "      <th>occurrenceID</th>\n",
       "      <th>eventDate</th>\n",
       "      <th>measurementOrFact</th>\n",
       "    </tr>\n",
       "  </thead>\n",
       "  <tbody>\n",
       "    <tr>\n",
       "      <th>0</th>\n",
       "      <td>2</td>\n",
       "      <td>M</td>\n",
       "      <td>Ecological Archives E090-118-D1.</td>\n",
       "      <td>male</td>\n",
       "      <td>NaN</td>\n",
       "      <td>1</td>\n",
       "      <td>1977-07-16</td>\n",
       "      <td>NaN</td>\n",
       "    </tr>\n",
       "    <tr>\n",
       "      <th>1</th>\n",
       "      <td>3</td>\n",
       "      <td>M</td>\n",
       "      <td>Ecological Archives E090-118-D1.</td>\n",
       "      <td>male</td>\n",
       "      <td>NaN</td>\n",
       "      <td>2</td>\n",
       "      <td>1977-07-16</td>\n",
       "      <td>NaN</td>\n",
       "    </tr>\n",
       "    <tr>\n",
       "      <th>2</th>\n",
       "      <td>2</td>\n",
       "      <td>F</td>\n",
       "      <td>Ecological Archives E090-118-D1.</td>\n",
       "      <td>female</td>\n",
       "      <td>DM</td>\n",
       "      <td>3</td>\n",
       "      <td>1977-07-16</td>\n",
       "      <td>NaN</td>\n",
       "    </tr>\n",
       "    <tr>\n",
       "      <th>3</th>\n",
       "      <td>7</td>\n",
       "      <td>M</td>\n",
       "      <td>Ecological Archives E090-118-D1.</td>\n",
       "      <td>male</td>\n",
       "      <td>DM</td>\n",
       "      <td>4</td>\n",
       "      <td>1977-07-16</td>\n",
       "      <td>NaN</td>\n",
       "    </tr>\n",
       "    <tr>\n",
       "      <th>4</th>\n",
       "      <td>3</td>\n",
       "      <td>M</td>\n",
       "      <td>Ecological Archives E090-118-D1.</td>\n",
       "      <td>male</td>\n",
       "      <td>DM</td>\n",
       "      <td>5</td>\n",
       "      <td>1977-07-16</td>\n",
       "      <td>NaN</td>\n",
       "    </tr>\n",
       "  </tbody>\n",
       "</table>\n",
       "</div>"
      ],
      "text/plain": [
       "   plot verbatimSex                       datasetName     sex species  \\\n",
       "0     2           M  Ecological Archives E090-118-D1.    male     NaN   \n",
       "1     3           M  Ecological Archives E090-118-D1.    male     NaN   \n",
       "2     2           F  Ecological Archives E090-118-D1.  female      DM   \n",
       "3     7           M  Ecological Archives E090-118-D1.    male      DM   \n",
       "4     3           M  Ecological Archives E090-118-D1.    male      DM   \n",
       "\n",
       "   occurrenceID   eventDate measurementOrFact  \n",
       "0             1  1977-07-16               NaN  \n",
       "1             2  1977-07-16               NaN  \n",
       "2             3  1977-07-16               NaN  \n",
       "3             4  1977-07-16               NaN  \n",
       "4             5  1977-07-16               NaN  "
      ]
     },
     "execution_count": 49,
     "metadata": {},
     "output_type": "execute_result"
    }
   ],
   "source": [
    "survey_data_decoupled.head()"
   ]
  },
  {
   "cell_type": "markdown",
   "metadata": {},
   "source": [
    "## Add coordinates from the plot locations"
   ]
  },
  {
   "cell_type": "markdown",
   "metadata": {},
   "source": [
    "### Loading the coordinate data"
   ]
  },
  {
   "cell_type": "markdown",
   "metadata": {},
   "source": [
    "The individual plots are only identified by a `plot` identification number. In order to provide sufficient information to external users, additional information about the coordinates should be added. The coordinates of the individual plots are saved in another file: `plot_location.xlsx`. We will use this information to further enrich our dataset and add the Darwin Core Terms `decimalLongitude` and `decimalLatitude`."
   ]
  },
  {
   "cell_type": "markdown",
   "metadata": {},
   "source": [
    "<div class=\"alert alert-success\">\n",
    "    <b>EXERCISE</b>: Read in the excel file 'plot_location.xlsx' and store the data as the variable `plot_data`, with 3 columns: plot, xutm, yutm.\n",
    "</div>"
   ]
  },
  {
   "cell_type": "code",
   "execution_count": 50,
   "metadata": {
    "collapsed": false,
    "run_control": {
     "frozen": false,
     "read_only": false
    }
   },
   "outputs": [],
   "source": [
    "plot_data = pd.read_excel(\"../data/plot_location.xlsx\", skiprows=3, index_col=0)"
   ]
  },
  {
   "cell_type": "code",
   "execution_count": 51,
   "metadata": {
    "collapsed": false,
    "run_control": {
     "frozen": false,
     "read_only": false
    }
   },
   "outputs": [
    {
     "data": {
      "text/html": [
       "<div>\n",
       "<table border=\"1\" class=\"dataframe\">\n",
       "  <thead>\n",
       "    <tr style=\"text-align: right;\">\n",
       "      <th></th>\n",
       "      <th>plot</th>\n",
       "      <th>xutm</th>\n",
       "      <th>yutm</th>\n",
       "    </tr>\n",
       "  </thead>\n",
       "  <tbody>\n",
       "    <tr>\n",
       "      <th>0</th>\n",
       "      <td>1</td>\n",
       "      <td>681222.131658</td>\n",
       "      <td>3.535262e+06</td>\n",
       "    </tr>\n",
       "    <tr>\n",
       "      <th>1</th>\n",
       "      <td>2</td>\n",
       "      <td>681302.799361</td>\n",
       "      <td>3.535268e+06</td>\n",
       "    </tr>\n",
       "    <tr>\n",
       "      <th>2</th>\n",
       "      <td>3</td>\n",
       "      <td>681375.294968</td>\n",
       "      <td>3.535270e+06</td>\n",
       "    </tr>\n",
       "    <tr>\n",
       "      <th>3</th>\n",
       "      <td>4</td>\n",
       "      <td>681450.837525</td>\n",
       "      <td>3.535271e+06</td>\n",
       "    </tr>\n",
       "    <tr>\n",
       "      <th>4</th>\n",
       "      <td>5</td>\n",
       "      <td>681526.983040</td>\n",
       "      <td>3.535281e+06</td>\n",
       "    </tr>\n",
       "  </tbody>\n",
       "</table>\n",
       "</div>"
      ],
      "text/plain": [
       "   plot           xutm          yutm\n",
       "0     1  681222.131658  3.535262e+06\n",
       "1     2  681302.799361  3.535268e+06\n",
       "2     3  681375.294968  3.535270e+06\n",
       "3     4  681450.837525  3.535271e+06\n",
       "4     5  681526.983040  3.535281e+06"
      ]
     },
     "execution_count": 51,
     "metadata": {},
     "output_type": "execute_result"
    }
   ],
   "source": [
    "plot_data.head()"
   ]
  },
  {
   "cell_type": "markdown",
   "metadata": {},
   "source": [
    "### Transforming to other coordinate reference system"
   ]
  },
  {
   "cell_type": "markdown",
   "metadata": {},
   "source": [
    "These coordinates are in meters, more specifically in [UTM 12 N](https://en.wikipedia.org/wiki/Universal_Transverse_Mercator_coordinate_system) coordinate system. However, the agreed coordinate system for Darwin Core is the [World Geodetic System 1984 (WGS84)](http://spatialreference.org/ref/epsg/wgs-84/). \n",
    "\n",
    "As this is not a GIS course, we will shortcut the discussion about different projection systems, but provide an example on how such a conversion from UTM12N to WGS84 can be performed with the projection toolkit `pyproj` and by relying on the existing EPSG codes (a registry originally setup by the association of oil & gas producers)."
   ]
  },
  {
   "cell_type": "markdown",
   "metadata": {},
   "source": [
    "First, we define out two projection systems, using their corresponding EPSG codes:"
   ]
  },
  {
   "cell_type": "code",
   "execution_count": 52,
   "metadata": {
    "collapsed": false
   },
   "outputs": [],
   "source": [
    "import pyproj"
   ]
  },
  {
   "cell_type": "code",
   "execution_count": 53,
   "metadata": {
    "collapsed": true,
    "run_control": {
     "frozen": false,
     "read_only": false
    }
   },
   "outputs": [],
   "source": [
    "utm12n = pyproj.Proj(\"+init=EPSG:32612\")\n",
    "wgs84 = pyproj.Proj(\"+init=EPSG:4326\")"
   ]
  },
  {
   "cell_type": "markdown",
   "metadata": {},
   "source": [
    "The reprojection can be done by the function `transform` of the projection toolkit, providing the coordinate systems and a set of x, y coordinates. For example, for a single coordinate, this can be applied as follows:"
   ]
  },
  {
   "cell_type": "code",
   "execution_count": 54,
   "metadata": {
    "collapsed": false
   },
   "outputs": [
    {
     "data": {
      "text/plain": [
       "(-109.08282902317859, 31.938849883722508)"
      ]
     },
     "execution_count": 54,
     "metadata": {},
     "output_type": "execute_result"
    }
   ],
   "source": [
    "pyproj.transform(utm12n, wgs84, 681222.131658, 3.535262e+06)"
   ]
  },
  {
   "cell_type": "markdown",
   "metadata": {},
   "source": [
    "Instead of writing a `for` loop to do this for each of the coordinates in the list, we can apply this function to each of them:"
   ]
  },
  {
   "cell_type": "markdown",
   "metadata": {},
   "source": [
    "<div class=\"alert alert-success\">\n",
    "    <b>EXERCISE</b>: Apply the function `transform` to plot_data, using the columns 'xutm' and 'yutm' and save the resulting output in 2 new columns, called `decimalLongitude` and `decimalLatitude`:\n",
    "    \n",
    "<ul>\n",
    "  <li>Create a function `transform_utm_to_wgs` that takes a row of the dataframe and returns a Series of two elements with the longitude and latitude.</li>\n",
    "  <li>Test this function on the first row of `plot_data` </li>\n",
    "  <li>Now apply this function on all rows (remember the `axis` keyword)</li>\n",
    "  <li>Assign the result of the previous step to `decimalLongitude` and `decimalLatitude` columns</li>\n",
    "</ul> \n",
    "    \n",
    "</div>"
   ]
  },
  {
   "cell_type": "code",
   "execution_count": 55,
   "metadata": {
    "collapsed": false
   },
   "outputs": [],
   "source": [
    "def transform_utm_to_wgs(row):\n",
    "    \"\"\"\n",
    "    Converts the x and y coordinates of this row into a Series of the\n",
    "    longitude and latitude.\n",
    "    \n",
    "    \"\"\"\n",
    "    return pd.Series(pyproj.transform(utm12n, wgs84, row['xutm'], row['yutm']))"
   ]
  },
  {
   "cell_type": "code",
   "execution_count": 56,
   "metadata": {
    "collapsed": false
   },
   "outputs": [
    {
     "data": {
      "text/plain": [
       "0   -109.082829\n",
       "1     31.938851\n",
       "dtype: float64"
      ]
     },
     "execution_count": 56,
     "metadata": {},
     "output_type": "execute_result"
    }
   ],
   "source": [
    "transform_utm_to_wgs(plot_data.loc[0])"
   ]
  },
  {
   "cell_type": "code",
   "execution_count": 57,
   "metadata": {
    "collapsed": false
   },
   "outputs": [
    {
     "data": {
      "text/html": [
       "<div>\n",
       "<table border=\"1\" class=\"dataframe\">\n",
       "  <thead>\n",
       "    <tr style=\"text-align: right;\">\n",
       "      <th></th>\n",
       "      <th>0</th>\n",
       "      <th>1</th>\n",
       "    </tr>\n",
       "  </thead>\n",
       "  <tbody>\n",
       "    <tr>\n",
       "      <th>0</th>\n",
       "      <td>-109.082829</td>\n",
       "      <td>31.938851</td>\n",
       "    </tr>\n",
       "    <tr>\n",
       "      <th>1</th>\n",
       "      <td>-109.081975</td>\n",
       "      <td>31.938887</td>\n",
       "    </tr>\n",
       "    <tr>\n",
       "      <th>2</th>\n",
       "      <td>-109.081208</td>\n",
       "      <td>31.938896</td>\n",
       "    </tr>\n",
       "    <tr>\n",
       "      <th>3</th>\n",
       "      <td>-109.080409</td>\n",
       "      <td>31.938894</td>\n",
       "    </tr>\n",
       "    <tr>\n",
       "      <th>4</th>\n",
       "      <td>-109.079602</td>\n",
       "      <td>31.938970</td>\n",
       "    </tr>\n",
       "    <tr>\n",
       "      <th>5</th>\n",
       "      <td>-109.078836</td>\n",
       "      <td>31.939078</td>\n",
       "    </tr>\n",
       "    <tr>\n",
       "      <th>6</th>\n",
       "      <td>-109.082816</td>\n",
       "      <td>31.938113</td>\n",
       "    </tr>\n",
       "    <tr>\n",
       "      <th>7</th>\n",
       "      <td>-109.081680</td>\n",
       "      <td>31.937884</td>\n",
       "    </tr>\n",
       "    <tr>\n",
       "      <th>8</th>\n",
       "      <td>-109.080903</td>\n",
       "      <td>31.937859</td>\n",
       "    </tr>\n",
       "    <tr>\n",
       "      <th>9</th>\n",
       "      <td>-109.080091</td>\n",
       "      <td>31.938017</td>\n",
       "    </tr>\n",
       "    <tr>\n",
       "      <th>10</th>\n",
       "      <td>-109.079307</td>\n",
       "      <td>31.938056</td>\n",
       "    </tr>\n",
       "    <tr>\n",
       "      <th>11</th>\n",
       "      <td>-109.078519</td>\n",
       "      <td>31.938203</td>\n",
       "    </tr>\n",
       "    <tr>\n",
       "      <th>12</th>\n",
       "      <td>-109.082613</td>\n",
       "      <td>31.937028</td>\n",
       "    </tr>\n",
       "    <tr>\n",
       "      <th>13</th>\n",
       "      <td>-109.081827</td>\n",
       "      <td>31.937054</td>\n",
       "    </tr>\n",
       "    <tr>\n",
       "      <th>14</th>\n",
       "      <td>-109.081036</td>\n",
       "      <td>31.937059</td>\n",
       "    </tr>\n",
       "    <tr>\n",
       "      <th>15</th>\n",
       "      <td>-109.080244</td>\n",
       "      <td>31.937094</td>\n",
       "    </tr>\n",
       "    <tr>\n",
       "      <th>16</th>\n",
       "      <td>-109.079415</td>\n",
       "      <td>31.937117</td>\n",
       "    </tr>\n",
       "    <tr>\n",
       "      <th>17</th>\n",
       "      <td>-109.078633</td>\n",
       "      <td>31.937126</td>\n",
       "    </tr>\n",
       "    <tr>\n",
       "      <th>18</th>\n",
       "      <td>-109.077912</td>\n",
       "      <td>31.937438</td>\n",
       "    </tr>\n",
       "    <tr>\n",
       "      <th>19</th>\n",
       "      <td>-109.080191</td>\n",
       "      <td>31.936334</td>\n",
       "    </tr>\n",
       "    <tr>\n",
       "      <th>20</th>\n",
       "      <td>-109.079398</td>\n",
       "      <td>31.936448</td>\n",
       "    </tr>\n",
       "    <tr>\n",
       "      <th>21</th>\n",
       "      <td>-109.078602</td>\n",
       "      <td>31.936441</td>\n",
       "    </tr>\n",
       "    <tr>\n",
       "      <th>22</th>\n",
       "      <td>-109.077838</td>\n",
       "      <td>31.936763</td>\n",
       "    </tr>\n",
       "    <tr>\n",
       "      <th>23</th>\n",
       "      <td>-109.077736</td>\n",
       "      <td>31.938560</td>\n",
       "    </tr>\n",
       "  </tbody>\n",
       "</table>\n",
       "</div>"
      ],
      "text/plain": [
       "             0          1\n",
       "0  -109.082829  31.938851\n",
       "1  -109.081975  31.938887\n",
       "2  -109.081208  31.938896\n",
       "3  -109.080409  31.938894\n",
       "4  -109.079602  31.938970\n",
       "5  -109.078836  31.939078\n",
       "6  -109.082816  31.938113\n",
       "7  -109.081680  31.937884\n",
       "8  -109.080903  31.937859\n",
       "9  -109.080091  31.938017\n",
       "10 -109.079307  31.938056\n",
       "11 -109.078519  31.938203\n",
       "12 -109.082613  31.937028\n",
       "13 -109.081827  31.937054\n",
       "14 -109.081036  31.937059\n",
       "15 -109.080244  31.937094\n",
       "16 -109.079415  31.937117\n",
       "17 -109.078633  31.937126\n",
       "18 -109.077912  31.937438\n",
       "19 -109.080191  31.936334\n",
       "20 -109.079398  31.936448\n",
       "21 -109.078602  31.936441\n",
       "22 -109.077838  31.936763\n",
       "23 -109.077736  31.938560"
      ]
     },
     "execution_count": 57,
     "metadata": {},
     "output_type": "execute_result"
    }
   ],
   "source": [
    "plot_data.apply(transform_utm_to_wgs, axis=1)"
   ]
  },
  {
   "cell_type": "code",
   "execution_count": 58,
   "metadata": {
    "collapsed": true
   },
   "outputs": [],
   "source": [
    "plot_data[[\"decimalLongitude\" ,\"decimalLatitude\"]] = plot_data.apply(transform_utm_to_wgs, axis=1)"
   ]
  },
  {
   "cell_type": "code",
   "execution_count": 59,
   "metadata": {
    "collapsed": false
   },
   "outputs": [
    {
     "data": {
      "text/html": [
       "<div>\n",
       "<table border=\"1\" class=\"dataframe\">\n",
       "  <thead>\n",
       "    <tr style=\"text-align: right;\">\n",
       "      <th></th>\n",
       "      <th>plot</th>\n",
       "      <th>xutm</th>\n",
       "      <th>yutm</th>\n",
       "      <th>decimalLongitude</th>\n",
       "      <th>decimalLatitude</th>\n",
       "    </tr>\n",
       "  </thead>\n",
       "  <tbody>\n",
       "    <tr>\n",
       "      <th>0</th>\n",
       "      <td>1</td>\n",
       "      <td>681222.131658</td>\n",
       "      <td>3.535262e+06</td>\n",
       "      <td>-109.082829</td>\n",
       "      <td>31.938851</td>\n",
       "    </tr>\n",
       "    <tr>\n",
       "      <th>1</th>\n",
       "      <td>2</td>\n",
       "      <td>681302.799361</td>\n",
       "      <td>3.535268e+06</td>\n",
       "      <td>-109.081975</td>\n",
       "      <td>31.938887</td>\n",
       "    </tr>\n",
       "    <tr>\n",
       "      <th>2</th>\n",
       "      <td>3</td>\n",
       "      <td>681375.294968</td>\n",
       "      <td>3.535270e+06</td>\n",
       "      <td>-109.081208</td>\n",
       "      <td>31.938896</td>\n",
       "    </tr>\n",
       "    <tr>\n",
       "      <th>3</th>\n",
       "      <td>4</td>\n",
       "      <td>681450.837525</td>\n",
       "      <td>3.535271e+06</td>\n",
       "      <td>-109.080409</td>\n",
       "      <td>31.938894</td>\n",
       "    </tr>\n",
       "    <tr>\n",
       "      <th>4</th>\n",
       "      <td>5</td>\n",
       "      <td>681526.983040</td>\n",
       "      <td>3.535281e+06</td>\n",
       "      <td>-109.079602</td>\n",
       "      <td>31.938970</td>\n",
       "    </tr>\n",
       "  </tbody>\n",
       "</table>\n",
       "</div>"
      ],
      "text/plain": [
       "   plot           xutm          yutm  decimalLongitude  decimalLatitude\n",
       "0     1  681222.131658  3.535262e+06       -109.082829        31.938851\n",
       "1     2  681302.799361  3.535268e+06       -109.081975        31.938887\n",
       "2     3  681375.294968  3.535270e+06       -109.081208        31.938896\n",
       "3     4  681450.837525  3.535271e+06       -109.080409        31.938894\n",
       "4     5  681526.983040  3.535281e+06       -109.079602        31.938970"
      ]
     },
     "execution_count": 59,
     "metadata": {},
     "output_type": "execute_result"
    }
   ],
   "source": [
    "plot_data.head()"
   ]
  },
  {
   "cell_type": "markdown",
   "metadata": {},
   "source": [
    "The above function `transform_utm_to_wgs` you have created is a very specific function that knows the structure of the DataFrame you will apply it to (it assumes the 'xutm' and 'yutm' column names). We could also make a more generic function that just takes a X and Y coordinate and returns the Series of converted coordinates (`transform_utm_to_wgs2(X, Y)`).  \n",
    "\n",
    "To apply such a more generic function to the `plot_data` dataframe, we can make use of the `lambda` construct, which lets you specify a function on one line as an argument:\n",
    "    \n",
    "    plot_data.apply(lambda row : transform_utm_to_wgs2(row['xutm'], row['yutm']), axis=1)\n",
    "\n",
    "If you have time, try to implement this function and test it as well."
   ]
  },
  {
   "cell_type": "markdown",
   "metadata": {},
   "source": [
    "### Checking the coordinates on a map"
   ]
  },
  {
   "cell_type": "markdown",
   "metadata": {},
   "source": [
    "To check the transformation, let's put these on an interactive map. [Leaflet](http://leafletjs.com/) is a famous service for this and in many programming languages wrappers do exist to simplify the usage. [Folium](https://github.com/python-visualization/folium) is an extensive library providing multiple options. As we just want to do a quick checkup of the coordinates, we will rely on the package [mplleaflet](https://github.com/jwass/mplleaflet), which just converts a matplotlib image to a leaflet map:"
   ]
  },
  {
   "cell_type": "code",
   "execution_count": 60,
   "metadata": {
    "collapsed": true,
    "run_control": {
     "frozen": false,
     "read_only": false
    }
   },
   "outputs": [],
   "source": [
    "import mplleaflet  # https://github.com/jwass/mplleaflet"
   ]
  },
  {
   "cell_type": "code",
   "execution_count": 61,
   "metadata": {
    "collapsed": false,
    "run_control": {
     "frozen": false,
     "read_only": false
    }
   },
   "outputs": [
    {
     "data": {
      "text/html": [
       "<iframe src=\"data:text/html;base64,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\" width=\"100%\" height=\"480\"></iframe>"
      ],
      "text/plain": [
       "<IPython.core.display.HTML object>"
      ]
     },
     "execution_count": 61,
     "metadata": {},
     "output_type": "execute_result"
    }
   ],
   "source": [
    "fig, ax = plt.subplots(figsize=(5, 8))\n",
    "plt.plot(plot_data['decimalLongitude'], plot_data['decimalLatitude'], 'rs')\n",
    "\n",
    "mplleaflet.display(fig=fig)"
   ]
  },
  {
   "cell_type": "markdown",
   "metadata": {},
   "source": [
    "### Join the coordinate information to the survey data set"
   ]
  },
  {
   "cell_type": "markdown",
   "metadata": {},
   "source": [
    "All points are inside the desert region as we expected, so we can extend our survey dataset with this coordinate information. Making the combination of two data sets based on a common identifier is completely similar to the usage of `JOIN` operations in databases. In Pandas, this functionality is provided by [`pd.merge`](http://pandas.pydata.org/pandas-docs/stable/merging.html#database-style-dataframe-joining-merging). \n",
    "\n",
    "In practice, we have to add the columns `decimalLongitude`/`decimalLatitude` to the current dataset `survey_data_decoupled`, by using the plot identification number as key to join. "
   ]
  },
  {
   "cell_type": "markdown",
   "metadata": {},
   "source": [
    "<div class=\"alert alert-success\">\n",
    "    <b>EXERCISE</b>: Extract only the columns to join to our survey dataset: the plot identifiers, decimalLatitude and decimalLongitude into a variable named plot_data_selection\n",
    "</div>"
   ]
  },
  {
   "cell_type": "code",
   "execution_count": 62,
   "metadata": {
    "collapsed": true,
    "run_control": {
     "frozen": false,
     "read_only": false
    }
   },
   "outputs": [],
   "source": [
    "plot_data_selection = plot_data[[\"plot\", \"decimalLongitude\", \"decimalLatitude\"]]"
   ]
  },
  {
   "cell_type": "markdown",
   "metadata": {},
   "source": [
    "<div class=\"alert alert-success\">\n",
    "    <b>EXERCISE</b>: Based on the documentation of pandas merge, add the coordinate information (plot_data_selection) to the survey data set and save the resulting dataframe as `survey_data_plots`.\n",
    "</div>"
   ]
  },
  {
   "cell_type": "code",
   "execution_count": 63,
   "metadata": {
    "collapsed": false,
    "run_control": {
     "frozen": false,
     "read_only": false
    }
   },
   "outputs": [],
   "source": [
    "survey_data_plots = pd.merge(survey_data_decoupled, plot_data_selection, \n",
    "                             how=\"left\", on=\"plot\")"
   ]
  },
  {
   "cell_type": "code",
   "execution_count": 64,
   "metadata": {
    "collapsed": false,
    "run_control": {
     "frozen": false,
     "read_only": false
    }
   },
   "outputs": [
    {
     "data": {
      "text/html": [
       "<div>\n",
       "<table border=\"1\" class=\"dataframe\">\n",
       "  <thead>\n",
       "    <tr style=\"text-align: right;\">\n",
       "      <th></th>\n",
       "      <th>plot</th>\n",
       "      <th>verbatimSex</th>\n",
       "      <th>datasetName</th>\n",
       "      <th>sex</th>\n",
       "      <th>species</th>\n",
       "      <th>occurrenceID</th>\n",
       "      <th>eventDate</th>\n",
       "      <th>measurementOrFact</th>\n",
       "      <th>decimalLongitude</th>\n",
       "      <th>decimalLatitude</th>\n",
       "    </tr>\n",
       "  </thead>\n",
       "  <tbody>\n",
       "    <tr>\n",
       "      <th>0</th>\n",
       "      <td>2</td>\n",
       "      <td>M</td>\n",
       "      <td>Ecological Archives E090-118-D1.</td>\n",
       "      <td>male</td>\n",
       "      <td>NaN</td>\n",
       "      <td>1</td>\n",
       "      <td>1977-07-16</td>\n",
       "      <td>NaN</td>\n",
       "      <td>-109.081975</td>\n",
       "      <td>31.938887</td>\n",
       "    </tr>\n",
       "    <tr>\n",
       "      <th>1</th>\n",
       "      <td>3</td>\n",
       "      <td>M</td>\n",
       "      <td>Ecological Archives E090-118-D1.</td>\n",
       "      <td>male</td>\n",
       "      <td>NaN</td>\n",
       "      <td>2</td>\n",
       "      <td>1977-07-16</td>\n",
       "      <td>NaN</td>\n",
       "      <td>-109.081208</td>\n",
       "      <td>31.938896</td>\n",
       "    </tr>\n",
       "    <tr>\n",
       "      <th>2</th>\n",
       "      <td>2</td>\n",
       "      <td>F</td>\n",
       "      <td>Ecological Archives E090-118-D1.</td>\n",
       "      <td>female</td>\n",
       "      <td>DM</td>\n",
       "      <td>3</td>\n",
       "      <td>1977-07-16</td>\n",
       "      <td>NaN</td>\n",
       "      <td>-109.081975</td>\n",
       "      <td>31.938887</td>\n",
       "    </tr>\n",
       "    <tr>\n",
       "      <th>3</th>\n",
       "      <td>7</td>\n",
       "      <td>M</td>\n",
       "      <td>Ecological Archives E090-118-D1.</td>\n",
       "      <td>male</td>\n",
       "      <td>DM</td>\n",
       "      <td>4</td>\n",
       "      <td>1977-07-16</td>\n",
       "      <td>NaN</td>\n",
       "      <td>-109.082816</td>\n",
       "      <td>31.938113</td>\n",
       "    </tr>\n",
       "    <tr>\n",
       "      <th>4</th>\n",
       "      <td>3</td>\n",
       "      <td>M</td>\n",
       "      <td>Ecological Archives E090-118-D1.</td>\n",
       "      <td>male</td>\n",
       "      <td>DM</td>\n",
       "      <td>5</td>\n",
       "      <td>1977-07-16</td>\n",
       "      <td>NaN</td>\n",
       "      <td>-109.081208</td>\n",
       "      <td>31.938896</td>\n",
       "    </tr>\n",
       "  </tbody>\n",
       "</table>\n",
       "</div>"
      ],
      "text/plain": [
       "   plot verbatimSex                       datasetName     sex species  \\\n",
       "0     2           M  Ecological Archives E090-118-D1.    male     NaN   \n",
       "1     3           M  Ecological Archives E090-118-D1.    male     NaN   \n",
       "2     2           F  Ecological Archives E090-118-D1.  female      DM   \n",
       "3     7           M  Ecological Archives E090-118-D1.    male      DM   \n",
       "4     3           M  Ecological Archives E090-118-D1.    male      DM   \n",
       "\n",
       "   occurrenceID   eventDate measurementOrFact  decimalLongitude  \\\n",
       "0             1  1977-07-16               NaN       -109.081975   \n",
       "1             2  1977-07-16               NaN       -109.081208   \n",
       "2             3  1977-07-16               NaN       -109.081975   \n",
       "3             4  1977-07-16               NaN       -109.082816   \n",
       "4             5  1977-07-16               NaN       -109.081208   \n",
       "\n",
       "   decimalLatitude  \n",
       "0        31.938887  \n",
       "1        31.938896  \n",
       "2        31.938887  \n",
       "3        31.938113  \n",
       "4        31.938896  "
      ]
     },
     "execution_count": 64,
     "metadata": {},
     "output_type": "execute_result"
    }
   ],
   "source": [
    "survey_data_plots.head()"
   ]
  },
  {
   "cell_type": "markdown",
   "metadata": {},
   "source": [
    "The plot locations need to be stored with the variable name `verbatimLocality` indicating {\"plot\": plotid}, with plotid, the integer value of the plot:"
   ]
  },
  {
   "cell_type": "markdown",
   "metadata": {},
   "source": [
    "<div class=\"alert alert-success\">\n",
    "    <b>EXERCISE</b>: Create the column `verbatimLocality` from the column `plot` by converting the values of the plot identifier to a json string with the format {\"plot\": ID}. Remove the original `plot` column.\n",
    "</div>"
   ]
  },
  {
   "cell_type": "code",
   "execution_count": 65,
   "metadata": {
    "collapsed": true,
    "run_control": {
     "frozen": false,
     "read_only": false
    }
   },
   "outputs": [],
   "source": [
    "survey_data_plots[\"verbatimLocality\"] = survey_data_plots[\"plot\"].apply(value_to_measurement, \n",
    "                                                                        args=([\"plot\"]))\n",
    "survey_data_plots = survey_data_plots.drop(\"plot\", axis=1)"
   ]
  },
  {
   "cell_type": "code",
   "execution_count": 66,
   "metadata": {
    "collapsed": false,
    "run_control": {
     "frozen": false,
     "read_only": false
    }
   },
   "outputs": [
    {
     "data": {
      "text/html": [
       "<div>\n",
       "<table border=\"1\" class=\"dataframe\">\n",
       "  <thead>\n",
       "    <tr style=\"text-align: right;\">\n",
       "      <th></th>\n",
       "      <th>verbatimSex</th>\n",
       "      <th>datasetName</th>\n",
       "      <th>sex</th>\n",
       "      <th>species</th>\n",
       "      <th>occurrenceID</th>\n",
       "      <th>eventDate</th>\n",
       "      <th>measurementOrFact</th>\n",
       "      <th>decimalLongitude</th>\n",
       "      <th>decimalLatitude</th>\n",
       "      <th>verbatimLocality</th>\n",
       "    </tr>\n",
       "  </thead>\n",
       "  <tbody>\n",
       "    <tr>\n",
       "      <th>0</th>\n",
       "      <td>M</td>\n",
       "      <td>Ecological Archives E090-118-D1.</td>\n",
       "      <td>male</td>\n",
       "      <td>NaN</td>\n",
       "      <td>1</td>\n",
       "      <td>1977-07-16</td>\n",
       "      <td>NaN</td>\n",
       "      <td>-109.081975</td>\n",
       "      <td>31.938887</td>\n",
       "      <td>{\"plot\": 2}</td>\n",
       "    </tr>\n",
       "    <tr>\n",
       "      <th>1</th>\n",
       "      <td>M</td>\n",
       "      <td>Ecological Archives E090-118-D1.</td>\n",
       "      <td>male</td>\n",
       "      <td>NaN</td>\n",
       "      <td>2</td>\n",
       "      <td>1977-07-16</td>\n",
       "      <td>NaN</td>\n",
       "      <td>-109.081208</td>\n",
       "      <td>31.938896</td>\n",
       "      <td>{\"plot\": 3}</td>\n",
       "    </tr>\n",
       "    <tr>\n",
       "      <th>2</th>\n",
       "      <td>F</td>\n",
       "      <td>Ecological Archives E090-118-D1.</td>\n",
       "      <td>female</td>\n",
       "      <td>DM</td>\n",
       "      <td>3</td>\n",
       "      <td>1977-07-16</td>\n",
       "      <td>NaN</td>\n",
       "      <td>-109.081975</td>\n",
       "      <td>31.938887</td>\n",
       "      <td>{\"plot\": 2}</td>\n",
       "    </tr>\n",
       "    <tr>\n",
       "      <th>3</th>\n",
       "      <td>M</td>\n",
       "      <td>Ecological Archives E090-118-D1.</td>\n",
       "      <td>male</td>\n",
       "      <td>DM</td>\n",
       "      <td>4</td>\n",
       "      <td>1977-07-16</td>\n",
       "      <td>NaN</td>\n",
       "      <td>-109.082816</td>\n",
       "      <td>31.938113</td>\n",
       "      <td>{\"plot\": 7}</td>\n",
       "    </tr>\n",
       "    <tr>\n",
       "      <th>4</th>\n",
       "      <td>M</td>\n",
       "      <td>Ecological Archives E090-118-D1.</td>\n",
       "      <td>male</td>\n",
       "      <td>DM</td>\n",
       "      <td>5</td>\n",
       "      <td>1977-07-16</td>\n",
       "      <td>NaN</td>\n",
       "      <td>-109.081208</td>\n",
       "      <td>31.938896</td>\n",
       "      <td>{\"plot\": 3}</td>\n",
       "    </tr>\n",
       "  </tbody>\n",
       "</table>\n",
       "</div>"
      ],
      "text/plain": [
       "  verbatimSex                       datasetName     sex species  occurrenceID  \\\n",
       "0           M  Ecological Archives E090-118-D1.    male     NaN             1   \n",
       "1           M  Ecological Archives E090-118-D1.    male     NaN             2   \n",
       "2           F  Ecological Archives E090-118-D1.  female      DM             3   \n",
       "3           M  Ecological Archives E090-118-D1.    male      DM             4   \n",
       "4           M  Ecological Archives E090-118-D1.    male      DM             5   \n",
       "\n",
       "    eventDate measurementOrFact  decimalLongitude  decimalLatitude  \\\n",
       "0  1977-07-16               NaN       -109.081975        31.938887   \n",
       "1  1977-07-16               NaN       -109.081208        31.938896   \n",
       "2  1977-07-16               NaN       -109.081975        31.938887   \n",
       "3  1977-07-16               NaN       -109.082816        31.938113   \n",
       "4  1977-07-16               NaN       -109.081208        31.938896   \n",
       "\n",
       "  verbatimLocality  \n",
       "0      {\"plot\": 2}  \n",
       "1      {\"plot\": 3}  \n",
       "2      {\"plot\": 2}  \n",
       "3      {\"plot\": 7}  \n",
       "4      {\"plot\": 3}  "
      ]
     },
     "execution_count": 66,
     "metadata": {},
     "output_type": "execute_result"
    }
   ],
   "source": [
    "survey_data_plots.head()"
   ]
  },
  {
   "cell_type": "markdown",
   "metadata": {
    "collapsed": true
   },
   "source": [
    "## Add species names to dataset"
   ]
  },
  {
   "cell_type": "markdown",
   "metadata": {},
   "source": [
    "The column `species` only provides a short identifier in the survey overview. The name information is stored in a separate file `species.csv`. As we want our dataset to include this information, we will read in this data and add it to our survey dataset:"
   ]
  },
  {
   "cell_type": "markdown",
   "metadata": {},
   "source": [
    "<div class=\"alert alert-success\">\n",
    "    <b>EXERCISE</b>: Read in the 'species.csv' file and save the resulting DataFrame as variable `species_data`\n",
    "</div>"
   ]
  },
  {
   "cell_type": "code",
   "execution_count": 69,
   "metadata": {
    "collapsed": false,
    "run_control": {
     "frozen": false,
     "read_only": false
    }
   },
   "outputs": [],
   "source": [
    "species_data = pd.read_csv(\"../data/species.csv\", sep=\";\")"
   ]
  },
  {
   "cell_type": "code",
   "execution_count": 70,
   "metadata": {
    "collapsed": false,
    "run_control": {
     "frozen": false,
     "read_only": false
    }
   },
   "outputs": [
    {
     "data": {
      "text/html": [
       "<div>\n",
       "<table border=\"1\" class=\"dataframe\">\n",
       "  <thead>\n",
       "    <tr style=\"text-align: right;\">\n",
       "      <th></th>\n",
       "      <th>species_id</th>\n",
       "      <th>genus</th>\n",
       "      <th>species</th>\n",
       "      <th>taxa</th>\n",
       "    </tr>\n",
       "  </thead>\n",
       "  <tbody>\n",
       "    <tr>\n",
       "      <th>0</th>\n",
       "      <td>AB</td>\n",
       "      <td>Amphispiza</td>\n",
       "      <td>bilineata</td>\n",
       "      <td>Bird</td>\n",
       "    </tr>\n",
       "    <tr>\n",
       "      <th>1</th>\n",
       "      <td>AH</td>\n",
       "      <td>Ammospermophilus</td>\n",
       "      <td>harrisi</td>\n",
       "      <td>Rodent-not censused</td>\n",
       "    </tr>\n",
       "    <tr>\n",
       "      <th>2</th>\n",
       "      <td>AS</td>\n",
       "      <td>Ammodramus</td>\n",
       "      <td>savannarum</td>\n",
       "      <td>Bird</td>\n",
       "    </tr>\n",
       "    <tr>\n",
       "      <th>3</th>\n",
       "      <td>BA</td>\n",
       "      <td>Baiomys</td>\n",
       "      <td>taylori</td>\n",
       "      <td>Rodent</td>\n",
       "    </tr>\n",
       "    <tr>\n",
       "      <th>4</th>\n",
       "      <td>CB</td>\n",
       "      <td>Campylorhynchus</td>\n",
       "      <td>brunneicapillus</td>\n",
       "      <td>Bird</td>\n",
       "    </tr>\n",
       "  </tbody>\n",
       "</table>\n",
       "</div>"
      ],
      "text/plain": [
       "  species_id             genus          species                 taxa\n",
       "0         AB        Amphispiza        bilineata                 Bird\n",
       "1         AH  Ammospermophilus          harrisi  Rodent-not censused\n",
       "2         AS        Ammodramus       savannarum                 Bird\n",
       "3         BA           Baiomys          taylori               Rodent\n",
       "4         CB   Campylorhynchus  brunneicapillus                 Bird"
      ]
     },
     "execution_count": 70,
     "metadata": {},
     "output_type": "execute_result"
    }
   ],
   "source": [
    "species_data.head()"
   ]
  },
  {
   "cell_type": "markdown",
   "metadata": {},
   "source": [
    "### Fix a wrong acronym naming"
   ]
  },
  {
   "cell_type": "markdown",
   "metadata": {},
   "source": [
    "When reviewing the metadata, you see that in the data-file the acronym `NE` is used to describe `Neotoma albigula`, whereas in the [metadata description](http://esapubs.org/archive/ecol/E090/118/Portal_rodent_metadata.htm), the acronym `NA` is used. "
   ]
  },
  {
   "cell_type": "markdown",
   "metadata": {},
   "source": [
    "<div class=\"alert alert-success\">\n",
    "    <b>EXERCISE</b>: Convert the value of NE to NA by using boolean indexing\n",
    "</div>"
   ]
  },
  {
   "cell_type": "code",
   "execution_count": 71,
   "metadata": {
    "collapsed": true,
    "run_control": {
     "frozen": false,
     "read_only": false
    }
   },
   "outputs": [],
   "source": [
    "species_data.loc[species_data[\"species_id\"] == \"NE\", \"species_id\"] = \"NA\""
   ]
  },
  {
   "cell_type": "markdown",
   "metadata": {
    "collapsed": true,
    "run_control": {
     "frozen": false,
     "read_only": false
    }
   },
   "source": [
    "(At the same time, you decide to cure this problem at the source and alert the data provider about this issue.)"
   ]
  },
  {
   "cell_type": "markdown",
   "metadata": {},
   "source": [
    "### Merging surveys and species"
   ]
  },
  {
   "cell_type": "markdown",
   "metadata": {},
   "source": [
    "As we now prepared the two series, we can combine the data, using the `merge` operation. Take into account that our key-column is different for `species_data` and `survey_data_plots`, respectively `species_id` and `species`:"
   ]
  },
  {
   "cell_type": "markdown",
   "metadata": {},
   "source": [
    "We want to add the data of the species to the survey data, in order to see the full species names:"
   ]
  },
  {
   "cell_type": "markdown",
   "metadata": {},
   "source": [
    "<div class=\"alert alert-success\">\n",
    "    <b>EXERCISE</b>: Merge the `survey_data_plots` data set with the `species_data` information in order to pass the species information to the survey data:\n",
    "</div>"
   ]
  },
  {
   "cell_type": "code",
   "execution_count": 72,
   "metadata": {
    "collapsed": false,
    "run_control": {
     "frozen": false,
     "read_only": false
    }
   },
   "outputs": [],
   "source": [
    "survey_data_species = pd.merge(survey_data_plots, species_data, how=\"left\",  # LEFT OR INNER?\n",
    "                                left_on=\"species\", right_on=\"species_id\")"
   ]
  },
  {
   "cell_type": "code",
   "execution_count": 73,
   "metadata": {
    "collapsed": false,
    "run_control": {
     "frozen": false,
     "read_only": false
    }
   },
   "outputs": [
    {
     "data": {
      "text/plain": [
       "35550"
      ]
     },
     "execution_count": 73,
     "metadata": {},
     "output_type": "execute_result"
    }
   ],
   "source": [
    "len(survey_data_species)"
   ]
  },
  {
   "cell_type": "markdown",
   "metadata": {},
   "source": [
    "The join is ok, but we are left with some redundant columns and wrong naming:"
   ]
  },
  {
   "cell_type": "code",
   "execution_count": 74,
   "metadata": {
    "collapsed": false,
    "run_control": {
     "frozen": false,
     "read_only": false
    }
   },
   "outputs": [
    {
     "data": {
      "text/html": [
       "<div>\n",
       "<table border=\"1\" class=\"dataframe\">\n",
       "  <thead>\n",
       "    <tr style=\"text-align: right;\">\n",
       "      <th></th>\n",
       "      <th>verbatimSex</th>\n",
       "      <th>datasetName</th>\n",
       "      <th>sex</th>\n",
       "      <th>species_x</th>\n",
       "      <th>occurrenceID</th>\n",
       "      <th>eventDate</th>\n",
       "      <th>measurementOrFact</th>\n",
       "      <th>decimalLongitude</th>\n",
       "      <th>decimalLatitude</th>\n",
       "      <th>verbatimLocality</th>\n",
       "      <th>species_id</th>\n",
       "      <th>genus</th>\n",
       "      <th>species_y</th>\n",
       "      <th>taxa</th>\n",
       "    </tr>\n",
       "  </thead>\n",
       "  <tbody>\n",
       "    <tr>\n",
       "      <th>0</th>\n",
       "      <td>M</td>\n",
       "      <td>Ecological Archives E090-118-D1.</td>\n",
       "      <td>male</td>\n",
       "      <td>NaN</td>\n",
       "      <td>1</td>\n",
       "      <td>1977-07-16</td>\n",
       "      <td>NaN</td>\n",
       "      <td>-109.081975</td>\n",
       "      <td>31.938887</td>\n",
       "      <td>{\"plot\": 2}</td>\n",
       "      <td>NaN</td>\n",
       "      <td>NaN</td>\n",
       "      <td>NaN</td>\n",
       "      <td>NaN</td>\n",
       "    </tr>\n",
       "    <tr>\n",
       "      <th>1</th>\n",
       "      <td>M</td>\n",
       "      <td>Ecological Archives E090-118-D1.</td>\n",
       "      <td>male</td>\n",
       "      <td>NaN</td>\n",
       "      <td>2</td>\n",
       "      <td>1977-07-16</td>\n",
       "      <td>NaN</td>\n",
       "      <td>-109.081208</td>\n",
       "      <td>31.938896</td>\n",
       "      <td>{\"plot\": 3}</td>\n",
       "      <td>NaN</td>\n",
       "      <td>NaN</td>\n",
       "      <td>NaN</td>\n",
       "      <td>NaN</td>\n",
       "    </tr>\n",
       "    <tr>\n",
       "      <th>2</th>\n",
       "      <td>F</td>\n",
       "      <td>Ecological Archives E090-118-D1.</td>\n",
       "      <td>female</td>\n",
       "      <td>DM</td>\n",
       "      <td>3</td>\n",
       "      <td>1977-07-16</td>\n",
       "      <td>NaN</td>\n",
       "      <td>-109.081975</td>\n",
       "      <td>31.938887</td>\n",
       "      <td>{\"plot\": 2}</td>\n",
       "      <td>DM</td>\n",
       "      <td>Dipodomys</td>\n",
       "      <td>merriami</td>\n",
       "      <td>Rodent</td>\n",
       "    </tr>\n",
       "    <tr>\n",
       "      <th>3</th>\n",
       "      <td>M</td>\n",
       "      <td>Ecological Archives E090-118-D1.</td>\n",
       "      <td>male</td>\n",
       "      <td>DM</td>\n",
       "      <td>4</td>\n",
       "      <td>1977-07-16</td>\n",
       "      <td>NaN</td>\n",
       "      <td>-109.082816</td>\n",
       "      <td>31.938113</td>\n",
       "      <td>{\"plot\": 7}</td>\n",
       "      <td>DM</td>\n",
       "      <td>Dipodomys</td>\n",
       "      <td>merriami</td>\n",
       "      <td>Rodent</td>\n",
       "    </tr>\n",
       "    <tr>\n",
       "      <th>4</th>\n",
       "      <td>M</td>\n",
       "      <td>Ecological Archives E090-118-D1.</td>\n",
       "      <td>male</td>\n",
       "      <td>DM</td>\n",
       "      <td>5</td>\n",
       "      <td>1977-07-16</td>\n",
       "      <td>NaN</td>\n",
       "      <td>-109.081208</td>\n",
       "      <td>31.938896</td>\n",
       "      <td>{\"plot\": 3}</td>\n",
       "      <td>DM</td>\n",
       "      <td>Dipodomys</td>\n",
       "      <td>merriami</td>\n",
       "      <td>Rodent</td>\n",
       "    </tr>\n",
       "  </tbody>\n",
       "</table>\n",
       "</div>"
      ],
      "text/plain": [
       "  verbatimSex                       datasetName     sex species_x  \\\n",
       "0           M  Ecological Archives E090-118-D1.    male       NaN   \n",
       "1           M  Ecological Archives E090-118-D1.    male       NaN   \n",
       "2           F  Ecological Archives E090-118-D1.  female        DM   \n",
       "3           M  Ecological Archives E090-118-D1.    male        DM   \n",
       "4           M  Ecological Archives E090-118-D1.    male        DM   \n",
       "\n",
       "   occurrenceID   eventDate measurementOrFact  decimalLongitude  \\\n",
       "0             1  1977-07-16               NaN       -109.081975   \n",
       "1             2  1977-07-16               NaN       -109.081208   \n",
       "2             3  1977-07-16               NaN       -109.081975   \n",
       "3             4  1977-07-16               NaN       -109.082816   \n",
       "4             5  1977-07-16               NaN       -109.081208   \n",
       "\n",
       "   decimalLatitude verbatimLocality species_id      genus species_y    taxa  \n",
       "0        31.938887      {\"plot\": 2}        NaN        NaN       NaN     NaN  \n",
       "1        31.938896      {\"plot\": 3}        NaN        NaN       NaN     NaN  \n",
       "2        31.938887      {\"plot\": 2}         DM  Dipodomys  merriami  Rodent  \n",
       "3        31.938113      {\"plot\": 7}         DM  Dipodomys  merriami  Rodent  \n",
       "4        31.938896      {\"plot\": 3}         DM  Dipodomys  merriami  Rodent  "
      ]
     },
     "execution_count": 74,
     "metadata": {},
     "output_type": "execute_result"
    }
   ],
   "source": [
    " survey_data_species.head()"
   ]
  },
  {
   "cell_type": "markdown",
   "metadata": {},
   "source": [
    "We do not need the columns `species_x` and `species_id` column anymore, as we will use the scientific names from now on:"
   ]
  },
  {
   "cell_type": "code",
   "execution_count": 75,
   "metadata": {
    "collapsed": false,
    "run_control": {
     "frozen": false,
     "read_only": false
    }
   },
   "outputs": [],
   "source": [
    "survey_data_species = survey_data_species.drop([\"species_x\", \"species_id\"], axis=1)"
   ]
  },
  {
   "cell_type": "markdown",
   "metadata": {},
   "source": [
    "The column `species_y` could just be named `species`:"
   ]
  },
  {
   "cell_type": "code",
   "execution_count": 76,
   "metadata": {
    "collapsed": true,
    "run_control": {
     "frozen": false,
     "read_only": false
    }
   },
   "outputs": [],
   "source": [
    "survey_data_species = survey_data_species.rename(columns={\"species_y\": \"species\"})"
   ]
  },
  {
   "cell_type": "code",
   "execution_count": 77,
   "metadata": {
    "collapsed": false,
    "run_control": {
     "frozen": false,
     "read_only": false
    }
   },
   "outputs": [
    {
     "data": {
      "text/html": [
       "<div>\n",
       "<table border=\"1\" class=\"dataframe\">\n",
       "  <thead>\n",
       "    <tr style=\"text-align: right;\">\n",
       "      <th></th>\n",
       "      <th>verbatimSex</th>\n",
       "      <th>datasetName</th>\n",
       "      <th>sex</th>\n",
       "      <th>occurrenceID</th>\n",
       "      <th>eventDate</th>\n",
       "      <th>measurementOrFact</th>\n",
       "      <th>decimalLongitude</th>\n",
       "      <th>decimalLatitude</th>\n",
       "      <th>verbatimLocality</th>\n",
       "      <th>genus</th>\n",
       "      <th>species</th>\n",
       "      <th>taxa</th>\n",
       "    </tr>\n",
       "  </thead>\n",
       "  <tbody>\n",
       "    <tr>\n",
       "      <th>0</th>\n",
       "      <td>M</td>\n",
       "      <td>Ecological Archives E090-118-D1.</td>\n",
       "      <td>male</td>\n",
       "      <td>1</td>\n",
       "      <td>1977-07-16</td>\n",
       "      <td>NaN</td>\n",
       "      <td>-109.081975</td>\n",
       "      <td>31.938887</td>\n",
       "      <td>{\"plot\": 2}</td>\n",
       "      <td>NaN</td>\n",
       "      <td>NaN</td>\n",
       "      <td>NaN</td>\n",
       "    </tr>\n",
       "    <tr>\n",
       "      <th>1</th>\n",
       "      <td>M</td>\n",
       "      <td>Ecological Archives E090-118-D1.</td>\n",
       "      <td>male</td>\n",
       "      <td>2</td>\n",
       "      <td>1977-07-16</td>\n",
       "      <td>NaN</td>\n",
       "      <td>-109.081208</td>\n",
       "      <td>31.938896</td>\n",
       "      <td>{\"plot\": 3}</td>\n",
       "      <td>NaN</td>\n",
       "      <td>NaN</td>\n",
       "      <td>NaN</td>\n",
       "    </tr>\n",
       "    <tr>\n",
       "      <th>2</th>\n",
       "      <td>F</td>\n",
       "      <td>Ecological Archives E090-118-D1.</td>\n",
       "      <td>female</td>\n",
       "      <td>3</td>\n",
       "      <td>1977-07-16</td>\n",
       "      <td>NaN</td>\n",
       "      <td>-109.081975</td>\n",
       "      <td>31.938887</td>\n",
       "      <td>{\"plot\": 2}</td>\n",
       "      <td>Dipodomys</td>\n",
       "      <td>merriami</td>\n",
       "      <td>Rodent</td>\n",
       "    </tr>\n",
       "    <tr>\n",
       "      <th>3</th>\n",
       "      <td>M</td>\n",
       "      <td>Ecological Archives E090-118-D1.</td>\n",
       "      <td>male</td>\n",
       "      <td>4</td>\n",
       "      <td>1977-07-16</td>\n",
       "      <td>NaN</td>\n",
       "      <td>-109.082816</td>\n",
       "      <td>31.938113</td>\n",
       "      <td>{\"plot\": 7}</td>\n",
       "      <td>Dipodomys</td>\n",
       "      <td>merriami</td>\n",
       "      <td>Rodent</td>\n",
       "    </tr>\n",
       "    <tr>\n",
       "      <th>4</th>\n",
       "      <td>M</td>\n",
       "      <td>Ecological Archives E090-118-D1.</td>\n",
       "      <td>male</td>\n",
       "      <td>5</td>\n",
       "      <td>1977-07-16</td>\n",
       "      <td>NaN</td>\n",
       "      <td>-109.081208</td>\n",
       "      <td>31.938896</td>\n",
       "      <td>{\"plot\": 3}</td>\n",
       "      <td>Dipodomys</td>\n",
       "      <td>merriami</td>\n",
       "      <td>Rodent</td>\n",
       "    </tr>\n",
       "  </tbody>\n",
       "</table>\n",
       "</div>"
      ],
      "text/plain": [
       "  verbatimSex                       datasetName     sex  occurrenceID  \\\n",
       "0           M  Ecological Archives E090-118-D1.    male             1   \n",
       "1           M  Ecological Archives E090-118-D1.    male             2   \n",
       "2           F  Ecological Archives E090-118-D1.  female             3   \n",
       "3           M  Ecological Archives E090-118-D1.    male             4   \n",
       "4           M  Ecological Archives E090-118-D1.    male             5   \n",
       "\n",
       "    eventDate measurementOrFact  decimalLongitude  decimalLatitude  \\\n",
       "0  1977-07-16               NaN       -109.081975        31.938887   \n",
       "1  1977-07-16               NaN       -109.081208        31.938896   \n",
       "2  1977-07-16               NaN       -109.081975        31.938887   \n",
       "3  1977-07-16               NaN       -109.082816        31.938113   \n",
       "4  1977-07-16               NaN       -109.081208        31.938896   \n",
       "\n",
       "  verbatimLocality      genus   species    taxa  \n",
       "0      {\"plot\": 2}        NaN       NaN     NaN  \n",
       "1      {\"plot\": 3}        NaN       NaN     NaN  \n",
       "2      {\"plot\": 2}  Dipodomys  merriami  Rodent  \n",
       "3      {\"plot\": 7}  Dipodomys  merriami  Rodent  \n",
       "4      {\"plot\": 3}  Dipodomys  merriami  Rodent  "
      ]
     },
     "execution_count": 77,
     "metadata": {},
     "output_type": "execute_result"
    }
   ],
   "source": [
    "survey_data_species.head()"
   ]
  },
  {
   "cell_type": "code",
   "execution_count": 78,
   "metadata": {
    "collapsed": false,
    "run_control": {
     "frozen": false,
     "read_only": false
    }
   },
   "outputs": [
    {
     "data": {
      "text/plain": [
       "35550"
      ]
     },
     "execution_count": 78,
     "metadata": {},
     "output_type": "execute_result"
    }
   ],
   "source": [
    "len(survey_data_species)"
   ]
  },
  {
   "cell_type": "markdown",
   "metadata": {},
   "source": [
    "Let's now save our cleaned-up to a csv file, so we can further analyze the data in a following notebook:"
   ]
  },
  {
   "cell_type": "code",
   "execution_count": 79,
   "metadata": {
    "collapsed": true
   },
   "outputs": [],
   "source": [
    "survey_data_species.to_csv(\"interim_survey_data_species.csv\", index=False)"
   ]
  },
  {
   "cell_type": "markdown",
   "metadata": {},
   "source": [
    "## (OPTIONAL SECTION) Using a API service to match the scientific names"
   ]
  },
  {
   "cell_type": "markdown",
   "metadata": {},
   "source": [
    "As the current species names are rather short and could eventually lead to confusion when shared with other users, retrieving additional information about the different species in our dataset would be useful to integrate our work with other research. An option is to mathc our names with an external service to request additional information about the different species.\n",
    "\n",
    "One of these services is [GBIF API](http://www.gbif.org/developer/species). The service can most easily be illustrated with a small example:<br><br>\n",
    "In a new tabblad of the browser, go to the URL [http://www.gbif.org/species/2475532](http://www.gbif.org/species/2475532), which corresponds to the page of `Alcedo atthis` (*ijsvogel* in dutch). One could for each of the species in the list we have do a search on the website of GBIF to find the corresponding page of the different species, from which more information can be extracted manually. However, this would take a lot of time...\n",
    "\n",
    "Therefore, GBIF (and many other organisations!) provides a service to extract the same information on a machine-readable way, in order to automate these searches. As an example, let's search for the information of `Alcedo atthis`, using the GBIF API: Go to the URL: [http://api.gbif.org/v1/species/match?name=Alcedo atthis](http://api.gbif.org/v1/species/match?name=%22Alcedo%20atthis%22) and check the output. What we did is a machine-based search on the GBIF website for information about `Alcedo atthis`.\n",
    "\n",
    "The same can be done using Python. The main library we need to this kind of automated searches is the [`request` package](http://docs.python-requests.org/en/master/), which can be used to do request to any kind of API out there."
   ]
  },
  {
   "cell_type": "code",
   "execution_count": 297,
   "metadata": {
    "collapsed": true
   },
   "outputs": [],
   "source": [
    "import requests"
   ]
  },
  {
   "cell_type": "markdown",
   "metadata": {},
   "source": [
    "### Example matching with Alcedo Atthis"
   ]
  },
  {
   "cell_type": "markdown",
   "metadata": {},
   "source": [
    "For the example of `Alcedo atthis`:"
   ]
  },
  {
   "cell_type": "code",
   "execution_count": 298,
   "metadata": {
    "collapsed": true,
    "run_control": {
     "frozen": false,
     "read_only": false
    }
   },
   "outputs": [],
   "source": [
    "species_name = 'Alcedo atthis'"
   ]
  },
  {
   "cell_type": "code",
   "execution_count": 299,
   "metadata": {
    "collapsed": false,
    "run_control": {
     "frozen": false,
     "read_only": false
    }
   },
   "outputs": [
    {
     "data": {
      "text/plain": [
       "{'canonicalName': 'Alcedo atthis',\n",
       " 'class': 'Aves',\n",
       " 'classKey': 212,\n",
       " 'confidence': 99,\n",
       " 'family': 'Alcedinidae',\n",
       " 'familyKey': 2984,\n",
       " 'genus': 'Alcedo',\n",
       " 'genusKey': 2475493,\n",
       " 'kingdom': 'Animalia',\n",
       " 'kingdomKey': 1,\n",
       " 'matchType': 'EXACT',\n",
       " 'order': 'Coraciiformes',\n",
       " 'orderKey': 1447,\n",
       " 'phylum': 'Chordata',\n",
       " 'phylumKey': 44,\n",
       " 'rank': 'SPECIES',\n",
       " 'scientificName': 'Alcedo atthis (Linnaeus, 1758)',\n",
       " 'species': 'Alcedo atthis',\n",
       " 'speciesKey': 2475532,\n",
       " 'status': 'ACCEPTED',\n",
       " 'synonym': False,\n",
       " 'usageKey': 2475532}"
      ]
     },
     "execution_count": 299,
     "metadata": {},
     "output_type": "execute_result"
    }
   ],
   "source": [
    "base_string = 'http://api.gbif.org/v1/species/match?'\n",
    "request_parameters = {'verbose': False, 'strict': True, 'name': species_name}\n",
    "message = requests.get(base_string, params=request_parameters).json()\n",
    "message"
   ]
  },
  {
   "cell_type": "markdown",
   "metadata": {},
   "source": [
    "From which we get a dictionary containing more information about the taxonomy of the `Alcedo atthis`."
   ]
  },
  {
   "cell_type": "markdown",
   "metadata": {},
   "source": [
    "In the species data set available, the name to match is provided in the combination of two columns, so we have to combine those to in order to execute the name matching:"
   ]
  },
  {
   "cell_type": "code",
   "execution_count": 300,
   "metadata": {
    "collapsed": false,
    "run_control": {
     "frozen": false,
     "read_only": false
    }
   },
   "outputs": [
    {
     "data": {
      "text/plain": [
       "{'canonicalName': 'Callipepla squamata',\n",
       " 'class': 'Aves',\n",
       " 'classKey': 212,\n",
       " 'confidence': 99,\n",
       " 'family': 'Odontophoridae',\n",
       " 'familyKey': 9325,\n",
       " 'genus': 'Callipepla',\n",
       " 'genusKey': 2474205,\n",
       " 'kingdom': 'Animalia',\n",
       " 'kingdomKey': 1,\n",
       " 'matchType': 'EXACT',\n",
       " 'order': 'Galliformes',\n",
       " 'orderKey': 723,\n",
       " 'phylum': 'Chordata',\n",
       " 'phylumKey': 44,\n",
       " 'rank': 'SPECIES',\n",
       " 'scientificName': 'Callipepla squamata (Vigors, 1830)',\n",
       " 'species': 'Callipepla squamata',\n",
       " 'speciesKey': 5228075,\n",
       " 'status': 'ACCEPTED',\n",
       " 'synonym': False,\n",
       " 'usageKey': 5228075}"
      ]
     },
     "execution_count": 300,
     "metadata": {},
     "output_type": "execute_result"
    }
   ],
   "source": [
    "genus_name = \"Callipepla\"\n",
    "species_name = \"squamata\"\n",
    "name_to_match = '{} {}'.format(genus_name, species_name)\n",
    "base_string = 'http://api.gbif.org/v1/species/match?'\n",
    "request_parameters = {'strict': True, 'name': name_to_match} # use strict matching(!)\n",
    "message = requests.get(base_string, params=request_parameters).json()\n",
    "message"
   ]
  },
  {
   "cell_type": "markdown",
   "metadata": {},
   "source": [
    "To apply this on our species data set, we will have to do this request for each of the individual species/genus combination. As, this is a returning functionality, we will write a small function to do this:"
   ]
  },
  {
   "cell_type": "markdown",
   "metadata": {},
   "source": [
    "### Writing a custom matching function"
   ]
  },
  {
   "cell_type": "markdown",
   "metadata": {},
   "source": [
    "<div class=\"alert alert-success\">\n",
    "    <b>EXERCISE</b>: Write a function, called `name_match` that takes the `genus`, the `species` and the option to perform a strict matching or not as inputs, performs a matching with the GBIF name matching API and return the received message as a dictionary.\n",
    "</div>"
   ]
  },
  {
   "cell_type": "code",
   "execution_count": 301,
   "metadata": {
    "collapsed": true,
    "run_control": {
     "frozen": false,
     "read_only": false
    }
   },
   "outputs": [],
   "source": [
    "def name_match(name, strict=True):\n",
    "    \"\"\"\n",
    "    Perform a GBIF name matching using the species and genus names\n",
    "    \n",
    "    Parameters\n",
    "    ----------\n",
    "    species_name: str\n",
    "        name of the species to request more information\n",
    "    genus_name: str\n",
    "        name of the genus of the species\n",
    "    strict: boolean\n",
    "        define if the mathing need to be performed with the strict \n",
    "        option (True) or not (False)\n",
    "    \n",
    "    Returns\n",
    "    -------\n",
    "    message: dict\n",
    "        dictionary with the information returned by the GBIF matching service\n",
    "    \"\"\"\n",
    "    base_string = 'http://api.gbif.org/v1/species/match?'\n",
    "    request_parameters = {'strict': strict, 'name': name} # use strict matching(!)\n",
    "    message = requests.get(base_string, params=request_parameters).json()\n",
    "    return message"
   ]
  },
  {
   "cell_type": "markdown",
   "metadata": {},
   "source": [
    "<div class=\"alert alert-danger\">\n",
    "    <b>NOTE</b>: For many of these API request handling, dedicated packages do exist, e.g. [pygbif](https://github.com/sckott/pygbif) provides different functions to do requests to the GBIF API, basically wrapping the request possibilities. For any kind of service, just ask yourself: is the dedicated library providing sufficient additional advantage, or can I easily setup the request myself. (or sometimes: for which the documentation is the best...)<br><br>Many services do exist for a wide range of applications, e.g. scientific name matching, matching of addresses, downloading of data,...\n",
    "</div>"
   ]
  },
  {
   "cell_type": "markdown",
   "metadata": {},
   "source": [
    "Testing our custom matching function:"
   ]
  },
  {
   "cell_type": "code",
   "execution_count": 302,
   "metadata": {
    "collapsed": false,
    "run_control": {
     "frozen": false,
     "read_only": false
    }
   },
   "outputs": [
    {
     "data": {
      "text/plain": [
       "{'canonicalName': 'Callipepla squamata',\n",
       " 'class': 'Aves',\n",
       " 'classKey': 212,\n",
       " 'confidence': 99,\n",
       " 'family': 'Odontophoridae',\n",
       " 'familyKey': 9325,\n",
       " 'genus': 'Callipepla',\n",
       " 'genusKey': 2474205,\n",
       " 'kingdom': 'Animalia',\n",
       " 'kingdomKey': 1,\n",
       " 'matchType': 'EXACT',\n",
       " 'order': 'Galliformes',\n",
       " 'orderKey': 723,\n",
       " 'phylum': 'Chordata',\n",
       " 'phylumKey': 44,\n",
       " 'rank': 'SPECIES',\n",
       " 'scientificName': 'Callipepla squamata (Vigors, 1830)',\n",
       " 'species': 'Callipepla squamata',\n",
       " 'speciesKey': 5228075,\n",
       " 'status': 'ACCEPTED',\n",
       " 'synonym': False,\n",
       " 'usageKey': 5228075}"
      ]
     },
     "execution_count": 302,
     "metadata": {},
     "output_type": "execute_result"
    }
   ],
   "source": [
    "genus_name = \"Callipepla\"\n",
    "species_name = \"squamata\"\n",
    "name_match('{} {}'.format(genus_name, species_name), strict=True)"
   ]
  },
  {
   "cell_type": "markdown",
   "metadata": {},
   "source": [
    "However, the matching won't provide an answer for every search:"
   ]
  },
  {
   "cell_type": "code",
   "execution_count": 303,
   "metadata": {
    "collapsed": false,
    "run_control": {
     "frozen": false,
     "read_only": false
    }
   },
   "outputs": [
    {
     "data": {
      "text/plain": [
       "{'confidence': 100, 'matchType': 'NONE', 'synonym': False}"
      ]
     },
     "execution_count": 303,
     "metadata": {},
     "output_type": "execute_result"
    }
   ],
   "source": [
    "genus_name = \"Lizard\"\n",
    "species_name = \"sp.\"\n",
    "name_match('{} {}'.format(genus_name, species_name), strict=True)"
   ]
  },
  {
   "cell_type": "markdown",
   "metadata": {},
   "source": [
    "### Match each of the species names of the survey data set"
   ]
  },
  {
   "cell_type": "markdown",
   "metadata": {},
   "source": [
    "Hence, in order to add this information to our survey DataFrame, we need to perform the following steps:\n",
    "1. extract the unique genus/species combinations in our dataset and combine them in single column\n",
    "2. match each of these names to the GBIF API service\n",
    "3. process the returned message:\n",
    "    * if a match is found, add the information of the columns 'class', 'kingdom', 'order', 'phylum', 'scientificName', 'status' and 'usageKey'\n",
    "    * if no match was found: nan-values\n",
    "4. Join the DataFrame of unique genus/species information with the enriched GBIF info to the `survey_data_species` data set"
   ]
  },
  {
   "cell_type": "markdown",
   "metadata": {},
   "source": [
    "<div class=\"alert alert-success\">\n",
    "    <b>EXERCISE</b>: Extract the unique combinations of genus and species in the `survey_data_species` using the function `drop_duplicates()`. Save the result as the variable `unique_species`\n",
    "</div>"
   ]
  },
  {
   "cell_type": "code",
   "execution_count": 312,
   "metadata": {
    "collapsed": false,
    "run_control": {
     "frozen": false,
     "read_only": false
    }
   },
   "outputs": [
    {
     "name": "stdout",
     "output_type": "stream",
     "text": [
      "100 loops, best of 3: 4.81 ms per loop\n"
     ]
    }
   ],
   "source": [
    "%%timeit\n",
    "unique_species = survey_data_species[[\"genus\", \"species\"]].drop_duplicates().dropna()"
   ]
  },
  {
   "cell_type": "code",
   "execution_count": 320,
   "metadata": {
    "collapsed": false
   },
   "outputs": [
    {
     "data": {
      "text/plain": [
       "47"
      ]
     },
     "execution_count": 320,
     "metadata": {},
     "output_type": "execute_result"
    }
   ],
   "source": [
    "len(unique_species)"
   ]
  },
  {
   "cell_type": "markdown",
   "metadata": {},
   "source": [
    "<div class=\"alert alert-success\">\n",
    "    <b>EXERCISE</b>: Extract the unique combinations of genus and species in the `survey_data_species` using `groupby`. Save the result as the variable `unique_species`\n",
    "</div>"
   ]
  },
  {
   "cell_type": "code",
   "execution_count": 313,
   "metadata": {
    "collapsed": false,
    "run_control": {
     "frozen": false,
     "read_only": false
    }
   },
   "outputs": [
    {
     "name": "stdout",
     "output_type": "stream",
     "text": [
      "10 loops, best of 3: 22.4 ms per loop\n"
     ]
    }
   ],
   "source": [
    "%%timeit\n",
    "unique_species = \\\n",
    "    survey_data_species.groupby([\"genus\", \"species\"]).first().reset_index()[[\"genus\", \"species\"]]"
   ]
  },
  {
   "cell_type": "code",
   "execution_count": 321,
   "metadata": {
    "collapsed": false,
    "run_control": {
     "frozen": false,
     "read_only": false
    }
   },
   "outputs": [
    {
     "data": {
      "text/plain": [
       "47"
      ]
     },
     "execution_count": 321,
     "metadata": {},
     "output_type": "execute_result"
    }
   ],
   "source": [
    "len(unique_species)"
   ]
  },
  {
   "cell_type": "markdown",
   "metadata": {},
   "source": [
    "<div class=\"alert alert-success\">\n",
    "    <b>EXERCISE</b>: Combine the columns genus and species to a single column with the complete name, save it in a new column named 'name'\n",
    "</div>"
   ]
  },
  {
   "cell_type": "code",
   "execution_count": 322,
   "metadata": {
    "collapsed": false,
    "run_control": {
     "frozen": false,
     "read_only": false
    }
   },
   "outputs": [],
   "source": [
    "unique_species[\"name\"] = unique_species[\"genus\"] + \" \" + unique_species[\"species\"] \n",
    "# an alternative approach worthwhile to know:\n",
    "#unique_species[\"name\"] = unique_species[\"genus\"].str.cat(unique_species[\"species\"], \" \")"
   ]
  },
  {
   "cell_type": "code",
   "execution_count": 323,
   "metadata": {
    "collapsed": false,
    "run_control": {
     "frozen": false,
     "read_only": false
    }
   },
   "outputs": [
    {
     "data": {
      "text/html": [
       "<div>\n",
       "<table border=\"1\" class=\"dataframe\">\n",
       "  <thead>\n",
       "    <tr style=\"text-align: right;\">\n",
       "      <th></th>\n",
       "      <th>genus</th>\n",
       "      <th>species</th>\n",
       "      <th>name</th>\n",
       "    </tr>\n",
       "  </thead>\n",
       "  <tbody>\n",
       "    <tr>\n",
       "      <th>0</th>\n",
       "      <td>Ammodramus</td>\n",
       "      <td>savannarum</td>\n",
       "      <td>Ammodramus savannarum</td>\n",
       "    </tr>\n",
       "    <tr>\n",
       "      <th>1</th>\n",
       "      <td>Ammospermophilus</td>\n",
       "      <td>harrisi</td>\n",
       "      <td>Ammospermophilus harrisi</td>\n",
       "    </tr>\n",
       "    <tr>\n",
       "      <th>2</th>\n",
       "      <td>Amphispiza</td>\n",
       "      <td>bilineata</td>\n",
       "      <td>Amphispiza bilineata</td>\n",
       "    </tr>\n",
       "    <tr>\n",
       "      <th>3</th>\n",
       "      <td>Baiomys</td>\n",
       "      <td>taylori</td>\n",
       "      <td>Baiomys taylori</td>\n",
       "    </tr>\n",
       "    <tr>\n",
       "      <th>4</th>\n",
       "      <td>Calamospiza</td>\n",
       "      <td>melanocorys</td>\n",
       "      <td>Calamospiza melanocorys</td>\n",
       "    </tr>\n",
       "  </tbody>\n",
       "</table>\n",
       "</div>"
      ],
      "text/plain": [
       "              genus      species                      name\n",
       "0        Ammodramus   savannarum     Ammodramus savannarum\n",
       "1  Ammospermophilus      harrisi  Ammospermophilus harrisi\n",
       "2        Amphispiza    bilineata      Amphispiza bilineata\n",
       "3           Baiomys      taylori           Baiomys taylori\n",
       "4       Calamospiza  melanocorys   Calamospiza melanocorys"
      ]
     },
     "execution_count": 323,
     "metadata": {},
     "output_type": "execute_result"
    }
   ],
   "source": [
    "unique_species.head()"
   ]
  },
  {
   "cell_type": "markdown",
   "metadata": {},
   "source": [
    "To perform the matching for each of the combination, different options do exist. \n",
    "\n",
    "Just to show the possibility of using `for` loops, the addition of the matched information will be done as such. First, we will store everything in one dictionary, where the keys of the dictionary are the index values of `unique_species` (in order to later merge them again) and the values are the entire messages (which are dictionaries aon itself). The format will look as following: \n",
    "\n",
    "```\n",
    "species_annotated = {O: {'canonicalName': 'Squamata', 'class': 'Reptilia', 'classKey': 358, ...}, \n",
    "                     1: {'canonicalName':...},\n",
    "                     2:...}\n",
    "```"
   ]
  },
  {
   "cell_type": "code",
   "execution_count": 324,
   "metadata": {
    "collapsed": false,
    "run_control": {
     "frozen": false,
     "read_only": false
    }
   },
   "outputs": [],
   "source": [
    "species_annotated = {}\n",
    "for key, row in unique_species.iterrows():\n",
    "    species_annotated[key] = name_match(row[\"name\"], strict=True)"
   ]
  },
  {
   "cell_type": "code",
   "execution_count": 325,
   "metadata": {
    "collapsed": false,
    "run_control": {
     "frozen": false,
     "read_only": false
    }
   },
   "outputs": [
    {
     "data": {
      "text/plain": [
       "{0: {'canonicalName': 'Ammodramus savannarum',\n",
       "  'class': 'Aves',\n",
       "  'classKey': 212,\n",
       "  'confidence': 99,\n",
       "  'family': 'Emberizidae',\n",
       "  'familyKey': 9608,\n",
       "  'genus': 'Ammodramus',\n",
       "  'genusKey': 2491079,\n",
       "  'kingdom': 'Animalia',\n",
       "  'kingdomKey': 1,\n",
       "  'matchType': 'EXACT',\n",
       "  'order': 'Passeriformes',\n",
       "  'orderKey': 729,\n",
       "  'phylum': 'Chordata',\n",
       "  'phylumKey': 44,\n",
       "  'rank': 'SPECIES',\n",
       "  'scientificName': 'Ammodramus savannarum (J. F. Gmelin, 1789)',\n",
       "  'species': 'Ammodramus savannarum',\n",
       "  'speciesKey': 2491123,\n",
       "  'status': 'ACCEPTED',\n",
       "  'synonym': False,\n",
       "  'usageKey': 2491123},\n",
       " 1: {'canonicalName': 'Ammospermophilus harrisii',\n",
       "  'class': 'Mammalia',\n",
       "  'classKey': 359,\n",
       "  'confidence': 96,\n",
       "  'family': 'Sciuridae',\n",
       "  'familyKey': 9456,\n",
       "  'genus': 'Ammospermophilus',\n",
       "  'genusKey': 2437567,\n",
       "  'kingdom': 'Animalia',\n",
       "  'kingdomKey': 1,\n",
       "  'matchType': 'FUZZY',\n",
       "  'order': 'Rodentia',\n",
       "  'orderKey': 1459,\n",
       "  'phylum': 'Chordata',\n",
       "  'phylumKey': 44,\n",
       "  'rank': 'SPECIES',\n",
       "  'scientificName': 'Ammospermophilus harrisii (Audubon & Bachman, 1854)',\n",
       "  'species': 'Ammospermophilus harrisii',\n",
       "  'speciesKey': 2437568,\n",
       "  'status': 'ACCEPTED',\n",
       "  'synonym': False,\n",
       "  'usageKey': 2437568},\n",
       " 2: {'canonicalName': 'Amphispiza bilineata',\n",
       "  'class': 'Aves',\n",
       "  'classKey': 212,\n",
       "  'confidence': 99,\n",
       "  'family': 'Emberizidae',\n",
       "  'familyKey': 9608,\n",
       "  'genus': 'Amphispiza',\n",
       "  'genusKey': 2491750,\n",
       "  'kingdom': 'Animalia',\n",
       "  'kingdomKey': 1,\n",
       "  'matchType': 'EXACT',\n",
       "  'order': 'Passeriformes',\n",
       "  'orderKey': 729,\n",
       "  'phylum': 'Chordata',\n",
       "  'phylumKey': 44,\n",
       "  'rank': 'SPECIES',\n",
       "  'scientificName': 'Amphispiza bilineata (Cassin, 1850)',\n",
       "  'species': 'Amphispiza bilineata',\n",
       "  'speciesKey': 2491757,\n",
       "  'status': 'ACCEPTED',\n",
       "  'synonym': False,\n",
       "  'usageKey': 2491757},\n",
       " 3: {'canonicalName': 'Baiomys taylori',\n",
       "  'class': 'Mammalia',\n",
       "  'classKey': 359,\n",
       "  'confidence': 99,\n",
       "  'family': 'Cricetidae',\n",
       "  'familyKey': 3240723,\n",
       "  'genus': 'Baiomys',\n",
       "  'genusKey': 2438864,\n",
       "  'kingdom': 'Animalia',\n",
       "  'kingdomKey': 1,\n",
       "  'matchType': 'EXACT',\n",
       "  'order': 'Rodentia',\n",
       "  'orderKey': 1459,\n",
       "  'phylum': 'Chordata',\n",
       "  'phylumKey': 44,\n",
       "  'rank': 'SPECIES',\n",
       "  'scientificName': 'Baiomys taylori (Thomas, 1887)',\n",
       "  'species': 'Baiomys taylori',\n",
       "  'speciesKey': 2438866,\n",
       "  'status': 'ACCEPTED',\n",
       "  'synonym': False,\n",
       "  'usageKey': 2438866},\n",
       " 4: {'canonicalName': 'Calamospiza melanocorys',\n",
       "  'class': 'Aves',\n",
       "  'classKey': 212,\n",
       "  'confidence': 99,\n",
       "  'family': 'Emberizidae',\n",
       "  'familyKey': 9608,\n",
       "  'genus': 'Calamospiza',\n",
       "  'genusKey': 2491892,\n",
       "  'kingdom': 'Animalia',\n",
       "  'kingdomKey': 1,\n",
       "  'matchType': 'EXACT',\n",
       "  'order': 'Passeriformes',\n",
       "  'orderKey': 729,\n",
       "  'phylum': 'Chordata',\n",
       "  'phylumKey': 44,\n",
       "  'rank': 'SPECIES',\n",
       "  'scientificName': 'Calamospiza melanocorys Stejneger, 1885',\n",
       "  'species': 'Calamospiza melanocorys',\n",
       "  'speciesKey': 2491893,\n",
       "  'status': 'ACCEPTED',\n",
       "  'synonym': False,\n",
       "  'usageKey': 2491893},\n",
       " 5: {'canonicalName': 'Callipepla squamata',\n",
       "  'class': 'Aves',\n",
       "  'classKey': 212,\n",
       "  'confidence': 99,\n",
       "  'family': 'Odontophoridae',\n",
       "  'familyKey': 9325,\n",
       "  'genus': 'Callipepla',\n",
       "  'genusKey': 2474205,\n",
       "  'kingdom': 'Animalia',\n",
       "  'kingdomKey': 1,\n",
       "  'matchType': 'EXACT',\n",
       "  'order': 'Galliformes',\n",
       "  'orderKey': 723,\n",
       "  'phylum': 'Chordata',\n",
       "  'phylumKey': 44,\n",
       "  'rank': 'SPECIES',\n",
       "  'scientificName': 'Callipepla squamata (Vigors, 1830)',\n",
       "  'species': 'Callipepla squamata',\n",
       "  'speciesKey': 5228075,\n",
       "  'status': 'ACCEPTED',\n",
       "  'synonym': False,\n",
       "  'usageKey': 5228075},\n",
       " 6: {'canonicalName': 'Campylorhynchus brunneicapillus',\n",
       "  'class': 'Aves',\n",
       "  'classKey': 212,\n",
       "  'confidence': 99,\n",
       "  'family': 'Troglodytidae',\n",
       "  'familyKey': 9355,\n",
       "  'genus': 'Campylorhynchus',\n",
       "  'genusKey': 2493929,\n",
       "  'kingdom': 'Animalia',\n",
       "  'kingdomKey': 1,\n",
       "  'matchType': 'EXACT',\n",
       "  'order': 'Passeriformes',\n",
       "  'orderKey': 729,\n",
       "  'phylum': 'Chordata',\n",
       "  'phylumKey': 44,\n",
       "  'rank': 'SPECIES',\n",
       "  'scientificName': 'Campylorhynchus brunneicapillus (Lafresnaye, 1835)',\n",
       "  'species': 'Campylorhynchus brunneicapillus',\n",
       "  'speciesKey': 5231474,\n",
       "  'status': 'ACCEPTED',\n",
       "  'synonym': False,\n",
       "  'usageKey': 5231474},\n",
       " 7: {'canonicalName': 'Chaetodipus baileyi',\n",
       "  'class': 'Mammalia',\n",
       "  'classKey': 359,\n",
       "  'confidence': 99,\n",
       "  'family': 'Heteromyidae',\n",
       "  'familyKey': 5504,\n",
       "  'genus': 'Chaetodipus',\n",
       "  'genusKey': 2439576,\n",
       "  'kingdom': 'Animalia',\n",
       "  'kingdomKey': 1,\n",
       "  'matchType': 'EXACT',\n",
       "  'order': 'Rodentia',\n",
       "  'orderKey': 1459,\n",
       "  'phylum': 'Chordata',\n",
       "  'phylumKey': 44,\n",
       "  'rank': 'SPECIES',\n",
       "  'scientificName': 'Chaetodipus baileyi (Merriam, 1894)',\n",
       "  'species': 'Chaetodipus baileyi',\n",
       "  'speciesKey': 2439581,\n",
       "  'status': 'ACCEPTED',\n",
       "  'synonym': False,\n",
       "  'usageKey': 2439581},\n",
       " 8: {'canonicalName': 'Chaetodipus intermedius',\n",
       "  'class': 'Mammalia',\n",
       "  'classKey': 359,\n",
       "  'confidence': 99,\n",
       "  'family': 'Heteromyidae',\n",
       "  'familyKey': 5504,\n",
       "  'genus': 'Chaetodipus',\n",
       "  'genusKey': 2439576,\n",
       "  'kingdom': 'Animalia',\n",
       "  'kingdomKey': 1,\n",
       "  'matchType': 'EXACT',\n",
       "  'order': 'Rodentia',\n",
       "  'orderKey': 1459,\n",
       "  'phylum': 'Chordata',\n",
       "  'phylumKey': 44,\n",
       "  'rank': 'SPECIES',\n",
       "  'scientificName': 'Chaetodipus intermedius (Merriam, 1889)',\n",
       "  'species': 'Chaetodipus intermedius',\n",
       "  'speciesKey': 2439589,\n",
       "  'status': 'ACCEPTED',\n",
       "  'synonym': False,\n",
       "  'usageKey': 2439589},\n",
       " 9: {'canonicalName': 'Chaetodipus penicillatus',\n",
       "  'class': 'Mammalia',\n",
       "  'classKey': 359,\n",
       "  'confidence': 99,\n",
       "  'family': 'Heteromyidae',\n",
       "  'familyKey': 5504,\n",
       "  'genus': 'Chaetodipus',\n",
       "  'genusKey': 2439576,\n",
       "  'kingdom': 'Animalia',\n",
       "  'kingdomKey': 1,\n",
       "  'matchType': 'EXACT',\n",
       "  'order': 'Rodentia',\n",
       "  'orderKey': 1459,\n",
       "  'phylum': 'Chordata',\n",
       "  'phylumKey': 44,\n",
       "  'rank': 'SPECIES',\n",
       "  'scientificName': 'Chaetodipus penicillatus (Woodhouse, 1852)',\n",
       "  'species': 'Chaetodipus penicillatus',\n",
       "  'speciesKey': 2439591,\n",
       "  'status': 'ACCEPTED',\n",
       "  'synonym': False,\n",
       "  'usageKey': 2439591},\n",
       " 10: {'confidence': 99,\n",
       "  'matchType': 'NONE',\n",
       "  'note': 'No match because of too little confidence',\n",
       "  'synonym': False},\n",
       " 11: {'confidence': 99,\n",
       "  'matchType': 'NONE',\n",
       "  'note': 'Multiple equal matches for Cnemidophorus tigris',\n",
       "  'synonym': False},\n",
       " 12: {'canonicalName': 'Cnemidophorus uniparens',\n",
       "  'class': 'Reptilia',\n",
       "  'classKey': 358,\n",
       "  'confidence': 99,\n",
       "  'family': 'Teiidae',\n",
       "  'familyKey': 5019,\n",
       "  'genus': 'Aspidoscelis',\n",
       "  'genusKey': 2472006,\n",
       "  'kingdom': 'Animalia',\n",
       "  'kingdomKey': 1,\n",
       "  'matchType': 'EXACT',\n",
       "  'order': 'Squamata',\n",
       "  'orderKey': 715,\n",
       "  'phylum': 'Chordata',\n",
       "  'phylumKey': 44,\n",
       "  'rank': 'SPECIES',\n",
       "  'scientificName': 'Cnemidophorus uniparens Wright & Lowe, 1965',\n",
       "  'species': 'Aspidoscelis uniparens',\n",
       "  'speciesKey': 2472455,\n",
       "  'status': 'SYNONYM',\n",
       "  'synonym': True,\n",
       "  'usageKey': 5227544},\n",
       " 13: {'confidence': 100, 'matchType': 'NONE', 'synonym': False},\n",
       " 14: {'canonicalName': 'Crotalus viridis',\n",
       "  'class': 'Reptilia',\n",
       "  'classKey': 358,\n",
       "  'confidence': 98,\n",
       "  'family': 'Viperidae',\n",
       "  'familyKey': 5024,\n",
       "  'genus': 'Crotalus',\n",
       "  'genusKey': 2444354,\n",
       "  'kingdom': 'Animalia',\n",
       "  'kingdomKey': 1,\n",
       "  'matchType': 'EXACT',\n",
       "  'order': 'Squamata',\n",
       "  'orderKey': 715,\n",
       "  'phylum': 'Chordata',\n",
       "  'phylumKey': 44,\n",
       "  'rank': 'SPECIES',\n",
       "  'scientificName': 'Crotalus viridis (Rafinesque, 1818)',\n",
       "  'species': 'Crotalus viridis',\n",
       "  'speciesKey': 2444441,\n",
       "  'status': 'ACCEPTED',\n",
       "  'synonym': False,\n",
       "  'usageKey': 2444441},\n",
       " 15: {'canonicalName': 'Dipodomys merriami',\n",
       "  'class': 'Mammalia',\n",
       "  'classKey': 359,\n",
       "  'confidence': 99,\n",
       "  'family': 'Heteromyidae',\n",
       "  'familyKey': 5504,\n",
       "  'genus': 'Dipodomys',\n",
       "  'genusKey': 2439509,\n",
       "  'kingdom': 'Animalia',\n",
       "  'kingdomKey': 1,\n",
       "  'matchType': 'EXACT',\n",
       "  'order': 'Rodentia',\n",
       "  'orderKey': 1459,\n",
       "  'phylum': 'Chordata',\n",
       "  'phylumKey': 44,\n",
       "  'rank': 'SPECIES',\n",
       "  'scientificName': 'Dipodomys merriami Mearns, 1890',\n",
       "  'species': 'Dipodomys merriami',\n",
       "  'speciesKey': 2439521,\n",
       "  'status': 'ACCEPTED',\n",
       "  'synonym': False,\n",
       "  'usageKey': 2439521},\n",
       " 16: {'canonicalName': 'Dipodomys ordii',\n",
       "  'class': 'Mammalia',\n",
       "  'classKey': 359,\n",
       "  'confidence': 99,\n",
       "  'family': 'Heteromyidae',\n",
       "  'familyKey': 5504,\n",
       "  'genus': 'Dipodomys',\n",
       "  'genusKey': 2439509,\n",
       "  'kingdom': 'Animalia',\n",
       "  'kingdomKey': 1,\n",
       "  'matchType': 'EXACT',\n",
       "  'order': 'Rodentia',\n",
       "  'orderKey': 1459,\n",
       "  'phylum': 'Chordata',\n",
       "  'phylumKey': 44,\n",
       "  'rank': 'SPECIES',\n",
       "  'scientificName': 'Dipodomys ordii Woodhouse, 1853',\n",
       "  'species': 'Dipodomys ordii',\n",
       "  'speciesKey': 2439541,\n",
       "  'status': 'ACCEPTED',\n",
       "  'synonym': False,\n",
       "  'usageKey': 2439541},\n",
       " 17: {'confidence': 99,\n",
       "  'matchType': 'NONE',\n",
       "  'note': 'No match because of too little confidence',\n",
       "  'synonym': False},\n",
       " 18: {'canonicalName': 'Dipodomys spectabilis',\n",
       "  'class': 'Mammalia',\n",
       "  'classKey': 359,\n",
       "  'confidence': 99,\n",
       "  'family': 'Heteromyidae',\n",
       "  'familyKey': 5504,\n",
       "  'genus': 'Dipodomys',\n",
       "  'genusKey': 2439509,\n",
       "  'kingdom': 'Animalia',\n",
       "  'kingdomKey': 1,\n",
       "  'matchType': 'EXACT',\n",
       "  'order': 'Rodentia',\n",
       "  'orderKey': 1459,\n",
       "  'phylum': 'Chordata',\n",
       "  'phylumKey': 44,\n",
       "  'rank': 'SPECIES',\n",
       "  'scientificName': 'Dipodomys spectabilis Merriam, 1890',\n",
       "  'species': 'Dipodomys spectabilis',\n",
       "  'speciesKey': 2439531,\n",
       "  'status': 'ACCEPTED',\n",
       "  'synonym': False,\n",
       "  'usageKey': 2439531},\n",
       " 19: {'confidence': 100, 'matchType': 'NONE', 'synonym': False},\n",
       " 20: {'canonicalName': 'Onychomys leucogaster',\n",
       "  'class': 'Mammalia',\n",
       "  'classKey': 359,\n",
       "  'confidence': 99,\n",
       "  'family': 'Cricetidae',\n",
       "  'familyKey': 3240723,\n",
       "  'genus': 'Onychomys',\n",
       "  'genusKey': 2438514,\n",
       "  'kingdom': 'Animalia',\n",
       "  'kingdomKey': 1,\n",
       "  'matchType': 'EXACT',\n",
       "  'order': 'Rodentia',\n",
       "  'orderKey': 1459,\n",
       "  'phylum': 'Chordata',\n",
       "  'phylumKey': 44,\n",
       "  'rank': 'SPECIES',\n",
       "  'scientificName': 'Onychomys leucogaster (Wied-Neuwied, 1841)',\n",
       "  'species': 'Onychomys leucogaster',\n",
       "  'speciesKey': 2438517,\n",
       "  'status': 'ACCEPTED',\n",
       "  'synonym': False,\n",
       "  'usageKey': 2438517},\n",
       " 21: {'confidence': 99,\n",
       "  'matchType': 'NONE',\n",
       "  'note': 'No match because of too little confidence',\n",
       "  'synonym': False},\n",
       " 22: {'canonicalName': 'Onychomys torridus',\n",
       "  'class': 'Mammalia',\n",
       "  'classKey': 359,\n",
       "  'confidence': 99,\n",
       "  'family': 'Cricetidae',\n",
       "  'familyKey': 3240723,\n",
       "  'genus': 'Onychomys',\n",
       "  'genusKey': 2438514,\n",
       "  'kingdom': 'Animalia',\n",
       "  'kingdomKey': 1,\n",
       "  'matchType': 'EXACT',\n",
       "  'order': 'Rodentia',\n",
       "  'orderKey': 1459,\n",
       "  'phylum': 'Chordata',\n",
       "  'phylumKey': 44,\n",
       "  'rank': 'SPECIES',\n",
       "  'scientificName': 'Onychomys torridus (Coues, 1874)',\n",
       "  'species': 'Onychomys torridus',\n",
       "  'speciesKey': 2438516,\n",
       "  'status': 'ACCEPTED',\n",
       "  'synonym': False,\n",
       "  'usageKey': 2438516},\n",
       " 23: {'canonicalName': 'Perognathus flavus',\n",
       "  'class': 'Mammalia',\n",
       "  'classKey': 359,\n",
       "  'confidence': 99,\n",
       "  'family': 'Heteromyidae',\n",
       "  'familyKey': 5504,\n",
       "  'genus': 'Perognathus',\n",
       "  'genusKey': 2439552,\n",
       "  'kingdom': 'Animalia',\n",
       "  'kingdomKey': 1,\n",
       "  'matchType': 'EXACT',\n",
       "  'order': 'Rodentia',\n",
       "  'orderKey': 1459,\n",
       "  'phylum': 'Chordata',\n",
       "  'phylumKey': 44,\n",
       "  'rank': 'SPECIES',\n",
       "  'scientificName': 'Perognathus flavus Baird, 1855',\n",
       "  'species': 'Perognathus flavus',\n",
       "  'speciesKey': 2439566,\n",
       "  'status': 'ACCEPTED',\n",
       "  'synonym': False,\n",
       "  'usageKey': 2439566},\n",
       " 24: {'canonicalName': 'Perognathus hispidus',\n",
       "  'class': 'Mammalia',\n",
       "  'classKey': 359,\n",
       "  'confidence': 99,\n",
       "  'family': 'Heteromyidae',\n",
       "  'familyKey': 5504,\n",
       "  'genus': 'Chaetodipus',\n",
       "  'genusKey': 2439576,\n",
       "  'kingdom': 'Animalia',\n",
       "  'kingdomKey': 1,\n",
       "  'matchType': 'EXACT',\n",
       "  'order': 'Rodentia',\n",
       "  'orderKey': 1459,\n",
       "  'phylum': 'Chordata',\n",
       "  'phylumKey': 44,\n",
       "  'rank': 'SPECIES',\n",
       "  'scientificName': 'Perognathus hispidus Baird, 1858',\n",
       "  'species': 'Chaetodipus hispidus',\n",
       "  'speciesKey': 2439583,\n",
       "  'status': 'SYNONYM',\n",
       "  'synonym': True,\n",
       "  'usageKey': 2439584},\n",
       " 25: {'canonicalName': 'Peromyscus eremicus',\n",
       "  'class': 'Mammalia',\n",
       "  'classKey': 359,\n",
       "  'confidence': 99,\n",
       "  'family': 'Cricetidae',\n",
       "  'familyKey': 3240723,\n",
       "  'genus': 'Peromyscus',\n",
       "  'genusKey': 2437961,\n",
       "  'kingdom': 'Animalia',\n",
       "  'kingdomKey': 1,\n",
       "  'matchType': 'EXACT',\n",
       "  'order': 'Rodentia',\n",
       "  'orderKey': 1459,\n",
       "  'phylum': 'Chordata',\n",
       "  'phylumKey': 44,\n",
       "  'rank': 'SPECIES',\n",
       "  'scientificName': 'Peromyscus eremicus (Baird, 1857)',\n",
       "  'species': 'Peromyscus eremicus',\n",
       "  'speciesKey': 2437981,\n",
       "  'status': 'ACCEPTED',\n",
       "  'synonym': False,\n",
       "  'usageKey': 2437981},\n",
       " 26: {'canonicalName': 'Peromyscus leucopus',\n",
       "  'class': 'Mammalia',\n",
       "  'classKey': 359,\n",
       "  'confidence': 99,\n",
       "  'family': 'Cricetidae',\n",
       "  'familyKey': 3240723,\n",
       "  'genus': 'Peromyscus',\n",
       "  'genusKey': 2437961,\n",
       "  'kingdom': 'Animalia',\n",
       "  'kingdomKey': 1,\n",
       "  'matchType': 'EXACT',\n",
       "  'order': 'Rodentia',\n",
       "  'orderKey': 1459,\n",
       "  'phylum': 'Chordata',\n",
       "  'phylumKey': 44,\n",
       "  'rank': 'SPECIES',\n",
       "  'scientificName': 'Peromyscus leucopus (Rafinesque, 1818)',\n",
       "  'species': 'Peromyscus leucopus',\n",
       "  'speciesKey': 2438019,\n",
       "  'status': 'ACCEPTED',\n",
       "  'synonym': False,\n",
       "  'usageKey': 2438019},\n",
       " 27: {'canonicalName': 'Peromyscus maniculatus',\n",
       "  'class': 'Mammalia',\n",
       "  'classKey': 359,\n",
       "  'confidence': 99,\n",
       "  'family': 'Cricetidae',\n",
       "  'familyKey': 3240723,\n",
       "  'genus': 'Peromyscus',\n",
       "  'genusKey': 2437961,\n",
       "  'kingdom': 'Animalia',\n",
       "  'kingdomKey': 1,\n",
       "  'matchType': 'EXACT',\n",
       "  'order': 'Rodentia',\n",
       "  'orderKey': 1459,\n",
       "  'phylum': 'Chordata',\n",
       "  'phylumKey': 44,\n",
       "  'rank': 'SPECIES',\n",
       "  'scientificName': 'Peromyscus maniculatus (Wagner, 1845)',\n",
       "  'species': 'Peromyscus maniculatus',\n",
       "  'speciesKey': 2437967,\n",
       "  'status': 'ACCEPTED',\n",
       "  'synonym': False,\n",
       "  'usageKey': 2437967},\n",
       " 28: {'canonicalName': 'Pipilo chlorurus',\n",
       "  'class': 'Aves',\n",
       "  'classKey': 212,\n",
       "  'confidence': 99,\n",
       "  'family': 'Emberizidae',\n",
       "  'familyKey': 9608,\n",
       "  'genus': 'Pipilo',\n",
       "  'genusKey': 2491204,\n",
       "  'kingdom': 'Animalia',\n",
       "  'kingdomKey': 1,\n",
       "  'matchType': 'EXACT',\n",
       "  'order': 'Passeriformes',\n",
       "  'orderKey': 729,\n",
       "  'phylum': 'Chordata',\n",
       "  'phylumKey': 44,\n",
       "  'rank': 'SPECIES',\n",
       "  'scientificName': 'Pipilo chlorurus (Audubon, 1839)',\n",
       "  'species': 'Pipilo chlorurus',\n",
       "  'speciesKey': 2491276,\n",
       "  'status': 'ACCEPTED',\n",
       "  'synonym': False,\n",
       "  'usageKey': 2491276},\n",
       " 29: {'canonicalName': 'Pipilo fuscus',\n",
       "  'class': 'Aves',\n",
       "  'classKey': 212,\n",
       "  'confidence': 99,\n",
       "  'family': 'Emberizidae',\n",
       "  'familyKey': 9608,\n",
       "  'genus': 'Melozone',\n",
       "  'genusKey': 2491170,\n",
       "  'kingdom': 'Animalia',\n",
       "  'kingdomKey': 1,\n",
       "  'matchType': 'EXACT',\n",
       "  'order': 'Passeriformes',\n",
       "  'orderKey': 729,\n",
       "  'phylum': 'Chordata',\n",
       "  'phylumKey': 44,\n",
       "  'rank': 'SPECIES',\n",
       "  'scientificName': 'Pipilo fuscus Swainson, 1827',\n",
       "  'species': 'Melozone fusca',\n",
       "  'speciesKey': 7341622,\n",
       "  'status': 'SYNONYM',\n",
       "  'synonym': True,\n",
       "  'usageKey': 2491244},\n",
       " 30: {'confidence': 99,\n",
       "  'matchType': 'NONE',\n",
       "  'note': 'No match because of too little confidence',\n",
       "  'synonym': False},\n",
       " 31: {'canonicalName': 'Pooecetes gramineus',\n",
       "  'class': 'Aves',\n",
       "  'classKey': 212,\n",
       "  'confidence': 99,\n",
       "  'family': 'Emberizidae',\n",
       "  'familyKey': 9608,\n",
       "  'genus': 'Pooecetes',\n",
       "  'genusKey': 2491727,\n",
       "  'kingdom': 'Animalia',\n",
       "  'kingdomKey': 1,\n",
       "  'matchType': 'EXACT',\n",
       "  'order': 'Passeriformes',\n",
       "  'orderKey': 729,\n",
       "  'phylum': 'Chordata',\n",
       "  'phylumKey': 44,\n",
       "  'rank': 'SPECIES',\n",
       "  'scientificName': 'Pooecetes gramineus (J. F. Gmelin, 1789)',\n",
       "  'species': 'Pooecetes gramineus',\n",
       "  'speciesKey': 2491728,\n",
       "  'status': 'ACCEPTED',\n",
       "  'synonym': False,\n",
       "  'usageKey': 2491728},\n",
       " 32: {'canonicalName': 'Reithrodontomys fulvescens',\n",
       "  'class': 'Mammalia',\n",
       "  'classKey': 359,\n",
       "  'confidence': 99,\n",
       "  'family': 'Cricetidae',\n",
       "  'familyKey': 3240723,\n",
       "  'genus': 'Reithrodontomys',\n",
       "  'genusKey': 2437854,\n",
       "  'kingdom': 'Animalia',\n",
       "  'kingdomKey': 1,\n",
       "  'matchType': 'EXACT',\n",
       "  'order': 'Rodentia',\n",
       "  'orderKey': 1459,\n",
       "  'phylum': 'Chordata',\n",
       "  'phylumKey': 44,\n",
       "  'rank': 'SPECIES',\n",
       "  'scientificName': 'Reithrodontomys fulvescens J. A. Allen, 1894',\n",
       "  'species': 'Reithrodontomys fulvescens',\n",
       "  'speciesKey': 2437864,\n",
       "  'status': 'ACCEPTED',\n",
       "  'synonym': False,\n",
       "  'usageKey': 2437864},\n",
       " 33: {'canonicalName': 'Reithrodontomys megalotis',\n",
       "  'class': 'Mammalia',\n",
       "  'classKey': 359,\n",
       "  'confidence': 99,\n",
       "  'family': 'Cricetidae',\n",
       "  'familyKey': 3240723,\n",
       "  'genus': 'Reithrodontomys',\n",
       "  'genusKey': 2437854,\n",
       "  'kingdom': 'Animalia',\n",
       "  'kingdomKey': 1,\n",
       "  'matchType': 'EXACT',\n",
       "  'order': 'Rodentia',\n",
       "  'orderKey': 1459,\n",
       "  'phylum': 'Chordata',\n",
       "  'phylumKey': 44,\n",
       "  'rank': 'SPECIES',\n",
       "  'scientificName': 'Reithrodontomys megalotis (Baird, 1857)',\n",
       "  'species': 'Reithrodontomys megalotis',\n",
       "  'speciesKey': 2437874,\n",
       "  'status': 'ACCEPTED',\n",
       "  'synonym': False,\n",
       "  'usageKey': 2437874},\n",
       " 34: {'canonicalName': 'Reithrodontomys montanus',\n",
       "  'class': 'Mammalia',\n",
       "  'classKey': 359,\n",
       "  'confidence': 99,\n",
       "  'family': 'Cricetidae',\n",
       "  'familyKey': 3240723,\n",
       "  'genus': 'Reithrodontomys',\n",
       "  'genusKey': 2437854,\n",
       "  'kingdom': 'Animalia',\n",
       "  'kingdomKey': 1,\n",
       "  'matchType': 'EXACT',\n",
       "  'order': 'Rodentia',\n",
       "  'orderKey': 1459,\n",
       "  'phylum': 'Chordata',\n",
       "  'phylumKey': 44,\n",
       "  'rank': 'SPECIES',\n",
       "  'scientificName': 'Reithrodontomys montanus (Baird, 1855)',\n",
       "  'species': 'Reithrodontomys montanus',\n",
       "  'speciesKey': 2437866,\n",
       "  'status': 'ACCEPTED',\n",
       "  'synonym': False,\n",
       "  'usageKey': 2437866},\n",
       " 35: {'confidence': 99,\n",
       "  'matchType': 'NONE',\n",
       "  'note': 'No match because of too little confidence',\n",
       "  'synonym': False},\n",
       " 36: {'confidence': 100, 'matchType': 'NONE', 'synonym': False},\n",
       " 37: {'canonicalName': 'Sceloporus clarki',\n",
       "  'class': 'Reptilia',\n",
       "  'classKey': 358,\n",
       "  'confidence': 98,\n",
       "  'family': 'Phrynosomatidae',\n",
       "  'familyKey': 5016,\n",
       "  'genus': 'Sceloporus',\n",
       "  'genusKey': 2451143,\n",
       "  'kingdom': 'Animalia',\n",
       "  'kingdomKey': 1,\n",
       "  'matchType': 'EXACT',\n",
       "  'order': 'Squamata',\n",
       "  'orderKey': 715,\n",
       "  'phylum': 'Chordata',\n",
       "  'phylumKey': 44,\n",
       "  'rank': 'SPECIES',\n",
       "  'scientificName': 'Sceloporus clarki Tanner & Robison, 1960',\n",
       "  'species': 'Sceloporus clarkii',\n",
       "  'speciesKey': 2451192,\n",
       "  'status': 'SYNONYM',\n",
       "  'synonym': True,\n",
       "  'usageKey': 8338039},\n",
       " 38: {'canonicalName': 'Sceloporus undulatus',\n",
       "  'class': 'Reptilia',\n",
       "  'classKey': 358,\n",
       "  'confidence': 98,\n",
       "  'family': 'Phrynosomatidae',\n",
       "  'familyKey': 5016,\n",
       "  'genus': 'Sceloporus',\n",
       "  'genusKey': 2451143,\n",
       "  'kingdom': 'Animalia',\n",
       "  'kingdomKey': 1,\n",
       "  'matchType': 'EXACT',\n",
       "  'order': 'Squamata',\n",
       "  'orderKey': 715,\n",
       "  'phylum': 'Chordata',\n",
       "  'phylumKey': 44,\n",
       "  'rank': 'SPECIES',\n",
       "  'scientificName': 'Sceloporus undulatus Bosc & Daudin, 1801',\n",
       "  'species': 'Sceloporus undulatus',\n",
       "  'speciesKey': 2451347,\n",
       "  'status': 'ACCEPTED',\n",
       "  'synonym': False,\n",
       "  'usageKey': 2451347},\n",
       " 39: {'canonicalName': 'Sigmodon fulviventer',\n",
       "  'class': 'Mammalia',\n",
       "  'classKey': 359,\n",
       "  'confidence': 99,\n",
       "  'family': 'Cricetidae',\n",
       "  'familyKey': 3240723,\n",
       "  'genus': 'Sigmodon',\n",
       "  'genusKey': 2438146,\n",
       "  'kingdom': 'Animalia',\n",
       "  'kingdomKey': 1,\n",
       "  'matchType': 'EXACT',\n",
       "  'order': 'Rodentia',\n",
       "  'orderKey': 1459,\n",
       "  'phylum': 'Chordata',\n",
       "  'phylumKey': 44,\n",
       "  'rank': 'SPECIES',\n",
       "  'scientificName': 'Sigmodon fulviventer J. A. Allen, 1889',\n",
       "  'species': 'Sigmodon fulviventer',\n",
       "  'speciesKey': 2438153,\n",
       "  'status': 'ACCEPTED',\n",
       "  'synonym': False,\n",
       "  'usageKey': 2438153},\n",
       " 40: {'canonicalName': 'Sigmodon hispidus',\n",
       "  'class': 'Mammalia',\n",
       "  'classKey': 359,\n",
       "  'confidence': 99,\n",
       "  'family': 'Cricetidae',\n",
       "  'familyKey': 3240723,\n",
       "  'genus': 'Sigmodon',\n",
       "  'genusKey': 2438146,\n",
       "  'kingdom': 'Animalia',\n",
       "  'kingdomKey': 1,\n",
       "  'matchType': 'EXACT',\n",
       "  'order': 'Rodentia',\n",
       "  'orderKey': 1459,\n",
       "  'phylum': 'Chordata',\n",
       "  'phylumKey': 44,\n",
       "  'rank': 'SPECIES',\n",
       "  'scientificName': 'Sigmodon hispidus Say & Ord, 1825',\n",
       "  'species': 'Sigmodon hispidus',\n",
       "  'speciesKey': 2438147,\n",
       "  'status': 'ACCEPTED',\n",
       "  'synonym': False,\n",
       "  'usageKey': 2438147},\n",
       " 41: {'canonicalName': 'Sigmodon ochrognathus',\n",
       "  'class': 'Mammalia',\n",
       "  'classKey': 359,\n",
       "  'confidence': 99,\n",
       "  'family': 'Cricetidae',\n",
       "  'familyKey': 3240723,\n",
       "  'genus': 'Sigmodon',\n",
       "  'genusKey': 2438146,\n",
       "  'kingdom': 'Animalia',\n",
       "  'kingdomKey': 1,\n",
       "  'matchType': 'EXACT',\n",
       "  'order': 'Rodentia',\n",
       "  'orderKey': 1459,\n",
       "  'phylum': 'Chordata',\n",
       "  'phylumKey': 44,\n",
       "  'rank': 'SPECIES',\n",
       "  'scientificName': 'Sigmodon ochrognathus Bailey, 1902',\n",
       "  'species': 'Sigmodon ochrognathus',\n",
       "  'speciesKey': 2438156,\n",
       "  'status': 'ACCEPTED',\n",
       "  'synonym': False,\n",
       "  'usageKey': 2438156},\n",
       " 42: {'confidence': 100, 'matchType': 'NONE', 'synonym': False},\n",
       " 43: {'canonicalName': 'Spermophilus spilosoma',\n",
       "  'class': 'Mammalia',\n",
       "  'classKey': 359,\n",
       "  'confidence': 99,\n",
       "  'family': 'Sciuridae',\n",
       "  'familyKey': 9456,\n",
       "  'genus': 'Xerospermophilus',\n",
       "  'genusKey': 4827928,\n",
       "  'kingdom': 'Animalia',\n",
       "  'kingdomKey': 1,\n",
       "  'matchType': 'EXACT',\n",
       "  'order': 'Rodentia',\n",
       "  'orderKey': 1459,\n",
       "  'phylum': 'Chordata',\n",
       "  'phylumKey': 44,\n",
       "  'rank': 'SPECIES',\n",
       "  'scientificName': 'Spermophilus spilosoma Bennett, 1833',\n",
       "  'species': 'Xerospermophilus spilosoma',\n",
       "  'speciesKey': 8299308,\n",
       "  'status': 'SYNONYM',\n",
       "  'synonym': True,\n",
       "  'usageKey': 2437300},\n",
       " 44: {'canonicalName': 'Spermophilus tereticaudus',\n",
       "  'class': 'Mammalia',\n",
       "  'classKey': 359,\n",
       "  'confidence': 99,\n",
       "  'family': 'Sciuridae',\n",
       "  'familyKey': 9456,\n",
       "  'genus': 'Xerospermophilus',\n",
       "  'genusKey': 4827928,\n",
       "  'kingdom': 'Animalia',\n",
       "  'kingdomKey': 1,\n",
       "  'matchType': 'EXACT',\n",
       "  'order': 'Rodentia',\n",
       "  'orderKey': 1459,\n",
       "  'phylum': 'Chordata',\n",
       "  'phylumKey': 44,\n",
       "  'rank': 'SPECIES',\n",
       "  'scientificName': 'Spermophilus tereticaudus Baird, 1858',\n",
       "  'species': 'Xerospermophilus tereticaudus',\n",
       "  'speciesKey': 8032606,\n",
       "  'status': 'SYNONYM',\n",
       "  'synonym': True,\n",
       "  'usageKey': 2437325},\n",
       " 45: {'canonicalName': 'Sylvilagus audubonii',\n",
       "  'class': 'Mammalia',\n",
       "  'classKey': 359,\n",
       "  'confidence': 99,\n",
       "  'family': 'Leporidae',\n",
       "  'familyKey': 9379,\n",
       "  'genus': 'Sylvilagus',\n",
       "  'genusKey': 2436839,\n",
       "  'kingdom': 'Animalia',\n",
       "  'kingdomKey': 1,\n",
       "  'matchType': 'EXACT',\n",
       "  'order': 'Lagomorpha',\n",
       "  'orderKey': 785,\n",
       "  'phylum': 'Chordata',\n",
       "  'phylumKey': 44,\n",
       "  'rank': 'SPECIES',\n",
       "  'scientificName': 'Sylvilagus audubonii (Baird, 1858)',\n",
       "  'species': 'Sylvilagus audubonii',\n",
       "  'speciesKey': 2436910,\n",
       "  'status': 'ACCEPTED',\n",
       "  'synonym': False,\n",
       "  'usageKey': 2436910},\n",
       " 46: {'canonicalName': 'Zonotrichia leucophrys',\n",
       "  'class': 'Aves',\n",
       "  'classKey': 212,\n",
       "  'confidence': 99,\n",
       "  'family': 'Emberizidae',\n",
       "  'familyKey': 9608,\n",
       "  'genus': 'Zonotrichia',\n",
       "  'genusKey': 6173226,\n",
       "  'kingdom': 'Animalia',\n",
       "  'kingdomKey': 1,\n",
       "  'matchType': 'EXACT',\n",
       "  'order': 'Passeriformes',\n",
       "  'orderKey': 729,\n",
       "  'phylum': 'Chordata',\n",
       "  'phylumKey': 44,\n",
       "  'rank': 'SPECIES',\n",
       "  'scientificName': 'Zonotrichia leucophrys (J. R. Forster, 1772)',\n",
       "  'species': 'Zonotrichia leucophrys',\n",
       "  'speciesKey': 5231132,\n",
       "  'status': 'ACCEPTED',\n",
       "  'synonym': False,\n",
       "  'usageKey': 5231132}}"
      ]
     },
     "execution_count": 325,
     "metadata": {},
     "output_type": "execute_result"
    }
   ],
   "source": [
    " species_annotated"
   ]
  },
  {
   "cell_type": "markdown",
   "metadata": {},
   "source": [
    "We can now easily transform this to a pandas DataFrame:"
   ]
  },
  {
   "cell_type": "markdown",
   "metadata": {},
   "source": [
    "<div class=\"alert alert-success\">\n",
    "    <b>EXERCISE</b>: Convert the dictionary `species_annotated` into a pandas DataFrame with the row index the key-values corresponding to `unique_species` and the column headers the output columns of the API response. Save the result as the variable df_species_annotated.\n",
    "</div>"
   ]
  },
  {
   "cell_type": "code",
   "execution_count": 326,
   "metadata": {
    "collapsed": false,
    "run_control": {
     "frozen": false,
     "read_only": false
    }
   },
   "outputs": [],
   "source": [
    "df_species_annotated = pd.DataFrame(species_annotated).transpose()"
   ]
  },
  {
   "cell_type": "code",
   "execution_count": 327,
   "metadata": {
    "collapsed": false,
    "run_control": {
     "frozen": false,
     "read_only": false
    }
   },
   "outputs": [
    {
     "data": {
      "text/html": [
       "<div>\n",
       "<table border=\"1\" class=\"dataframe\">\n",
       "  <thead>\n",
       "    <tr style=\"text-align: right;\">\n",
       "      <th></th>\n",
       "      <th>canonicalName</th>\n",
       "      <th>class</th>\n",
       "      <th>classKey</th>\n",
       "      <th>confidence</th>\n",
       "      <th>family</th>\n",
       "      <th>familyKey</th>\n",
       "      <th>genus</th>\n",
       "      <th>genusKey</th>\n",
       "      <th>kingdom</th>\n",
       "      <th>kingdomKey</th>\n",
       "      <th>...</th>\n",
       "      <th>orderKey</th>\n",
       "      <th>phylum</th>\n",
       "      <th>phylumKey</th>\n",
       "      <th>rank</th>\n",
       "      <th>scientificName</th>\n",
       "      <th>species</th>\n",
       "      <th>speciesKey</th>\n",
       "      <th>status</th>\n",
       "      <th>synonym</th>\n",
       "      <th>usageKey</th>\n",
       "    </tr>\n",
       "  </thead>\n",
       "  <tbody>\n",
       "    <tr>\n",
       "      <th>0</th>\n",
       "      <td>Ammodramus savannarum</td>\n",
       "      <td>Aves</td>\n",
       "      <td>212</td>\n",
       "      <td>99</td>\n",
       "      <td>Emberizidae</td>\n",
       "      <td>9608</td>\n",
       "      <td>Ammodramus</td>\n",
       "      <td>2491079</td>\n",
       "      <td>Animalia</td>\n",
       "      <td>1</td>\n",
       "      <td>...</td>\n",
       "      <td>729</td>\n",
       "      <td>Chordata</td>\n",
       "      <td>44</td>\n",
       "      <td>SPECIES</td>\n",
       "      <td>Ammodramus savannarum (J. F. Gmelin, 1789)</td>\n",
       "      <td>Ammodramus savannarum</td>\n",
       "      <td>2491123</td>\n",
       "      <td>ACCEPTED</td>\n",
       "      <td>False</td>\n",
       "      <td>2491123</td>\n",
       "    </tr>\n",
       "    <tr>\n",
       "      <th>1</th>\n",
       "      <td>Ammospermophilus harrisii</td>\n",
       "      <td>Mammalia</td>\n",
       "      <td>359</td>\n",
       "      <td>96</td>\n",
       "      <td>Sciuridae</td>\n",
       "      <td>9456</td>\n",
       "      <td>Ammospermophilus</td>\n",
       "      <td>2437567</td>\n",
       "      <td>Animalia</td>\n",
       "      <td>1</td>\n",
       "      <td>...</td>\n",
       "      <td>1459</td>\n",
       "      <td>Chordata</td>\n",
       "      <td>44</td>\n",
       "      <td>SPECIES</td>\n",
       "      <td>Ammospermophilus harrisii (Audubon &amp; Bachman, ...</td>\n",
       "      <td>Ammospermophilus harrisii</td>\n",
       "      <td>2437568</td>\n",
       "      <td>ACCEPTED</td>\n",
       "      <td>False</td>\n",
       "      <td>2437568</td>\n",
       "    </tr>\n",
       "    <tr>\n",
       "      <th>2</th>\n",
       "      <td>Amphispiza bilineata</td>\n",
       "      <td>Aves</td>\n",
       "      <td>212</td>\n",
       "      <td>99</td>\n",
       "      <td>Emberizidae</td>\n",
       "      <td>9608</td>\n",
       "      <td>Amphispiza</td>\n",
       "      <td>2491750</td>\n",
       "      <td>Animalia</td>\n",
       "      <td>1</td>\n",
       "      <td>...</td>\n",
       "      <td>729</td>\n",
       "      <td>Chordata</td>\n",
       "      <td>44</td>\n",
       "      <td>SPECIES</td>\n",
       "      <td>Amphispiza bilineata (Cassin, 1850)</td>\n",
       "      <td>Amphispiza bilineata</td>\n",
       "      <td>2491757</td>\n",
       "      <td>ACCEPTED</td>\n",
       "      <td>False</td>\n",
       "      <td>2491757</td>\n",
       "    </tr>\n",
       "    <tr>\n",
       "      <th>3</th>\n",
       "      <td>Baiomys taylori</td>\n",
       "      <td>Mammalia</td>\n",
       "      <td>359</td>\n",
       "      <td>99</td>\n",
       "      <td>Cricetidae</td>\n",
       "      <td>3240723</td>\n",
       "      <td>Baiomys</td>\n",
       "      <td>2438864</td>\n",
       "      <td>Animalia</td>\n",
       "      <td>1</td>\n",
       "      <td>...</td>\n",
       "      <td>1459</td>\n",
       "      <td>Chordata</td>\n",
       "      <td>44</td>\n",
       "      <td>SPECIES</td>\n",
       "      <td>Baiomys taylori (Thomas, 1887)</td>\n",
       "      <td>Baiomys taylori</td>\n",
       "      <td>2438866</td>\n",
       "      <td>ACCEPTED</td>\n",
       "      <td>False</td>\n",
       "      <td>2438866</td>\n",
       "    </tr>\n",
       "    <tr>\n",
       "      <th>4</th>\n",
       "      <td>Calamospiza melanocorys</td>\n",
       "      <td>Aves</td>\n",
       "      <td>212</td>\n",
       "      <td>99</td>\n",
       "      <td>Emberizidae</td>\n",
       "      <td>9608</td>\n",
       "      <td>Calamospiza</td>\n",
       "      <td>2491892</td>\n",
       "      <td>Animalia</td>\n",
       "      <td>1</td>\n",
       "      <td>...</td>\n",
       "      <td>729</td>\n",
       "      <td>Chordata</td>\n",
       "      <td>44</td>\n",
       "      <td>SPECIES</td>\n",
       "      <td>Calamospiza melanocorys Stejneger, 1885</td>\n",
       "      <td>Calamospiza melanocorys</td>\n",
       "      <td>2491893</td>\n",
       "      <td>ACCEPTED</td>\n",
       "      <td>False</td>\n",
       "      <td>2491893</td>\n",
       "    </tr>\n",
       "  </tbody>\n",
       "</table>\n",
       "<p>5 rows × 23 columns</p>\n",
       "</div>"
      ],
      "text/plain": [
       "               canonicalName     class classKey confidence       family  \\\n",
       "0      Ammodramus savannarum      Aves      212         99  Emberizidae   \n",
       "1  Ammospermophilus harrisii  Mammalia      359         96    Sciuridae   \n",
       "2       Amphispiza bilineata      Aves      212         99  Emberizidae   \n",
       "3            Baiomys taylori  Mammalia      359         99   Cricetidae   \n",
       "4    Calamospiza melanocorys      Aves      212         99  Emberizidae   \n",
       "\n",
       "  familyKey             genus genusKey   kingdom kingdomKey   ...    orderKey  \\\n",
       "0      9608        Ammodramus  2491079  Animalia          1   ...         729   \n",
       "1      9456  Ammospermophilus  2437567  Animalia          1   ...        1459   \n",
       "2      9608        Amphispiza  2491750  Animalia          1   ...         729   \n",
       "3   3240723           Baiomys  2438864  Animalia          1   ...        1459   \n",
       "4      9608       Calamospiza  2491892  Animalia          1   ...         729   \n",
       "\n",
       "     phylum phylumKey     rank  \\\n",
       "0  Chordata        44  SPECIES   \n",
       "1  Chordata        44  SPECIES   \n",
       "2  Chordata        44  SPECIES   \n",
       "3  Chordata        44  SPECIES   \n",
       "4  Chordata        44  SPECIES   \n",
       "\n",
       "                                      scientificName  \\\n",
       "0         Ammodramus savannarum (J. F. Gmelin, 1789)   \n",
       "1  Ammospermophilus harrisii (Audubon & Bachman, ...   \n",
       "2                Amphispiza bilineata (Cassin, 1850)   \n",
       "3                     Baiomys taylori (Thomas, 1887)   \n",
       "4            Calamospiza melanocorys Stejneger, 1885   \n",
       "\n",
       "                     species speciesKey    status synonym usageKey  \n",
       "0      Ammodramus savannarum    2491123  ACCEPTED   False  2491123  \n",
       "1  Ammospermophilus harrisii    2437568  ACCEPTED   False  2437568  \n",
       "2       Amphispiza bilineata    2491757  ACCEPTED   False  2491757  \n",
       "3            Baiomys taylori    2438866  ACCEPTED   False  2438866  \n",
       "4    Calamospiza melanocorys    2491893  ACCEPTED   False  2491893  \n",
       "\n",
       "[5 rows x 23 columns]"
      ]
     },
     "execution_count": 327,
     "metadata": {},
     "output_type": "execute_result"
    }
   ],
   "source": [
    "df_species_annotated.head()"
   ]
  },
  {
   "cell_type": "markdown",
   "metadata": {},
   "source": [
    "### Select relevant information and add this to the survey data"
   ]
  },
  {
   "cell_type": "markdown",
   "metadata": {},
   "source": [
    "<div class=\"alert alert-success\">\n",
    "    <b>EXERCISE</b>: Subselect the columns 'class', 'kingdom', 'order', 'phylum', 'scientificName', 'status' and  'usageKey' from the DataFrame `df_species_annotated`. Save it as the variable `df_species_annotated_subset`\n",
    "</div>"
   ]
  },
  {
   "cell_type": "code",
   "execution_count": 328,
   "metadata": {
    "collapsed": false,
    "run_control": {
     "frozen": false,
     "read_only": false
    }
   },
   "outputs": [],
   "source": [
    "df_species_annotated_subset = df_species_annotated[['class', 'kingdom', 'order', 'phylum', \n",
    "                                                    'scientificName', 'status', 'usageKey']]"
   ]
  },
  {
   "cell_type": "code",
   "execution_count": 329,
   "metadata": {
    "collapsed": false,
    "run_control": {
     "frozen": false,
     "read_only": false
    }
   },
   "outputs": [
    {
     "data": {
      "text/html": [
       "<div>\n",
       "<table border=\"1\" class=\"dataframe\">\n",
       "  <thead>\n",
       "    <tr style=\"text-align: right;\">\n",
       "      <th></th>\n",
       "      <th>class</th>\n",
       "      <th>kingdom</th>\n",
       "      <th>order</th>\n",
       "      <th>phylum</th>\n",
       "      <th>scientificName</th>\n",
       "      <th>status</th>\n",
       "      <th>usageKey</th>\n",
       "    </tr>\n",
       "  </thead>\n",
       "  <tbody>\n",
       "    <tr>\n",
       "      <th>0</th>\n",
       "      <td>Aves</td>\n",
       "      <td>Animalia</td>\n",
       "      <td>Passeriformes</td>\n",
       "      <td>Chordata</td>\n",
       "      <td>Ammodramus savannarum (J. F. Gmelin, 1789)</td>\n",
       "      <td>ACCEPTED</td>\n",
       "      <td>2491123</td>\n",
       "    </tr>\n",
       "    <tr>\n",
       "      <th>1</th>\n",
       "      <td>Mammalia</td>\n",
       "      <td>Animalia</td>\n",
       "      <td>Rodentia</td>\n",
       "      <td>Chordata</td>\n",
       "      <td>Ammospermophilus harrisii (Audubon &amp; Bachman, ...</td>\n",
       "      <td>ACCEPTED</td>\n",
       "      <td>2437568</td>\n",
       "    </tr>\n",
       "    <tr>\n",
       "      <th>2</th>\n",
       "      <td>Aves</td>\n",
       "      <td>Animalia</td>\n",
       "      <td>Passeriformes</td>\n",
       "      <td>Chordata</td>\n",
       "      <td>Amphispiza bilineata (Cassin, 1850)</td>\n",
       "      <td>ACCEPTED</td>\n",
       "      <td>2491757</td>\n",
       "    </tr>\n",
       "    <tr>\n",
       "      <th>3</th>\n",
       "      <td>Mammalia</td>\n",
       "      <td>Animalia</td>\n",
       "      <td>Rodentia</td>\n",
       "      <td>Chordata</td>\n",
       "      <td>Baiomys taylori (Thomas, 1887)</td>\n",
       "      <td>ACCEPTED</td>\n",
       "      <td>2438866</td>\n",
       "    </tr>\n",
       "    <tr>\n",
       "      <th>4</th>\n",
       "      <td>Aves</td>\n",
       "      <td>Animalia</td>\n",
       "      <td>Passeriformes</td>\n",
       "      <td>Chordata</td>\n",
       "      <td>Calamospiza melanocorys Stejneger, 1885</td>\n",
       "      <td>ACCEPTED</td>\n",
       "      <td>2491893</td>\n",
       "    </tr>\n",
       "  </tbody>\n",
       "</table>\n",
       "</div>"
      ],
      "text/plain": [
       "      class   kingdom          order    phylum  \\\n",
       "0      Aves  Animalia  Passeriformes  Chordata   \n",
       "1  Mammalia  Animalia       Rodentia  Chordata   \n",
       "2      Aves  Animalia  Passeriformes  Chordata   \n",
       "3  Mammalia  Animalia       Rodentia  Chordata   \n",
       "4      Aves  Animalia  Passeriformes  Chordata   \n",
       "\n",
       "                                      scientificName    status usageKey  \n",
       "0         Ammodramus savannarum (J. F. Gmelin, 1789)  ACCEPTED  2491123  \n",
       "1  Ammospermophilus harrisii (Audubon & Bachman, ...  ACCEPTED  2437568  \n",
       "2                Amphispiza bilineata (Cassin, 1850)  ACCEPTED  2491757  \n",
       "3                     Baiomys taylori (Thomas, 1887)  ACCEPTED  2438866  \n",
       "4            Calamospiza melanocorys Stejneger, 1885  ACCEPTED  2491893  "
      ]
     },
     "execution_count": 329,
     "metadata": {},
     "output_type": "execute_result"
    }
   ],
   "source": [
    "df_species_annotated_subset.head()"
   ]
  },
  {
   "cell_type": "markdown",
   "metadata": {},
   "source": [
    "<div class=\"alert alert-success\">\n",
    "    <b>EXERCISE</b>: Join the df_species_annotated_subset information to the `unique_species` overview of species. Save the result as variable 'unique_species_annotated':\n",
    "</div>"
   ]
  },
  {
   "cell_type": "code",
   "execution_count": 330,
   "metadata": {
    "collapsed": false,
    "run_control": {
     "frozen": false,
     "read_only": false
    }
   },
   "outputs": [],
   "source": [
    "unique_species_annotated = pd.merge(unique_species, df_species_annotated_subset, \n",
    "                                    left_index=True, right_index=True)"
   ]
  },
  {
   "cell_type": "markdown",
   "metadata": {},
   "source": [
    "<div class=\"alert alert-success\">\n",
    "    <b>EXERCISE</b>: Add the `unique_species_annotated` data to the `survey_data_species` data set, using both the genus and species column as keys. Save the result as the variable `survey_data_completed`.\n",
    "</div>"
   ]
  },
  {
   "cell_type": "code",
   "execution_count": 331,
   "metadata": {
    "collapsed": false,
    "run_control": {
     "frozen": false,
     "read_only": false
    }
   },
   "outputs": [],
   "source": [
    "survey_data_completed = pd.merge(survey_data_species, unique_species_annotated, \n",
    "                                 how='left', on= [\"genus\", \"species\"])"
   ]
  },
  {
   "cell_type": "code",
   "execution_count": 332,
   "metadata": {
    "collapsed": false,
    "run_control": {
     "frozen": false,
     "read_only": false
    }
   },
   "outputs": [
    {
     "data": {
      "text/plain": [
       "35550"
      ]
     },
     "execution_count": 332,
     "metadata": {},
     "output_type": "execute_result"
    }
   ],
   "source": [
    "len(survey_data_completed)"
   ]
  },
  {
   "cell_type": "code",
   "execution_count": 333,
   "metadata": {
    "collapsed": false,
    "run_control": {
     "frozen": false,
     "read_only": false
    }
   },
   "outputs": [
    {
     "data": {
      "text/html": [
       "<div>\n",
       "<table border=\"1\" class=\"dataframe\">\n",
       "  <thead>\n",
       "    <tr style=\"text-align: right;\">\n",
       "      <th></th>\n",
       "      <th>verbatimSex</th>\n",
       "      <th>datasetName</th>\n",
       "      <th>sex</th>\n",
       "      <th>occurrenceID</th>\n",
       "      <th>eventDate</th>\n",
       "      <th>measurementOrFact</th>\n",
       "      <th>decimalLongitude</th>\n",
       "      <th>decimalLatitude</th>\n",
       "      <th>verbatimLocality</th>\n",
       "      <th>genus</th>\n",
       "      <th>species</th>\n",
       "      <th>taxa</th>\n",
       "      <th>name</th>\n",
       "      <th>class</th>\n",
       "      <th>kingdom</th>\n",
       "      <th>order</th>\n",
       "      <th>phylum</th>\n",
       "      <th>scientificName</th>\n",
       "      <th>status</th>\n",
       "      <th>usageKey</th>\n",
       "    </tr>\n",
       "  </thead>\n",
       "  <tbody>\n",
       "    <tr>\n",
       "      <th>0</th>\n",
       "      <td>M</td>\n",
       "      <td>Ecological Archives E090-118-D1.</td>\n",
       "      <td>male</td>\n",
       "      <td>1</td>\n",
       "      <td>1977-07-16</td>\n",
       "      <td>NaN</td>\n",
       "      <td>-109.081975</td>\n",
       "      <td>31.938887</td>\n",
       "      <td>{\"plot\": 2}</td>\n",
       "      <td>NaN</td>\n",
       "      <td>NaN</td>\n",
       "      <td>NaN</td>\n",
       "      <td>NaN</td>\n",
       "      <td>NaN</td>\n",
       "      <td>NaN</td>\n",
       "      <td>NaN</td>\n",
       "      <td>NaN</td>\n",
       "      <td>NaN</td>\n",
       "      <td>NaN</td>\n",
       "      <td>NaN</td>\n",
       "    </tr>\n",
       "    <tr>\n",
       "      <th>1</th>\n",
       "      <td>M</td>\n",
       "      <td>Ecological Archives E090-118-D1.</td>\n",
       "      <td>male</td>\n",
       "      <td>2</td>\n",
       "      <td>1977-07-16</td>\n",
       "      <td>NaN</td>\n",
       "      <td>-109.081208</td>\n",
       "      <td>31.938896</td>\n",
       "      <td>{\"plot\": 3}</td>\n",
       "      <td>NaN</td>\n",
       "      <td>NaN</td>\n",
       "      <td>NaN</td>\n",
       "      <td>NaN</td>\n",
       "      <td>NaN</td>\n",
       "      <td>NaN</td>\n",
       "      <td>NaN</td>\n",
       "      <td>NaN</td>\n",
       "      <td>NaN</td>\n",
       "      <td>NaN</td>\n",
       "      <td>NaN</td>\n",
       "    </tr>\n",
       "    <tr>\n",
       "      <th>2</th>\n",
       "      <td>F</td>\n",
       "      <td>Ecological Archives E090-118-D1.</td>\n",
       "      <td>female</td>\n",
       "      <td>3</td>\n",
       "      <td>1977-07-16</td>\n",
       "      <td>NaN</td>\n",
       "      <td>-109.081975</td>\n",
       "      <td>31.938887</td>\n",
       "      <td>{\"plot\": 2}</td>\n",
       "      <td>Dipodomys</td>\n",
       "      <td>merriami</td>\n",
       "      <td>Rodent</td>\n",
       "      <td>Dipodomys merriami</td>\n",
       "      <td>Mammalia</td>\n",
       "      <td>Animalia</td>\n",
       "      <td>Rodentia</td>\n",
       "      <td>Chordata</td>\n",
       "      <td>Dipodomys merriami Mearns, 1890</td>\n",
       "      <td>ACCEPTED</td>\n",
       "      <td>2439521</td>\n",
       "    </tr>\n",
       "    <tr>\n",
       "      <th>3</th>\n",
       "      <td>M</td>\n",
       "      <td>Ecological Archives E090-118-D1.</td>\n",
       "      <td>male</td>\n",
       "      <td>4</td>\n",
       "      <td>1977-07-16</td>\n",
       "      <td>NaN</td>\n",
       "      <td>-109.082816</td>\n",
       "      <td>31.938113</td>\n",
       "      <td>{\"plot\": 7}</td>\n",
       "      <td>Dipodomys</td>\n",
       "      <td>merriami</td>\n",
       "      <td>Rodent</td>\n",
       "      <td>Dipodomys merriami</td>\n",
       "      <td>Mammalia</td>\n",
       "      <td>Animalia</td>\n",
       "      <td>Rodentia</td>\n",
       "      <td>Chordata</td>\n",
       "      <td>Dipodomys merriami Mearns, 1890</td>\n",
       "      <td>ACCEPTED</td>\n",
       "      <td>2439521</td>\n",
       "    </tr>\n",
       "    <tr>\n",
       "      <th>4</th>\n",
       "      <td>M</td>\n",
       "      <td>Ecological Archives E090-118-D1.</td>\n",
       "      <td>male</td>\n",
       "      <td>5</td>\n",
       "      <td>1977-07-16</td>\n",
       "      <td>NaN</td>\n",
       "      <td>-109.081208</td>\n",
       "      <td>31.938896</td>\n",
       "      <td>{\"plot\": 3}</td>\n",
       "      <td>Dipodomys</td>\n",
       "      <td>merriami</td>\n",
       "      <td>Rodent</td>\n",
       "      <td>Dipodomys merriami</td>\n",
       "      <td>Mammalia</td>\n",
       "      <td>Animalia</td>\n",
       "      <td>Rodentia</td>\n",
       "      <td>Chordata</td>\n",
       "      <td>Dipodomys merriami Mearns, 1890</td>\n",
       "      <td>ACCEPTED</td>\n",
       "      <td>2439521</td>\n",
       "    </tr>\n",
       "  </tbody>\n",
       "</table>\n",
       "</div>"
      ],
      "text/plain": [
       "  verbatimSex                       datasetName     sex  occurrenceID  \\\n",
       "0           M  Ecological Archives E090-118-D1.    male             1   \n",
       "1           M  Ecological Archives E090-118-D1.    male             2   \n",
       "2           F  Ecological Archives E090-118-D1.  female             3   \n",
       "3           M  Ecological Archives E090-118-D1.    male             4   \n",
       "4           M  Ecological Archives E090-118-D1.    male             5   \n",
       "\n",
       "    eventDate measurementOrFact  decimalLongitude  decimalLatitude  \\\n",
       "0  1977-07-16               NaN       -109.081975        31.938887   \n",
       "1  1977-07-16               NaN       -109.081208        31.938896   \n",
       "2  1977-07-16               NaN       -109.081975        31.938887   \n",
       "3  1977-07-16               NaN       -109.082816        31.938113   \n",
       "4  1977-07-16               NaN       -109.081208        31.938896   \n",
       "\n",
       "  verbatimLocality      genus   species    taxa                name     class  \\\n",
       "0      {\"plot\": 2}        NaN       NaN     NaN                 NaN       NaN   \n",
       "1      {\"plot\": 3}        NaN       NaN     NaN                 NaN       NaN   \n",
       "2      {\"plot\": 2}  Dipodomys  merriami  Rodent  Dipodomys merriami  Mammalia   \n",
       "3      {\"plot\": 7}  Dipodomys  merriami  Rodent  Dipodomys merriami  Mammalia   \n",
       "4      {\"plot\": 3}  Dipodomys  merriami  Rodent  Dipodomys merriami  Mammalia   \n",
       "\n",
       "    kingdom     order    phylum                   scientificName    status  \\\n",
       "0       NaN       NaN       NaN                              NaN       NaN   \n",
       "1       NaN       NaN       NaN                              NaN       NaN   \n",
       "2  Animalia  Rodentia  Chordata  Dipodomys merriami Mearns, 1890  ACCEPTED   \n",
       "3  Animalia  Rodentia  Chordata  Dipodomys merriami Mearns, 1890  ACCEPTED   \n",
       "4  Animalia  Rodentia  Chordata  Dipodomys merriami Mearns, 1890  ACCEPTED   \n",
       "\n",
       "  usageKey  \n",
       "0      NaN  \n",
       "1      NaN  \n",
       "2  2439521  \n",
       "3  2439521  \n",
       "4  2439521  "
      ]
     },
     "execution_count": 333,
     "metadata": {},
     "output_type": "execute_result"
    }
   ],
   "source": [
    "survey_data_completed.head()"
   ]
  },
  {
   "cell_type": "code",
   "execution_count": 334,
   "metadata": {
    "collapsed": true
   },
   "outputs": [],
   "source": [
    "survey_data_completed.to_csv(\"../data/survey_data_completed.csv\", index=False)"
   ]
  },
  {
   "cell_type": "markdown",
   "metadata": {
    "collapsed": true,
    "run_control": {
     "frozen": false,
     "read_only": false
    }
   },
   "source": [
    "## Acknowledgements"
   ]
  },
  {
   "cell_type": "markdown",
   "metadata": {},
   "source": [
    "* `species.csv` and `survey.csv` are used from the [data carpentry workshop](https://github.com/datacarpentry/python-ecology-lesson) This data is from the paper S. K. Morgan Ernest, Thomas J. Valone, and James H.\n",
    "Brown. 2009. Long-term monitoring and experimental manipulation of a Chihuahuan Desert ecosystem near Portal, Arizona, USA. Ecology 90:1708. http://esapubs.org/archive/ecol/E090/118/\n",
    "* The `plot_location.xlsx` is a dummy created location file purely created for this exercise, using the plots location on google maps"
   ]
  },
  {
   "cell_type": "code",
   "execution_count": null,
   "metadata": {
    "collapsed": true
   },
   "outputs": [],
   "source": []
  }
 ],
 "metadata": {
  "kernelspec": {
   "display_name": "Python 3",
   "language": "python",
   "name": "python3"
  },
  "language_info": {
   "codemirror_mode": {
    "name": "ipython",
    "version": 3
   },
   "file_extension": ".py",
   "mimetype": "text/x-python",
   "name": "python",
   "nbconvert_exporter": "python",
   "pygments_lexer": "ipython3",
   "version": "3.5.2"
  },
  "nav_menu": {},
  "toc": {
   "navigate_menu": true,
   "number_sections": true,
   "sideBar": true,
   "threshold": 6,
   "toc_cell": false,
   "toc_section_display": "block",
   "toc_window_display": true
  },
  "toc_position": {
   "height": "811px",
   "left": "0px",
   "right": "1864.67px",
   "top": "106px",
   "width": "212px"
  }
 },
 "nbformat": 4,
 "nbformat_minor": 0
}
