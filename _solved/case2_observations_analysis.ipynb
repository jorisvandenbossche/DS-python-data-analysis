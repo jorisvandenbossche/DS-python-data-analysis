{
 "cells": [
  {
   "cell_type": "markdown",
   "metadata": {},
   "source": [
    "<p><font size=\"6\"><b> CASE - Observation data - analysis</b></font></p>\n",
    "\n",
    "> *© 2021, Joris Van den Bossche and Stijn Van Hoey  (<mailto:jorisvandenbossche@gmail.com>, <mailto:stijnvanhoey@gmail.com>). Licensed under [CC BY 4.0 Creative Commons](http://creativecommons.org/licenses/by/4.0/)*\n",
    "\n",
    "---"
   ]
  },
  {
   "cell_type": "code",
   "execution_count": 1,
   "metadata": {},
   "outputs": [],
   "source": [
    "import numpy as np\n",
    "import pandas as pd\n",
    "import matplotlib.pyplot as plt\n",
    "import seaborn as sns\n",
    "\n",
    "plt.style.use('seaborn-whitegrid')"
   ]
  },
  {
   "cell_type": "markdown",
   "metadata": {},
   "source": [
    "## 1. Reading in the enriched observations data"
   ]
  },
  {
   "cell_type": "markdown",
   "metadata": {},
   "source": [
    "<div class=\"alert alert-success\">\n",
    "\n",
    "**EXERCISE**\n",
    "\n",
    "- Read in the `survey_data_completed.csv` file and save the resulting `DataFrame` as variable `survey_data_processed` (if you did not complete the previous notebook, a version of the csv file is available in the `data` folder).\n",
    "- Interpret the 'eventDate' column directly as python `datetime` objects and make sure the 'occurrenceID' column is used as the index of the resulting DataFrame (both can be done at once when reading the csv file using parameters of the `read_csv` function)\n",
    "- Inspect the first five rows of the DataFrame and the data types of each of the data columns. Verify that the 'eventDate' indeed has a datetime data type.\n",
    "\n",
    "<details><summary>Hints</summary>\n",
    "\n",
    "- All read functions in Pandas start with `pd.read_...`.\n",
    "- To check the documentation of a function, use the keystroke combination of SHIFT + TAB when the cursor is on the function.\n",
    "- Remember `.head()` and `.info()`?\n",
    "\n",
    "</details>\n",
    "\n",
    "</div>"
   ]
  },
  {
   "cell_type": "code",
   "execution_count": 2,
   "metadata": {
    "tags": [
     "nbtutor-solution"
    ]
   },
   "outputs": [],
   "source": [
    "survey_data_processed = pd.read_csv(\"data/survey_data_completed.csv\",\n",
    "                                    parse_dates=['eventDate'], index_col=\"occurrenceID\")"
   ]
  },
  {
   "cell_type": "code",
   "execution_count": 3,
   "metadata": {
    "tags": [
     "nbtutor-solution"
    ]
   },
   "outputs": [
    {
     "data": {
      "text/html": [
       "<div>\n",
       "<style scoped>\n",
       "    .dataframe tbody tr th:only-of-type {\n",
       "        vertical-align: middle;\n",
       "    }\n",
       "\n",
       "    .dataframe tbody tr th {\n",
       "        vertical-align: top;\n",
       "    }\n",
       "\n",
       "    .dataframe thead th {\n",
       "        text-align: right;\n",
       "    }\n",
       "</style>\n",
       "<table border=\"1\" class=\"dataframe\">\n",
       "  <thead>\n",
       "    <tr style=\"text-align: right;\">\n",
       "      <th></th>\n",
       "      <th>verbatimLocality</th>\n",
       "      <th>verbatimSex</th>\n",
       "      <th>wgt</th>\n",
       "      <th>datasetName</th>\n",
       "      <th>sex</th>\n",
       "      <th>eventDate</th>\n",
       "      <th>decimalLongitude</th>\n",
       "      <th>decimalLatitude</th>\n",
       "      <th>genus</th>\n",
       "      <th>species</th>\n",
       "      <th>taxa</th>\n",
       "      <th>name</th>\n",
       "      <th>class</th>\n",
       "      <th>kingdom</th>\n",
       "      <th>order</th>\n",
       "      <th>phylum</th>\n",
       "      <th>scientificName</th>\n",
       "      <th>status</th>\n",
       "      <th>usageKey</th>\n",
       "    </tr>\n",
       "    <tr>\n",
       "      <th>occurrenceID</th>\n",
       "      <th></th>\n",
       "      <th></th>\n",
       "      <th></th>\n",
       "      <th></th>\n",
       "      <th></th>\n",
       "      <th></th>\n",
       "      <th></th>\n",
       "      <th></th>\n",
       "      <th></th>\n",
       "      <th></th>\n",
       "      <th></th>\n",
       "      <th></th>\n",
       "      <th></th>\n",
       "      <th></th>\n",
       "      <th></th>\n",
       "      <th></th>\n",
       "      <th></th>\n",
       "      <th></th>\n",
       "      <th></th>\n",
       "    </tr>\n",
       "  </thead>\n",
       "  <tbody>\n",
       "    <tr>\n",
       "      <th>1</th>\n",
       "      <td>2</td>\n",
       "      <td>M</td>\n",
       "      <td>NaN</td>\n",
       "      <td>Ecological Archives E090-118-D1.</td>\n",
       "      <td>male</td>\n",
       "      <td>1977-07-16</td>\n",
       "      <td>-109.081975</td>\n",
       "      <td>31.938887</td>\n",
       "      <td>NaN</td>\n",
       "      <td>NaN</td>\n",
       "      <td>NaN</td>\n",
       "      <td>NaN</td>\n",
       "      <td>NaN</td>\n",
       "      <td>NaN</td>\n",
       "      <td>NaN</td>\n",
       "      <td>NaN</td>\n",
       "      <td>NaN</td>\n",
       "      <td>NaN</td>\n",
       "      <td>NaN</td>\n",
       "    </tr>\n",
       "    <tr>\n",
       "      <th>2</th>\n",
       "      <td>3</td>\n",
       "      <td>M</td>\n",
       "      <td>NaN</td>\n",
       "      <td>Ecological Archives E090-118-D1.</td>\n",
       "      <td>male</td>\n",
       "      <td>1977-07-16</td>\n",
       "      <td>-109.081208</td>\n",
       "      <td>31.938896</td>\n",
       "      <td>NaN</td>\n",
       "      <td>NaN</td>\n",
       "      <td>NaN</td>\n",
       "      <td>NaN</td>\n",
       "      <td>NaN</td>\n",
       "      <td>NaN</td>\n",
       "      <td>NaN</td>\n",
       "      <td>NaN</td>\n",
       "      <td>NaN</td>\n",
       "      <td>NaN</td>\n",
       "      <td>NaN</td>\n",
       "    </tr>\n",
       "    <tr>\n",
       "      <th>3</th>\n",
       "      <td>2</td>\n",
       "      <td>F</td>\n",
       "      <td>NaN</td>\n",
       "      <td>Ecological Archives E090-118-D1.</td>\n",
       "      <td>female</td>\n",
       "      <td>1977-07-16</td>\n",
       "      <td>-109.081975</td>\n",
       "      <td>31.938887</td>\n",
       "      <td>Dipodomys</td>\n",
       "      <td>merriami</td>\n",
       "      <td>Rodent</td>\n",
       "      <td>Dipodomys merriami</td>\n",
       "      <td>Mammalia</td>\n",
       "      <td>Animalia</td>\n",
       "      <td>Rodentia</td>\n",
       "      <td>Chordata</td>\n",
       "      <td>Dipodomys merriami Mearns, 1890</td>\n",
       "      <td>ACCEPTED</td>\n",
       "      <td>2439521.0</td>\n",
       "    </tr>\n",
       "    <tr>\n",
       "      <th>4</th>\n",
       "      <td>7</td>\n",
       "      <td>M</td>\n",
       "      <td>NaN</td>\n",
       "      <td>Ecological Archives E090-118-D1.</td>\n",
       "      <td>male</td>\n",
       "      <td>1977-07-16</td>\n",
       "      <td>-109.082816</td>\n",
       "      <td>31.938113</td>\n",
       "      <td>Dipodomys</td>\n",
       "      <td>merriami</td>\n",
       "      <td>Rodent</td>\n",
       "      <td>Dipodomys merriami</td>\n",
       "      <td>Mammalia</td>\n",
       "      <td>Animalia</td>\n",
       "      <td>Rodentia</td>\n",
       "      <td>Chordata</td>\n",
       "      <td>Dipodomys merriami Mearns, 1890</td>\n",
       "      <td>ACCEPTED</td>\n",
       "      <td>2439521.0</td>\n",
       "    </tr>\n",
       "    <tr>\n",
       "      <th>5</th>\n",
       "      <td>3</td>\n",
       "      <td>M</td>\n",
       "      <td>NaN</td>\n",
       "      <td>Ecological Archives E090-118-D1.</td>\n",
       "      <td>male</td>\n",
       "      <td>1977-07-16</td>\n",
       "      <td>-109.081208</td>\n",
       "      <td>31.938896</td>\n",
       "      <td>Dipodomys</td>\n",
       "      <td>merriami</td>\n",
       "      <td>Rodent</td>\n",
       "      <td>Dipodomys merriami</td>\n",
       "      <td>Mammalia</td>\n",
       "      <td>Animalia</td>\n",
       "      <td>Rodentia</td>\n",
       "      <td>Chordata</td>\n",
       "      <td>Dipodomys merriami Mearns, 1890</td>\n",
       "      <td>ACCEPTED</td>\n",
       "      <td>2439521.0</td>\n",
       "    </tr>\n",
       "  </tbody>\n",
       "</table>\n",
       "</div>"
      ],
      "text/plain": [
       "              verbatimLocality verbatimSex  wgt  \\\n",
       "occurrenceID                                      \n",
       "1                            2           M  NaN   \n",
       "2                            3           M  NaN   \n",
       "3                            2           F  NaN   \n",
       "4                            7           M  NaN   \n",
       "5                            3           M  NaN   \n",
       "\n",
       "                                   datasetName     sex  eventDate  \\\n",
       "occurrenceID                                                        \n",
       "1             Ecological Archives E090-118-D1.    male 1977-07-16   \n",
       "2             Ecological Archives E090-118-D1.    male 1977-07-16   \n",
       "3             Ecological Archives E090-118-D1.  female 1977-07-16   \n",
       "4             Ecological Archives E090-118-D1.    male 1977-07-16   \n",
       "5             Ecological Archives E090-118-D1.    male 1977-07-16   \n",
       "\n",
       "              decimalLongitude  decimalLatitude      genus   species    taxa  \\\n",
       "occurrenceID                                                                   \n",
       "1                  -109.081975        31.938887        NaN       NaN     NaN   \n",
       "2                  -109.081208        31.938896        NaN       NaN     NaN   \n",
       "3                  -109.081975        31.938887  Dipodomys  merriami  Rodent   \n",
       "4                  -109.082816        31.938113  Dipodomys  merriami  Rodent   \n",
       "5                  -109.081208        31.938896  Dipodomys  merriami  Rodent   \n",
       "\n",
       "                            name     class   kingdom     order    phylum  \\\n",
       "occurrenceID                                                               \n",
       "1                            NaN       NaN       NaN       NaN       NaN   \n",
       "2                            NaN       NaN       NaN       NaN       NaN   \n",
       "3             Dipodomys merriami  Mammalia  Animalia  Rodentia  Chordata   \n",
       "4             Dipodomys merriami  Mammalia  Animalia  Rodentia  Chordata   \n",
       "5             Dipodomys merriami  Mammalia  Animalia  Rodentia  Chordata   \n",
       "\n",
       "                               scientificName    status   usageKey  \n",
       "occurrenceID                                                        \n",
       "1                                         NaN       NaN        NaN  \n",
       "2                                         NaN       NaN        NaN  \n",
       "3             Dipodomys merriami Mearns, 1890  ACCEPTED  2439521.0  \n",
       "4             Dipodomys merriami Mearns, 1890  ACCEPTED  2439521.0  \n",
       "5             Dipodomys merriami Mearns, 1890  ACCEPTED  2439521.0  "
      ]
     },
     "execution_count": 3,
     "metadata": {},
     "output_type": "execute_result"
    }
   ],
   "source": [
    "survey_data_processed.head()"
   ]
  },
  {
   "cell_type": "code",
   "execution_count": 4,
   "metadata": {
    "tags": [
     "nbtutor-solution"
    ]
   },
   "outputs": [
    {
     "name": "stdout",
     "output_type": "stream",
     "text": [
      "<class 'pandas.core.frame.DataFrame'>\n",
      "Int64Index: 35550 entries, 1 to 35550\n",
      "Data columns (total 19 columns):\n",
      " #   Column            Non-Null Count  Dtype         \n",
      "---  ------            --------------  -----         \n",
      " 0   verbatimLocality  35550 non-null  int64         \n",
      " 1   verbatimSex       33042 non-null  object        \n",
      " 2   wgt               32283 non-null  float64       \n",
      " 3   datasetName       35550 non-null  object        \n",
      " 4   sex               33041 non-null  object        \n",
      " 5   eventDate         35550 non-null  datetime64[ns]\n",
      " 6   decimalLongitude  35550 non-null  float64       \n",
      " 7   decimalLatitude   35550 non-null  float64       \n",
      " 8   genus             33535 non-null  object        \n",
      " 9   species           33535 non-null  object        \n",
      " 10  taxa              33535 non-null  object        \n",
      " 11  name              33535 non-null  object        \n",
      " 12  class             33448 non-null  object        \n",
      " 13  kingdom           33448 non-null  object        \n",
      " 14  order             33448 non-null  object        \n",
      " 15  phylum            33448 non-null  object        \n",
      " 16  scientificName    33448 non-null  object        \n",
      " 17  status            33448 non-null  object        \n",
      " 18  usageKey          33448 non-null  float64       \n",
      "dtypes: datetime64[ns](1), float64(4), int64(1), object(13)\n",
      "memory usage: 5.4+ MB\n"
     ]
    }
   ],
   "source": [
    "survey_data_processed.info()"
   ]
  },
  {
   "cell_type": "markdown",
   "metadata": {},
   "source": [
    "## 2. Tackle missing values (NaN) and duplicate values"
   ]
  },
  {
   "cell_type": "markdown",
   "metadata": {},
   "source": [
    "See [pandas_08_missing_values.ipynb](pandas_08_missing_values.ipynb) for an overview of functionality to work with missing values."
   ]
  },
  {
   "cell_type": "markdown",
   "metadata": {},
   "source": [
    "<div class=\"alert alert-success\">\n",
    "\n",
    "**EXERCISE**\n",
    "\n",
    "How many records in the data set have no information about the `species`? Use the `isna()` method to find out.\n",
    "\n",
    "<details><summary>Hints</summary>\n",
    "\n",
    "- Do NOT use `survey_data_processed['species'] == np.nan`, but use the available method `isna()` to check if a value is NaN\n",
    "- The result of an (element-wise) condition returns a set of True/False values, corresponding to 1/0 values. The amount of True values is equal to the sum.\n",
    "\n",
    "</details>"
   ]
  },
  {
   "cell_type": "code",
   "execution_count": 5,
   "metadata": {
    "tags": [
     "nbtutor-solution"
    ]
   },
   "outputs": [
    {
     "data": {
      "text/plain": [
       "2015"
      ]
     },
     "execution_count": 5,
     "metadata": {},
     "output_type": "execute_result"
    }
   ],
   "source": [
    "survey_data_processed['species'].isna().sum()"
   ]
  },
  {
   "cell_type": "markdown",
   "metadata": {},
   "source": [
    "<div class=\"alert alert-success\">\n",
    "\n",
    "**EXERCISE**\n",
    "\n",
    "How many duplicate records are present in the dataset? Use the method `duplicated()` to check if a row is a duplicate.\n",
    "\n",
    "<details><summary>Hints</summary>\n",
    "\n",
    "- The result of an (element-wise) condition returns a set of True/False values, corresponding to 1/0 values. The amount of True values is equal to the sum.\n",
    "\n",
    "</details>"
   ]
  },
  {
   "cell_type": "code",
   "execution_count": 6,
   "metadata": {
    "tags": [
     "nbtutor-solution"
    ]
   },
   "outputs": [
    {
     "data": {
      "text/plain": [
       "1577"
      ]
     },
     "execution_count": 6,
     "metadata": {},
     "output_type": "execute_result"
    }
   ],
   "source": [
    "survey_data_processed.duplicated().sum()"
   ]
  },
  {
   "cell_type": "markdown",
   "metadata": {},
   "source": [
    "<div class=\"alert alert-success\">\n",
    "\n",
    "**EXERCISE**\n",
    "\n",
    "- Select all duplicate data by filtering the `observations` data and assign the result to a new variable `duplicate_observations`. The `duplicated()` method provides a `keep` argument define which duplicates (if any) to mark.\n",
    "- Sort the `duplicate_observations` data on both the columns `eventDate` and `verbatimLocality` and show the first 9 records.\n",
    "\n",
    "<details><summary>Hints</summary>\n",
    "\n",
    "- Check the documentation of the `duplicated` method to find out which value the argument `keep` requires to select all duplicate data.\n",
    "- `sort_values()` can work with a single columns name as well as a list of names.\n",
    "\n",
    "</details>"
   ]
  },
  {
   "cell_type": "code",
   "execution_count": 7,
   "metadata": {
    "tags": [
     "nbtutor-solution"
    ]
   },
   "outputs": [
    {
     "data": {
      "text/html": [
       "<div>\n",
       "<style scoped>\n",
       "    .dataframe tbody tr th:only-of-type {\n",
       "        vertical-align: middle;\n",
       "    }\n",
       "\n",
       "    .dataframe tbody tr th {\n",
       "        vertical-align: top;\n",
       "    }\n",
       "\n",
       "    .dataframe thead th {\n",
       "        text-align: right;\n",
       "    }\n",
       "</style>\n",
       "<table border=\"1\" class=\"dataframe\">\n",
       "  <thead>\n",
       "    <tr style=\"text-align: right;\">\n",
       "      <th></th>\n",
       "      <th>verbatimLocality</th>\n",
       "      <th>verbatimSex</th>\n",
       "      <th>wgt</th>\n",
       "      <th>datasetName</th>\n",
       "      <th>sex</th>\n",
       "      <th>eventDate</th>\n",
       "      <th>decimalLongitude</th>\n",
       "      <th>decimalLatitude</th>\n",
       "      <th>genus</th>\n",
       "      <th>species</th>\n",
       "      <th>taxa</th>\n",
       "      <th>name</th>\n",
       "      <th>class</th>\n",
       "      <th>kingdom</th>\n",
       "      <th>order</th>\n",
       "      <th>phylum</th>\n",
       "      <th>scientificName</th>\n",
       "      <th>status</th>\n",
       "      <th>usageKey</th>\n",
       "    </tr>\n",
       "    <tr>\n",
       "      <th>occurrenceID</th>\n",
       "      <th></th>\n",
       "      <th></th>\n",
       "      <th></th>\n",
       "      <th></th>\n",
       "      <th></th>\n",
       "      <th></th>\n",
       "      <th></th>\n",
       "      <th></th>\n",
       "      <th></th>\n",
       "      <th></th>\n",
       "      <th></th>\n",
       "      <th></th>\n",
       "      <th></th>\n",
       "      <th></th>\n",
       "      <th></th>\n",
       "      <th></th>\n",
       "      <th></th>\n",
       "      <th></th>\n",
       "      <th></th>\n",
       "    </tr>\n",
       "  </thead>\n",
       "  <tbody>\n",
       "    <tr>\n",
       "      <th>5</th>\n",
       "      <td>3</td>\n",
       "      <td>M</td>\n",
       "      <td>NaN</td>\n",
       "      <td>Ecological Archives E090-118-D1.</td>\n",
       "      <td>male</td>\n",
       "      <td>1977-07-16</td>\n",
       "      <td>-109.081208</td>\n",
       "      <td>31.938896</td>\n",
       "      <td>Dipodomys</td>\n",
       "      <td>merriami</td>\n",
       "      <td>Rodent</td>\n",
       "      <td>Dipodomys merriami</td>\n",
       "      <td>Mammalia</td>\n",
       "      <td>Animalia</td>\n",
       "      <td>Rodentia</td>\n",
       "      <td>Chordata</td>\n",
       "      <td>Dipodomys merriami Mearns, 1890</td>\n",
       "      <td>ACCEPTED</td>\n",
       "      <td>2439521.0</td>\n",
       "    </tr>\n",
       "    <tr>\n",
       "      <th>14</th>\n",
       "      <td>3</td>\n",
       "      <td>M</td>\n",
       "      <td>NaN</td>\n",
       "      <td>Ecological Archives E090-118-D1.</td>\n",
       "      <td>male</td>\n",
       "      <td>1977-07-16</td>\n",
       "      <td>-109.081208</td>\n",
       "      <td>31.938896</td>\n",
       "      <td>Dipodomys</td>\n",
       "      <td>merriami</td>\n",
       "      <td>Rodent</td>\n",
       "      <td>Dipodomys merriami</td>\n",
       "      <td>Mammalia</td>\n",
       "      <td>Animalia</td>\n",
       "      <td>Rodentia</td>\n",
       "      <td>Chordata</td>\n",
       "      <td>Dipodomys merriami Mearns, 1890</td>\n",
       "      <td>ACCEPTED</td>\n",
       "      <td>2439521.0</td>\n",
       "    </tr>\n",
       "    <tr>\n",
       "      <th>4</th>\n",
       "      <td>7</td>\n",
       "      <td>M</td>\n",
       "      <td>NaN</td>\n",
       "      <td>Ecological Archives E090-118-D1.</td>\n",
       "      <td>male</td>\n",
       "      <td>1977-07-16</td>\n",
       "      <td>-109.082816</td>\n",
       "      <td>31.938113</td>\n",
       "      <td>Dipodomys</td>\n",
       "      <td>merriami</td>\n",
       "      <td>Rodent</td>\n",
       "      <td>Dipodomys merriami</td>\n",
       "      <td>Mammalia</td>\n",
       "      <td>Animalia</td>\n",
       "      <td>Rodentia</td>\n",
       "      <td>Chordata</td>\n",
       "      <td>Dipodomys merriami Mearns, 1890</td>\n",
       "      <td>ACCEPTED</td>\n",
       "      <td>2439521.0</td>\n",
       "    </tr>\n",
       "    <tr>\n",
       "      <th>13</th>\n",
       "      <td>7</td>\n",
       "      <td>M</td>\n",
       "      <td>NaN</td>\n",
       "      <td>Ecological Archives E090-118-D1.</td>\n",
       "      <td>male</td>\n",
       "      <td>1977-07-16</td>\n",
       "      <td>-109.082816</td>\n",
       "      <td>31.938113</td>\n",
       "      <td>Dipodomys</td>\n",
       "      <td>merriami</td>\n",
       "      <td>Rodent</td>\n",
       "      <td>Dipodomys merriami</td>\n",
       "      <td>Mammalia</td>\n",
       "      <td>Animalia</td>\n",
       "      <td>Rodentia</td>\n",
       "      <td>Chordata</td>\n",
       "      <td>Dipodomys merriami Mearns, 1890</td>\n",
       "      <td>ACCEPTED</td>\n",
       "      <td>2439521.0</td>\n",
       "    </tr>\n",
       "    <tr>\n",
       "      <th>34</th>\n",
       "      <td>11</td>\n",
       "      <td>F</td>\n",
       "      <td>NaN</td>\n",
       "      <td>Ecological Archives E090-118-D1.</td>\n",
       "      <td>female</td>\n",
       "      <td>1977-07-17</td>\n",
       "      <td>-109.079307</td>\n",
       "      <td>31.938056</td>\n",
       "      <td>Dipodomys</td>\n",
       "      <td>merriami</td>\n",
       "      <td>Rodent</td>\n",
       "      <td>Dipodomys merriami</td>\n",
       "      <td>Mammalia</td>\n",
       "      <td>Animalia</td>\n",
       "      <td>Rodentia</td>\n",
       "      <td>Chordata</td>\n",
       "      <td>Dipodomys merriami Mearns, 1890</td>\n",
       "      <td>ACCEPTED</td>\n",
       "      <td>2439521.0</td>\n",
       "    </tr>\n",
       "    <tr>\n",
       "      <th>38</th>\n",
       "      <td>11</td>\n",
       "      <td>F</td>\n",
       "      <td>NaN</td>\n",
       "      <td>Ecological Archives E090-118-D1.</td>\n",
       "      <td>female</td>\n",
       "      <td>1977-07-17</td>\n",
       "      <td>-109.079307</td>\n",
       "      <td>31.938056</td>\n",
       "      <td>Dipodomys</td>\n",
       "      <td>merriami</td>\n",
       "      <td>Rodent</td>\n",
       "      <td>Dipodomys merriami</td>\n",
       "      <td>Mammalia</td>\n",
       "      <td>Animalia</td>\n",
       "      <td>Rodentia</td>\n",
       "      <td>Chordata</td>\n",
       "      <td>Dipodomys merriami Mearns, 1890</td>\n",
       "      <td>ACCEPTED</td>\n",
       "      <td>2439521.0</td>\n",
       "    </tr>\n",
       "    <tr>\n",
       "      <th>40</th>\n",
       "      <td>11</td>\n",
       "      <td>F</td>\n",
       "      <td>NaN</td>\n",
       "      <td>Ecological Archives E090-118-D1.</td>\n",
       "      <td>female</td>\n",
       "      <td>1977-07-17</td>\n",
       "      <td>-109.079307</td>\n",
       "      <td>31.938056</td>\n",
       "      <td>Dipodomys</td>\n",
       "      <td>merriami</td>\n",
       "      <td>Rodent</td>\n",
       "      <td>Dipodomys merriami</td>\n",
       "      <td>Mammalia</td>\n",
       "      <td>Animalia</td>\n",
       "      <td>Rodentia</td>\n",
       "      <td>Chordata</td>\n",
       "      <td>Dipodomys merriami Mearns, 1890</td>\n",
       "      <td>ACCEPTED</td>\n",
       "      <td>2439521.0</td>\n",
       "    </tr>\n",
       "    <tr>\n",
       "      <th>27</th>\n",
       "      <td>15</td>\n",
       "      <td>M</td>\n",
       "      <td>NaN</td>\n",
       "      <td>Ecological Archives E090-118-D1.</td>\n",
       "      <td>male</td>\n",
       "      <td>1977-07-17</td>\n",
       "      <td>-109.081036</td>\n",
       "      <td>31.937059</td>\n",
       "      <td>Dipodomys</td>\n",
       "      <td>merriami</td>\n",
       "      <td>Rodent</td>\n",
       "      <td>Dipodomys merriami</td>\n",
       "      <td>Mammalia</td>\n",
       "      <td>Animalia</td>\n",
       "      <td>Rodentia</td>\n",
       "      <td>Chordata</td>\n",
       "      <td>Dipodomys merriami Mearns, 1890</td>\n",
       "      <td>ACCEPTED</td>\n",
       "      <td>2439521.0</td>\n",
       "    </tr>\n",
       "    <tr>\n",
       "      <th>28</th>\n",
       "      <td>15</td>\n",
       "      <td>M</td>\n",
       "      <td>NaN</td>\n",
       "      <td>Ecological Archives E090-118-D1.</td>\n",
       "      <td>male</td>\n",
       "      <td>1977-07-17</td>\n",
       "      <td>-109.081036</td>\n",
       "      <td>31.937059</td>\n",
       "      <td>Dipodomys</td>\n",
       "      <td>merriami</td>\n",
       "      <td>Rodent</td>\n",
       "      <td>Dipodomys merriami</td>\n",
       "      <td>Mammalia</td>\n",
       "      <td>Animalia</td>\n",
       "      <td>Rodentia</td>\n",
       "      <td>Chordata</td>\n",
       "      <td>Dipodomys merriami Mearns, 1890</td>\n",
       "      <td>ACCEPTED</td>\n",
       "      <td>2439521.0</td>\n",
       "    </tr>\n",
       "  </tbody>\n",
       "</table>\n",
       "</div>"
      ],
      "text/plain": [
       "              verbatimLocality verbatimSex  wgt  \\\n",
       "occurrenceID                                      \n",
       "5                            3           M  NaN   \n",
       "14                           3           M  NaN   \n",
       "4                            7           M  NaN   \n",
       "13                           7           M  NaN   \n",
       "34                          11           F  NaN   \n",
       "38                          11           F  NaN   \n",
       "40                          11           F  NaN   \n",
       "27                          15           M  NaN   \n",
       "28                          15           M  NaN   \n",
       "\n",
       "                                   datasetName     sex  eventDate  \\\n",
       "occurrenceID                                                        \n",
       "5             Ecological Archives E090-118-D1.    male 1977-07-16   \n",
       "14            Ecological Archives E090-118-D1.    male 1977-07-16   \n",
       "4             Ecological Archives E090-118-D1.    male 1977-07-16   \n",
       "13            Ecological Archives E090-118-D1.    male 1977-07-16   \n",
       "34            Ecological Archives E090-118-D1.  female 1977-07-17   \n",
       "38            Ecological Archives E090-118-D1.  female 1977-07-17   \n",
       "40            Ecological Archives E090-118-D1.  female 1977-07-17   \n",
       "27            Ecological Archives E090-118-D1.    male 1977-07-17   \n",
       "28            Ecological Archives E090-118-D1.    male 1977-07-17   \n",
       "\n",
       "              decimalLongitude  decimalLatitude      genus   species    taxa  \\\n",
       "occurrenceID                                                                   \n",
       "5                  -109.081208        31.938896  Dipodomys  merriami  Rodent   \n",
       "14                 -109.081208        31.938896  Dipodomys  merriami  Rodent   \n",
       "4                  -109.082816        31.938113  Dipodomys  merriami  Rodent   \n",
       "13                 -109.082816        31.938113  Dipodomys  merriami  Rodent   \n",
       "34                 -109.079307        31.938056  Dipodomys  merriami  Rodent   \n",
       "38                 -109.079307        31.938056  Dipodomys  merriami  Rodent   \n",
       "40                 -109.079307        31.938056  Dipodomys  merriami  Rodent   \n",
       "27                 -109.081036        31.937059  Dipodomys  merriami  Rodent   \n",
       "28                 -109.081036        31.937059  Dipodomys  merriami  Rodent   \n",
       "\n",
       "                            name     class   kingdom     order    phylum  \\\n",
       "occurrenceID                                                               \n",
       "5             Dipodomys merriami  Mammalia  Animalia  Rodentia  Chordata   \n",
       "14            Dipodomys merriami  Mammalia  Animalia  Rodentia  Chordata   \n",
       "4             Dipodomys merriami  Mammalia  Animalia  Rodentia  Chordata   \n",
       "13            Dipodomys merriami  Mammalia  Animalia  Rodentia  Chordata   \n",
       "34            Dipodomys merriami  Mammalia  Animalia  Rodentia  Chordata   \n",
       "38            Dipodomys merriami  Mammalia  Animalia  Rodentia  Chordata   \n",
       "40            Dipodomys merriami  Mammalia  Animalia  Rodentia  Chordata   \n",
       "27            Dipodomys merriami  Mammalia  Animalia  Rodentia  Chordata   \n",
       "28            Dipodomys merriami  Mammalia  Animalia  Rodentia  Chordata   \n",
       "\n",
       "                               scientificName    status   usageKey  \n",
       "occurrenceID                                                        \n",
       "5             Dipodomys merriami Mearns, 1890  ACCEPTED  2439521.0  \n",
       "14            Dipodomys merriami Mearns, 1890  ACCEPTED  2439521.0  \n",
       "4             Dipodomys merriami Mearns, 1890  ACCEPTED  2439521.0  \n",
       "13            Dipodomys merriami Mearns, 1890  ACCEPTED  2439521.0  \n",
       "34            Dipodomys merriami Mearns, 1890  ACCEPTED  2439521.0  \n",
       "38            Dipodomys merriami Mearns, 1890  ACCEPTED  2439521.0  \n",
       "40            Dipodomys merriami Mearns, 1890  ACCEPTED  2439521.0  \n",
       "27            Dipodomys merriami Mearns, 1890  ACCEPTED  2439521.0  \n",
       "28            Dipodomys merriami Mearns, 1890  ACCEPTED  2439521.0  "
      ]
     },
     "execution_count": 7,
     "metadata": {},
     "output_type": "execute_result"
    }
   ],
   "source": [
    "duplicate_observations = survey_data_processed[survey_data_processed.duplicated(keep=False)]\n",
    "duplicate_observations.sort_values([\"eventDate\", \"verbatimLocality\"]).head(9)"
   ]
  },
  {
   "cell_type": "markdown",
   "metadata": {},
   "source": [
    "<div class=\"alert alert-success\">\n",
    "\n",
    "**EXERCISE**\n",
    "\n",
    "- Exclude the duplicate values (i.e. keep the first occurrence while removing the other ones) from the `observations` data set and save the result as `survey_data_unique`. Use the `drop duplicates()` method from Pandas.\n",
    "- How many observations are still left in the data set?\n",
    "\n",
    "<details><summary>Hints</summary>\n",
    "\n",
    "- `keep=First` is the default option for `drop_duplicates`\n",
    "- The number of rows in a DataFrame is equal to the `len`gth\n",
    "\n",
    "</details>"
   ]
  },
  {
   "cell_type": "code",
   "execution_count": 8,
   "metadata": {
    "tags": [
     "nbtutor-solution"
    ]
   },
   "outputs": [],
   "source": [
    "survey_data_unique = survey_data_processed.drop_duplicates()"
   ]
  },
  {
   "cell_type": "code",
   "execution_count": 9,
   "metadata": {
    "tags": [
     "nbtutor-solution"
    ]
   },
   "outputs": [
    {
     "data": {
      "text/plain": [
       "33973"
      ]
     },
     "execution_count": 9,
     "metadata": {},
     "output_type": "execute_result"
    }
   ],
   "source": [
    "len(survey_data_unique)"
   ]
  },
  {
   "cell_type": "markdown",
   "metadata": {},
   "source": [
    "<div class=\"alert alert-success\">\n",
    "\n",
    "**EXERCISE**\n",
    "\n",
    "Use the `dropna()` method to find out:\n",
    "\n",
    "- For how many observations (rows) we have all the information available (i.e. no NaN values in any of the columns)?\n",
    "- For how many observations (rows) we do have the `species_ID` data available ?\n",
    "\n",
    "<details><summary>Hints</summary>\n",
    "\n",
    "- `dropna` by default removes by default all rows for which _any_ of the columns contains a `NaN` value.\n",
    "- To specify which specific columns to check, use the `subset` argument\n",
    "\n",
    "</details>"
   ]
  },
  {
   "cell_type": "code",
   "execution_count": 10,
   "metadata": {
    "tags": [
     "nbtutor-solution"
    ]
   },
   "outputs": [
    {
     "data": {
      "text/plain": [
       "(29777, 31961)"
      ]
     },
     "execution_count": 10,
     "metadata": {},
     "output_type": "execute_result"
    }
   ],
   "source": [
    "len(survey_data_unique.dropna()), len(survey_data_unique.dropna(subset=['species']))"
   ]
  },
  {
   "cell_type": "markdown",
   "metadata": {},
   "source": [
    "<div class=\"alert alert-success\">\n",
    "\n",
    "**EXERCISE**\n",
    "\n",
    "Filter the  `survey_data_unique` data and select only those records that do not have a `species` while having information on the `sex`. Store the result as variable `not_identified`.\n",
    "\n",
    "<details><summary>Hints</summary>\n",
    "\n",
    "- To combine logical operators element-wise in Pandas, use the `&` operator.\n",
    "- Pandas provides both a `isna()` and a `notna()` method to check the existence of `NaN` values.\n",
    "\n",
    "</details>"
   ]
  },
  {
   "cell_type": "code",
   "execution_count": 11,
   "metadata": {
    "tags": [
     "nbtutor-solution"
    ]
   },
   "outputs": [],
   "source": [
    "mask = survey_data_unique['species'].isna() & survey_data_unique['sex'].notna()\n",
    "not_identified = survey_data_unique[mask]"
   ]
  },
  {
   "cell_type": "code",
   "execution_count": 12,
   "metadata": {},
   "outputs": [
    {
     "data": {
      "text/html": [
       "<div>\n",
       "<style scoped>\n",
       "    .dataframe tbody tr th:only-of-type {\n",
       "        vertical-align: middle;\n",
       "    }\n",
       "\n",
       "    .dataframe tbody tr th {\n",
       "        vertical-align: top;\n",
       "    }\n",
       "\n",
       "    .dataframe thead th {\n",
       "        text-align: right;\n",
       "    }\n",
       "</style>\n",
       "<table border=\"1\" class=\"dataframe\">\n",
       "  <thead>\n",
       "    <tr style=\"text-align: right;\">\n",
       "      <th></th>\n",
       "      <th>verbatimLocality</th>\n",
       "      <th>verbatimSex</th>\n",
       "      <th>wgt</th>\n",
       "      <th>datasetName</th>\n",
       "      <th>sex</th>\n",
       "      <th>eventDate</th>\n",
       "      <th>decimalLongitude</th>\n",
       "      <th>decimalLatitude</th>\n",
       "      <th>genus</th>\n",
       "      <th>species</th>\n",
       "      <th>taxa</th>\n",
       "      <th>name</th>\n",
       "      <th>class</th>\n",
       "      <th>kingdom</th>\n",
       "      <th>order</th>\n",
       "      <th>phylum</th>\n",
       "      <th>scientificName</th>\n",
       "      <th>status</th>\n",
       "      <th>usageKey</th>\n",
       "    </tr>\n",
       "    <tr>\n",
       "      <th>occurrenceID</th>\n",
       "      <th></th>\n",
       "      <th></th>\n",
       "      <th></th>\n",
       "      <th></th>\n",
       "      <th></th>\n",
       "      <th></th>\n",
       "      <th></th>\n",
       "      <th></th>\n",
       "      <th></th>\n",
       "      <th></th>\n",
       "      <th></th>\n",
       "      <th></th>\n",
       "      <th></th>\n",
       "      <th></th>\n",
       "      <th></th>\n",
       "      <th></th>\n",
       "      <th></th>\n",
       "      <th></th>\n",
       "      <th></th>\n",
       "    </tr>\n",
       "  </thead>\n",
       "  <tbody>\n",
       "    <tr>\n",
       "      <th>1</th>\n",
       "      <td>2</td>\n",
       "      <td>M</td>\n",
       "      <td>NaN</td>\n",
       "      <td>Ecological Archives E090-118-D1.</td>\n",
       "      <td>male</td>\n",
       "      <td>1977-07-16</td>\n",
       "      <td>-109.081975</td>\n",
       "      <td>31.938887</td>\n",
       "      <td>NaN</td>\n",
       "      <td>NaN</td>\n",
       "      <td>NaN</td>\n",
       "      <td>NaN</td>\n",
       "      <td>NaN</td>\n",
       "      <td>NaN</td>\n",
       "      <td>NaN</td>\n",
       "      <td>NaN</td>\n",
       "      <td>NaN</td>\n",
       "      <td>NaN</td>\n",
       "      <td>NaN</td>\n",
       "    </tr>\n",
       "    <tr>\n",
       "      <th>2</th>\n",
       "      <td>3</td>\n",
       "      <td>M</td>\n",
       "      <td>NaN</td>\n",
       "      <td>Ecological Archives E090-118-D1.</td>\n",
       "      <td>male</td>\n",
       "      <td>1977-07-16</td>\n",
       "      <td>-109.081208</td>\n",
       "      <td>31.938896</td>\n",
       "      <td>NaN</td>\n",
       "      <td>NaN</td>\n",
       "      <td>NaN</td>\n",
       "      <td>NaN</td>\n",
       "      <td>NaN</td>\n",
       "      <td>NaN</td>\n",
       "      <td>NaN</td>\n",
       "      <td>NaN</td>\n",
       "      <td>NaN</td>\n",
       "      <td>NaN</td>\n",
       "      <td>NaN</td>\n",
       "    </tr>\n",
       "    <tr>\n",
       "      <th>23</th>\n",
       "      <td>15</td>\n",
       "      <td>F</td>\n",
       "      <td>NaN</td>\n",
       "      <td>Ecological Archives E090-118-D1.</td>\n",
       "      <td>female</td>\n",
       "      <td>1977-07-17</td>\n",
       "      <td>-109.081036</td>\n",
       "      <td>31.937059</td>\n",
       "      <td>NaN</td>\n",
       "      <td>NaN</td>\n",
       "      <td>NaN</td>\n",
       "      <td>NaN</td>\n",
       "      <td>NaN</td>\n",
       "      <td>NaN</td>\n",
       "      <td>NaN</td>\n",
       "      <td>NaN</td>\n",
       "      <td>NaN</td>\n",
       "      <td>NaN</td>\n",
       "      <td>NaN</td>\n",
       "    </tr>\n",
       "    <tr>\n",
       "      <th>39</th>\n",
       "      <td>17</td>\n",
       "      <td>M</td>\n",
       "      <td>NaN</td>\n",
       "      <td>Ecological Archives E090-118-D1.</td>\n",
       "      <td>male</td>\n",
       "      <td>1977-07-17</td>\n",
       "      <td>-109.079415</td>\n",
       "      <td>31.937117</td>\n",
       "      <td>NaN</td>\n",
       "      <td>NaN</td>\n",
       "      <td>NaN</td>\n",
       "      <td>NaN</td>\n",
       "      <td>NaN</td>\n",
       "      <td>NaN</td>\n",
       "      <td>NaN</td>\n",
       "      <td>NaN</td>\n",
       "      <td>NaN</td>\n",
       "      <td>NaN</td>\n",
       "      <td>NaN</td>\n",
       "    </tr>\n",
       "    <tr>\n",
       "      <th>73</th>\n",
       "      <td>2</td>\n",
       "      <td>M</td>\n",
       "      <td>NaN</td>\n",
       "      <td>Ecological Archives E090-118-D1.</td>\n",
       "      <td>male</td>\n",
       "      <td>1977-08-19</td>\n",
       "      <td>-109.081975</td>\n",
       "      <td>31.938887</td>\n",
       "      <td>NaN</td>\n",
       "      <td>NaN</td>\n",
       "      <td>NaN</td>\n",
       "      <td>NaN</td>\n",
       "      <td>NaN</td>\n",
       "      <td>NaN</td>\n",
       "      <td>NaN</td>\n",
       "      <td>NaN</td>\n",
       "      <td>NaN</td>\n",
       "      <td>NaN</td>\n",
       "      <td>NaN</td>\n",
       "    </tr>\n",
       "  </tbody>\n",
       "</table>\n",
       "</div>"
      ],
      "text/plain": [
       "              verbatimLocality verbatimSex  wgt  \\\n",
       "occurrenceID                                      \n",
       "1                            2           M  NaN   \n",
       "2                            3           M  NaN   \n",
       "23                          15           F  NaN   \n",
       "39                          17           M  NaN   \n",
       "73                           2           M  NaN   \n",
       "\n",
       "                                   datasetName     sex  eventDate  \\\n",
       "occurrenceID                                                        \n",
       "1             Ecological Archives E090-118-D1.    male 1977-07-16   \n",
       "2             Ecological Archives E090-118-D1.    male 1977-07-16   \n",
       "23            Ecological Archives E090-118-D1.  female 1977-07-17   \n",
       "39            Ecological Archives E090-118-D1.    male 1977-07-17   \n",
       "73            Ecological Archives E090-118-D1.    male 1977-08-19   \n",
       "\n",
       "              decimalLongitude  decimalLatitude genus species taxa name class  \\\n",
       "occurrenceID                                                                    \n",
       "1                  -109.081975        31.938887   NaN     NaN  NaN  NaN   NaN   \n",
       "2                  -109.081208        31.938896   NaN     NaN  NaN  NaN   NaN   \n",
       "23                 -109.081036        31.937059   NaN     NaN  NaN  NaN   NaN   \n",
       "39                 -109.079415        31.937117   NaN     NaN  NaN  NaN   NaN   \n",
       "73                 -109.081975        31.938887   NaN     NaN  NaN  NaN   NaN   \n",
       "\n",
       "             kingdom order phylum scientificName status  usageKey  \n",
       "occurrenceID                                                       \n",
       "1                NaN   NaN    NaN            NaN    NaN       NaN  \n",
       "2                NaN   NaN    NaN            NaN    NaN       NaN  \n",
       "23               NaN   NaN    NaN            NaN    NaN       NaN  \n",
       "39               NaN   NaN    NaN            NaN    NaN       NaN  \n",
       "73               NaN   NaN    NaN            NaN    NaN       NaN  "
      ]
     },
     "execution_count": 12,
     "metadata": {},
     "output_type": "execute_result"
    }
   ],
   "source": [
    "not_identified.head()"
   ]
  },
  {
   "cell_type": "markdown",
   "metadata": {},
   "source": [
    "__NOTE!__\n",
    "\n",
    "The `DataFrame` we will use in the further analyses contains species information:"
   ]
  },
  {
   "cell_type": "code",
   "execution_count": 13,
   "metadata": {},
   "outputs": [],
   "source": [
    "survey_data = survey_data_unique.dropna(subset=['species']).copy()\n",
    "survey_data['name'] = survey_data['genus'] + ' ' + survey_data['species']"
   ]
  },
  {
   "cell_type": "markdown",
   "metadata": {},
   "source": [
    "<div class=\"alert alert-info\">\n",
    "\n",
    "**INFO**\n",
    "\n",
    "For biodiversity studies, absence values (knowing that something is not present) are useful as well to normalize the observations, but this is out of scope for these exercises.\n",
    "</div>"
   ]
  },
  {
   "cell_type": "markdown",
   "metadata": {},
   "source": [
    "## 3. Select subsets of the data"
   ]
  },
  {
   "cell_type": "code",
   "execution_count": 14,
   "metadata": {},
   "outputs": [
    {
     "data": {
      "text/plain": [
       "Rodent                 30939\n",
       "Rodent-not censused      595\n",
       "Bird                     354\n",
       "Rabbit                    59\n",
       "Reptile                   14\n",
       "Name: taxa, dtype: int64"
      ]
     },
     "execution_count": 14,
     "metadata": {},
     "output_type": "execute_result"
    }
   ],
   "source": [
    "survey_data['taxa'].value_counts()\n",
    "#survey_data.groupby('taxa').size()"
   ]
  },
  {
   "cell_type": "markdown",
   "metadata": {},
   "source": [
    "<div class=\"alert alert-success\">\n",
    "\n",
    "**EXERCISE**\n",
    "\n",
    "- Select the observations for which the `taxa` is equal to 'Rabbit', 'Bird' or 'Reptile'. Assign the result to a variable `non_rodent_species`. Use the `isin` method for the selection.\n",
    "\n",
    "<details><summary>Hints</summary>\n",
    "\n",
    "- You do not have to combine three different conditions, but use the `isin` operator with a list of names.\n",
    "\n",
    "</details>"
   ]
  },
  {
   "cell_type": "code",
   "execution_count": 15,
   "metadata": {
    "tags": [
     "nbtutor-solution"
    ]
   },
   "outputs": [
    {
     "data": {
      "text/html": [
       "<div>\n",
       "<style scoped>\n",
       "    .dataframe tbody tr th:only-of-type {\n",
       "        vertical-align: middle;\n",
       "    }\n",
       "\n",
       "    .dataframe tbody tr th {\n",
       "        vertical-align: top;\n",
       "    }\n",
       "\n",
       "    .dataframe thead th {\n",
       "        text-align: right;\n",
       "    }\n",
       "</style>\n",
       "<table border=\"1\" class=\"dataframe\">\n",
       "  <thead>\n",
       "    <tr style=\"text-align: right;\">\n",
       "      <th></th>\n",
       "      <th>verbatimLocality</th>\n",
       "      <th>verbatimSex</th>\n",
       "      <th>wgt</th>\n",
       "      <th>datasetName</th>\n",
       "      <th>sex</th>\n",
       "      <th>eventDate</th>\n",
       "      <th>decimalLongitude</th>\n",
       "      <th>decimalLatitude</th>\n",
       "      <th>genus</th>\n",
       "      <th>species</th>\n",
       "      <th>taxa</th>\n",
       "      <th>name</th>\n",
       "      <th>class</th>\n",
       "      <th>kingdom</th>\n",
       "      <th>order</th>\n",
       "      <th>phylum</th>\n",
       "      <th>scientificName</th>\n",
       "      <th>status</th>\n",
       "      <th>usageKey</th>\n",
       "    </tr>\n",
       "    <tr>\n",
       "      <th>occurrenceID</th>\n",
       "      <th></th>\n",
       "      <th></th>\n",
       "      <th></th>\n",
       "      <th></th>\n",
       "      <th></th>\n",
       "      <th></th>\n",
       "      <th></th>\n",
       "      <th></th>\n",
       "      <th></th>\n",
       "      <th></th>\n",
       "      <th></th>\n",
       "      <th></th>\n",
       "      <th></th>\n",
       "      <th></th>\n",
       "      <th></th>\n",
       "      <th></th>\n",
       "      <th></th>\n",
       "      <th></th>\n",
       "      <th></th>\n",
       "    </tr>\n",
       "  </thead>\n",
       "  <tbody>\n",
       "    <tr>\n",
       "      <th>780</th>\n",
       "      <td>11</td>\n",
       "      <td>NaN</td>\n",
       "      <td>NaN</td>\n",
       "      <td>Ecological Archives E090-118-D1.</td>\n",
       "      <td>NaN</td>\n",
       "      <td>1978-04-09</td>\n",
       "      <td>-109.079307</td>\n",
       "      <td>31.938056</td>\n",
       "      <td>Sylvilagus</td>\n",
       "      <td>audubonii</td>\n",
       "      <td>Rabbit</td>\n",
       "      <td>Sylvilagus audubonii</td>\n",
       "      <td>Mammalia</td>\n",
       "      <td>Animalia</td>\n",
       "      <td>Lagomorpha</td>\n",
       "      <td>Chordata</td>\n",
       "      <td>Sylvilagus audubonii (Baird, 1858)</td>\n",
       "      <td>ACCEPTED</td>\n",
       "      <td>2436910.0</td>\n",
       "    </tr>\n",
       "    <tr>\n",
       "      <th>814</th>\n",
       "      <td>1</td>\n",
       "      <td>NaN</td>\n",
       "      <td>NaN</td>\n",
       "      <td>Ecological Archives E090-118-D1.</td>\n",
       "      <td>NaN</td>\n",
       "      <td>1978-04-10</td>\n",
       "      <td>-109.082829</td>\n",
       "      <td>31.938851</td>\n",
       "      <td>Sylvilagus</td>\n",
       "      <td>audubonii</td>\n",
       "      <td>Rabbit</td>\n",
       "      <td>Sylvilagus audubonii</td>\n",
       "      <td>Mammalia</td>\n",
       "      <td>Animalia</td>\n",
       "      <td>Lagomorpha</td>\n",
       "      <td>Chordata</td>\n",
       "      <td>Sylvilagus audubonii (Baird, 1858)</td>\n",
       "      <td>ACCEPTED</td>\n",
       "      <td>2436910.0</td>\n",
       "    </tr>\n",
       "    <tr>\n",
       "      <th>3127</th>\n",
       "      <td>8</td>\n",
       "      <td>NaN</td>\n",
       "      <td>NaN</td>\n",
       "      <td>Ecological Archives E090-118-D1.</td>\n",
       "      <td>NaN</td>\n",
       "      <td>1980-07-21</td>\n",
       "      <td>-109.081680</td>\n",
       "      <td>31.937884</td>\n",
       "      <td>Amphispiza</td>\n",
       "      <td>bilineata</td>\n",
       "      <td>Bird</td>\n",
       "      <td>Amphispiza bilineata</td>\n",
       "      <td>Aves</td>\n",
       "      <td>Animalia</td>\n",
       "      <td>Passeriformes</td>\n",
       "      <td>Chordata</td>\n",
       "      <td>Amphispiza bilineata (Cassin, 1850)</td>\n",
       "      <td>ACCEPTED</td>\n",
       "      <td>2491757.0</td>\n",
       "    </tr>\n",
       "    <tr>\n",
       "      <th>3147</th>\n",
       "      <td>24</td>\n",
       "      <td>NaN</td>\n",
       "      <td>NaN</td>\n",
       "      <td>Ecological Archives E090-118-D1.</td>\n",
       "      <td>NaN</td>\n",
       "      <td>1980-07-21</td>\n",
       "      <td>-109.077736</td>\n",
       "      <td>31.938560</td>\n",
       "      <td>Amphispiza</td>\n",
       "      <td>bilineata</td>\n",
       "      <td>Bird</td>\n",
       "      <td>Amphispiza bilineata</td>\n",
       "      <td>Aves</td>\n",
       "      <td>Animalia</td>\n",
       "      <td>Passeriformes</td>\n",
       "      <td>Chordata</td>\n",
       "      <td>Amphispiza bilineata (Cassin, 1850)</td>\n",
       "      <td>ACCEPTED</td>\n",
       "      <td>2491757.0</td>\n",
       "    </tr>\n",
       "    <tr>\n",
       "      <th>3153</th>\n",
       "      <td>19</td>\n",
       "      <td>NaN</td>\n",
       "      <td>NaN</td>\n",
       "      <td>Ecological Archives E090-118-D1.</td>\n",
       "      <td>NaN</td>\n",
       "      <td>1980-07-21</td>\n",
       "      <td>-109.077912</td>\n",
       "      <td>31.937438</td>\n",
       "      <td>Amphispiza</td>\n",
       "      <td>bilineata</td>\n",
       "      <td>Bird</td>\n",
       "      <td>Amphispiza bilineata</td>\n",
       "      <td>Aves</td>\n",
       "      <td>Animalia</td>\n",
       "      <td>Passeriformes</td>\n",
       "      <td>Chordata</td>\n",
       "      <td>Amphispiza bilineata (Cassin, 1850)</td>\n",
       "      <td>ACCEPTED</td>\n",
       "      <td>2491757.0</td>\n",
       "    </tr>\n",
       "  </tbody>\n",
       "</table>\n",
       "</div>"
      ],
      "text/plain": [
       "              verbatimLocality verbatimSex  wgt  \\\n",
       "occurrenceID                                      \n",
       "780                         11         NaN  NaN   \n",
       "814                          1         NaN  NaN   \n",
       "3127                         8         NaN  NaN   \n",
       "3147                        24         NaN  NaN   \n",
       "3153                        19         NaN  NaN   \n",
       "\n",
       "                                   datasetName  sex  eventDate  \\\n",
       "occurrenceID                                                     \n",
       "780           Ecological Archives E090-118-D1.  NaN 1978-04-09   \n",
       "814           Ecological Archives E090-118-D1.  NaN 1978-04-10   \n",
       "3127          Ecological Archives E090-118-D1.  NaN 1980-07-21   \n",
       "3147          Ecological Archives E090-118-D1.  NaN 1980-07-21   \n",
       "3153          Ecological Archives E090-118-D1.  NaN 1980-07-21   \n",
       "\n",
       "              decimalLongitude  decimalLatitude       genus    species  \\\n",
       "occurrenceID                                                             \n",
       "780                -109.079307        31.938056  Sylvilagus  audubonii   \n",
       "814                -109.082829        31.938851  Sylvilagus  audubonii   \n",
       "3127               -109.081680        31.937884  Amphispiza  bilineata   \n",
       "3147               -109.077736        31.938560  Amphispiza  bilineata   \n",
       "3153               -109.077912        31.937438  Amphispiza  bilineata   \n",
       "\n",
       "                taxa                  name     class   kingdom          order  \\\n",
       "occurrenceID                                                                    \n",
       "780           Rabbit  Sylvilagus audubonii  Mammalia  Animalia     Lagomorpha   \n",
       "814           Rabbit  Sylvilagus audubonii  Mammalia  Animalia     Lagomorpha   \n",
       "3127            Bird  Amphispiza bilineata      Aves  Animalia  Passeriformes   \n",
       "3147            Bird  Amphispiza bilineata      Aves  Animalia  Passeriformes   \n",
       "3153            Bird  Amphispiza bilineata      Aves  Animalia  Passeriformes   \n",
       "\n",
       "                phylum                       scientificName    status  \\\n",
       "occurrenceID                                                            \n",
       "780           Chordata   Sylvilagus audubonii (Baird, 1858)  ACCEPTED   \n",
       "814           Chordata   Sylvilagus audubonii (Baird, 1858)  ACCEPTED   \n",
       "3127          Chordata  Amphispiza bilineata (Cassin, 1850)  ACCEPTED   \n",
       "3147          Chordata  Amphispiza bilineata (Cassin, 1850)  ACCEPTED   \n",
       "3153          Chordata  Amphispiza bilineata (Cassin, 1850)  ACCEPTED   \n",
       "\n",
       "               usageKey  \n",
       "occurrenceID             \n",
       "780           2436910.0  \n",
       "814           2436910.0  \n",
       "3127          2491757.0  \n",
       "3147          2491757.0  \n",
       "3153          2491757.0  "
      ]
     },
     "execution_count": 15,
     "metadata": {},
     "output_type": "execute_result"
    }
   ],
   "source": [
    "non_rodent_species = survey_data[survey_data['taxa'].isin(['Rabbit', 'Bird', 'Reptile'])]\n",
    "non_rodent_species.head()"
   ]
  },
  {
   "cell_type": "code",
   "execution_count": 16,
   "metadata": {},
   "outputs": [
    {
     "data": {
      "text/plain": [
       "427"
      ]
     },
     "execution_count": 16,
     "metadata": {},
     "output_type": "execute_result"
    }
   ],
   "source": [
    "len(non_rodent_species)"
   ]
  },
  {
   "cell_type": "markdown",
   "metadata": {},
   "source": [
    "<div class=\"alert alert-success\">\n",
    "\n",
    "**EXERCISE**\n",
    "\n",
    "Select the observations for which the `name` starts with the characters 'r' (make sure it does not matter if a capital character is used in the 'taxa' name). Call the resulting variable `r_species`.\n",
    "\n",
    "<details><summary>Hints</summary>\n",
    "\n",
    "- Remember the `.str.` construction to provide all kind of string functionalities? You can combine multiple of these after each other.\n",
    "- If the presence of capital letters should not matter, make everything lowercase first before comparing (`.lower()`)\n",
    "\n",
    "</details>"
   ]
  },
  {
   "cell_type": "code",
   "execution_count": 17,
   "metadata": {
    "tags": [
     "nbtutor-solution"
    ]
   },
   "outputs": [
    {
     "data": {
      "text/html": [
       "<div>\n",
       "<style scoped>\n",
       "    .dataframe tbody tr th:only-of-type {\n",
       "        vertical-align: middle;\n",
       "    }\n",
       "\n",
       "    .dataframe tbody tr th {\n",
       "        vertical-align: top;\n",
       "    }\n",
       "\n",
       "    .dataframe thead th {\n",
       "        text-align: right;\n",
       "    }\n",
       "</style>\n",
       "<table border=\"1\" class=\"dataframe\">\n",
       "  <thead>\n",
       "    <tr style=\"text-align: right;\">\n",
       "      <th></th>\n",
       "      <th>verbatimLocality</th>\n",
       "      <th>verbatimSex</th>\n",
       "      <th>wgt</th>\n",
       "      <th>datasetName</th>\n",
       "      <th>sex</th>\n",
       "      <th>eventDate</th>\n",
       "      <th>decimalLongitude</th>\n",
       "      <th>decimalLatitude</th>\n",
       "      <th>genus</th>\n",
       "      <th>species</th>\n",
       "      <th>taxa</th>\n",
       "      <th>name</th>\n",
       "      <th>class</th>\n",
       "      <th>kingdom</th>\n",
       "      <th>order</th>\n",
       "      <th>phylum</th>\n",
       "      <th>scientificName</th>\n",
       "      <th>status</th>\n",
       "      <th>usageKey</th>\n",
       "    </tr>\n",
       "    <tr>\n",
       "      <th>occurrenceID</th>\n",
       "      <th></th>\n",
       "      <th></th>\n",
       "      <th></th>\n",
       "      <th></th>\n",
       "      <th></th>\n",
       "      <th></th>\n",
       "      <th></th>\n",
       "      <th></th>\n",
       "      <th></th>\n",
       "      <th></th>\n",
       "      <th></th>\n",
       "      <th></th>\n",
       "      <th></th>\n",
       "      <th></th>\n",
       "      <th></th>\n",
       "      <th></th>\n",
       "      <th></th>\n",
       "      <th></th>\n",
       "      <th></th>\n",
       "    </tr>\n",
       "  </thead>\n",
       "  <tbody>\n",
       "    <tr>\n",
       "      <th>312</th>\n",
       "      <td>19</td>\n",
       "      <td>M</td>\n",
       "      <td>13.0</td>\n",
       "      <td>Ecological Archives E090-118-D1.</td>\n",
       "      <td>male</td>\n",
       "      <td>1977-10-17</td>\n",
       "      <td>-109.077912</td>\n",
       "      <td>31.937438</td>\n",
       "      <td>Reithrodontomys</td>\n",
       "      <td>megalotis</td>\n",
       "      <td>Rodent</td>\n",
       "      <td>Reithrodontomys megalotis</td>\n",
       "      <td>Mammalia</td>\n",
       "      <td>Animalia</td>\n",
       "      <td>Rodentia</td>\n",
       "      <td>Chordata</td>\n",
       "      <td>Reithrodontomys megalotis (Baird, 1857)</td>\n",
       "      <td>ACCEPTED</td>\n",
       "      <td>2437874.0</td>\n",
       "    </tr>\n",
       "    <tr>\n",
       "      <th>398</th>\n",
       "      <td>17</td>\n",
       "      <td>F</td>\n",
       "      <td>7.0</td>\n",
       "      <td>Ecological Archives E090-118-D1.</td>\n",
       "      <td>female</td>\n",
       "      <td>1977-11-13</td>\n",
       "      <td>-109.079415</td>\n",
       "      <td>31.937117</td>\n",
       "      <td>Reithrodontomys</td>\n",
       "      <td>megalotis</td>\n",
       "      <td>Rodent</td>\n",
       "      <td>Reithrodontomys megalotis</td>\n",
       "      <td>Mammalia</td>\n",
       "      <td>Animalia</td>\n",
       "      <td>Rodentia</td>\n",
       "      <td>Chordata</td>\n",
       "      <td>Reithrodontomys megalotis (Baird, 1857)</td>\n",
       "      <td>ACCEPTED</td>\n",
       "      <td>2437874.0</td>\n",
       "    </tr>\n",
       "    <tr>\n",
       "      <th>696</th>\n",
       "      <td>17</td>\n",
       "      <td>NaN</td>\n",
       "      <td>NaN</td>\n",
       "      <td>Ecological Archives E090-118-D1.</td>\n",
       "      <td>NaN</td>\n",
       "      <td>1978-03-12</td>\n",
       "      <td>-109.079415</td>\n",
       "      <td>31.937117</td>\n",
       "      <td>Reithrodontomys</td>\n",
       "      <td>megalotis</td>\n",
       "      <td>Rodent</td>\n",
       "      <td>Reithrodontomys megalotis</td>\n",
       "      <td>Mammalia</td>\n",
       "      <td>Animalia</td>\n",
       "      <td>Rodentia</td>\n",
       "      <td>Chordata</td>\n",
       "      <td>Reithrodontomys megalotis (Baird, 1857)</td>\n",
       "      <td>ACCEPTED</td>\n",
       "      <td>2437874.0</td>\n",
       "    </tr>\n",
       "    <tr>\n",
       "      <th>1479</th>\n",
       "      <td>19</td>\n",
       "      <td>M</td>\n",
       "      <td>8.0</td>\n",
       "      <td>Ecological Archives E090-118-D1.</td>\n",
       "      <td>male</td>\n",
       "      <td>1978-12-02</td>\n",
       "      <td>-109.077912</td>\n",
       "      <td>31.937438</td>\n",
       "      <td>Reithrodontomys</td>\n",
       "      <td>megalotis</td>\n",
       "      <td>Rodent</td>\n",
       "      <td>Reithrodontomys megalotis</td>\n",
       "      <td>Mammalia</td>\n",
       "      <td>Animalia</td>\n",
       "      <td>Rodentia</td>\n",
       "      <td>Chordata</td>\n",
       "      <td>Reithrodontomys megalotis (Baird, 1857)</td>\n",
       "      <td>ACCEPTED</td>\n",
       "      <td>2437874.0</td>\n",
       "    </tr>\n",
       "    <tr>\n",
       "      <th>1495</th>\n",
       "      <td>21</td>\n",
       "      <td>F</td>\n",
       "      <td>7.0</td>\n",
       "      <td>Ecological Archives E090-118-D1.</td>\n",
       "      <td>female</td>\n",
       "      <td>1978-12-02</td>\n",
       "      <td>-109.079398</td>\n",
       "      <td>31.936448</td>\n",
       "      <td>Reithrodontomys</td>\n",
       "      <td>megalotis</td>\n",
       "      <td>Rodent</td>\n",
       "      <td>Reithrodontomys megalotis</td>\n",
       "      <td>Mammalia</td>\n",
       "      <td>Animalia</td>\n",
       "      <td>Rodentia</td>\n",
       "      <td>Chordata</td>\n",
       "      <td>Reithrodontomys megalotis (Baird, 1857)</td>\n",
       "      <td>ACCEPTED</td>\n",
       "      <td>2437874.0</td>\n",
       "    </tr>\n",
       "  </tbody>\n",
       "</table>\n",
       "</div>"
      ],
      "text/plain": [
       "              verbatimLocality verbatimSex   wgt  \\\n",
       "occurrenceID                                       \n",
       "312                         19           M  13.0   \n",
       "398                         17           F   7.0   \n",
       "696                         17         NaN   NaN   \n",
       "1479                        19           M   8.0   \n",
       "1495                        21           F   7.0   \n",
       "\n",
       "                                   datasetName     sex  eventDate  \\\n",
       "occurrenceID                                                        \n",
       "312           Ecological Archives E090-118-D1.    male 1977-10-17   \n",
       "398           Ecological Archives E090-118-D1.  female 1977-11-13   \n",
       "696           Ecological Archives E090-118-D1.     NaN 1978-03-12   \n",
       "1479          Ecological Archives E090-118-D1.    male 1978-12-02   \n",
       "1495          Ecological Archives E090-118-D1.  female 1978-12-02   \n",
       "\n",
       "              decimalLongitude  decimalLatitude            genus    species  \\\n",
       "occurrenceID                                                                  \n",
       "312                -109.077912        31.937438  Reithrodontomys  megalotis   \n",
       "398                -109.079415        31.937117  Reithrodontomys  megalotis   \n",
       "696                -109.079415        31.937117  Reithrodontomys  megalotis   \n",
       "1479               -109.077912        31.937438  Reithrodontomys  megalotis   \n",
       "1495               -109.079398        31.936448  Reithrodontomys  megalotis   \n",
       "\n",
       "                taxa                       name     class   kingdom     order  \\\n",
       "occurrenceID                                                                    \n",
       "312           Rodent  Reithrodontomys megalotis  Mammalia  Animalia  Rodentia   \n",
       "398           Rodent  Reithrodontomys megalotis  Mammalia  Animalia  Rodentia   \n",
       "696           Rodent  Reithrodontomys megalotis  Mammalia  Animalia  Rodentia   \n",
       "1479          Rodent  Reithrodontomys megalotis  Mammalia  Animalia  Rodentia   \n",
       "1495          Rodent  Reithrodontomys megalotis  Mammalia  Animalia  Rodentia   \n",
       "\n",
       "                phylum                           scientificName    status  \\\n",
       "occurrenceID                                                                \n",
       "312           Chordata  Reithrodontomys megalotis (Baird, 1857)  ACCEPTED   \n",
       "398           Chordata  Reithrodontomys megalotis (Baird, 1857)  ACCEPTED   \n",
       "696           Chordata  Reithrodontomys megalotis (Baird, 1857)  ACCEPTED   \n",
       "1479          Chordata  Reithrodontomys megalotis (Baird, 1857)  ACCEPTED   \n",
       "1495          Chordata  Reithrodontomys megalotis (Baird, 1857)  ACCEPTED   \n",
       "\n",
       "               usageKey  \n",
       "occurrenceID             \n",
       "312           2437874.0  \n",
       "398           2437874.0  \n",
       "696           2437874.0  \n",
       "1479          2437874.0  \n",
       "1495          2437874.0  "
      ]
     },
     "execution_count": 17,
     "metadata": {},
     "output_type": "execute_result"
    }
   ],
   "source": [
    "r_species = survey_data[survey_data['name'].str.lower().str.startswith('r')]\n",
    "r_species.head()"
   ]
  },
  {
   "cell_type": "code",
   "execution_count": 18,
   "metadata": {},
   "outputs": [
    {
     "data": {
      "text/plain": [
       "2580"
      ]
     },
     "execution_count": 18,
     "metadata": {},
     "output_type": "execute_result"
    }
   ],
   "source": [
    "len(r_species)"
   ]
  },
  {
   "cell_type": "code",
   "execution_count": 19,
   "metadata": {},
   "outputs": [
    {
     "data": {
      "text/plain": [
       "Reithrodontomys megalotis     2485\n",
       "Reithrodontomys fulvescens      75\n",
       "Rodent sp.                      10\n",
       "Reithrodontomys montanus         8\n",
       "Reithrodontomys sp.              2\n",
       "Name: name, dtype: int64"
      ]
     },
     "execution_count": 19,
     "metadata": {},
     "output_type": "execute_result"
    }
   ],
   "source": [
    "r_species[\"name\"].value_counts()"
   ]
  },
  {
   "cell_type": "markdown",
   "metadata": {},
   "source": [
    "<div class=\"alert alert-success\">\n",
    "\n",
    "**EXERCISE**\n",
    "\n",
    "Select the observations that are not Birds. Call the resulting variable <code>non_bird_species</code>.\n",
    "\n",
    "<details><summary>Hints</summary>\n",
    "\n",
    "- Logical operators like `==`, `!=`, `>`,... can still be used.\n",
    "\n",
    "</details>"
   ]
  },
  {
   "cell_type": "code",
   "execution_count": 20,
   "metadata": {
    "tags": [
     "nbtutor-solution"
    ]
   },
   "outputs": [
    {
     "data": {
      "text/html": [
       "<div>\n",
       "<style scoped>\n",
       "    .dataframe tbody tr th:only-of-type {\n",
       "        vertical-align: middle;\n",
       "    }\n",
       "\n",
       "    .dataframe tbody tr th {\n",
       "        vertical-align: top;\n",
       "    }\n",
       "\n",
       "    .dataframe thead th {\n",
       "        text-align: right;\n",
       "    }\n",
       "</style>\n",
       "<table border=\"1\" class=\"dataframe\">\n",
       "  <thead>\n",
       "    <tr style=\"text-align: right;\">\n",
       "      <th></th>\n",
       "      <th>verbatimLocality</th>\n",
       "      <th>verbatimSex</th>\n",
       "      <th>wgt</th>\n",
       "      <th>datasetName</th>\n",
       "      <th>sex</th>\n",
       "      <th>eventDate</th>\n",
       "      <th>decimalLongitude</th>\n",
       "      <th>decimalLatitude</th>\n",
       "      <th>genus</th>\n",
       "      <th>species</th>\n",
       "      <th>taxa</th>\n",
       "      <th>name</th>\n",
       "      <th>class</th>\n",
       "      <th>kingdom</th>\n",
       "      <th>order</th>\n",
       "      <th>phylum</th>\n",
       "      <th>scientificName</th>\n",
       "      <th>status</th>\n",
       "      <th>usageKey</th>\n",
       "    </tr>\n",
       "    <tr>\n",
       "      <th>occurrenceID</th>\n",
       "      <th></th>\n",
       "      <th></th>\n",
       "      <th></th>\n",
       "      <th></th>\n",
       "      <th></th>\n",
       "      <th></th>\n",
       "      <th></th>\n",
       "      <th></th>\n",
       "      <th></th>\n",
       "      <th></th>\n",
       "      <th></th>\n",
       "      <th></th>\n",
       "      <th></th>\n",
       "      <th></th>\n",
       "      <th></th>\n",
       "      <th></th>\n",
       "      <th></th>\n",
       "      <th></th>\n",
       "      <th></th>\n",
       "    </tr>\n",
       "  </thead>\n",
       "  <tbody>\n",
       "    <tr>\n",
       "      <th>3</th>\n",
       "      <td>2</td>\n",
       "      <td>F</td>\n",
       "      <td>NaN</td>\n",
       "      <td>Ecological Archives E090-118-D1.</td>\n",
       "      <td>female</td>\n",
       "      <td>1977-07-16</td>\n",
       "      <td>-109.081975</td>\n",
       "      <td>31.938887</td>\n",
       "      <td>Dipodomys</td>\n",
       "      <td>merriami</td>\n",
       "      <td>Rodent</td>\n",
       "      <td>Dipodomys merriami</td>\n",
       "      <td>Mammalia</td>\n",
       "      <td>Animalia</td>\n",
       "      <td>Rodentia</td>\n",
       "      <td>Chordata</td>\n",
       "      <td>Dipodomys merriami Mearns, 1890</td>\n",
       "      <td>ACCEPTED</td>\n",
       "      <td>2439521.0</td>\n",
       "    </tr>\n",
       "    <tr>\n",
       "      <th>4</th>\n",
       "      <td>7</td>\n",
       "      <td>M</td>\n",
       "      <td>NaN</td>\n",
       "      <td>Ecological Archives E090-118-D1.</td>\n",
       "      <td>male</td>\n",
       "      <td>1977-07-16</td>\n",
       "      <td>-109.082816</td>\n",
       "      <td>31.938113</td>\n",
       "      <td>Dipodomys</td>\n",
       "      <td>merriami</td>\n",
       "      <td>Rodent</td>\n",
       "      <td>Dipodomys merriami</td>\n",
       "      <td>Mammalia</td>\n",
       "      <td>Animalia</td>\n",
       "      <td>Rodentia</td>\n",
       "      <td>Chordata</td>\n",
       "      <td>Dipodomys merriami Mearns, 1890</td>\n",
       "      <td>ACCEPTED</td>\n",
       "      <td>2439521.0</td>\n",
       "    </tr>\n",
       "    <tr>\n",
       "      <th>5</th>\n",
       "      <td>3</td>\n",
       "      <td>M</td>\n",
       "      <td>NaN</td>\n",
       "      <td>Ecological Archives E090-118-D1.</td>\n",
       "      <td>male</td>\n",
       "      <td>1977-07-16</td>\n",
       "      <td>-109.081208</td>\n",
       "      <td>31.938896</td>\n",
       "      <td>Dipodomys</td>\n",
       "      <td>merriami</td>\n",
       "      <td>Rodent</td>\n",
       "      <td>Dipodomys merriami</td>\n",
       "      <td>Mammalia</td>\n",
       "      <td>Animalia</td>\n",
       "      <td>Rodentia</td>\n",
       "      <td>Chordata</td>\n",
       "      <td>Dipodomys merriami Mearns, 1890</td>\n",
       "      <td>ACCEPTED</td>\n",
       "      <td>2439521.0</td>\n",
       "    </tr>\n",
       "    <tr>\n",
       "      <th>6</th>\n",
       "      <td>1</td>\n",
       "      <td>M</td>\n",
       "      <td>NaN</td>\n",
       "      <td>Ecological Archives E090-118-D1.</td>\n",
       "      <td>male</td>\n",
       "      <td>1977-07-16</td>\n",
       "      <td>-109.082829</td>\n",
       "      <td>31.938851</td>\n",
       "      <td>Perognathus</td>\n",
       "      <td>flavus</td>\n",
       "      <td>Rodent</td>\n",
       "      <td>Perognathus flavus</td>\n",
       "      <td>Mammalia</td>\n",
       "      <td>Animalia</td>\n",
       "      <td>Rodentia</td>\n",
       "      <td>Chordata</td>\n",
       "      <td>Perognathus flavus Baird, 1855</td>\n",
       "      <td>ACCEPTED</td>\n",
       "      <td>2439566.0</td>\n",
       "    </tr>\n",
       "    <tr>\n",
       "      <th>7</th>\n",
       "      <td>2</td>\n",
       "      <td>F</td>\n",
       "      <td>NaN</td>\n",
       "      <td>Ecological Archives E090-118-D1.</td>\n",
       "      <td>female</td>\n",
       "      <td>1977-07-16</td>\n",
       "      <td>-109.081975</td>\n",
       "      <td>31.938887</td>\n",
       "      <td>Peromyscus</td>\n",
       "      <td>eremicus</td>\n",
       "      <td>Rodent</td>\n",
       "      <td>Peromyscus eremicus</td>\n",
       "      <td>Mammalia</td>\n",
       "      <td>Animalia</td>\n",
       "      <td>Rodentia</td>\n",
       "      <td>Chordata</td>\n",
       "      <td>Peromyscus eremicus (Baird, 1857)</td>\n",
       "      <td>ACCEPTED</td>\n",
       "      <td>2437981.0</td>\n",
       "    </tr>\n",
       "  </tbody>\n",
       "</table>\n",
       "</div>"
      ],
      "text/plain": [
       "              verbatimLocality verbatimSex  wgt  \\\n",
       "occurrenceID                                      \n",
       "3                            2           F  NaN   \n",
       "4                            7           M  NaN   \n",
       "5                            3           M  NaN   \n",
       "6                            1           M  NaN   \n",
       "7                            2           F  NaN   \n",
       "\n",
       "                                   datasetName     sex  eventDate  \\\n",
       "occurrenceID                                                        \n",
       "3             Ecological Archives E090-118-D1.  female 1977-07-16   \n",
       "4             Ecological Archives E090-118-D1.    male 1977-07-16   \n",
       "5             Ecological Archives E090-118-D1.    male 1977-07-16   \n",
       "6             Ecological Archives E090-118-D1.    male 1977-07-16   \n",
       "7             Ecological Archives E090-118-D1.  female 1977-07-16   \n",
       "\n",
       "              decimalLongitude  decimalLatitude        genus   species  \\\n",
       "occurrenceID                                                             \n",
       "3                  -109.081975        31.938887    Dipodomys  merriami   \n",
       "4                  -109.082816        31.938113    Dipodomys  merriami   \n",
       "5                  -109.081208        31.938896    Dipodomys  merriami   \n",
       "6                  -109.082829        31.938851  Perognathus    flavus   \n",
       "7                  -109.081975        31.938887   Peromyscus  eremicus   \n",
       "\n",
       "                taxa                 name     class   kingdom     order  \\\n",
       "occurrenceID                                                              \n",
       "3             Rodent   Dipodomys merriami  Mammalia  Animalia  Rodentia   \n",
       "4             Rodent   Dipodomys merriami  Mammalia  Animalia  Rodentia   \n",
       "5             Rodent   Dipodomys merriami  Mammalia  Animalia  Rodentia   \n",
       "6             Rodent   Perognathus flavus  Mammalia  Animalia  Rodentia   \n",
       "7             Rodent  Peromyscus eremicus  Mammalia  Animalia  Rodentia   \n",
       "\n",
       "                phylum                     scientificName    status   usageKey  \n",
       "occurrenceID                                                                    \n",
       "3             Chordata    Dipodomys merriami Mearns, 1890  ACCEPTED  2439521.0  \n",
       "4             Chordata    Dipodomys merriami Mearns, 1890  ACCEPTED  2439521.0  \n",
       "5             Chordata    Dipodomys merriami Mearns, 1890  ACCEPTED  2439521.0  \n",
       "6             Chordata     Perognathus flavus Baird, 1855  ACCEPTED  2439566.0  \n",
       "7             Chordata  Peromyscus eremicus (Baird, 1857)  ACCEPTED  2437981.0  "
      ]
     },
     "execution_count": 20,
     "metadata": {},
     "output_type": "execute_result"
    }
   ],
   "source": [
    "non_bird_species = survey_data[survey_data['taxa'] != 'Bird']\n",
    "non_bird_species.head()"
   ]
  },
  {
   "cell_type": "code",
   "execution_count": 21,
   "metadata": {},
   "outputs": [
    {
     "data": {
      "text/plain": [
       "31607"
      ]
     },
     "execution_count": 21,
     "metadata": {},
     "output_type": "execute_result"
    }
   ],
   "source": [
    "len(non_bird_species)"
   ]
  },
  {
   "cell_type": "markdown",
   "metadata": {},
   "source": [
    "<div class=\"alert alert-success\">\n",
    "\n",
    "**EXERCISE**\n",
    "\n",
    "Select the __Bird__ (taxa is Bird) observations from 1985-01 till 1989-12 using the `eventDate` column. Call the resulting variable `birds_85_89`.\n",
    "\n",
    "<details><summary>Hints</summary>\n",
    "\n",
    "- No hints, you can do this! (with the help of some `<=` and `&`, and don't forget the put brackets around each comparison that you combine)\n",
    "\n",
    "\n",
    "</details>"
   ]
  },
  {
   "cell_type": "code",
   "execution_count": 22,
   "metadata": {
    "tags": [
     "nbtutor-solution"
    ]
   },
   "outputs": [
    {
     "data": {
      "text/html": [
       "<div>\n",
       "<style scoped>\n",
       "    .dataframe tbody tr th:only-of-type {\n",
       "        vertical-align: middle;\n",
       "    }\n",
       "\n",
       "    .dataframe tbody tr th {\n",
       "        vertical-align: top;\n",
       "    }\n",
       "\n",
       "    .dataframe thead th {\n",
       "        text-align: right;\n",
       "    }\n",
       "</style>\n",
       "<table border=\"1\" class=\"dataframe\">\n",
       "  <thead>\n",
       "    <tr style=\"text-align: right;\">\n",
       "      <th></th>\n",
       "      <th>verbatimLocality</th>\n",
       "      <th>verbatimSex</th>\n",
       "      <th>wgt</th>\n",
       "      <th>datasetName</th>\n",
       "      <th>sex</th>\n",
       "      <th>eventDate</th>\n",
       "      <th>decimalLongitude</th>\n",
       "      <th>decimalLatitude</th>\n",
       "      <th>genus</th>\n",
       "      <th>species</th>\n",
       "      <th>taxa</th>\n",
       "      <th>name</th>\n",
       "      <th>class</th>\n",
       "      <th>kingdom</th>\n",
       "      <th>order</th>\n",
       "      <th>phylum</th>\n",
       "      <th>scientificName</th>\n",
       "      <th>status</th>\n",
       "      <th>usageKey</th>\n",
       "    </tr>\n",
       "    <tr>\n",
       "      <th>occurrenceID</th>\n",
       "      <th></th>\n",
       "      <th></th>\n",
       "      <th></th>\n",
       "      <th></th>\n",
       "      <th></th>\n",
       "      <th></th>\n",
       "      <th></th>\n",
       "      <th></th>\n",
       "      <th></th>\n",
       "      <th></th>\n",
       "      <th></th>\n",
       "      <th></th>\n",
       "      <th></th>\n",
       "      <th></th>\n",
       "      <th></th>\n",
       "      <th></th>\n",
       "      <th></th>\n",
       "      <th></th>\n",
       "      <th></th>\n",
       "    </tr>\n",
       "  </thead>\n",
       "  <tbody>\n",
       "    <tr>\n",
       "      <th>9829</th>\n",
       "      <td>14</td>\n",
       "      <td>NaN</td>\n",
       "      <td>NaN</td>\n",
       "      <td>Ecological Archives E090-118-D1.</td>\n",
       "      <td>NaN</td>\n",
       "      <td>1985-01-19</td>\n",
       "      <td>-109.081827</td>\n",
       "      <td>31.937054</td>\n",
       "      <td>Amphispiza</td>\n",
       "      <td>bilineata</td>\n",
       "      <td>Bird</td>\n",
       "      <td>Amphispiza bilineata</td>\n",
       "      <td>Aves</td>\n",
       "      <td>Animalia</td>\n",
       "      <td>Passeriformes</td>\n",
       "      <td>Chordata</td>\n",
       "      <td>Amphispiza bilineata (Cassin, 1850)</td>\n",
       "      <td>ACCEPTED</td>\n",
       "      <td>2491757.0</td>\n",
       "    </tr>\n",
       "    <tr>\n",
       "      <th>9862</th>\n",
       "      <td>10</td>\n",
       "      <td>NaN</td>\n",
       "      <td>NaN</td>\n",
       "      <td>Ecological Archives E090-118-D1.</td>\n",
       "      <td>NaN</td>\n",
       "      <td>1985-01-20</td>\n",
       "      <td>-109.080091</td>\n",
       "      <td>31.938017</td>\n",
       "      <td>Amphispiza</td>\n",
       "      <td>bilineata</td>\n",
       "      <td>Bird</td>\n",
       "      <td>Amphispiza bilineata</td>\n",
       "      <td>Aves</td>\n",
       "      <td>Animalia</td>\n",
       "      <td>Passeriformes</td>\n",
       "      <td>Chordata</td>\n",
       "      <td>Amphispiza bilineata (Cassin, 1850)</td>\n",
       "      <td>ACCEPTED</td>\n",
       "      <td>2491757.0</td>\n",
       "    </tr>\n",
       "    <tr>\n",
       "      <th>9896</th>\n",
       "      <td>9</td>\n",
       "      <td>NaN</td>\n",
       "      <td>NaN</td>\n",
       "      <td>Ecological Archives E090-118-D1.</td>\n",
       "      <td>NaN</td>\n",
       "      <td>1985-01-20</td>\n",
       "      <td>-109.080903</td>\n",
       "      <td>31.937859</td>\n",
       "      <td>Amphispiza</td>\n",
       "      <td>bilineata</td>\n",
       "      <td>Bird</td>\n",
       "      <td>Amphispiza bilineata</td>\n",
       "      <td>Aves</td>\n",
       "      <td>Animalia</td>\n",
       "      <td>Passeriformes</td>\n",
       "      <td>Chordata</td>\n",
       "      <td>Amphispiza bilineata (Cassin, 1850)</td>\n",
       "      <td>ACCEPTED</td>\n",
       "      <td>2491757.0</td>\n",
       "    </tr>\n",
       "    <tr>\n",
       "      <th>9942</th>\n",
       "      <td>12</td>\n",
       "      <td>NaN</td>\n",
       "      <td>NaN</td>\n",
       "      <td>Ecological Archives E090-118-D1.</td>\n",
       "      <td>NaN</td>\n",
       "      <td>1985-02-16</td>\n",
       "      <td>-109.078519</td>\n",
       "      <td>31.938203</td>\n",
       "      <td>Amphispiza</td>\n",
       "      <td>bilineata</td>\n",
       "      <td>Bird</td>\n",
       "      <td>Amphispiza bilineata</td>\n",
       "      <td>Aves</td>\n",
       "      <td>Animalia</td>\n",
       "      <td>Passeriformes</td>\n",
       "      <td>Chordata</td>\n",
       "      <td>Amphispiza bilineata (Cassin, 1850)</td>\n",
       "      <td>ACCEPTED</td>\n",
       "      <td>2491757.0</td>\n",
       "    </tr>\n",
       "    <tr>\n",
       "      <th>10467</th>\n",
       "      <td>22</td>\n",
       "      <td>NaN</td>\n",
       "      <td>NaN</td>\n",
       "      <td>Ecological Archives E090-118-D1.</td>\n",
       "      <td>NaN</td>\n",
       "      <td>1985-06-15</td>\n",
       "      <td>-109.078602</td>\n",
       "      <td>31.936441</td>\n",
       "      <td>Campylorhynchus</td>\n",
       "      <td>brunneicapillus</td>\n",
       "      <td>Bird</td>\n",
       "      <td>Campylorhynchus brunneicapillus</td>\n",
       "      <td>Aves</td>\n",
       "      <td>Animalia</td>\n",
       "      <td>Passeriformes</td>\n",
       "      <td>Chordata</td>\n",
       "      <td>Campylorhynchus brunneicapillus (Lafresnaye, 1...</td>\n",
       "      <td>ACCEPTED</td>\n",
       "      <td>5231474.0</td>\n",
       "    </tr>\n",
       "  </tbody>\n",
       "</table>\n",
       "</div>"
      ],
      "text/plain": [
       "              verbatimLocality verbatimSex  wgt  \\\n",
       "occurrenceID                                      \n",
       "9829                        14         NaN  NaN   \n",
       "9862                        10         NaN  NaN   \n",
       "9896                         9         NaN  NaN   \n",
       "9942                        12         NaN  NaN   \n",
       "10467                       22         NaN  NaN   \n",
       "\n",
       "                                   datasetName  sex  eventDate  \\\n",
       "occurrenceID                                                     \n",
       "9829          Ecological Archives E090-118-D1.  NaN 1985-01-19   \n",
       "9862          Ecological Archives E090-118-D1.  NaN 1985-01-20   \n",
       "9896          Ecological Archives E090-118-D1.  NaN 1985-01-20   \n",
       "9942          Ecological Archives E090-118-D1.  NaN 1985-02-16   \n",
       "10467         Ecological Archives E090-118-D1.  NaN 1985-06-15   \n",
       "\n",
       "              decimalLongitude  decimalLatitude            genus  \\\n",
       "occurrenceID                                                       \n",
       "9829               -109.081827        31.937054       Amphispiza   \n",
       "9862               -109.080091        31.938017       Amphispiza   \n",
       "9896               -109.080903        31.937859       Amphispiza   \n",
       "9942               -109.078519        31.938203       Amphispiza   \n",
       "10467              -109.078602        31.936441  Campylorhynchus   \n",
       "\n",
       "                      species  taxa                             name class  \\\n",
       "occurrenceID                                                                 \n",
       "9829                bilineata  Bird             Amphispiza bilineata  Aves   \n",
       "9862                bilineata  Bird             Amphispiza bilineata  Aves   \n",
       "9896                bilineata  Bird             Amphispiza bilineata  Aves   \n",
       "9942                bilineata  Bird             Amphispiza bilineata  Aves   \n",
       "10467         brunneicapillus  Bird  Campylorhynchus brunneicapillus  Aves   \n",
       "\n",
       "               kingdom          order    phylum  \\\n",
       "occurrenceID                                      \n",
       "9829          Animalia  Passeriformes  Chordata   \n",
       "9862          Animalia  Passeriformes  Chordata   \n",
       "9896          Animalia  Passeriformes  Chordata   \n",
       "9942          Animalia  Passeriformes  Chordata   \n",
       "10467         Animalia  Passeriformes  Chordata   \n",
       "\n",
       "                                                 scientificName    status  \\\n",
       "occurrenceID                                                                \n",
       "9829                        Amphispiza bilineata (Cassin, 1850)  ACCEPTED   \n",
       "9862                        Amphispiza bilineata (Cassin, 1850)  ACCEPTED   \n",
       "9896                        Amphispiza bilineata (Cassin, 1850)  ACCEPTED   \n",
       "9942                        Amphispiza bilineata (Cassin, 1850)  ACCEPTED   \n",
       "10467         Campylorhynchus brunneicapillus (Lafresnaye, 1...  ACCEPTED   \n",
       "\n",
       "               usageKey  \n",
       "occurrenceID             \n",
       "9829          2491757.0  \n",
       "9862          2491757.0  \n",
       "9896          2491757.0  \n",
       "9942          2491757.0  \n",
       "10467         5231474.0  "
      ]
     },
     "execution_count": 22,
     "metadata": {},
     "output_type": "execute_result"
    }
   ],
   "source": [
    "birds_85_89 = survey_data[(survey_data[\"eventDate\"] >= \"1985-01-01\")\n",
    "                          & (survey_data[\"eventDate\"] <= \"1989-12-31 23:59\")\n",
    "                          & (survey_data['taxa'] == 'Bird')]\n",
    "birds_85_89.head()"
   ]
  },
  {
   "cell_type": "markdown",
   "metadata": {},
   "source": [
    "Alternative solution:"
   ]
  },
  {
   "cell_type": "code",
   "execution_count": 23,
   "metadata": {
    "tags": [
     "nbtutor-solution"
    ]
   },
   "outputs": [
    {
     "data": {
      "text/html": [
       "<div>\n",
       "<style scoped>\n",
       "    .dataframe tbody tr th:only-of-type {\n",
       "        vertical-align: middle;\n",
       "    }\n",
       "\n",
       "    .dataframe tbody tr th {\n",
       "        vertical-align: top;\n",
       "    }\n",
       "\n",
       "    .dataframe thead th {\n",
       "        text-align: right;\n",
       "    }\n",
       "</style>\n",
       "<table border=\"1\" class=\"dataframe\">\n",
       "  <thead>\n",
       "    <tr style=\"text-align: right;\">\n",
       "      <th></th>\n",
       "      <th>verbatimLocality</th>\n",
       "      <th>verbatimSex</th>\n",
       "      <th>wgt</th>\n",
       "      <th>datasetName</th>\n",
       "      <th>sex</th>\n",
       "      <th>eventDate</th>\n",
       "      <th>decimalLongitude</th>\n",
       "      <th>decimalLatitude</th>\n",
       "      <th>genus</th>\n",
       "      <th>species</th>\n",
       "      <th>taxa</th>\n",
       "      <th>name</th>\n",
       "      <th>class</th>\n",
       "      <th>kingdom</th>\n",
       "      <th>order</th>\n",
       "      <th>phylum</th>\n",
       "      <th>scientificName</th>\n",
       "      <th>status</th>\n",
       "      <th>usageKey</th>\n",
       "    </tr>\n",
       "    <tr>\n",
       "      <th>occurrenceID</th>\n",
       "      <th></th>\n",
       "      <th></th>\n",
       "      <th></th>\n",
       "      <th></th>\n",
       "      <th></th>\n",
       "      <th></th>\n",
       "      <th></th>\n",
       "      <th></th>\n",
       "      <th></th>\n",
       "      <th></th>\n",
       "      <th></th>\n",
       "      <th></th>\n",
       "      <th></th>\n",
       "      <th></th>\n",
       "      <th></th>\n",
       "      <th></th>\n",
       "      <th></th>\n",
       "      <th></th>\n",
       "      <th></th>\n",
       "    </tr>\n",
       "  </thead>\n",
       "  <tbody>\n",
       "    <tr>\n",
       "      <th>9829</th>\n",
       "      <td>14</td>\n",
       "      <td>NaN</td>\n",
       "      <td>NaN</td>\n",
       "      <td>Ecological Archives E090-118-D1.</td>\n",
       "      <td>NaN</td>\n",
       "      <td>1985-01-19</td>\n",
       "      <td>-109.081827</td>\n",
       "      <td>31.937054</td>\n",
       "      <td>Amphispiza</td>\n",
       "      <td>bilineata</td>\n",
       "      <td>Bird</td>\n",
       "      <td>Amphispiza bilineata</td>\n",
       "      <td>Aves</td>\n",
       "      <td>Animalia</td>\n",
       "      <td>Passeriformes</td>\n",
       "      <td>Chordata</td>\n",
       "      <td>Amphispiza bilineata (Cassin, 1850)</td>\n",
       "      <td>ACCEPTED</td>\n",
       "      <td>2491757.0</td>\n",
       "    </tr>\n",
       "    <tr>\n",
       "      <th>9862</th>\n",
       "      <td>10</td>\n",
       "      <td>NaN</td>\n",
       "      <td>NaN</td>\n",
       "      <td>Ecological Archives E090-118-D1.</td>\n",
       "      <td>NaN</td>\n",
       "      <td>1985-01-20</td>\n",
       "      <td>-109.080091</td>\n",
       "      <td>31.938017</td>\n",
       "      <td>Amphispiza</td>\n",
       "      <td>bilineata</td>\n",
       "      <td>Bird</td>\n",
       "      <td>Amphispiza bilineata</td>\n",
       "      <td>Aves</td>\n",
       "      <td>Animalia</td>\n",
       "      <td>Passeriformes</td>\n",
       "      <td>Chordata</td>\n",
       "      <td>Amphispiza bilineata (Cassin, 1850)</td>\n",
       "      <td>ACCEPTED</td>\n",
       "      <td>2491757.0</td>\n",
       "    </tr>\n",
       "    <tr>\n",
       "      <th>9896</th>\n",
       "      <td>9</td>\n",
       "      <td>NaN</td>\n",
       "      <td>NaN</td>\n",
       "      <td>Ecological Archives E090-118-D1.</td>\n",
       "      <td>NaN</td>\n",
       "      <td>1985-01-20</td>\n",
       "      <td>-109.080903</td>\n",
       "      <td>31.937859</td>\n",
       "      <td>Amphispiza</td>\n",
       "      <td>bilineata</td>\n",
       "      <td>Bird</td>\n",
       "      <td>Amphispiza bilineata</td>\n",
       "      <td>Aves</td>\n",
       "      <td>Animalia</td>\n",
       "      <td>Passeriformes</td>\n",
       "      <td>Chordata</td>\n",
       "      <td>Amphispiza bilineata (Cassin, 1850)</td>\n",
       "      <td>ACCEPTED</td>\n",
       "      <td>2491757.0</td>\n",
       "    </tr>\n",
       "    <tr>\n",
       "      <th>9942</th>\n",
       "      <td>12</td>\n",
       "      <td>NaN</td>\n",
       "      <td>NaN</td>\n",
       "      <td>Ecological Archives E090-118-D1.</td>\n",
       "      <td>NaN</td>\n",
       "      <td>1985-02-16</td>\n",
       "      <td>-109.078519</td>\n",
       "      <td>31.938203</td>\n",
       "      <td>Amphispiza</td>\n",
       "      <td>bilineata</td>\n",
       "      <td>Bird</td>\n",
       "      <td>Amphispiza bilineata</td>\n",
       "      <td>Aves</td>\n",
       "      <td>Animalia</td>\n",
       "      <td>Passeriformes</td>\n",
       "      <td>Chordata</td>\n",
       "      <td>Amphispiza bilineata (Cassin, 1850)</td>\n",
       "      <td>ACCEPTED</td>\n",
       "      <td>2491757.0</td>\n",
       "    </tr>\n",
       "    <tr>\n",
       "      <th>10467</th>\n",
       "      <td>22</td>\n",
       "      <td>NaN</td>\n",
       "      <td>NaN</td>\n",
       "      <td>Ecological Archives E090-118-D1.</td>\n",
       "      <td>NaN</td>\n",
       "      <td>1985-06-15</td>\n",
       "      <td>-109.078602</td>\n",
       "      <td>31.936441</td>\n",
       "      <td>Campylorhynchus</td>\n",
       "      <td>brunneicapillus</td>\n",
       "      <td>Bird</td>\n",
       "      <td>Campylorhynchus brunneicapillus</td>\n",
       "      <td>Aves</td>\n",
       "      <td>Animalia</td>\n",
       "      <td>Passeriformes</td>\n",
       "      <td>Chordata</td>\n",
       "      <td>Campylorhynchus brunneicapillus (Lafresnaye, 1...</td>\n",
       "      <td>ACCEPTED</td>\n",
       "      <td>5231474.0</td>\n",
       "    </tr>\n",
       "  </tbody>\n",
       "</table>\n",
       "</div>"
      ],
      "text/plain": [
       "              verbatimLocality verbatimSex  wgt  \\\n",
       "occurrenceID                                      \n",
       "9829                        14         NaN  NaN   \n",
       "9862                        10         NaN  NaN   \n",
       "9896                         9         NaN  NaN   \n",
       "9942                        12         NaN  NaN   \n",
       "10467                       22         NaN  NaN   \n",
       "\n",
       "                                   datasetName  sex  eventDate  \\\n",
       "occurrenceID                                                     \n",
       "9829          Ecological Archives E090-118-D1.  NaN 1985-01-19   \n",
       "9862          Ecological Archives E090-118-D1.  NaN 1985-01-20   \n",
       "9896          Ecological Archives E090-118-D1.  NaN 1985-01-20   \n",
       "9942          Ecological Archives E090-118-D1.  NaN 1985-02-16   \n",
       "10467         Ecological Archives E090-118-D1.  NaN 1985-06-15   \n",
       "\n",
       "              decimalLongitude  decimalLatitude            genus  \\\n",
       "occurrenceID                                                       \n",
       "9829               -109.081827        31.937054       Amphispiza   \n",
       "9862               -109.080091        31.938017       Amphispiza   \n",
       "9896               -109.080903        31.937859       Amphispiza   \n",
       "9942               -109.078519        31.938203       Amphispiza   \n",
       "10467              -109.078602        31.936441  Campylorhynchus   \n",
       "\n",
       "                      species  taxa                             name class  \\\n",
       "occurrenceID                                                                 \n",
       "9829                bilineata  Bird             Amphispiza bilineata  Aves   \n",
       "9862                bilineata  Bird             Amphispiza bilineata  Aves   \n",
       "9896                bilineata  Bird             Amphispiza bilineata  Aves   \n",
       "9942                bilineata  Bird             Amphispiza bilineata  Aves   \n",
       "10467         brunneicapillus  Bird  Campylorhynchus brunneicapillus  Aves   \n",
       "\n",
       "               kingdom          order    phylum  \\\n",
       "occurrenceID                                      \n",
       "9829          Animalia  Passeriformes  Chordata   \n",
       "9862          Animalia  Passeriformes  Chordata   \n",
       "9896          Animalia  Passeriformes  Chordata   \n",
       "9942          Animalia  Passeriformes  Chordata   \n",
       "10467         Animalia  Passeriformes  Chordata   \n",
       "\n",
       "                                                 scientificName    status  \\\n",
       "occurrenceID                                                                \n",
       "9829                        Amphispiza bilineata (Cassin, 1850)  ACCEPTED   \n",
       "9862                        Amphispiza bilineata (Cassin, 1850)  ACCEPTED   \n",
       "9896                        Amphispiza bilineata (Cassin, 1850)  ACCEPTED   \n",
       "9942                        Amphispiza bilineata (Cassin, 1850)  ACCEPTED   \n",
       "10467         Campylorhynchus brunneicapillus (Lafresnaye, 1...  ACCEPTED   \n",
       "\n",
       "               usageKey  \n",
       "occurrenceID             \n",
       "9829          2491757.0  \n",
       "9862          2491757.0  \n",
       "9896          2491757.0  \n",
       "9942          2491757.0  \n",
       "10467         5231474.0  "
      ]
     },
     "execution_count": 23,
     "metadata": {},
     "output_type": "execute_result"
    }
   ],
   "source": [
    "# alternative solution\n",
    "birds_85_89 = survey_data[(survey_data[\"eventDate\"].dt.year >= 1985)\n",
    "                          & (survey_data[\"eventDate\"].dt.year <= 1989)\n",
    "                          & (survey_data['taxa'] == 'Bird')]\n",
    "birds_85_89.head()"
   ]
  },
  {
   "cell_type": "markdown",
   "metadata": {},
   "source": [
    "<div class=\"alert alert-success\">\n",
    "\n",
    "**EXERCISE**\n",
    "\n",
    "- Drop the observations for which no 'weight' (`wgt` column) information is available.\n",
    "- On the filtered data, compare the median weight for each of the species (use the `name` column)\n",
    "- Sort the output from high to low median weight (i.e. descending)\n",
    "\n",
    "__Note__ You can do this all in a single line statement, but don't have to do it as such!\n",
    "\n",
    "<details><summary>Hints</summary>\n",
    "\n",
    "- You will need `dropna`, `groupby`, `median` and `sort_values`.\n",
    "\n",
    "</details>"
   ]
  },
  {
   "cell_type": "code",
   "execution_count": 24,
   "metadata": {
    "tags": [
     "nbtutor-solution"
    ]
   },
   "outputs": [
    {
     "data": {
      "text/plain": [
       "name\n",
       "Dipodomys spectabilis         124.0\n",
       "Spermophilus spilosoma         93.5\n",
       "Sigmodon hispidus              72.0\n",
       "Sigmodon fulviventer           50.0\n",
       "Dipodomys ordii                50.0\n",
       "Sigmodon ochrognathus          49.0\n",
       "Dipodomys merriami             44.0\n",
       "Onychomys leucogaster          32.0\n",
       "Perognathus hispidus           32.0\n",
       "Chaetodipus baileyi            31.0\n",
       "Onychomys torridus             24.0\n",
       "Peromyscus eremicus            22.0\n",
       "Peromyscus maniculatus         22.0\n",
       "Onychomys sp.                  21.0\n",
       "Peromyscus leucopus            20.0\n",
       "Chaetodipus intermedius        19.5\n",
       "Chaetodipus sp.                19.0\n",
       "Chaetodipus penicillatus       17.0\n",
       "Reithrodontomys sp.            15.5\n",
       "Reithrodontomys fulvescens     13.0\n",
       "Reithrodontomys montanus       10.5\n",
       "Reithrodontomys megalotis      10.0\n",
       "Perognathus flavus              8.0\n",
       "Baiomys taylori                 8.0\n",
       "Name: wgt, dtype: float64"
      ]
     },
     "execution_count": 24,
     "metadata": {},
     "output_type": "execute_result"
    }
   ],
   "source": [
    "# Multiple lines\n",
    "obs_with_weight = survey_data.dropna(subset=[\"wgt\"])\n",
    "median_weight = obs_with_weight.groupby(['name'])[\"wgt\"].median()\n",
    "median_weight.sort_values(ascending=False)"
   ]
  },
  {
   "cell_type": "code",
   "execution_count": 25,
   "metadata": {
    "tags": [
     "nbtutor-solution"
    ]
   },
   "outputs": [
    {
     "data": {
      "text/plain": [
       "name\n",
       "Dipodomys spectabilis         124.0\n",
       "Spermophilus spilosoma         93.5\n",
       "Sigmodon hispidus              72.0\n",
       "Sigmodon fulviventer           50.0\n",
       "Dipodomys ordii                50.0\n",
       "Sigmodon ochrognathus          49.0\n",
       "Dipodomys merriami             44.0\n",
       "Onychomys leucogaster          32.0\n",
       "Perognathus hispidus           32.0\n",
       "Chaetodipus baileyi            31.0\n",
       "Onychomys torridus             24.0\n",
       "Peromyscus eremicus            22.0\n",
       "Peromyscus maniculatus         22.0\n",
       "Onychomys sp.                  21.0\n",
       "Peromyscus leucopus            20.0\n",
       "Chaetodipus intermedius        19.5\n",
       "Chaetodipus sp.                19.0\n",
       "Chaetodipus penicillatus       17.0\n",
       "Reithrodontomys sp.            15.5\n",
       "Reithrodontomys fulvescens     13.0\n",
       "Reithrodontomys montanus       10.5\n",
       "Reithrodontomys megalotis      10.0\n",
       "Perognathus flavus              8.0\n",
       "Baiomys taylori                 8.0\n",
       "Name: wgt, dtype: float64"
      ]
     },
     "execution_count": 25,
     "metadata": {},
     "output_type": "execute_result"
    }
   ],
   "source": [
    "# Single line statement\n",
    "(survey_data\n",
    "     .dropna(subset=[\"wgt\"])\n",
    "     .groupby(['name'])[\"wgt\"]\n",
    "     .median()\n",
    "     .sort_values(ascending=False)\n",
    ")"
   ]
  },
  {
   "cell_type": "markdown",
   "metadata": {},
   "source": [
    "## 4. Species abundance"
   ]
  },
  {
   "cell_type": "markdown",
   "metadata": {},
   "source": [
    "<div class=\"alert alert-success\">\n",
    "\n",
    "**EXERCISE**\n",
    "\n",
    "Which 8 species (use the `name` column to identify the different species) have been observed most over the entire data set?\n",
    "\n",
    "<details><summary>Hints</summary>\n",
    "\n",
    "- Pandas provide a function to combine sorting and showing the first n records, see [here](https://pandas.pydata.org/pandas-docs/stable/generated/pandas.DataFrame.nlargest.html)...\n",
    "\n",
    "</details>"
   ]
  },
  {
   "cell_type": "code",
   "execution_count": 26,
   "metadata": {
    "tags": [
     "nbtutor-solution"
    ]
   },
   "outputs": [
    {
     "data": {
      "text/plain": [
       "name\n",
       "Dipodomys merriami           10025\n",
       "Dipodomys ordii               2966\n",
       "Chaetodipus penicillatus      2928\n",
       "Chaetodipus baileyi           2696\n",
       "Reithrodontomys megalotis     2485\n",
       "Dipodomys spectabilis         2481\n",
       "Onychomys torridus            2220\n",
       "Perognathus flavus            1475\n",
       "dtype: int64"
      ]
     },
     "execution_count": 26,
     "metadata": {},
     "output_type": "execute_result"
    }
   ],
   "source": [
    "survey_data.groupby(\"name\").size().nlargest(8)"
   ]
  },
  {
   "cell_type": "code",
   "execution_count": 27,
   "metadata": {
    "tags": [
     "nbtutor-solution"
    ]
   },
   "outputs": [
    {
     "data": {
      "text/plain": [
       "Dipodomys merriami           10025\n",
       "Dipodomys ordii               2966\n",
       "Chaetodipus penicillatus      2928\n",
       "Chaetodipus baileyi           2696\n",
       "Reithrodontomys megalotis     2485\n",
       "Dipodomys spectabilis         2481\n",
       "Onychomys torridus            2220\n",
       "Perognathus flavus            1475\n",
       "Name: name, dtype: int64"
      ]
     },
     "execution_count": 27,
     "metadata": {},
     "output_type": "execute_result"
    }
   ],
   "source": [
    "survey_data['name'].value_counts()[:8]"
   ]
  },
  {
   "cell_type": "markdown",
   "metadata": {},
   "source": [
    "<div class=\"alert alert-success\">\n",
    "\n",
    "**EXERCISE**\n",
    "\n",
    "- What is the number of different species in each of the `verbatimLocality` plots? Use the `nunique` method. Assign the output to a new variable `n_species_per_plot`.\n",
    "- Define a Matplotlib `Figure` (`fig`) and `Axes` (`ax`) to prepare a plot. Make an horizontal bar chart using Pandas `plot` function linked to the just created Matplotlib `ax`. Each bar represents the `species per plot/verbatimLocality`. Change the y-label to 'Plot number'.\n",
    "\n",
    "<details><summary>Hints</summary>\n",
    "\n",
    "- _...in each of the..._ should provide a hint to use `groupby` for this exercise. The `nunique` is the aggregation function for each of the groups.\n",
    "- `fig, ax = plt.subplots()` prepares a Matplotlib Figure and Axes.\n",
    "\n",
    "</details>"
   ]
  },
  {
   "cell_type": "code",
   "execution_count": 28,
   "metadata": {
    "tags": [
     "nbtutor-solution"
    ]
   },
   "outputs": [
    {
     "data": {
      "text/plain": [
       "Text(0, 0.5, 'plot number')"
      ]
     },
     "execution_count": 28,
     "metadata": {},
     "output_type": "execute_result"
    },
    {
     "data": {
      "image/png": "[encoded data removed]",
      "text/plain": [
       "<Figure size 432x432 with 1 Axes>"
      ]
     },
     "metadata": {},
     "output_type": "display_data"
    }
   ],
   "source": [
    "n_species_per_plot = survey_data.groupby([\"verbatimLocality\"])[\"name\"].nunique()\n",
    "\n",
    "fig, ax = plt.subplots(figsize=(6, 6))\n",
    "n_species_per_plot.plot(kind=\"barh\", ax=ax, color=\"lightblue\")\n",
    "ax.set_ylabel(\"plot number\")\n",
    "\n",
    "# Alternative option:\n",
    "# inspired on the pivot table we already had:\n",
    "# species_per_plot = survey_data.reset_index().pivot_table(\n",
    "#     index=\"name\", columns=\"verbatimLocality\", values=\"occurrenceID\", aggfunc='count')\n",
    "# n_species_per_plot = species_per_plot.count()"
   ]
  },
  {
   "cell_type": "markdown",
   "metadata": {},
   "source": [
    "<div class=\"alert alert-success\">\n",
    "\n",
    "**EXERCISE**\n",
    "\n",
    "- What is the number of plots (`verbatimLocality`) each of the species have been observed in? Assign the output to a new variable `n_plots_per_species`. Sort the counts from low to high.\n",
    "- Make an horizontal bar chart using Pandas `plot` function to show the number of plots each of the species was found (using the `n_plots_per_species` variable).\n",
    "\n",
    "<details><summary>Hints</summary>\n",
    "\n",
    "- Use the previous exercise to solve this one.\n",
    "\n",
    "</details>"
   ]
  },
  {
   "cell_type": "code",
   "execution_count": 29,
   "metadata": {
    "tags": [
     "nbtutor-solution"
    ]
   },
   "outputs": [
    {
     "data": {
      "image/png": "[encoded data removed]",
      "text/plain": [
       "<Figure size 576x576 with 1 Axes>"
      ]
     },
     "metadata": {},
     "output_type": "display_data"
    }
   ],
   "source": [
    "n_plots_per_species = survey_data.groupby([\"name\"])[\"verbatimLocality\"].nunique().sort_values()\n",
    "\n",
    "fig, ax = plt.subplots(figsize=(8, 8))\n",
    "n_plots_per_species.plot(kind=\"barh\", ax=ax, color='0.4')\n",
    "ax.set_xlabel(\"Number of plots\");\n",
    "ax.set_ylabel(\"\");"
   ]
  },
  {
   "cell_type": "markdown",
   "metadata": {},
   "source": [
    "<div class=\"alert alert-success\">\n",
    "\n",
    "**EXERCISE**\n",
    "\n",
    "- Starting from the `survey_data`, calculate the amount of males and females present in each of the plots (`verbatimLocality`). The result should return the counts for each of the combinations of `sex` and `verbatimLocality`. Assign to a new variable `n_plot_sex` and ensure the counts are in a column named \"count\".\n",
    "- Use `pivot` to convert the `n_plot_sex` DataFrame to a new DataFrame with the `verbatimLocality` as index and `male`/`female` as column names. Assign to a new variable `pivoted`.\n",
    "\n",
    "<details><summary>Hints</summary>\n",
    "\n",
    "- _...for each of the combinations..._ `groupby` can also be used with multiple columns at the same time.\n",
    "- If a `groupby` operation gives a Series as result, you can give that Series a name with the `.rename(..)` method.\n",
    "- `reset_index()` is useful function to convert multiple indices into columns again.\n",
    "\n",
    "</details>"
   ]
  },
  {
   "cell_type": "code",
   "execution_count": 30,
   "metadata": {
    "tags": [
     "nbtutor-solution"
    ]
   },
   "outputs": [
    {
     "data": {
      "text/html": [
       "<div>\n",
       "<style scoped>\n",
       "    .dataframe tbody tr th:only-of-type {\n",
       "        vertical-align: middle;\n",
       "    }\n",
       "\n",
       "    .dataframe tbody tr th {\n",
       "        vertical-align: top;\n",
       "    }\n",
       "\n",
       "    .dataframe thead th {\n",
       "        text-align: right;\n",
       "    }\n",
       "</style>\n",
       "<table border=\"1\" class=\"dataframe\">\n",
       "  <thead>\n",
       "    <tr style=\"text-align: right;\">\n",
       "      <th></th>\n",
       "      <th>sex</th>\n",
       "      <th>verbatimLocality</th>\n",
       "      <th>count</th>\n",
       "    </tr>\n",
       "  </thead>\n",
       "  <tbody>\n",
       "    <tr>\n",
       "      <th>0</th>\n",
       "      <td>female</td>\n",
       "      <td>1</td>\n",
       "      <td>792</td>\n",
       "    </tr>\n",
       "    <tr>\n",
       "      <th>1</th>\n",
       "      <td>female</td>\n",
       "      <td>2</td>\n",
       "      <td>838</td>\n",
       "    </tr>\n",
       "    <tr>\n",
       "      <th>2</th>\n",
       "      <td>female</td>\n",
       "      <td>3</td>\n",
       "      <td>810</td>\n",
       "    </tr>\n",
       "    <tr>\n",
       "      <th>3</th>\n",
       "      <td>female</td>\n",
       "      <td>4</td>\n",
       "      <td>825</td>\n",
       "    </tr>\n",
       "    <tr>\n",
       "      <th>4</th>\n",
       "      <td>female</td>\n",
       "      <td>5</td>\n",
       "      <td>495</td>\n",
       "    </tr>\n",
       "  </tbody>\n",
       "</table>\n",
       "</div>"
      ],
      "text/plain": [
       "      sex  verbatimLocality  count\n",
       "0  female                 1    792\n",
       "1  female                 2    838\n",
       "2  female                 3    810\n",
       "3  female                 4    825\n",
       "4  female                 5    495"
      ]
     },
     "execution_count": 30,
     "metadata": {},
     "output_type": "execute_result"
    }
   ],
   "source": [
    "n_plot_sex = survey_data.groupby([\"sex\", \"verbatimLocality\"]).size().rename(\"count\").reset_index()\n",
    "n_plot_sex.head()"
   ]
  },
  {
   "cell_type": "code",
   "execution_count": 31,
   "metadata": {
    "tags": [
     "nbtutor-solution"
    ]
   },
   "outputs": [],
   "source": [
    "pivoted = n_plot_sex.pivot(columns=\"sex\", index=\"verbatimLocality\", values=\"count\")"
   ]
  },
  {
   "cell_type": "code",
   "execution_count": 32,
   "metadata": {},
   "outputs": [
    {
     "data": {
      "text/html": [
       "<div>\n",
       "<style scoped>\n",
       "    .dataframe tbody tr th:only-of-type {\n",
       "        vertical-align: middle;\n",
       "    }\n",
       "\n",
       "    .dataframe tbody tr th {\n",
       "        vertical-align: top;\n",
       "    }\n",
       "\n",
       "    .dataframe thead th {\n",
       "        text-align: right;\n",
       "    }\n",
       "</style>\n",
       "<table border=\"1\" class=\"dataframe\">\n",
       "  <thead>\n",
       "    <tr style=\"text-align: right;\">\n",
       "      <th>sex</th>\n",
       "      <th>female</th>\n",
       "      <th>male</th>\n",
       "    </tr>\n",
       "    <tr>\n",
       "      <th>verbatimLocality</th>\n",
       "      <th></th>\n",
       "      <th></th>\n",
       "    </tr>\n",
       "  </thead>\n",
       "  <tbody>\n",
       "    <tr>\n",
       "      <th>1</th>\n",
       "      <td>792</td>\n",
       "      <td>1027</td>\n",
       "    </tr>\n",
       "    <tr>\n",
       "      <th>2</th>\n",
       "      <td>838</td>\n",
       "      <td>1018</td>\n",
       "    </tr>\n",
       "    <tr>\n",
       "      <th>3</th>\n",
       "      <td>810</td>\n",
       "      <td>742</td>\n",
       "    </tr>\n",
       "    <tr>\n",
       "      <th>4</th>\n",
       "      <td>825</td>\n",
       "      <td>972</td>\n",
       "    </tr>\n",
       "    <tr>\n",
       "      <th>5</th>\n",
       "      <td>495</td>\n",
       "      <td>553</td>\n",
       "    </tr>\n",
       "  </tbody>\n",
       "</table>\n",
       "</div>"
      ],
      "text/plain": [
       "sex               female  male\n",
       "verbatimLocality              \n",
       "1                    792  1027\n",
       "2                    838  1018\n",
       "3                    810   742\n",
       "4                    825   972\n",
       "5                    495   553"
      ]
     },
     "execution_count": 32,
     "metadata": {},
     "output_type": "execute_result"
    }
   ],
   "source": [
    "pivoted.head()"
   ]
  },
  {
   "cell_type": "markdown",
   "metadata": {},
   "source": [
    "To check, we can use the variable `pivoted` to plot the result:"
   ]
  },
  {
   "cell_type": "code",
   "execution_count": 33,
   "metadata": {},
   "outputs": [
    {
     "data": {
      "text/plain": [
       "<AxesSubplot:xlabel='verbatimLocality'>"
      ]
     },
     "execution_count": 33,
     "metadata": {},
     "output_type": "execute_result"
    },
    {
     "data": {
      "image/png": "[encoded data removed]",
      "text/plain": [
       "<Figure size 864x432 with 1 Axes>"
      ]
     },
     "metadata": {},
     "output_type": "display_data"
    }
   ],
   "source": [
    "pivoted.plot(kind='bar', figsize=(12, 6), rot=0)"
   ]
  },
  {
   "cell_type": "markdown",
   "metadata": {},
   "source": [
    "<div class=\"alert alert-success\">\n",
    "\n",
    "**EXERCISE**\n",
    "\n",
    "Recreate the previous plot with the `catplot` function from the Seaborn library starting from `n_plot_sex`.\n",
    "\n",
    "<details><summary>Hints</summary>\n",
    "\n",
    "- Check the `kind` argument of the `catplot` function to figure out to specify you want a barplot with given x and y values.\n",
    "- To link a column to different colors, use the `hue` argument\n",
    "\n",
    "\n",
    "</details>"
   ]
  },
  {
   "cell_type": "code",
   "execution_count": 34,
   "metadata": {
    "tags": [
     "nbtutor-solution"
    ]
   },
   "outputs": [
    {
     "data": {
      "text/plain": [
       "<seaborn.axisgrid.FacetGrid at 0x7f8aa0ecb160>"
      ]
     },
     "execution_count": 34,
     "metadata": {},
     "output_type": "execute_result"
    },
    {
     "data": {
      "image/png": "[encoded data removed]",
      "text/plain": [
       "<Figure size 714.125x216 with 1 Axes>"
      ]
     },
     "metadata": {},
     "output_type": "display_data"
    }
   ],
   "source": [
    "sns.catplot(data=n_plot_sex, x=\"verbatimLocality\", y=\"count\",\n",
    "            hue=\"sex\", kind=\"bar\", height=3, aspect=3)"
   ]
  },
  {
   "cell_type": "markdown",
   "metadata": {},
   "source": [
    "<div class=\"alert alert-success\">\n",
    "\n",
    "**EXERCISE**\n",
    "\n",
    "Recreate the previous plot with the `catplot` function from the Seaborn library directly starting from `survey_data`.\n",
    "\n",
    "<details><summary>Hints</summary>\n",
    "\n",
    "- Check the `kind`argument of the `catplot` function to find out how to use counts to define the bars instead of a `y` value.\n",
    "- To link a column to different colors, use the `hue` argument\n",
    "\n",
    "\n",
    "</details>"
   ]
  },
  {
   "cell_type": "code",
   "execution_count": 35,
   "metadata": {
    "tags": [
     "nbtutor-solution"
    ]
   },
   "outputs": [
    {
     "data": {
      "text/plain": [
       "<seaborn.axisgrid.FacetGrid at 0x7f8aa0cdb610>"
      ]
     },
     "execution_count": 35,
     "metadata": {},
     "output_type": "execute_result"
    },
    {
     "data": {
      "image/png": "[encoded data removed]",
      "text/plain": [
       "<Figure size 714.125x216 with 1 Axes>"
      ]
     },
     "metadata": {},
     "output_type": "display_data"
    }
   ],
   "source": [
    "sns.catplot(data=survey_data, x=\"verbatimLocality\",\n",
    "            hue=\"sex\", kind=\"count\", height=3, aspect=3)"
   ]
  },
  {
   "cell_type": "markdown",
   "metadata": {},
   "source": [
    "<div class=\"alert alert-success\">\n",
    "\n",
    "**EXERCISE**\n",
    "\n",
    "- Make a summary table with the number of records of each of the species in each of the plots (also called `verbatimLocality`). Each of the species `name`s is a row index and each of the `verbatimLocality` plots is a column name.\n",
    "- Using the Seaborn <a href=\"http://seaborn.pydata.org/generated/seaborn.heatmap.html\">documentation</a> to make a heatmap.\n",
    "\n",
    "<details><summary>Hints</summary>\n",
    "\n",
    "- Make sure to pass the correct columns to respectively the `index`, `columns`, `values` and `aggfunc` parameters of the `pivot_table` function. You can use the `datasetName` to count the number of observations for each name/locality combination (when counting rows, the exact column doesn't matter).\n",
    "\n",
    "</details>"
   ]
  },
  {
   "cell_type": "code",
   "execution_count": 35,
   "metadata": {
    "tags": [
     "nbtutor-solution"
    ]
   },
   "outputs": [],
   "source": [
    "species_per_plot = survey_data.pivot_table(index=\"name\",\n",
    "                                           columns=\"verbatimLocality\",\n",
    "                                           values=\"datasetName\",\n",
    "                                           aggfunc='count')\n",
    "\n",
    "# alternative ways to calculate this\n",
    "#species_per_plot = survey_data.groupby(['name', 'verbatimLocality']).size().unstack(level=-1)\n",
    "#pecies_per_plot = pd.crosstab(survey_data['name'], survey_data['verbatimLocality'])"
   ]
  },
  {
   "cell_type": "code",
   "execution_count": 36,
   "metadata": {
    "tags": [
     "nbtutor-solution"
    ]
   },
   "outputs": [
    {
     "data": {
      "text/plain": [
       "<AxesSubplot:xlabel='verbatimLocality', ylabel='name'>"
      ]
     },
     "execution_count": 36,
     "metadata": {},
     "output_type": "execute_result"
    },
    {
     "data": {
      "image/png": "[encoded data removed]",
      "text/plain": [
       "<Figure size 576x576 with 2 Axes>"
      ]
     },
     "metadata": {},
     "output_type": "display_data"
    }
   ],
   "source": [
    "fig, ax = plt.subplots(figsize=(8,8))\n",
    "sns.heatmap(species_per_plot, ax=ax, cmap='Greens')"
   ]
  },
  {
   "cell_type": "markdown",
   "metadata": {},
   "source": [
    "## 5. Observations over time"
   ]
  },
  {
   "cell_type": "markdown",
   "metadata": {},
   "source": [
    "<div class=\"alert alert-success\">\n",
    "\n",
    "**EXERCISE**\n",
    "\n",
    "Make a plot visualizing the evolution of the number of observations for each of the individual __years__ (i.e. annual counts) using the `resample` method.\n",
    "\n",
    "<details><summary>Hints</summary>\n",
    "\n",
    "- You want to `resample` the data using the `eventDate` column to create annual counts. If the index is not a datetime-index, you can use the `on=` keyword to specify which datetime column to use.\n",
    "- `resample` needs an aggregation function on how to combine the values within a single 'group' (in this case data within a year). In this example, we want to know the `size` of each group, i.e. the number of records within each year.\n",
    "\n",
    "</details>"
   ]
  },
  {
   "cell_type": "code",
   "execution_count": 37,
   "metadata": {
    "tags": [
     "nbtutor-solution"
    ]
   },
   "outputs": [
    {
     "data": {
      "text/plain": [
       "<AxesSubplot:xlabel='eventDate'>"
      ]
     },
     "execution_count": 37,
     "metadata": {},
     "output_type": "execute_result"
    },
    {
     "data": {
      "image/png": "[encoded data removed]",
      "text/plain": [
       "<Figure size 432x288 with 1 Axes>"
      ]
     },
     "metadata": {},
     "output_type": "display_data"
    }
   ],
   "source": [
    "survey_data.resample('A', on='eventDate').size().plot()"
   ]
  },
  {
   "cell_type": "markdown",
   "metadata": {},
   "source": [
    "To evaluate the intensity or number of occurrences during different time spans, a heatmap is an interesting representation."
   ]
  },
  {
   "cell_type": "markdown",
   "metadata": {},
   "source": [
    "<div class=\"alert alert-success\">\n",
    "\n",
    "**EXERCISE**\n",
    "\n",
    "- Create a table, called `heatmap_prep`, based on the `survey_data` DataFrame with the row index the individual years, in the column the months of the year (1-> 12) and as values of the table, the counts for each of these year/month combinations.\n",
    "- Using the seaborn <a href=\"http://seaborn.pydata.org/generated/seaborn.heatmap.html\">documentation</a>, make a heatmap starting from the `heatmap_prep` variable.\n",
    "\n",
    "<details><summary>Hints</summary>\n",
    "\n",
    "- The `.dt` accessor can be used to get the `year`, `month`,... from a `datetime` column\n",
    "- Use `pivot_table` and provide the years to `index` and the months to `columns`. Do not forget to `count` the number for each combination (`aggfunc`).\n",
    "- Seaborn has an `heatmap` function which requires a short-form DataFrame, comparable to giving each element in a table a color value.\n",
    "\n",
    "</details>"
   ]
  },
  {
   "cell_type": "code",
   "execution_count": 39,
   "metadata": {
    "tags": [
     "nbtutor-solution"
    ]
   },
   "outputs": [
    {
     "data": {
      "image/png": "[encoded data removed]",
      "text/plain": [
       "<Figure size 720x576 with 2 Axes>"
      ]
     },
     "metadata": {},
     "output_type": "display_data"
    }
   ],
   "source": [
    "heatmap_prep = survey_data.pivot_table(index=survey_data['eventDate'].dt.year,\n",
    "                                       columns=survey_data['eventDate'].dt.month,\n",
    "                                       values='species', aggfunc='count')\n",
    "fig, ax = plt.subplots(figsize=(10, 8))\n",
    "ax = sns.heatmap(heatmap_prep, cmap='Reds')"
   ]
  },
  {
   "cell_type": "markdown",
   "metadata": {},
   "source": [
    "Remark that we started from a `tidy` data format (also called *long* format) and converted to *short* format with in the row index the years, in the column the months and the counts for each of these year/month combinations as values."
   ]
  },
  {
   "cell_type": "markdown",
   "metadata": {},
   "source": [
    "## (OPTIONAL SECTION) 6. Evolution of species during monitoring period"
   ]
  },
  {
   "cell_type": "markdown",
   "metadata": {},
   "source": [
    "*In this section, all plots can be made with the embedded Pandas plot function, unless specificly asked*"
   ]
  },
  {
   "cell_type": "markdown",
   "metadata": {},
   "source": [
    "<div class=\"alert alert-success\">\n",
    "\n",
    "**EXERCISE**\n",
    "\n",
    "Plot using Pandas `plot` function the number of records for `Dipodomys merriami` for each month of the year (January (1) -> December (12)), aggregated over all years.\n",
    "\n",
    "<details><summary>Hints</summary>\n",
    "\n",
    "- _...for each month of..._ requires `groupby`.\n",
    "- `resample` is not useful here, as we do not want to change the time-interval, but look at month of the year (over all years)\n",
    "\n",
    "</details>"
   ]
  },
  {
   "cell_type": "code",
   "execution_count": 40,
   "metadata": {
    "tags": [
     "nbtutor-solution"
    ]
   },
   "outputs": [],
   "source": [
    "merriami = survey_data[survey_data[\"name\"] == \"Dipodomys merriami\"]"
   ]
  },
  {
   "cell_type": "code",
   "execution_count": 41,
   "metadata": {
    "tags": [
     "nbtutor-solution"
    ]
   },
   "outputs": [
    {
     "data": {
      "image/png": "[encoded data removed]",
      "text/plain": [
       "<Figure size 432x288 with 1 Axes>"
      ]
     },
     "metadata": {},
     "output_type": "display_data"
    }
   ],
   "source": [
    "fig, ax = plt.subplots()\n",
    "merriami.groupby(merriami['eventDate'].dt.month).size().plot(kind=\"barh\", ax=ax)\n",
    "ax.set_xlabel(\"number of occurrences\");\n",
    "ax.set_ylabel(\"Month of the year\");"
   ]
  },
  {
   "cell_type": "markdown",
   "metadata": {},
   "source": [
    "<div class=\"alert alert-success\">\n",
    "\n",
    "**EXERCISE**\n",
    "\n",
    "Plot, for the species 'Dipodomys merriami', 'Dipodomys ordii', 'Reithrodontomys megalotis' and 'Chaetodipus baileyi', the monthly number of records as a function of time during the monitoring period. Plot each of the individual species in a separate subplot and provide them all with the same y-axis scale\n",
    "\n",
    "<details><summary>Hints</summary>\n",
    "\n",
    "- `isin` is useful to select from within a list of elements.\n",
    "- `groupby` AND `resample` need to be combined. We do want to change the time-interval to represent data as a function of time (`resample`) and we want to do this _for each name/species_ (`groupby`). The order matters!\n",
    "- `unstack` is a Pandas function a bit similar to `pivot`. Check the [unstack documentation](https://pandas.pydata.org/docs/reference/api/pandas.DataFrame.unstack.html) as it might be helpful for this exercise.\n",
    "\n",
    "</details>"
   ]
  },
  {
   "cell_type": "code",
   "execution_count": 42,
   "metadata": {
    "tags": [
     "nbtutor-solution"
    ]
   },
   "outputs": [],
   "source": [
    "subsetspecies = survey_data[survey_data[\"name\"].isin(['Dipodomys merriami', 'Dipodomys ordii',\n",
    "                                                      'Reithrodontomys megalotis', 'Chaetodipus baileyi'])]"
   ]
  },
  {
   "cell_type": "code",
   "execution_count": 43,
   "metadata": {
    "tags": [
     "nbtutor-solution"
    ]
   },
   "outputs": [],
   "source": [
    "month_evolution = subsetspecies.groupby(\"name\").resample('M', on='eventDate').size()"
   ]
  },
  {
   "cell_type": "code",
   "execution_count": 45,
   "metadata": {
    "tags": [
     "nbtutor-solution"
    ]
   },
   "outputs": [
    {
     "data": {
      "image/png": "[encoded data removed]",
      "text/plain": [
       "<Figure size 1008x576 with 4 Axes>"
      ]
     },
     "metadata": {},
     "output_type": "display_data"
    }
   ],
   "source": [
    "species_evolution = month_evolution.unstack(level=0)\n",
    "axs = species_evolution.plot(subplots=True, figsize=(14, 8), sharey=True)"
   ]
  },
  {
   "cell_type": "markdown",
   "metadata": {},
   "source": [
    "<div class=\"alert alert-success\">\n",
    "\n",
    "**EXERCISE**\n",
    "\n",
    "Recreate the same plot as in the previous exercise using Seaborn `relplot` functon with the `month_evolution` variable.\n",
    "    \n",
    "<details><summary>Hints</summary>\n",
    "\n",
    "- We want to have the `counts` as a function of `eventDate`, so link these columns to y and x respectively.\n",
    "- To create subplots in Seaborn, the usage of _facetting_ (splitting data sets to multiple facets) is used by linking a column name to the `row`/`col` parameter. \n",
    "- Using `height` and `widht`, the figure size can be optimized.\n",
    "    \n",
    "</details>"
   ]
  },
  {
   "cell_type": "markdown",
   "metadata": {},
   "source": [
    "Uncomment the next cell (calculates `month_evolution`, the intermediate result of the previous excercise):"
   ]
  },
  {
   "cell_type": "code",
   "execution_count": 46,
   "metadata": {
    "tags": [
     "nbtutor-solution"
    ]
   },
   "outputs": [
    {
     "data": {
      "text/html": [
       "<div>\n",
       "<style scoped>\n",
       "    .dataframe tbody tr th:only-of-type {\n",
       "        vertical-align: middle;\n",
       "    }\n",
       "\n",
       "    .dataframe tbody tr th {\n",
       "        vertical-align: top;\n",
       "    }\n",
       "\n",
       "    .dataframe thead th {\n",
       "        text-align: right;\n",
       "    }\n",
       "</style>\n",
       "<table border=\"1\" class=\"dataframe\">\n",
       "  <thead>\n",
       "    <tr style=\"text-align: right;\">\n",
       "      <th></th>\n",
       "      <th>name</th>\n",
       "      <th>eventDate</th>\n",
       "      <th>counts</th>\n",
       "    </tr>\n",
       "  </thead>\n",
       "  <tbody>\n",
       "    <tr>\n",
       "      <th>0</th>\n",
       "      <td>Chaetodipus baileyi</td>\n",
       "      <td>1995-09-30</td>\n",
       "      <td>1</td>\n",
       "    </tr>\n",
       "    <tr>\n",
       "      <th>1</th>\n",
       "      <td>Chaetodipus baileyi</td>\n",
       "      <td>1995-10-31</td>\n",
       "      <td>3</td>\n",
       "    </tr>\n",
       "    <tr>\n",
       "      <th>2</th>\n",
       "      <td>Chaetodipus baileyi</td>\n",
       "      <td>1995-11-30</td>\n",
       "      <td>0</td>\n",
       "    </tr>\n",
       "    <tr>\n",
       "      <th>3</th>\n",
       "      <td>Chaetodipus baileyi</td>\n",
       "      <td>1995-12-31</td>\n",
       "      <td>3</td>\n",
       "    </tr>\n",
       "    <tr>\n",
       "      <th>4</th>\n",
       "      <td>Chaetodipus baileyi</td>\n",
       "      <td>1996-01-31</td>\n",
       "      <td>3</td>\n",
       "    </tr>\n",
       "  </tbody>\n",
       "</table>\n",
       "</div>"
      ],
      "text/plain": [
       "                  name  eventDate  counts\n",
       "0  Chaetodipus baileyi 1995-09-30       1\n",
       "1  Chaetodipus baileyi 1995-10-31       3\n",
       "2  Chaetodipus baileyi 1995-11-30       0\n",
       "3  Chaetodipus baileyi 1995-12-31       3\n",
       "4  Chaetodipus baileyi 1996-01-31       3"
      ]
     },
     "execution_count": 46,
     "metadata": {},
     "output_type": "execute_result"
    }
   ],
   "source": [
    "# Given as solution..\n",
    "subsetspecies = survey_data[survey_data[\"name\"].isin(['Dipodomys merriami', 'Dipodomys ordii',\n",
    "                                                      'Reithrodontomys megalotis', 'Chaetodipus baileyi'])]\n",
    "month_evolution = subsetspecies.groupby(\"name\").resample('M', on='eventDate').size().rename(\"counts\")\n",
    "month_evolution = month_evolution.reset_index()\n",
    "month_evolution.head()"
   ]
  },
  {
   "cell_type": "markdown",
   "metadata": {},
   "source": [
    "Plotting with seaborn:"
   ]
  },
  {
   "cell_type": "code",
   "execution_count": 47,
   "metadata": {
    "tags": [
     "nbtutor-solution"
    ]
   },
   "outputs": [
    {
     "data": {
      "text/plain": [
       "<seaborn.axisgrid.FacetGrid at 0x7f2d18b7f0a0>"
      ]
     },
     "execution_count": 47,
     "metadata": {},
     "output_type": "execute_result"
    },
    {
     "data": {
      "image/png": "[encoded data removed]",
      "text/plain": [
       "<Figure size 878.125x576 with 4 Axes>"
      ]
     },
     "metadata": {},
     "output_type": "display_data"
    }
   ],
   "source": [
    "sns.relplot(data=month_evolution, x='eventDate', y=\"counts\",\n",
    "            row=\"name\", kind=\"line\", hue=\"name\", height=2, aspect=5)"
   ]
  },
  {
   "cell_type": "markdown",
   "metadata": {},
   "source": [
    "<div class=\"alert alert-success\">\n",
    "\n",
    "**EXERCISE**\n",
    "\n",
    "Plot the annual amount of occurrences for each of the 'taxa' as a function of time using Seaborn. Plot each taxa in a separate subplot and do not share the y-axis among the facets.\n",
    "\n",
    "<details><summary>Hints</summary>\n",
    "\n",
    "- Combine `resample` and `groupby`!\n",
    "- Check out the previous exercise for the plot function.\n",
    "- Pass the `sharey=False` to the `facet_kws` argument as a dictionary.\n",
    "\n",
    "</details>"
   ]
  },
  {
   "cell_type": "code",
   "execution_count": 48,
   "metadata": {
    "tags": [
     "nbtutor-solution"
    ]
   },
   "outputs": [],
   "source": [
    "year_evolution = survey_data.groupby(\"taxa\").resample('A', on='eventDate').size()\n",
    "year_evolution.name = \"counts\"\n",
    "year_evolution = year_evolution.reset_index()"
   ]
  },
  {
   "cell_type": "code",
   "execution_count": 49,
   "metadata": {
    "tags": [
     "nbtutor-solution"
    ]
   },
   "outputs": [
    {
     "data": {
      "text/plain": [
       "<seaborn.axisgrid.FacetGrid at 0x7f2d188d4a30>"
      ]
     },
     "execution_count": 49,
     "metadata": {},
     "output_type": "execute_result"
    },
    {
     "data": {
      "image/png": "[encoded data removed]",
      "text/plain": [
       "<Figure size 1440x432 with 5 Axes>"
      ]
     },
     "metadata": {},
     "output_type": "display_data"
    }
   ],
   "source": [
    "sns.relplot(data=year_evolution, x='eventDate', y=\"counts\",\n",
    "            col=\"taxa\", col_wrap=2, kind=\"line\", height=2, aspect=5,\n",
    "            facet_kws={\"sharey\": False})"
   ]
  },
  {
   "cell_type": "markdown",
   "metadata": {},
   "source": [
    "<div class=\"alert alert-success\">\n",
    "\n",
    "**EXERCISE**\n",
    "\n",
    "The observations where taken by volunteers. You wonder on which day of the week the most observations where done. Calculate for each day of the week (`dayofweek`) the number of observations and make a bar plot.\n",
    "\n",
    "<details><summary>Hints</summary>\n",
    "\n",
    "- Did you know the Python standard Library has a module `calendar` which contains names of week days, month names,...?\n",
    "\n",
    "</details>"
   ]
  },
  {
   "cell_type": "code",
   "execution_count": 44,
   "metadata": {
    "tags": [
     "nbtutor-solution"
    ]
   },
   "outputs": [
    {
     "data": {
      "image/png": "[encoded data removed]",
      "text/plain": [
       "<Figure size 432x288 with 1 Axes>"
      ]
     },
     "metadata": {},
     "output_type": "display_data"
    }
   ],
   "source": [
    "fig, ax = plt.subplots()\n",
    "survey_data.groupby(survey_data[\"eventDate\"].dt.dayofweek).size().plot(kind='barh', color='#66b266', ax=ax)\n",
    "import calendar\n",
    "xticks = ax.set_yticklabels(calendar.day_name)"
   ]
  },
  {
   "cell_type": "markdown",
   "metadata": {},
   "source": [
    "Nice work!"
   ]
  }
 ],
 "metadata": {
  "celltoolbar": "Nbtutor - export exercises",
  "jupytext": {
   "formats": "ipynb,md:myst"
  },
  "kernelspec": {
   "display_name": "Python 3 (ipykernel)",
   "language": "python",
   "name": "python3"
  },
  "language_info": {
   "codemirror_mode": {
    "name": "ipython",
    "version": 3
   },
   "file_extension": ".py",
   "mimetype": "text/x-python",
   "name": "python",
   "nbconvert_exporter": "python",
   "pygments_lexer": "ipython3",
   "version": "3.9.7"
  },
  "nav_menu": {},
  "toc": {
   "navigate_menu": true,
   "number_sections": true,
   "sideBar": true,
   "threshold": 6,
   "toc_cell": false,
   "toc_section_display": "block",
   "toc_window_display": true
  },
  "widgets": {
   "application/vnd.jupyter.widget-state+json": {
    "state": {},
    "version_major": 2,
    "version_minor": 0
   }
  }
 },
 "nbformat": 4,
 "nbformat_minor": 4
}
