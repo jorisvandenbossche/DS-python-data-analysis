{
 "cells": [
  {
   "cell_type": "code",
   "execution_count": null,
   "metadata": {
    "jupyter": {
     "outputs_hidden": true
    }
   },
   "outputs": [],
   "source": [
    "%matplotlib inline"
   ]
  },
  {
   "cell_type": "code",
   "execution_count": null,
   "metadata": {
    "jupyter": {
     "outputs_hidden": true
    }
   },
   "outputs": [],
   "source": [
    "import numpy as np\n",
    "import pandas as pd\n",
    "import matplotlib.pyplot as plt"
   ]
  },
  {
   "cell_type": "markdown",
   "metadata": {},
   "source": [
    "# Phase 1: testing/mungling/... (notebook `.ipynb`)"
   ]
  },
  {
   "cell_type": "code",
   "execution_count": null,
   "metadata": {},
   "outputs": [],
   "source": [
    "data = pd.read_csv(\"../data/vmm_flowdata.csv\", parse_dates=True, index_col=0).dropna()"
   ]
  },
  {
   "cell_type": "code",
   "execution_count": null,
   "metadata": {},
   "outputs": [],
   "source": [
    "data.head()"
   ]
  },
  {
   "cell_type": "markdown",
   "metadata": {},
   "source": [
    "## Implementing a model evaluation criteria"
   ]
  },
  {
   "cell_type": "markdown",
   "metadata": {},
   "source": [
    "Root mean squared error (**numpy** based) - testing of function"
   ]
  },
  {
   "cell_type": "code",
   "execution_count": null,
   "metadata": {
    "jupyter": {
     "outputs_hidden": true
    }
   },
   "outputs": [],
   "source": [
    "modelled = data[\"L06_347\"].values\n",
    "observed = data[\"LS06_347\"].values"
   ]
  },
  {
   "cell_type": "code",
   "execution_count": null,
   "metadata": {
    "jupyter": {
     "outputs_hidden": true
    }
   },
   "outputs": [],
   "source": [
    "residuals = observed - modelled"
   ]
  },
  {
   "cell_type": "code",
   "execution_count": null,
   "metadata": {},
   "outputs": [],
   "source": [
    "np.sqrt((residuals**2).mean())"
   ]
  },
  {
   "cell_type": "markdown",
   "metadata": {},
   "source": [
    "Converting this to a small function, to easily reuse the code - **[add docstring(!)](http://sphinxcontrib-napoleon.readthedocs.io/en/latest/example_numpy.html)**:"
   ]
  },
  {
   "cell_type": "code",
   "execution_count": null,
   "metadata": {
    "jupyter": {
     "outputs_hidden": true
    }
   },
   "outputs": [],
   "source": [
    "def root_mean_square_error(observed, modelled):\n",
    "    '''\n",
    "    Root Mean Square Error (RMSE)\n",
    "\n",
    "    Parameters\n",
    "    -----------\n",
    "    observed : np.ndarray or pd.DataFrame\n",
    "        observed/measured values of the variable\n",
    "    observed : np.ndarray or pd.DataFrame\n",
    "        simulated values of the variable\n",
    "        \n",
    "    Notes\n",
    "    -------\n",
    "    * range: [0, inf]\n",
    "    * optimum: 0\n",
    "    '''\n",
    "    residuals = observed - modelled\n",
    "    return np.sqrt((residuals**2).mean())"
   ]
  },
  {
   "cell_type": "markdown",
   "metadata": {},
   "source": [
    "Test the created function:"
   ]
  },
  {
   "cell_type": "code",
   "execution_count": null,
   "metadata": {},
   "outputs": [],
   "source": [
    "root_mean_square_error(data[\"L06_347\"].values, data[\"LS06_347\"].values)"
   ]
  },
  {
   "cell_type": "code",
   "execution_count": null,
   "metadata": {},
   "outputs": [],
   "source": [
    "#root_mean_square_error() # remove the comment, SHIFT-TAB inside the brackets and see your own docstring"
   ]
  },
  {
   "cell_type": "markdown",
   "metadata": {},
   "source": [
    "Very brief basic/minimal setup of a docstring:\n",
    "\n",
    "    '''very brief one-line function description\n",
    "    A more extended description about the function...\n",
    "    ...which can take multiple lines if required\n",
    "\n",
    "    Parameters\n",
    "    -----------\n",
    "    inputname1 : dtype of inputname1\n",
    "        description of the first input \n",
    "    inputname2 : dtype of inputname2\n",
    "        description of the second input \n",
    "    ...\n",
    "    \n",
    "    Returns\n",
    "    -------\n",
    "    out1 : dtype of output\n",
    "        description of the first output\n",
    "    ...\n",
    "        \n",
    "    Notes\n",
    "    -------\n",
    "    Some information about your function,...\n",
    "    '''\n",
    "\n",
    "\n",
    "## Making a plot function"
   ]
  },
  {
   "cell_type": "markdown",
   "metadata": {},
   "source": [
    "When making the plot, I still want the degrees of freedom to change the colors, linewidt,.. of the figure when using my figure:"
   ]
  },
  {
   "cell_type": "markdown",
   "metadata": {},
   "source": [
    "Compare:"
   ]
  },
  {
   "cell_type": "code",
   "execution_count": null,
   "metadata": {},
   "outputs": [],
   "source": [
    "fig, axs = plt.subplots()    \n",
    "axs.scatter(data[\"L06_347\"].values, data[\"LS06_347\"].values, \n",
    "            color=\"#992600\", s=50, edgecolor='white')\n",
    "axs.set_aspect('equal')"
   ]
  },
  {
   "cell_type": "markdown",
   "metadata": {},
   "source": [
    "with:"
   ]
  },
  {
   "cell_type": "code",
   "execution_count": null,
   "metadata": {},
   "outputs": [],
   "source": [
    "fig, axs = plt.subplots()    \n",
    "axs.scatter(data[\"L06_347\"].values, data[\"LS06_347\"].values, \n",
    "            color=\"#009999\", s=150, edgecolor='0.3')\n",
    "axs.set_aspect('equal')"
   ]
  },
  {
   "cell_type": "markdown",
   "metadata": {},
   "source": [
    "When making a plot function, you want to keep this flexibility. \n",
    "\n",
    "Some options:\n",
    "* use the `args, kwargs` construction, which provides the option to pipe a flexible amount of inputs from your function input towards the plot function\n",
    "* Adapt everything on a `ax` object in order to make result further adaptable afterwards (# you don't have to return the ax, but you actually can)"
   ]
  },
  {
   "cell_type": "code",
   "execution_count": null,
   "metadata": {
    "jupyter": {
     "outputs_hidden": true
    }
   },
   "outputs": [],
   "source": [
    "def dummy_plot_wrapper(ax, *args, **kwargs):\n",
    "    \"\"\"small example function to illustrate some plot concepts\"\"\"\n",
    "    x = np.linspace(1, 5, 30)\n",
    "    ax.plot(x, x**2, *args, **kwargs)"
   ]
  },
  {
   "cell_type": "markdown",
   "metadata": {},
   "source": [
    "With this setup, you have the following degrees of freedom:"
   ]
  },
  {
   "cell_type": "markdown",
   "metadata": {},
   "source": [
    "<p style=\"color#A9A9A9;  font-size: 1.3em;\">\n",
    "- without usage of additional arguments, but adapting the ax object further outside my function:\n",
    "</p>"
   ]
  },
  {
   "cell_type": "code",
   "execution_count": null,
   "metadata": {},
   "outputs": [],
   "source": [
    "fig, ax = plt.subplots()\n",
    "dummy_plot_wrapper(ax)\n",
    "ax.set_ylabel('Putting the label should not \\nbe inside my custom function')"
   ]
  },
  {
   "cell_type": "markdown",
   "metadata": {},
   "source": [
    "Working on the ax-object inside a function, also provides flexibility to use the same function (or two functions) to fill different subplots of matplotlib:"
   ]
  },
  {
   "cell_type": "code",
   "execution_count": null,
   "metadata": {},
   "outputs": [],
   "source": [
    "fig, (ax1, ax2) = plt.subplots(2, 1, figsize=(10, 6))\n",
    "dummy_plot_wrapper(ax1, 'r-')\n",
    "dummy_plot_wrapper(ax2, 'b--')"
   ]
  },
  {
   "cell_type": "markdown",
   "metadata": {},
   "source": [
    "<p style=\"color#A9A9A9;  font-size: 1.3em;\">\n",
    "- adding additional style features with providing additional arguments:\n",
    "</p>"
   ]
  },
  {
   "cell_type": "markdown",
   "metadata": {},
   "source": [
    "(As we pipe the arguments to the plot() function of matplotlib, the choices of the additional arguments are the plot options of matplotlib itself: http://matplotlib.org/api/lines_api.html#matplotlib.lines.Line2D)"
   ]
  },
  {
   "cell_type": "code",
   "execution_count": null,
   "metadata": {},
   "outputs": [],
   "source": [
    "fig, ax = plt.subplots()\n",
    "dummy_plot_wrapper(ax, linestyle='--', linewidth=3, color=\"#990000\")\n",
    "ax.set_ylabel('Putting the label should not \\nbe nside my custom function')"
   ]
  },
  {
   "cell_type": "markdown",
   "metadata": {},
   "source": [
    "<p style=\"color#A9A9A9;  font-size: 1.3em;\">\n",
    "- adding additional style features with providing additional arguments and adapting the graph afterwards:\n",
    "</p>"
   ]
  },
  {
   "cell_type": "code",
   "execution_count": null,
   "metadata": {},
   "outputs": [],
   "source": [
    "fig, ax = plt.subplots(figsize=(10, 6))\n",
    "dummy_plot_wrapper(ax, linewidth=2, color=\"#67a9cf\", \n",
    "                   marker='o', linestyle='--', \n",
    "                   markeredgecolor='#ef8a62', \n",
    "                   markersize=15,\n",
    "                   markeredgewidth=2) \n",
    "\n",
    "# removing the spines of the graph afterwards\n",
    "for key, spine in ax.spines.items():\n",
    "    spine.set_visible(False)\n",
    "ax.yaxis.set_ticks_position('left')\n",
    "ax.xaxis.set_ticks_position('bottom')"
   ]
  },
  {
   "cell_type": "markdown",
   "metadata": {},
   "source": [
    "If you use an option frequently after plotting a graph (but maybe not always), it could be an option to add it with a named argument to your function:"
   ]
  },
  {
   "cell_type": "code",
   "execution_count": null,
   "metadata": {},
   "outputs": [],
   "source": [
    "def dummy_plot_wrapper(ax, remove_spines=None, *args, **kwargs):\n",
    "    \"\"\"small example function to illustrate some plot concepts\n",
    "    \n",
    "    Parameters\n",
    "    ----------\n",
    "    ax : plt.ax object\n",
    "        an axis to put the data on\n",
    "    remove_spines : None | list of 'left', 'bottom', 'right', 'top'\n",
    "        will remove the spines according to the defined sides inside the list\n",
    "    *args, **kwargs : \n",
    "        commands provided to the 2D line plot of matplotlib\n",
    "    \"\"\"\n",
    "    x = np.linspace(1, 5, 30)\n",
    "    ax.plot(x, x**2, *args, **kwargs)\n",
    "    \n",
    "    if remove_spines and isinstance(remove_spines, list):\n",
    "        for key, spine in ax.spines.items():\n",
    "            if key in remove_spines:\n",
    "                spine.set_visible(False)"
   ]
  },
  {
   "cell_type": "markdown",
   "metadata": {},
   "source": [
    "So, we added this flexibility to our own graph:"
   ]
  },
  {
   "cell_type": "code",
   "execution_count": null,
   "metadata": {},
   "outputs": [],
   "source": [
    "fig, ax = plt.subplots()\n",
    "dummy_plot_wrapper(ax, linewidth=2, color=\"#67a9cf\") # no information about removing spines, just as before -> default is used"
   ]
  },
  {
   "cell_type": "code",
   "execution_count": null,
   "metadata": {},
   "outputs": [],
   "source": [
    "fig, ax = plt.subplots()\n",
    "dummy_plot_wrapper(ax, remove_spines=['right', 'top'], \n",
    "                   linewidth=2, color=\"#67a9cf\")"
   ]
  },
  {
   "cell_type": "markdown",
   "metadata": {},
   "source": [
    "# Phase 2: I've got something useful here..."
   ]
  },
  {
   "cell_type": "markdown",
   "metadata": {},
   "source": [
    "When satisfied about the function behavior: move it to a python (`.py`) file..."
   ]
  },
  {
   "cell_type": "markdown",
   "metadata": {},
   "source": [
    "## Writing the useful elements into a function (towards python file `.py`)"
   ]
  },
  {
   "cell_type": "markdown",
   "metadata": {},
   "source": [
    "Check the file [spreaddiagram](spreaddiagram.py) as an example... \n",
    "\n",
    "\n",
    "\n",
    "**Some advice:**\n",
    "\n",
    "* Keep the functionalities small:\n",
    "    * A single function has a single task\n",
    "    * Keep the number of lines restricted (< 50 lines), unless you have good reasons\n",
    "* Write [**docstrings**](http://sphinxcontrib-napoleon.readthedocs.io/en/latest/example_numpy.html)(!)\n",
    "* Make your function more flexible with arguments and **named arguments**"
   ]
  },
  {
   "cell_type": "markdown",
   "metadata": {},
   "source": [
    "## Using your function for real (anywhere: new notebooks `.ipynb`, new `.py` files)"
   ]
  },
  {
   "cell_type": "markdown",
   "metadata": {},
   "source": [
    "Loading from my custom function"
   ]
  },
  {
   "cell_type": "code",
   "execution_count": null,
   "metadata": {
    "jupyter": {
     "outputs_hidden": true
    }
   },
   "outputs": [],
   "source": [
    "from spreaddiagram import spread_diagram, bias, root_mean_square_error"
   ]
  },
  {
   "cell_type": "markdown",
   "metadata": {},
   "source": [
    "Using my new function:"
   ]
  },
  {
   "cell_type": "code",
   "execution_count": null,
   "metadata": {},
   "outputs": [],
   "source": [
    "fig, ax = plt.subplots(figsize=(8, 8))\n",
    "\n",
    "spread_diagram(ax, data[\"L06_347\"].values, \n",
    "               data[\"LS06_347\"].values, \n",
    "               infobox = False, \n",
    "               color=\"#67a9cf\", \n",
    "               s=40)\n",
    "ax.set_ylabel(\"Modelled\", fontsize=15)\n",
    "ax.set_xlabel(\"Observed\", fontsize=15)\n",
    "ax.spines[\"right\"].set_visible(False)\n",
    "ax.spines[\"top\"].set_visible(False)\n",
    "ax.yaxis.set_ticks_position('left')\n",
    "ax.xaxis.set_ticks_position('bottom')"
   ]
  },
  {
   "cell_type": "markdown",
   "metadata": {},
   "source": [
    "**Remark**: when you have to select colors: http://colorbrewer2.org/#type=sequential&scheme=BuGn&n=3"
   ]
  },
  {
   "cell_type": "markdown",
   "metadata": {},
   "source": [
    "In many occassions, the story will end here and you will further use/adapt the function...\n",
    "\n",
    "**Advice:** use [version control](https://git-scm.com/book/en/v2/Getting-Started-About-Version-Control) and keep track of your changes! This is not only for IT-guy, with [Github desktop](https://desktop.github.com/), version control becomes accessible for everyone\n",
    "\n",
    "However, sometimes you need further adaptation:"
   ]
  },
  {
   "cell_type": "markdown",
   "metadata": {},
   "source": [
    "# Phase 3 (optional): It is a recurrent task (towards cmd/bash functionality)"
   ]
  },
  {
   "cell_type": "markdown",
   "metadata": {},
   "source": [
    "When using this on regular basis (e.g. you frequently get output text files from a model), it is worthwile to make the same functionality available outside python as well (as command line function or inside bash scripts)!"
   ]
  },
  {
   "cell_type": "markdown",
   "metadata": {},
   "source": [
    "A minimal working template:"
   ]
  },
  {
   "cell_type": "code",
   "execution_count": null,
   "metadata": {},
   "outputs": [],
   "source": [
    "%%file puretest.py\n",
    "\n",
    "import sys\n",
    "\n",
    "\n",
    "def main(argv=None):\n",
    "    # first argument argv[0] is always the python file name itself\n",
    "    print('Working on the', argv[0], 'file, with the argument', argv[1]) \n",
    "    \n",
    "\n",
    "if __name__ == \"__main__\":\n",
    "    sys.exit(main(sys.argv))    "
   ]
  },
  {
   "cell_type": "markdown",
   "metadata": {},
   "source": [
    "**Want to dive into the command line options?**\n",
    "* example with more advanced arguments: https://github.com/inbo/inbo-pyutils/blob/master/gbif/gbif_name_match/gbif_species_name_match.py\n",
    "* pure python library to support you on the argument parsing: https://docs.python.org/3/library/argparse.html\n",
    "* library for more advanced support (eacy creation of cmd interface): http://click.pocoo.org/5/"
   ]
  },
  {
   "cell_type": "markdown",
   "metadata": {},
   "source": [
    "# Phase 4 (optional): You need more python power (towards python package)"
   ]
  },
  {
   "cell_type": "markdown",
   "metadata": {},
   "source": [
    "* When working together with other people on the code, \n",
    "* when requiring more advance management of the code, \n",
    "* when installation on new machines should be more easy\n",
    "* when you want to make your code installable by others\n",
    "* ..."
   ]
  },
  {
   "cell_type": "markdown",
   "metadata": {},
   "source": [
    "**Create a package from your code...**"
   ]
  },
  {
   "cell_type": "markdown",
   "metadata": {},
   "source": [
    "As an example: https://github.com/inbo/data-validator"
   ]
  },
  {
   "cell_type": "markdown",
   "metadata": {},
   "source": [
    "* Actually it is not that much more as a set of files in a folder accompanied with a `setup.py` file\n",
    "* register on [pypi](https://pypi.python.org/pypi) and people can install your code with: `pip install your_awesome_package_name`\n",
    "* Take advantage of **unit testing**, **code coverage**,... the enlightning path of code development!"
   ]
  }
 ],
 "metadata": {
  "jupytext": {
   "formats": "ipynb,md:myst"
  },
  "kernelspec": {
   "display_name": "Python 3 (ipykernel)",
   "language": "python",
   "name": "python3"
  },
  "language_info": {
   "codemirror_mode": {
    "name": "ipython",
    "version": 3
   },
   "file_extension": ".py",
   "mimetype": "text/x-python",
   "name": "python",
   "nbconvert_exporter": "python",
   "pygments_lexer": "ipython3",
   "version": "3.11.5"
  },
  "nav_menu": {},
  "toc": {
   "navigate_menu": true,
   "number_sections": true,
   "sideBar": true,
   "threshold": 6,
   "toc_cell": false,
   "toc_section_display": "block",
   "toc_window_display": true
  }
 },
 "nbformat": 4,
 "nbformat_minor": 4
}
