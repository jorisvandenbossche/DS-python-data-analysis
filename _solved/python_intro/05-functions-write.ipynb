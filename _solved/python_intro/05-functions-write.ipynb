{
 "cells": [
  {
   "cell_type": "markdown",
   "metadata": {
    "editable": true,
    "slideshow": {
     "slide_type": ""
    }
   },
   "source": [
    "# Writing Functions\n",
    "\n",
    "> *© 2021, Joris Van den Bossche and Stijn Van Hoey  (<mailto:jorisvandenbossche@gmail.com>, <mailto:stijnvanhoey@gmail.com>). Licensed under [CC BY 4.0 Creative Commons](http://creativecommons.org/licenses/by/4.0/)*\n",
    "\n",
    "---\n",
    "\n",
    "> This notebook is based on material of the [*Python Scientific Lecture Notes*](https://scipy-lectures.github.io/), the [*Software Carptentry: Programming with Python gapminder course*](https://swcarpentry.github.io/python-novice-gapminder) and the [*Software Carptentry: Programming with Python inflammation course*](https://swcarpentry.github.io/python-novice-inflammation/)."
   ]
  },
  {
   "cell_type": "code",
   "execution_count": 28,
   "metadata": {
    "editable": true,
    "slideshow": {
     "slide_type": ""
    }
   },
   "outputs": [],
   "source": [
    "import math"
   ]
  },
  {
   "cell_type": "markdown",
   "metadata": {
    "editable": true,
    "slideshow": {
     "slide_type": ""
    }
   },
   "source": [
    "## Introduction"
   ]
  },
  {
   "cell_type": "markdown",
   "metadata": {
    "editable": true,
    "slideshow": {
     "slide_type": ""
    }
   },
   "source": [
    "What if we want to convert some of our data, like taking a temperature in Fahrenheit and converting it to Celsius. We could write something like this for converting a single number:"
   ]
  },
  {
   "cell_type": "code",
   "execution_count": 29,
   "metadata": {
    "editable": true,
    "slideshow": {
     "slide_type": ""
    }
   },
   "outputs": [],
   "source": [
    "fahrenheit_val = 99\n",
    "celsius_val = ((fahrenheit_val - 32) * (5/9))"
   ]
  },
  {
   "cell_type": "markdown",
   "metadata": {},
   "source": [
    "and for a second number we could copy the same line and rename the variables"
   ]
  },
  {
   "cell_type": "code",
   "execution_count": 30,
   "metadata": {},
   "outputs": [],
   "source": [
    "fahrenheit_val2 = 43\n",
    "celsius_val2 = ((fahrenheit_val2 - 32) * (5/9))"
   ]
  },
  {
   "cell_type": "markdown",
   "metadata": {},
   "source": [
    "But we would be in trouble as soon as we had to do this more than a couple times. Cutting and pasting it is going to make our code get long and repetitive, very quickly. We'd like a way to package our code so that it is __easier to reuse__, a shorthand way of re-executing longer pieces of code. In Python we can use __functions__. "
   ]
  },
  {
   "cell_type": "markdown",
   "metadata": {},
   "source": [
    "## Function definition\n",
    "\n",
    "Let’s start by defining a function `fahr_to_celsius` that converts temperatures from Fahrenheit to Celsius:"
   ]
  },
  {
   "cell_type": "code",
   "execution_count": 31,
   "metadata": {},
   "outputs": [],
   "source": [
    "def fahr_to_celsius(temperature):\n",
    "    \"\"\"Convert temperature in Fahrenheit to degrees Celsius\"\"\"\n",
    "    return ((temperature - 32) * (5/9))"
   ]
  },
  {
   "cell_type": "markdown",
   "metadata": {},
   "source": [
    "The function definition \n",
    "\n",
    "- opens with the keyword `def` \n",
    "- followed by the name of the function (`fahr_to_celsius`) and \n",
    "- a parenthesized list of parameter names (`temperature`) - empty parentheses if the function doesn’t take any inputs\n",
    "- a colon to end the definition line\n",
    "- the body of the function — the statements that are executed when it runs — is indented below the definition line \n",
    "- the body concludes with a `return` keyword followed by the return value. The return statement is optional, a function that doesn’t explicitly return a value automatically returns `None`.\n",
    "\n",
    "![](../../img/python-function.svg)\n",
    "\n",
    "When we call the function, the values we pass to it are assigned to those variables so that we can use them inside the function. Inside the function, we use a return statement to send a result back to whoever asked for it.\n",
    "\n",
    "Let’s run our function. We call a function using round brackets `()`:"
   ]
  },
  {
   "cell_type": "code",
   "execution_count": 32,
   "metadata": {},
   "outputs": [
    {
     "data": {
      "text/plain": [
       "0.0"
      ]
     },
     "execution_count": 32,
     "metadata": {},
     "output_type": "execute_result"
    }
   ],
   "source": [
    "fahr_to_celsius(32)"
   ]
  },
  {
   "cell_type": "markdown",
   "metadata": {
    "editable": true,
    "slideshow": {
     "slide_type": ""
    }
   },
   "source": [
    "In fact, calling our own function is no different from calling any other function!\n",
    "\n",
    "Functions allow us to encapsulate complexity so that we can treat it as a single \"thing\" and provides re-use by \"writing one time, using many times\". Each function is a small machine in our workflow."
   ]
  },
  {
   "cell_type": "markdown",
   "metadata": {
    "editable": true,
    "slideshow": {
     "slide_type": ""
    }
   },
   "source": [
    "The variable `temperature` only exists within the function itself. We call it a __local variable__ because they no longer exist once the function is done executing. If we try to access their values outside of the function, we will encounter an error:"
   ]
  },
  {
   "cell_type": "code",
   "execution_count": 33,
   "metadata": {},
   "outputs": [],
   "source": [
    "# temperature  # uncomment this cell"
   ]
  },
  {
   "cell_type": "markdown",
   "metadata": {},
   "source": [
    "## Parameters"
   ]
  },
  {
   "cell_type": "markdown",
   "metadata": {},
   "source": [
    "A function van have __mandatory parameters__ (positional arguments)"
   ]
  },
  {
   "cell_type": "code",
   "execution_count": 34,
   "metadata": {
    "run_control": {
     "frozen": false,
     "read_only": false
    }
   },
   "outputs": [
    {
     "data": {
      "text/plain": [
       "6"
      ]
     },
     "execution_count": 34,
     "metadata": {},
     "output_type": "execute_result"
    }
   ],
   "source": [
    "def double_it(x):\n",
    "    \"\"\"Double a value\"\"\"\n",
    "    return 2*x\n",
    "\n",
    "double_it(3)"
   ]
  },
  {
   "cell_type": "code",
   "execution_count": 35,
   "metadata": {
    "run_control": {
     "frozen": false,
     "read_only": false
    }
   },
   "outputs": [],
   "source": [
    "#double_it()  # uncomment line"
   ]
  },
  {
   "cell_type": "markdown",
   "metadata": {},
   "source": [
    "A function can also have __optional parameters__ (keyword or named arguments). Keyword arguments allow you to __specify default values__."
   ]
  },
  {
   "cell_type": "code",
   "execution_count": 36,
   "metadata": {
    "editable": true,
    "run_control": {
     "frozen": false,
     "read_only": false
    },
    "slideshow": {
     "slide_type": ""
    }
   },
   "outputs": [
    {
     "name": "stdout",
     "output_type": "stream",
     "text": [
      "6\n",
      "9\n",
      "12\n"
     ]
    }
   ],
   "source": [
    "def multiply_it(x, multiplication_factor=2):\n",
    "    \"\"\"Multiply a value\"\"\"    \n",
    "    return x*multiplication_factor\n",
    "\n",
    "print(multiply_it(3))\n",
    "print(multiply_it(3, 3))\n",
    "print(multiply_it(3, multiplication_factor=4))"
   ]
  },
  {
   "cell_type": "markdown",
   "metadata": {
    "editable": true,
    "slideshow": {
     "slide_type": ""
    }
   },
   "source": [
    "The order of the keyword arguments (when specifying by name) does not matter, but it is good practice to use the same ordering as the function's definition. Keyword arguments \n",
    "are a very convenient feature for defining functions with a variable number of arguments, especially when default values are to be used in most calls to the function."
   ]
  },
  {
   "cell_type": "markdown",
   "metadata": {
    "editable": true,
    "slideshow": {
     "slide_type": ""
    }
   },
   "source": [
    "<div class=\"alert alert-danger\">\n",
    "\n",
    "__ALERT!__\n",
    "  \n",
    "Default values are evaluated when the function is defined, not when it is called. This can be problematic when using mutable types (e.g. dictionary or list) and modifying them in the function body, since the modifications will be persistent across invocations of the function.\n",
    "\n",
    "__Do not use lists of dictionaries as default arguments of a function__!    \n",
    "    \n",
    "</div>"
   ]
  },
  {
   "cell_type": "markdown",
   "metadata": {},
   "source": [
    "Using an mutable type in a keyword argument (and modifying it inside the function body)"
   ]
  },
  {
   "cell_type": "code",
   "execution_count": 37,
   "metadata": {},
   "outputs": [
    {
     "name": "stdout",
     "output_type": "stream",
     "text": [
      "[1]\n",
      "[1, 1]\n",
      "[1, 1, 1]\n"
     ]
    }
   ],
   "source": [
    "def add_to(xit=[]):\n",
    "    xit.append(1)\n",
    "    print(xit)\n",
    "\n",
    "add_to()   # should return [1] \n",
    "add_to()   # should return [1]\n",
    "add_to()   # should return [1]"
   ]
  },
  {
   "cell_type": "markdown",
   "metadata": {},
   "source": [
    "### Variable number of parameters"
   ]
  },
  {
   "cell_type": "markdown",
   "metadata": {},
   "source": [
    "Special forms of parameters:\n",
    "\n",
    "* `*args`: any number of positional arguments packed into a tuple\n",
    "* `**kwargs`: any number of keyword arguments packed into a dictionary"
   ]
  },
  {
   "cell_type": "code",
   "execution_count": 38,
   "metadata": {
    "run_control": {
     "frozen": false,
     "read_only": false
    }
   },
   "outputs": [
    {
     "name": "stdout",
     "output_type": "stream",
     "text": [
      "args is ('one', 'two')\n",
      "kwargs is {'x': 1, 'y': 2, 'z': 3}\n"
     ]
    }
   ],
   "source": [
    "def variable_args(*args, **kwargs):\n",
    "    print('args is', args)\n",
    "    print('kwargs is', kwargs)\n",
    "\n",
    "variable_args('one', 'two', x=1, y=2, z=3)"
   ]
  },
  {
   "cell_type": "markdown",
   "metadata": {},
   "source": [
    "## Docstrings"
   ]
  },
  {
   "cell_type": "markdown",
   "metadata": {
    "editable": true,
    "slideshow": {
     "slide_type": ""
    }
   },
   "source": [
    "Document what a function does and its parameters to remind ourselves and our colleagues later what it’s for and how to use it.\n",
    "\n",
    "A good overview is given in the [numpydoc formatting guidelines](https://numpydoc.readthedocs.io/en/latest/format.html) (other formatting styles that comply to the [Docstring Conventions](https://peps.python.org/pep-0257/) do exist as well, but numpy docstring format is the default within the scientific Python world). Make sure to provide a summary and parameters as a minimum."
   ]
  },
  {
   "cell_type": "code",
   "execution_count": 39,
   "metadata": {
    "editable": true,
    "run_control": {
     "frozen": false,
     "read_only": false
    },
    "slideshow": {
     "slide_type": ""
    }
   },
   "outputs": [
    {
     "data": {
      "text/plain": [
       "\u001b[0;31mSignature:\u001b[0m \u001b[0mfuncname\u001b[0m\u001b[0;34m(\u001b[0m\u001b[0mparam\u001b[0m\u001b[0;34m)\u001b[0m\u001b[0;34m\u001b[0m\u001b[0;34m\u001b[0m\u001b[0m\n",
       "\u001b[0;31mDocstring:\u001b[0m\n",
       "Concise one-line sentence describing the function.\n",
       "\n",
       "Extended summary which can contain multiple paragraphs.\n",
       "\n",
       "Parameters\n",
       "----------\n",
       "param : type\n",
       "    description of input parameter\n",
       "\u001b[0;31mFile:\u001b[0m      /tmp/ipykernel_393542/3147298920.py\n",
       "\u001b[0;31mType:\u001b[0m      function\n"
      ]
     },
     "metadata": {},
     "output_type": "display_data"
    }
   ],
   "source": [
    "def funcname(param):\n",
    "    \"\"\"Concise one-line sentence describing the function.\n",
    "    \n",
    "    Extended summary which can contain multiple paragraphs.\n",
    "    \n",
    "    Parameters\n",
    "    ----------\n",
    "    param : type\n",
    "        description of input parameter\n",
    "    \"\"\"\n",
    "    # function body\n",
    "    pass\n",
    "\n",
    "funcname?"
   ]
  },
  {
   "cell_type": "markdown",
   "metadata": {},
   "source": [
    "## Functions are objects\n"
   ]
  },
  {
   "cell_type": "markdown",
   "metadata": {},
   "source": [
    "Functions are first-class objects, which means they can be:\n",
    "\n",
    "* assigned to a variable\n",
    "* an item in a list (or any collection)\n",
    "* passed as an argument to another function.\n",
    "\n"
   ]
  },
  {
   "cell_type": "code",
   "execution_count": 40,
   "metadata": {
    "run_control": {
     "frozen": false,
     "read_only": false
    }
   },
   "outputs": [
    {
     "data": {
      "text/plain": [
       "10"
      ]
     },
     "execution_count": 40,
     "metadata": {},
     "output_type": "execute_result"
    }
   ],
   "source": [
    "def double_it(x):\n",
    "    \"\"\"Double a value\"\"\"\n",
    "    return 2*x\n",
    "\n",
    "def half_it(x):\n",
    "    \"\"\"Divide a value by 2\"\"\"\n",
    "    return x/2\n",
    "\n",
    "dit = double_it\n",
    "dit(5)"
   ]
  },
  {
   "cell_type": "code",
   "execution_count": 41,
   "metadata": {},
   "outputs": [
    {
     "data": {
      "text/plain": [
       "(2.5, 10)"
      ]
     },
     "execution_count": 41,
     "metadata": {},
     "output_type": "execute_result"
    }
   ],
   "source": [
    "def apply_it(x, func):\n",
    "    return func(x)\n",
    "\n",
    "apply_it(5, half_it), apply_it(5, double_it)"
   ]
  },
  {
   "cell_type": "markdown",
   "metadata": {},
   "source": [
    "## Exercise"
   ]
  },
  {
   "cell_type": "markdown",
   "metadata": {
    "editable": true,
    "run_control": {
     "frozen": false,
     "read_only": false
    },
    "slideshow": {
     "slide_type": ""
    }
   },
   "source": [
    "<div class=\"alert alert-success\">\n",
    "\n",
    "**EXERCISE**:\n",
    "   \n",
    "The **barometric formula**, sometimes called the exponential atmosphere or isothermal atmosphere, is a formula used to model how the **pressure** (or density) of the air **changes with altitude**. The pressure drops approximately by 11.3 Pa per meter in first 1000 meters above sea level.\n",
    "\n",
    "$$P=P_0 \\cdot \\exp \\left[\\frac{-g \\cdot M \\cdot h}{R \\cdot T}\\right]$$\n",
    "    \n",
    "where:\n",
    "* $T$ = standard temperature, 288.15 (K)\n",
    "* $R$ = universal gas constant, 8.3144598, (J/mol/K)\n",
    "* $g$ = gravitational acceleration, 9.81 (m/s$^2$)\n",
    "* $M$ = molar mass of Earth's air, 0.02896 (kg/mol)\n",
    "\n",
    "and:\n",
    "* $P_0$ = sea level pressure (hPa)\n",
    "* $h$ = height above sea level (m)    \n",
    "    \n",
    "The measured air pressure at sea level is 1010 hPa. Write a function `barometric_formula` with two input parameters:\n",
    "    \n",
    "- `pressure_sea_level`: a mandatory parameter.\n",
    "- `height`: a keyword parameter with a default value of 2500.\n",
    "    \n",
    "Use the function `barometric_formula` to calculate the corresponding air pressure on 2500m and on 2750m above sea level when the measured air pressure at sea level is 1010 hPa.\n",
    "\n",
    "<details><summary>Hints</summary>\n",
    "\n",
    "- See notebook 02-functions_use.ipynb for the for the code itself, but encapsulate this into a function.\n",
    "- Do not forget to add a docstring, see the specification on the [numpy docstring documentation](https://numpydoc.readthedocs.io/en/latest/format.html).\n",
    "\n",
    "FYI, see https://www.math24.net/barometric-formula/ or https://en.wikipedia.org/wiki/Atmospheric_pressure    \n",
    "    \n",
    "</details>    \n",
    "    \n",
    "</div>"
   ]
  },
  {
   "cell_type": "code",
   "execution_count": 42,
   "metadata": {
    "editable": true,
    "slideshow": {
     "slide_type": ""
    },
    "tags": [
     "nbtutor-solution"
    ]
   },
   "outputs": [
    {
     "data": {
      "text/plain": [
       "(750.8855549906549, 728.9520931519967)"
      ]
     },
     "execution_count": 42,
     "metadata": {},
     "output_type": "execute_result"
    }
   ],
   "source": [
    "import math\n",
    "\n",
    "def barometric_formula(pressure_sea_level, height=2500):\n",
    "    \"\"\"Apply barometric formula\n",
    "    \n",
    "    Apply the barometric formula to calculate the air pressure on a given height\n",
    "    \n",
    "    Parameters\n",
    "    ----------\n",
    "    pressure_sea_level : float\n",
    "        pressure, measured as sea level (hPa)\n",
    "    height : float\n",
    "        height above sea level (m)\n",
    "    \n",
    "    Notes\n",
    "    ------\n",
    "    see https://www.math24.net/barometric-formula/ or \n",
    "    https://en.wikipedia.org/wiki/Atmospheric_pressure\n",
    "    \"\"\"\n",
    "    standard_temperature = 288.15\n",
    "    gas_constant = 8.3144598\n",
    "    gravit_acc = 9.81\n",
    "    molar_mass_earth = 0.02896\n",
    "    \n",
    "    pressure_altitude = pressure_sea_level * math.exp(-gravit_acc * molar_mass_earth* height/(gas_constant*standard_temperature))\n",
    "    return pressure_altitude\n",
    "\n",
    "barometric_formula(1010), barometric_formula(1010, 2750)"
   ]
  },
  {
   "cell_type": "markdown",
   "metadata": {},
   "source": [
    "<div class=\"alert alert-success\">\n",
    "\n",
    "**EXERCISE**:\n",
    "   \n",
    "Apply the `barometric_formula` on the following list of air pressures for a height of 1200m and return a list (variable `pressures_hPa_1200`) with the calculated values:\n",
    "\n",
    "```python\n",
    "pressures_hPa = [1013, 1003, 1010, 1020, 1032, 993, 989, 1018, 889, 1001]\n",
    "```\n",
    "    \n",
    "<details><summary>Hints</summary>\n",
    "    \n",
    "- You can use a regular for-loop and append each value to a new (empty) list OR you can use a list comprehension (see 04-control-flow).  \n",
    "\n",
    "</details>    \n",
    "    \n",
    "</div>"
   ]
  },
  {
   "cell_type": "code",
   "execution_count": 43,
   "metadata": {},
   "outputs": [],
   "source": [
    "pressures_hPa = [1013, 1003, 1010, 1020, 1032, 993, 989, 1018, 889, 1001]"
   ]
  },
  {
   "cell_type": "code",
   "execution_count": 44,
   "metadata": {
    "tags": [
     "nbtutor-solution"
    ]
   },
   "outputs": [
    {
     "data": {
      "text/plain": [
       "[878.6392215640732,\n",
       " 869.9655866029274,\n",
       " 876.0371310757295,\n",
       " 884.7107660368753,\n",
       " 895.1191279902503,\n",
       " 861.2919516417816,\n",
       " 857.8224976573232,\n",
       " 882.9760390446461,\n",
       " 771.0861480458649,\n",
       " 868.2308596106982]"
      ]
     },
     "execution_count": 44,
     "metadata": {},
     "output_type": "execute_result"
    }
   ],
   "source": [
    "pressures_hPa_1200 = [barometric_formula(pressure, 1200) for pressure in pressures_hPa]\n",
    "pressures_hPa_1200"
   ]
  },
  {
   "cell_type": "code",
   "execution_count": 27,
   "metadata": {
    "tags": [
     "nbtutor-solution"
    ]
   },
   "outputs": [
    {
     "data": {
      "text/plain": [
       "[878.6392215640732,\n",
       " 869.9655866029274,\n",
       " 876.0371310757295,\n",
       " 884.7107660368753,\n",
       " 895.1191279902503,\n",
       " 861.2919516417816,\n",
       " 857.8224976573232,\n",
       " 882.9760390446461,\n",
       " 771.0861480458649,\n",
       " 868.2308596106982]"
      ]
     },
     "execution_count": 27,
     "metadata": {},
     "output_type": "execute_result"
    }
   ],
   "source": [
    "pressures_hPa_1200 = []\n",
    "for pressure in pressures_hPa:\n",
    "    pressures_hPa_1200.append(barometric_formula(pressure, 1200))\n",
    "pressures_hPa_1200"
   ]
  },
  {
   "cell_type": "code",
   "execution_count": null,
   "metadata": {},
   "outputs": [],
   "source": []
  }
 ],
 "metadata": {
  "celltoolbar": "Nbtutor - export exercises",
  "jupytext": {
   "cell_metadata_filter": "tags,-run_control,-deletable,-editable,-jupyter,-slideshow",
   "formats": "ipynb,md",
   "notebook_metadata_filter": "-jupytext.cell_metadata_filter,-jupytext.notebook_metadata_filter"
  },
  "kernelspec": {
   "display_name": "Python 3 (ipykernel)",
   "language": "python",
   "name": "python3"
  },
  "language_info": {
   "codemirror_mode": {
    "name": "ipython",
    "version": 3
   },
   "file_extension": ".py",
   "mimetype": "text/x-python",
   "name": "python",
   "nbconvert_exporter": "python",
   "pygments_lexer": "ipython3",
   "version": "3.8.16"
  },
  "nav_menu": {},
  "toc": {
   "navigate_menu": true,
   "number_sections": true,
   "sideBar": true,
   "threshold": 6,
   "toc_cell": false,
   "toc_section_display": "block",
   "toc_window_display": false
  }
 },
 "nbformat": 4,
 "nbformat_minor": 4
}
