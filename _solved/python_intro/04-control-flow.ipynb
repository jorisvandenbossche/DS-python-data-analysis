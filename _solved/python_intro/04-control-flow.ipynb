{
 "cells": [
  {
   "cell_type": "markdown",
   "id": "22fb4464-a527-43e7-aedb-17600fa80b11",
   "metadata": {},
   "source": [
    "# Control flow\n",
    "\n",
    "> *© 2024, Joris Van den Bossche and Stijn Van Hoey  (<mailto:jorisvandenbossche@gmail.com>, <mailto:stijnvanhoey@gmail.com>). Licensed under [CC BY 4.0 Creative Commons](http://creativecommons.org/licenses/by/4.0/)*\n",
    "\n",
    "---\n",
    "\n",
    "> This notebook is based on material of the [*Python Scientific Lecture Notes*](https://scipy-lectures.github.io/), the [*Software Carptentry: Programming with Python gapminder course*](https://swcarpentry.github.io/python-novice-gapminder) and the [*Software Carptentry: Programming with Python inflammation course*](https://swcarpentry.github.io/python-novice-inflammation/)."
   ]
  },
  {
   "cell_type": "markdown",
   "id": "fdb1c114-09e3-429d-a79c-eb79d1f583a6",
   "metadata": {},
   "source": [
    "## Introduction"
   ]
  },
  {
   "cell_type": "markdown",
   "id": "e90f0d3e-b6d5-45fe-9bc1-bd7119842577",
   "metadata": {},
   "source": [
    "When we have a collection of data, we want to: \n",
    "\n",
    "- do something for each of the elements in the collection (loop), e.g. \"convert all elements to another unit\"\n",
    "- do somethig for all elements in a collection according to a certain condition, e.g. \"report on all locations where the value is below a certain threshold\""
   ]
  },
  {
   "cell_type": "code",
   "execution_count": 45,
   "id": "743c5f6e-ed0f-4495-bb0a-e414f99f0bb5",
   "metadata": {},
   "outputs": [],
   "source": [
    "water_quality = {\n",
    "    \"Demer\": 9.5,\n",
    "    \"Nete\": 8.4,\n",
    "    \"Leie\": 6.6\n",
    "}"
   ]
  },
  {
   "cell_type": "code",
   "execution_count": 46,
   "id": "e7d5e203-4634-4a79-80f8-2eb1acf3f0e0",
   "metadata": {},
   "outputs": [
    {
     "data": {
      "text/plain": [
       "'The measured dissolved oxygen in Nete on March 18th 2024 was 8.4 mg/l.'"
      ]
     },
     "execution_count": 46,
     "metadata": {},
     "output_type": "execute_result"
    }
   ],
   "source": [
    "report_location = \"Nete\"\n",
    "f\"The measured dissolved oxygen in {report_location} on March 18th 2024 was {water_quality[report_location]} mg/l.\""
   ]
  },
  {
   "cell_type": "code",
   "execution_count": 47,
   "id": "888f404b-3cb9-423d-b347-0370df161eb2",
   "metadata": {},
   "outputs": [
    {
     "name": "stdout",
     "output_type": "stream",
     "text": [
      "The measured dissolved oxygen in Leie on March 18th 2024 was 6.6 mg/l.\n"
     ]
    }
   ],
   "source": [
    "for report_location in water_quality.keys():\n",
    "    if water_quality[report_location] < 7:\n",
    "        print(f\"The measured dissolved oxygen in {report_location} on March 18th 2024 was {water_quality[report_location]} mg/l.\")"
   ]
  },
  {
   "cell_type": "markdown",
   "id": "69c321a2-e91c-4160-9f58-eccc56c2570a",
   "metadata": {},
   "source": [
    "## Loops"
   ]
  },
  {
   "cell_type": "markdown",
   "id": "474683d7-c174-41f6-a59e-0ecf56f8c8da",
   "metadata": {},
   "source": [
    "A `for` loop tells Python to execute some statements once for each value in a list, a character string, or some other collection (anything that is 'iterable'): \"for each element in this group, do these operations\"."
   ]
  },
  {
   "cell_type": "code",
   "execution_count": 48,
   "id": "d7f925f3-b512-4191-b727-577078ea437c",
   "metadata": {},
   "outputs": [
    {
     "name": "stdout",
     "output_type": "stream",
     "text": [
      "9.5\n",
      "8.4\n",
      "6.6\n"
     ]
    }
   ],
   "source": [
    "for oxygen in [9.5, 8.4, 6.6]:\n",
    "    print(oxygen)"
   ]
  },
  {
   "cell_type": "code",
   "execution_count": 49,
   "id": "98508249-63ac-4ea4-8f07-fbbb3024043c",
   "metadata": {},
   "outputs": [
    {
     "name": "stdout",
     "output_type": "stream",
     "text": [
      "o\n",
      "x\n",
      "y\n",
      "g\n",
      "e\n",
      "n\n"
     ]
    }
   ],
   "source": [
    "for char in \"oxygen\":\n",
    "    print(char)"
   ]
  },
  {
   "cell_type": "markdown",
   "id": "9cfbf261-8605-4edf-a1cf-6c8c1eee93e3",
   "metadata": {},
   "source": [
    "A for loop is made up of a 'collection', a 'loop variable', and a 'body':\n",
    "\n",
    "- The collection, `[9.5, 8.4, 6.6]`, is what the loop is iterating through.\n",
    "- The body, `print(oxygen)`, specifies what to do for each element in the collection. It can contain many statements (lines).\n",
    "- The loop variable, `oxygen`, is what changes for each iteration of the loop (the 'current element').\n",
    "\n",
    "The colon at the end of the first line signals the start of a block of statements. Python uses __indentation__ to show nesting: Any consistent indentation is legal, but almost everyone uses __four spaces__."
   ]
  },
  {
   "cell_type": "code",
   "execution_count": 50,
   "id": "deae11d7-fc13-4eea-9098-dbfd9e0ee440",
   "metadata": {},
   "outputs": [],
   "source": [
    "#for oxygen in [9.5, 8.4, 6.6]:\n",
    "#print(oxygen)"
   ]
  },
  {
   "cell_type": "markdown",
   "id": "8d74485d-87ca-4061-ab22-4c4a53799125",
   "metadata": {},
   "source": [
    "<div class=\"alert alert-warning\">\n",
    "\n",
    "__Remember__: \n",
    "    \n",
    "Indentation is always meaningful in Python.\n",
    "    \n",
    "</div>"
   ]
  },
  {
   "cell_type": "markdown",
   "id": "b8490713-12f0-4df8-a02f-e823e9d10079",
   "metadata": {},
   "source": [
    "A loop variable can be called anything. It is a good idea to choose variable names that are meaningful, otherwise it would be more difficult to understand what the loop is doing."
   ]
  },
  {
   "cell_type": "code",
   "execution_count": 51,
   "id": "8381e334-e8eb-46f9-96bf-6c62a6924948",
   "metadata": {},
   "outputs": [
    {
     "name": "stdout",
     "output_type": "stream",
     "text": [
      "0.0095\n",
      "0.008400000000000001\n",
      "0.0066\n"
     ]
    }
   ],
   "source": [
    "for i in [9.5, 8.4, 6.6]:  # oxygen\n",
    "    print(i/1000) # conversion to g/l"
   ]
  },
  {
   "cell_type": "markdown",
   "id": "cb399f28-b415-477c-8622-db21f3704ffb",
   "metadata": {},
   "source": [
    "Python has a built-in function called `range` that generates a sequence of numbers:"
   ]
  },
  {
   "cell_type": "code",
   "execution_count": 52,
   "id": "e07d4240-8808-4553-ad83-f00caaff97a1",
   "metadata": {},
   "outputs": [
    {
     "name": "stdout",
     "output_type": "stream",
     "text": [
      "0\n",
      "1\n",
      "2\n"
     ]
    }
   ],
   "source": [
    "for i in range(3):\n",
    "    print(i)"
   ]
  },
  {
   "cell_type": "markdown",
   "id": "60e3cba7-f03c-48be-b3ba-588ba11f78d1",
   "metadata": {},
   "source": [
    "The built-in function `enumerate` takes an iterable collection (e.g. a list) and generates a new sequence of the same length. Each element of the new sequence is a pair composed of the index (0, 1, 2,…) and the value from the original sequence:"
   ]
  },
  {
   "cell_type": "code",
   "execution_count": 53,
   "id": "8540ad1c-acf4-478a-bb75-97c36963ee82",
   "metadata": {},
   "outputs": [
    {
     "name": "stdout",
     "output_type": "stream",
     "text": [
      "0 9.5\n",
      "1 8.4\n",
      "2 6.6\n"
     ]
    }
   ],
   "source": [
    "for idx, value in enumerate([9.5, 8.4, 6.6]):\n",
    "    print(idx, value)"
   ]
  },
  {
   "cell_type": "markdown",
   "id": "7d986215-64df-4cbe-85b6-afc666401d95",
   "metadata": {},
   "source": [
    "__Looping over dictionary__\n",
    "\n",
    "use `.items()` to loop over the elements of a dictionary:"
   ]
  },
  {
   "cell_type": "code",
   "execution_count": 54,
   "id": "c1454fc3-4dae-4fe5-9d4c-6d441240055a",
   "metadata": {},
   "outputs": [],
   "source": [
    "water_quality = {\n",
    "    \"Demer\": 9.5,\n",
    "    \"Nete\": 8.4,\n",
    "    \"Leie\": 6.6\n",
    "}"
   ]
  },
  {
   "cell_type": "code",
   "execution_count": 55,
   "id": "03daf1d0-2dc4-4a85-b82b-c598ba6d4b67",
   "metadata": {},
   "outputs": [
    {
     "name": "stdout",
     "output_type": "stream",
     "text": [
      "Location: Demer has DO value: 9.5 mg/l\n",
      "Location: Nete has DO value: 8.4 mg/l\n",
      "Location: Leie has DO value: 6.6 mg/l\n"
     ]
    }
   ],
   "source": [
    "for key, value in water_quality.items():\n",
    "    print(f\"Location: {key} has DO value: {value} mg/l\")"
   ]
  },
  {
   "cell_type": "markdown",
   "id": "586cd479-13f3-4fbc-b42f-a8fea34ad2fa",
   "metadata": {},
   "source": [
    "or loop over the keys elements only:"
   ]
  },
  {
   "cell_type": "code",
   "execution_count": 56,
   "id": "b3e2a3fd-ea04-438f-a151-d7d0a37dbea0",
   "metadata": {},
   "outputs": [
    {
     "name": "stdout",
     "output_type": "stream",
     "text": [
      "Location: Demer\n",
      "Location: Nete\n",
      "Location: Leie\n"
     ]
    }
   ],
   "source": [
    "for key in water_quality.keys():\n",
    "    print(f\"Location: {key}\")"
   ]
  },
  {
   "cell_type": "markdown",
   "id": "50768fc3-a761-4eb1-a6e6-72dc7dafd659",
   "metadata": {},
   "source": [
    "## Conditionals"
   ]
  },
  {
   "cell_type": "markdown",
   "id": "db160f83-a58f-42b8-a8d4-1ff3bc70bb3b",
   "metadata": {},
   "source": [
    "Use `if` statements to control whether or not a block of code is executed. The structure is similar to a `for` statement:\n",
    "\n",
    "- First line opens with `if` and ends with a colon `:`\n",
    "- The content between `if` and `:` is evaluated to True or False\n",
    "- Body containing one or more statements is indented (usually by 4 spaces)\n",
    "- Use `else` to execute a block of code when an if condition is not true\n",
    "- Use `elif` to specify additional tests (can be multiple)\n",
    "\n",
    "Python steps through the branches of the conditional in order, testing each in turn. So __ordering matters__."
   ]
  },
  {
   "cell_type": "code",
   "execution_count": 57,
   "id": "5d25d56f-af58-4ec8-9922-3cefaba8d68d",
   "metadata": {},
   "outputs": [
    {
     "name": "stdout",
     "output_type": "stream",
     "text": [
      "The measured dissolved oxygen 11.0 mg/l is high.\n"
     ]
    }
   ],
   "source": [
    "dissolved_oxygen = 11.\n",
    "if dissolved_oxygen > 10:\n",
    "    print(f\"The measured dissolved oxygen {dissolved_oxygen} mg/l is high.\")\n",
    "elif dissolved_oxygen > 8:\n",
    "    print(f\"The measured dissolved oxygen {dissolved_oxygen} mg/l is moderate.\")        \n",
    "else:\n",
    "    print(f\"The measured dissolved oxygen {dissolved_oxygen} mg/l is low.\")     "
   ]
  },
  {
   "cell_type": "markdown",
   "id": "4bdee51d-e5ee-48ff-a787-5765c2f17b9e",
   "metadata": {},
   "source": [
    "Conditionals are used a lot in combination with loops:"
   ]
  },
  {
   "cell_type": "code",
   "execution_count": 58,
   "id": "7a738be7-2657-4dbe-b13a-2e3148a7831b",
   "metadata": {},
   "outputs": [
    {
     "name": "stdout",
     "output_type": "stream",
     "text": [
      "The measured dissolved oxygen 11.65 mg/l is high.\n",
      "The measured dissolved oxygen 9.8 mg/l is moderate.\n",
      "The measured dissolved oxygen 6.3 mg/l is low.\n",
      "The measured dissolved oxygen 10.5 mg/l is high.\n",
      "The measured dissolved oxygen 7.7 mg/l is low.\n"
     ]
    }
   ],
   "source": [
    "oxygen_levels = [11.65, 9.8, 6.3, 10.5, 7.7]\n",
    "for dissolved_oxygen in oxygen_levels:\n",
    "    if dissolved_oxygen > 10:\n",
    "        print(f\"The measured dissolved oxygen {dissolved_oxygen} mg/l is high.\")\n",
    "    elif dissolved_oxygen > 8:\n",
    "        print(f\"The measured dissolved oxygen {dissolved_oxygen} mg/l is moderate.\")        \n",
    "    else:\n",
    "        print(f\"The measured dissolved oxygen {dissolved_oxygen} mg/l is low.\")        "
   ]
  },
  {
   "cell_type": "markdown",
   "id": "5e5780e8-942f-4afd-8d65-db513d972773",
   "metadata": {},
   "source": [
    "An overview of the possible comparison operations:\n",
    "\n",
    "Operator   |  Description\n",
    "------ | --------\n",
    "==       | Equal\n",
    "!=       | Not equal\n",
    "\\>       | Greater than\n",
    "\\>=       | Greater than or equal\n",
    "\\<       | Lesser than\n",
    "<=       | Lesser than or equal\n",
    "\n",
    "and to combine multiple conditions:\n",
    "\n",
    "Operator   |  Description\n",
    "------ | --------\n",
    "and (`&`)       | And (`cond1 & cond2`)\n",
    "or (`\\|`)       | Or (`cond1 \\| cond2`)\n",
    "\n",
    "(`&` and `|` are bitwise operators, useful to combine conditions when we work in Pandas)"
   ]
  },
  {
   "cell_type": "code",
   "execution_count": 59,
   "id": "6f70c2d0-f315-487a-8623-014083cdc61d",
   "metadata": {},
   "outputs": [
    {
     "data": {
      "text/plain": [
       "False"
      ]
     },
     "execution_count": 59,
     "metadata": {},
     "output_type": "execute_result"
    }
   ],
   "source": [
    "dissolved_oxygen = 13.\n",
    "dissolved_oxygen != 13"
   ]
  },
  {
   "cell_type": "code",
   "execution_count": 60,
   "id": "34b314bb-e21e-4be7-9804-450417b424a5",
   "metadata": {},
   "outputs": [
    {
     "data": {
      "text/plain": [
       "True"
      ]
     },
     "execution_count": 60,
     "metadata": {},
     "output_type": "execute_result"
    }
   ],
   "source": [
    "dissolved_oxygen = 13.\n",
    "(dissolved_oxygen < 10) or (dissolved_oxygen > 12)  # Note the round brackets"
   ]
  },
  {
   "cell_type": "markdown",
   "id": "8656874d-51a1-4b88-b206-764bc340a5c1",
   "metadata": {},
   "source": [
    "The condition can also be triggered by a function, e.g. a method that returns a True/False:"
   ]
  },
  {
   "cell_type": "code",
   "execution_count": 61,
   "id": "14232d33-f51c-4b43-ad73-a069965b88de",
   "metadata": {},
   "outputs": [
    {
     "data": {
      "text/plain": [
       "True"
      ]
     },
     "execution_count": 61,
     "metadata": {},
     "output_type": "execute_result"
    }
   ],
   "source": [
    "\"dissolved oxygen\".islower()"
   ]
  },
  {
   "cell_type": "markdown",
   "id": "1abc50bd-c346-4716-818f-b28128335b28",
   "metadata": {},
   "source": [
    "`True` and `False` booleans are not the only values in Python that are true and false. In fact, any value can be used in an if or elif.:"
   ]
  },
  {
   "cell_type": "code",
   "execution_count": 62,
   "id": "587cce9a-2c97-4ac8-8d39-5369b8bc91dc",
   "metadata": {},
   "outputs": [
    {
     "name": "stdout",
     "output_type": "stream",
     "text": [
      "word\n",
      "non-empty list\n",
      "one\n"
     ]
    }
   ],
   "source": [
    "if \"\":\n",
    "    print(\"empty string\")\n",
    "if \"word\":\n",
    "    print(\"word\")\n",
    "if []:\n",
    "    print(\"empty list\")\n",
    "if [1, 2, 3]:\n",
    "    print(\"non-empty list\")\n",
    "if 0:\n",
    "    print(\"zero\")\n",
    "if 1:\n",
    "    print(\"one\")"
   ]
  },
  {
   "cell_type": "markdown",
   "id": "22cf081a-0eba-4522-b957-6540a92c3264",
   "metadata": {},
   "source": [
    "## Exercises"
   ]
  },
  {
   "cell_type": "markdown",
   "id": "d64db7e0-99ec-4556-bed4-8477ceab8708",
   "metadata": {},
   "source": [
    "<div class=\"alert alert-success\">\n",
    "\n",
    "**EXERCISE**:\n",
    "\n",
    "\n",
    "```python\n",
    "word = 'oxygen'\n",
    "for letter in word:\n",
    "    print(letter)\n",
    "```\n",
    "\n",
    "How many times is the body of the loop executed?    \n",
    "\n",
    "<details><summary>Hints</summary>\n",
    "    \n",
    "- The string \"oxygen\" is a collection of N individual characters over which the loop iterates.\n",
    "    \n",
    "</details>\n",
    "   \n",
    "</div>"
   ]
  },
  {
   "cell_type": "code",
   "execution_count": 63,
   "id": "ef527696-c854-4041-9e19-6e33377ddff3",
   "metadata": {
    "tags": [
     "nbtutor-solution"
    ]
   },
   "outputs": [
    {
     "name": "stdout",
     "output_type": "stream",
     "text": [
      "6\n"
     ]
    }
   ],
   "source": [
    "# using the 'accumulator pattern' to check the number of counts\n",
    "acc = 0\n",
    "for letter in 'oxygen':\n",
    "    acc += 1  # the in-place operator\n",
    "print(acc)    "
   ]
  },
  {
   "cell_type": "markdown",
   "id": "4aa05b39-bbff-4c3e-83c7-3a5944c4e3ab",
   "metadata": {},
   "source": [
    "<div class=\"alert alert-success\">\n",
    "\n",
    "**EXERCISE**:\n",
    "    \n",
    "A number of raw measurements of conductivity `conductivities = [3.3, 4.5, 6.6]` need to be adjusted by the calibration parameters according to $a+conductivity*r$ with $a$ and $r$ respectively 0.43 and 1.35.\n",
    "    \n",
    "- Loop through the conductivities list\n",
    "- print for each of the elements the calibrated value using the calibration parameters $a$ and $r$   \n",
    "\n",
    "</div>"
   ]
  },
  {
   "cell_type": "code",
   "execution_count": 64,
   "id": "f69bcc06-d3ab-48a3-9d47-e5397ed3be0b",
   "metadata": {},
   "outputs": [],
   "source": [
    "conductivities = [3.3, 4.5, 6.6]"
   ]
  },
  {
   "cell_type": "code",
   "execution_count": 65,
   "id": "059cbbf6-720c-4994-9b50-cc7c49a04bc4",
   "metadata": {
    "tags": [
     "nbtutor-solution"
    ]
   },
   "outputs": [
    {
     "name": "stdout",
     "output_type": "stream",
     "text": [
      "4.885\n",
      "6.505\n",
      "9.34\n"
     ]
    }
   ],
   "source": [
    "a = 0.43\n",
    "r = 1.35\n",
    "for conductivity in conductivities:\n",
    "    print(a + conductivity*r )"
   ]
  },
  {
   "cell_type": "markdown",
   "id": "8f338b31-3403-4fc5-b685-edf9b42a03fb",
   "metadata": {},
   "source": [
    "<div class=\"alert alert-success\">\n",
    "\n",
    "**EXERCISE**:\n",
    "\n",
    "A number of air pressure measurements `pressures_hPa = [1013, 950, 1010, 1020, 1032, 993, 989, 1018, 889, 1001]` need to be processed. You want to enlist the indices (position) of the values with an air pressure below 1000 (hPa) and store these indices in a new variabe `indices`. \n",
    "    \n",
    "- Create an empty list with variable name `indices`\n",
    "- Loop through the `pressures_hPa` list\n",
    "- If the air pressure is below 1000, _append_ the corresponding index/position to the `indices` list\n",
    "\n",
    "Print the list `indices` (it should contain the values [1, 5, 6, 8])\n",
    "    \n",
    "<details><summary>Hints</summary>\n",
    "    \n",
    "- Remember `enumerate` to track the index while looping though a list in a for-loop?\n",
    "- `append` is a list method that can be used to add an en element to a list __in-place__\n",
    "        \n",
    "</details>\n",
    "   \n",
    "</div>"
   ]
  },
  {
   "cell_type": "code",
   "execution_count": 66,
   "id": "bd09dc5e-4b5d-4502-9a6a-cdcf17653e3a",
   "metadata": {},
   "outputs": [],
   "source": [
    "pressures_hPa = [1013, 950, 1010, 1020, 1032, 993, 989, 1018, 889, 1001]"
   ]
  },
  {
   "cell_type": "code",
   "execution_count": 67,
   "id": "8e13ee27-13d7-4630-817f-b24e7cac44d2",
   "metadata": {
    "tags": [
     "nbtutor-solution"
    ]
   },
   "outputs": [
    {
     "data": {
      "text/plain": [
       "[1, 5, 6, 8]"
      ]
     },
     "execution_count": 67,
     "metadata": {},
     "output_type": "execute_result"
    }
   ],
   "source": [
    "indices = []\n",
    "for j, pressure in enumerate(pressures_hPa):\n",
    "    if pressure < 1000:\n",
    "        indices.append(j)\n",
    "indices        "
   ]
  },
  {
   "cell_type": "markdown",
   "id": "14ceffd4-2353-420f-a1d7-b8b09b7425d7",
   "metadata": {},
   "source": [
    "<div class=\"alert alert-success\">\n",
    "\n",
    "__EXERCISE__:\n",
    "\n",
    "\n",
    "The optimal dissolved oxygen concentration for fish is between 5 to 20 mg/l. You received a number of real-time dissolved oxygen measurements:\n",
    "   \n",
    "```python\n",
    "water_quality = {\"Demer\": 9.5, \"Nete\": 8.4, \"Leie\": 6.6, \"Dender\": 3, \"Dijle\": 21, \"Ijzer\": 4.4}\n",
    "```    \n",
    "\n",
    "You want to automatically raise an alert when conditions are not optimal:\n",
    "    \n",
    "- Loop through the dictionary\n",
    "- For each element with bad conditions (consider the DO range of 5-20mg/l as optimal), print an alert: \"Alert: Poor conditions measured at LOCATION with DO concetration of CONCENTRATION mg/l.\" (with LOCATION and CONCENTRATION filled in by the location (dict key) and the value (dict value).\n",
    "\n",
    "<details><summary>Hints</summary>\n",
    "\n",
    "- To loop through a dictionary, make sure to use the `items()` to be able to use the key (location) and the value (concentration)\n",
    "- Multiple conditions can be combined using `|` or `&`. Make sure to add round brackets so the order of execution is respected. \n",
    "- To include the variables in the print statement, check the [formatted string literals](https://docs.python.org/3/tutorial/inputoutput.html#formatted-string-literals)\n",
    "    \n",
    "</details>\n",
    "   \n",
    "</div>"
   ]
  },
  {
   "cell_type": "code",
   "execution_count": 68,
   "id": "49237912-6683-4541-8b5b-43d6a3a8eade",
   "metadata": {},
   "outputs": [],
   "source": [
    "water_quality = {\"Demer\": 9.5, \"Nete\": 8.4, \"Leie\": 6.6, \"Dender\": 3, \"Dijle\": 21, \"Ijzer\": 4.4}"
   ]
  },
  {
   "cell_type": "code",
   "execution_count": 69,
   "id": "7e493556-5a7f-47c9-b74f-2f6a4fee41d3",
   "metadata": {
    "tags": [
     "nbtutor-solution"
    ]
   },
   "outputs": [
    {
     "name": "stdout",
     "output_type": "stream",
     "text": [
      "Alert: Poor conditions measured at Dender with DO concentration of 3 mg/l.\n",
      "Alert: Poor conditions measured at Dijle with DO concentration of 21 mg/l.\n",
      "Alert: Poor conditions measured at Ijzer with DO concentration of 4.4 mg/l.\n"
     ]
    }
   ],
   "source": [
    "for location, do in water_quality.items():\n",
    "    if (do > 20) or (do < 5):\n",
    "        print(f\"Alert: Poor conditions measured at {location} with DO concentration of {do} mg/l.\")"
   ]
  },
  {
   "cell_type": "markdown",
   "id": "a6ed745b-dec2-4ede-a334-2348aadba11b",
   "metadata": {},
   "source": [
    "<div class=\"alert alert-success\">\n",
    "\n",
    "**EXERCISE**:\n",
    "    \n",
    "You have a directory of files on your computer with data files coming from from 2 different measurement devices: \"Sigma900\" and \"Avalanche2000\":\n",
    "    \n",
    "```python\n",
    "file_names = [\"sigma_001.txt\", \"sigma_004.txt\", \"ava_x01.txt\", \"ydoc3.txt\", \"sigma_002.txt\", \n",
    "              \"sigma_003.txt\", \"ava_x02.txt\", \"ava_x03.txt\", \"ava_x04.txt\", \"sigma_005.txt\"]\n",
    "```\n",
    "   \n",
    "You want to process the files with a specific function (data pipeline) based on the file naming:\n",
    "    \n",
    "- loop over the file names\n",
    "- if the file name starts with `sigma`, print \"Processing file FILE-NAME with sigma pipeline.\" (replacing FILE-NAME with the real file name)\n",
    "- if the file name starts with `ava`, print \"Processing file FILE-NAME with avalanche pipeline.\" (replacing FILE-NAME with the real file name)    \n",
    "- otherwise, print \"Unrecognized file FILE-NAME\" (replacing FILE-NAME with the real file name)    \n",
    "\n",
    "<details><summary>Hints</summary>\n",
    "\n",
    "- Check the string-methods to find a way to test if a string \"starts with\" something\n",
    "- You need if/elif and else to handle all options\n",
    "- To include the file name in the print statement, check the [formatted string literals](https://docs.python.org/3/tutorial/inputoutput.html#formatted-string-literals)\n",
    "    \n",
    "</details>\n",
    "   \n",
    "</div>"
   ]
  },
  {
   "cell_type": "code",
   "execution_count": 70,
   "id": "5a75f862-4f63-458e-95da-3843f834fffd",
   "metadata": {},
   "outputs": [],
   "source": [
    "file_names = [\"sigma_001.txt\", \"sigma_004.txt\", \"ava_x01.txt\", \"ydoc3.txt\", \"sigma_002.txt\", \n",
    "              \"sigma_003.txt\", \"ava_x02.txt\", \"ava_x03.txt\", \"ava_x04.txt\", \"sigma_005.txt\"]"
   ]
  },
  {
   "cell_type": "code",
   "execution_count": 71,
   "id": "625e1687-56b9-419f-a977-da6c0231f300",
   "metadata": {
    "tags": [
     "nbtutor-solution"
    ]
   },
   "outputs": [
    {
     "name": "stdout",
     "output_type": "stream",
     "text": [
      "Processing file sigma_001.txt with sigma pipeline.\n",
      "Processing file sigma_004.txt with sigma pipeline.\n",
      "Processing file ava_x01.txt with avalanche pipeline.\n",
      "Unrecognized file ydoc3.txt\n",
      "Processing file sigma_002.txt with sigma pipeline.\n",
      "Processing file sigma_003.txt with sigma pipeline.\n",
      "Processing file ava_x02.txt with avalanche pipeline.\n",
      "Processing file ava_x03.txt with avalanche pipeline.\n",
      "Processing file ava_x04.txt with avalanche pipeline.\n",
      "Processing file sigma_005.txt with sigma pipeline.\n"
     ]
    }
   ],
   "source": [
    "for file_name in file_names:\n",
    "    if file_name.startswith(\"sigma\"):\n",
    "        print(f\"Processing file {file_name} with sigma pipeline.\")\n",
    "    elif file_name.startswith(\"ava\"):\n",
    "        print(f\"Processing file {file_name} with avalanche pipeline.\")       \n",
    "    else: \n",
    "        print(f\"Unrecognized file {file_name}\")"
   ]
  },
  {
   "cell_type": "markdown",
   "id": "6221a3ca-c4d9-498d-9166-3064286a745e",
   "metadata": {},
   "source": [
    "## Topics on loops"
   ]
  },
  {
   "cell_type": "markdown",
   "id": "a324584f-4a1c-4d9f-b5b3-06aef438f454",
   "metadata": {},
   "source": [
    "### Loop over files in a directory"
   ]
  },
  {
   "cell_type": "markdown",
   "id": "5a97bafc-8d12-4464-b366-3f13bfc3eb53",
   "metadata": {},
   "source": [
    "The [pathlib module](https://docs.python.org/3/library/pathlib.html) provides useful abstractions for file and path manipulation like returning the name of a file without the file extension. This is very useful when looping over files and directories.\n",
    "    \n",
    "To enlist the files in a folder, the `glob` method is available. For example, using a wild card `*`:"
   ]
  },
  {
   "cell_type": "code",
   "execution_count": 72,
   "id": "7fb686aa-96ad-4152-bfe5-3957cb4ee0e4",
   "metadata": {},
   "outputs": [],
   "source": [
    "from pathlib import Path"
   ]
  },
  {
   "cell_type": "code",
   "execution_count": 73,
   "id": "36808a0b-7024-4161-b5be-2c0453d8edb7",
   "metadata": {},
   "outputs": [
    {
     "name": "stdout",
     "output_type": "stream",
     "text": [
      "../pandas_03b_indexing.ipynb\n",
      "../pandas_01_data_structures.ipynb\n",
      "../pandas_03a_selecting_data.ipynb\n",
      "../workflow_example_evaluation.ipynb\n",
      "../visualization_01_matplotlib.ipynb\n",
      "../case1_bike_count.ipynb\n",
      "../pandas_08_reshaping_data.ipynb\n",
      "../case2_observations.ipynb\n",
      "../pandas_04_time_series_data.ipynb\n",
      "../visualization_03_landscape.ipynb\n",
      "../data_sets_for_exercises.ipynb\n",
      "../case4_air_quality_processing.ipynb\n",
      "../case3_bacterial_resistance_lab_experiment.ipynb\n",
      "../visualization_02_plotnine.ipynb\n",
      "../pandas_02_basic_operations.ipynb\n",
      "../pandas_07_missing_values.ipynb\n",
      "../case4_air_quality_analysis.ipynb\n",
      "../case2_observations_processing.ipynb\n",
      "../pandas_09_combining_datasets.ipynb\n",
      "../visualization_02_seaborn.ipynb\n",
      "../pandas_06_data_cleaning.ipynb\n",
      "../pandas_05_groupby_operations.ipynb\n",
      "../00-jupyter_introduction.ipynb\n",
      "../case2_observations_analysis.ipynb\n"
     ]
    }
   ],
   "source": [
    "for file_path in Path(\"../\").glob(\"*\"):\n",
    "    if file_path.suffix == \".ipynb\":\n",
    "        print(file_path)"
   ]
  },
  {
   "cell_type": "markdown",
   "id": "f9cd39eb-4407-4b24-813a-b7efc13149fe",
   "metadata": {},
   "source": [
    "We can make this check on file type shorter by adjusting the search pattern:"
   ]
  },
  {
   "cell_type": "code",
   "execution_count": 74,
   "id": "0a6ff3cd-1418-4499-8da3-08f2ac9a7e2f",
   "metadata": {},
   "outputs": [
    {
     "name": "stdout",
     "output_type": "stream",
     "text": [
      ".ipynb\n",
      ".ipynb\n",
      ".ipynb\n",
      ".ipynb\n",
      ".ipynb\n",
      ".ipynb\n",
      ".ipynb\n",
      ".ipynb\n",
      ".ipynb\n",
      ".ipynb\n",
      ".ipynb\n",
      ".ipynb\n",
      ".ipynb\n",
      ".ipynb\n",
      ".ipynb\n",
      ".ipynb\n",
      ".ipynb\n",
      ".ipynb\n",
      ".ipynb\n",
      ".ipynb\n",
      ".ipynb\n",
      ".ipynb\n",
      ".ipynb\n",
      ".ipynb\n"
     ]
    }
   ],
   "source": [
    "from pathlib import Path\n",
    "\n",
    "for file_path in Path(\"../\").glob(\"*.ipynb\"):\n",
    "    print(file_path.suffix)"
   ]
  },
  {
   "cell_type": "code",
   "execution_count": 75,
   "id": "224d5a8d-7d6b-44d5-94a0-ad6cd0b2146e",
   "metadata": {},
   "outputs": [
    {
     "name": "stdout",
     "output_type": "stream",
     "text": [
      "../data\n",
      "../.ipynb_checkpoints\n",
      "../python_recap\n",
      "../python_intro\n",
      "../__pycache__\n"
     ]
    }
   ],
   "source": [
    "from pathlib import Path\n",
    "\n",
    "for file_path in Path(\"../\").glob(\"*\"):\n",
    "    if file_path.is_dir():\n",
    "        print(file_path)"
   ]
  },
  {
   "cell_type": "markdown",
   "id": "0beef3f8-7bca-4e5f-a0d7-5aba6417441b",
   "metadata": {},
   "source": [
    "<div class=\"alert alert-info\">\n",
    "\n",
    "__Reminder__: \n",
    "    \n",
    "Any Python object has certain characteristics - __attributes__, e.g. `file_path.suffix` which do not require round brackets. An object also provides a number of functions to act on the object - __methods__, e.g. `file_path.is_dir()` which require round brackets `()`.\n",
    "\n",
    "</div>"
   ]
  },
  {
   "cell_type": "markdown",
   "id": "4dfac3c4-f203-47e2-87e1-3b90c3880773",
   "metadata": {},
   "source": [
    "### List comprehensions"
   ]
  },
  {
   "cell_type": "markdown",
   "id": "271343e8-0177-4310-a66b-ed3ce1fd5bf7",
   "metadata": {},
   "source": [
    "List comprehensions are a powerful functionality. It creates an in-list for-loop option, looping through all the elements of a list and doing an action on it, in a single, readable line."
   ]
  },
  {
   "cell_type": "code",
   "execution_count": 76,
   "id": "91ce3467-ca83-49eb-aa5c-83051e1d5ff1",
   "metadata": {},
   "outputs": [
    {
     "data": {
      "text/plain": [
       "[1, 4, 9, 16]"
      ]
     },
     "execution_count": 76,
     "metadata": {},
     "output_type": "execute_result"
    }
   ],
   "source": [
    "number_list = [1, 2, 3, 4]\n",
    "[i**2 for i in number_list]"
   ]
  },
  {
   "cell_type": "markdown",
   "id": "8685bc57-3a9c-430f-a931-9aa4f5593dd0",
   "metadata": {},
   "source": [
    "and with conditional options:"
   ]
  },
  {
   "cell_type": "code",
   "execution_count": 77,
   "id": "f4ff4ad7-77de-4af7-8175-d2ce5ab5a3a8",
   "metadata": {},
   "outputs": [
    {
     "data": {
      "text/plain": [
       "[9, 16]"
      ]
     },
     "execution_count": 77,
     "metadata": {},
     "output_type": "execute_result"
    }
   ],
   "source": [
    "[i**2 for i in number_list if i > 2]"
   ]
  },
  {
   "cell_type": "markdown",
   "id": "beb5b420-912d-4ad7-a427-975e8e2f8d79",
   "metadata": {},
   "source": [
    "We can shorten some of the exercises using list comprehensions:\n",
    "\n",
    "1. applying calibration parameters to conductivities"
   ]
  },
  {
   "cell_type": "code",
   "execution_count": 78,
   "id": "6e23d64b-f453-477c-92cd-ebcb25706eca",
   "metadata": {},
   "outputs": [
    {
     "name": "stdout",
     "output_type": "stream",
     "text": [
      "4.885\n",
      "6.505\n",
      "9.34\n"
     ]
    }
   ],
   "source": [
    "conductivities = [3.3, 4.5, 6.6]\n",
    "for conductivity in conductivities:\n",
    "    print(0.43 + conductivity*1.35 )"
   ]
  },
  {
   "cell_type": "markdown",
   "id": "dc99f6c9-c8e7-40fc-898c-c95a10822362",
   "metadata": {},
   "source": [
    "becomes..."
   ]
  },
  {
   "cell_type": "code",
   "execution_count": 79,
   "id": "0d7617d8-c5b1-4014-8998-b24a8aac7bbb",
   "metadata": {},
   "outputs": [
    {
     "data": {
      "text/plain": [
       "[4.885, 6.505, 9.34]"
      ]
     },
     "execution_count": 79,
     "metadata": {},
     "output_type": "execute_result"
    }
   ],
   "source": [
    "[a + conductivity*r  for conductivity in conductivities]"
   ]
  },
  {
   "cell_type": "markdown",
   "id": "11b6f375-6bce-466e-a8ad-f0c72d2246b4",
   "metadata": {},
   "source": [
    "1. Catching the indices of the pressures below 1000"
   ]
  },
  {
   "cell_type": "code",
   "execution_count": 80,
   "id": "475b769a-e071-4730-b544-85039331be79",
   "metadata": {},
   "outputs": [
    {
     "data": {
      "text/plain": [
       "[1, 5, 6, 8]"
      ]
     },
     "execution_count": 80,
     "metadata": {},
     "output_type": "execute_result"
    }
   ],
   "source": [
    "pressures_hPa = [1013, 950, 1010, 1020, 1032, 993, 989, 1018, 889, 1001]\n",
    "\n",
    "indices = []\n",
    "for j, pressure in enumerate(pressures_hPa):\n",
    "    if pressure < 1000:\n",
    "        indices.append(j)\n",
    "indices        "
   ]
  },
  {
   "cell_type": "markdown",
   "id": "56fa99cf-9319-486a-8249-14d68a583096",
   "metadata": {},
   "source": [
    "becomes..."
   ]
  },
  {
   "cell_type": "code",
   "execution_count": 81,
   "id": "9078adfc-f02e-4503-9d2f-d7458c26731d",
   "metadata": {},
   "outputs": [
    {
     "data": {
      "text/plain": [
       "[1, 5, 6, 8]"
      ]
     },
     "execution_count": 81,
     "metadata": {},
     "output_type": "execute_result"
    }
   ],
   "source": [
    "[j  for j, pressure in enumerate(pressures_hPa) if pressure < 1000]"
   ]
  },
  {
   "cell_type": "markdown",
   "id": "78dde51f-e0fb-40f8-8125-a321e7ad399d",
   "metadata": {},
   "source": [
    "### `while` loops\n",
    "\n",
    "A `while` loop run until a given condition is fulfilled. The structure is similar to a `for` statement:\n",
    "\n",
    "- First line opens with if and ends with a colon `:`\n",
    "- Body containing one or more statements is indented (usually by 4 spaces)"
   ]
  },
  {
   "cell_type": "code",
   "execution_count": 82,
   "id": "08b96139-d883-4342-bc7f-67e6d17b18c2",
   "metadata": {},
   "outputs": [
    {
     "name": "stdout",
     "output_type": "stream",
     "text": [
      "inside loop - current level: 90\n",
      "inside loop - current level: 270\n",
      "inside loop - current level: 810\n",
      "While loop ended, current level: 2430\n"
     ]
    }
   ],
   "source": [
    "level = 90\n",
    "while level < 1000:\n",
    "    print(f\"inside loop - current level: {level}\")\n",
    "    level += level*2\n",
    "print(f\"While loop ended, current level: {level}\")    "
   ]
  },
  {
   "cell_type": "markdown",
   "id": "277ef03e-2a1d-4d4f-a582-14dd6bf8d582",
   "metadata": {},
   "source": [
    "Use `break` to go out of a for/while loop:"
   ]
  },
  {
   "cell_type": "code",
   "execution_count": 83,
   "id": "74504cfd-d113-484c-9c68-3991972348c8",
   "metadata": {},
   "outputs": [
    {
     "name": "stdout",
     "output_type": "stream",
     "text": [
      "inside loop - current level: 90\n",
      "inside loop - current level: 270\n",
      "Stop the iteration\n",
      "While loop ended, current level: 270\n"
     ]
    }
   ],
   "source": [
    "level = 90\n",
    "while level < 1000:\n",
    "    print(f\"inside loop - current level: {level}\")\n",
    "\n",
    "    if level == 270:\n",
    "        print(\"Stop the iteration\")\n",
    "        break\n",
    "    level += level*2\n",
    "\n",
    "print(f\"While loop ended, current level: {level}\")    "
   ]
  },
  {
   "cell_type": "markdown",
   "id": "1d82c65c-c98a-46af-8d93-0b42f2377721",
   "metadata": {},
   "source": [
    "Use `continue` to go directly to the next iteration of a loop:"
   ]
  },
  {
   "cell_type": "code",
   "execution_count": 84,
   "id": "686ee1ac-bd98-4e6c-a746-bff60def2025",
   "metadata": {},
   "outputs": [
    {
     "name": "stdout",
     "output_type": "stream",
     "text": [
      "inside loop - current level: 90\n",
      "inside loop - current level: 270\n",
      "Skip this iteration, adding one\n",
      "inside loop - current level: 271\n",
      "inside loop - current level: 813\n",
      "While loop ended, current level: 2439\n"
     ]
    }
   ],
   "source": [
    "level = 90\n",
    "while level < 1000:\n",
    "    print(f\"inside loop - current level: {level}\")\n",
    "\n",
    "    if level == 270:\n",
    "        print(\"Skip this iteration, adding one\")\n",
    "        level += 1\n",
    "        continue\n",
    "    level += level*2\n",
    "\n",
    "print(f\"While loop ended, current level: {level}\")    "
   ]
  },
  {
   "cell_type": "code",
   "execution_count": null,
   "id": "852c02f9-0e5d-44e8-bb90-919a0a81354d",
   "metadata": {},
   "outputs": [],
   "source": []
  }
 ],
 "metadata": {
  "kernelspec": {
   "display_name": "Python 3 (ipykernel)",
   "language": "python",
   "name": "python3"
  },
  "language_info": {
   "codemirror_mode": {
    "name": "ipython",
    "version": 3
   },
   "file_extension": ".py",
   "mimetype": "text/x-python",
   "name": "python",
   "nbconvert_exporter": "python",
   "pygments_lexer": "ipython3",
   "version": "3.8.16"
  },
  "toc-showcode": false
 },
 "nbformat": 4,
 "nbformat_minor": 5
}
