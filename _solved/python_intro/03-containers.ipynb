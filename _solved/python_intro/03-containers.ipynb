{
 "cells": [
  {
   "cell_type": "markdown",
   "metadata": {
    "editable": true,
    "slideshow": {
     "slide_type": ""
    }
   },
   "source": [
    "# Containers and slicing\n",
    "\n",
    "> *© 2024, Joris Van den Bossche and Stijn Van Hoey  (<mailto:jorisvandenbossche@gmail.com>, <mailto:stijnvanhoey@gmail.com>). Licensed under [CC BY 4.0 Creative Commons](http://creativecommons.org/licenses/by/4.0/)*\n",
    "\n",
    "------\n",
    "\n",
    "> This notebook is based on material of the [*Python Scientific Lecture Notes*](https://scipy-lectures.github.io/), the [*Software Carptentry: Programming with Python gapminder course*](https://swcarpentry.github.io/python-novice-gapminder) and the [*Software Carptentry: Programming with Python inflammation course*](https://swcarpentry.github.io/python-novice-inflammation/)."
   ]
  },
  {
   "cell_type": "markdown",
   "metadata": {},
   "source": [
    "## Introduction"
   ]
  },
  {
   "cell_type": "markdown",
   "metadata": {
    "editable": true,
    "slideshow": {
     "slide_type": ""
    }
   },
   "source": [
    "If I measure air pressure multiple times, doing calculations with a hundred variables called `pressure_001`, `pressure_002`, etc., would be slow and inconvenient. We need _container_ or _collection_ data types to combine multiple values in a single object."
   ]
  },
  {
   "cell_type": "markdown",
   "metadata": {
    "editable": true,
    "slideshow": {
     "slide_type": ""
    }
   },
   "source": [
    "## Lists"
   ]
  },
  {
   "cell_type": "markdown",
   "metadata": {
    "editable": true,
    "slideshow": {
     "slide_type": ""
    }
   },
   "source": [
    "We can use a list to store many values together:\n",
    "\n",
    "- Contained within square brackets `[...]`.\n",
    "- Values separated by commas `,`.\n"
   ]
  },
  {
   "cell_type": "code",
   "execution_count": 1,
   "metadata": {
    "editable": true,
    "slideshow": {
     "slide_type": ""
    }
   },
   "outputs": [],
   "source": [
    "pressures_hPa = [1013, 1003, 1010, 1020, 1032, 993, 989, 1018, 889, 1001]"
   ]
  },
  {
   "cell_type": "code",
   "execution_count": 2,
   "metadata": {
    "editable": true,
    "slideshow": {
     "slide_type": ""
    }
   },
   "outputs": [
    {
     "data": {
      "text/plain": [
       "10"
      ]
     },
     "execution_count": 2,
     "metadata": {},
     "output_type": "execute_result"
    }
   ],
   "source": [
    "len(pressures_hPa)  # len is a built-in function in Python (does not require an import)"
   ]
  },
  {
   "cell_type": "markdown",
   "metadata": {
    "editable": true,
    "slideshow": {
     "slide_type": ""
    }
   },
   "source": [
    "A list is an ordered collection of objects, that may have different types. "
   ]
  },
  {
   "cell_type": "code",
   "execution_count": 3,
   "metadata": {
    "editable": true,
    "run_control": {
     "frozen": false,
     "read_only": false
    },
    "slideshow": {
     "slide_type": ""
    }
   },
   "outputs": [
    {
     "data": {
      "text/plain": [
       "[2.0, 'aa', 0.2]"
      ]
     },
     "execution_count": 3,
     "metadata": {},
     "output_type": "execute_result"
    }
   ],
   "source": [
    "a_list = [2.,'aa', 0.2]\n",
    "a_list"
   ]
  },
  {
   "cell_type": "markdown",
   "metadata": {
    "editable": true,
    "slideshow": {
     "slide_type": ""
    }
   },
   "source": [
    "Use an item’s index to fetch it from a list  and have access to individual object in the list:"
   ]
  },
  {
   "cell_type": "code",
   "execution_count": 4,
   "metadata": {
    "editable": true,
    "run_control": {
     "frozen": false,
     "read_only": false
    },
    "slideshow": {
     "slide_type": ""
    }
   },
   "outputs": [
    {
     "data": {
      "text/plain": [
       "'aa'"
      ]
     },
     "execution_count": 4,
     "metadata": {},
     "output_type": "execute_result"
    }
   ],
   "source": [
    "a_list[1]"
   ]
  },
  {
   "cell_type": "code",
   "execution_count": 5,
   "metadata": {
    "editable": true,
    "run_control": {
     "frozen": false,
     "read_only": false
    },
    "slideshow": {
     "slide_type": ""
    }
   },
   "outputs": [
    {
     "data": {
      "text/plain": [
       "0.2"
      ]
     },
     "execution_count": 5,
     "metadata": {},
     "output_type": "execute_result"
    }
   ],
   "source": [
    "a_list[-1]  # negative indices are used to count from the back"
   ]
  },
  {
   "cell_type": "markdown",
   "metadata": {
    "editable": true,
    "slideshow": {
     "slide_type": ""
    }
   },
   "source": [
    "Use `[]` on its own to represent a list that doesn’t contain any values. "
   ]
  },
  {
   "cell_type": "code",
   "execution_count": 6,
   "metadata": {
    "editable": true,
    "slideshow": {
     "slide_type": ""
    }
   },
   "outputs": [
    {
     "data": {
      "text/plain": [
       "(list, 0)"
      ]
     },
     "execution_count": 6,
     "metadata": {},
     "output_type": "execute_result"
    }
   ],
   "source": [
    "type([]), len([])"
   ]
  },
  {
   "cell_type": "markdown",
   "metadata": {
    "editable": true,
    "slideshow": {
     "slide_type": ""
    }
   },
   "source": [
    "<div class=\"alert alert-warning\">\n",
    "\n",
    "__Warning__: \n",
    "    \n",
    "Indexing in Python starts at 0 (as in C, C++ or Java), not at 1 (as in Fortran or Matlab)!\n",
    "    \n",
    "</div>"
   ]
  },
  {
   "cell_type": "markdown",
   "metadata": {},
   "source": [
    "Lists are __mutable__ objects and can be modified. Lists’ __values can be replaced by assigning to them__. Use an index expression on the left of assignment to replace a value:"
   ]
  },
  {
   "cell_type": "code",
   "execution_count": 7,
   "metadata": {
    "editable": true,
    "slideshow": {
     "slide_type": ""
    }
   },
   "outputs": [
    {
     "data": {
      "text/plain": [
       "[2.0, 3000, 0.2]"
      ]
     },
     "execution_count": 7,
     "metadata": {},
     "output_type": "execute_result"
    }
   ],
   "source": [
    "a_list[1] = 3000\n",
    "a_list"
   ]
  },
  {
   "cell_type": "markdown",
   "metadata": {
    "editable": true,
    "slideshow": {
     "slide_type": ""
    }
   },
   "source": [
    "__Slicing:__ \n",
    "\n",
    "Obtaining sublists of regularly-spaced elements by using the indexes (either contiguous or non-contiguous with a step size):"
   ]
  },
  {
   "cell_type": "code",
   "execution_count": 8,
   "metadata": {
    "editable": true,
    "run_control": {
     "frozen": false,
     "read_only": false
    },
    "slideshow": {
     "slide_type": ""
    }
   },
   "outputs": [
    {
     "name": "stdout",
     "output_type": "stream",
     "text": [
      "['third', 'fourth']\n",
      "['fourth', 'fifth']\n",
      "['first', 'second']\n",
      "['first', 'third', 'fifth']\n",
      "['first', 'second', 'third']\n"
     ]
    }
   ],
   "source": [
    "another_list = ['first', 'second', 'third', 'fourth', 'fifth']\n",
    "print(another_list[2:4])\n",
    "print(another_list[3:])\n",
    "print(another_list[:2])\n",
    "print(another_list[::2])\n",
    "print(another_list[:-2])"
   ]
  },
  {
   "cell_type": "code",
   "execution_count": 9,
   "metadata": {
    "editable": true,
    "slideshow": {
     "slide_type": ""
    }
   },
   "outputs": [
    {
     "name": "stdout",
     "output_type": "stream",
     "text": [
      "['second', 'third']\n"
     ]
    }
   ],
   "source": [
    "print(another_list[-4:-2])"
   ]
  },
  {
   "cell_type": "markdown",
   "metadata": {
    "editable": true,
    "slideshow": {
     "slide_type": ""
    }
   },
   "source": [
    "Python reports an `IndexError` if we attempt to access a value that doesn’t exist:"
   ]
  },
  {
   "cell_type": "code",
   "execution_count": 10,
   "metadata": {
    "editable": true,
    "slideshow": {
     "slide_type": ""
    }
   },
   "outputs": [],
   "source": [
    "#another_list[20]"
   ]
  },
  {
   "cell_type": "markdown",
   "metadata": {
    "editable": true,
    "slideshow": {
     "slide_type": ""
    }
   },
   "source": [
    "<div class=\"alert alert-info\">\n",
    "\n",
    "__Info__: \n",
    "\n",
    "* Slicing syntax: `L[start:stop:step]`\n",
    "* `L[start:stop]` contains the elements with indices i so `start <= i < stop`\n",
    "* i ranging from start to stop-1. Therefore, L[start:stop] has (stop-start) elements.\n",
    "* All slicing parameters are optional\n",
    "* All slicing parameters can be negative (counting backwards)\n",
    "\n",
    "</div> "
   ]
  },
  {
   "cell_type": "markdown",
   "metadata": {
    "editable": true,
    "slideshow": {
     "slide_type": ""
    }
   },
   "source": [
    "When assigning a list to a new variable name, both names are linked to the same data in memory on your computer (cfr. two sticky notes specifiying the same). When changing one of them, the other will also be adjusted:"
   ]
  },
  {
   "cell_type": "code",
   "execution_count": 11,
   "metadata": {
    "editable": true,
    "run_control": {
     "frozen": false,
     "read_only": false
    },
    "slideshow": {
     "slide_type": ""
    }
   },
   "outputs": [
    {
     "name": "stdout",
     "output_type": "stream",
     "text": [
      "[1, 'b']\n"
     ]
    }
   ],
   "source": [
    "a = ['a',  'b']\n",
    "b = a\n",
    "b[0] = 1\n",
    "print(a)"
   ]
  },
  {
   "cell_type": "markdown",
   "metadata": {
    "editable": true,
    "slideshow": {
     "slide_type": ""
    }
   },
   "source": [
    "By making an explicit `copy()`, both names are linking to independent data: "
   ]
  },
  {
   "cell_type": "code",
   "execution_count": 12,
   "metadata": {
    "editable": true,
    "slideshow": {
     "slide_type": ""
    }
   },
   "outputs": [
    {
     "name": "stdout",
     "output_type": "stream",
     "text": [
      "['a', 'b']\n"
     ]
    }
   ],
   "source": [
    "a = ['a',  'b']\n",
    "b = a.copy()\n",
    "b[0] = 1\n",
    "print(a)"
   ]
  },
  {
   "cell_type": "markdown",
   "metadata": {
    "editable": true,
    "slideshow": {
     "slide_type": ""
    }
   },
   "source": [
    "<div class=\"alert alert-warning\">\n",
    "\n",
    "__Warning__: \n",
    "    \n",
    "With two variables being identical, they point to the same point in memory. Changing one of them is also changing the other!\n",
    "    \n",
    "</div>"
   ]
  },
  {
   "cell_type": "markdown",
   "metadata": {
    "editable": true,
    "slideshow": {
     "slide_type": ""
    }
   },
   "source": [
    "**List methods**:"
   ]
  },
  {
   "cell_type": "markdown",
   "metadata": {
    "editable": true,
    "slideshow": {
     "slide_type": ""
    }
   },
   "source": [
    "You can enlist the available _methods_ of a `list` using the `TAB` key  or using the (built-in) `dir()`-function:"
   ]
  },
  {
   "cell_type": "code",
   "execution_count": 13,
   "metadata": {
    "editable": true,
    "run_control": {
     "frozen": false,
     "read_only": false
    },
    "slideshow": {
     "slide_type": ""
    }
   },
   "outputs": [],
   "source": [
    "#dir(list)"
   ]
  },
  {
   "cell_type": "code",
   "execution_count": 14,
   "metadata": {
    "editable": true,
    "run_control": {
     "frozen": false,
     "read_only": false
    },
    "slideshow": {
     "slide_type": ""
    }
   },
   "outputs": [],
   "source": [
    "a_third_list = ['red', 'blue', 'green', 'black', 'white']"
   ]
  },
  {
   "cell_type": "markdown",
   "metadata": {
    "editable": true,
    "slideshow": {
     "slide_type": ""
    }
   },
   "source": [
    "Som examples of methods:"
   ]
  },
  {
   "cell_type": "code",
   "execution_count": 15,
   "metadata": {
    "editable": true,
    "run_control": {
     "frozen": false,
     "read_only": false
    },
    "slideshow": {
     "slide_type": ""
    }
   },
   "outputs": [
    {
     "data": {
      "text/plain": [
       "['red', 'blue', 'green', 'black', 'white', 'pink']"
      ]
     },
     "execution_count": 15,
     "metadata": {},
     "output_type": "execute_result"
    }
   ],
   "source": [
    "# Appending in-place\n",
    "a_third_list.append('pink')\n",
    "a_third_list"
   ]
  },
  {
   "cell_type": "code",
   "execution_count": 16,
   "metadata": {
    "editable": true,
    "run_control": {
     "frozen": false,
     "read_only": false
    },
    "slideshow": {
     "slide_type": ""
    }
   },
   "outputs": [
    {
     "data": {
      "text/plain": [
       "['red', 'blue', 'green', 'black', 'white']"
      ]
     },
     "execution_count": 16,
     "metadata": {},
     "output_type": "execute_result"
    }
   ],
   "source": [
    "# Removes and returns the last element in-place\n",
    "a_third_list.pop()\n",
    "a_third_list"
   ]
  },
  {
   "cell_type": "code",
   "execution_count": 17,
   "metadata": {
    "editable": true,
    "run_control": {
     "frozen": false,
     "read_only": false
    },
    "slideshow": {
     "slide_type": ""
    }
   },
   "outputs": [
    {
     "data": {
      "text/plain": [
       "['red', 'blue', 'green', 'black', 'white', 'pink', 'purple']"
      ]
     },
     "execution_count": 17,
     "metadata": {},
     "output_type": "execute_result"
    }
   ],
   "source": [
    "# Extends the list in-place\n",
    "a_third_list.extend(['pink', 'purple'])\n",
    "a_third_list"
   ]
  },
  {
   "cell_type": "code",
   "execution_count": 18,
   "metadata": {
    "editable": true,
    "slideshow": {
     "slide_type": ""
    }
   },
   "outputs": [],
   "source": [
    "a_third_list.extend(['pink', 'purple'])"
   ]
  },
  {
   "cell_type": "markdown",
   "metadata": {
    "editable": true,
    "slideshow": {
     "slide_type": ""
    }
   },
   "source": [
    "<div class=\"alert alert-info\">\n",
    "\n",
    "__Remember__: \n",
    "    \n",
    " The methods of a list update the list __in-place__, so we do not reassign the output to a variable name.\n",
    "    \n",
    "</div> "
   ]
  },
  {
   "cell_type": "markdown",
   "metadata": {
    "editable": true,
    "slideshow": {
     "slide_type": ""
    }
   },
   "source": [
    "Concatenating lists is the same as summing both lists:"
   ]
  },
  {
   "cell_type": "code",
   "execution_count": 19,
   "metadata": {
    "editable": true,
    "run_control": {
     "frozen": false,
     "read_only": false
    },
    "slideshow": {
     "slide_type": ""
    }
   },
   "outputs": [
    {
     "data": {
      "text/plain": [
       "['red',\n",
       " 'blue',\n",
       " 'green',\n",
       " 'black',\n",
       " 'white',\n",
       " 'pink',\n",
       " 'purple',\n",
       " 'pink',\n",
       " 'purple',\n",
       " 'pink',\n",
       " 'orange']"
      ]
     },
     "execution_count": 19,
     "metadata": {},
     "output_type": "execute_result"
    }
   ],
   "source": [
    "a_list = ['pink', 'orange']\n",
    "a_concatenated_list = a_third_list + a_list\n",
    "a_concatenated_list"
   ]
  },
  {
   "cell_type": "markdown",
   "metadata": {
    "editable": true,
    "slideshow": {
     "slide_type": ""
    }
   },
   "source": [
    "The multiplication of a list with a value N will repeat the same list N times:"
   ]
  },
  {
   "cell_type": "code",
   "execution_count": 20,
   "metadata": {
    "editable": true,
    "slideshow": {
     "slide_type": ""
    }
   },
   "outputs": [
    {
     "name": "stdout",
     "output_type": "stream",
     "text": [
      "['red', 'blue', 'green', 'black', 'white', 'pink', 'purple', 'pink', 'purple', 'pink', 'orange', 'red', 'blue', 'green', 'black', 'white', 'pink', 'purple', 'pink', 'purple', 'pink', 'orange', 'red', 'blue', 'green', 'black', 'white', 'pink', 'purple', 'pink', 'purple', 'pink', 'orange', 'red', 'blue', 'green', 'black', 'white', 'pink', 'purple', 'pink', 'purple', 'pink', 'orange']\n"
     ]
    }
   ],
   "source": [
    "a_repeated_list = a_concatenated_list * 4\n",
    "print(a_repeated_list)"
   ]
  },
  {
   "cell_type": "markdown",
   "metadata": {
    "editable": true,
    "slideshow": {
     "slide_type": ""
    }
   },
   "source": [
    "### Exercises"
   ]
  },
  {
   "cell_type": "code",
   "execution_count": 21,
   "metadata": {
    "editable": true,
    "slideshow": {
     "slide_type": ""
    }
   },
   "outputs": [],
   "source": [
    "pressures_hPa = [1013, 1003, 1010, 1020, 1032, 993, 989, 1018, 889, 1001]"
   ]
  },
  {
   "cell_type": "markdown",
   "metadata": {
    "editable": true,
    "slideshow": {
     "slide_type": ""
    }
   },
   "source": [
    "<div class=\"alert alert-success\">\n",
    "\n",
    "**EXERCISE**:\n",
    "\n",
    "Change the 3rd element of the `pressures_hPa` list to the value 1111.\n",
    "\n",
    "<details><summary>Hints</summary>\n",
    "\n",
    "- Selecting elements require square brackets `[]`\n",
    "- Python starts counting at 0, so the third element has index 2\n",
    "    \n",
    "</details>    \n",
    "    \n",
    "</div>"
   ]
  },
  {
   "cell_type": "code",
   "execution_count": 22,
   "metadata": {
    "editable": true,
    "slideshow": {
     "slide_type": ""
    },
    "tags": [
     "nbtutor-solution"
    ]
   },
   "outputs": [
    {
     "data": {
      "text/plain": [
       "[1013, 1003, 1111, 1020, 1032, 993, 989, 1018, 889, 1001]"
      ]
     },
     "execution_count": 22,
     "metadata": {},
     "output_type": "execute_result"
    }
   ],
   "source": [
    "pressures_hPa[2] = 1111\n",
    "pressures_hPa"
   ]
  },
  {
   "cell_type": "markdown",
   "metadata": {
    "editable": true,
    "slideshow": {
     "slide_type": ""
    }
   },
   "source": [
    "<div class=\"alert alert-success\">\n",
    "\n",
    "**EXERCISE**:\n",
    "\n",
    "Insert an additional measured pressure value of `1212` on position 5 of the list (making the list one element larger).\n",
    "\n",
    "<details><summary>Hints</summary>\n",
    "\n",
    "- Explore the available list _methods_ by using the TAB key after the dot: `pressures_hPa.` + TAB. Which method would be useful to _insert_ a new element?\n",
    "- Remember that list methods do adjust the list in-place.\n",
    "\n",
    "    \n",
    "</details>    \n",
    "    \n",
    "</div>"
   ]
  },
  {
   "cell_type": "code",
   "execution_count": 24,
   "metadata": {
    "editable": true,
    "slideshow": {
     "slide_type": ""
    },
    "tags": [
     "nbtutor-solution"
    ]
   },
   "outputs": [
    {
     "data": {
      "text/plain": [
       "[1013, 1003, 1111, 1020, 1212, 1212, 1032, 993, 989, 1018, 889, 1001]"
      ]
     },
     "execution_count": 24,
     "metadata": {},
     "output_type": "execute_result"
    }
   ],
   "source": [
    "pressures_hPa.insert(4, 1212)\n",
    "pressures_hPa"
   ]
  },
  {
   "cell_type": "markdown",
   "metadata": {
    "editable": true,
    "slideshow": {
     "slide_type": ""
    }
   },
   "source": [
    "<div class=\"alert alert-success\">\n",
    "\n",
    "**EXERCISE**:\n",
    "\n",
    "Select the last 3 elements of the list `pressures_hPa`.\n",
    "\n",
    "<details><summary>Hints</summary>\n",
    "\n",
    "- You can count elements backwards from the end by using a negative index.\n",
    "- The syntax to select elements is `L[start:stop:step]`, with each of them optional.\n",
    "    \n",
    "</details>    \n",
    "    \n",
    "</div>"
   ]
  },
  {
   "cell_type": "code",
   "execution_count": 25,
   "metadata": {
    "editable": true,
    "slideshow": {
     "slide_type": ""
    },
    "tags": [
     "nbtutor-solution"
    ]
   },
   "outputs": [
    {
     "data": {
      "text/plain": [
       "[1018, 889, 1001]"
      ]
     },
     "execution_count": 25,
     "metadata": {},
     "output_type": "execute_result"
    }
   ],
   "source": [
    "pressures_hPa[-3:]"
   ]
  },
  {
   "cell_type": "markdown",
   "metadata": {
    "editable": true,
    "slideshow": {
     "slide_type": ""
    }
   },
   "source": [
    "<div class=\"alert alert-success\">\n",
    "\n",
    "**EXERCISE**:\n",
    "\n",
    "Select all of the even-numbered items from the variable `pressures_hPa`.\n",
    "\n",
    "<details><summary>Hints</summary>\n",
    "\n",
    "- Start with element 1 (which is the second element, since indexing starts at 0), go on until the end (since no end is given), and uses a step size of 2 (i.e., selects every second element).\n",
    "    \n",
    "</details>    \n",
    "    \n",
    "</div>"
   ]
  },
  {
   "cell_type": "code",
   "execution_count": 26,
   "metadata": {
    "editable": true,
    "slideshow": {
     "slide_type": ""
    },
    "tags": [
     "nbtutor-solution"
    ]
   },
   "outputs": [
    {
     "data": {
      "text/plain": [
       "[1003, 1020, 1212, 993, 1018, 1001]"
      ]
     },
     "execution_count": 26,
     "metadata": {},
     "output_type": "execute_result"
    }
   ],
   "source": [
    "pressures_hPa[1::2]"
   ]
  },
  {
   "cell_type": "markdown",
   "metadata": {
    "editable": true,
    "slideshow": {
     "slide_type": ""
    }
   },
   "source": [
    "<div class=\"alert alert-success\">\n",
    "\n",
    "**EXERCISE**:\n",
    "\n",
    "Explain the difference between `sorted(pressures_hPa)` and `pressures_hPa.sort()`.\n",
    "\n",
    "<details><summary>Hints</summary>\n",
    "\n",
    "- `.sort()` is a list method whereas the `sorted` is a standard Python function  \n",
    "    \n",
    "</details>    \n",
    "    \n",
    "</div>"
   ]
  },
  {
   "cell_type": "code",
   "execution_count": 27,
   "metadata": {
    "editable": true,
    "slideshow": {
     "slide_type": ""
    },
    "tags": [
     "nbtutor-solution"
    ]
   },
   "outputs": [
    {
     "name": "stdout",
     "output_type": "stream",
     "text": [
      "[889, 989, 993, 1001, 1003, 1013, 1018, 1020, 1032, 1111, 1212, 1212]\n",
      "None\n",
      "[889, 989, 993, 1001, 1003, 1013, 1018, 1020, 1032, 1111, 1212, 1212]\n"
     ]
    }
   ],
   "source": [
    "# Returns a sorted copy of the list (the original list `pressures_hPa` remains unchanged)\n",
    "print(sorted(pressures_hPa))\n",
    "# The list methos `sort` sorts the list in-place and does not return anything on itself\n",
    "print(pressures_hPa.sort())\n",
    "print(pressures_hPa)"
   ]
  },
  {
   "cell_type": "markdown",
   "metadata": {
    "editable": true,
    "slideshow": {
     "slide_type": ""
    }
   },
   "source": [
    "<div class=\"alert alert-success\">\n",
    "\n",
    "**EXERCISE**:\n",
    "\n",
    "Why is the following not working?\n",
    "    \n",
    "```python\n",
    "a_third_list = ['red', 'blue', 'green', 'black', 'white']\n",
    "reverted = a_third_list.reverse()\n",
    "a_concatenated_list = a_third_list + reverted    \n",
    "```\n",
    "    \n",
    "- Try out the code snippet yourself and clarify why this raises an error. \n",
    "- Fix the error so the `a_third_list` is concatenated with the reverse of `a_third_list`\n",
    "\n",
    "<details><summary>Hints</summary>\n",
    "\n",
    "- A list method updated the list in-place.\n",
    "- To create a copy instead of a view on the data, use the `copy()` method.    \n",
    "    \n",
    "</details>    \n",
    "    \n",
    "</div>"
   ]
  },
  {
   "cell_type": "code",
   "execution_count": 28,
   "metadata": {
    "editable": true,
    "slideshow": {
     "slide_type": ""
    },
    "tags": [
     "nbtutor-solution"
    ]
   },
   "outputs": [
    {
     "data": {
      "text/plain": [
       "['red',\n",
       " 'blue',\n",
       " 'green',\n",
       " 'black',\n",
       " 'white',\n",
       " 'white',\n",
       " 'black',\n",
       " 'green',\n",
       " 'blue',\n",
       " 'red']"
      ]
     },
     "execution_count": 28,
     "metadata": {},
     "output_type": "execute_result"
    }
   ],
   "source": [
    "a_third_list = ['red', 'blue', 'green', 'black', 'white']\n",
    "a_third_list_reversed = a_third_list.copy()\n",
    "a_third_list_reversed.reverse()\n",
    "a_concatenated_list = a_third_list + a_third_list_reversed\n",
    "a_concatenated_list"
   ]
  },
  {
   "cell_type": "markdown",
   "metadata": {
    "editable": true,
    "slideshow": {
     "slide_type": ""
    }
   },
   "source": [
    "------------"
   ]
  },
  {
   "cell_type": "markdown",
   "metadata": {
    "editable": true,
    "slideshow": {
     "slide_type": ""
    }
   },
   "source": [
    "## Strings"
   ]
  },
  {
   "cell_type": "markdown",
   "metadata": {},
   "source": [
    "A character string is a 'container' of individual characters. Different string syntaxes do exist: simple, double or triple quotes:"
   ]
  },
  {
   "cell_type": "code",
   "execution_count": 29,
   "metadata": {
    "editable": true,
    "run_control": {
     "frozen": false,
     "read_only": false
    },
    "slideshow": {
     "slide_type": ""
    }
   },
   "outputs": [
    {
     "name": "stdout",
     "output_type": "stream",
     "text": [
      "Never gonna give you up\n",
      "never gonna let you down\n",
      "Never gonna run around \n",
      "    and desert you\n",
      "Never gonna make you cry, \n",
      "    never gonna say goodbye\n"
     ]
    }
   ],
   "source": [
    "lyric = 'Never gonna give you up'\n",
    "print(lyric)\n",
    "\n",
    "lyric = \"never gonna let you down\"\n",
    "print(lyric)\n",
    "\n",
    "lyric = '''Never gonna run around \n",
    "    and desert you'''         \n",
    "print(lyric)\n",
    "\n",
    "lyric = \"\"\"Never gonna make you cry, \n",
    "    never gonna say goodbye\"\"\"\n",
    "print(lyric)"
   ]
  },
  {
   "cell_type": "code",
   "execution_count": 30,
   "metadata": {},
   "outputs": [],
   "source": [
    "## pay attention when using apostrophes! - test out the next two lines one at a time\n",
    "#print('Hi, what's up?')\n",
    "#print(\"Hi, what's up?\")"
   ]
  },
  {
   "cell_type": "markdown",
   "metadata": {},
   "source": [
    "<div class=\"alert alert-info\">\n",
    "\n",
    "__Remember__: \n",
    "    \n",
    " Single `'` and double `\"` quotes are the same and can be interchanged. See the [official Python style guidelines](https://peps.python.org/pep-0008/#string-quotes).\n",
    "    \n",
    "</div> "
   ]
  },
  {
   "cell_type": "markdown",
   "metadata": {},
   "source": [
    "The newline character is **\\n**, and the tab character is **\\t**."
   ]
  },
  {
   "cell_type": "code",
   "execution_count": 31,
   "metadata": {
    "run_control": {
     "frozen": false,
     "read_only": false
    }
   },
   "outputs": [
    {
     "name": "stdout",
     "output_type": "stream",
     "text": [
      "Never gonna tell a lie and hurt you. Never gonna give you up,\tnever gonna let you down Never \n",
      "gonna\n",
      " run around and\t desert\t you\n"
     ]
    }
   ],
   "source": [
    "print(\"Never gonna tell a lie and hurt you. Never gonna give you up,\\tnever gonna let you down Never \\ngonna\\n run around and\\t desert\\t you\")"
   ]
  },
  {
   "cell_type": "markdown",
   "metadata": {},
   "source": [
    "Strings are a container just like lists. Hence they can be __indexed and sliced__, using the same syntax and rules:"
   ]
  },
  {
   "cell_type": "code",
   "execution_count": 32,
   "metadata": {
    "editable": true,
    "run_control": {
     "frozen": false,
     "read_only": false
    },
    "slideshow": {
     "slide_type": ""
    }
   },
   "outputs": [
    {
     "name": "stdout",
     "output_type": "stream",
     "text": [
      "P\n",
      "ytho\n",
      "us\n"
     ]
    }
   ],
   "source": [
    "a_string = \"Python course\"\n",
    "print(a_string[0])\n",
    "print(a_string[1:5])\n",
    "print(a_string[-4:-1:2])"
   ]
  },
  {
   "cell_type": "markdown",
   "metadata": {
    "editable": true,
    "slideshow": {
     "slide_type": ""
    }
   },
   "source": [
    "A string is __an immutable object__ and it is not possible to modify its contents. Immutable obects (e.g. strings) can’t be changed after creation, mutable objects (e.g. lists) can be modified in place after creation."
   ]
  },
  {
   "cell_type": "code",
   "execution_count": 33,
   "metadata": {
    "editable": true,
    "run_control": {
     "frozen": false,
     "read_only": false
    },
    "slideshow": {
     "slide_type": ""
    }
   },
   "outputs": [],
   "source": [
    "#a_string[3] = 'q'   # uncomment this cell"
   ]
  },
  {
   "cell_type": "markdown",
   "metadata": {
    "editable": true,
    "slideshow": {
     "slide_type": ""
    }
   },
   "source": [
    "String objects also provide a number of __methods__. One can explore the namespace using `dir()` or using the TAB-key:"
   ]
  },
  {
   "cell_type": "code",
   "execution_count": 34,
   "metadata": {
    "editable": true,
    "run_control": {
     "frozen": false,
     "read_only": false
    },
    "slideshow": {
     "slide_type": ""
    }
   },
   "outputs": [],
   "source": [
    "#dir(str) # uncomment this cell"
   ]
  },
  {
   "cell_type": "code",
   "execution_count": 35,
   "metadata": {
    "editable": true,
    "run_control": {
     "frozen": false,
     "read_only": false
    },
    "slideshow": {
     "slide_type": ""
    }
   },
   "outputs": [
    {
     "data": {
      "text/plain": [
       "'stsawbessy-saspbessy pastsy package party'"
      ]
     },
     "execution_count": 35,
     "metadata": {},
     "output_type": "execute_result"
    }
   ],
   "source": [
    "another_string = \"Strawberry-raspBerry pAstry package party\"\n",
    "another_string.lower().replace(\"r\", \"s\", 7)"
   ]
  },
  {
   "cell_type": "markdown",
   "metadata": {
    "editable": true,
    "slideshow": {
     "slide_type": ""
    }
   },
   "source": [
    "__String formatting__\n",
    "\n",
    "[Formatted String Literals](https://docs.python.org/3/tutorial/inputoutput.html#formatted-string-literals) are a powerful way to include the value of Python expressions inside a string:\n",
    "\n",
    "- prefixing the string with `f`\n",
    "- write Python expressions as `{ expression }`"
   ]
  },
  {
   "cell_type": "code",
   "execution_count": 36,
   "metadata": {
    "editable": true,
    "slideshow": {
     "slide_type": ""
    }
   },
   "outputs": [
    {
     "data": {
      "text/plain": [
       "'An integer: 1; a float: 2.0; another string: Python course'"
      ]
     },
     "execution_count": 36,
     "metadata": {},
     "output_type": "execute_result"
    }
   ],
   "source": [
    "an_integer = 1\n",
    "a_float = 2.0\n",
    "a_string = \"Python course\"\n",
    "\n",
    "f\"An integer: {an_integer}; a float: {a_float}; another string: {a_string}\""
   ]
  },
  {
   "cell_type": "markdown",
   "metadata": {
    "editable": true,
    "slideshow": {
     "slide_type": ""
    }
   },
   "source": [
    "Let's say we have multiple data files in a directory on our computer and we want to access a specific file using a configuration parameter:"
   ]
  },
  {
   "cell_type": "code",
   "execution_count": 37,
   "metadata": {
    "editable": true,
    "run_control": {
     "frozen": false,
     "read_only": false
    },
    "slideshow": {
     "slide_type": ""
    }
   },
   "outputs": [
    {
     "data": {
      "text/plain": [
       "'processing_of_dataset_20.txt'"
      ]
     },
     "execution_count": 37,
     "metadata": {},
     "output_type": "execute_result"
    }
   ],
   "source": [
    "dataset_id = 20\n",
    "file_name= f\"processing_of_dataset_{dataset_id}.txt\"\n",
    "file_name"
   ]
  },
  {
   "cell_type": "markdown",
   "metadata": {
    "editable": true,
    "slideshow": {
     "slide_type": ""
    }
   },
   "source": [
    "------------"
   ]
  },
  {
   "cell_type": "markdown",
   "metadata": {
    "editable": true,
    "slideshow": {
     "slide_type": ""
    }
   },
   "source": [
    "## Dictionaries"
   ]
  },
  {
   "cell_type": "markdown",
   "metadata": {
    "editable": true,
    "slideshow": {
     "slide_type": ""
    }
   },
   "source": [
    "Besides air pressure, I also measure temperature and I'd like to keep the measurements together. "
   ]
  },
  {
   "cell_type": "code",
   "execution_count": 38,
   "metadata": {
    "editable": true,
    "slideshow": {
     "slide_type": ""
    }
   },
   "outputs": [],
   "source": [
    "pressures_hPa = 1013\n",
    "temperature_degree = 23"
   ]
  },
  {
   "cell_type": "markdown",
   "metadata": {
    "editable": true,
    "slideshow": {
     "slide_type": ""
    }
   },
   "source": [
    "Storing them all in a single list would make is hard to work with. I want a _container_ or _collection_ data type that maps a name to values. \n",
    "\n",
    "We can use a dictionary that **maps keys to values**:\n",
    "\n",
    "- Contained within curly brackets `{...}`.\n",
    "- Each element is a combination of a key and a value separated by a colon: `key: value`.\n",
    "- Elements separated by commas `,`."
   ]
  },
  {
   "cell_type": "code",
   "execution_count": 39,
   "metadata": {
    "editable": true,
    "slideshow": {
     "slide_type": ""
    }
   },
   "outputs": [
    {
     "data": {
      "text/plain": [
       "{'pressure_hPa': 1013, 'temperature_degree': 23}"
      ]
     },
     "execution_count": 39,
     "metadata": {},
     "output_type": "execute_result"
    }
   ],
   "source": [
    "measurement = {\"pressure_hPa\": pressures_hPa,\n",
    "               \"temperature_degree\": temperature_degree\n",
    "              }\n",
    "measurement"
   ]
  },
  {
   "cell_type": "markdown",
   "metadata": {
    "editable": true,
    "slideshow": {
     "slide_type": ""
    }
   },
   "source": [
    "A dictionary can be used to store and retrieve values associated with a name. To retrieve the value, use square brackets `[]` with the key:"
   ]
  },
  {
   "cell_type": "code",
   "execution_count": 40,
   "metadata": {
    "editable": true,
    "run_control": {
     "frozen": false,
     "read_only": false
    },
    "slideshow": {
     "slide_type": ""
    }
   },
   "outputs": [
    {
     "data": {
      "text/plain": [
       "1013"
      ]
     },
     "execution_count": 40,
     "metadata": {},
     "output_type": "execute_result"
    }
   ],
   "source": [
    "measurement[\"pressure_hPa\"]"
   ]
  },
  {
   "cell_type": "markdown",
   "metadata": {
    "editable": true,
    "slideshow": {
     "slide_type": ""
    }
   },
   "source": [
    "New key-value combinations can be added by providing a new key"
   ]
  },
  {
   "cell_type": "code",
   "execution_count": 41,
   "metadata": {
    "editable": true,
    "run_control": {
     "frozen": false,
     "read_only": false
    },
    "slideshow": {
     "slide_type": ""
    }
   },
   "outputs": [
    {
     "data": {
      "text/plain": [
       "{'pressure_hPa': 1013, 'temperature_degree': 23, 'location': 'Ostend'}"
      ]
     },
     "execution_count": 41,
     "metadata": {},
     "output_type": "execute_result"
    }
   ],
   "source": [
    "measurement['location'] = \"Ostend\"\n",
    "measurement"
   ]
  },
  {
   "cell_type": "markdown",
   "metadata": {
    "editable": true,
    "slideshow": {
     "slide_type": ""
    }
   },
   "source": [
    "Assigning a new value to an existing key will overwrite the original value:"
   ]
  },
  {
   "cell_type": "code",
   "execution_count": 42,
   "metadata": {
    "editable": true,
    "slideshow": {
     "slide_type": ""
    }
   },
   "outputs": [
    {
     "data": {
      "text/plain": [
       "{'pressure_hPa': 1013, 'temperature_degree': 23, 'location': 'Ghent'}"
      ]
     },
     "execution_count": 42,
     "metadata": {},
     "output_type": "execute_result"
    }
   ],
   "source": [
    "measurement['location'] = \"Ghent\"\n",
    "measurement"
   ]
  },
  {
   "cell_type": "markdown",
   "metadata": {
    "editable": true,
    "slideshow": {
     "slide_type": ""
    }
   },
   "source": [
    "You can access the keys and values separately or the items as a list-alike:"
   ]
  },
  {
   "cell_type": "code",
   "execution_count": 43,
   "metadata": {
    "editable": true,
    "run_control": {
     "frozen": false,
     "read_only": false
    },
    "slideshow": {
     "slide_type": ""
    }
   },
   "outputs": [
    {
     "data": {
      "text/plain": [
       "(['pressure_hPa', 'temperature_degree', 'location'],\n",
       " [1013, 23, 'Ghent'],\n",
       " [('pressure_hPa', 1013), ('temperature_degree', 23), ('location', 'Ghent')])"
      ]
     },
     "execution_count": 43,
     "metadata": {},
     "output_type": "execute_result"
    }
   ],
   "source": [
    "list(measurement.keys()), list(measurement.values()), list(measurement.items())"
   ]
  },
  {
   "cell_type": "markdown",
   "metadata": {
    "editable": true,
    "slideshow": {
     "slide_type": ""
    }
   },
   "source": [
    "----------------------------"
   ]
  },
  {
   "cell_type": "markdown",
   "metadata": {},
   "source": [
    "## Tuples"
   ]
  },
  {
   "cell_type": "markdown",
   "metadata": {},
   "source": [
    "Tuples are __immutable lists__. The elements of a tuple are written between parentheses, or just separated by commas"
   ]
  },
  {
   "cell_type": "code",
   "execution_count": 44,
   "metadata": {
    "editable": true,
    "run_control": {
     "frozen": false,
     "read_only": false
    },
    "slideshow": {
     "slide_type": ""
    }
   },
   "outputs": [
    {
     "data": {
      "text/plain": [
       "(2, 3, 'aa', [1, 2])"
      ]
     },
     "execution_count": 44,
     "metadata": {},
     "output_type": "execute_result"
    }
   ],
   "source": [
    "a_tuple = (2, 3, 'aa', [1, 2])\n",
    "a_tuple"
   ]
  },
  {
   "cell_type": "code",
   "execution_count": 45,
   "metadata": {
    "editable": true,
    "run_control": {
     "frozen": false,
     "read_only": false
    },
    "slideshow": {
     "slide_type": ""
    }
   },
   "outputs": [
    {
     "data": {
      "text/plain": [
       "(2, 3, 'aa', [1, 2])"
      ]
     },
     "execution_count": 45,
     "metadata": {},
     "output_type": "execute_result"
    }
   ],
   "source": [
    "a_second_tuple = 2, 3, 'aa', [1,2]\n",
    "a_second_tuple"
   ]
  },
  {
   "cell_type": "markdown",
   "metadata": {
    "editable": true,
    "slideshow": {
     "slide_type": ""
    }
   },
   "source": [
    "<div class=\"alert alert-info\">\n",
    "\n",
    "__Remember__: \n",
    "    \n",
    "mutable vs. immutable:\n",
    "\n",
    "- Immutable objects cannot be modified once created. When we want to change the value of a string we can only replace the old with a completely new.\n",
    "- Mutable objects can be changed in place. We can change individual elements, append new elements, or reorder the whole. If you want variables with mutable values to be independent, you must make a copy of the value when you assign it.\n",
    "    \n",
    "</div> \n",
    "\n"
   ]
  },
  {
   "cell_type": "markdown",
   "metadata": {},
   "source": [
    "### Exercises"
   ]
  },
  {
   "cell_type": "markdown",
   "metadata": {
    "editable": true,
    "slideshow": {
     "slide_type": ""
    }
   },
   "source": [
    "<div class=\"alert alert-success\">\n",
    "\n",
    "**EXERCISE**:\n",
    "\n",
    "Assign the string \"abracadabra\" to a variable `my_spell`. Convert the string variable `my_spell` to uppercase using the appropriate string method.\n",
    "\n",
    "<details><summary>Hints</summary>\n",
    "\n",
    "- Use the TAB-key to explore the availabal methods of a string.\n",
    "- A method need to be called using round brackets (like any other function).\n",
    "    \n",
    "</details>    \n",
    "    \n",
    "</div>"
   ]
  },
  {
   "cell_type": "code",
   "execution_count": 46,
   "metadata": {
    "editable": true,
    "slideshow": {
     "slide_type": ""
    },
    "tags": [
     "nbtutor-solution"
    ]
   },
   "outputs": [
    {
     "data": {
      "text/plain": [
       "'ABRACADABRA'"
      ]
     },
     "execution_count": 46,
     "metadata": {},
     "output_type": "execute_result"
    }
   ],
   "source": [
    "my_spell = \"abracadabra\"\n",
    "my_spell.upper()"
   ]
  },
  {
   "cell_type": "markdown",
   "metadata": {
    "editable": true,
    "slideshow": {
     "slide_type": ""
    }
   },
   "source": [
    "<div class=\"alert alert-success\">\n",
    "\n",
    "**EXERCISE**:\n",
    "\n",
    "Assign the string \"abracadabra\" to a variable `my_spell`. Select all of the even-numbered characters from the variable `my_spell`.\n",
    "\n",
    "<details><summary>Hints</summary>\n",
    "\n",
    "- Strings are a container of characters and can be sliced just like lists.\n",
    "    \n",
    "</details>    \n",
    "    \n",
    "</div>"
   ]
  },
  {
   "cell_type": "code",
   "execution_count": 47,
   "metadata": {
    "editable": true,
    "slideshow": {
     "slide_type": ""
    },
    "tags": [
     "nbtutor-solution"
    ]
   },
   "outputs": [
    {
     "data": {
      "text/plain": [
       "'baaar'"
      ]
     },
     "execution_count": 47,
     "metadata": {},
     "output_type": "execute_result"
    }
   ],
   "source": [
    "my_spell = \"abracadabra\"\n",
    "my_spell[1::2]"
   ]
  },
  {
   "cell_type": "markdown",
   "metadata": {
    "editable": true,
    "slideshow": {
     "slide_type": ""
    }
   },
   "source": [
    "<div class=\"alert alert-success\">\n",
    "\n",
    "**EXERCISE**:\n",
    "\n",
    "You did a set of water quality measurements of Dissolved oxygen (mg/l) in different rivers on 18 March 2024. The measurements are combined in a dictionary with variable name `water_quality`.  \n",
    "    \n",
    "- Demer: 9.5 mg/l\n",
    "- Nete: 8.4 mg/l\n",
    "- Leie: 6.6 mg/l\n",
    "    \n",
    "To automate reporting, you want to automate the print statement of the measured dissolved oxygen for a given location:\n",
    "    \n",
    "- Define a variable `report_location` which represents one of the measurement locations, e.g. \"Nete\"\n",
    "- Use the variable `report_location` to automate the output of the sentence \"The measured dissolved oxygen in REPORT-lOCATION on March 3rd 2024 was REPORTED-VALUE mg/l.'. For the \"Nete\", this would be 'The measured dissolved oxygen in Nete on March 18th 2024 was 8.4 mg/l.'\n",
    "    \n",
    "Changing the variable `report_location` to \"Demer\" should provide the correct output statement for the \"Demer\".\n",
    "\n",
    "<details><summary>Hints</summary>\n",
    "\n",
    "- This requires a combination of a literal string (prefix a string with an f) and the selecting of an element from a dictionary (using square brackets `[]`).    \n",
    "- Note the different usage of the curly braces `{}`: First to create a dictionary and second to contain the python statements in the literal string.\n",
    "</details>\n",
    "\n",
    "</div>"
   ]
  },
  {
   "cell_type": "code",
   "execution_count": 48,
   "metadata": {
    "editable": true,
    "slideshow": {
     "slide_type": ""
    }
   },
   "outputs": [],
   "source": [
    "water_quality = {\n",
    "    \"Demer\": 9.5,\n",
    "    \"Nete\": 8.4,\n",
    "    \"Leie\": 6.6\n",
    "}"
   ]
  },
  {
   "cell_type": "code",
   "execution_count": 49,
   "metadata": {
    "editable": true,
    "slideshow": {
     "slide_type": ""
    },
    "tags": [
     "nbtutor-solution"
    ]
   },
   "outputs": [
    {
     "data": {
      "text/plain": [
       "'The measured dissolved oxygen in Nete on March 18th 2024 was 8.4 mg/l.'"
      ]
     },
     "execution_count": 49,
     "metadata": {},
     "output_type": "execute_result"
    }
   ],
   "source": [
    "report_location = \"Nete\"\n",
    "f\"The measured dissolved oxygen in {report_location} on March 18th 2024 was {water_quality[report_location]} mg/l.\""
   ]
  },
  {
   "cell_type": "markdown",
   "metadata": {
    "editable": true,
    "slideshow": {
     "slide_type": ""
    }
   },
   "source": [
    "## For data analysis, a table would be more appropriate... Pandas"
   ]
  },
  {
   "cell_type": "code",
   "execution_count": 50,
   "metadata": {
    "editable": true,
    "slideshow": {
     "slide_type": ""
    }
   },
   "outputs": [],
   "source": [
    "import pandas as pd"
   ]
  },
  {
   "cell_type": "code",
   "execution_count": 51,
   "metadata": {
    "editable": true,
    "slideshow": {
     "slide_type": ""
    }
   },
   "outputs": [
    {
     "data": {
      "text/html": [
       "<div>\n",
       "<style scoped>\n",
       "    .dataframe tbody tr th:only-of-type {\n",
       "        vertical-align: middle;\n",
       "    }\n",
       "\n",
       "    .dataframe tbody tr th {\n",
       "        vertical-align: top;\n",
       "    }\n",
       "\n",
       "    .dataframe thead th {\n",
       "        text-align: right;\n",
       "    }\n",
       "</style>\n",
       "<table border=\"1\" class=\"dataframe\">\n",
       "  <thead>\n",
       "    <tr style=\"text-align: right;\">\n",
       "      <th></th>\n",
       "      <th>pressure_hPa</th>\n",
       "      <th>temperature_degree</th>\n",
       "      <th>location</th>\n",
       "    </tr>\n",
       "  </thead>\n",
       "  <tbody>\n",
       "    <tr>\n",
       "      <th>0</th>\n",
       "      <td>1013</td>\n",
       "      <td>23</td>\n",
       "      <td>Ghent - Sterre</td>\n",
       "    </tr>\n",
       "    <tr>\n",
       "      <th>1</th>\n",
       "      <td>1003</td>\n",
       "      <td>20</td>\n",
       "      <td>Ghent - Coupure</td>\n",
       "    </tr>\n",
       "    <tr>\n",
       "      <th>2</th>\n",
       "      <td>1010</td>\n",
       "      <td>17</td>\n",
       "      <td>Ghent - Blandijn</td>\n",
       "    </tr>\n",
       "    <tr>\n",
       "      <th>3</th>\n",
       "      <td>1020</td>\n",
       "      <td>8</td>\n",
       "      <td>Ghent - Korenlei</td>\n",
       "    </tr>\n",
       "    <tr>\n",
       "      <th>4</th>\n",
       "      <td>1032</td>\n",
       "      <td>12</td>\n",
       "      <td>Ghent - Kouter</td>\n",
       "    </tr>\n",
       "    <tr>\n",
       "      <th>5</th>\n",
       "      <td>993</td>\n",
       "      <td>5</td>\n",
       "      <td>Ghent - Coupure</td>\n",
       "    </tr>\n",
       "    <tr>\n",
       "      <th>6</th>\n",
       "      <td>989</td>\n",
       "      <td>16</td>\n",
       "      <td>Antwerp - Groenplaats</td>\n",
       "    </tr>\n",
       "    <tr>\n",
       "      <th>7</th>\n",
       "      <td>1018</td>\n",
       "      <td>22</td>\n",
       "      <td>Brussels- Grand place</td>\n",
       "    </tr>\n",
       "    <tr>\n",
       "      <th>8</th>\n",
       "      <td>889</td>\n",
       "      <td>-2</td>\n",
       "      <td>Antwerp - Justitipaleis</td>\n",
       "    </tr>\n",
       "    <tr>\n",
       "      <th>9</th>\n",
       "      <td>1001</td>\n",
       "      <td>16</td>\n",
       "      <td>Brussels - Tour &amp; taxis</td>\n",
       "    </tr>\n",
       "  </tbody>\n",
       "</table>\n",
       "</div>"
      ],
      "text/plain": [
       "   pressure_hPa  temperature_degree                 location\n",
       "0          1013                  23           Ghent - Sterre\n",
       "1          1003                  20          Ghent - Coupure\n",
       "2          1010                  17         Ghent - Blandijn\n",
       "3          1020                   8         Ghent - Korenlei\n",
       "4          1032                  12           Ghent - Kouter\n",
       "5           993                   5          Ghent - Coupure\n",
       "6           989                  16    Antwerp - Groenplaats\n",
       "7          1018                  22    Brussels- Grand place\n",
       "8           889                  -2  Antwerp - Justitipaleis\n",
       "9          1001                  16  Brussels - Tour & taxis"
      ]
     },
     "execution_count": 51,
     "metadata": {},
     "output_type": "execute_result"
    }
   ],
   "source": [
    "pressures_hPa = [1013, 1003, 1010, 1020, 1032, 993, 989, 1018, 889, 1001]\n",
    "temperature_degree = [23, 20, 17, 8, 12, 5, 16, 22, -2, 16]\n",
    "locations = ['Ghent - Sterre', 'Ghent - Coupure', 'Ghent - Blandijn', \n",
    "             'Ghent - Korenlei', 'Ghent - Kouter', 'Ghent - Coupure',\n",
    "             'Antwerp - Groenplaats', 'Brussels- Grand place', \n",
    "             'Antwerp - Justitipaleis', 'Brussels - Tour & taxis']\n",
    "\n",
    "measurements = pd.DataFrame({'pressure_hPa': pressures_hPa,\n",
    "                'temperature_degree': temperature_degree,\n",
    "                'location': locations})\n",
    "measurements"
   ]
  },
  {
   "cell_type": "markdown",
   "metadata": {
    "editable": true,
    "slideshow": {
     "slide_type": ""
    }
   },
   "source": [
    "The Pandas package provides important container types for data manipulation: Tables aka DataFrames."
   ]
  },
  {
   "cell_type": "code",
   "execution_count": null,
   "metadata": {
    "editable": true,
    "slideshow": {
     "slide_type": ""
    }
   },
   "outputs": [],
   "source": []
  }
 ],
 "metadata": {
  "celltoolbar": "Nbtutor - export exercises",
  "jupytext": {
   "cell_metadata_filter": "tags,-run_control,-deletable,-editable,-jupyter,-slideshow",
   "formats": "ipynb,md",
   "notebook_metadata_filter": "-jupytext.cell_metadata_filter,-jupytext.notebook_metadata_filter"
  },
  "kernelspec": {
   "display_name": "Python 3 (ipykernel)",
   "language": "python",
   "name": "python3"
  },
  "language_info": {
   "codemirror_mode": {
    "name": "ipython",
    "version": 3
   },
   "file_extension": ".py",
   "mimetype": "text/x-python",
   "name": "python",
   "nbconvert_exporter": "python",
   "pygments_lexer": "ipython3",
   "version": "3.8.16"
  },
  "nav_menu": {},
  "toc": {
   "navigate_menu": true,
   "number_sections": true,
   "sideBar": true,
   "threshold": 6,
   "toc_cell": false,
   "toc_section_display": "block",
   "toc_window_display": true
  }
 },
 "nbformat": 4,
 "nbformat_minor": 4
}
