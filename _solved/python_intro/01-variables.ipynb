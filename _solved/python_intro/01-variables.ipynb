{
 "cells": [
  {
   "cell_type": "markdown",
   "metadata": {
    "editable": true,
    "slideshow": {
     "slide_type": ""
    }
   },
   "source": [
    "# Variables and assignment\n",
    "\n",
    "> *© 2024, Joris Van den Bossche and Stijn Van Hoey  (<mailto:jorisvandenbossche@gmail.com>, <mailto:stijnvanhoey@gmail.com>). Licensed under [CC BY 4.0 Creative Commons](http://creativecommons.org/licenses/by/4.0/)*\n",
    "\n",
    "---\n",
    "\n",
    "> This notebook is based on material of the [*Python Scientific Lecture Notes*](https://scipy-lectures.github.io/), the [*Software Carptentry: Programming with Python gapminder course*](https://swcarpentry.github.io/python-novice-gapminder) and the [*Software Carptentry: Programming with Python inflammation course*](https://swcarpentry.github.io/python-novice-inflammation/)."
   ]
  },
  {
   "cell_type": "markdown",
   "metadata": {
    "editable": true,
    "slideshow": {
     "slide_type": ""
    }
   },
   "source": [
    "## Introduction"
   ]
  },
  {
   "cell_type": "markdown",
   "metadata": {},
   "source": [
    "Any Python interpreter can be used as a calculator:"
   ]
  },
  {
   "cell_type": "code",
   "execution_count": 1,
   "metadata": {},
   "outputs": [
    {
     "data": {
      "text/plain": [
       "23"
      ]
     },
     "execution_count": 1,
     "metadata": {},
     "output_type": "execute_result"
    }
   ],
   "source": [
    "3 + 5 * 4"
   ]
  },
  {
   "cell_type": "markdown",
   "metadata": {},
   "source": [
    "This is great but not very interesting. To do anything useful with data, we need to assign its value to a __variable__. In Python, we can assign a value to a variable, using the equals sign `=`. \n",
    "\n",
    "For example, we can track the air pressure by assigning the value 1010 to a variable `pressure_hPa`:"
   ]
  },
  {
   "cell_type": "code",
   "execution_count": 2,
   "metadata": {},
   "outputs": [],
   "source": [
    "pressure_hPa = 1010 # hPa"
   ]
  },
  {
   "cell_type": "markdown",
   "metadata": {},
   "source": [
    "<div class=\"alert alert-info\">\n",
    "\n",
    "__Info__: \n",
    "    \n",
    "Everything in a line of code following the __‘#’ symbol is a comment__ that is ignored by Python. Comments allow programmers to leave explanatory notes.\n",
    "    \n",
    "</div>"
   ]
  },
  {
   "cell_type": "markdown",
   "metadata": {},
   "source": [
    "## Variables"
   ]
  },
  {
   "cell_type": "markdown",
   "metadata": {},
   "source": [
    "In Python the `=` symbol assigns the value on the right to the name on the left. From now on, whenever we use `pressure_hPa`, Python will substitute the value we assigned to it.\n",
    "\n",
    "In Python, variable names:\n",
    "- can include letters, digits, and underscores (typically used to separate words in long variable names)\n",
    "- cannot start with a digit\n",
    "- are case sensitive."
   ]
  },
  {
   "cell_type": "markdown",
   "metadata": {},
   "source": [
    "Variables can be used in calculations:"
   ]
  },
  {
   "cell_type": "code",
   "execution_count": 3,
   "metadata": {},
   "outputs": [
    {
     "data": {
      "text/plain": [
       "101000"
      ]
     },
     "execution_count": 3,
     "metadata": {},
     "output_type": "execute_result"
    }
   ],
   "source": [
    "pressure_hPa * 100"
   ]
  },
  {
   "cell_type": "markdown",
   "metadata": {},
   "source": [
    "And the output reassigned again to a new variable:"
   ]
  },
  {
   "cell_type": "code",
   "execution_count": 4,
   "metadata": {},
   "outputs": [],
   "source": [
    "pressure_Pa = pressure_hPa * 100"
   ]
  },
  {
   "cell_type": "markdown",
   "metadata": {},
   "source": [
    "<div class=\"alert alert-info\">\n",
    "\n",
    "__Tip__: Use meaningful variable names. e.g. `pressure_Pa` is much easier to understand than `p`.\n",
    "    \n",
    "</div>"
   ]
  },
  {
   "cell_type": "markdown",
   "metadata": {
    "editable": true,
    "slideshow": {
     "slide_type": ""
    }
   },
   "source": [
    "<div class=\"alert alert-success\">\n",
    "\n",
    "**EXERCISE**:\n",
    "\n",
    "A person weights 65 kg. First assign this value to a variable name `weight_kg`. Next, calculate the weight in gram and assign the result of the calculation to a variable name `weight_g`.\n",
    "\n",
    "<details><summary>Hints</summary>\n",
    "\n",
    "- Make sure to use the variable name `weight_kg` in the calcualtion of the weight in gram. \n",
    "\n",
    "</details>    \n",
    "    \n",
    "</div>"
   ]
  },
  {
   "cell_type": "code",
   "execution_count": 5,
   "metadata": {
    "editable": true,
    "slideshow": {
     "slide_type": ""
    },
    "tags": [
     "nbtutor-solution"
    ]
   },
   "outputs": [],
   "source": [
    "weight_kg = 65\n",
    "weight_g = weight_kg * 1000"
   ]
  },
  {
   "cell_type": "markdown",
   "metadata": {
    "editable": true,
    "slideshow": {
     "slide_type": ""
    }
   },
   "source": [
    "<div class=\"alert alert-success\">\n",
    "\n",
    "**EXERCISE**:\n",
    "\n",
    "What is the final value of position in the program below? \n",
    "    \n",
    "```\n",
    "initial = \"left\"\n",
    "position = initial\n",
    "initial = \"right\"\n",
    "```\n",
    "    \n",
    "Try to predict the value without running the program, then check your prediction.\n",
    "\n",
    "    \n",
    "<details><summary>Hints</summary>\n",
    "\n",
    "- The best way is to try out the statement and ask for the variable `position` in the end.\n",
    "    \n",
    "</details>    \n",
    "    \n",
    "</div>"
   ]
  },
  {
   "cell_type": "code",
   "execution_count": 6,
   "metadata": {
    "editable": true,
    "slideshow": {
     "slide_type": ""
    },
    "tags": [
     "nbtutor-solution"
    ]
   },
   "outputs": [
    {
     "data": {
      "text/plain": [
       "'left'"
      ]
     },
     "execution_count": 6,
     "metadata": {},
     "output_type": "execute_result"
    }
   ],
   "source": [
    "initial = \"left\"\n",
    "position = initial\n",
    "initial = \"right\"\n",
    "position"
   ]
  },
  {
   "cell_type": "markdown",
   "metadata": {
    "editable": true,
    "slideshow": {
     "slide_type": ""
    }
   },
   "source": [
    "<div class=\"alert alert-success\">\n",
    "\n",
    "**EXERCISE**:\n",
    "\n",
    "Sorting Out References: Python allows you to assign multiple values to multiple variables in one line by separating the variables and values with commas. What does the following program print out?\n",
    "    \n",
    "```\n",
    "pressure, weight = 1010, 60.5    \n",
    "print(weight)\n",
    "```\n",
    "\n",
    "<details><summary>Hints</summary>\n",
    "\n",
    "- The reason this works is because Python is applying _unpacking_ here. It maps the two outcomes on the right hand side of the addignment to the two variable names available on the left hand side. \n",
    "    \n",
    "</details>    \n",
    "    \n",
    "</div>"
   ]
  },
  {
   "cell_type": "code",
   "execution_count": 8,
   "metadata": {
    "tags": [
     "nbtutor-solution"
    ]
   },
   "outputs": [
    {
     "name": "stdout",
     "output_type": "stream",
     "text": [
      "60.5\n"
     ]
    }
   ],
   "source": [
    "pressure, weight = 1010, 60.5    \n",
    "print(weight)  # prints 60.5"
   ]
  },
  {
   "cell_type": "markdown",
   "metadata": {
    "editable": true,
    "slideshow": {
     "slide_type": ""
    }
   },
   "source": [
    "<div class=\"alert alert-success\">\n",
    "\n",
    "**EXERCISE**:\n",
    "\n",
    "Try to print the variable `pressure_p` using the `print` function. Check the output and explain what is happening.\n",
    "\n",
    "<details><summary>Hints</summary>\n",
    "\n",
    "- To use a function in Python, call the function name and pass the arguments to the function within round brackets. The parentheses are important: if you leave them off, the function doesn’t actually run! \n",
    "- The last line of an error message is usually the most informative.\n",
    "- Python is case-sensitive.\n",
    "- A typo can lead to this kind of errors, so always have a check.\n",
    "    \n",
    "</details>    \n",
    "    \n",
    "</div>"
   ]
  },
  {
   "cell_type": "code",
   "execution_count": 9,
   "metadata": {
    "editable": true,
    "slideshow": {
     "slide_type": ""
    },
    "tags": [
     "nbtutor-solution"
    ]
   },
   "outputs": [],
   "source": [
    "# Variables must be created before they are used.\n",
    "# print(pressure_p)"
   ]
  },
  {
   "cell_type": "markdown",
   "metadata": {},
   "source": [
    "<div class=\"alert alert-warning\">\n",
    "\n",
    "__Remark__: \n",
    "    \n",
    "Be aware that it is the order of execution of cells that is important in a Jupyter notebook and not the order in which cells appear.\n",
    "    \n",
    "</div>"
   ]
  },
  {
   "cell_type": "markdown",
   "metadata": {},
   "source": [
    "__variables-as-sticky-notes__\n",
    "\n",
    "A variable in Python is analogous to a sticky note with a name written on it: assigning a value to a variable is like putting that sticky note on a particular value. Assigning a value to one variable does not change values of other, seemingly related. \n",
    "\n",
    "```\n",
    "weight_kg = 65\n",
    "weight_lb = 2.2 * weight_kg\n",
    "```\n",
    "\n",
    "![](../../img/python-sticky-note-variables-02.svg)\n",
    "\n",
    "The expression 2.2 * weight_kg is evaluated to 143.0, and then this value is assigned to the variable `weight_lb` (i.e. the sticky note weight_lb is placed on 143.0). At this point, each variable is 'stuck' to completely distinct and unrelated values.\n",
    "\n",
    "If we now change `weight_kg`:\n",
    "\n",
    "```\n",
    "weight_kg = 100\n",
    "```\n",
    "\n",
    "![](../../img/python-sticky-note-variables-03.svg)\n",
    "\n",
    "Since `weight_lb` doesn’t 'remember' where its value comes from, it is not updated when we change `weight_kg`."
   ]
  },
  {
   "cell_type": "markdown",
   "metadata": {},
   "source": [
    "## Types of data"
   ]
  },
  {
   "cell_type": "markdown",
   "metadata": {},
   "source": [
    "Every value in a program has a specific type. Python knows various types of data. Common ones are:\n",
    "\n",
    "- __integer__ numbers, represents positive or negative whole numbers like 3 or -512.\n",
    "- __floating point__ numbers, represents real numbers like 3.14159 or -2.5.\n",
    "- character __string__ (usually called \"string\", str)\n",
    "- __boolean__, represens eaither True or False"
   ]
  },
  {
   "cell_type": "markdown",
   "metadata": {},
   "source": [
    "<div class=\"alert alert-info\">\n",
    "\n",
    "__Tip__: Use the Python built-in function `type` to find the type of a value.\n",
    "    \n",
    "</div>"
   ]
  },
  {
   "cell_type": "markdown",
   "metadata": {},
   "source": [
    "In the example above, variable `pressure_hPa` has an integer value of 1010:"
   ]
  },
  {
   "cell_type": "code",
   "execution_count": 10,
   "metadata": {},
   "outputs": [
    {
     "data": {
      "text/plain": [
       "int"
      ]
     },
     "execution_count": 10,
     "metadata": {},
     "output_type": "execute_result"
    }
   ],
   "source": [
    "pressure_hPa = 1010 # hPa\n",
    "type(pressure_hPa)"
   ]
  },
  {
   "cell_type": "markdown",
   "metadata": {},
   "source": [
    "If we want to more precisely, we can use a floating point value by executing:"
   ]
  },
  {
   "cell_type": "code",
   "execution_count": 11,
   "metadata": {},
   "outputs": [
    {
     "data": {
      "text/plain": [
       "float"
      ]
     },
     "execution_count": 11,
     "metadata": {},
     "output_type": "execute_result"
    }
   ],
   "source": [
    "pressure_hPa = 1010.33 # hPa\n",
    "type(pressure_hPa)"
   ]
  },
  {
   "cell_type": "markdown",
   "metadata": {},
   "source": [
    "To create a string, we add __single or double quotes__ around text. To identify and track measurement location throughout our study, we can assign each location a unique identifier by storing it in a string:"
   ]
  },
  {
   "cell_type": "code",
   "execution_count": 12,
   "metadata": {},
   "outputs": [
    {
     "data": {
      "text/plain": [
       "str"
      ]
     },
     "execution_count": 12,
     "metadata": {},
     "output_type": "execute_result"
    }
   ],
   "source": [
    "location_1 = \"001\"\n",
    "type(location_1)"
   ]
  },
  {
   "cell_type": "code",
   "execution_count": 13,
   "metadata": {
    "run_control": {
     "frozen": false,
     "read_only": false
    }
   },
   "outputs": [
    {
     "data": {
      "text/plain": [
       "bool"
      ]
     },
     "execution_count": 13,
     "metadata": {},
     "output_type": "execute_result"
    }
   ],
   "source": [
    "is_larger = pressure_hPa > 2000\n",
    "type(is_larger)"
   ]
  },
  {
   "cell_type": "markdown",
   "metadata": {},
   "source": [
    "Types control what operations (or methods) can be performed on a given value:"
   ]
  },
  {
   "cell_type": "code",
   "execution_count": 14,
   "metadata": {},
   "outputs": [
    {
     "data": {
      "text/plain": [
       "2"
      ]
     },
     "execution_count": 14,
     "metadata": {},
     "output_type": "execute_result"
    }
   ],
   "source": [
    "5 - 3"
   ]
  },
  {
   "cell_type": "code",
   "execution_count": 15,
   "metadata": {},
   "outputs": [
    {
     "data": {
      "text/plain": [
       "2"
      ]
     },
     "execution_count": 15,
     "metadata": {},
     "output_type": "execute_result"
    }
   ],
   "source": [
    "True + 1"
   ]
  },
  {
   "cell_type": "code",
   "execution_count": 16,
   "metadata": {},
   "outputs": [
    {
     "data": {
      "text/plain": [
       "'sample_001'"
      ]
     },
     "execution_count": 16,
     "metadata": {},
     "output_type": "execute_result"
    }
   ],
   "source": [
    "#\"sample\" + \"_\" - location_1\n",
    "\"sample\" + \"_\" + location_1"
   ]
  },
  {
   "cell_type": "markdown",
   "metadata": {},
   "source": [
    "A Python shell can replace your pocket calculator, with the basic arithmetic operations addition, substraction, division ... natively implemented\n",
    "+, -, *, /, % (modulo) natively implemented\n",
    "\n",
    " *operation*| *python implementation* \n",
    "----------:| --------------------- \n",
    " addition  | `+`\n",
    " substraction | `-`\n",
    " multiplication | `*`\n",
    " division | `/`\n",
    " modulo | `%`\n",
    " exponentiation | `**`"
   ]
  },
  {
   "cell_type": "code",
   "execution_count": 17,
   "metadata": {
    "editable": true,
    "run_control": {
     "frozen": false,
     "read_only": false
    },
    "slideshow": {
     "slide_type": ""
    }
   },
   "outputs": [
    {
     "name": "stdout",
     "output_type": "stream",
     "text": [
      "21.0\n",
      "1024\n",
      "2\n"
     ]
    }
   ],
   "source": [
    "print (7 * 3.)  # Can mix integers and floats freely in operations - Python 3 automatically converts integers to floats as needed.\n",
    "print (2**10)   # exponentation\n",
    "print (8 % 3)   # modulo"
   ]
  },
  {
   "cell_type": "markdown",
   "metadata": {},
   "source": [
    "Mathematical rules on order of operations and usage of brackets do apply:"
   ]
  },
  {
   "cell_type": "code",
   "execution_count": 18,
   "metadata": {},
   "outputs": [
    {
     "data": {
      "text/plain": [
       "(32, 50)"
      ]
     },
     "execution_count": 18,
     "metadata": {},
     "output_type": "execute_result"
    }
   ],
   "source": [
    "2 + 3 * 10, (2 + 3) * 10"
   ]
  },
  {
   "cell_type": "markdown",
   "metadata": {},
   "source": [
    "The `//` operator performs integer (whole-number) floor division, the `/` operator performs floating-point division, and the `%` (or modulo) operator calculates and returns the remainder from integer division:"
   ]
  },
  {
   "cell_type": "code",
   "execution_count": 19,
   "metadata": {
    "run_control": {
     "frozen": false,
     "read_only": false
    }
   },
   "outputs": [
    {
     "name": "stdout",
     "output_type": "stream",
     "text": [
      "1.5\n",
      "1.5\n",
      "1.0\n"
     ]
    }
   ],
   "source": [
    "print(3/2)   # ! converted to floats\n",
    "print(3/2.)\n",
    "print(3.//2.)  #integer division"
   ]
  },
  {
   "cell_type": "markdown",
   "metadata": {},
   "source": [
    "Where reasonable, `float()` will convert to a floating point number, and `int()` will convert to an integer:"
   ]
  },
  {
   "cell_type": "code",
   "execution_count": 20,
   "metadata": {},
   "outputs": [
    {
     "data": {
      "text/plain": [
       "2"
      ]
     },
     "execution_count": 20,
     "metadata": {},
     "output_type": "execute_result"
    }
   ],
   "source": [
    "int(float('2.'))"
   ]
  },
  {
   "cell_type": "code",
   "execution_count": 21,
   "metadata": {},
   "outputs": [
    {
     "name": "stdout",
     "output_type": "stream",
     "text": [
      "3\n",
      "3.0\n",
      "3\n"
     ]
    }
   ],
   "source": [
    "print(1 + int('2'))\n",
    "print(1 + float('2.0'))\n",
    "print(1 + int(2.0))"
   ]
  },
  {
   "cell_type": "markdown",
   "metadata": {
    "editable": true,
    "slideshow": {
     "slide_type": ""
    }
   },
   "source": [
    "<div class=\"alert alert-success\">\n",
    "\n",
    "**EXERCISE**:\n",
    "\n",
    "What data type of value is `21.55`? How can you find out?\n",
    "\n",
    "<details><summary>Hints</summary>\n",
    "\n",
    "- It is possible to find out by using the built-in function `type()`.\n",
    "    \n",
    "</details>    \n",
    "    \n",
    "</div>"
   ]
  },
  {
   "cell_type": "code",
   "execution_count": 22,
   "metadata": {
    "editable": true,
    "slideshow": {
     "slide_type": ""
    },
    "tags": [
     "nbtutor-solution"
    ]
   },
   "outputs": [
    {
     "data": {
      "text/plain": [
       "float"
      ]
     },
     "execution_count": 22,
     "metadata": {},
     "output_type": "execute_result"
    }
   ],
   "source": [
    "type(21.55)"
   ]
  },
  {
   "cell_type": "markdown",
   "metadata": {
    "editable": true,
    "slideshow": {
     "slide_type": ""
    }
   },
   "source": [
    "<div class=\"alert alert-success\">\n",
    "\n",
    "**EXERCISE**:\n",
    "\n",
    "What data type of value is the result of `3.25 + 4`?\n",
    "\n",
    "<details><summary>Hints</summary>\n",
    "\n",
    "- Integers are automatically converted to floats as necessary.\n",
    "    \n",
    "</details>    \n",
    "    \n",
    "</div>"
   ]
  },
  {
   "cell_type": "code",
   "execution_count": 23,
   "metadata": {
    "editable": true,
    "slideshow": {
     "slide_type": ""
    },
    "tags": [
     "nbtutor-solution"
    ]
   },
   "outputs": [
    {
     "data": {
      "text/plain": [
       "float"
      ]
     },
     "execution_count": 23,
     "metadata": {},
     "output_type": "execute_result"
    }
   ],
   "source": [
    "type(3.25 + 4)"
   ]
  },
  {
   "cell_type": "markdown",
   "metadata": {
    "editable": true,
    "slideshow": {
     "slide_type": ""
    }
   },
   "source": [
    "<div class=\"alert alert-success\">\n",
    "\n",
    "**EXERCISE**:\n",
    "\n",
    "Which of the following will return the floating point number 2.0? \n",
    "    \n",
    "```\n",
    "first = 1.0\n",
    "second = \"1\"\n",
    "third = \"1.1\"\n",
    "```\n",
    "\n",
    "1. `first + float(second)`\n",
    "1. `float(second) + float(third)`\n",
    "1. `first + int(third)`\n",
    "1. `first + int(float(third))`\n",
    "1. `int(first) + int(float(third))`\n",
    "1. `2.0 * second`\n",
    "    \n",
    "    \n",
    "\n",
    "<details><summary>Hints</summary>\n",
    "\n",
    "- There may be more than one right answer.\n",
    "    \n",
    "</details>    \n",
    "    \n",
    "</div>"
   ]
  },
  {
   "cell_type": "code",
   "execution_count": 24,
   "metadata": {
    "editable": true,
    "slideshow": {
     "slide_type": ""
    },
    "tags": [
     "nbtutor-solution"
    ]
   },
   "outputs": [
    {
     "name": "stdout",
     "output_type": "stream",
     "text": [
      "2.0\n",
      "2.0\n"
     ]
    }
   ],
   "source": [
    "first = 1.0\n",
    "second = \"1\"\n",
    "third = \"1.1\"\n",
    "print(first + float(second))  # 1\n",
    "print(first + int(float(third)))  # 4"
   ]
  },
  {
   "cell_type": "markdown",
   "metadata": {
    "editable": true,
    "slideshow": {
     "slide_type": ""
    }
   },
   "source": [
    "<div class=\"alert alert-success\">\n",
    "\n",
    "**EXERCISE**:\n",
    "\n",
    "When running `int(\"3.0\")`, Python returns an error. How would you solve this to get an integer value starting from the string \"3.0\"?\n",
    "\n",
    "<details><summary>Hints</summary>\n",
    "\n",
    "- If you ask Python to perform two consecutive typecasts, you must convert it explicitly in code.\n",
    "    \n",
    "</details>    \n",
    "    \n",
    "</div>"
   ]
  },
  {
   "cell_type": "code",
   "execution_count": 147,
   "metadata": {
    "tags": [
     "nbtutor-solution"
    ]
   },
   "outputs": [
    {
     "data": {
      "text/plain": [
       "3"
      ]
     },
     "execution_count": 147,
     "metadata": {},
     "output_type": "execute_result"
    }
   ],
   "source": [
    "int(float(\"3.0\"))"
   ]
  }
 ],
 "metadata": {
  "celltoolbar": "Nbtutor - export exercises",
  "jupytext": {
   "cell_metadata_filter": "tags,-run_control,-deletable,-editable,-jupyter,-slideshow",
   "formats": "ipynb,md",
   "notebook_metadata_filter": "-jupytext.cell_metadata_filter,-jupytext.notebook_metadata_filter"
  },
  "kernelspec": {
   "display_name": "Python 3 (ipykernel)",
   "language": "python",
   "name": "python3"
  },
  "language_info": {
   "codemirror_mode": {
    "name": "ipython",
    "version": 3
   },
   "file_extension": ".py",
   "mimetype": "text/x-python",
   "name": "python",
   "nbconvert_exporter": "python",
   "pygments_lexer": "ipython3",
   "version": "3.8.16"
  },
  "nav_menu": {},
  "toc": {
   "navigate_menu": true,
   "number_sections": true,
   "sideBar": true,
   "threshold": 6,
   "toc_cell": false,
   "toc_section_display": "block",
   "toc_window_display": true
  }
 },
 "nbformat": 4,
 "nbformat_minor": 4
}
