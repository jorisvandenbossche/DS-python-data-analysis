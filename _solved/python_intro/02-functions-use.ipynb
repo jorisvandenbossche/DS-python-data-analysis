{
 "cells": [
  {
   "cell_type": "markdown",
   "metadata": {
    "editable": true,
    "slideshow": {
     "slide_type": ""
    }
   },
   "source": [
    "# Using Functions\n",
    "\n",
    "> *© 2024, Joris Van den Bossche and Stijn Van Hoey  (<mailto:jorisvandenbossche@gmail.com>, <mailto:stijnvanhoey@gmail.com>). Licensed under [CC BY 4.0 Creative Commons](http://creativecommons.org/licenses/by/4.0/)*\n",
    "\n",
    "---\n",
    "\n",
    "> This notebook is based on material of the [*Python Scientific Lecture Notes*](https://scipy-lectures.github.io/), the [*Software Carptentry: Programming with Python gapminder course*](https://swcarpentry.github.io/python-novice-gapminder) and the [*Software Carptentry: Programming with Python inflammation course*](https://swcarpentry.github.io/python-novice-inflammation/)."
   ]
  },
  {
   "cell_type": "markdown",
   "metadata": {},
   "source": [
    "## Introduction"
   ]
  },
  {
   "cell_type": "markdown",
   "metadata": {},
   "source": [
    "We have used some functions already — now let’s take a closer look.\n",
    "\n",
    "- To use a function, pass the arguments to the function within round brackets. \n",
    "- A value passed into a function is called an 'argument' (or also 'parameter').\n",
    "- The parentheses are important: if you leave them off, the function doesn’t actually run.\n",
    "\n",
    "For example, the functions `int()`, `str()`, and `float()` create a new value from an existing one with an updated data type. If the function doesn’t have a useful result to `return`, it usually returns the special value `None`. `None` is a Python object that stands in anytime there is no value."
   ]
  },
  {
   "cell_type": "code",
   "execution_count": 1,
   "metadata": {
    "editable": true,
    "slideshow": {
     "slide_type": ""
    }
   },
   "outputs": [
    {
     "name": "stdout",
     "output_type": "stream",
     "text": [
      "course\n"
     ]
    }
   ],
   "source": [
    "print('course')"
   ]
  },
  {
   "cell_type": "code",
   "execution_count": 2,
   "metadata": {
    "editable": true,
    "slideshow": {
     "slide_type": ""
    }
   },
   "outputs": [
    {
     "name": "stdout",
     "output_type": "stream",
     "text": [
      "course\n",
      "None <class 'NoneType'>\n"
     ]
    }
   ],
   "source": [
    "my_variable = print('course')\n",
    "print(my_variable, type(my_variable))"
   ]
  },
  {
   "cell_type": "markdown",
   "metadata": {
    "editable": true,
    "slideshow": {
     "slide_type": ""
    }
   },
   "source": [
    "__Note__ `print` takes zero or more arguments."
   ]
  },
  {
   "cell_type": "markdown",
   "metadata": {},
   "source": [
    "## Functions"
   ]
  },
  {
   "cell_type": "markdown",
   "metadata": {
    "editable": true,
    "slideshow": {
     "slide_type": ""
    }
   },
   "source": [
    "Python has a number of [builtin-functions](https://docs.python.org/3/library/functions.html) that are always available. An example is the `max` function:"
   ]
  },
  {
   "cell_type": "code",
   "execution_count": 3,
   "metadata": {
    "editable": true,
    "slideshow": {
     "slide_type": ""
    }
   },
   "outputs": [
    {
     "data": {
      "text/plain": [
       "3"
      ]
     },
     "execution_count": 3,
     "metadata": {},
     "output_type": "execute_result"
    }
   ],
   "source": [
    "max(1, 2, 3)"
   ]
  },
  {
   "cell_type": "code",
   "execution_count": 4,
   "metadata": {
    "editable": true,
    "slideshow": {
     "slide_type": ""
    }
   },
   "outputs": [
    {
     "data": {
      "text/plain": [
       "'a'"
      ]
     },
     "execution_count": 4,
     "metadata": {},
     "output_type": "execute_result"
    }
   ],
   "source": [
    "max(\"a\", \"A\")  # “larger” and “smaller” use (0-9, A-Z, a-z) to compare letters."
   ]
  },
  {
   "cell_type": "markdown",
   "metadata": {
    "editable": true,
    "slideshow": {
     "slide_type": ""
    }
   },
   "source": [
    "Functions may only work for certain (combinations of) arguments:"
   ]
  },
  {
   "cell_type": "code",
   "execution_count": 5,
   "metadata": {
    "editable": true,
    "slideshow": {
     "slide_type": ""
    }
   },
   "outputs": [],
   "source": [
    "#max(1, 'a')  # uncommment this line"
   ]
  },
  {
   "cell_type": "markdown",
   "metadata": {
    "editable": true,
    "slideshow": {
     "slide_type": ""
    }
   },
   "source": [
    "Functions may have default values for some arguments"
   ]
  },
  {
   "cell_type": "code",
   "execution_count": 6,
   "metadata": {
    "editable": true,
    "slideshow": {
     "slide_type": ""
    }
   },
   "outputs": [
    {
     "data": {
      "text/plain": [
       "(4, 3, 3.71)"
      ]
     },
     "execution_count": 6,
     "metadata": {},
     "output_type": "execute_result"
    }
   ],
   "source": [
    "round(3.712), round(3.111), round(3.712, 2)  # By default, rounds to zero decimal places."
   ]
  },
  {
   "cell_type": "markdown",
   "metadata": {
    "editable": true,
    "slideshow": {
     "slide_type": ""
    }
   },
   "source": [
    "Functions have `arguments` and/or `keyword arguments`:"
   ]
  },
  {
   "cell_type": "code",
   "execution_count": 7,
   "metadata": {
    "editable": true,
    "slideshow": {
     "slide_type": ""
    }
   },
   "outputs": [
    {
     "data": {
      "text/plain": [
       "3.71"
      ]
     },
     "execution_count": 7,
     "metadata": {},
     "output_type": "execute_result"
    }
   ],
   "source": [
    "round(3.712, ndigits=2)"
   ]
  },
  {
   "cell_type": "markdown",
   "metadata": {
    "editable": true,
    "slideshow": {
     "slide_type": ""
    }
   },
   "source": [
    "<div class=\"alert alert-info\">\n",
    "\n",
    "__Tip__\n",
    "    \n",
    "To know how to use a function, check the help:\n",
    "    \n",
    "- use the built-in function `help()`\n",
    "- add a question mark after the function/method name (without the brackets), `?round`\n",
    "- use the SHIFT + TAB combination when the cursor is at the statement\n",
    "    \n",
    "</div>"
   ]
  },
  {
   "cell_type": "code",
   "execution_count": 8,
   "metadata": {
    "editable": true,
    "slideshow": {
     "slide_type": ""
    }
   },
   "outputs": [
    {
     "name": "stdout",
     "output_type": "stream",
     "text": [
      "Help on built-in function round in module builtins:\n",
      "\n",
      "round(number, ndigits=None)\n",
      "    Round a number to a given precision in decimal digits.\n",
      "    \n",
      "    The return value is an integer if ndigits is omitted or None.  Otherwise\n",
      "    the return value has the same type as the number.  ndigits may be negative.\n",
      "\n"
     ]
    }
   ],
   "source": [
    "help(round)"
   ]
  },
  {
   "cell_type": "code",
   "execution_count": 9,
   "metadata": {
    "editable": true,
    "slideshow": {
     "slide_type": ""
    }
   },
   "outputs": [
    {
     "data": {
      "text/plain": [
       "\u001b[0;31mSignature:\u001b[0m \u001b[0mround\u001b[0m\u001b[0;34m(\u001b[0m\u001b[0mnumber\u001b[0m\u001b[0;34m,\u001b[0m \u001b[0mndigits\u001b[0m\u001b[0;34m=\u001b[0m\u001b[0;32mNone\u001b[0m\u001b[0;34m)\u001b[0m\u001b[0;34m\u001b[0m\u001b[0;34m\u001b[0m\u001b[0m\n",
       "\u001b[0;31mDocstring:\u001b[0m\n",
       "Round a number to a given precision in decimal digits.\n",
       "\n",
       "The return value is an integer if ndigits is omitted or None.  Otherwise\n",
       "the return value has the same type as the number.  ndigits may be negative.\n",
       "\u001b[0;31mType:\u001b[0m      builtin_function_or_method\n"
      ]
     },
     "metadata": {},
     "output_type": "display_data"
    }
   ],
   "source": [
    "round?"
   ]
  },
  {
   "cell_type": "markdown",
   "metadata": {
    "editable": true,
    "slideshow": {
     "slide_type": ""
    }
   },
   "source": [
    "## Methods"
   ]
  },
  {
   "cell_type": "markdown",
   "metadata": {
    "editable": true,
    "slideshow": {
     "slide_type": ""
    }
   },
   "source": [
    "Functions attached to objects are called __methods__. Methods have parentheses like functions, but come after the variable (i.e. methods that you can apply on the object):"
   ]
  },
  {
   "cell_type": "code",
   "execution_count": 11,
   "metadata": {
    "editable": true,
    "slideshow": {
     "slide_type": ""
    }
   },
   "outputs": [
    {
     "data": {
      "text/plain": [
       "'COURSE'"
      ]
     },
     "execution_count": 11,
     "metadata": {},
     "output_type": "execute_result"
    }
   ],
   "source": [
    "some_str = \"course\"\n",
    "some_str.upper()"
   ]
  },
  {
   "cell_type": "markdown",
   "metadata": {
    "editable": true,
    "slideshow": {
     "slide_type": ""
    }
   },
   "source": [
    "If compatible, you can chain multiple methods"
   ]
  },
  {
   "cell_type": "code",
   "execution_count": 12,
   "metadata": {
    "editable": true,
    "slideshow": {
     "slide_type": ""
    }
   },
   "outputs": [
    {
     "name": "stdout",
     "output_type": "stream",
     "text": [
      "False\n",
      "COURSE\n",
      "True\n"
     ]
    }
   ],
   "source": [
    "print(some_str.isupper())\n",
    "print(some_str.upper())\n",
    "print(some_str.upper().isupper())"
   ]
  },
  {
   "cell_type": "markdown",
   "metadata": {
    "editable": true,
    "slideshow": {
     "slide_type": ""
    }
   },
   "source": [
    "Methods can also have arguments and keyword arguments (with defaults) and checking the help is also similar."
   ]
  },
  {
   "cell_type": "code",
   "execution_count": 13,
   "metadata": {},
   "outputs": [
    {
     "data": {
      "text/plain": [
       "\u001b[0;31mSignature:\u001b[0m \u001b[0msome_str\u001b[0m\u001b[0;34m.\u001b[0m\u001b[0mreplace\u001b[0m\u001b[0;34m(\u001b[0m\u001b[0mold\u001b[0m\u001b[0;34m,\u001b[0m \u001b[0mnew\u001b[0m\u001b[0;34m,\u001b[0m \u001b[0mcount\u001b[0m\u001b[0;34m=\u001b[0m\u001b[0;34m-\u001b[0m\u001b[0;36m1\u001b[0m\u001b[0;34m,\u001b[0m \u001b[0;34m/\u001b[0m\u001b[0;34m)\u001b[0m\u001b[0;34m\u001b[0m\u001b[0;34m\u001b[0m\u001b[0m\n",
       "\u001b[0;31mDocstring:\u001b[0m\n",
       "Return a copy with all occurrences of substring old replaced by new.\n",
       "\n",
       "  count\n",
       "    Maximum number of occurrences to replace.\n",
       "    -1 (the default value) means replace all occurrences.\n",
       "\n",
       "If the optional argument count is given, only the first count occurrences are\n",
       "replaced.\n",
       "\u001b[0;31mType:\u001b[0m      builtin_function_or_method\n"
      ]
     },
     "metadata": {},
     "output_type": "display_data"
    }
   ],
   "source": [
    "some_str.replace?"
   ]
  },
  {
   "cell_type": "markdown",
   "metadata": {},
   "source": [
    "## Libraries/packages"
   ]
  },
  {
   "cell_type": "markdown",
   "metadata": {},
   "source": [
    "> _Most of the power of a programming language is in its libraries_\n",
    "\n",
    "- A library or package is a collection of files (called `modules`) that contains functions for use by other programs.\n",
    "- The Python standard library is an extensive suite of modules that comes with Python itself.\n",
    "- Many additional libraries are available from [PyPI (the Python Package Index)](https://pypi.org/).\n"
   ]
  },
  {
   "cell_type": "markdown",
   "metadata": {
    "editable": true,
    "slideshow": {
     "slide_type": ""
    }
   },
   "source": [
    "Importing packages/libraries is always the first thing you do in Python, since it offers the functionalities to work with. It is like putting your equipment on the table to start working with it:\n",
    "\n",
    "- Use `import` to load a library module into a program’s memory.\n",
    "- Then refer to things from the module as `module_name.thing_name`.\n",
    "   Python uses `.` to mean “part of”.\n",
    "   \n",
    "Let's import `math`, one of the modules in the standard Python library:"
   ]
  },
  {
   "cell_type": "code",
   "execution_count": 15,
   "metadata": {
    "editable": true,
    "slideshow": {
     "slide_type": ""
    }
   },
   "outputs": [],
   "source": [
    "import math"
   ]
  },
  {
   "cell_type": "code",
   "execution_count": 16,
   "metadata": {
    "editable": true,
    "slideshow": {
     "slide_type": ""
    }
   },
   "outputs": [
    {
     "data": {
      "text/plain": [
       "23.140692632779267"
      ]
     },
     "execution_count": 16,
     "metadata": {},
     "output_type": "execute_result"
    }
   ],
   "source": [
    "math.exp(math.pi)"
   ]
  },
  {
   "cell_type": "markdown",
   "metadata": {
    "editable": true,
    "slideshow": {
     "slide_type": ""
    }
   },
   "source": [
    "<div class=\"alert alert-info\">\n",
    "\n",
    "__Tip__\n",
    "    \n",
    "To know which functionalities a module (or an object) provides use the `<TAB>` key after the `.`\n",
    "    \n",
    "</div>"
   ]
  },
  {
   "cell_type": "markdown",
   "metadata": {},
   "source": [
    "Different options are available:\n",
    "\n",
    "* <span style=\"color:green\">import <i>package-name</i></span>  <p> importing all functionalities as such\n",
    "* <span style=\"color:green\">from <i>package-name</i> import <i>specific function</i></span>  <p> importing a specific function, class or subset of the package\n",
    "* <span style=\"color:green\">import <i>package-name</i> as <i>short-package-name</i></span>    <p> Very good way to keep a good insight in where you use what package"
   ]
  },
  {
   "cell_type": "code",
   "execution_count": 17,
   "metadata": {
    "editable": true,
    "slideshow": {
     "slide_type": ""
    }
   },
   "outputs": [],
   "source": [
    "import math\n",
    "from math import exp\n",
    "import math as m"
   ]
  },
  {
   "cell_type": "code",
   "execution_count": 18,
   "metadata": {
    "editable": true,
    "slideshow": {
     "slide_type": ""
    }
   },
   "outputs": [
    {
     "data": {
      "text/plain": [
       "0.8414709848078965"
      ]
     },
     "execution_count": 18,
     "metadata": {},
     "output_type": "execute_result"
    }
   ],
   "source": [
    "math.sin(1)"
   ]
  },
  {
   "cell_type": "markdown",
   "metadata": {
    "editable": true,
    "slideshow": {
     "slide_type": ""
    }
   },
   "source": [
    "<div class=\"alert alert-success\">\n",
    "\n",
    "**EXERCISE**:\n",
    "\n",
    "What function from the `math` module  takes as input a real number `x`, and gives as output the greatest integer less than or equal to `x`? Apply the function to the number 1.7.\n",
    "\n",
    "<details><summary>Hints</summary>\n",
    "\n",
    "- Use the `math.` + `TAB`  button to explore the functions provided by the math library.\n",
    "    \n",
    "</details>    \n",
    "    \n",
    "</div>"
   ]
  },
  {
   "cell_type": "code",
   "execution_count": 19,
   "metadata": {
    "editable": true,
    "slideshow": {
     "slide_type": ""
    },
    "tags": [
     "nbtutor-solution"
    ]
   },
   "outputs": [
    {
     "data": {
      "text/plain": [
       "1"
      ]
     },
     "execution_count": 19,
     "metadata": {},
     "output_type": "execute_result"
    }
   ],
   "source": [
    "math.floor(1.7)"
   ]
  },
  {
   "cell_type": "markdown",
   "metadata": {
    "editable": true,
    "slideshow": {
     "slide_type": ""
    }
   },
   "source": [
    "<div class=\"alert alert-success\">\n",
    "\n",
    "**EXERCISE**:\n",
    "    \n",
    "During an experimental campaign, all experiments got a unique label. You need to code a small program that returns `True` when the label of the experiment ends with the number `2` and `False` otherwise. \n",
    "    \n",
    "- Create a variable `experiment_label` with the value \"Lab1_C_2\"\n",
    "- Search for a _method_ that you can apply on the variable that checks if a string ends with a certain character (or character sequence)\n",
    "\n",
    "<details><summary>Hints</summary>\n",
    "\n",
    "- A _method_ is like a function, but is attached to an object and comes after the variable. \n",
    "- Strings do have multiple methods available, so do check the available methods by using the `experiment_label.` + `TAB` key.\n",
    "- You want to check if a certain string _ends with_ certain character\n",
    "- Make sure to use the character \"2\" and not the integer 2 to check with to avoid a `TypeError`\n",
    "    \n",
    "</details>    \n",
    "    \n",
    "</div>"
   ]
  },
  {
   "cell_type": "code",
   "execution_count": 20,
   "metadata": {
    "editable": true,
    "slideshow": {
     "slide_type": ""
    },
    "tags": [
     "nbtutor-solution"
    ]
   },
   "outputs": [
    {
     "data": {
      "text/plain": [
       "True"
      ]
     },
     "execution_count": 20,
     "metadata": {},
     "output_type": "execute_result"
    }
   ],
   "source": [
    "experiment_label = \"Lab1_C_2\"\n",
    "experiment_label.endswith(\"2\")"
   ]
  },
  {
   "cell_type": "markdown",
   "metadata": {
    "editable": true,
    "slideshow": {
     "slide_type": ""
    }
   },
   "source": [
    "<div class=\"alert alert-success\">\n",
    "\n",
    "**EXERCISE**:\n",
    "\n",
    "When a colleague of yours types `help(random)`, Python reports an error:\n",
    "    \n",
    "```python\n",
    "NameError: name 'random' is not defined\n",
    "```\n",
    "\n",
    "What has your colleague forgotten to do?\n",
    "\n",
    "<details><summary>Hints</summary>\n",
    "\n",
    "- A module need to be imported before it can be used\n",
    "    \n",
    "</details>    \n",
    "    \n",
    "</div>"
   ]
  },
  {
   "cell_type": "code",
   "execution_count": 21,
   "metadata": {
    "editable": true,
    "slideshow": {
     "slide_type": ""
    },
    "tags": [
     "nbtutor-solution"
    ]
   },
   "outputs": [],
   "source": [
    "import random\n",
    "#help(random)"
   ]
  },
  {
   "cell_type": "markdown",
   "metadata": {
    "editable": true,
    "slideshow": {
     "slide_type": ""
    }
   },
   "source": [
    "<div class=\"alert alert-success\">\n",
    "\n",
    "**EXERCISE**:\n",
    "\n",
    "You want to simulate a dice using Python code. Each time you run the code, a random number need to be returned between 1 and 6 (inclusive).     \n",
    "    \n",
    "Check in the Python standard library documentation of the [random module](https://docs.python.org/3/library/random.html) for a function that you can use to create your 'virtual dice'.  \n",
    "\n",
    "<details><summary>Hints</summary>\n",
    "\n",
    "- The section on ['functions for integers'](https://docs.python.org/3/library/random.html#functions-for-integers) should be helpful.\n",
    "- Make sure the function is also able to reutrn the number 6.\n",
    "    \n",
    "</details>    \n",
    "    \n",
    "</div>"
   ]
  },
  {
   "cell_type": "code",
   "execution_count": 22,
   "metadata": {
    "editable": true,
    "slideshow": {
     "slide_type": ""
    },
    "tags": [
     "nbtutor-solution"
    ]
   },
   "outputs": [
    {
     "data": {
      "text/plain": [
       "4"
      ]
     },
     "execution_count": 22,
     "metadata": {},
     "output_type": "execute_result"
    }
   ],
   "source": [
    "import random\n",
    "\n",
    "random.randint(1, 6)"
   ]
  },
  {
   "cell_type": "code",
   "execution_count": 23,
   "metadata": {
    "editable": true,
    "slideshow": {
     "slide_type": ""
    },
    "tags": [
     "nbtutor-solution"
    ]
   },
   "outputs": [
    {
     "data": {
      "text/plain": [
       "1"
      ]
     },
     "execution_count": 23,
     "metadata": {},
     "output_type": "execute_result"
    }
   ],
   "source": [
    "# alternative using randrange\n",
    "random.randrange(1, 7)"
   ]
  },
  {
   "cell_type": "markdown",
   "metadata": {
    "editable": true,
    "slideshow": {
     "slide_type": ""
    }
   },
   "source": [
    "<div class=\"alert alert-success\">\n",
    "\n",
    "**EXERCISE**:\n",
    "\n",
    "Explain in simple terms the order of operations in the following program: when does the addition happen, when does the subtraction happen, when is each function called, etc\n",
    "    \n",
    "```python\n",
    "radiance = 1.0\n",
    "max(2.1, 2.0 + min(radiance, 1.1 * radiance - 0.5))\n",
    "```\n",
    "\n",
    "What is the final returned value?\n",
    "\n",
    "<details><summary>Hints</summary>\n",
    "\n",
    "- Functions can be nested and will be executed from inside to the outside.\n",
    "- Mathematical rules on order of operations and brackets do apply.\n",
    "    \n",
    "</details>    \n",
    "    \n",
    "</div>\n",
    "\n"
   ]
  },
  {
   "cell_type": "markdown",
   "metadata": {
    "editable": true,
    "slideshow": {
     "slide_type": ""
    },
    "tags": [
     "nbtutor-solution"
    ]
   },
   "source": [
    "```\n",
    "Order of operations:\n",
    "- 1.1 * radiance = 1.1\n",
    "- 1.1 - 0.5 = 0.6\n",
    "- min(radiance, 0.6) = 0.6\n",
    "- 2.0 + 0.6 = 2.6\n",
    "- max(2.1, 2.6) = 2.6\n",
    "\n",
    "At the end, result = 2.6\n",
    "```"
   ]
  },
  {
   "cell_type": "markdown",
   "metadata": {
    "editable": true,
    "slideshow": {
     "slide_type": ""
    }
   },
   "source": [
    "<div class=\"alert alert-success\">\n",
    "\n",
    "**EXERCISE**:\n",
    "\n",
    "I'm measuring air pressure at sea level, what would be the equivalent air pressure of this measured value on other altitudes?\n",
    "    \n",
    "The **barometric formula**, sometimes called the exponential atmosphere or isothermal atmosphere, is a formula used to model how the **pressure** (or density) of the air **changes with altitude**. The pressure drops approximately by 11.3 Pa per meter in first 1000 meters above sea level.\n",
    "\n",
    "$$P=P_0 \\cdot \\exp \\left[\\frac{-g \\cdot M \\cdot h}{R \\cdot T}\\right]$$\n",
    "    \n",
    "where:\n",
    "* $T$ = standard temperature, 288.15 (K)\n",
    "* $R$ = universal gas constant, 8.3144598, (J/mol/K)\n",
    "* $g$ = gravitational acceleration, 9.81 (m/s$^2$)\n",
    "* $M$ = molar mass of Earth's air, 0.02896 (kg/mol)\n",
    "\n",
    "and:\n",
    "* $P_0$ = sea level pressure (hPa)\n",
    "* $h$ = height above sea level (m)    \n",
    "    \n",
    "The measured air pressure at sea level is 1010 hPa. Calculate the corresponding air pressure on 2500m above sea level.   \n",
    "\n",
    "<details><summary>Hints</summary>\n",
    "\n",
    "- Remember that Python can be used as a calculator\n",
    "- Check the [math module](https://docs.python.org/3/library/math.html) to find the `exp` operator function\n",
    "\n",
    "FYI, see https://www.math24.net/barometric-formula/ or https://en.wikipedia.org/wiki/Atmospheric_pressure    \n",
    "    \n",
    "</details>    \n",
    "    \n",
    "</div>"
   ]
  },
  {
   "cell_type": "code",
   "execution_count": 24,
   "metadata": {
    "editable": true,
    "slideshow": {
     "slide_type": ""
    }
   },
   "outputs": [],
   "source": [
    "standard_temperature = 288.15\n",
    "gas_constant = 8.31446\n",
    "gravit_acc = 9.81\n",
    "molar_mass_earth = 0.02896"
   ]
  },
  {
   "cell_type": "code",
   "execution_count": 25,
   "metadata": {
    "editable": true,
    "slideshow": {
     "slide_type": ""
    },
    "tags": [
     "nbtutor-solution"
    ]
   },
   "outputs": [
    {
     "data": {
      "text/plain": [
       "750.885560345225"
      ]
     },
     "execution_count": 25,
     "metadata": {},
     "output_type": "execute_result"
    }
   ],
   "source": [
    "pressure_hPa = 1010\n",
    "height = 2500\n",
    "\n",
    "pressure_hPa * math.exp(-gravit_acc * molar_mass_earth * height/(gas_constant * standard_temperature))"
   ]
  },
  {
   "cell_type": "code",
   "execution_count": null,
   "metadata": {
    "editable": true,
    "slideshow": {
     "slide_type": ""
    }
   },
   "outputs": [],
   "source": []
  }
 ],
 "metadata": {
  "celltoolbar": "Nbtutor - export exercises",
  "jupytext": {
   "cell_metadata_filter": "tags,-run_control,-deletable,-editable,-jupyter,-slideshow",
   "formats": "ipynb,md",
   "notebook_metadata_filter": "-jupytext.cell_metadata_filter,-jupytext.notebook_metadata_filter"
  },
  "kernelspec": {
   "display_name": "Python 3 (ipykernel)",
   "language": "python",
   "name": "python3"
  },
  "language_info": {
   "codemirror_mode": {
    "name": "ipython",
    "version": 3
   },
   "file_extension": ".py",
   "mimetype": "text/x-python",
   "name": "python",
   "nbconvert_exporter": "python",
   "pygments_lexer": "ipython3",
   "version": "3.8.16"
  },
  "nav_menu": {},
  "toc": {
   "navigate_menu": true,
   "number_sections": true,
   "sideBar": true,
   "threshold": 6,
   "toc_cell": false,
   "toc_section_display": "block",
   "toc_window_display": false
  }
 },
 "nbformat": 4,
 "nbformat_minor": 4
}
