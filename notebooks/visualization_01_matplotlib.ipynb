{
 "cells": [
  {
   "cell_type": "markdown",
   "metadata": {},
   "source": [
    "<p><font size=\"6\"><b>Visualization - Matplotlib</b></font></p>\n",
    "\n",
    "> *© 2021, Joris Van den Bossche and Stijn Van Hoey. Licensed under [CC BY 4.0 Creative Commons](http://creativecommons.org/licenses/by/4.0/)*\n",
    "\n",
    "---"
   ]
  },
  {
   "cell_type": "markdown",
   "metadata": {},
   "source": [
    "# Matplotlib"
   ]
  },
  {
   "cell_type": "markdown",
   "metadata": {},
   "source": [
    "[Matplotlib](http://matplotlib.org/) is a Python package used widely throughout the scientific Python community to produce high quality 2D publication graphics. It transparently supports a wide range of output formats including PNG (and other raster formats), PostScript/EPS, PDF and SVG and has interfaces for all of the major desktop GUI (graphical user interface) toolkits. It is a great package with lots of options.\n",
    "\n",
    "However, matplotlib is...\n",
    "\n",
    "> The 800-pound gorilla — and like most 800-pound gorillas, this one should probably be avoided unless you genuinely need its power, e.g., to make a **custom plot** or produce a **publication-ready** graphic.\n",
    "\n",
    "> (As we’ll see, when it comes to statistical visualization, the preferred tack might be: “do as much as you easily can in your convenience layer of choice [nvdr e.g. directly from Pandas, or with seaborn], and then use matplotlib for the rest.”)\n",
    "\n",
    "(quote used from [this](https://dansaber.wordpress.com/2016/10/02/a-dramatic-tour-through-pythons-data-visualization-landscape-including-ggplot-and-altair/) blogpost)\n",
    "\n",
    "And that's we mostly did, just use the `.plot` function of Pandas. So, why do we learn matplotlib? Well, for the *...then use matplotlib for the rest.*; at some point, somehow!\n",
    "\n",
    "Matplotlib comes with a convenience sub-package called ``pyplot`` which, for consistency with the wider matplotlib community, should always be imported as ``plt``:"
   ]
  },
  {
   "cell_type": "code",
   "execution_count": null,
   "metadata": {},
   "outputs": [],
   "source": [
    "import numpy as np\n",
    "import pandas as pd\n",
    "import matplotlib.pyplot as plt"
   ]
  },
  {
   "cell_type": "markdown",
   "metadata": {},
   "source": [
    "## - dry stuff - The matplotlib `Figure`, `Axes` and `Axis`\n",
    "\n",
    "At the heart of **every** plot is the figure object. The \"Figure\" object is the top level concept which can be drawn to one of the many output formats, or simply just to screen. Any object which can be drawn in this way is known as an \"Artist\" in matplotlib.\n",
    "\n",
    "Lets create our first artist using pyplot, and then show it:"
   ]
  },
  {
   "cell_type": "code",
   "execution_count": null,
   "metadata": {},
   "outputs": [],
   "source": [
    "fig = plt.figure()\n",
    "plt.show()"
   ]
  },
  {
   "cell_type": "markdown",
   "metadata": {},
   "source": [
    "On its own, drawing the figure artist is uninteresting and will result in an empty piece of paper (that's why we didn't see anything above).\n",
    "\n",
    "By far the most useful artist in matplotlib is the **Axes** artist. The Axes artist represents the \"data space\" of a typical plot, a rectangular axes (the most common, but not always the case, e.g. polar plots) will have 2 (confusingly named) **Axis** artists with tick labels and tick marks.\n",
    "\n",
    "![](../img/matplotlib_fundamentals.png)\n",
    "\n",
    "There is no limit on the number of Axes artists which can exist on a Figure artist. Let's go ahead and create a figure with a single Axes artist, and show it using pyplot:"
   ]
  },
  {
   "cell_type": "code",
   "execution_count": null,
   "metadata": {},
   "outputs": [],
   "source": [
    "ax = plt.axes()"
   ]
  },
  {
   "cell_type": "markdown",
   "metadata": {},
   "source": [
    "Matplotlib's ``pyplot`` module makes the process of creating graphics easier by allowing us to skip some of the tedious Artist construction. For example, we did not need to manually create the Figure artist with ``plt.figure`` because it was implicit that we needed a figure when we created the Axes artist.\n",
    "\n",
    "Under the hood matplotlib still had to create a Figure artist, its just we didn't need to capture it into a variable."
   ]
  },
  {
   "cell_type": "markdown",
   "metadata": {},
   "source": [
    "## - essential stuff - `pyplot` versus Object based"
   ]
  },
  {
   "cell_type": "markdown",
   "metadata": {},
   "source": [
    "Some example data:"
   ]
  },
  {
   "cell_type": "code",
   "execution_count": null,
   "metadata": {},
   "outputs": [],
   "source": [
    "x = np.linspace(0, 5, 10)\n",
    "y = x ** 2"
   ]
  },
  {
   "cell_type": "markdown",
   "metadata": {},
   "source": [
    "Observe the following difference:"
   ]
  },
  {
   "cell_type": "markdown",
   "metadata": {},
   "source": [
    "**1. pyplot style: plt.** (you will see this a lot for code online!)"
   ]
  },
  {
   "cell_type": "code",
   "execution_count": null,
   "metadata": {},
   "outputs": [],
   "source": [
    "ax = plt.plot(x, y, '-')"
   ]
  },
  {
   "cell_type": "markdown",
   "metadata": {},
   "source": [
    "**2. object oriented**"
   ]
  },
  {
   "cell_type": "code",
   "execution_count": null,
   "metadata": {},
   "outputs": [],
   "source": [
    "from matplotlib import ticker"
   ]
  },
  {
   "cell_type": "code",
   "execution_count": null,
   "metadata": {},
   "outputs": [],
   "source": [
    "x = np.linspace(0, 5, 10)\n",
    "y = x ** 10\n",
    "\n",
    "fig, ax = plt.subplots()\n",
    "ax.plot(x, y, '-')\n",
    "ax.set_title(\"My data\")\n",
    "\n",
    "ax.yaxis.set_major_formatter(ticker.FormatStrFormatter(\"%.1f\"))"
   ]
  },
  {
   "cell_type": "markdown",
   "metadata": {},
   "source": [
    "Although a little bit more code is involved, the advantage is that we now have **full control** of where the plot axes are placed, and we can easily add more than one axis to the figure:"
   ]
  },
  {
   "cell_type": "code",
   "execution_count": null,
   "metadata": {},
   "outputs": [],
   "source": [
    "fig, ax1 = plt.subplots()\n",
    "ax1.plot(x, y, '-')\n",
    "ax1.set_ylabel('y')\n",
    "\n",
    "ax2 = fig.add_axes([0.2, 0.5, 0.4, 0.3]) # inset axes\n",
    "ax2.set_xlabel('x')\n",
    "ax2.plot(x, y*2, 'r-')"
   ]
  },
  {
   "cell_type": "markdown",
   "metadata": {},
   "source": [
    "And also Matplotlib advices the object oriented style:\n",
    "\n",
    "![](../img/matplotlib_oo.png)"
   ]
  },
  {
   "cell_type": "markdown",
   "metadata": {},
   "source": [
    "<div class=\"alert alert-info\" style=\"font-size:18px\">\n",
    "\n",
    "<b>REMEMBER</b>:\n",
    "\n",
    " <ul>\n",
    "  <li>Use the <b>object oriented</b> power of Matplotlib</li>\n",
    "  <li>Get yourself used to writing <code>fig, ax = plt.subplots()</code></li>\n",
    "</ul>\n",
    "</div>"
   ]
  },
  {
   "cell_type": "code",
   "execution_count": null,
   "metadata": {},
   "outputs": [],
   "source": [
    "fig, ax = plt.subplots()\n",
    "ax.plot(x, y, '-')\n",
    "# ..."
   ]
  },
  {
   "cell_type": "markdown",
   "metadata": {},
   "source": [
    "## An small cheat-sheet reference for some common elements"
   ]
  },
  {
   "cell_type": "code",
   "execution_count": null,
   "metadata": {},
   "outputs": [],
   "source": [
    "x = np.linspace(-1, 0, 100)\n",
    "\n",
    "fig, ax  = plt.subplots(figsize=(10, 7))\n",
    "\n",
    "# Adjust the created axes so that its topmost extent is 0.8 of the figure.\n",
    "fig.subplots_adjust(top=0.9)\n",
    "\n",
    "ax.plot(x, x**2, color='0.4', label='power 2')\n",
    "ax.plot(x, x**3, color='0.8', linestyle='--', label='power 3')\n",
    "\n",
    "ax.vlines(x=-0.75, ymin=0., ymax=0.8, color='0.4', linestyle='-.') \n",
    "ax.fill_between(x=x, y1=x**2, y2=1.1*x**2, color='0.85')\n",
    "\n",
    "ax.axhline(y=0.1, color='0.4', linestyle='-.')\n",
    "ax.axhspan(ymin=0.65, ymax=0.75, color='0.95')\n",
    "\n",
    "fig.suptitle('Figure title', fontsize=18, \n",
    "             fontweight='bold')\n",
    "ax.set_title('Axes title', fontsize=16)\n",
    "\n",
    "ax.set_xlabel('The X axis')\n",
    "ax.set_ylabel('The Y axis $y=f(x)$', fontsize=16)\n",
    "\n",
    "ax.set_xlim(-1.0, 1.1)\n",
    "ax.set_ylim(-0.1, 1.)\n",
    "\n",
    "ax.text(0.5, 0.2, 'Text centered at (0.5, 0.2)\\nin data coordinates.',\n",
    "        horizontalalignment='center', fontsize=14)\n",
    "\n",
    "ax.text(0.5, 0.5, 'Text centered at (0.5, 0.5)\\nin relative Axes coordinates.',\n",
    "        horizontalalignment='center', fontsize=14, \n",
    "        transform=ax.transAxes, color='grey')\n",
    "\n",
    "ax.annotate('Text pointing at (0.0, 0.75)', xy=(0.0, 0.75), xycoords=\"data\",\n",
    "            xytext=(20, 40), textcoords=\"offset points\",\n",
    "            horizontalalignment='left', fontsize=14,\n",
    "            arrowprops=dict(facecolor='black', shrink=0.05, width=1))\n",
    "\n",
    "ax.legend(loc='lower right', frameon=True, ncol=2, fontsize=14)"
   ]
  },
  {
   "cell_type": "markdown",
   "metadata": {},
   "source": [
    "Adjusting specific parts of a plot is a matter of accessing the correct element of the plot:\n",
    "\n",
    "![](https://matplotlib.org/stable/_images/anatomy.png)"
   ]
  },
  {
   "cell_type": "markdown",
   "metadata": {},
   "source": [
    "For more information on legend positioning, check [this post](http://stackoverflow.com/questions/4700614/how-to-put-the-legend-out-of-the-plot) on stackoverflow!"
   ]
  },
  {
   "cell_type": "markdown",
   "metadata": {},
   "source": [
    "## Exercises"
   ]
  },
  {
   "cell_type": "markdown",
   "metadata": {},
   "source": [
    "For these exercises we will use some random generated example data (as a Numpy array), representing daily measured values:"
   ]
  },
  {
   "cell_type": "code",
   "execution_count": null,
   "metadata": {},
   "outputs": [],
   "source": [
    "data = np.random.randint(-2, 3, 100).cumsum()\n",
    "data"
   ]
  },
  {
   "cell_type": "markdown",
   "metadata": {},
   "source": [
    "<div class=\"alert alert-success\">\n",
    "\n",
    "**EXERCISE 1**\n",
    "\n",
    "Make a line chart of the `data` using Matplotlib. The figure should be 12 (width) by 4 (height) in inches. Make the line color 'darkgrey' and provide an x-label ('days since start') and a y-label ('measured value').\n",
    "    \n",
    "Use the object oriented approach to create the chart.\n",
    "\n",
    "<details><summary>Hints</summary>\n",
    "\n",
    "- When Matplotlib only receives a single input variable, it will interpret this as the variable for the y-axis\n",
    "- Check the cheat sheet above for the functions.\n",
    "\n",
    "</details>\n",
    "\n",
    "</div>"
   ]
  },
  {
   "cell_type": "code",
   "execution_count": null,
   "metadata": {
    "tags": [
     "nbtutor-solution"
    ]
   },
   "outputs": [],
   "source": [
    "# %load _solutions/visualization_01_matplotlib1.py"
   ]
  },
  {
   "cell_type": "markdown",
   "metadata": {},
   "source": [
    "<div class=\"alert alert-success\">\n",
    "\n",
    "**EXERCISE 2**\n",
    "\n",
    "The data represents each a day starting from Jan 1st 2021. Create an array (variable name `dates`) of the same length as the original data (length 100) with the corresponding dates ('2021-01-01', '2021-01-02',...). Create the same chart as in the previous exercise, but use the `dates` values for the x-axis data.\n",
    "    \n",
    "Mark the region inside `[-5, 5]` with a green color to show that these values are within an acceptable range.\n",
    "\n",
    "<details><summary>Hints</summary>\n",
    "\n",
    "- As seen in notebook `pandas_04_time_series_data`, Pandas provides a useful function `pd.date_range` to create a set of datetime values. In this case 100 values with `freq=\"D\"`.\n",
    "- Make sure to understand the difference between `axhspan` and `fill_between`, which one do you need?\n",
    "- When adding regions, adding an `alpha` level is mostly a good idea.\n",
    "\n",
    "</details>\n",
    "\n",
    "</div>"
   ]
  },
  {
   "cell_type": "code",
   "execution_count": null,
   "metadata": {
    "tags": [
     "nbtutor-solution"
    ]
   },
   "outputs": [],
   "source": [
    "# %load _solutions/visualization_01_matplotlib2.py"
   ]
  },
  {
   "cell_type": "markdown",
   "metadata": {},
   "source": [
    "<div class=\"alert alert-success\">\n",
    "\n",
    "**EXERCISE 3**\n",
    "\n",
    "Compare the __last ten days__ ('2021-04-01' till '2021-04-10') in a bar chart using darkgrey color. For the data on '2021-04-01', use an orange bar to highlight the measurement on this day.\n",
    "\n",
    "<details><summary>Hints</summary>\n",
    "\n",
    "- Select the last 10 days from the `data` and `dates` variable, i.e. slice [-10:].\n",
    "- Similar to a `plot` method, Matplotlib provides a `bar` method.\n",
    "- By plotting a single orange bar on top of the grey bars with a second bar chart, that one is highlithed.\n",
    "\n",
    "</details>\n",
    "\n",
    "</div>"
   ]
  },
  {
   "cell_type": "code",
   "execution_count": null,
   "metadata": {
    "tags": [
     "nbtutor-solution"
    ]
   },
   "outputs": [],
   "source": [
    "# %load _solutions/visualization_01_matplotlib3.py"
   ]
  },
  {
   "cell_type": "markdown",
   "metadata": {},
   "source": [
    "## I do not like the style..."
   ]
  },
  {
   "cell_type": "markdown",
   "metadata": {},
   "source": [
    "**...understandable**"
   ]
  },
  {
   "cell_type": "markdown",
   "metadata": {},
   "source": [
    "Matplotlib had a bad reputation in terms of its default styling as figures created with earlier versions of Matplotlib were very Matlab-lookalike and mostly not really catchy. \n",
    "\n",
    "Since Matplotlib 2.0, this has changed: https://matplotlib.org/users/dflt_style_changes.html!\n",
    "\n",
    "However...\n",
    "> *Des goûts et des couleurs, on ne discute pas...*\n",
    "\n",
    "(check [this link](https://fr.wiktionary.org/wiki/des_go%C3%BBts_et_des_couleurs,_on_ne_discute_pas) if you're not french-speaking)\n",
    "\n",
    "To account different tastes, Matplotlib provides a number of styles that can be used to quickly change a number of settings:"
   ]
  },
  {
   "cell_type": "code",
   "execution_count": null,
   "metadata": {},
   "outputs": [],
   "source": [
    "plt.style.available"
   ]
  },
  {
   "cell_type": "code",
   "execution_count": null,
   "metadata": {},
   "outputs": [],
   "source": [
    "x = np.linspace(0, 10)\n",
    "\n",
    "with plt.style.context('seaborn-whitegrid'):  # 'seaborn', ggplot', 'bmh', 'grayscale', 'seaborn-whitegrid', 'seaborn-muted'\n",
    "    fig, ax = plt.subplots()\n",
    "    ax.plot(x, np.sin(x) + x + np.random.randn(50))\n",
    "    ax.plot(x, np.sin(x) + 0.5 * x + np.random.randn(50))\n",
    "    ax.plot(x, np.sin(x) + 2 * x + np.random.randn(50))"
   ]
  },
  {
   "cell_type": "markdown",
   "metadata": {},
   "source": [
    "We should not start discussing about colors and styles, just pick **your favorite style**!"
   ]
  },
  {
   "cell_type": "code",
   "execution_count": null,
   "metadata": {},
   "outputs": [],
   "source": [
    "plt.style.use('seaborn')"
   ]
  },
  {
   "cell_type": "markdown",
   "metadata": {},
   "source": [
    "or go all the way and define your own custom style, see the [official documentation](https://matplotlib.org/3.1.1/tutorials/introductory/customizing.html) or [this tutorial](https://colcarroll.github.io/yourplotlib/#/)."
   ]
  },
  {
   "cell_type": "markdown",
   "metadata": {},
   "source": [
    "<div class=\"alert alert-info\">\n",
    "\n",
    "<b>REMEMBER</b>:\n",
    "\n",
    "* If you just want **quickly a good-looking plot**, use one of the available styles (`plt.style.use('...')`)\n",
    "* Otherwise, creating `Figure` and `Axes` objects makes it possible to change everything!\n",
    "\n",
    "</div>"
   ]
  },
  {
   "cell_type": "markdown",
   "metadata": {},
   "source": [
    "## Advanced subplot configuration"
   ]
  },
  {
   "cell_type": "markdown",
   "metadata": {},
   "source": [
    "The function to setup a Matplotlib Figure we have seen up to now,  `fig, ax = plt.subplots()`, supports creating both a single plot and multiple subplots with a regular number of rows/columns:"
   ]
  },
  {
   "cell_type": "code",
   "execution_count": null,
   "metadata": {},
   "outputs": [],
   "source": [
    "fig, ax = plt.subplots(2, 3, figsize=(5, 5))"
   ]
  },
  {
   "cell_type": "markdown",
   "metadata": {},
   "source": [
    "A typical issue when plotting multiple elements in the same Figure is the overlap of the subplots. A straight-forward approach is using a larger Figure size, but this is not always possible and does not make the content independent from the Figure size. Matplotlib provides the usage of a [__constrained-layout__](https://matplotlib.org/stable/tutorials/intermediate/constrainedlayout_guide.html) to fit plots within your Figure cleanly."
   ]
  },
  {
   "cell_type": "code",
   "execution_count": null,
   "metadata": {},
   "outputs": [],
   "source": [
    "fig, ax = plt.subplots(2, 3, figsize=(5, 5), constrained_layout=True)"
   ]
  },
  {
   "cell_type": "markdown",
   "metadata": {},
   "source": [
    "When more advanced layout configurations are required, the usage of the [gridspec](https://matplotlib.org/stable/api/gridspec_api.html#module-matplotlib.gridspec) module is a good reference. See [gridspec demo](https://matplotlib.org/stable/gallery/userdemo/demo_gridspec03.html#sphx-glr-gallery-userdemo-demo-gridspec03-py) for more information. A useful shortcut to know about is the [__string-shorthand__](https://matplotlib.org/stable/tutorials/provisional/mosaic.html#string-short-hand) to setup subplot layouts in a more intuitive way, e.g."
   ]
  },
  {
   "cell_type": "code",
   "execution_count": null,
   "metadata": {},
   "outputs": [],
   "source": [
    "axd = plt.figure(constrained_layout=True).subplot_mosaic(\n",
    "    \"\"\"\n",
    "    ABD\n",
    "    CCD\n",
    "    \"\"\"\n",
    ")\n",
    "axd;"
   ]
  },
  {
   "cell_type": "markdown",
   "metadata": {},
   "source": [
    "## Interaction with Pandas"
   ]
  },
  {
   "cell_type": "markdown",
   "metadata": {},
   "source": [
    "What we have been doing while plotting with Pandas:"
   ]
  },
  {
   "cell_type": "code",
   "execution_count": null,
   "metadata": {},
   "outputs": [],
   "source": [
    "import pandas as pd"
   ]
  },
  {
   "cell_type": "code",
   "execution_count": null,
   "metadata": {},
   "outputs": [],
   "source": [
    "flowdata = pd.read_csv('data/vmm_flowdata.csv', \n",
    "                       index_col='Time', \n",
    "                       parse_dates=True)"
   ]
  },
  {
   "cell_type": "code",
   "execution_count": null,
   "metadata": {},
   "outputs": [],
   "source": [
    "flowdata.plot.line()  # remark default plot() is a line plot"
   ]
  },
  {
   "cell_type": "markdown",
   "metadata": {},
   "source": [
    "Under the hood, it creates an Matplotlib Figure with an Axes object."
   ]
  },
  {
   "cell_type": "markdown",
   "metadata": {},
   "source": [
    "### Pandas versus matplotlib"
   ]
  },
  {
   "cell_type": "markdown",
   "metadata": {},
   "source": [
    "#### Comparison 1: single plot"
   ]
  },
  {
   "cell_type": "code",
   "execution_count": null,
   "metadata": {},
   "outputs": [],
   "source": [
    "flowdata.plot(figsize=(16, 6), ylabel=\"Discharge m3/s\") # SHIFT + TAB this!"
   ]
  },
  {
   "cell_type": "markdown",
   "metadata": {},
   "source": [
    "Making this with matplotlib..."
   ]
  },
  {
   "cell_type": "code",
   "execution_count": null,
   "metadata": {},
   "outputs": [],
   "source": [
    "fig, ax = plt.subplots(figsize=(16, 6))\n",
    "ax.plot(flowdata)\n",
    "ax.legend([\"L06_347\", \"LS06_347\", \"LS06_348\"])"
   ]
  },
  {
   "cell_type": "markdown",
   "metadata": {},
   "source": [
    "is still ok!"
   ]
  },
  {
   "cell_type": "markdown",
   "metadata": {},
   "source": [
    "#### Comparison 2: with subplots"
   ]
  },
  {
   "cell_type": "code",
   "execution_count": null,
   "metadata": {},
   "outputs": [],
   "source": [
    "axs = flowdata.plot(subplots=True, sharex=True,\n",
    "                    figsize=(16, 8), colormap='viridis', # Dark2\n",
    "                    fontsize=15, rot=0)\n",
    "axs[0].set_title(\"EXAMPLE\");"
   ]
  },
  {
   "cell_type": "markdown",
   "metadata": {},
   "source": [
    "Mimicking this in matplotlib (just as a reference, it is basically what Pandas is doing under the hood):"
   ]
  },
  {
   "cell_type": "code",
   "execution_count": null,
   "metadata": {},
   "outputs": [],
   "source": [
    "from matplotlib import cm\n",
    "import matplotlib.dates as mdates\n",
    "\n",
    "colors = [cm.viridis(x) for x in np.linspace(0.0, 1.0, len(flowdata.columns))] # list comprehension to set up the colors\n",
    "\n",
    "fig, axs = plt.subplots(3, 1, figsize=(16, 8))\n",
    "\n",
    "for ax, col, station in zip(axs, colors, flowdata.columns):\n",
    "    ax.plot(flowdata.index, flowdata[station], label=station, color=col)\n",
    "    ax.legend()\n",
    "    if not ax.get_subplotspec().is_last_row():\n",
    "        ax.xaxis.set_ticklabels([])\n",
    "        ax.xaxis.set_major_locator(mdates.YearLocator())\n",
    "    else:\n",
    "        ax.xaxis.set_major_locator(mdates.YearLocator())\n",
    "        ax.xaxis.set_major_formatter(mdates.DateFormatter('%Y'))\n",
    "        ax.set_xlabel('Time')\n",
    "    ax.tick_params(labelsize=15)"
   ]
  },
  {
   "cell_type": "markdown",
   "metadata": {},
   "source": [
    "Is already a bit harder ;-). Pandas provides as set of default configurations on top of Matplotlib."
   ]
  },
  {
   "cell_type": "markdown",
   "metadata": {},
   "source": [
    "### Best of both worlds..."
   ]
  },
  {
   "cell_type": "code",
   "execution_count": null,
   "metadata": {},
   "outputs": [],
   "source": [
    "fig, (ax0, ax1) = plt.subplots(2, 1) #prepare a Matplotlib figure\n",
    "\n",
    "flowdata.plot(ax=ax0) # use Pandas for the plotting"
   ]
  },
  {
   "cell_type": "code",
   "execution_count": null,
   "metadata": {},
   "outputs": [],
   "source": [
    "fig, ax = plt.subplots(figsize=(15, 5)) #prepare a matplotlib figure\n",
    "\n",
    "flowdata.plot(ax=ax) # use pandas for the plotting\n",
    "\n",
    "# Provide further adaptations with matplotlib:\n",
    "ax.set_xlabel(\"\")\n",
    "ax.grid(which=\"major\", linewidth='0.5', color='0.8')\n",
    "fig.suptitle('Flow station time series', fontsize=15)"
   ]
  },
  {
   "cell_type": "code",
   "execution_count": null,
   "metadata": {},
   "outputs": [],
   "source": [
    "fig, (ax0, ax1) = plt.subplots(2, 1, figsize=(16, 6)) #provide with matplotlib 2 axis\n",
    "\n",
    "flowdata[[\"L06_347\", \"LS06_347\"]].plot(ax=ax0) # plot the two timeseries of the same location on the first plot\n",
    "flowdata[\"LS06_348\"].plot(ax=ax1, color='0.7') # plot the other station on the second plot\n",
    "\n",
    "# further adapt with matplotlib\n",
    "ax0.set_ylabel(\"L06_347\")\n",
    "ax1.set_ylabel(\"LS06_348\")\n",
    "ax1.legend()"
   ]
  },
  {
   "cell_type": "markdown",
   "metadata": {},
   "source": [
    "<div class=\"alert alert-info\">\n",
    "\n",
    " <b>Remember</b>: \n",
    "\n",
    "* You can do anything with matplotlib, but at a cost... <a href=\"http://stackoverflow.com/questions/tagged/matplotlib\">stackoverflow</a>\n",
    "* The preformatting of Pandas provides mostly enough flexibility for quick analysis and draft reporting. It is not for paper-proof figures or customization\n",
    "\n",
    "If you take the time to make your perfect/spot-on/greatest-ever matplotlib-figure: Make it a <b>reusable function</b>!\n",
    "    \n",
    "`fig.savefig()` to save your Figure object!    \n",
    "\n",
    "</div>"
   ]
  },
  {
   "cell_type": "markdown",
   "metadata": {},
   "source": [
    "## Exercise"
   ]
  },
  {
   "cell_type": "code",
   "execution_count": null,
   "metadata": {},
   "outputs": [],
   "source": [
    "flowdata = pd.read_csv('data/vmm_flowdata.csv', \n",
    "                       index_col='Time', \n",
    "                       parse_dates=True)"
   ]
  },
  {
   "cell_type": "code",
   "execution_count": null,
   "metadata": {},
   "outputs": [],
   "source": [
    "flowdata.head()"
   ]
  },
  {
   "cell_type": "markdown",
   "metadata": {},
   "source": [
    "<div class=\"alert alert-success\">\n",
    "\n",
    "**EXERCISE 4**\n",
    "\n",
    "Pandas supports different types of charts besides line plots, all available from `.plot.xxx`, e.g. `.plot.scatter`, `.plot.bar`,... Make a bar chart to compare the mean discharge in the three measurement stations L06_347, LS06_347, LS06_348. Add a y-label 'mean discharge'. To do so, prepare a Figure and Axes with Matplotlib and add the chart to the created Axes.\n",
    "\n",
    "<details><summary>Hints</summary>\n",
    "\n",
    "* You can either use Pandas `ylabel` parameter to set the label or add it with Matploltib `ax.set_ylabel()`\n",
    "* To link an Axes object with Pandas output, pass the Axes created by `fig, ax = plt.subplots()` as parameter to the Pandas plot function.\n",
    "</details>\n",
    "\n",
    "</div>"
   ]
  },
  {
   "cell_type": "code",
   "execution_count": null,
   "metadata": {
    "tags": [
     "nbtutor-solution"
    ]
   },
   "outputs": [],
   "source": [
    "# %load _solutions/visualization_01_matplotlib4.py"
   ]
  },
  {
   "cell_type": "markdown",
   "metadata": {},
   "source": [
    "<div class=\"alert alert-success\">\n",
    "\n",
    "**EXERCISE 5**\n",
    "\n",
    "To compare the stations data, make two subplots next to each other:\n",
    "    \n",
    "- In the left subplot, make a bar chart of the minimal measured value for each of the station.\n",
    "- In the right subplot, make a bar chart of the maximal measured value for each of the station.    \n",
    "\n",
    "Add a title to the Figure containing 'Minimal and maximal discharge from 2009-01-01 till 2013-01-02'. Extract these dates from the data itself instead of hardcoding it.\n",
    "\n",
    "<details><summary>Hints</summary>\n",
    "\n",
    "- One can directly unpack the result of multiple axes, e.g. `fig, (ax0, ax1) = plt.subplots(1, 2,..` and link each of them to a Pands plot function.\n",
    "- Remember the remark about `constrained_layout=True` to overcome overlap with subplots?\n",
    "- A Figure title is called `suptitle` (which is different from an Axes title)\n",
    "- f-strings ([_formatted string literals_](https://docs.python.org/3/tutorial/inputoutput.html#formatted-string-literals)) is a powerful Python feature (since Python 3.6) to use variables inside a string, e.g. `f\"some text with a {variable:HOWTOFORMAT}\"` (with the format being optional).\n",
    "</details>\n",
    "\n",
    "</div>"
   ]
  },
  {
   "cell_type": "code",
   "execution_count": null,
   "metadata": {
    "tags": [
     "nbtutor-solution"
    ]
   },
   "outputs": [],
   "source": [
    "# %load _solutions/visualization_01_matplotlib5.py"
   ]
  },
  {
   "cell_type": "markdown",
   "metadata": {},
   "source": [
    "<div class=\"alert alert-success\">\n",
    "\n",
    "**EXERCISE 6**\n",
    "\n",
    "Make a line plot of the discharge measurements in station `LS06_347`. \n",
    "    \n",
    "The main event on November 13th caused a flood event. To support the reader in the interpretation of the graph, add the following elements:\n",
    "    \n",
    "- Add an horizontal red line at 20 m3/s to define the alarm level.\n",
    "- Add the text 'Alarm level' in red just above the alarm levl line.\n",
    "- Add an arrow pointing to the main peak in the data (event on November 13th) with the text 'Flood event on 2020-11-13'\n",
    "    \n",
    "Check the Matplotlib documentation on [annotations](https://matplotlib.org/stable/gallery/text_labels_and_annotations/annotation_demo.html#annotating-plots) for the text annotation\n",
    "\n",
    "<details><summary>Hints</summary>\n",
    "\n",
    "- The horizontal line is explained in the cheat sheet in this notebook.\n",
    "- Whereas `ax.text` would work as well for the 'alarm level' text, the `annotate` method provides easier options to shift the text slightly relative to a data point.\n",
    "- Extract the main peak event by filtering the data on the maximum value. Different approaches are possible, but the `max()` and `idxmax()` methods are a convenient option in this case.\n",
    "\n",
    "</details>\n",
    "\n",
    "</div>"
   ]
  },
  {
   "cell_type": "code",
   "execution_count": null,
   "metadata": {
    "tags": [
     "nbtutor-solution"
    ]
   },
   "outputs": [],
   "source": [
    "# %load _solutions/visualization_01_matplotlib6.py"
   ]
  },
  {
   "cell_type": "markdown",
   "metadata": {},
   "source": [
    "# Need more matplotlib inspiration?"
   ]
  },
  {
   "cell_type": "markdown",
   "metadata": {},
   "source": [
    "For more in-depth material:\n",
    "* http://www.labri.fr/perso/nrougier/teaching/matplotlib/\n",
    "* notebooks in matplotlib section: http://nbviewer.jupyter.org/github/jakevdp/PythonDataScienceHandbook/blob/master/notebooks/Index.ipynb#4.-Visualization-with-Matplotlib\n",
    "* main reference: [matplotlib homepage](http://matplotlib.org/)"
   ]
  },
  {
   "cell_type": "markdown",
   "metadata": {},
   "source": [
    "<div class=\"alert alert-info\" style=\"font-size:18px\">\n",
    "\n",
    "**Galleries!**\n",
    "\n",
    "Galleries are great to get inspiration, see the plot you want, and check the code how it is created:\n",
    "    \n",
    "* [matplotlib gallery](https://matplotlib.org/stable/gallery/index.html)\n",
    "* [seaborn gallery](https://seaborn.pydata.org/examples/index.html)\n",
    "* [python Graph Gallery](https://python-graph-gallery.com/)\n",
    "\n",
    "</div>"
   ]
  },
  {
   "cell_type": "code",
   "execution_count": null,
   "metadata": {},
   "outputs": [],
   "source": []
  }
 ],
 "metadata": {
  "jupytext": {
   "formats": "ipynb,md:myst"
  },
  "kernelspec": {
   "display_name": "Python 3 (ipykernel)",
   "language": "python",
   "name": "python3"
  },
  "language_info": {
   "codemirror_mode": {
    "name": "ipython",
    "version": 3
   },
   "file_extension": ".py",
   "mimetype": "text/x-python",
   "name": "python",
   "nbconvert_exporter": "python",
   "pygments_lexer": "ipython3",
   "version": "3.9.7"
  },
  "nav_menu": {},
  "toc": {
   "navigate_menu": true,
   "number_sections": true,
   "sideBar": true,
   "threshold": 6,
   "toc_cell": false,
   "toc_section_display": "block",
   "toc_window_display": true
  },
  "toc_position": {
   "height": "860px",
   "left": "0px",
   "right": "1657px",
   "top": "106px",
   "width": "212px"
  },
  "widgets": {
   "application/vnd.jupyter.widget-state+json": {
    "state": {},
    "version_major": 2,
    "version_minor": 0
   }
  }
 },
 "nbformat": 4,
 "nbformat_minor": 4
}
