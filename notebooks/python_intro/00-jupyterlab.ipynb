{
 "cells": [
  {
   "cell_type": "markdown",
   "metadata": {},
   "source": [
    "<p><font size=\"6\"><b>Jupyter notebook introduction </b></font></p>\n",
    "\n",
    "> *© 2024, Joris Van den Bossche and Stijn Van Hoey  (<mailto:jorisvandenbossche@gmail.com>, <mailto:stijnvanhoey@gmail.com>). Licensed under [CC BY 4.0 Creative Commons](http://creativecommons.org/licenses/by/4.0/)*\n",
    "\n",
    "-----\n",
    "\n",
    "> This notebook is based on material of the [*Python Scientific Lecture Notes*](https://scipy-lectures.github.io/), the [*Software Carptentry: Programming with Python gapminder course*](https://swcarpentry.github.io/python-novice-gapminder) and the [*Software Carptentry: Programming with Python inflammation course*](https://swcarpentry.github.io/python-novice-inflammation/)."
   ]
  },
  {
   "cell_type": "markdown",
   "metadata": {},
   "source": [
    "# Introduction"
   ]
  },
  {
   "cell_type": "markdown",
   "metadata": {},
   "source": [
    "To run Python, we are going to use Jupyter Notebooks via JupyterLab for this course. Jupyter notebooks are common in data science and visualization and serve as a convenient common-denominator experience for running Python code interactively. Jupyter notebooks let us __execute and view the results of our Python code interactively__ within the notebook.\n",
    "\n",
    "__JupyterLab__ is an application server with a web user interface from [Project Jupyter](https://jupyter.org/) that enables one to work with documents and activities such as __Jupyter notebooks__ (a notebook is a file stored on your computer as a JSON file)."
   ]
  },
  {
   "cell_type": "markdown",
   "metadata": {},
   "source": [
    "<div class=\"alert alert-info\">\n",
    "\n",
    "__INFO__\n",
    "\n",
    "Jupyter Notebook files have the file extension `.ipynb` to distinguish them from plain-text files.\n",
    "    \n",
    "</div>"
   ]
  },
  {
   "cell_type": "markdown",
   "metadata": {},
   "source": [
    "Let's have a check at the GUI provided by Juypyterlab. More detailed information on JupyterLab can be found in the [JupyterLab user interface documentation](https://jupyterlab.readthedocs.io/en/stable/user/interface.html) as a reference."
   ]
  },
  {
   "cell_type": "markdown",
   "metadata": {},
   "source": [
    "# Notebook cell types\n",
    "\n",
    "Jupyter mixes code and text in different types of blocks, called cells. We often use the term “code” to mean “the source code of software written in a language such as Python”. A “code cell” in a Notebook is a cell that contains software; a “text cell” is one that contains ordinary prose written for human beings."
   ]
  },
  {
   "cell_type": "markdown",
   "metadata": {},
   "source": [
    "## Code: Python"
   ]
  },
  {
   "cell_type": "code",
   "execution_count": null,
   "metadata": {},
   "outputs": [],
   "source": [
    "# Code cell, then we are using python\n",
    "print('Hello Course')"
   ]
  },
  {
   "cell_type": "code",
   "execution_count": null,
   "metadata": {},
   "outputs": [],
   "source": [
    "DS = 10\n",
    "print(DS + 5)"
   ]
  },
  {
   "cell_type": "markdown",
   "metadata": {},
   "source": [
    "Writing code is what you will do most during this course!"
   ]
  },
  {
   "cell_type": "markdown",
   "metadata": {},
   "source": [
    "## Text: Markdown"
   ]
  },
  {
   "cell_type": "markdown",
   "metadata": {},
   "source": [
    "Text cells, using Markdown syntax. With the syntax, you can make text **bold** or *italic*, amongst many other things..."
   ]
  },
  {
   "cell_type": "markdown",
   "metadata": {},
   "source": [
    "* list\n",
    "* with\n",
    "* items"
   ]
  },
  {
   "cell_type": "markdown",
   "metadata": {},
   "source": [
    "Including images:\n",
    "\n",
    "![images](https://upload.wikimedia.org/wikipedia/commons/c/c3/Python-logo-notext.svg)\n",
    "\n",
    "and links [Link to interesting resources](https://www.youtube.com/watch?v=z9Uz1icjwrM)"
   ]
  },
  {
   "cell_type": "markdown",
   "metadata": {},
   "source": [
    "Mathematical formulas can also be incorporated (LaTeX it is...)\n",
    "$$\\frac{dBZV}{dt}=BZV_{in} - k_1 .BZV$$\n",
    "$$\\frac{dOZ}{dt}=k_2 .(OZ_{sat}-OZ) - k_1 .BZV$$"
   ]
  },
  {
   "cell_type": "markdown",
   "metadata": {},
   "source": [
    "Or tables:\n",
    "\n",
    "course | points\n",
    " --- | --- \n",
    " Math | 8\n",
    " Chemistry | 4"
   ]
  },
  {
   "cell_type": "markdown",
   "metadata": {},
   "source": [
    "Code can also be incorporated, but than just to illustrate:"
   ]
  },
  {
   "cell_type": "markdown",
   "metadata": {},
   "source": [
    "```python\n",
    "BOT = 12\n",
    "print(BOT)\n",
    "```"
   ]
  },
  {
   "cell_type": "markdown",
   "metadata": {},
   "source": [
    "Get more background on the markdown syntax: https://github.com/adam-p/markdown-here/wiki/Markdown-Cheatsheet"
   ]
  },
  {
   "cell_type": "markdown",
   "metadata": {},
   "source": [
    "<div class=\"alert alert-success\">\n",
    "\n",
    "**EXERCISE 1**:\n",
    "\n",
    "What is displayed when a Python cell in a notebook that contains several calculations is executed? \n",
    "    \n",
    "- Create a new code cell\n",
    "- Add the following content to the cell    \n",
    "    ```\n",
    "    7 * 3\n",
    "    2 + 1\n",
    "    ```\n",
    "- Execute the cell and check the output\n",
    "    \n",
    "\n",
    "<details><summary>Hints</summary>\n",
    "\n",
    "- To add a new cell, you can use the `+`-icon button in the notebook menu\n",
    "- To execute a cell, you can use the play-icon button in the notebook menu of use SHIFT + ENTER\n",
    "\n",
    "</details>    \n",
    "    \n",
    "</div>"
   ]
  },
  {
   "cell_type": "code",
   "execution_count": null,
   "metadata": {
    "tags": [
     "nbtutor-solution"
    ]
   },
   "outputs": [],
   "source": [
    "# %load _solutions/00-jupyterlab1.py"
   ]
  },
  {
   "cell_type": "markdown",
   "metadata": {},
   "source": [
    "<div class=\"alert alert-success\">\n",
    "\n",
    "**EXERCISE 2**:\n",
    "\n",
    "What happens if you write some Python in a code cell and then you switch it to a Markdown cell? \n",
    "    \n",
    "- Create a new code cell\n",
    "- Add the following content to the cell    \n",
    "    ```\n",
    "    x = 6 * 7 + 12\n",
    "    print(x)\n",
    "    ```\n",
    "- Execute the cell and check the output \n",
    "- Change the cell to a 'Markdown' cell type    \n",
    "    \n",
    "<details><summary>Hints</summary>\n",
    "\n",
    "- To switch a cell type, us the dropdown menu with cell types in the notebook menu\n",
    "\n",
    "</details>    \n",
    "    \n",
    "</div>"
   ]
  },
  {
   "cell_type": "code",
   "execution_count": null,
   "metadata": {
    "tags": [
     "nbtutor-solution"
    ]
   },
   "outputs": [],
   "source": [
    "# %load _solutions/00-jupyterlab2.py"
   ]
  },
  {
   "cell_type": "markdown",
   "metadata": {},
   "source": [
    "## Execution: SHIFT + ENTER\n",
    "\n",
    "To run a cell: <strike>push the start triangle in the menu or</strike> type **SHIFT + ENTER**\n",
    "\n",
    "![](../../img/shiftenter.jpg)"
   ]
  },
  {
   "cell_type": "markdown",
   "metadata": {},
   "source": [
    "# When in trouble"
   ]
  },
  {
   "cell_type": "markdown",
   "metadata": {},
   "source": [
    "<div class=\"alert alert-danger\">\n",
    "\n",
    "__NOTE__: \n",
    "    \n",
    "When you're stuck, or your notebook crashes: \n",
    "    \n",
    "- first try <code>Kernel</code> > <code>Interrupt</code> -> your cell should stop running\n",
    "- if no succes -> <code>Kernel</code> > <code>Restart</code> -> restart your notebook\n",
    "    \n",
    "</div>"
   ]
  },
  {
   "cell_type": "markdown",
   "metadata": {},
   "source": [
    "<div class=\"alert alert-info\">\n",
    "\n",
    "__Kernels?__\n",
    "\n",
    "The JupyterLab docs define kernels as “separate processes started by the server that runs your code in different programming languages and environments.” When we open a Jupyter Notebook, that starts a kernel - a process - that is going to run the code. In this lesson, we’ll be using the Jupyter ipython kernel which lets us run Python 3 code interactively.\n",
    "\n",
    "Using other Jupyter kernels for other programming languages would let us write and execute code in other programming languages in the same JupyterLab interface, like R, Java, Julia, Ruby, JavaScript, Fortran, etc.\n",
    "</div>"
   ]
  },
  {
   "cell_type": "code",
   "execution_count": null,
   "metadata": {},
   "outputs": [],
   "source": []
  }
 ],
 "metadata": {
  "jupytext": {
   "formats": "ipynb,md:myst"
  },
  "kernelspec": {
   "display_name": "Python 3 (ipykernel)",
   "language": "python",
   "name": "python3"
  },
  "language_info": {
   "codemirror_mode": {
    "name": "ipython",
    "version": 3
   },
   "file_extension": ".py",
   "mimetype": "text/x-python",
   "name": "python",
   "nbconvert_exporter": "python",
   "pygments_lexer": "ipython3",
   "version": "3.11.8"
  },
  "nav_menu": {},
  "toc": {
   "navigate_menu": true,
   "number_sections": true,
   "sideBar": true,
   "threshold": 6,
   "toc_cell": false,
   "toc_section_display": "block",
   "toc_window_display": true
  },
  "toc_position": {
   "height": "860px",
   "left": "0px",
   "right": "1568px",
   "top": "106px",
   "width": "301px"
  },
  "widgets": {
   "application/vnd.jupyter.widget-state+json": {
    "state": {},
    "version_major": 2,
    "version_minor": 0
   }
  }
 },
 "nbformat": 4,
 "nbformat_minor": 4
}
