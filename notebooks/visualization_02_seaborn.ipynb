{
 "cells": [
  {
   "cell_type": "markdown",
   "metadata": {
    "tags": []
   },
   "source": [
    "<p><font size=\"6\"><b>Visualisation: Seaborn </b></font></p>\n",
    "\n",
    "\n",
    "> *© 2024, Joris Van den Bossche and Stijn Van Hoey  (<mailto:jorisvandenbossche@gmail.com>, <mailto:stijnvanhoey@gmail.com>). Licensed under [CC BY 4.0 Creative Commons](http://creativecommons.org/licenses/by/4.0/)*\n",
    "\n",
    "---"
   ]
  },
  {
   "cell_type": "code",
   "execution_count": null,
   "metadata": {
    "tags": []
   },
   "outputs": [],
   "source": [
    "import numpy as np\n",
    "import pandas as pd\n",
    "import matplotlib.pyplot as plt"
   ]
  },
  {
   "cell_type": "markdown",
   "metadata": {
    "tags": []
   },
   "source": [
    "# Seaborn"
   ]
  },
  {
   "cell_type": "markdown",
   "metadata": {
    "tags": []
   },
   "source": [
    "[Seaborn](https://seaborn.pydata.org/) is a Python data visualization library:\n",
    "\n",
    "* Built on top of Matplotlib, but providing\n",
    "    1. High level functions.\n",
    "    2. Support for _tidy data_, which became famous due to the `ggplot2` R package.\n",
    "    3. Attractive and informative statistical graphics out of the box.\n",
    "* Interacts well with Pandas"
   ]
  },
  {
   "cell_type": "code",
   "execution_count": null,
   "metadata": {
    "tags": []
   },
   "outputs": [],
   "source": [
    "import seaborn as sns"
   ]
  },
  {
   "cell_type": "markdown",
   "metadata": {
    "tags": []
   },
   "source": [
    "## Introduction"
   ]
  },
  {
   "cell_type": "markdown",
   "metadata": {
    "tags": []
   },
   "source": [
    "We will use the Titanic example data set:"
   ]
  },
  {
   "cell_type": "code",
   "execution_count": null,
   "metadata": {
    "tags": []
   },
   "outputs": [],
   "source": [
    "titanic = pd.read_csv('data/titanic.csv')"
   ]
  },
  {
   "cell_type": "code",
   "execution_count": null,
   "metadata": {
    "jupyter": {
     "outputs_hidden": false
    },
    "tags": []
   },
   "outputs": [],
   "source": [
    "titanic.head()"
   ]
  },
  {
   "cell_type": "markdown",
   "metadata": {
    "tags": []
   },
   "source": [
    "Let's consider following question:\n",
    ">*For each class at the Titanic and each gender, what was the average age?*"
   ]
  },
  {
   "cell_type": "markdown",
   "metadata": {
    "tags": []
   },
   "source": [
    "Hence, we should define the *mean* of the male and female groups of column `Survived` in combination with the groups of the `Pclass` column. In Pandas terminology:"
   ]
  },
  {
   "cell_type": "code",
   "execution_count": null,
   "metadata": {
    "jupyter": {
     "outputs_hidden": false
    },
    "tags": []
   },
   "outputs": [],
   "source": [
    "age_stat = titanic.groupby([\"Pclass\", \"Sex\"])[\"Age\"].mean().reset_index()\n",
    "age_stat"
   ]
  },
  {
   "cell_type": "markdown",
   "metadata": {
    "tags": []
   },
   "source": [
    "Providing this data in a bar chart with pure Pandas is still partly supported:"
   ]
  },
  {
   "cell_type": "code",
   "execution_count": null,
   "metadata": {
    "jupyter": {
     "outputs_hidden": false
    },
    "tags": []
   },
   "outputs": [],
   "source": [
    "age_stat.plot(kind='bar')\n",
    "## A possible other way of plotting this could be using groupby again:   \n",
    "#age_stat.groupby('Pclass').plot(x='Sex', y='Age', kind='bar') # (try yourself by uncommenting)"
   ]
  },
  {
   "cell_type": "markdown",
   "metadata": {
    "tags": []
   },
   "source": [
    "but with mixed results."
   ]
  },
  {
   "cell_type": "markdown",
   "metadata": {
    "tags": []
   },
   "source": [
    "__Seaborn__ provides another level of abstraction to visualize such *grouped* plots with different categories:"
   ]
  },
  {
   "cell_type": "code",
   "execution_count": null,
   "metadata": {
    "jupyter": {
     "outputs_hidden": false
    },
    "tags": []
   },
   "outputs": [],
   "source": [
    "sns.catplot(data=age_stat, \n",
    "            x=\"Sex\", y=\"Age\", \n",
    "            col=\"Pclass\", kind=\"bar\")"
   ]
  },
  {
   "cell_type": "markdown",
   "metadata": {
    "tags": []
   },
   "source": [
    "Check <a href=\"#this_is_tidy\">here</a> for a short recap about `tidy` data."
   ]
  },
  {
   "cell_type": "markdown",
   "metadata": {
    "tags": []
   },
   "source": [
    "<div class=\"alert alert-info\">\n",
    "\n",
    "**Remember**\n",
    "\n",
    "- Seaborn is especially suitbale for these so-called <a href=\"http://vita.had.co.nz/papers/tidy-data.pdf\">tidy</a> dataframe representations.\n",
    "- The [Seaborn tutorial](https://seaborn.pydata.org/tutorial/data_structure.html#long-form-vs-wide-form-data) provides a very good introduction to tidy (also called _long-form_) data. \n",
    "- You can use __Pandas column names__ as input for the visualisation functions of Seaborn.\n",
    "\n",
    "</div>"
   ]
  },
  {
   "cell_type": "markdown",
   "metadata": {
    "tags": []
   },
   "source": [
    "## Interaction with Matplotlib"
   ]
  },
  {
   "cell_type": "markdown",
   "metadata": {
    "tags": []
   },
   "source": [
    "Seaborn builds on top of Matplotlib/Pandas, adding an additional layer of convenience. \n",
    "\n",
    "Topic-wise, Seaborn provides three main modules, i.e. type of plots:\n",
    "\n",
    "- __relational__: understanding how variables in a dataset relate to each other\n",
    "- __distribution__: specialize in representing the distribution of datapoints\n",
    "- __categorical__: visualize a relationship involving categorical data (i.e. plot something _for each category_)\n",
    "\n",
    "The organization looks like this:"
   ]
  },
  {
   "cell_type": "markdown",
   "metadata": {
    "tags": []
   },
   "source": [
    "![](../img/seaborn_overview_modules.png)"
   ]
  },
  {
   "cell_type": "markdown",
   "metadata": {
    "tags": []
   },
   "source": [
    "We first check out the top commands of each of the types of plots: `relplot`, `displot`, `catplot`, each returning a Matplotlib `Figure`:"
   ]
  },
  {
   "cell_type": "markdown",
   "metadata": {
    "tags": []
   },
   "source": [
    "### Figure level functions"
   ]
  },
  {
   "cell_type": "markdown",
   "metadata": {
    "tags": []
   },
   "source": [
    "Let's start from: _What is the relation between Age and Fare?_"
   ]
  },
  {
   "cell_type": "code",
   "execution_count": null,
   "metadata": {
    "jupyter": {
     "outputs_hidden": false
    },
    "tags": []
   },
   "outputs": [],
   "source": [
    "# A relation between variables in a Pandas DataFrame -> `relplot`\n",
    "sns.relplot(data=titanic, x=\"Age\", y=\"Fare\")"
   ]
  },
  {
   "cell_type": "markdown",
   "metadata": {
    "tags": []
   },
   "source": [
    "Extend to: _Is the relation between Age and Fare different for people how survived?_"
   ]
  },
  {
   "cell_type": "code",
   "execution_count": null,
   "metadata": {
    "jupyter": {
     "outputs_hidden": false
    },
    "tags": []
   },
   "outputs": [],
   "source": [
    "sns.relplot(data=titanic, x=\"Age\", y=\"Fare\",\n",
    "            hue=\"Survived\")"
   ]
  },
  {
   "cell_type": "markdown",
   "metadata": {
    "tags": []
   },
   "source": [
    "Extend to: _Is the relation between Age and Fare different for people how survived and/or the gender of the passengers?_"
   ]
  },
  {
   "cell_type": "code",
   "execution_count": null,
   "metadata": {
    "jupyter": {
     "outputs_hidden": false
    },
    "tags": []
   },
   "outputs": [],
   "source": [
    "age_fare = sns.relplot(data=titanic, x=\"Age\", y=\"Fare\",\n",
    "                       hue=\"Survived\",\n",
    "                       col=\"Sex\")"
   ]
  },
  {
   "cell_type": "markdown",
   "metadata": {
    "tags": []
   },
   "source": [
    "The function returns a Seaborn `FacetGrid`, which is related to a Matplotlib `Figure`:"
   ]
  },
  {
   "cell_type": "code",
   "execution_count": null,
   "metadata": {
    "jupyter": {
     "outputs_hidden": false
    },
    "tags": []
   },
   "outputs": [],
   "source": [
    "type(age_fare), type(age_fare.fig)"
   ]
  },
  {
   "cell_type": "markdown",
   "metadata": {
    "tags": []
   },
   "source": [
    "As we are dealing here with 2 subplots, the `FacetGrid` consists of two Matplotlib `Axes`:"
   ]
  },
  {
   "cell_type": "code",
   "execution_count": null,
   "metadata": {
    "jupyter": {
     "outputs_hidden": false
    },
    "tags": []
   },
   "outputs": [],
   "source": [
    "age_fare.axes, type(age_fare.axes.flatten()[0])"
   ]
  },
  {
   "cell_type": "markdown",
   "metadata": {
    "tags": []
   },
   "source": [
    "Hence, we can still apply all the power of Matplotlib, but start from the convenience of Seaborn."
   ]
  },
  {
   "cell_type": "markdown",
   "metadata": {
    "tags": []
   },
   "source": [
    "<div class=\"alert alert-info\">\n",
    "\n",
    "**Remember**\n",
    "\n",
    "The `Figure` level Seaborn functions:    \n",
    "    \n",
    "- Support __faceting__ by data variables (split up in subplots using a categorical variable)\n",
    "- Return a Matplotlib `Figure`, hence the output can NOT be part of a larger Matplotlib Figure\n",
    "\n",
    "</div>"
   ]
  },
  {
   "cell_type": "markdown",
   "metadata": {
    "tags": []
   },
   "source": [
    "### Axes level functions"
   ]
  },
  {
   "cell_type": "markdown",
   "metadata": {
    "tags": []
   },
   "source": [
    "In 'technical' terms, when working with Seaborn functions, it is important to understand which level they operate, as `Axes-level` or `Figure-level`: \n",
    "\n",
    "- __axes-level__ functions plot data onto a single `matplotlib.pyplot.Axes` object and return the `Axes`\n",
    "- __figure-level__ functions return a Seaborn object, `FacetGrid`, which is a `matplotlib.pyplot.Figure`\n",
    "\n",
    "Remember the Matplotlib `Figure`, `axes` and `axis` anatomy explained in [visualization_01_matplotlib](visualization_01_matplotlib.ipynb)? \n",
    "\n",
    "Each plot module has a single `Figure`-level function (top command in the scheme), which offers a unitary interface to its various `Axes`-level functions (."
   ]
  },
  {
   "cell_type": "markdown",
   "metadata": {
    "tags": []
   },
   "source": [
    "We can ask the same question: _Is the relation between Age and Fare different for people how survived?_"
   ]
  },
  {
   "cell_type": "code",
   "execution_count": null,
   "metadata": {
    "jupyter": {
     "outputs_hidden": false
    },
    "tags": []
   },
   "outputs": [],
   "source": [
    "scatter_out = sns.scatterplot(data=titanic, x=\"Age\", y=\"Fare\", hue=\"Survived\")"
   ]
  },
  {
   "cell_type": "code",
   "execution_count": null,
   "metadata": {
    "jupyter": {
     "outputs_hidden": false
    },
    "tags": []
   },
   "outputs": [],
   "source": [
    "type(scatter_out)"
   ]
  },
  {
   "cell_type": "markdown",
   "metadata": {
    "tags": []
   },
   "source": [
    "But we can't use the `col`/`row` options for facetting:"
   ]
  },
  {
   "cell_type": "code",
   "execution_count": null,
   "metadata": {
    "tags": []
   },
   "outputs": [],
   "source": [
    "# sns.scatterplot(data=titanic, x=\"Age\", y=\"Fare\", hue=\"Survived\", col=\"Sex\")  # uncomment to check the output"
   ]
  },
  {
   "cell_type": "markdown",
   "metadata": {},
   "source": [
    "We can use these functions to create custom combinations of plots:"
   ]
  },
  {
   "cell_type": "code",
   "execution_count": null,
   "metadata": {
    "jupyter": {
     "outputs_hidden": false
    }
   },
   "outputs": [],
   "source": [
    "fig, (ax0, ax1) = plt.subplots(1, 2, figsize=(10, 6))\n",
    "sns.scatterplot(data=titanic, x=\"Age\", y=\"Fare\", hue=\"Survived\", ax=ax0)\n",
    "sns.violinplot(data=titanic, x=\"Survived\", y=\"Fare\", ax=ax1)  # boxplot, stripplot,.. as alternative to represent distribution per category"
   ]
  },
  {
   "cell_type": "markdown",
   "metadata": {},
   "source": [
    "__Note!__ Check the similarity with the _best of both worlds_ approach:\n",
    "\n",
    "1. Prepare with Matplotlib\n",
    "2. Plot using Seaborn \n",
    "3. Further adjust specific elements with Matplotlib if needed"
   ]
  },
  {
   "cell_type": "markdown",
   "metadata": {},
   "source": [
    "<div class=\"alert alert-info\">\n",
    "\n",
    "**Remember**\n",
    "\n",
    "The `Axes` level Seaborn functions:    \n",
    "    \n",
    "- Do NOT support faceting by data variables \n",
    "- Return a Matplotlib `Axes`, hence the output can be used in combination with other Matplotlib `Axes` in the same `Figure`\n",
    "\n",
    "</div>"
   ]
  },
  {
   "cell_type": "markdown",
   "metadata": {},
   "source": [
    "## Exercises"
   ]
  },
  {
   "cell_type": "markdown",
   "metadata": {},
   "source": [
    "<div class=\"alert alert-success\">\n",
    "\n",
    "**EXERCISE 1**\n",
    "\n",
    "- Make a histogram of the age, split up in two subplots by the `Sex` of the passengers.\n",
    "- Put both subplots underneath each other. \n",
    "- Use the `height` and `aspect` arguments of the plot function to adjust the size of the figure.\n",
    "    \n",
    "<details><summary>Hints</summary>\n",
    "\n",
    "- When interested in a histogram, i.e. the distribution of data, use the `displot` module\n",
    "- A split into subplots is requested using a variable of the DataFrame (facetting), so use the `Figure`-level function instead of the `Axes` level functions.\n",
    "- Link a column name to the `row` argument for splitting into subplots row-wise.\n",
    "\n",
    "</details>"
   ]
  },
  {
   "cell_type": "code",
   "execution_count": null,
   "metadata": {
    "jupyter": {
     "outputs_hidden": false
    },
    "tags": [
     "nbtutor-solution"
    ]
   },
   "outputs": [],
   "source": [
    "# %load _solutions/visualization_02_seaborn1.py"
   ]
  },
  {
   "cell_type": "markdown",
   "metadata": {},
   "source": [
    "<div class=\"alert alert-success\">\n",
    "\n",
    "**EXERCISE 2**\n",
    "\n",
    "Make a violin plot showing the `Age` distribution in each of the `Pclass` categories comparing for `Sex`:\n",
    "    \n",
    "- Use the `Pclass` column to create a violin plot for each of the classes. To do so, link the `Pclass` column to the `x-axis`.\n",
    "- Use a different color for the `Sex`.\n",
    "- Check the behavior of the `split` argument and apply it to compare male/female.\n",
    "- Use the `sns.despine` function to remove the boundaries around the plot.    \n",
    "    \n",
    "<details><summary>Hints</summary>\n",
    "\n",
    "- Have a look at https://seaborn.pydata.org/examples/grouped_violinplots.html for inspiration.\n",
    "\n",
    "</details>"
   ]
  },
  {
   "cell_type": "code",
   "execution_count": null,
   "metadata": {
    "jupyter": {
     "outputs_hidden": false
    },
    "tags": [
     "nbtutor-solution"
    ]
   },
   "outputs": [],
   "source": [
    "# %load _solutions/visualization_02_seaborn2.py"
   ]
  },
  {
   "cell_type": "code",
   "execution_count": null,
   "metadata": {
    "jupyter": {
     "outputs_hidden": false
    },
    "tags": [
     "nbtutor-solution"
    ]
   },
   "outputs": [],
   "source": [
    "# %load _solutions/visualization_02_seaborn3.py"
   ]
  },
  {
   "cell_type": "markdown",
   "metadata": {},
   "source": [
    "### Summary statistics"
   ]
  },
  {
   "cell_type": "markdown",
   "metadata": {},
   "source": [
    "Aggregations such as `count`, `mean` are embedded in Seaborn (similar to other 'Grammar of Graphics' packages such as ggplot in R and plotnine/altair in Python). We can do these operations directly on the original `titanic` data set in a single coding step:"
   ]
  },
  {
   "cell_type": "code",
   "execution_count": null,
   "metadata": {
    "jupyter": {
     "outputs_hidden": false
    }
   },
   "outputs": [],
   "source": [
    "sns.catplot(data=titanic, x=\"Survived\", col=\"Pclass\", \n",
    "            kind=\"count\")"
   ]
  },
  {
   "cell_type": "markdown",
   "metadata": {},
   "source": [
    "To use another statistical function to apply on each of the groups, use the `estimator`:"
   ]
  },
  {
   "cell_type": "code",
   "execution_count": null,
   "metadata": {
    "tags": []
   },
   "outputs": [],
   "source": [
    "sns.catplot(data=titanic, x=\"Sex\", y=\"Age\", col=\"Pclass\", kind=\"bar\", \n",
    "            estimator=np.mean)"
   ]
  },
  {
   "cell_type": "markdown",
   "metadata": {},
   "source": [
    "## Some more Seaborn functionalities to remember"
   ]
  },
  {
   "cell_type": "markdown",
   "metadata": {},
   "source": [
    "Whereas the `relplot`, `catplot` and `displot` represent the main components of the Seaborn library, more useful functions are available. You can check the [gallery](https://seaborn.pydata.org/examples/index.html) yourself, but let's introduce a few rof them:"
   ]
  },
  {
   "cell_type": "markdown",
   "metadata": {},
   "source": [
    "__jointplot()__ and __pairplot()__\n",
    "\n",
    "`jointplot()` and `pairplot()` are Figure-level functions and create figures with specific subplots by default:"
   ]
  },
  {
   "cell_type": "code",
   "execution_count": null,
   "metadata": {
    "jupyter": {
     "outputs_hidden": false
    }
   },
   "outputs": [],
   "source": [
    "# joined distribution plot\n",
    "sns.jointplot(data=titanic, x=\"Fare\", y=\"Age\", \n",
    "              hue=\"Sex\", kind=\"scatter\") # kde"
   ]
  },
  {
   "cell_type": "code",
   "execution_count": null,
   "metadata": {
    "jupyter": {
     "outputs_hidden": false
    }
   },
   "outputs": [],
   "source": [
    "sns.pairplot(data=titanic[[\"Age\", \"Fare\", \"Sex\"]], hue=\"Sex\")  # Also called scattermatrix plot"
   ]
  },
  {
   "cell_type": "markdown",
   "metadata": {},
   "source": [
    "__heatmap()__"
   ]
  },
  {
   "cell_type": "markdown",
   "metadata": {},
   "source": [
    "Plot rectangular data as a color-encoded matrix."
   ]
  },
  {
   "cell_type": "code",
   "execution_count": null,
   "metadata": {
    "jupyter": {
     "outputs_hidden": false
    }
   },
   "outputs": [],
   "source": [
    "titanic_age_summary = titanic.pivot_table(columns=\"Pclass\", index=\"Sex\", \n",
    "                                          values=\"Age\", aggfunc=\"mean\")\n",
    "titanic_age_summary"
   ]
  },
  {
   "cell_type": "code",
   "execution_count": null,
   "metadata": {
    "jupyter": {
     "outputs_hidden": false
    }
   },
   "outputs": [],
   "source": [
    "sns.heatmap(data=titanic_age_summary, cmap=\"Reds\")"
   ]
  },
  {
   "cell_type": "markdown",
   "metadata": {},
   "source": [
    "__lmplot() regressions__"
   ]
  },
  {
   "cell_type": "markdown",
   "metadata": {},
   "source": [
    "`Figure` level function to generate a regression model fit across a FacetGrid:"
   ]
  },
  {
   "cell_type": "code",
   "execution_count": null,
   "metadata": {
    "jupyter": {
     "outputs_hidden": false
    }
   },
   "outputs": [],
   "source": [
    "g = sns.lmplot(\n",
    "    data=titanic, x=\"Age\", y=\"Fare\", \n",
    "    hue=\"Survived\", col=\"Survived\",  # hue=\"Pclass\"\n",
    ")"
   ]
  },
  {
   "cell_type": "markdown",
   "metadata": {},
   "source": [
    "# Exercises data set road casualties"
   ]
  },
  {
   "cell_type": "markdown",
   "metadata": {},
   "source": [
    "The [Belgian road casualties data set](https://statbel.fgov.be/en/themes/mobility/traffic/road-accidents) contains data about the number of victims involved in road accidents. \n",
    "\n",
    "The script `load_casualties.py` in the `data` folder contains the routine to download the individual years of data, clean up the data and concatenate the individual years. \n",
    "\n",
    "The `%run` is an ['IPython magic' ](https://ipython.readthedocs.io/en/stable/interactive/magics.html#magic-run) function to run a Python file as if you would run it from the command line. Run `%run ./data/load_casualties.py --help` to check the input arguments required to run the script. As data is available since 2005, we download 2005 till 2020.\n",
    "\n",
    "__Note__ As the scripts downloads the individual files, it can take a while to run the script the first time."
   ]
  },
  {
   "cell_type": "code",
   "execution_count": null,
   "metadata": {},
   "outputs": [],
   "source": [
    "# RUN THIS CELL TO PREPARE THE ROAD CASUALTIES DATA SET\n",
    "%run ./data/load_casualties.py 2005 2020"
   ]
  },
  {
   "cell_type": "markdown",
   "metadata": {},
   "source": [
    "When succesfull, the `casualties.csv` data is available in the `data` folder:"
   ]
  },
  {
   "cell_type": "code",
   "execution_count": null,
   "metadata": {},
   "outputs": [],
   "source": [
    "casualties = pd.read_csv(\"./data/casualties.csv\", parse_dates=[\"datetime\"])"
   ]
  },
  {
   "cell_type": "markdown",
   "metadata": {},
   "source": [
    "The data contains the following columns (in bold the main columns used in the exercises):\n",
    "\n",
    "- **datetime**: Date and time of the casualty.\n",
    "- **week_day**: Weekday of the datetime.\n",
    "- **n_victims**: Number of victims\n",
    "- n_victims_ok: Number of victims without injuries\n",
    "- n_slightly_injured: Number of slightly injured victims\n",
    "- n_seriously_injured: Number of severely injured victims\n",
    "- **n_dead_30days**: Number of victims that died within 30 days\n",
    "- **road_user_type**: Road user type (passenger car, motorbike, bicycle, pedestrian, ...)\n",
    "- victim_type: Type of victim (driver, passenger, ...)\n",
    "- **gender**\n",
    "- age\n",
    "- **road_type**: Regional road, Motorway or Municipal road\n",
    "- build_up_area: Outside  or inside built-up area\n",
    "- **light_conditions**: Day or night (with or without road lights), or dawn\n",
    "- refnis_municipality: Postal reference ID number of municipality\n",
    "- municipality: Municipality name\n",
    "- refnis_region: Postal reference ID number of region\n",
    "- region: Flemish Region, Walloon Region or Brussels-Capital Region\n",
    "\n",
    "Each row of the dataset does not represent a single accident, but a number of victims for a set of characteristics (for example, how many victims for accidents that happened between 8-9am at a certain day and at a certain road type in a certain municipality with the given age class and gender, ...). Thus, in practice, the victims of one accidents might be split over multiple rows (and one row might in theory also come from multiple accidents).  \n",
    "Therefore, to get meaningful numbers in the exercises, we will each time _sum_ the number of victims for a certain aggregation level (a subset of those characteristics)."
   ]
  },
  {
   "cell_type": "markdown",
   "metadata": {},
   "source": [
    "<div class=\"alert alert-success\">\n",
    "\n",
    "**EXERCISE 3**\n",
    "\n",
    "Create a barplot with the number of victims (\"n_victims\") for each hour of the day. Before plotting, calculate the total number of victims for each hour of the day with pandas and assign it to the variable `victims_hour_of_day`. Update the column names to respectively \"Hour of the day\" and \"Number of victims\".\n",
    "    \n",
    "Use the `height` and `aspect` to adjust the figure width/height.\n",
    "    \n",
    "<details><summary>Hints</summary>\n",
    "\n",
    "- The sum of victims _for each_ hour of the day requires `groupby`. One can create a new column with the hour of the day or pass the hour directly to `groupby`.\n",
    "- The `.dt` accessor provides access to all kinds of datetime information.\n",
    "- `rename` requires a dictionary with a mapping of the old vs new names.\n",
    "- A bar plot is in seaborn one of the `catplot` options. \n",
    "    \n",
    "</details>"
   ]
  },
  {
   "cell_type": "code",
   "execution_count": null,
   "metadata": {
    "tags": [
     "nbtutor-solution"
    ]
   },
   "outputs": [],
   "source": [
    "# %load _solutions/visualization_02_seaborn4.py"
   ]
  },
  {
   "cell_type": "code",
   "execution_count": null,
   "metadata": {
    "tags": [
     "nbtutor-solution"
    ]
   },
   "outputs": [],
   "source": [
    "# %load _solutions/visualization_02_seaborn5.py"
   ]
  },
  {
   "cell_type": "markdown",
   "metadata": {},
   "source": [
    "<div class=\"alert alert-success\">\n",
    "\n",
    "**EXERCISE 4**\n",
    "\n",
    "Create a barplot with the number of victims (\"n_victims\") for each hour of the day for each category in the gender column. Before plotting, calculate the total number of victims for each hour of the day and each gender with Pandas and assign it to the variable `victims_gender_hour_of_day`. \n",
    "\n",
    "Create a separate subplot for each gender category in a separate row.\n",
    "    \n",
    "Make sure to include the `NaN` values of the \"gender\" column as a separate subplot, called _\"unknown\"_ without changing the `casualties` DataFrame data.\n",
    "    \n",
    "<details><summary>Hints</summary>\n",
    "\n",
    "- The sum of victims _for each_ hour of the day requires `groupby`. Groupby accepts multiple inputs to group on multiple categories together. \n",
    "- `groupby` also accepts a parameter `dropna=False` and/or using `fillna` is a useful function to replace the values in the gender column with the value \"unknown\".\n",
    "- The `.dt` accessor provides access to all kinds of datetime information.\n",
    "- Link the \"gender\" column with the `row`  parameter to create a facet of rows.\n",
    "- Use the `height` and `aspect` to adjust the figure width/height.\n",
    "    \n",
    "</details>"
   ]
  },
  {
   "cell_type": "code",
   "execution_count": null,
   "metadata": {
    "tags": [
     "nbtutor-solution"
    ]
   },
   "outputs": [],
   "source": [
    "# %load _solutions/visualization_02_seaborn6.py"
   ]
  },
  {
   "cell_type": "code",
   "execution_count": null,
   "metadata": {
    "tags": [
     "nbtutor-solution"
    ]
   },
   "outputs": [],
   "source": [
    "# %load _solutions/visualization_02_seaborn7.py"
   ]
  },
  {
   "cell_type": "markdown",
   "metadata": {},
   "source": [
    "<div class=\"alert alert-success\">\n",
    "\n",
    "**EXERCISE 5**\n",
    "    \n",
    "Compare the number of victims for each day of the week for casualties that happened on a \"Motorway\" (`road_type` column) for trucks (\"Truck\" and \"Light truck\" in the `road_user_type` column).\n",
    "\n",
    "Use a bar plot to compare the victims for each day of the week with Seaborn directly (do not use the `groupby`).\n",
    "    \n",
    "__Note__ The `week_day` is converted to an __ordered__ categorical variable. This ensures the days are sorted correctly in Seaborn.\n",
    "    \n",
    "<details><summary>Hints</summary>\n",
    "\n",
    "- The first part of the exercise is filtering the data. Combine the statements with `&` and do not forget to provide the necessary brackets. The `.isin()`to create a boolean condition might be useful for the road user type selection. \n",
    "- Whereas using `groupby` to get to the counts is perfectly correct, using the `estimator` in Seaborn gives the same result.\n",
    "\n",
    "__Note__ The `estimator=np.sum` is less performant than using pandas `groupby`. After filtering the data set, the summation with Seaborn is a feasible option.\n",
    "\n",
    "</details>"
   ]
  },
  {
   "cell_type": "code",
   "execution_count": null,
   "metadata": {},
   "outputs": [],
   "source": [
    "# Convert weekday to Pandas categorical data type\n",
    "casualties[\"week_day\"] = pd.Categorical(\n",
    "    casualties[\"week_day\"],\n",
    "    categories=[\"Monday\", \"Tuesday\", \"Wednesday\",\n",
    "                \"Thursday\", \"Friday\", \"Saturday\", \"Sunday\"],\n",
    "    ordered=True\n",
    ")"
   ]
  },
  {
   "cell_type": "code",
   "execution_count": null,
   "metadata": {
    "tags": [
     "nbtutor-solution"
    ]
   },
   "outputs": [],
   "source": [
    "# %load _solutions/visualization_02_seaborn8.py"
   ]
  },
  {
   "cell_type": "code",
   "execution_count": null,
   "metadata": {
    "tags": [
     "nbtutor-solution"
    ]
   },
   "outputs": [],
   "source": [
    "# %load _solutions/visualization_02_seaborn9.py"
   ]
  },
  {
   "cell_type": "markdown",
   "metadata": {},
   "source": [
    "<div class=\"alert alert-success\">\n",
    "\n",
    "**EXERCISE 6**\n",
    "    \n",
    "Compare the relative number of deaths within 30 days (in relation to the total number of victims) in between the following \"road_user_type\"s: \"Bicycle\", \"Passenger car\", \"Pedestrian\", \"Motorbike\" for the year 2019 and 2020:\n",
    "    \n",
    "- Filter the data for the years 2019 and 2020.\n",
    "- Filter the data on the road user types \"Bicycle\", \"Passenger car\", \"Pedestrian\" and \"Motorbike\". Call the new variable `compare_dead_30`.\n",
    "- Count for each combination of year and road_user_type the total victims and the total deaths within 30 days victims.\n",
    "- Calculate the percentage deaths within 30 days (add a new column \"dead_prop\").\n",
    "- Use a horizontal bar chart to plot the results with the \"road_user_type\" on the y-axis and a separate color for each year.\n",
    "    \n",
    "<details><summary>Hints</summary>\n",
    "\n",
    "- By setting `datetime` as the index, slicing time series can be done using strings to filter data on the years 2019 and 2020. \n",
    "- Use `isin()` to filter \"road_user_type\" categories used in the exercise.\n",
    "- Count _for each_... Indeed, use `groupby` with 2 inputs, \"road_user_type\" and the year of `datetime`.\n",
    "- Deriving the year from the datetime: When having an index, use `compare_dead_30.index.year`, otherwise `compare_dead_30[\"datetime\"].dt.year`.\n",
    "- Dividing columns works element-wise in Pandas.\n",
    "- A horizontal bar chart in seaborn is a matter of defining `x` and `y` inputs correctly. \n",
    "\n",
    "</details>"
   ]
  },
  {
   "cell_type": "code",
   "execution_count": null,
   "metadata": {
    "tags": [
     "nbtutor-solution"
    ]
   },
   "outputs": [],
   "source": [
    "# %load _solutions/visualization_02_seaborn10.py"
   ]
  },
  {
   "cell_type": "code",
   "execution_count": null,
   "metadata": {
    "tags": [
     "nbtutor-solution"
    ]
   },
   "outputs": [],
   "source": [
    "# %load _solutions/visualization_02_seaborn11.py"
   ]
  },
  {
   "cell_type": "markdown",
   "metadata": {},
   "source": [
    "<div class=\"alert alert-success\">\n",
    "\n",
    "**EXERCISE 7**\n",
    "    \n",
    "Create a line plot of the __monthly__ number of victims for each of the categories of victims ('n_victims_ok', 'n_dead_30days', 'n_slightly_injured' and 'n_seriously_injured') as a function of time:\n",
    "    \n",
    "- Create a new variable `monthly_victim_counts` that contains the monthly sum of 'n_victims_ok', 'n_dead_30days', 'n_slightly_injured' and 'n_seriously_injured'.\n",
    "- Create a line plot of the `monthly_victim_counts` using Seaborn. Choose any [color palette](https://seaborn.pydata.org/tutorial/color_palettes.html).\n",
    "- Create an `area` plot (line plot with the individual categories stacked on each other) using Pandas.\n",
    "\n",
    "What happens with the data registration since 2012?\n",
    "    \n",
    "<details><summary>Hints</summary>\n",
    "\n",
    "- Monthly statistics from a time series requires `resample` (with - in this case - `sum`), which also takes the `on` parameter to specify the datetime column (instead of using the index of the DataFrame).\n",
    "- Apply the resampling on the `[\"n_victims_ok\", \"n_slightly_injured\", \"n_seriously_injured\", \"n_dead_30days\"]` columns only.\n",
    "- Seaborn line plots works without tidy data when NOT providing `x` and `y` argument. It also works using tidy data. To 'tidy' the data set, `.melt()` can be used, see [pandas_08_reshaping.ipynb](pandas_08_reshaping.ipynb).\n",
    "- Pandas plot method works on the non-tidy data set with `plot.area()` .\n",
    "\n",
    "__Note__ Seaborn does not have an area plot.\n",
    "\n",
    "</details>"
   ]
  },
  {
   "cell_type": "code",
   "execution_count": null,
   "metadata": {
    "tags": [
     "nbtutor-solution"
    ]
   },
   "outputs": [],
   "source": [
    "# %load _solutions/visualization_02_seaborn12.py"
   ]
  },
  {
   "cell_type": "code",
   "execution_count": null,
   "metadata": {
    "tags": [
     "nbtutor-solution"
    ]
   },
   "outputs": [],
   "source": [
    "# %load _solutions/visualization_02_seaborn13.py"
   ]
  },
  {
   "cell_type": "code",
   "execution_count": null,
   "metadata": {
    "tags": [
     "nbtutor-solution"
    ]
   },
   "outputs": [],
   "source": [
    "# %load _solutions/visualization_02_seaborn14.py"
   ]
  },
  {
   "cell_type": "code",
   "execution_count": null,
   "metadata": {
    "tags": [
     "nbtutor-solution"
    ]
   },
   "outputs": [],
   "source": [
    "# %load _solutions/visualization_02_seaborn15.py"
   ]
  },
  {
   "cell_type": "markdown",
   "metadata": {},
   "source": [
    "<div class=\"alert alert-success\">\n",
    "\n",
    "**EXERCISE 8**\n",
    "    \n",
    "Make a line plot of the daily victims (column \"n_victims\") in 2020. Can you explain the counts from March till May?   \n",
    "    \n",
    "<details><summary>Hints</summary>\n",
    "\n",
    "- To get the line plot of 2020 with daily counts, the data preparation steps are:\n",
    "  - Filter data on 2020. By defining `datetime` as the index, slicing time series can be done using strings.\n",
    "  - Resample to daily counts. Use `resample` with the sum on column \"n_victims\".\n",
    "  - Create a line plot. Do you prefer Pandas or Seaborn?\n",
    "\n",
    "</details>"
   ]
  },
  {
   "cell_type": "code",
   "execution_count": null,
   "metadata": {
    "tags": [
     "nbtutor-solution"
    ]
   },
   "outputs": [],
   "source": [
    "# %load _solutions/visualization_02_seaborn16.py"
   ]
  },
  {
   "cell_type": "code",
   "execution_count": null,
   "metadata": {
    "tags": [
     "nbtutor-solution"
    ]
   },
   "outputs": [],
   "source": [
    "# %load _solutions/visualization_02_seaborn17.py"
   ]
  },
  {
   "cell_type": "markdown",
   "metadata": {},
   "source": [
    "<div class=\"alert alert-success\">\n",
    "\n",
    "**EXERCISE 9**\n",
    "    \n",
    "Combine the following two plots in a single Matplotlib figure:\n",
    "    \n",
    "- (left) The empirical cumulative distribution of the _weekly_ proportion of victims that died (`n_dead_30days` / `n_victims`) with a separate color for each \"light_conditions\".\n",
    "- (right) The empirical cumulative distribution of the _weekly_ proportion of victims that died (`n_dead_30days` / `n_victims`) with a separate color for each \"road_type\".\n",
    "    \n",
    "Prepare the data for both plots separately with Pandas and use the variable `weekly_victim_dead_lc` and `weekly_victim_dead_rt`. \n",
    "    \n",
    "<details><summary>Hints</summary>\n",
    "\n",
    "- The plot can not be made by a single Seaborn Figure-level plot. Create a Matplotlib figure first and use the __axes__ based functions of Seaborn to plot the left and right Axes.\n",
    "- The data for both subplots need to be prepared separately, by `groupby` once on \"light_conditions\" and once on \"road_type\".\n",
    "- Weekly sums (`resample`) _for each_ (`groupby`) \"light_conditions\" or \"road_type\"?! yes! you need to combine both here.\n",
    "- [`sns.ecdfplot`](https://seaborn.pydata.org/generated/seaborn.ecdfplot.html#seaborn.ecdfplot) creates empirical cumulative distribution plots.    \n",
    "\n",
    "</details>"
   ]
  },
  {
   "cell_type": "code",
   "execution_count": null,
   "metadata": {
    "tags": [
     "nbtutor-solution"
    ]
   },
   "outputs": [],
   "source": [
    "# %load _solutions/visualization_02_seaborn18.py"
   ]
  },
  {
   "cell_type": "code",
   "execution_count": null,
   "metadata": {
    "tags": [
     "nbtutor-solution"
    ]
   },
   "outputs": [],
   "source": [
    "# %load _solutions/visualization_02_seaborn19.py"
   ]
  },
  {
   "cell_type": "markdown",
   "metadata": {},
   "source": [
    "<div class=\"alert alert-success\">\n",
    "\n",
    "**EXERCISE 10**\n",
    "    \n",
    "You wonder if there is a relation between the number of victims per day and the minimal daily temperature. A data set with minimal daily temperatures for the year 2020 is available in the `./data` subfolder: `daily_min_temperature_2020.csv`.\n",
    "    \n",
    "- Read the file `daily_min_temperature_2020.csv` and assign output to the variable `daily_min_temp_2020`.\n",
    "- Combine the daily (minimal) temperatures with the `daily_total_counts_2020` variable\n",
    "- Create a regression plot with Seaborn.\n",
    "    \n",
    "Does it make sense to present the data as a regression plot?\n",
    "    \n",
    "<details><summary>Hints</summary>\n",
    "\n",
    "- `pd.read_csv` has a `parse_dates` parameter to load the `datetime` column as a Timestamp data type.\n",
    "- `pd.merge` need a (common) key to link the data.\n",
    "- `sns.lmplot` or `sns.jointplot` are both seaborn functions to create scatter plots with a regression. Joint plot adds the marginal distributions.\n",
    "\n",
    "</details>"
   ]
  },
  {
   "cell_type": "code",
   "execution_count": null,
   "metadata": {},
   "outputs": [],
   "source": [
    "# available (see previous exercises)\n",
    "daily_total_counts_2020 = casualties.set_index(\"datetime\")[\"2020\": \"2021\"].resample(\"D\")[\"n_victims\"].sum()"
   ]
  },
  {
   "cell_type": "code",
   "execution_count": null,
   "metadata": {
    "tags": [
     "nbtutor-solution"
    ]
   },
   "outputs": [],
   "source": [
    "# %load _solutions/visualization_02_seaborn20.py"
   ]
  },
  {
   "cell_type": "code",
   "execution_count": null,
   "metadata": {
    "tags": [
     "nbtutor-solution"
    ]
   },
   "outputs": [],
   "source": [
    "# %load _solutions/visualization_02_seaborn21.py"
   ]
  },
  {
   "cell_type": "code",
   "execution_count": null,
   "metadata": {
    "tags": [
     "nbtutor-solution"
    ]
   },
   "outputs": [],
   "source": [
    "# %load _solutions/visualization_02_seaborn22.py"
   ]
  },
  {
   "cell_type": "markdown",
   "metadata": {},
   "source": [
    "# Need more Seaborn inspiration?"
   ]
  },
  {
   "cell_type": "markdown",
   "metadata": {},
   "source": [
    "<div class=\"alert alert-info\" style=\"font-size:18px\">\n",
    "\n",
    "__Remember__\n",
    "\n",
    "[Seaborn gallery](https://seaborn.pydata.org/examples/index.html) and package [documentation](https://seaborn.pydata.org/index.html)\n",
    "\n",
    "</div>"
   ]
  },
  {
   "cell_type": "markdown",
   "metadata": {},
   "source": [
    "<a id='this_is_tidy'></a>"
   ]
  },
  {
   "cell_type": "markdown",
   "metadata": {},
   "source": [
    "# Recap: what is `tidy`?"
   ]
  },
  {
   "cell_type": "markdown",
   "metadata": {},
   "source": [
    "If you're wondering what *tidy* data representations are, you can read the scientific paper by Hadley Wickham, http://vita.had.co.nz/papers/tidy-data.pdf. \n",
    "\n",
    "Here, we just introduce the main principle very briefly:"
   ]
  },
  {
   "cell_type": "markdown",
   "metadata": {},
   "source": [
    "Compare:\n",
    "\n",
    "#### un-tidy\n",
    "        \n",
    "| WWTP | Treatment A | Treatment B |\n",
    "|:------|-------------|-------------|\n",
    "| Destelbergen | 8.  | 6.3 |\n",
    "| Landegem | 7.5  | 5.2 |\n",
    "| Dendermonde | 8.3  | 6.2 |\n",
    "| Eeklo | 6.5  | 7.2 |\n",
    "\n",
    "*versus*\n",
    "\n",
    "#### tidy\n",
    "\n",
    "| WWTP | Treatment | pH |\n",
    "|:------|:-------------:|:-------------:|\n",
    "| Destelbergen | A  | 8. |\n",
    "| Landegem | A  | 7.5 |\n",
    "| Dendermonde | A  | 8.3 |\n",
    "| Eeklo | A  | 6.5 |\n",
    "| Destelbergen | B  | 6.3 |\n",
    "| Landegem | B  | 5.2 |\n",
    "| Dendermonde | B  | 6.2 |\n",
    "| Eeklo | B  | 7.2 |"
   ]
  },
  {
   "cell_type": "markdown",
   "metadata": {},
   "source": [
    "This is sometimes also referred as *short* versus *long* format for a specific variable... Seaborn (and other grammar of graphics libraries) work better on `tidy` (long format) data, as it better supports `groupby`-like transactions!"
   ]
  },
  {
   "cell_type": "markdown",
   "metadata": {},
   "source": [
    "<div class=\"alert alert-info\" style=\"font-size:16px\">\n",
    "\n",
    "**Remember:**\n",
    "\n",
    "A tidy data set is setup as follows:\n",
    " \n",
    "- Each <code>variable</code> forms a <b>column</b> and contains <code>values</code>\n",
    "- Each <code>observation</code> forms a <b>row</b>\n",
    "- Each type of <code>observational unit</code> forms a <b>table</b>.\n",
    "\n",
    "</div>"
   ]
  }
 ],
 "metadata": {
  "celltoolbar": "Nbtutor - export exercises",
  "jupytext": {
   "formats": "ipynb,md:myst"
  },
  "kernelspec": {
   "display_name": "Python 3 (ipykernel)",
   "language": "python",
   "name": "python3"
  },
  "language_info": {
   "codemirror_mode": {
    "name": "ipython",
    "version": 3
   },
   "file_extension": ".py",
   "mimetype": "text/x-python",
   "name": "python",
   "nbconvert_exporter": "python",
   "pygments_lexer": "ipython3",
   "version": "3.11.7"
  },
  "nav_menu": {},
  "toc": {
   "navigate_menu": true,
   "number_sections": true,
   "sideBar": true,
   "threshold": 6,
   "toc_cell": false,
   "toc_section_display": "block",
   "toc_window_display": true
  },
  "toc_position": {
   "height": "860px",
   "left": "0px",
   "right": "1657px",
   "top": "106px",
   "width": "212px"
  },
  "widgets": {
   "application/vnd.jupyter.widget-state+json": {
    "state": {},
    "version_major": 2,
    "version_minor": 0
   }
  }
 },
 "nbformat": 4,
 "nbformat_minor": 4
}
