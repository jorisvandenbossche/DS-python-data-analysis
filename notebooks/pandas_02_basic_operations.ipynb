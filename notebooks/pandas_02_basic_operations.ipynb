{
 "cells": [
  {
   "cell_type": "markdown",
   "id": "9ecfb962",
   "metadata": {},
   "source": [
    "<p><font size=\"6\"><b> 02 - Pandas: Basic operations on Series and DataFrames</b></font></p>\n",
    "\n",
    "\n",
    "> *© 2021, Joris Van den Bossche and Stijn Van Hoey  (<mailto:jorisvandenbossche@gmail.com>, <mailto:stijnvanhoey@gmail.com>). Licensed under [CC BY 4.0 Creative Commons](http://creativecommons.org/licenses/by/4.0/)*\n",
    "\n",
    "---"
   ]
  },
  {
   "cell_type": "code",
   "execution_count": null,
   "id": "f953ba9f",
   "metadata": {},
   "outputs": [],
   "source": [
    "import pandas as pd\n",
    "\n",
    "import numpy as np\n",
    "import matplotlib.pyplot as plt"
   ]
  },
  {
   "cell_type": "code",
   "execution_count": null,
   "id": "96e13348",
   "metadata": {},
   "outputs": [],
   "source": [
    "# redefining the example DataFrame\n",
    "\n",
    "countries = pd.DataFrame({'country': ['Belgium', 'France', 'Germany', 'Netherlands', 'United Kingdom'],\n",
    "        'population': [11.3, 64.3, 81.3, 16.9, 64.9],\n",
    "        'area': [30510, 671308, 357050, 41526, 244820],\n",
    "        'capital': ['Brussels', 'Paris', 'Berlin', 'Amsterdam', 'London']})"
   ]
  },
  {
   "cell_type": "code",
   "execution_count": null,
   "id": "a3ef73b2",
   "metadata": {},
   "outputs": [],
   "source": [
    "countries.head()"
   ]
  },
  {
   "cell_type": "markdown",
   "id": "e0b2d3d7",
   "metadata": {},
   "source": [
    "# Elementwise-operations"
   ]
  },
  {
   "cell_type": "markdown",
   "id": "a2d1e322",
   "metadata": {},
   "source": [
    "The typical arithmetic (+, -, \\*, /) and comparison (==, >, <, ...) operations work *element-wise*.\n",
    "\n",
    "With as scalar:"
   ]
  },
  {
   "cell_type": "code",
   "execution_count": null,
   "id": "29dbad6f",
   "metadata": {},
   "outputs": [],
   "source": [
    "population = countries['population']\n",
    "population"
   ]
  },
  {
   "cell_type": "code",
   "execution_count": null,
   "id": "adb7d259",
   "metadata": {},
   "outputs": [],
   "source": [
    "population * 1000"
   ]
  },
  {
   "cell_type": "code",
   "execution_count": null,
   "id": "c9b4a5c0",
   "metadata": {},
   "outputs": [],
   "source": [
    "population > 50"
   ]
  },
  {
   "cell_type": "markdown",
   "id": "5948e8ac",
   "metadata": {},
   "source": [
    "With two Series objects:"
   ]
  },
  {
   "cell_type": "code",
   "execution_count": null,
   "id": "81f42121",
   "metadata": {},
   "outputs": [],
   "source": [
    "countries['population'] / countries['area']"
   ]
  },
  {
   "cell_type": "markdown",
   "id": "d0bc09df",
   "metadata": {},
   "source": [
    "## Adding new columns\n",
    "\n",
    "We can add a new column to a DataFrame with similar syntax as selecting a columns: create a new column by assigning the output to the DataFrame with a new column name in between the `[]`.\n",
    "\n",
    "For example, to add the population density calculated above, we can do:"
   ]
  },
  {
   "cell_type": "code",
   "execution_count": null,
   "id": "f855dc5f",
   "metadata": {},
   "outputs": [],
   "source": [
    "countries['population_density'] = countries['population'] / countries['area'] * 1e6"
   ]
  },
  {
   "cell_type": "code",
   "execution_count": null,
   "id": "dc023a7c",
   "metadata": {},
   "outputs": [],
   "source": [
    "countries"
   ]
  },
  {
   "cell_type": "markdown",
   "id": "104edcdc",
   "metadata": {},
   "source": [
    "# Aggregations (reductions)"
   ]
  },
  {
   "cell_type": "markdown",
   "id": "98fb6abc",
   "metadata": {},
   "source": [
    "Pandas provides a large set of **summary** functions that operate on different kinds of pandas objects (DataFrames, Series, Index) and produce single value. When applied to a DataFrame, the result is returned as a pandas Series (one value for each column)."
   ]
  },
  {
   "cell_type": "markdown",
   "id": "50b6e8b6",
   "metadata": {},
   "source": [
    "The average population number:"
   ]
  },
  {
   "cell_type": "code",
   "execution_count": null,
   "id": "99599cbf",
   "metadata": {},
   "outputs": [],
   "source": [
    "population.mean()"
   ]
  },
  {
   "cell_type": "markdown",
   "id": "0bc69eef",
   "metadata": {},
   "source": [
    "The minimum area:"
   ]
  },
  {
   "cell_type": "code",
   "execution_count": null,
   "id": "c282065b",
   "metadata": {},
   "outputs": [],
   "source": [
    "countries['area'].min()"
   ]
  },
  {
   "cell_type": "markdown",
   "id": "3686e539",
   "metadata": {},
   "source": [
    "For dataframes, often only the numeric columns are included in the result:"
   ]
  },
  {
   "cell_type": "code",
   "execution_count": null,
   "id": "f25e8ce8",
   "metadata": {},
   "outputs": [],
   "source": [
    "countries.median()"
   ]
  },
  {
   "cell_type": "markdown",
   "id": "26689b13",
   "metadata": {},
   "source": [
    "# Application on a real dataset"
   ]
  },
  {
   "cell_type": "markdown",
   "id": "c391aaca",
   "metadata": {},
   "source": [
    "Reading in the titanic data set..."
   ]
  },
  {
   "cell_type": "code",
   "execution_count": null,
   "id": "180ffc1e",
   "metadata": {},
   "outputs": [],
   "source": [
    "df = pd.read_csv(\"data/titanic.csv\")"
   ]
  },
  {
   "cell_type": "markdown",
   "id": "5d793d1d",
   "metadata": {},
   "source": [
    "Quick exploration first..."
   ]
  },
  {
   "cell_type": "code",
   "execution_count": null,
   "id": "7a0c8dcc",
   "metadata": {},
   "outputs": [],
   "source": [
    "df.head()"
   ]
  },
  {
   "cell_type": "code",
   "execution_count": null,
   "id": "d1aaf813",
   "metadata": {},
   "outputs": [],
   "source": [
    "len(df)"
   ]
  },
  {
   "cell_type": "markdown",
   "id": "5053fcf0",
   "metadata": {},
   "source": [
    "The available metadata of the titanic data set provides the following information:\n",
    "\n",
    "VARIABLE   |  DESCRIPTION\n",
    "------ | --------\n",
    "Survived       | Survival (0 = No; 1 = Yes)\n",
    "Pclass         | Passenger Class (1 = 1st; 2 = 2nd; 3 = 3rd)\n",
    "Name           | Name\n",
    "Sex            | Sex\n",
    "Age            | Age\n",
    "SibSp          | Number of Siblings/Spouses Aboard\n",
    "Parch          | Number of Parents/Children Aboard\n",
    "Ticket         | Ticket Number\n",
    "Fare           | Passenger Fare\n",
    "Cabin          | Cabin\n",
    "Embarked       | Port of Embarkation (C = Cherbourg; Q = Queenstown; S = Southampton)"
   ]
  },
  {
   "cell_type": "markdown",
   "id": "24d2d1b5",
   "metadata": {},
   "source": [
    "<div class=\"alert alert-success\">\n",
    "\n",
    "**EXERCISE 1**\n",
    "\n",
    "What is the average age of the passengers?\n",
    "\n",
    "</div>"
   ]
  },
  {
   "cell_type": "code",
   "execution_count": null,
   "id": "a49adcdf",
   "metadata": {
    "tags": [
     "nbtutor-solution"
    ]
   },
   "outputs": [],
   "source": [
    "# %load _solutions/pandas_02_basic_operations1.py"
   ]
  },
  {
   "cell_type": "markdown",
   "id": "72940924",
   "metadata": {},
   "source": [
    "<div class=\"alert alert-success\">\n",
    "\n",
    "**EXERCISE 2**\n",
    "\n",
    "Plot the age distribution of the titanic passengers\n",
    "\n",
    "</div>"
   ]
  },
  {
   "cell_type": "code",
   "execution_count": null,
   "id": "5127f39d",
   "metadata": {
    "tags": [
     "nbtutor-solution"
    ]
   },
   "outputs": [],
   "source": [
    "# %load _solutions/pandas_02_basic_operations2.py"
   ]
  },
  {
   "cell_type": "markdown",
   "id": "dbd3e82d",
   "metadata": {},
   "source": [
    "<div class=\"alert alert-success\">\n",
    "\n",
    "**EXERCISE 3**\n",
    "\n",
    "What is the survival rate? (the relative number of people that survived)\n",
    "\n",
    "<details><summary>Hints</summary>\n",
    "\n",
    "- the 'Survived' column indicates whether someone survived (1) or not (0).\n",
    "\n",
    "</details>\n",
    "    \n",
    "</div>"
   ]
  },
  {
   "cell_type": "code",
   "execution_count": null,
   "id": "2a64e341",
   "metadata": {
    "tags": [
     "nbtutor-solution"
    ]
   },
   "outputs": [],
   "source": [
    "# %load _solutions/pandas_02_basic_operations3.py"
   ]
  },
  {
   "cell_type": "code",
   "execution_count": null,
   "id": "2875859b",
   "metadata": {
    "tags": [
     "nbtutor-solution"
    ]
   },
   "outputs": [],
   "source": [
    "# %load _solutions/pandas_02_basic_operations4.py"
   ]
  },
  {
   "cell_type": "markdown",
   "id": "d57409e2",
   "metadata": {},
   "source": [
    "<div class=\"alert alert-success\">\n",
    "\n",
    "**EXERCISE 4**\n",
    "\n",
    "What is the maximum Fare? And the median?\n",
    "\n",
    "</div>"
   ]
  },
  {
   "cell_type": "code",
   "execution_count": null,
   "id": "458f4a30",
   "metadata": {
    "tags": [
     "nbtutor-solution"
    ]
   },
   "outputs": [],
   "source": [
    "# %load _solutions/pandas_02_basic_operations5.py"
   ]
  },
  {
   "cell_type": "code",
   "execution_count": null,
   "id": "636facca",
   "metadata": {
    "tags": [
     "nbtutor-solution"
    ]
   },
   "outputs": [],
   "source": [
    "# %load _solutions/pandas_02_basic_operations6.py"
   ]
  },
  {
   "cell_type": "markdown",
   "id": "cce6e8c1",
   "metadata": {},
   "source": [
    "<div class=\"alert alert-success\">\n",
    "\n",
    "**EXERCISE 5**\n",
    "    \n",
    "Calculate the 75th percentile (`quantile`) of the Fare price \n",
    "    \n",
    "<details><summary>Hints</summary>\n",
    "\n",
    "- look in the 'docstring' how to specify the percentile, either range [0, 1] or [0, 100]\n",
    "\n",
    "</details>    \n",
    "\n",
    "</div>"
   ]
  },
  {
   "cell_type": "code",
   "execution_count": null,
   "id": "bc9dfb6b",
   "metadata": {
    "tags": [
     "nbtutor-solution"
    ]
   },
   "outputs": [],
   "source": [
    "# %load _solutions/pandas_02_basic_operations7.py"
   ]
  },
  {
   "cell_type": "markdown",
   "id": "8c2563dc",
   "metadata": {},
   "source": [
    "<div class=\"alert alert-success\">\n",
    "\n",
    "**EXERCISE 6**\n",
    "\n",
    "Calculate the normalized Fares (normalized relative to its mean), and add this as a new column ('Fare_normalized') to the DataFrame.\n",
    "\n",
    "</div>"
   ]
  },
  {
   "cell_type": "code",
   "execution_count": null,
   "id": "4a532ab5",
   "metadata": {
    "tags": [
     "nbtutor-solution"
    ]
   },
   "outputs": [],
   "source": [
    "# %load _solutions/pandas_02_basic_operations8.py"
   ]
  },
  {
   "cell_type": "code",
   "execution_count": null,
   "id": "4173bb04",
   "metadata": {
    "tags": [
     "nbtutor-solution"
    ]
   },
   "outputs": [],
   "source": [
    "# %load _solutions/pandas_02_basic_operations9.py"
   ]
  },
  {
   "cell_type": "markdown",
   "id": "bf25e438",
   "metadata": {},
   "source": [
    "<div class=\"alert alert-success\">\n",
    "\n",
    "**EXERCISE 7**\n",
    "\n",
    "* Calculate the log of the Fares. \n",
    "    \n",
    "<details><summary>Hints</summary>\n",
    "\n",
    "- check the `np.log` function.\n",
    "\n",
    "</details>  \n",
    "\n",
    "</div>"
   ]
  },
  {
   "cell_type": "code",
   "execution_count": null,
   "id": "2cf6819c",
   "metadata": {
    "tags": [
     "nbtutor-solution"
    ]
   },
   "outputs": [],
   "source": [
    "# %load _solutions/pandas_02_basic_operations10.py"
   ]
  },
  {
   "cell_type": "markdown",
   "id": "f78438e1",
   "metadata": {},
   "source": [
    "# Numpy -  multidimensional data arrays"
   ]
  },
  {
   "cell_type": "markdown",
   "id": "f7b483f9",
   "metadata": {},
   "source": [
    "NumPy is the fundamental package for scientific computing with Python. It contains among other things:\n",
    "\n",
    "* a powerful N-dimensional array/vector/matrix object\n",
    "* sophisticated (broadcasting) functions\n",
    "* function implementation in C/Fortran assuring good performance if vectorized\n",
    "* tools for integrating C/C++ and Fortran code\n",
    "* useful linear algebra, Fourier transform, and random number capabilities\n",
    "\n",
    "Also known as *array oriented computing*. The recommended convention to import numpy is:"
   ]
  },
  {
   "cell_type": "code",
   "execution_count": null,
   "id": "ac3e3f63",
   "metadata": {},
   "outputs": [],
   "source": [
    "import numpy as np"
   ]
  },
  {
   "cell_type": "markdown",
   "id": "8104a884",
   "metadata": {},
   "source": [
    "## Speed"
   ]
  },
  {
   "cell_type": "markdown",
   "id": "065a5239",
   "metadata": {},
   "source": [
    "Memory-efficient container that provides fast numerical operations:"
   ]
  },
  {
   "cell_type": "code",
   "execution_count": null,
   "id": "6bd9b99b",
   "metadata": {},
   "outputs": [],
   "source": [
    "L = range(1000)\n",
    "%timeit [i**2 for i in L]"
   ]
  },
  {
   "cell_type": "code",
   "execution_count": null,
   "id": "8fd1294c",
   "metadata": {},
   "outputs": [],
   "source": [
    "a = np.arange(1000)\n",
    "%timeit a**2"
   ]
  },
  {
   "cell_type": "markdown",
   "id": "f7d4ba6b",
   "metadata": {},
   "source": [
    "## It's used by Pandas under the hood"
   ]
  },
  {
   "cell_type": "markdown",
   "id": "0305d9a7",
   "metadata": {},
   "source": [
    "The columns of a DataFrame are internally stored using numpy arrays. We can also retrieve this data as numpy arrays, for example using the `to_numpy()` method:"
   ]
  },
  {
   "cell_type": "code",
   "execution_count": null,
   "id": "ee15e649",
   "metadata": {},
   "outputs": [],
   "source": [
    "arr = countries[\"population\"].to_numpy()\n",
    "arr"
   ]
  },
  {
   "cell_type": "markdown",
   "id": "fd19711d",
   "metadata": {},
   "source": [
    "What we said above about element-wise operations and reductions works the same for numpy arrays:"
   ]
  },
  {
   "cell_type": "code",
   "execution_count": null,
   "id": "918a79f1",
   "metadata": {},
   "outputs": [],
   "source": [
    "arr + 10"
   ]
  },
  {
   "cell_type": "code",
   "execution_count": null,
   "id": "f9e978c7",
   "metadata": {},
   "outputs": [],
   "source": [
    "arr.mean()"
   ]
  },
  {
   "cell_type": "markdown",
   "id": "c27582e6",
   "metadata": {},
   "source": [
    "Numpy contains more numerical functions than pandas, for example to calculate the log:"
   ]
  },
  {
   "cell_type": "code",
   "execution_count": null,
   "id": "34e5d374",
   "metadata": {},
   "outputs": [],
   "source": [
    "np.log(arr)"
   ]
  },
  {
   "cell_type": "markdown",
   "id": "2f45c9dd",
   "metadata": {},
   "source": [
    "Those functions can *also* be applied on pandas objects:"
   ]
  },
  {
   "cell_type": "code",
   "execution_count": null,
   "id": "465572ce",
   "metadata": {},
   "outputs": [],
   "source": [
    "np.log(countries[\"population\"])"
   ]
  },
  {
   "cell_type": "markdown",
   "id": "f1b53429",
   "metadata": {},
   "source": [
    "<div class=\"alert alert-info\">\n",
    "\n",
    "__NumPy__ provides\n",
    "\n",
    "* multi-dimensional, homogeneously typed arrays  (single data type!)\n",
    "\n",
    "<br>\n",
    "\n",
    "__Pandas__ provides\n",
    "\n",
    "* 2D, heterogeneous data structure (multiple data types!)\n",
    "* labeled (named) row and column index\n",
    "\n",
    "</div>"
   ]
  },
  {
   "cell_type": "markdown",
   "id": "31047bd1",
   "metadata": {},
   "source": [
    "# Acknowledgement\n",
    "\n",
    "\n",
    "> This notebook is partly based on material of Jake Vanderplas (https://github.com/jakevdp/OsloWorkshop2014).\n",
    "\n",
    "---"
   ]
  }
 ],
 "metadata": {
  "jupytext": {
   "formats": "ipynb,md:myst"
  },
  "kernelspec": {
   "display_name": "Python 3 (ipykernel)",
   "language": "python",
   "name": "python3"
  },
  "language_info": {
   "codemirror_mode": {
    "name": "ipython",
    "version": 3
   },
   "file_extension": ".py",
   "mimetype": "text/x-python",
   "name": "python",
   "nbconvert_exporter": "python",
   "pygments_lexer": "ipython3",
   "version": "3.9.7"
  },
  "widgets": {
   "application/vnd.jupyter.widget-state+json": {
    "state": {},
    "version_major": 2,
    "version_minor": 0
   }
  }
 },
 "nbformat": 4,
 "nbformat_minor": 5
}
