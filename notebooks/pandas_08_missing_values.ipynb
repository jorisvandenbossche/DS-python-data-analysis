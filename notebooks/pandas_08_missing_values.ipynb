{
 "cells": [
  {
   "cell_type": "markdown",
   "id": "8bd0774d",
   "metadata": {},
   "source": [
    "<p><font size=\"6\"><b>08 - Pandas: Working with missing data </b></font></p>\n",
    "\n",
    "\n",
    "> *© 2021, Joris Van den Bossche and Stijn Van Hoey  (<mailto:jorisvandenbossche@gmail.com>, <mailto:stijnvanhoey@gmail.com>). Licensed under [CC BY 4.0 Creative Commons](http://creativecommons.org/licenses/by/4.0/)*\n",
    "\n",
    "---"
   ]
  },
  {
   "cell_type": "code",
   "execution_count": null,
   "id": "fad2705f",
   "metadata": {},
   "outputs": [],
   "source": [
    "import numpy as np\n",
    "import pandas as pd"
   ]
  },
  {
   "cell_type": "code",
   "execution_count": null,
   "id": "6cf9e666",
   "metadata": {},
   "outputs": [],
   "source": [
    "df = pd.DataFrame({'A': [1, 2, np.nan],\n",
    "                   'B': [4, np.nan, np.nan],\n",
    "                   'C': [7, 8, 9]})\n",
    "df"
   ]
  },
  {
   "cell_type": "markdown",
   "id": "9204ffad",
   "metadata": {},
   "source": [
    "## Missing values in Pandas"
   ]
  },
  {
   "cell_type": "markdown",
   "id": "20ebca57",
   "metadata": {},
   "source": [
    "For numerical data, the \"NaN\" (Not-A-Number) floating point value is used as missing value indicator:"
   ]
  },
  {
   "cell_type": "code",
   "execution_count": null,
   "id": "17a6454f",
   "metadata": {},
   "outputs": [],
   "source": [
    "df.loc[2, 'A']"
   ]
  },
  {
   "cell_type": "code",
   "execution_count": null,
   "id": "35dc8450",
   "metadata": {},
   "outputs": [],
   "source": [
    "np.nan"
   ]
  },
  {
   "cell_type": "markdown",
   "id": "b116e307",
   "metadata": {},
   "source": [
    "<div class=\"alert alert-warning\">\n",
    "\n",
    "**NOTE**: because NaN is a float value, it is currently not possible to have integer columns with missing values. Notice how the columns in the example above were casted to float dtype.\n",
    "\n",
    "</div>"
   ]
  },
  {
   "cell_type": "markdown",
   "id": "89150b7e",
   "metadata": {},
   "source": [
    "### Missing values are skipped by default in *reductions*"
   ]
  },
  {
   "cell_type": "code",
   "execution_count": null,
   "id": "1e2b48d5",
   "metadata": {},
   "outputs": [],
   "source": [
    "df['A'].mean()"
   ]
  },
  {
   "cell_type": "code",
   "execution_count": null,
   "id": "96daf776",
   "metadata": {},
   "outputs": [],
   "source": [
    "df['A'].mean(skipna=False)"
   ]
  },
  {
   "cell_type": "markdown",
   "id": "604e4841",
   "metadata": {},
   "source": [
    "### ... but propagated in *element-wise arithmetic*"
   ]
  },
  {
   "cell_type": "code",
   "execution_count": null,
   "id": "92901db0",
   "metadata": {},
   "outputs": [],
   "source": [
    "df['A'] + 3"
   ]
  },
  {
   "cell_type": "markdown",
   "id": "cf8a72a6",
   "metadata": {},
   "source": [
    "## Checking missing values"
   ]
  },
  {
   "cell_type": "markdown",
   "id": "5b50553a",
   "metadata": {},
   "source": [
    "Checking for a missing value cannot be done with an equality operation (`==`) because NaN is not equal to iself:"
   ]
  },
  {
   "cell_type": "code",
   "execution_count": null,
   "id": "61a4ebe9",
   "metadata": {},
   "outputs": [],
   "source": [
    "df['A'] == np.nan"
   ]
  },
  {
   "cell_type": "code",
   "execution_count": null,
   "id": "1acc9e71",
   "metadata": {},
   "outputs": [],
   "source": [
    "np.nan == np.nan"
   ]
  },
  {
   "cell_type": "markdown",
   "id": "b4439546",
   "metadata": {},
   "source": [
    "Therefore, dedicated methods are available: `isna()` and `notna()`"
   ]
  },
  {
   "cell_type": "code",
   "execution_count": null,
   "id": "3c7d6670",
   "metadata": {},
   "outputs": [],
   "source": [
    "df['A'].isna()"
   ]
  },
  {
   "cell_type": "code",
   "execution_count": null,
   "id": "4b95b7c2",
   "metadata": {},
   "outputs": [],
   "source": [
    "df['A'].notna()"
   ]
  },
  {
   "cell_type": "code",
   "execution_count": null,
   "id": "683cccc8",
   "metadata": {},
   "outputs": [],
   "source": [
    "df['A'].isna().sum()"
   ]
  },
  {
   "cell_type": "code",
   "execution_count": null,
   "id": "c023dd7d",
   "metadata": {},
   "outputs": [],
   "source": [
    "df.isna().sum()"
   ]
  },
  {
   "cell_type": "code",
   "execution_count": null,
   "id": "82b582da",
   "metadata": {},
   "outputs": [],
   "source": [
    "df"
   ]
  },
  {
   "cell_type": "markdown",
   "id": "a8488b86",
   "metadata": {},
   "source": [
    "## Dropping missing values"
   ]
  },
  {
   "cell_type": "markdown",
   "id": "e1440709",
   "metadata": {},
   "source": [
    "Dropping missing values can be done with `isna()`/`notna()` and boolean indexing (eg `df[df['A'].notna()]`), but pandas also provides some convenient helper functions for this:"
   ]
  },
  {
   "cell_type": "code",
   "execution_count": null,
   "id": "788d650e",
   "metadata": {},
   "outputs": [],
   "source": [
    "df.dropna()"
   ]
  },
  {
   "cell_type": "markdown",
   "id": "c694bb08",
   "metadata": {},
   "source": [
    "By default it drop rows if there is a NaN in any of the columns. To limit this to we subset of the columns, use the `subset` keyword:"
   ]
  },
  {
   "cell_type": "code",
   "execution_count": null,
   "id": "5bb3578c",
   "metadata": {},
   "outputs": [],
   "source": [
    "df.dropna(subset=['A', 'C'])"
   ]
  },
  {
   "cell_type": "markdown",
   "id": "00036b6f",
   "metadata": {},
   "source": [
    "## Filling missing values"
   ]
  },
  {
   "cell_type": "markdown",
   "id": "0e64082f",
   "metadata": {},
   "source": [
    "Filling missing values with a scalar:"
   ]
  },
  {
   "cell_type": "code",
   "execution_count": null,
   "id": "94f40e9a",
   "metadata": {},
   "outputs": [],
   "source": [
    "df.fillna(0)"
   ]
  },
  {
   "cell_type": "markdown",
   "id": "0a73ff4c",
   "metadata": {},
   "source": [
    "Further, more advanced filling techniques are available in the ``interpolate()`` method."
   ]
  },
  {
   "cell_type": "markdown",
   "id": "7b57edf1",
   "metadata": {},
   "source": [
    "<div class=\"alert alert-info\" style=\"font-size:120%\">\n",
    "\n",
    "**REMEMBER**: <br>\n",
    "\n",
    "* missing value indicator: `np.nan` (`NaN`)\n",
    "* Reductions: skipped by default\n",
    "* Mathematical operations (eg `+`): propagate by default\n",
    "* Specific functions:\n",
    "    * `isna()`, `notna()`\n",
    "    * `dropna()`\n",
    "    * `fillna()`, `interpolate()`\n",
    "\n",
    "</div>"
   ]
  },
  {
   "cell_type": "code",
   "execution_count": null,
   "id": "e1f5bf9a",
   "metadata": {},
   "outputs": [],
   "source": []
  }
 ],
 "metadata": {
  "jupytext": {
   "formats": "ipynb,md:myst"
  },
  "kernelspec": {
   "display_name": "Python 3 (ipykernel)",
   "language": "python",
   "name": "python3"
  },
  "language_info": {
   "codemirror_mode": {
    "name": "ipython",
    "version": 3
   },
   "file_extension": ".py",
   "mimetype": "text/x-python",
   "name": "python",
   "nbconvert_exporter": "python",
   "pygments_lexer": "ipython3",
   "version": "3.9.7"
  },
  "widgets": {
   "application/vnd.jupyter.widget-state+json": {
    "state": {},
    "version_major": 2,
    "version_minor": 0
   }
  }
 },
 "nbformat": 4,
 "nbformat_minor": 5
}
