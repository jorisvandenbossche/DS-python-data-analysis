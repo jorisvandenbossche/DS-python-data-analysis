{
 "cells": [
  {
   "cell_type": "markdown",
   "id": "a86a85c2",
   "metadata": {},
   "source": [
    "<p><font size=\"6\"><b>03 - Pandas: Indexing and selecting data - part I</b></font></p>\n",
    "\n",
    "\n",
    "> *© 2021, Joris Van den Bossche and Stijn Van Hoey  (<mailto:jorisvandenbossche@gmail.com>, <mailto:stijnvanhoey@gmail.com>). Licensed under [CC BY 4.0 Creative Commons](http://creativecommons.org/licenses/by/4.0/)*\n",
    "\n",
    "---"
   ]
  },
  {
   "cell_type": "code",
   "execution_count": null,
   "id": "bbac3865",
   "metadata": {},
   "outputs": [],
   "source": [
    "import pandas as pd"
   ]
  },
  {
   "cell_type": "code",
   "execution_count": null,
   "id": "57c45168",
   "metadata": {},
   "outputs": [],
   "source": [
    "# redefining the example DataFrame\n",
    "\n",
    "data = {'country': ['Belgium', 'France', 'Germany', 'Netherlands', 'United Kingdom'],\n",
    "        'population': [11.3, 64.3, 81.3, 16.9, 64.9],\n",
    "        'area': [30510, 671308, 357050, 41526, 244820],\n",
    "        'capital': ['Brussels', 'Paris', 'Berlin', 'Amsterdam', 'London']}\n",
    "countries = pd.DataFrame(data)\n",
    "countries"
   ]
  },
  {
   "cell_type": "markdown",
   "id": "8beee85a",
   "metadata": {},
   "source": [
    "# Subsetting data"
   ]
  },
  {
   "cell_type": "markdown",
   "id": "e4b08936",
   "metadata": {},
   "source": [
    "## Subset variables (columns)"
   ]
  },
  {
   "cell_type": "markdown",
   "id": "f8c7f1bf",
   "metadata": {},
   "source": [
    "For a DataFrame, basic indexing selects the columns (cfr. the dictionaries of pure python)\n",
    "\n",
    "Selecting a **single column**:"
   ]
  },
  {
   "cell_type": "code",
   "execution_count": null,
   "id": "c753967c",
   "metadata": {},
   "outputs": [],
   "source": [
    "countries['area'] # single []"
   ]
  },
  {
   "cell_type": "markdown",
   "id": "7e3f1922",
   "metadata": {},
   "source": [
    "Remember that the same syntax can also be used to *add* a new columns: `df['new'] = ...`.\n",
    "\n",
    "We can also select **multiple columns** by passing a list of column names into `[]`:"
   ]
  },
  {
   "cell_type": "code",
   "execution_count": null,
   "id": "34ec82d8",
   "metadata": {},
   "outputs": [],
   "source": [
    "countries[['area', 'population']] # double [[]]"
   ]
  },
  {
   "cell_type": "markdown",
   "id": "55ec9b47",
   "metadata": {},
   "source": [
    "## Subset observations (rows)"
   ]
  },
  {
   "cell_type": "markdown",
   "id": "a7c59a57",
   "metadata": {},
   "source": [
    "Using `[]`, slicing or boolean indexing accesses the **rows**:"
   ]
  },
  {
   "cell_type": "markdown",
   "id": "4bd13c1f",
   "metadata": {},
   "source": [
    "### Slicing"
   ]
  },
  {
   "cell_type": "code",
   "execution_count": null,
   "id": "8edabcf9",
   "metadata": {},
   "outputs": [],
   "source": [
    "countries[0:4]"
   ]
  },
  {
   "cell_type": "markdown",
   "id": "bcc74af7",
   "metadata": {},
   "source": [
    "### Boolean indexing (filtering)"
   ]
  },
  {
   "cell_type": "markdown",
   "id": "a0bb0257",
   "metadata": {},
   "source": [
    "Often, you want to select rows based on a certain condition. This can be done with *'boolean indexing'* (like a where clause in SQL) and comparable to numpy. \n",
    "\n",
    "The indexer (or boolean mask) should be 1-dimensional and the same length as the thing being indexed."
   ]
  },
  {
   "cell_type": "code",
   "execution_count": null,
   "id": "7c56229b",
   "metadata": {},
   "outputs": [],
   "source": [
    "countries['area'] > 100000"
   ]
  },
  {
   "cell_type": "code",
   "execution_count": null,
   "id": "475bcc2c",
   "metadata": {},
   "outputs": [],
   "source": [
    "countries[countries['area'] > 100000]"
   ]
  },
  {
   "cell_type": "code",
   "execution_count": null,
   "id": "232594f3",
   "metadata": {},
   "outputs": [],
   "source": [
    "countries[countries['population'] > 50]"
   ]
  },
  {
   "cell_type": "markdown",
   "id": "c6bb1cab",
   "metadata": {},
   "source": [
    "An overview of the possible comparison operations:\n",
    "\n",
    "Operator   |  Description\n",
    "------ | --------\n",
    "==       | Equal\n",
    "!=       | Not equal\n",
    "\\>       | Greater than\n",
    "\\>=       | Greater than or equal\n",
    "\\<       | Lesser than\n",
    "<=       | Lesser than or equal\n",
    "\n",
    "and to combine multiple conditions:\n",
    "\n",
    "Operator   |  Description\n",
    "------ | --------\n",
    "&       | And (`cond1 & cond2`)\n",
    "\\|       | Or (`cond1 \\| cond2`)"
   ]
  },
  {
   "cell_type": "markdown",
   "id": "8d76c151",
   "metadata": {},
   "source": [
    "<div class=\"alert alert-info\" style=\"font-size:120%\">\n",
    "<b>REMEMBER</b>: <br><br>\n",
    "\n",
    "So as a summary, `[]` provides the following convenience shortcuts:\n",
    "\n",
    "* **Series**: selecting a **label**: `s[label]`\n",
    "* **DataFrame**: selecting a single or multiple **columns**:`df['col']` or `df[['col1', 'col2']]`\n",
    "* **DataFrame**: slicing or filtering the **rows**: `df['row_label1':'row_label2']` or `df[mask]`\n",
    "\n",
    "</div>"
   ]
  },
  {
   "cell_type": "markdown",
   "id": "2b68afef",
   "metadata": {},
   "source": [
    "## Some other useful methods: `isin` and `string` methods"
   ]
  },
  {
   "cell_type": "markdown",
   "id": "197dd953",
   "metadata": {},
   "source": [
    "The `isin` method of Series is very useful to select rows that may contain certain values:"
   ]
  },
  {
   "cell_type": "code",
   "execution_count": null,
   "id": "afd04738",
   "metadata": {},
   "outputs": [],
   "source": [
    "s = countries['capital']"
   ]
  },
  {
   "cell_type": "code",
   "execution_count": null,
   "id": "2fc60f5e",
   "metadata": {},
   "outputs": [],
   "source": [
    "s.isin?"
   ]
  },
  {
   "cell_type": "code",
   "execution_count": null,
   "id": "4a660fe8",
   "metadata": {},
   "outputs": [],
   "source": [
    "s.isin(['Berlin', 'London'])"
   ]
  },
  {
   "cell_type": "markdown",
   "id": "c96b9878",
   "metadata": {},
   "source": [
    "This can then be used to filter the dataframe with boolean indexing:"
   ]
  },
  {
   "cell_type": "code",
   "execution_count": null,
   "id": "1391975e",
   "metadata": {},
   "outputs": [],
   "source": [
    "countries[countries['capital'].isin(['Berlin', 'London'])]"
   ]
  },
  {
   "cell_type": "markdown",
   "id": "3e94af17",
   "metadata": {},
   "source": [
    "Let's say we want to select all data for which the capital starts with a 'B'. In Python, when having a string, we could use the `startswith` method:"
   ]
  },
  {
   "cell_type": "code",
   "execution_count": null,
   "id": "6e69fc9c",
   "metadata": {},
   "outputs": [],
   "source": [
    "string = 'Berlin'"
   ]
  },
  {
   "cell_type": "code",
   "execution_count": null,
   "id": "91fee55e",
   "metadata": {},
   "outputs": [],
   "source": [
    "string.startswith('B')"
   ]
  },
  {
   "cell_type": "markdown",
   "id": "14cd97c0",
   "metadata": {},
   "source": [
    "In pandas, these are available on a Series through the `str` namespace:"
   ]
  },
  {
   "cell_type": "code",
   "execution_count": null,
   "id": "821c7579",
   "metadata": {},
   "outputs": [],
   "source": [
    "countries['capital'].str.startswith('B')"
   ]
  },
  {
   "cell_type": "markdown",
   "id": "3c679f13",
   "metadata": {},
   "source": [
    "For an overview of all string methods, see: https://pandas.pydata.org/pandas-docs/stable/reference/series.html#string-handling"
   ]
  },
  {
   "cell_type": "markdown",
   "id": "ca0c6966",
   "metadata": {},
   "source": [
    "# Exercises using the Titanic dataset"
   ]
  },
  {
   "cell_type": "code",
   "execution_count": null,
   "id": "da239d99",
   "metadata": {},
   "outputs": [],
   "source": [
    "df = pd.read_csv(\"data/titanic.csv\")"
   ]
  },
  {
   "cell_type": "code",
   "execution_count": null,
   "id": "c1c5e2ca",
   "metadata": {},
   "outputs": [],
   "source": [
    "df.head()"
   ]
  },
  {
   "cell_type": "markdown",
   "id": "7b90e838",
   "metadata": {},
   "source": [
    "<div class=\"alert alert-success\">\n",
    "\n",
    "<b>EXERCISE 1</b>:\n",
    "\n",
    " <ul>\n",
    "  <li>Select all rows for male passengers and calculate the mean age of those passengers. Do the same for the female passengers.</li>\n",
    "</ul>\n",
    "</div>"
   ]
  },
  {
   "cell_type": "code",
   "execution_count": null,
   "id": "e50cb2c4",
   "metadata": {
    "tags": [
     "nbtutor-solution"
    ]
   },
   "outputs": [],
   "source": [
    "# %load _solutions/pandas_03a_selecting_data1.py"
   ]
  },
  {
   "cell_type": "code",
   "execution_count": null,
   "id": "c424a94d",
   "metadata": {
    "tags": [
     "nbtutor-solution"
    ]
   },
   "outputs": [],
   "source": [
    "# %load _solutions/pandas_03a_selecting_data2.py"
   ]
  },
  {
   "cell_type": "code",
   "execution_count": null,
   "id": "5cf61518",
   "metadata": {
    "tags": [
     "nbtutor-solution"
    ]
   },
   "outputs": [],
   "source": [
    "# %load _solutions/pandas_03a_selecting_data3.py"
   ]
  },
  {
   "cell_type": "markdown",
   "id": "58377238",
   "metadata": {},
   "source": [
    "We will later see an easier way to calculate both averages at the same time with groupby."
   ]
  },
  {
   "cell_type": "markdown",
   "id": "1e620052",
   "metadata": {},
   "source": [
    "<div class=\"alert alert-success\">\n",
    "\n",
    "<b>EXERCISE 2</b>:\n",
    "\n",
    " <ul>\n",
    "  <li>How many passengers older than 70 were on the Titanic?</li>\n",
    "</ul>\n",
    "</div>"
   ]
  },
  {
   "cell_type": "code",
   "execution_count": null,
   "id": "ae3c0cb0",
   "metadata": {
    "tags": [
     "nbtutor-solution"
    ]
   },
   "outputs": [],
   "source": [
    "# %load _solutions/pandas_03a_selecting_data4.py"
   ]
  },
  {
   "cell_type": "code",
   "execution_count": null,
   "id": "1aa352c5",
   "metadata": {
    "tags": [
     "nbtutor-solution"
    ]
   },
   "outputs": [],
   "source": [
    "# %load _solutions/pandas_03a_selecting_data5.py"
   ]
  },
  {
   "cell_type": "markdown",
   "id": "c3e93be9",
   "metadata": {},
   "source": [
    "<div class=\"alert alert-success\">\n",
    "\n",
    "<b>EXERCISE 3</b>:\n",
    "\n",
    " <ul>\n",
    "  <li>Select the passengers that are between 30 and 40 years old?</li>\n",
    "</ul>\n",
    "</div>"
   ]
  },
  {
   "cell_type": "code",
   "execution_count": null,
   "id": "3ce55041",
   "metadata": {
    "tags": [
     "nbtutor-solution"
    ]
   },
   "outputs": [],
   "source": [
    "# %load _solutions/pandas_03a_selecting_data6.py"
   ]
  },
  {
   "cell_type": "markdown",
   "id": "6e55f240-02ea-4643-bd0f-e505fa923576",
   "metadata": {},
   "source": [
    "<div class=\"alert alert-success\">\n",
    "\n",
    "<b>EXERCISE 4</b>:\n",
    "\n",
    "For a single string `name = 'Braund, Mr. Owen Harris'`, split this string (check the `split()` method of a string) and get the first element of the resulting list.\n",
    "    \n",
    "<details><summary>Hints</summary>\n",
    "\n",
    "- No Pandas in this exercise, just standard Python.\n",
    "    \n",
    "</details> \n",
    "\n",
    "</div>"
   ]
  },
  {
   "cell_type": "code",
   "execution_count": null,
   "id": "2982bedf-0f71-4f90-a705-8da6aa9bb3a1",
   "metadata": {},
   "outputs": [],
   "source": [
    "name = 'Braund, Mr. Owen Harris'"
   ]
  },
  {
   "cell_type": "code",
   "execution_count": null,
   "id": "0a8b177f-9596-458a-a455-4c3e64b1e4dd",
   "metadata": {
    "tags": [
     "nbtutor-solution"
    ]
   },
   "outputs": [],
   "source": [
    "# %load _solutions/pandas_03a_selecting_data7.py"
   ]
  },
  {
   "cell_type": "markdown",
   "id": "3650db50",
   "metadata": {},
   "source": [
    "<div class=\"alert alert-success\">\n",
    "\n",
    "<b>EXERCISE 5</b>:\n",
    "    \n",
    "Convert the solution of the previous exercise to all strings of the `Name` column at once. Split the 'Name' column on the `,`, extract the first part (the surname), and add this as new column 'Surname'. \n",
    "    \n",
    "<details><summary>Hints</summary>\n",
    "\n",
    "- Pandas uses the `str` accessor to use the string methods such as `split`, e.g. `.str.split(...)`\n",
    "- The [`.str.get()`](https://pandas.pydata.org/docs/reference/api/pandas.Series.str.get.html#pandas.Series.str.get) can be used to get the n-th element of a list, which is what the `str.split()` returns. This is the equivalent of selecting an element of a single list (`a_list[i]`) but then for all values of the Series.\n",
    "- One can chain multiple `.str` methods, e.g. `str.SOMEMETHOD(...).str.SOMEOTHERMETHOD(...)`.\n",
    "    \n",
    "</details>    \n",
    "\n",
    "</div>"
   ]
  },
  {
   "cell_type": "code",
   "execution_count": null,
   "id": "1c33284b-86de-434c-9ac6-3ee4008afc3b",
   "metadata": {
    "tags": [
     "nbtutor-solution"
    ]
   },
   "outputs": [],
   "source": [
    "# %load _solutions/pandas_03a_selecting_data8.py"
   ]
  },
  {
   "cell_type": "markdown",
   "id": "49d75150",
   "metadata": {},
   "source": [
    "<div class=\"alert alert-success\">\n",
    "\n",
    "<b>EXERCISE 6</b>:\n",
    "\n",
    " <ul>\n",
    "  <li>Select all passenger that have a surname starting with 'Williams'.</li>\n",
    "</ul>\n",
    "</div>"
   ]
  },
  {
   "cell_type": "code",
   "execution_count": null,
   "id": "d0769ddf",
   "metadata": {
    "tags": [
     "nbtutor-solution"
    ]
   },
   "outputs": [],
   "source": [
    "# %load _solutions/pandas_03a_selecting_data9.py"
   ]
  },
  {
   "cell_type": "markdown",
   "id": "223df26c",
   "metadata": {},
   "source": [
    "<div class=\"alert alert-success\">\n",
    "\n",
    "<b>EXERCISE 7</b>:\n",
    "\n",
    " <ul>\n",
    "  <li>Select all rows for the passengers with a surname of more than 15 characters.</li>\n",
    "</ul>\n",
    "    \n",
    "</div>"
   ]
  },
  {
   "cell_type": "code",
   "execution_count": null,
   "id": "8653927c",
   "metadata": {
    "tags": [
     "nbtutor-solution"
    ]
   },
   "outputs": [],
   "source": [
    "# %load _solutions/pandas_03a_selecting_data10.py"
   ]
  },
  {
   "cell_type": "markdown",
   "id": "70cb6da1",
   "metadata": {},
   "source": [
    "# [OPTIONAL] more exercises"
   ]
  },
  {
   "cell_type": "markdown",
   "id": "49d05bde",
   "metadata": {},
   "source": [
    "For the quick ones among you, here are some more exercises with some larger dataframe with film data. These exercises are based on the [PyCon tutorial of Brandon Rhodes](https://github.com/brandon-rhodes/pycon-pandas-tutorial/) (so all credit to him!) and the datasets he prepared for that. You can download these data from here: [`titles.csv`](https://course-python-data.s3.eu-central-1.amazonaws.com/titles.csv) and [`cast.csv`](https://course-python-data.s3.eu-central-1.amazonaws.com/cast.csv) and put them in the `/notebooks/data` folder."
   ]
  },
  {
   "cell_type": "code",
   "execution_count": null,
   "id": "c463f1fb",
   "metadata": {},
   "outputs": [],
   "source": [
    "cast = pd.read_csv('data/cast.csv')\n",
    "cast.head()"
   ]
  },
  {
   "cell_type": "code",
   "execution_count": null,
   "id": "d2f59892",
   "metadata": {},
   "outputs": [],
   "source": [
    "titles = pd.read_csv('data/titles.csv')\n",
    "titles.head()"
   ]
  },
  {
   "cell_type": "markdown",
   "id": "ebe98cdf",
   "metadata": {},
   "source": [
    "<div class=\"alert alert-success\">\n",
    "\n",
    "<b>EXERCISE 8</b>:\n",
    "\n",
    " <ul>\n",
    "  <li>How many movies are listed in the titles dataframe?</li>\n",
    "</ul>\n",
    "    \n",
    "</div>"
   ]
  },
  {
   "cell_type": "code",
   "execution_count": null,
   "id": "101bc9c2",
   "metadata": {
    "tags": [
     "nbtutor-solution"
    ]
   },
   "outputs": [],
   "source": [
    "# %load _solutions/pandas_03a_selecting_data11.py"
   ]
  },
  {
   "cell_type": "markdown",
   "id": "d3e272ff",
   "metadata": {},
   "source": [
    "<div class=\"alert alert-success\">\n",
    "\n",
    "<b>EXERCISE 9</b>:\n",
    "\n",
    " <ul>\n",
    "  <li>What are the earliest two films listed in the titles dataframe?</li>\n",
    "</ul>\n",
    "</div>"
   ]
  },
  {
   "cell_type": "code",
   "execution_count": null,
   "id": "9a875b47",
   "metadata": {
    "tags": [
     "nbtutor-solution"
    ]
   },
   "outputs": [],
   "source": [
    "# %load _solutions/pandas_03a_selecting_data12.py"
   ]
  },
  {
   "cell_type": "markdown",
   "id": "1150e93f",
   "metadata": {},
   "source": [
    "<div class=\"alert alert-success\">\n",
    "\n",
    "<b>EXERCISE 10</b>:\n",
    "\n",
    " <ul>\n",
    "  <li>How many movies have the title \"Hamlet\"?</li>\n",
    "</ul>\n",
    "</div>"
   ]
  },
  {
   "cell_type": "code",
   "execution_count": null,
   "id": "9083845a",
   "metadata": {
    "tags": [
     "nbtutor-solution"
    ]
   },
   "outputs": [],
   "source": [
    "# %load _solutions/pandas_03a_selecting_data13.py"
   ]
  },
  {
   "cell_type": "markdown",
   "id": "6c122455",
   "metadata": {},
   "source": [
    "<div class=\"alert alert-success\">\n",
    "\n",
    "<b>EXERCISE 11</b>:\n",
    "\n",
    " <ul>\n",
    "  <li>List all of the \"Treasure Island\" movies from earliest to most recent.</li>\n",
    "</ul>\n",
    "</div>"
   ]
  },
  {
   "cell_type": "code",
   "execution_count": null,
   "id": "973b11d5",
   "metadata": {
    "tags": [
     "nbtutor-solution"
    ]
   },
   "outputs": [],
   "source": [
    "# %load _solutions/pandas_03a_selecting_data14.py"
   ]
  },
  {
   "cell_type": "markdown",
   "id": "8efc8e83",
   "metadata": {},
   "source": [
    "<div class=\"alert alert-success\">\n",
    "\n",
    "<b>EXERCISE 12</b>:\n",
    "\n",
    " <ul>\n",
    "  <li>How many movies were made from 1950 through 1959?</li>\n",
    "</ul>\n",
    "</div>"
   ]
  },
  {
   "cell_type": "code",
   "execution_count": null,
   "id": "8d516c1e",
   "metadata": {
    "tags": [
     "nbtutor-solution"
    ]
   },
   "outputs": [],
   "source": [
    "# %load _solutions/pandas_03a_selecting_data15.py"
   ]
  },
  {
   "cell_type": "code",
   "execution_count": null,
   "id": "2634393f",
   "metadata": {
    "tags": [
     "nbtutor-solution"
    ]
   },
   "outputs": [],
   "source": [
    "# %load _solutions/pandas_03a_selecting_data16.py"
   ]
  },
  {
   "cell_type": "markdown",
   "id": "899d353c",
   "metadata": {},
   "source": [
    "<div class=\"alert alert-success\">\n",
    "\n",
    "<b>EXERCISE 13</b>:\n",
    "\n",
    " <ul>\n",
    "  <li>How many roles in the movie \"Inception\" are NOT ranked by an \"n\" value?</li>\n",
    "</ul>\n",
    "</div>"
   ]
  },
  {
   "cell_type": "code",
   "execution_count": null,
   "id": "bcabb630",
   "metadata": {
    "tags": [
     "nbtutor-solution"
    ]
   },
   "outputs": [],
   "source": [
    "# %load _solutions/pandas_03a_selecting_data17.py"
   ]
  },
  {
   "cell_type": "code",
   "execution_count": null,
   "id": "6e0011f2",
   "metadata": {
    "tags": [
     "nbtutor-solution"
    ]
   },
   "outputs": [],
   "source": [
    "# %load _solutions/pandas_03a_selecting_data18.py"
   ]
  },
  {
   "cell_type": "code",
   "execution_count": null,
   "id": "3ea078b8",
   "metadata": {
    "tags": [
     "nbtutor-solution"
    ]
   },
   "outputs": [],
   "source": [
    "# %load _solutions/pandas_03a_selecting_data19.py"
   ]
  },
  {
   "cell_type": "markdown",
   "id": "ae3ff390",
   "metadata": {},
   "source": [
    "<div class=\"alert alert-success\">\n",
    "\n",
    "<b>EXERCISE 14</b>:\n",
    "\n",
    " <ul>\n",
    "  <li>But how many roles in the movie \"Inception\" did receive an \"n\" value?</li>\n",
    "</ul>\n",
    "</div>"
   ]
  },
  {
   "cell_type": "code",
   "execution_count": null,
   "id": "bf63c5c4",
   "metadata": {
    "tags": [
     "nbtutor-solution"
    ]
   },
   "outputs": [],
   "source": [
    "# %load _solutions/pandas_03a_selecting_data20.py"
   ]
  },
  {
   "cell_type": "markdown",
   "id": "bc32f8f6",
   "metadata": {},
   "source": [
    "<div class=\"alert alert-success\">\n",
    "\n",
    "<b>EXERCISE 15</b>:\n",
    "\n",
    " <ul>\n",
    "  <li>Display the cast of the \"Titanic\" (the most famous 1997 one) in their correct \"n\"-value order, ignoring roles that did not earn a numeric \"n\" value.</li>\n",
    "</ul>\n",
    "</div>"
   ]
  },
  {
   "cell_type": "code",
   "execution_count": null,
   "id": "a2b4032d",
   "metadata": {
    "tags": [
     "nbtutor-solution"
    ]
   },
   "outputs": [],
   "source": [
    "# %load _solutions/pandas_03a_selecting_data21.py"
   ]
  },
  {
   "cell_type": "markdown",
   "id": "370fa471",
   "metadata": {},
   "source": [
    "<div class=\"alert alert-success\">\n",
    "\n",
    "<b>EXERCISE 16</b>:\n",
    "\n",
    " <ul>\n",
    "  <li>List the supporting roles (having n=2) played by Brad Pitt in the 1990s, in order by year.</li>\n",
    "</ul>\n",
    "</div>"
   ]
  },
  {
   "cell_type": "code",
   "execution_count": null,
   "id": "84f1580b",
   "metadata": {
    "tags": [
     "nbtutor-solution"
    ]
   },
   "outputs": [],
   "source": [
    "# %load _solutions/pandas_03a_selecting_data22.py"
   ]
  },
  {
   "cell_type": "markdown",
   "id": "bcb4f4a4",
   "metadata": {},
   "source": [
    "# Acknowledgement\n",
    "\n",
    "\n",
    "> The optional exercises are based on the [PyCon tutorial of Brandon Rhodes](https://github.com/brandon-rhodes/pycon-pandas-tutorial/) (so all credit to him!) and the datasets he prepared for that.\n",
    "\n",
    "---"
   ]
  }
 ],
 "metadata": {
  "jupytext": {
   "formats": "ipynb,md:myst"
  },
  "kernelspec": {
   "display_name": "Python 3",
   "language": "python",
   "name": "python3"
  },
  "language_info": {
   "codemirror_mode": {
    "name": "ipython",
    "version": 3
   },
   "file_extension": ".py",
   "mimetype": "text/x-python",
   "name": "python",
   "nbconvert_exporter": "python",
   "pygments_lexer": "ipython3",
   "version": "3.8.10"
  },
  "widgets": {
   "application/vnd.jupyter.widget-state+json": {
    "state": {},
    "version_major": 2,
    "version_minor": 0
   }
  }
 },
 "nbformat": 4,
 "nbformat_minor": 5
}
