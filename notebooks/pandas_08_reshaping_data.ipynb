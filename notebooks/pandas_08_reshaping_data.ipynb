{
 "cells": [
  {
   "cell_type": "markdown",
   "id": "a7d814f2",
   "metadata": {},
   "source": [
    "<p><font size=\"6\"><b>08 - Pandas: Tidy data and reshaping</b></font></p>\n",
    "\n",
    "\n",
    "> *© 2024, Joris Van den Bossche and Stijn Van Hoey  (<mailto:jorisvandenbossche@gmail.com>, <mailto:stijnvanhoey@gmail.com>). Licensed under [CC BY 4.0 Creative Commons](http://creativecommons.org/licenses/by/4.0/)*\n",
    "\n",
    "---"
   ]
  },
  {
   "cell_type": "code",
   "execution_count": null,
   "id": "270512af",
   "metadata": {},
   "outputs": [],
   "source": [
    "import pandas as pd\n",
    "import numpy as np\n",
    "import matplotlib.pyplot as plt\n",
    "import seaborn as sns"
   ]
  },
  {
   "cell_type": "markdown",
   "id": "399ca374",
   "metadata": {
    "tags": []
   },
   "source": [
    "# Tidy data\n",
    "\n",
    "In a [tidy dataset](https://vita.had.co.nz/papers/tidy-data.pdf) (also sometimes called 'long-form' data or 'denormalized' data) each observation is stored in its own row and each column contains a single variable:\n",
    "\n",
    "![](../img/tidy_data_scheme.png)\n",
    "\n",
    "Consider the following example with measurements in different Waste Water Treatment Plants (WWTP):"
   ]
  },
  {
   "cell_type": "code",
   "execution_count": null,
   "id": "0e50cec8-1244-43c6-b14e-f06e32deacc3",
   "metadata": {},
   "outputs": [],
   "source": [
    "data = pd.DataFrame({\n",
    "   'WWTP': ['Destelbergen', 'Landegem', 'Dendermonde', 'Eeklo'],\n",
    "   'Treatment A': [8.0, 7.5, 8.3, 6.5],\n",
    "   'Treatment B': [6.3, 5.2, 6.2, 7.2]\n",
    "})\n",
    "data"
   ]
  },
  {
   "cell_type": "markdown",
   "id": "71ca855d-552a-4c04-9a07-fa5ea30bf3a2",
   "metadata": {},
   "source": [
    "This data representation is not \"tidy\":\n",
    "\n",
    "- Each row contains two observations of pH (each from a different treatment)\n",
    "- 'Treatment' (A or B) is a variable not in its own column, but used as column headers"
   ]
  },
  {
   "cell_type": "markdown",
   "id": "2693e560-8882-4ed6-b759-6210b858fd30",
   "metadata": {},
   "source": [
    "A \"tidy\" version would rather look like:\n",
    "\n",
    "<table style=\"margin-left:0px;\">\n",
    "<thead>\n",
    "<tr>\n",
    "<th align=\"right\"></th>\n",
    "<th align=\"left\">WWTP</th>\n",
    "<th align=\"left\">Treatment</th>\n",
    "<th align=\"right\">pH</th>\n",
    "</tr>\n",
    "</thead>\n",
    "<tbody><tr>\n",
    "<td align=\"right\">0</td>\n",
    "<td align=\"left\">Destelbergen</td>\n",
    "<td align=\"left\">A</td>\n",
    "<td align=\"right\">8</td>\n",
    "</tr>\n",
    "<tr>\n",
    "<td align=\"right\">1</td>\n",
    "<td align=\"left\">Landegem</td>\n",
    "<td align=\"left\">A</td>\n",
    "<td align=\"right\">7.5</td>\n",
    "</tr>\n",
    "<tr>\n",
    "<td align=\"right\">2</td>\n",
    "<td align=\"left\">Dendermonde</td>\n",
    "<td align=\"left\">A</td>\n",
    "<td align=\"right\">8.3</td>\n",
    "</tr>\n",
    "<tr>\n",
    "<td align=\"right\">3</td>\n",
    "<td align=\"left\">Eeklo</td>\n",
    "<td align=\"left\">A</td>\n",
    "<td align=\"right\">6.5</td>\n",
    "</tr>\n",
    "<tr>\n",
    "<td align=\"right\">4</td>\n",
    "<td align=\"left\">Destelbergen</td>\n",
    "<td align=\"left\">B</td>\n",
    "<td align=\"right\">6.3</td>\n",
    "</tr>\n",
    "<tr>\n",
    "<td align=\"right\">5</td>\n",
    "<td align=\"left\">Landegem</td>\n",
    "<td align=\"left\">B</td>\n",
    "<td align=\"right\">5.2</td>\n",
    "</tr>\n",
    "<tr>\n",
    "<td align=\"right\">6</td>\n",
    "<td align=\"left\">Dendermonde</td>\n",
    "<td align=\"left\">B</td>\n",
    "<td align=\"right\">6.2</td>\n",
    "</tr>\n",
    "<tr>\n",
    "<td align=\"right\">7</td>\n",
    "<td align=\"left\">Eeklo</td>\n",
    "<td align=\"left\">B</td>\n",
    "<td align=\"right\">7.2</td>\n",
    "</tr>\n",
    "</tbody></table>\n",
    "\n",
    "* Where each row is now one observation, i.e. one measurement for a certain location and treatment\n",
    "* Each variable is its own column"
   ]
  },
  {
   "cell_type": "markdown",
   "id": "19252f37-e9c7-46b3-9e69-718312f4dabe",
   "metadata": {},
   "source": [
    "## Melt - from wide to long/tidy format\n",
    "\n",
    "We can use `melt()` to make a dataframe longer, i.e. to make a *tidy* version of your data:"
   ]
  },
  {
   "cell_type": "code",
   "execution_count": null,
   "id": "acfed01b-8816-41aa-b159-a51f62dbb479",
   "metadata": {},
   "outputs": [],
   "source": [
    "pd.melt(data)  #, id_vars=[\"WWTP\"])"
   ]
  },
  {
   "cell_type": "code",
   "execution_count": null,
   "id": "11ac8b4f-942a-4711-a689-8a66960fbbdc",
   "metadata": {},
   "outputs": [],
   "source": [
    "data_long = pd.melt(data, id_vars=[\"WWTP\"], \n",
    "                    value_name=\"pH\", var_name=\"Treatment\")\n",
    "data_long"
   ]
  },
  {
   "cell_type": "markdown",
   "id": "09f947e8-70dd-485c-9c25-0125d22b3f9d",
   "metadata": {},
   "source": [
    "The usage of the tidy data representation has some important benefits when working with `groupby` or data visualization libraries such as Seaborn:"
   ]
  },
  {
   "cell_type": "code",
   "execution_count": null,
   "id": "93d18784-c36a-4845-9bf9-d8855e4a7d69",
   "metadata": {},
   "outputs": [],
   "source": [
    "data_long.groupby(\"Treatment\")[\"pH\"].mean()  # switch to `WWTP`"
   ]
  },
  {
   "cell_type": "code",
   "execution_count": null,
   "id": "0fda7698-1a62-43ad-a1d5-dc6d34c81723",
   "metadata": {},
   "outputs": [],
   "source": [
    "sns.catplot(data=data, x=\"WWTP\", y=\"...\", hue=\"...\", kind=\"bar\")  # this doesn't work that easily"
   ]
  },
  {
   "cell_type": "code",
   "execution_count": null,
   "id": "507af344-ec3d-40d2-a407-cfa732a5670e",
   "metadata": {
    "tags": []
   },
   "outputs": [],
   "source": [
    "sns.catplot(data=data_long, x=\"WWTP\", y=\"pH\", \n",
    "            hue=\"Treatment\", kind=\"bar\")  # switch `WWTP` and `Treatment`"
   ]
  },
  {
   "cell_type": "markdown",
   "id": "2f89cd18-79c0-4ebc-8597-16ea875d170e",
   "metadata": {
    "tags": []
   },
   "source": [
    "## Exercise with energy consumption data\n",
    "\n",
    "To practice the \"melt\" operation, we are going to use a dataset from Fluvius (who operates and manages the gas and elektricity networks in Flanders) about the monthly consumption of elektricity and gas in 2021 (https://www.fluvius.be/sites/fluvius/files/2021-10/verbruiksgegevens-per-maand.xlsx).\n",
    "\n",
    "This data is available as an Excel file."
   ]
  },
  {
   "cell_type": "markdown",
   "id": "ee851bb1-ea6c-43c3-a51b-62a2b672f2ca",
   "metadata": {
    "clear_cell": false
   },
   "source": [
    "<div class=\"alert alert-success\">\n",
    "\n",
    "**EXERCISE 1**:\n",
    "\n",
    "* Read the \"verbruiksgegevens-per-maand.xlsx\" file (in the \"data/\" directory) into a DataFrame `df`.\n",
    "* Drop the \"Regio\" column (this column has a constant value \"Regio 1\" and thus is not that interesting).\n",
    "\n",
    "<details><summary>Hints</summary>\n",
    "\n",
    "- Reading Excel files can be done with the `pd.read_excel()` function, passing the path to the file as first argument.\n",
    "- To drop a column, use the `columns` keyword in the `drop()` method.\n",
    "\n",
    "</details>\n",
    "</div>"
   ]
  },
  {
   "cell_type": "code",
   "execution_count": null,
   "id": "dec13ad1-7186-4b72-a51e-beecc97404a2",
   "metadata": {
    "tags": [
     "nbtutor-solution"
    ]
   },
   "outputs": [],
   "source": [
    "# %load _solutions/pandas_08_reshaping_data1.py"
   ]
  },
  {
   "cell_type": "code",
   "execution_count": null,
   "id": "c28fea55-3cc0-45db-8a20-626e9c20d430",
   "metadata": {
    "tags": [
     "nbtutor-solution"
    ]
   },
   "outputs": [],
   "source": [
    "# %load _solutions/pandas_08_reshaping_data2.py"
   ]
  },
  {
   "cell_type": "markdown",
   "id": "c2d6783f-3f0f-43f0-a9da-d84c4819369a",
   "metadata": {
    "clear_cell": false
   },
   "source": [
    "<div class=\"alert alert-success\">\n",
    "\n",
    "**EXERCISE 2**:\n",
    "\n",
    "The actual data (consumption numbers) is spread over multiple columns: one column per month. Make a tidy version of this dataset with a single \"consumption\" column, and an additional \"time\" column. \n",
    "    \n",
    "Make sure to keep the \"Hoofdgemeente\", \"Energie\" and \"SLP\"  columns in the data set. The \"SLP\" column contains additional categories about the type of elektricity or gas consumption (eg household vs non-household consumption).\n",
    "\n",
    "Use `pd.melt()` to create a long or tidy version of the dataset, and call the result `df_tidy`.\n",
    "\n",
    "<details><summary>Hints</summary>\n",
    "\n",
    "- If there are columns in the original dataset that you want to keep (with repeated values), pass those names to the `id_vars` keyword of `pd.melt()`.\n",
    "- You can use the `var_name` and `value_name` keywords to directly specify the column names to use for the new variable and value columns.\n",
    "\n",
    "</details>\n",
    "</div>"
   ]
  },
  {
   "cell_type": "code",
   "execution_count": null,
   "id": "f4c99001-bee1-454f-a1e5-015bc34d1403",
   "metadata": {
    "tags": [
     "nbtutor-solution"
    ]
   },
   "outputs": [],
   "source": [
    "# %load _solutions/pandas_08_reshaping_data3.py"
   ]
  },
  {
   "cell_type": "markdown",
   "id": "31408256-ff95-4b3d-8682-3c0a028dd279",
   "metadata": {
    "clear_cell": false
   },
   "source": [
    "<div class=\"alert alert-success\">\n",
    "\n",
    "**EXERCISE 3**:\n",
    "\n",
    "Convert the \"time\" column to a column with a datetime data type using `pd.to_datetime`.\n",
    "\n",
    "<details><summary>Hints</summary>\n",
    "\n",
    "* When using `pd.to_datetime`, remember to specify a `format`.\n",
    "\n",
    "</details>\n",
    "</div>"
   ]
  },
  {
   "cell_type": "code",
   "execution_count": null,
   "id": "232318e9-ee46-4a23-8e46-32694eab13ba",
   "metadata": {
    "tags": [
     "nbtutor-solution"
    ]
   },
   "outputs": [],
   "source": [
    "# %load _solutions/pandas_08_reshaping_data4.py"
   ]
  },
  {
   "cell_type": "markdown",
   "id": "6a140c14-a194-451c-bb2d-4521def78e9e",
   "metadata": {
    "clear_cell": false
   },
   "source": [
    "<div class=\"alert alert-success\">\n",
    "\n",
    "**EXERCISE 4**:\n",
    "\n",
    "* Calculate the total consumption of elektricity and gas over all municipalities (\"Hoofdgemeente\") for each month. Assign the result to a dataframe called `df_overall`.\n",
    "* Using `df_overall`, make a line plot of the consumption of elektricity vs gas over time. \n",
    "  * Create a separate subplot for elektricity and for gas, putting them next to each other. \n",
    "  * Ensure that the y-limit starts at 0 for both subplots.\n",
    "\n",
    "<details><summary>Hints</summary>\n",
    "\n",
    "* If we want to sum the consumption over all municipalities that means we should _not_ include this variable in the groupby keys. On the other hand, we want to calculate the sum *for each* month (\"time\") and *for each* category of elektricity/gas (\"Energie\").\n",
    "* Creating a line plot with seaborn can be done with `sns.relplot(..., kind=\"line\")`.\n",
    "* If you want to split the plot into multiple subplots based on a variable, check the `row` or `col` keyword.\n",
    "* The `sns.relplot` returns a \"facet grid\" object, and you can change an element of each of the subplots of this object using the `set()` method of this object. To set the y-limits, you can use the `ylim` keyword.\n",
    "    \n",
    "</details>\n",
    "</div>"
   ]
  },
  {
   "cell_type": "code",
   "execution_count": null,
   "id": "0c6c3711-75ef-4879-992c-693e442a0323",
   "metadata": {
    "tags": [
     "nbtutor-solution"
    ]
   },
   "outputs": [],
   "source": [
    "# %load _solutions/pandas_08_reshaping_data5.py"
   ]
  },
  {
   "cell_type": "code",
   "execution_count": null,
   "id": "0aef4ccc-5502-4ed2-8b72-b6105e752f5a",
   "metadata": {
    "tags": [
     "nbtutor-solution"
    ]
   },
   "outputs": [],
   "source": [
    "# %load _solutions/pandas_08_reshaping_data6.py"
   ]
  },
  {
   "cell_type": "markdown",
   "id": "7375e157",
   "metadata": {},
   "source": [
    "# Pivoting data"
   ]
  },
  {
   "cell_type": "markdown",
   "id": "8482ab32",
   "metadata": {},
   "source": [
    "## Cfr. excel"
   ]
  },
  {
   "cell_type": "markdown",
   "id": "10656c32",
   "metadata": {},
   "source": [
    "People who know Excel, probably know the **Pivot** functionality:"
   ]
  },
  {
   "cell_type": "markdown",
   "id": "29fcba52",
   "metadata": {},
   "source": [
    "![](../img/pandas/pivot_excel.png)"
   ]
  },
  {
   "cell_type": "markdown",
   "id": "bd6a8804",
   "metadata": {},
   "source": [
    "The data of the table:"
   ]
  },
  {
   "cell_type": "code",
   "execution_count": null,
   "id": "190e9ad0",
   "metadata": {},
   "outputs": [],
   "source": [
    "excelample = pd.DataFrame({'Month': [\"January\", \"January\", \"January\", \"January\", \n",
    "                                  \"February\", \"February\", \"February\", \"February\", \n",
    "                                  \"March\", \"March\", \"March\", \"March\"],\n",
    "                   'Category': [\"Transportation\", \"Grocery\", \"Household\", \"Entertainment\",\n",
    "                                \"Transportation\", \"Grocery\", \"Household\", \"Entertainment\",\n",
    "                                \"Transportation\", \"Grocery\", \"Household\", \"Entertainment\"],\n",
    "                   'Amount': [74., 235., 175., 100., 115., 240., 225., 125., 90., 260., 200., 120.]})"
   ]
  },
  {
   "cell_type": "code",
   "execution_count": null,
   "id": "f3acdb03",
   "metadata": {},
   "outputs": [],
   "source": [
    "excelample"
   ]
  },
  {
   "cell_type": "code",
   "execution_count": null,
   "id": "849ae13d",
   "metadata": {},
   "outputs": [],
   "source": [
    "excelample_pivot = excelample.pivot(index=\"Category\", columns=\"Month\", values=\"Amount\")\n",
    "excelample_pivot"
   ]
  },
  {
   "cell_type": "markdown",
   "id": "83f21fde",
   "metadata": {},
   "source": [
    "Interested in *Grand totals*?"
   ]
  },
  {
   "cell_type": "code",
   "execution_count": null,
   "id": "6ed80893",
   "metadata": {},
   "outputs": [],
   "source": [
    "# sum columns\n",
    "excelample_pivot.sum(axis=1)"
   ]
  },
  {
   "cell_type": "code",
   "execution_count": null,
   "id": "68d18057",
   "metadata": {},
   "outputs": [],
   "source": [
    "# sum rows\n",
    "excelample_pivot.sum(axis=0)"
   ]
  },
  {
   "cell_type": "markdown",
   "id": "664adb8e",
   "metadata": {},
   "source": [
    "## Pivot is just reordering your data:"
   ]
  },
  {
   "cell_type": "markdown",
   "id": "71257fbf",
   "metadata": {},
   "source": [
    "Small subsample of the titanic dataset:"
   ]
  },
  {
   "cell_type": "code",
   "execution_count": null,
   "id": "f23c70b6",
   "metadata": {},
   "outputs": [],
   "source": [
    "df = pd.DataFrame({'Fare': [7.25, 71.2833, 51.8625, 30.0708, 7.8542, 13.0],\n",
    "                   'Pclass': [3, 1, 1, 2, 3, 2],\n",
    "                   'Sex': ['male', 'female', 'male', 'female', 'female', 'male'],\n",
    "                   'Survived': [0, 1, 0, 1, 0, 1]})"
   ]
  },
  {
   "cell_type": "code",
   "execution_count": null,
   "id": "4435bd03",
   "metadata": {},
   "outputs": [],
   "source": [
    "df"
   ]
  },
  {
   "cell_type": "code",
   "execution_count": null,
   "id": "3a999ee9",
   "metadata": {},
   "outputs": [],
   "source": [
    "df.pivot(index='Pclass', columns='Sex', values='Fare')"
   ]
  },
  {
   "cell_type": "code",
   "execution_count": null,
   "id": "47c55cc9",
   "metadata": {},
   "outputs": [],
   "source": [
    "df.pivot(index='Pclass', columns='Sex', values='Survived')"
   ]
  },
  {
   "cell_type": "markdown",
   "id": "fad032e0",
   "metadata": {},
   "source": [
    "So far, so good..."
   ]
  },
  {
   "cell_type": "markdown",
   "id": "947176ee",
   "metadata": {},
   "source": [
    "Let's now use the full titanic dataset:"
   ]
  },
  {
   "cell_type": "code",
   "execution_count": null,
   "id": "f5eeb481",
   "metadata": {},
   "outputs": [],
   "source": [
    "df = pd.read_csv(\"data/titanic.csv\")"
   ]
  },
  {
   "cell_type": "code",
   "execution_count": null,
   "id": "3e902ec3",
   "metadata": {},
   "outputs": [],
   "source": [
    "df.head()"
   ]
  },
  {
   "cell_type": "markdown",
   "id": "65722c82",
   "metadata": {},
   "source": [
    "And try the same pivot (*no worries about the try-except, this is here just used to catch a loooong error*):"
   ]
  },
  {
   "cell_type": "code",
   "execution_count": null,
   "id": "563610d4",
   "metadata": {},
   "outputs": [],
   "source": [
    "try:\n",
    "    df.pivot(index='Sex', columns='Pclass', values='Fare')\n",
    "except Exception as e:\n",
    "    print(\"Exception!\", e)"
   ]
  },
  {
   "cell_type": "markdown",
   "id": "d95ce712",
   "metadata": {},
   "source": [
    "This does not work, because we would end up with multiple values for one cell of the resulting frame, as the error says: `duplicated` values for the columns in the selection. As an example, consider the following rows of our three columns of interest:"
   ]
  },
  {
   "cell_type": "code",
   "execution_count": null,
   "id": "2948f0eb",
   "metadata": {},
   "outputs": [],
   "source": [
    "df.loc[[1, 3], [\"Sex\", 'Pclass', 'Fare']]"
   ]
  },
  {
   "cell_type": "markdown",
   "id": "a1f43b95",
   "metadata": {},
   "source": [
    "Since `pivot` is just restructering data, where would both values of `Fare` for the same combination of `Sex` and `Pclass` need to go?\n",
    "\n",
    "Well, they need to be combined, according to an `aggregation` functionality, which is supported by the function`pivot_table`"
   ]
  },
  {
   "cell_type": "markdown",
   "id": "22469764",
   "metadata": {},
   "source": [
    "<div class=\"alert alert-danger\">\n",
    "\n",
    "<b>NOTE</b>:\n",
    "\n",
    " <ul>\n",
    "  <li><b>Pivot</b> is purely restructering: a single value for each index/column combination is required.</li>\n",
    "</ul>\n",
    "\n",
    "</div>"
   ]
  },
  {
   "cell_type": "markdown",
   "id": "a83de3ae",
   "metadata": {},
   "source": [
    "## Pivot tables - aggregating while pivoting"
   ]
  },
  {
   "cell_type": "code",
   "execution_count": null,
   "id": "ae2f767c",
   "metadata": {},
   "outputs": [],
   "source": [
    "df = pd.read_csv(\"data/titanic.csv\")"
   ]
  },
  {
   "cell_type": "code",
   "execution_count": null,
   "id": "4109424e",
   "metadata": {},
   "outputs": [],
   "source": [
    "df.pivot_table(index='Sex', columns='Pclass', values='Fare')"
   ]
  },
  {
   "cell_type": "markdown",
   "id": "167a6298",
   "metadata": {},
   "source": [
    "<div class=\"alert alert-info\">\n",
    "\n",
    "<b>REMEMBER</b>:\n",
    "\n",
    "* By default, `pivot_table` takes the **mean** of all values that would end up into one cell. However, you can also specify other aggregation functions using the `aggfunc` keyword.\n",
    "\n",
    "</div>"
   ]
  },
  {
   "cell_type": "code",
   "execution_count": null,
   "id": "56e3a68e",
   "metadata": {},
   "outputs": [],
   "source": [
    "df.pivot_table(index='Sex', columns='Pclass', \n",
    "               values='Fare', aggfunc='max')"
   ]
  },
  {
   "cell_type": "code",
   "execution_count": null,
   "id": "d648d80f",
   "metadata": {},
   "outputs": [],
   "source": [
    "df.pivot_table(index='Sex', columns='Pclass', \n",
    "               values='Fare', aggfunc='count')"
   ]
  },
  {
   "cell_type": "markdown",
   "id": "a68120dd",
   "metadata": {},
   "source": [
    "<div class=\"alert alert-info\">\n",
    "\n",
    "<b>REMEMBER</b>:\n",
    "\n",
    " <ul>\n",
    "  <li>There is a shortcut function for a <code>pivot_table</code> with a <code>aggfunc='count'</code> as aggregation: <code>crosstab</code></li>\n",
    "</ul>\n",
    "</div>"
   ]
  },
  {
   "cell_type": "code",
   "execution_count": null,
   "id": "b9cf345c",
   "metadata": {},
   "outputs": [],
   "source": [
    "pd.crosstab(index=df['Sex'], columns=df['Pclass'])"
   ]
  },
  {
   "cell_type": "markdown",
   "id": "20524f03-4971-465f-b610-73c39a89be49",
   "metadata": {},
   "source": [
    "## Exercises"
   ]
  },
  {
   "cell_type": "markdown",
   "id": "5916201b",
   "metadata": {
    "clear_cell": false
   },
   "source": [
    "<div class=\"alert alert-success\">\n",
    "\n",
    "<b>EXERCISE 5</b>:\n",
    "\n",
    " <ul>\n",
    "  <li>Make a pivot table with the survival rates for Pclass vs Sex.</li>\n",
    "</ul>\n",
    "</div>"
   ]
  },
  {
   "cell_type": "code",
   "execution_count": null,
   "id": "f1c056b4",
   "metadata": {
    "tags": [
     "nbtutor-solution"
    ]
   },
   "outputs": [],
   "source": [
    "# %load _solutions/pandas_08_reshaping_data7.py"
   ]
  },
  {
   "cell_type": "code",
   "execution_count": null,
   "id": "d2137b87",
   "metadata": {
    "tags": [
     "nbtutor-solution"
    ]
   },
   "outputs": [],
   "source": [
    "# %load _solutions/pandas_08_reshaping_data8.py"
   ]
  },
  {
   "cell_type": "markdown",
   "id": "fc08704b",
   "metadata": {
    "clear_cell": false
   },
   "source": [
    "<div class=\"alert alert-success\">\n",
    "\n",
    "<b>EXERCISE 6</b>:\n",
    "\n",
    " <ul>\n",
    "  <li>Make a table of the median Fare payed by aged/underaged vs Sex.</li>\n",
    "</ul>\n",
    "</div>"
   ]
  },
  {
   "cell_type": "code",
   "execution_count": null,
   "id": "a369f84c",
   "metadata": {
    "tags": [
     "nbtutor-solution"
    ]
   },
   "outputs": [],
   "source": [
    "# %load _solutions/pandas_08_reshaping_data9.py"
   ]
  },
  {
   "cell_type": "code",
   "execution_count": null,
   "id": "a32d5f69",
   "metadata": {
    "tags": [
     "nbtutor-solution"
    ]
   },
   "outputs": [],
   "source": [
    "# %load _solutions/pandas_08_reshaping_data10.py"
   ]
  },
  {
   "cell_type": "markdown",
   "id": "3b22ea9d-4251-4b9a-baed-81649750fd7a",
   "metadata": {},
   "source": [
    "<div class=\"alert alert-success\">\n",
    "\n",
    "**EXERCISE 7**:\n",
    "\n",
    "A pivot table aggregates values for each combination of the new row index and column values. That reminds of the \"groupby\" operation.\n",
    "    \n",
    "Can you mimick the pivot table of the first exercise (a pivot table with the survival rates for Pclass vs Sex) using `groupby()`?\n",
    "\n",
    "</div>"
   ]
  },
  {
   "cell_type": "code",
   "execution_count": null,
   "id": "258f247e-9439-424f-817f-3cfb5db0b73e",
   "metadata": {
    "tags": [
     "nbtutor-solution"
    ]
   },
   "outputs": [],
   "source": [
    "# %load _solutions/pandas_08_reshaping_data11.py"
   ]
  },
  {
   "cell_type": "code",
   "execution_count": null,
   "id": "212ec793-5ac5-41e5-bd00-6d38783a7aea",
   "metadata": {
    "tags": [
     "nbtutor-solution"
    ]
   },
   "outputs": [],
   "source": [
    "# %load _solutions/pandas_08_reshaping_data12.py"
   ]
  },
  {
   "cell_type": "markdown",
   "id": "5b2c8ee2",
   "metadata": {},
   "source": [
    "# Reshaping with `stack` and `unstack`"
   ]
  },
  {
   "cell_type": "markdown",
   "id": "657c8b41",
   "metadata": {},
   "source": [
    "The docs say:\n",
    "\n",
    "> Pivot a level of the (possibly hierarchical) column labels, returning a\n",
    "DataFrame (or Series in the case of an object with a single level of\n",
    "column labels) having a hierarchical index with a new inner-most level\n",
    "of row labels.\n",
    "\n",
    "Indeed... \n",
    "<img src=\"../img/pandas/schema-stack.svg\" width=50%>\n",
    "\n",
    "Before we speak about `hierarchical index`, first check it in practice on the following dummy example:"
   ]
  },
  {
   "cell_type": "code",
   "execution_count": null,
   "id": "6d0a76ae",
   "metadata": {},
   "outputs": [],
   "source": [
    "df = pd.DataFrame({'A':['one', 'one', 'two', 'two'], \n",
    "                   'B':['a', 'b', 'a', 'b'], \n",
    "                   'C':range(4)})\n",
    "df"
   ]
  },
  {
   "cell_type": "markdown",
   "id": "570d33f0",
   "metadata": {},
   "source": [
    "To use `stack`/`unstack`, we need the values we want to shift from rows to columns or the other way around as the index:"
   ]
  },
  {
   "cell_type": "code",
   "execution_count": null,
   "id": "8942822d",
   "metadata": {},
   "outputs": [],
   "source": [
    "df = df.set_index(['A', 'B']) # Indeed, you can combine two indices\n",
    "df"
   ]
  },
  {
   "cell_type": "code",
   "execution_count": null,
   "id": "0862a7db",
   "metadata": {},
   "outputs": [],
   "source": [
    "result = df['C'].unstack()\n",
    "result"
   ]
  },
  {
   "cell_type": "code",
   "execution_count": null,
   "id": "c215f8af",
   "metadata": {},
   "outputs": [],
   "source": [
    "df = result.stack().reset_index(name='C')\n",
    "df"
   ]
  },
  {
   "cell_type": "markdown",
   "id": "c4b57a70",
   "metadata": {},
   "source": [
    "<div class=\"alert alert-info\">\n",
    "\n",
    "<b>REMEMBER</b>:\n",
    "\n",
    " <ul>\n",
    "  <li><b>stack</b>: make your data <i>longer</i> and <i>smaller</i> </li>\n",
    "  <li><b>unstack</b>: make your data <i>shorter</i> and <i>wider</i> </li>\n",
    "</ul>\n",
    "</div>"
   ]
  },
  {
   "cell_type": "markdown",
   "id": "6b10d7b3",
   "metadata": {},
   "source": [
    "## Mimick pivot table"
   ]
  },
  {
   "cell_type": "markdown",
   "id": "0d836b8f",
   "metadata": {},
   "source": [
    "To better understand and reason about pivot tables, we can express this method as a combination of more basic steps. In short, the pivot is a convenient way of expressing the combination of a `groupby` and `stack/unstack`."
   ]
  },
  {
   "cell_type": "code",
   "execution_count": null,
   "id": "bd77bcfc",
   "metadata": {},
   "outputs": [],
   "source": [
    "df = pd.read_csv(\"data/titanic.csv\")"
   ]
  },
  {
   "cell_type": "code",
   "execution_count": null,
   "id": "46b68202",
   "metadata": {},
   "outputs": [],
   "source": [
    "df.head()"
   ]
  },
  {
   "cell_type": "markdown",
   "id": "43fe898c-8bf3-4819-ac2a-de07a948cec3",
   "metadata": {},
   "source": [
    "## Exercises"
   ]
  },
  {
   "cell_type": "code",
   "execution_count": null,
   "id": "cecf662e",
   "metadata": {},
   "outputs": [],
   "source": [
    "df.pivot_table(index='Pclass', columns='Sex', \n",
    "               values='Survived', aggfunc='mean')"
   ]
  },
  {
   "cell_type": "markdown",
   "id": "513101a6",
   "metadata": {},
   "source": [
    "<div class=\"alert alert-success\">\n",
    "\n",
    "<b>EXERCISE 8</b>:\n",
    "\n",
    " <ul>\n",
    "  <li>Get the same result as above based on a combination of `groupby` and `unstack`</li>\n",
    "  <li>First use `groupby` to calculate the survival ratio for all groups`unstack`</li>\n",
    "  <li>Then, use `unstack` to reshape the output of the groupby operation</li>\n",
    "</ul>\n",
    "</div>"
   ]
  },
  {
   "cell_type": "code",
   "execution_count": null,
   "id": "0fee61fb",
   "metadata": {
    "tags": [
     "nbtutor-solution"
    ]
   },
   "outputs": [],
   "source": [
    "# %load _solutions/pandas_08_reshaping_data13.py"
   ]
  },
  {
   "cell_type": "markdown",
   "id": "5ef0f498",
   "metadata": {},
   "source": [
    "# [OPTIONAL] Exercises: use the reshaping methods with the movie data"
   ]
  },
  {
   "cell_type": "markdown",
   "id": "45ce16c2",
   "metadata": {},
   "source": [
    "These exercises are based on the [PyCon tutorial of Brandon Rhodes](https://github.com/brandon-rhodes/pycon-pandas-tutorial/) (so credit to him!) and the datasets he prepared for that. You can download these data from here: [titles.csv](https://course-python-data.s3.eu-central-1.amazonaws.com/titles.csv) and [cast.csv](https://course-python-data.s3.eu-central-1.amazonaws.com/cast.csv) and put them in the `/notebooks/data` folder."
   ]
  },
  {
   "cell_type": "code",
   "execution_count": null,
   "id": "255ff480",
   "metadata": {},
   "outputs": [],
   "source": [
    "cast = pd.read_csv('data/cast.csv')\n",
    "cast.head()"
   ]
  },
  {
   "cell_type": "code",
   "execution_count": null,
   "id": "0a6b5757",
   "metadata": {},
   "outputs": [],
   "source": [
    "titles = pd.read_csv('data/titles.csv')\n",
    "titles.head()"
   ]
  },
  {
   "cell_type": "markdown",
   "id": "f34562cb",
   "metadata": {},
   "source": [
    "<div class=\"alert alert-success\">\n",
    "\n",
    "<b>EXERCISE 9</b>:\n",
    "\n",
    " <ul>\n",
    "  <li>Plot the number of actor roles each year and the number of actress roles each year over the whole period of available movie data.</li>\n",
    "</ul>\n",
    "</div>"
   ]
  },
  {
   "cell_type": "code",
   "execution_count": null,
   "id": "97cd998b",
   "metadata": {
    "tags": [
     "nbtutor-solution"
    ]
   },
   "outputs": [],
   "source": [
    "# %load _solutions/pandas_08_reshaping_data14.py"
   ]
  },
  {
   "cell_type": "code",
   "execution_count": null,
   "id": "165b1114",
   "metadata": {
    "tags": [
     "nbtutor-solution"
    ]
   },
   "outputs": [],
   "source": [
    "# %load _solutions/pandas_08_reshaping_data15.py"
   ]
  },
  {
   "cell_type": "code",
   "execution_count": null,
   "id": "831a9220",
   "metadata": {
    "tags": [
     "nbtutor-solution"
    ]
   },
   "outputs": [],
   "source": [
    "# %load _solutions/pandas_08_reshaping_data16.py"
   ]
  },
  {
   "cell_type": "markdown",
   "id": "581b3d08",
   "metadata": {},
   "source": [
    "<div class=\"alert alert-success\">\n",
    "\n",
    "<b>EXERCISE 10</b>:\n",
    "\n",
    " <ul>\n",
    "  <li>Plot the number of actor roles each year and the number of actress roles each year. Use kind='area' as plot type</li>\n",
    "</ul>\n",
    "</div>"
   ]
  },
  {
   "cell_type": "code",
   "execution_count": null,
   "id": "6426434f",
   "metadata": {
    "tags": [
     "nbtutor-solution"
    ]
   },
   "outputs": [],
   "source": [
    "# %load _solutions/pandas_08_reshaping_data17.py"
   ]
  },
  {
   "cell_type": "markdown",
   "id": "44a3b20b",
   "metadata": {},
   "source": [
    "<div class=\"alert alert-success\">\n",
    "\n",
    "<b>EXERCISE 11</b>:\n",
    "\n",
    " <ul>\n",
    "  <li>Plot the fraction of roles that have been 'actor' roles each year over the whole period of available movie data.</li>\n",
    "</ul>\n",
    "</div>"
   ]
  },
  {
   "cell_type": "code",
   "execution_count": null,
   "id": "391718f5",
   "metadata": {
    "tags": [
     "nbtutor-solution"
    ]
   },
   "outputs": [],
   "source": [
    "# %load _solutions/pandas_08_reshaping_data18.py"
   ]
  },
  {
   "cell_type": "markdown",
   "id": "f51ca3d3",
   "metadata": {},
   "source": [
    "<div class=\"alert alert-success\">\n",
    "\n",
    "<b>EXERCISE 12</b>:\n",
    "\n",
    " <ul>\n",
    "  <li>Define a year as a \"Superman year\" when films of that year feature more Superman characters than Batman characters. How many years in film history have been Superman years?</li>\n",
    "</ul>\n",
    "</div>"
   ]
  },
  {
   "cell_type": "code",
   "execution_count": null,
   "id": "d49401d5",
   "metadata": {
    "tags": [
     "nbtutor-solution"
    ]
   },
   "outputs": [],
   "source": [
    "# %load _solutions/pandas_08_reshaping_data19.py"
   ]
  },
  {
   "cell_type": "code",
   "execution_count": null,
   "id": "8c75667b",
   "metadata": {
    "tags": [
     "nbtutor-solution"
    ]
   },
   "outputs": [],
   "source": [
    "# %load _solutions/pandas_08_reshaping_data20.py"
   ]
  }
 ],
 "metadata": {
  "jupytext": {
   "formats": "ipynb,md:myst"
  },
  "kernelspec": {
   "display_name": "Python 3 (ipykernel)",
   "language": "python",
   "name": "python3"
  },
  "language_info": {
   "codemirror_mode": {
    "name": "ipython",
    "version": 3
   },
   "file_extension": ".py",
   "mimetype": "text/x-python",
   "name": "python",
   "nbconvert_exporter": "python",
   "pygments_lexer": "ipython3",
   "version": "3.11.7"
  },
  "widgets": {
   "application/vnd.jupyter.widget-state+json": {
    "state": {},
    "version_major": 2,
    "version_minor": 0
   }
  }
 },
 "nbformat": 4,
 "nbformat_minor": 5
}
