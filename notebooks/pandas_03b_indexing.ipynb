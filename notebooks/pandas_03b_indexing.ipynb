{
 "cells": [
  {
   "cell_type": "markdown",
   "id": "54b214e6",
   "metadata": {},
   "source": [
    "<p><font size=\"6\"><b>03 - Pandas: Indexing and selecting data - part II</b></font></p>\n",
    "\n",
    "> *© 2021, Joris Van den Bossche and Stijn Van Hoey  (<mailto:jorisvandenbossche@gmail.com>, <mailto:stijnvanhoey@gmail.com>). Licensed under [CC BY 4.0 Creative Commons](http://creativecommons.org/licenses/by/4.0/)*\n",
    "\n",
    "---"
   ]
  },
  {
   "cell_type": "code",
   "execution_count": null,
   "id": "a07d573c",
   "metadata": {},
   "outputs": [],
   "source": [
    "import pandas as pd"
   ]
  },
  {
   "cell_type": "code",
   "execution_count": null,
   "id": "275d90de",
   "metadata": {},
   "outputs": [],
   "source": [
    "# redefining the example dataframe\n",
    "\n",
    "data = {'country': ['Belgium', 'France', 'Germany', 'Netherlands', 'United Kingdom'],\n",
    "        'population': [11.3, 64.3, 81.3, 16.9, 64.9],\n",
    "        'area': [30510, 671308, 357050, 41526, 244820],\n",
    "        'capital': ['Brussels', 'Paris', 'Berlin', 'Amsterdam', 'London']}\n",
    "countries = pd.DataFrame(data)\n",
    "countries"
   ]
  },
  {
   "cell_type": "markdown",
   "id": "f6ae82d6",
   "metadata": {},
   "source": [
    "<div class=\"alert alert-info\" style=\"font-size:120%\">\n",
    "<b>REMEMBER</b>: <br><br>\n",
    "\n",
    "So as a summary, `[]` provides the following convenience shortcuts:\n",
    "\n",
    "* **Series**: selecting a **label**: `s[label]`\n",
    "* **DataFrame**: selecting a single or multiple **columns**:`df['col']` or `df[['col1', 'col2']]`\n",
    "* **DataFrame**: slicing or filtering the **rows**: `df['row_label1':'row_label2']` or `df[mask]`\n",
    "\n",
    "</div>"
   ]
  },
  {
   "cell_type": "markdown",
   "id": "9205d4b6",
   "metadata": {},
   "source": [
    "# Changing the DataFrame index"
   ]
  },
  {
   "cell_type": "markdown",
   "id": "d9c00d80",
   "metadata": {},
   "source": [
    "We have mostly worked with DataFrames with the default *0, 1, 2, ... N* row labels (except for the time series data). But, we can also set one of the columns as the index.\n",
    "\n",
    "Setting the index to the country names:"
   ]
  },
  {
   "cell_type": "code",
   "execution_count": null,
   "id": "5c7b135c",
   "metadata": {},
   "outputs": [],
   "source": [
    "countries = countries.set_index('country')\n",
    "countries"
   ]
  },
  {
   "cell_type": "markdown",
   "id": "8b4b6b59",
   "metadata": {},
   "source": [
    "Reversing this operation, is `reset_index`:"
   ]
  },
  {
   "cell_type": "code",
   "execution_count": null,
   "id": "2a593e16",
   "metadata": {},
   "outputs": [],
   "source": [
    "countries.reset_index('country')"
   ]
  },
  {
   "cell_type": "markdown",
   "id": "13c20e8b",
   "metadata": {},
   "source": [
    "# Selecting data based on the index"
   ]
  },
  {
   "cell_type": "markdown",
   "id": "76ab984f",
   "metadata": {},
   "source": [
    "<div class=\"alert alert-warning\" style=\"font-size:120%\">\n",
    "<b>ATTENTION!</b>: <br><br>\n",
    "\n",
    "One of pandas' basic features is the labeling of rows and columns, but this makes indexing also a bit more complex compared to numpy. <br><br> We now have to distuinguish between:\n",
    "\n",
    "* selection by **label** (using the row and column names)\n",
    "* selection by **position** (using integers)\n",
    "\n",
    "</div>"
   ]
  },
  {
   "cell_type": "markdown",
   "id": "d0ba8e8e",
   "metadata": {},
   "source": [
    "## Systematic indexing with `loc` and `iloc`"
   ]
  },
  {
   "cell_type": "markdown",
   "id": "e35e343e",
   "metadata": {},
   "source": [
    "When using `[]` like above, you can only select from one axis at once (rows or columns, not both). For more advanced indexing, you have some extra attributes:\n",
    "    \n",
    "* `loc`: selection by label\n",
    "* `iloc`: selection by position\n",
    "\n",
    "Both `loc` and `iloc` use the following pattern: `df.loc[ <selection of the rows> , <selection of the columns> ]`.\n",
    "\n",
    "This 'selection of the rows / columns' can be: a single label, a list of labels, a slice or a boolean mask."
   ]
  },
  {
   "cell_type": "markdown",
   "id": "c785081a",
   "metadata": {},
   "source": [
    "Selecting a single element:"
   ]
  },
  {
   "cell_type": "code",
   "execution_count": null,
   "id": "add8d89a",
   "metadata": {},
   "outputs": [],
   "source": [
    "countries.loc['Germany', 'area']"
   ]
  },
  {
   "cell_type": "markdown",
   "id": "0c188a79",
   "metadata": {},
   "source": [
    "But the row or column indexer can also be a list, slice, boolean array (see next section), .."
   ]
  },
  {
   "cell_type": "code",
   "execution_count": null,
   "id": "c7f2b800",
   "metadata": {},
   "outputs": [],
   "source": [
    "countries.loc['France':'Germany', ['area', 'population']]"
   ]
  },
  {
   "cell_type": "markdown",
   "id": "63439fc0",
   "metadata": {},
   "source": [
    "<div class=\"alert alert-danger\">\n",
    "<b>NOTE</b>:\n",
    "\n",
    "* Unlike slicing in numpy, the end label is **included**!\n",
    "\n",
    "</div>"
   ]
  },
  {
   "cell_type": "markdown",
   "id": "bb063cc5",
   "metadata": {},
   "source": [
    "---\n",
    "Selecting by position with `iloc` works similar as **indexing numpy arrays**:"
   ]
  },
  {
   "cell_type": "code",
   "execution_count": null,
   "id": "8c38b8cf",
   "metadata": {},
   "outputs": [],
   "source": [
    "countries.iloc[0:2,1:3]"
   ]
  },
  {
   "cell_type": "markdown",
   "id": "72a0e338",
   "metadata": {},
   "source": [
    "---\n",
    "\n",
    "The different indexing methods can also be used to **assign data**:"
   ]
  },
  {
   "cell_type": "code",
   "execution_count": null,
   "id": "689ce562",
   "metadata": {},
   "outputs": [],
   "source": [
    "countries2 = countries.copy()\n",
    "countries2.loc['Belgium':'Germany', 'population'] = 10"
   ]
  },
  {
   "cell_type": "code",
   "execution_count": null,
   "id": "bdee6f54",
   "metadata": {},
   "outputs": [],
   "source": [
    "countries2"
   ]
  },
  {
   "cell_type": "markdown",
   "id": "7fb7f883",
   "metadata": {},
   "source": [
    "<div class=\"alert alert-info\" style=\"font-size:120%\">\n",
    "<b>REMEMBER</b>: <br><br>\n",
    "\n",
    "Advanced indexing with **loc** and **iloc**\n",
    "\n",
    "* **loc**: select by label: `df.loc[row_indexer, column_indexer]`\n",
    "* **iloc**: select by position: `df.iloc[row_indexer, column_indexer]`\n",
    "\n",
    "</div>"
   ]
  },
  {
   "cell_type": "markdown",
   "id": "b2466d81",
   "metadata": {},
   "source": [
    "<div class=\"alert alert-success\">\n",
    "<b>EXERCISE 1</b>:\n",
    "\n",
    "<p>\n",
    "<ul>\n",
    "    <li>Add the population density as column to the DataFrame.</li>\n",
    "</ul>\n",
    "</p>\n",
    "Note: the population column is expressed in millions.\n",
    "</div>"
   ]
  },
  {
   "cell_type": "code",
   "execution_count": null,
   "id": "e86eb675",
   "metadata": {
    "tags": [
     "nbtutor-solution"
    ]
   },
   "outputs": [],
   "source": [
    "# %load _solutions/pandas_03b_indexing1.py"
   ]
  },
  {
   "cell_type": "markdown",
   "id": "f9547839",
   "metadata": {},
   "source": [
    "<div class=\"alert alert-success\">\n",
    "<b>EXERCISE 2</b>:\n",
    "\n",
    " <ul>\n",
    "  <li>Select the capital and the population column of those countries where the density is larger than 300</li>\n",
    "</ul>\n",
    "</div>"
   ]
  },
  {
   "cell_type": "code",
   "execution_count": null,
   "id": "2ea77b99",
   "metadata": {
    "tags": [
     "nbtutor-solution"
    ]
   },
   "outputs": [],
   "source": [
    "# %load _solutions/pandas_03b_indexing2.py"
   ]
  },
  {
   "cell_type": "markdown",
   "id": "e99693dd",
   "metadata": {},
   "source": [
    "<div class=\"alert alert-success\">\n",
    "\n",
    "<b>EXERCISE 3</b>:\n",
    "\n",
    " <ul>\n",
    "  <li>Add a column 'density_ratio' with the ratio of the population density to the average population density for all countries.</li>\n",
    "</ul>\n",
    "</div>"
   ]
  },
  {
   "cell_type": "code",
   "execution_count": null,
   "id": "d26f9a2d",
   "metadata": {
    "tags": [
     "nbtutor-solution"
    ]
   },
   "outputs": [],
   "source": [
    "# %load _solutions/pandas_03b_indexing3.py"
   ]
  },
  {
   "cell_type": "markdown",
   "id": "a62591f6",
   "metadata": {},
   "source": [
    "<div class=\"alert alert-success\">\n",
    "\n",
    "<b>EXERCISE 4</b>:\n",
    "\n",
    " <ul>\n",
    "  <li>Change the capital of the UK to Cambridge</li>\n",
    "</ul>\n",
    "</div>"
   ]
  },
  {
   "cell_type": "code",
   "execution_count": null,
   "id": "35eea480",
   "metadata": {
    "tags": [
     "nbtutor-solution"
    ]
   },
   "outputs": [],
   "source": [
    "# %load _solutions/pandas_03b_indexing4.py"
   ]
  },
  {
   "cell_type": "markdown",
   "id": "7194e5c8",
   "metadata": {},
   "source": [
    "<div class=\"alert alert-success\">\n",
    "<b>EXERCISE 5</b>:\n",
    "\n",
    " <ul>\n",
    "  <li>Select all countries whose population density is between 100 and 300 people/km²</li>\n",
    "</ul>\n",
    "</div>"
   ]
  },
  {
   "cell_type": "code",
   "execution_count": null,
   "id": "d2dc714d",
   "metadata": {
    "tags": [
     "nbtutor-solution"
    ]
   },
   "outputs": [],
   "source": [
    "# %load _solutions/pandas_03b_indexing5.py"
   ]
  },
  {
   "cell_type": "markdown",
   "id": "b90acfd6",
   "metadata": {},
   "source": [
    "The next exercise uses the titanic data set:"
   ]
  },
  {
   "cell_type": "code",
   "execution_count": null,
   "id": "ddfcaa02",
   "metadata": {},
   "outputs": [],
   "source": [
    "df = pd.read_csv(\"data/titanic.csv\")"
   ]
  },
  {
   "cell_type": "code",
   "execution_count": null,
   "id": "87877ee1",
   "metadata": {},
   "outputs": [],
   "source": [
    "df.head()"
   ]
  },
  {
   "cell_type": "markdown",
   "id": "4e9e8655",
   "metadata": {},
   "source": [
    "<div class=\"alert alert-success\">\n",
    "\n",
    "<b>EXERCISE 6</b>:\n",
    "\n",
    "* Select all rows for male passengers and calculate the mean age of those passengers. Do the same for the female passengers. Do this now using `.loc`.\n",
    "\n",
    "</div>"
   ]
  },
  {
   "cell_type": "code",
   "execution_count": null,
   "id": "9a55e2ce",
   "metadata": {
    "tags": [
     "nbtutor-solution"
    ]
   },
   "outputs": [],
   "source": [
    "# %load _solutions/pandas_03b_indexing6.py"
   ]
  },
  {
   "cell_type": "code",
   "execution_count": null,
   "id": "a351c467",
   "metadata": {
    "tags": [
     "nbtutor-solution"
    ]
   },
   "outputs": [],
   "source": [
    "# %load _solutions/pandas_03b_indexing7.py"
   ]
  },
  {
   "cell_type": "markdown",
   "id": "31d49399",
   "metadata": {},
   "source": [
    "We will later see an easier way to calculate both averages at the same time with `groupby`."
   ]
  },
  {
   "cell_type": "markdown",
   "id": "7f26d7b3",
   "metadata": {},
   "source": [
    "# Alignment on the index"
   ]
  },
  {
   "cell_type": "markdown",
   "id": "7362df94",
   "metadata": {},
   "source": [
    "<div class=\"alert alert-danger\">\n",
    "\n",
    "**WARNING**: **Alignment!** (unlike numpy)\n",
    "\n",
    "* Pay attention to **alignment**: operations between series will align on the index:\n",
    "\n",
    "</div>"
   ]
  },
  {
   "cell_type": "code",
   "execution_count": null,
   "id": "d02f0665",
   "metadata": {},
   "outputs": [],
   "source": [
    "population = countries['population']\n",
    "s1 = population[['Belgium', 'France']]\n",
    "s2 = population[['France', 'Germany']]"
   ]
  },
  {
   "cell_type": "code",
   "execution_count": null,
   "id": "6a216d4a",
   "metadata": {},
   "outputs": [],
   "source": [
    "s1"
   ]
  },
  {
   "cell_type": "code",
   "execution_count": null,
   "id": "837a0fef",
   "metadata": {},
   "outputs": [],
   "source": [
    "s2"
   ]
  },
  {
   "cell_type": "code",
   "execution_count": null,
   "id": "78173fb8",
   "metadata": {},
   "outputs": [],
   "source": [
    "s1 + s2"
   ]
  },
  {
   "cell_type": "markdown",
   "id": "57c7f8ae",
   "metadata": {},
   "source": [
    "# Pitfall: chained indexing (and the 'SettingWithCopyWarning')"
   ]
  },
  {
   "cell_type": "code",
   "execution_count": null,
   "id": "06da6f6b",
   "metadata": {},
   "outputs": [],
   "source": [
    "df = countries.copy()"
   ]
  },
  {
   "cell_type": "markdown",
   "id": "b02e7ea5",
   "metadata": {},
   "source": [
    "When updating values in a DataFrame, you can run into the infamous \"SettingWithCopyWarning\" and issues with chained indexing.\n",
    "\n",
    "Assume we want to cap the population and replace all values above 50 with 50. We can do this using the basic `[]` indexing operation twice (\"chained indexing\"):"
   ]
  },
  {
   "cell_type": "code",
   "execution_count": null,
   "id": "c3446297",
   "metadata": {},
   "outputs": [],
   "source": [
    "df[df['population'] > 50]['population'] = 50"
   ]
  },
  {
   "cell_type": "markdown",
   "id": "e1497285",
   "metadata": {},
   "source": [
    "However, we get a warning, and we can also see that the original dataframe did not change:"
   ]
  },
  {
   "cell_type": "code",
   "execution_count": null,
   "id": "1370c248",
   "metadata": {},
   "outputs": [],
   "source": [
    "df"
   ]
  },
  {
   "cell_type": "markdown",
   "id": "cf55f4be",
   "metadata": {},
   "source": [
    "The warning message explains that we should use `.loc[row_indexer,col_indexer] = value` instead. That is what we just learned in this notebook, so we can do:"
   ]
  },
  {
   "cell_type": "code",
   "execution_count": null,
   "id": "7567f072",
   "metadata": {},
   "outputs": [],
   "source": [
    "df.loc[df['population'] > 50, 'population'] = 50"
   ]
  },
  {
   "cell_type": "markdown",
   "id": "f73652d7",
   "metadata": {},
   "source": [
    "And now the dataframe actually changed:"
   ]
  },
  {
   "cell_type": "code",
   "execution_count": null,
   "id": "2734c7d0",
   "metadata": {},
   "outputs": [],
   "source": [
    "df"
   ]
  },
  {
   "cell_type": "markdown",
   "id": "8db64f33",
   "metadata": {},
   "source": [
    "To explain *why* the original `df[df['population'] > 50]['population'] = 50` didn't work, we can do the \"chained indexing\" in two explicit steps:"
   ]
  },
  {
   "cell_type": "code",
   "execution_count": null,
   "id": "1c25cd02",
   "metadata": {},
   "outputs": [],
   "source": [
    "temp = df[df['population'] > 50]\n",
    "temp['population'] = 50"
   ]
  },
  {
   "cell_type": "markdown",
   "id": "32115a4b",
   "metadata": {},
   "source": [
    "For Python, there is no real difference between the one-liner or this two-liner. And when writing it as two lines, you can see we make a temporary, filtered dataframe (called `temp` above). So here, with `temp['population'] = 50`, we are actually updating `temp` but not the original `df`."
   ]
  },
  {
   "cell_type": "markdown",
   "id": "45f00fa7",
   "metadata": {},
   "source": [
    "<div class=\"alert alert-info\" style=\"font-size:120%\">\n",
    "\n",
    "<b>REMEMBER!</b><br><br>\n",
    "\n",
    "What to do when encountering the *value is trying to be set on a copy of a slice from a DataFrame* error?\n",
    "\n",
    "* Use `loc` instead of chained indexing **if possible**!\n",
    "* Or `copy` explicitly if you don't want to change the original data.\n",
    "\n",
    "</div>"
   ]
  }
 ],
 "metadata": {
  "jupytext": {
   "formats": "ipynb,md:myst"
  },
  "kernelspec": {
   "display_name": "Python 3",
   "language": "python",
   "name": "python3"
  },
  "language_info": {
   "codemirror_mode": {
    "name": "ipython",
    "version": 3
   },
   "file_extension": ".py",
   "mimetype": "text/x-python",
   "name": "python",
   "nbconvert_exporter": "python",
   "pygments_lexer": "ipython3",
   "version": "3.8.10"
  },
  "widgets": {
   "application/vnd.jupyter.widget-state+json": {
    "state": {},
    "version_major": 2,
    "version_minor": 0
   }
  }
 },
 "nbformat": 4,
 "nbformat_minor": 5
}
