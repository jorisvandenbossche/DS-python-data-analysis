{
 "cells": [
  {
   "cell_type": "markdown",
   "metadata": {},
   "source": [
    "<p><font size=\"6\"><b>Plotnine: Introduction </b></font></p>\n",
    "\n",
    "\n",
    "> *DS Data manipulation, analysis and visualisation in Python*  \n",
    "> *December, 2017*\n",
    "\n",
    "> *© 2016, Joris Van den Bossche and Stijn Van Hoey  (<mailto:jorisvandenbossche@gmail.com>, <mailto:stijnvanhoey@gmail.com>). Licensed under [CC BY 4.0 Creative Commons](http://creativecommons.org/licenses/by/4.0/)*\n",
    "\n",
    "---\n"
   ]
  },
  {
   "cell_type": "code",
   "execution_count": null,
   "metadata": {
    "run_control": {
     "frozen": false,
     "read_only": false
    }
   },
   "outputs": [],
   "source": [
    "%matplotlib inline\n",
    "\n",
    "import pandas as pd"
   ]
  },
  {
   "cell_type": "markdown",
   "metadata": {
    "collapsed": true
   },
   "source": [
    "# Plotnine\n",
    "\n",
    "http://plotnine.readthedocs.io/en/stable/"
   ]
  },
  {
   "cell_type": "markdown",
   "metadata": {
    "collapsed": true,
    "run_control": {
     "frozen": false,
     "read_only": false
    }
   },
   "source": [
    "* Built on top of Matplotlib, but providing\n",
    "    1. High level functions\n",
    "    2. Implementation of the [Grammar of Graphics](https://www.amazon.com/Grammar-Graphics-Statistics-Computing/dp/0387245448), which became famous due to the `ggplot2` R package \n",
    "    3. The syntax is highly similar to the `ggplot2` R package\n",
    "* Works well with Pandas"
   ]
  },
  {
   "cell_type": "code",
   "execution_count": null,
   "metadata": {
    "run_control": {
     "frozen": false,
     "read_only": false
    }
   },
   "outputs": [],
   "source": [
    "import plotnine as pn"
   ]
  },
  {
   "cell_type": "markdown",
   "metadata": {},
   "source": [
    "## Introduction"
   ]
  },
  {
   "cell_type": "markdown",
   "metadata": {},
   "source": [
    "We will use the Titanic example data set:"
   ]
  },
  {
   "cell_type": "code",
   "execution_count": null,
   "metadata": {},
   "outputs": [],
   "source": [
    "titanic = pd.read_csv('../data/titanic.csv')"
   ]
  },
  {
   "cell_type": "code",
   "execution_count": null,
   "metadata": {},
   "outputs": [],
   "source": [
    "titanic.head()"
   ]
  },
  {
   "cell_type": "markdown",
   "metadata": {},
   "source": [
    "Let's consider following question:\n",
    ">*For each class at the Titanic, how many people survived and how many died?*"
   ]
  },
  {
   "cell_type": "markdown",
   "metadata": {},
   "source": [
    "Hence, we should define the *size* of respectively the zeros (died) and ones (survived) groups of column `Survived`, also grouped by the `Pclass`. In Pandas terminology:"
   ]
  },
  {
   "cell_type": "code",
   "execution_count": null,
   "metadata": {},
   "outputs": [],
   "source": [
    "survived_stat = titanic.groupby([\"Pclass\", \"Survived\"]).size().rename('count').reset_index()\n",
    "survived_stat\n",
    "# Remark: the `rename` syntax is to provide the count column a column name "
   ]
  },
  {
   "cell_type": "markdown",
   "metadata": {},
   "source": [
    "Providing this data in a bar chart with pure Pandas is still partly supported (e.g. the `by` option in the plot):"
   ]
  },
  {
   "cell_type": "code",
   "execution_count": null,
   "metadata": {},
   "outputs": [],
   "source": [
    "survived_stat.plot(x='Survived', y='count', kind='bar', by='Pclass')\n",
    "## A possible other way of plotting this could be using groupby again:   \n",
    "# survived_stat.groupby('Pclass').plot(x='Survived', y='count', kind='bar') # (try yourself by uncommenting)"
   ]
  },
  {
   "cell_type": "markdown",
   "metadata": {},
   "source": [
    "but with mixed results..."
   ]
  },
  {
   "cell_type": "markdown",
   "metadata": {},
   "source": [
    "Plotting libraries focussing on the **grammar of graphics** are really targeting these *grouped* plots. For example, the plotting of the resulting counts can be expressed in the grammar of graphics:"
   ]
  },
  {
   "cell_type": "code",
   "execution_count": null,
   "metadata": {},
   "outputs": [],
   "source": [
    "(pn.ggplot(survived_stat, \n",
    "           pn.aes(x='Survived', y='count', fill='factor(Survived)'))\n",
    "    + pn.geom_bar(stat='identity', position='dodge')\n",
    "    + pn.facet_wrap(facets='Pclass'))"
   ]
  },
  {
   "cell_type": "markdown",
   "metadata": {},
   "source": [
    "Moreover, these `count` operations are embedded in the typical Grammar of Graphics packages and we can do these operations directly on the original `titanic` data set in a single coding step:"
   ]
  },
  {
   "cell_type": "code",
   "execution_count": null,
   "metadata": {},
   "outputs": [],
   "source": [
    "(pn.ggplot(titanic,\n",
    "           pn.aes(x='Survived', fill='factor(Survived)'))\n",
    "    + pn.geom_bar(stat='count', position='dodge')\n",
    "    + pn.facet_wrap(facets='Pclass'))"
   ]
  },
  {
   "cell_type": "markdown",
   "metadata": {},
   "source": [
    "<div class=\"alert alert-info\">\n",
    "\n",
    " <b>Remember</b>: \n",
    "\n",
    " <ul>\n",
    "    <li>The <b>Grammar of Graphics</b> is especially suitbale for these so-called [`tidy`](http://vita.had.co.nz/papers/tidy-data.pdf) dataframe representations (check [here](#this_is_tidy) for more about `tidy` data)</li>\n",
    "  <li>`plotnine` is a library that supports the Grammar of graphics</li>\n",
    "</ul>\n",
    "<br>\n",
    "\n",
    "</div>"
   ]
  },
  {
   "cell_type": "markdown",
   "metadata": {},
   "source": [
    "## Building a plotnine graph"
   ]
  },
  {
   "cell_type": "markdown",
   "metadata": {},
   "source": [
    "Building plots with plotnine is typically an iterative process. As illustrated in the introduction, a graph is setup by layering different elements on top of each other using the `+` operator. putting everything together in brackets `()` provides Python-compatible syntax."
   ]
  },
  {
   "cell_type": "markdown",
   "metadata": {},
   "source": [
    "#### data"
   ]
  },
  {
   "cell_type": "markdown",
   "metadata": {},
   "source": [
    "* Bind the plot to a specific data frame using the data argument:"
   ]
  },
  {
   "cell_type": "code",
   "execution_count": null,
   "metadata": {},
   "outputs": [],
   "source": [
    "(pn.ggplot(data=titanic))"
   ]
  },
  {
   "cell_type": "markdown",
   "metadata": {},
   "source": [
    "We haven 't defined anything else, so just an empty *figure* is available."
   ]
  },
  {
   "cell_type": "markdown",
   "metadata": {},
   "source": [
    "#### aesthestics"
   ]
  },
  {
   "cell_type": "markdown",
   "metadata": {},
   "source": [
    " \n",
    "* Define aesthetics (**aes**), by **selecting variables** used in the plot and linking them to presentation such as plotting size, shape color, etc. You can interpret this as: **how** the variable will influence the plotted objects/geometries:"
   ]
  },
  {
   "cell_type": "markdown",
   "metadata": {},
   "source": [
    "The most important `aes` are: `x`, `y`, `alpha`, `color`, `colour`, `fill`, `linetype`, `shape`, `size` and `stroke`"
   ]
  },
  {
   "cell_type": "code",
   "execution_count": null,
   "metadata": {},
   "outputs": [],
   "source": [
    "(pn.ggplot(titanic,\n",
    "           pn.aes(x='factor(Pclass)', y='Fare')))"
   ]
  },
  {
   "cell_type": "markdown",
   "metadata": {},
   "source": [
    "#### geometry"
   ]
  },
  {
   "cell_type": "markdown",
   "metadata": {},
   "source": [
    "* Still nothing plotted yet, as we have to define what kind of [**geometry**](http://plotnine.readthedocs.io/en/stable/api.html#geoms) will be used for the plot. The easiest is probably using points:"
   ]
  },
  {
   "cell_type": "code",
   "execution_count": null,
   "metadata": {},
   "outputs": [],
   "source": [
    "(pn.ggplot(titanic,\n",
    "           pn.aes(x='factor(Pclass)', y='Fare'))\n",
    "     + pn.geom_point()\n",
    ") "
   ]
  },
  {
   "cell_type": "markdown",
   "metadata": {},
   "source": [
    "<div class=\"alert alert-success\">\n",
    "\n",
    "<b>EXERCISE</b>:\n",
    "\n",
    " <ul>\n",
    "  <li>Starting from the code of the last figure, adapt the code in such a way that the `Sex` variable defines the **color** of the points in the graph. </li>\n",
    "  <li>As both sex categories overlap, use an alternative geometry, so called `geom_jitter` </li>\n",
    "</ul>\n",
    "</div>"
   ]
  },
  {
   "cell_type": "code",
   "execution_count": null,
   "metadata": {
    "clear_cell": true
   },
   "outputs": [],
   "source": [
    "# %load _solutions/visualization_02_plotnine12.py"
   ]
  },
  {
   "cell_type": "markdown",
   "metadata": {},
   "source": [
    "These are the basic elements to have a graph, but other elements can be added to the graph:"
   ]
  },
  {
   "cell_type": "markdown",
   "metadata": {},
   "source": [
    "#### labels"
   ]
  },
  {
   "cell_type": "markdown",
   "metadata": {},
   "source": [
    "* Change the [**labels**](http://plotnine.readthedocs.io/en/stable/api.html#Labels):"
   ]
  },
  {
   "cell_type": "code",
   "execution_count": null,
   "metadata": {},
   "outputs": [],
   "source": [
    "(pn.ggplot(titanic,\n",
    "           pn.aes(x='factor(Pclass)', y='Fare'))\n",
    "     + pn.geom_point()\n",
    "     + pn.xlab(\"Cabin class\")\n",
    ") "
   ]
  },
  {
   "cell_type": "markdown",
   "metadata": {},
   "source": [
    "#### facets"
   ]
  },
  {
   "cell_type": "markdown",
   "metadata": {},
   "source": [
    "* Use the power of `groupby` and define [**facets**](http://plotnine.readthedocs.io/en/stable/api.html#facets) to group the plot by a grouping variable:"
   ]
  },
  {
   "cell_type": "code",
   "execution_count": null,
   "metadata": {},
   "outputs": [],
   "source": [
    "(pn.ggplot(titanic,\n",
    "           pn.aes(x='factor(Pclass)', y='Fare'))\n",
    "     + pn.geom_point()\n",
    "     + pn.xlab(\"Cabin class\")\n",
    "     + pn.facet_wrap('Sex')#, dir='v')\n",
    ") "
   ]
  },
  {
   "cell_type": "markdown",
   "metadata": {},
   "source": [
    "#### scales"
   ]
  },
  {
   "cell_type": "markdown",
   "metadata": {},
   "source": [
    "* Defining [**scale**](http://plotnine.readthedocs.io/en/stable/api.html#scales) for colors, axes,...\n",
    "\n",
    "For example, a log-version of the y-axis could support the interpretation of the lower numbers:"
   ]
  },
  {
   "cell_type": "code",
   "execution_count": null,
   "metadata": {},
   "outputs": [],
   "source": [
    "(pn.ggplot(titanic,\n",
    "           pn.aes(x='factor(Pclass)', y='Fare'))\n",
    "     + pn.geom_point() \n",
    "     + pn.xlab(\"Cabin class\")\n",
    "     + pn.facet_wrap('Sex')\n",
    "     + pn.scale_y_log10()\n",
    ") "
   ]
  },
  {
   "cell_type": "markdown",
   "metadata": {},
   "source": [
    "#### theme"
   ]
  },
  {
   "cell_type": "markdown",
   "metadata": {},
   "source": [
    "* Changing [**theme **](http://plotnine.readthedocs.io/en/stable/api.html#themes):"
   ]
  },
  {
   "cell_type": "code",
   "execution_count": null,
   "metadata": {},
   "outputs": [],
   "source": [
    "(pn.ggplot(titanic,\n",
    "           pn.aes(x='factor(Pclass)', y='Fare'))\n",
    "     + pn.geom_point() \n",
    "     + pn.xlab(\"Cabin class\")\n",
    "     + pn.facet_wrap('Sex')\n",
    "     + pn.scale_y_log10()\n",
    "     + pn.theme_bw()\n",
    ") "
   ]
  },
  {
   "cell_type": "markdown",
   "metadata": {},
   "source": [
    "or changing specific [theming elements](http://plotnine.readthedocs.io/en/stable/api.html#Themeables), e.g. text size:"
   ]
  },
  {
   "cell_type": "code",
   "execution_count": null,
   "metadata": {},
   "outputs": [],
   "source": [
    "(pn.ggplot(titanic,\n",
    "           pn.aes(x='factor(Pclass)', y='Fare'))\n",
    "     + pn.geom_point() \n",
    "     + pn.xlab(\"Cabin class\")\n",
    "     + pn.facet_wrap('Sex')\n",
    "     + pn.scale_y_log10()\n",
    "     + pn.theme_bw()\n",
    "     + pn.theme(text=pn.element_text(size=14))\n",
    ") "
   ]
  },
  {
   "cell_type": "markdown",
   "metadata": {},
   "source": [
    "#### more..."
   ]
  },
  {
   "cell_type": "markdown",
   "metadata": {},
   "source": [
    "* adding [**statistical derivatives**](http://plotnine.readthedocs.io/en/stable/api.html#stats)\n",
    "* changing the [**plot coordinate**](http://plotnine.readthedocs.io/en/stable/api.html#coordinates) system"
   ]
  },
  {
   "cell_type": "markdown",
   "metadata": {},
   "source": [
    "<div class=\"alert alert-info\">\n",
    "\n",
    " <b>Remember</b>: \n",
    "\n",
    " <ul>\n",
    "    <li>Start with defining your `data`, `aes` variables and a `geometry`</li>\n",
    "  <li>Further extend your plot with `scale_*`, `theme_*`, `xlab/ylab`, `facet_*`</li>\n",
    "</ul>\n",
    "<br>\n",
    "\n",
    "</div>"
   ]
  },
  {
   "cell_type": "markdown",
   "metadata": {},
   "source": [
    "## plotnine is built on top of Matplotlib"
   ]
  },
  {
   "cell_type": "markdown",
   "metadata": {},
   "source": [
    "As plotnine is built on top of Matplotlib, we can still retrieve the matplotlib `figure` object from plotnine for eventual customization:"
   ]
  },
  {
   "cell_type": "code",
   "execution_count": null,
   "metadata": {},
   "outputs": [],
   "source": [
    "myplot = (pn.ggplot(titanic, \n",
    "                    pn.aes(x='factor(Pclass)', y='Fare'))\n",
    "     + pn.geom_point()\n",
    ") "
   ]
  },
  {
   "cell_type": "markdown",
   "metadata": {},
   "source": [
    "The trick is to use the `draw()` function in plotnine:"
   ]
  },
  {
   "cell_type": "code",
   "execution_count": null,
   "metadata": {},
   "outputs": [],
   "source": [
    "my_plt_version = myplot.draw()"
   ]
  },
  {
   "cell_type": "code",
   "execution_count": null,
   "metadata": {},
   "outputs": [],
   "source": [
    "my_plt_version.axes[0].set_title(\"Titanic fare price per cabin class\")\n",
    "ax2 = my_plt_version.add_axes([0.5, 0.5, 0.3, 0.3], label=\"ax2\")\n",
    "my_plt_version"
   ]
  },
  {
   "cell_type": "markdown",
   "metadata": {},
   "source": [
    "<div class=\"alert alert-info\" style=\"font-size:18px\">\n",
    "\n",
    " <b>Remember</b>: \n",
    "\n",
    "Similar to Pandas handling above, we can set up a matplotlib `Figure` wit plotnine. Use `draw()` and the Matplotlib `Figure` is returned.\n",
    "\n",
    "</div>"
   ]
  },
  {
   "cell_type": "markdown",
   "metadata": {},
   "source": [
    "## (OPTIONAL SECTION) Some more plotnine functionalities to remember..."
   ]
  },
  {
   "cell_type": "markdown",
   "metadata": {},
   "source": [
    "**Histogram**: Getting the univariaite distribution of the `Age`"
   ]
  },
  {
   "cell_type": "code",
   "execution_count": null,
   "metadata": {},
   "outputs": [],
   "source": [
    "(pn.ggplot(titanic.dropna(subset=['Age']), pn.aes(x='Age'))\n",
    "     + pn.geom_histogram(bins=30))"
   ]
  },
  {
   "cell_type": "markdown",
   "metadata": {},
   "source": [
    "<div class=\"alert alert-success\">\n",
    "\n",
    "<b>EXERCISE</b>:\n",
    "\n",
    " <ul>\n",
    "  <li>Make a histogram of the age, grouped by the `Sex` of the passengers</li>\n",
    "  <li>Make sure both graphs are underneath each other instead of next to each other to enhance comparison</li>\n",
    "\n",
    "</ul>\n",
    "</div>"
   ]
  },
  {
   "cell_type": "code",
   "execution_count": null,
   "metadata": {
    "clear_cell": true
   },
   "outputs": [],
   "source": [
    "# %load _solutions/visualization_02_plotnine22.py"
   ]
  },
  {
   "cell_type": "markdown",
   "metadata": {},
   "source": [
    "**boxplot/violin plot**: Getting the univariaite distribution of `Age` per `Sex`"
   ]
  },
  {
   "cell_type": "code",
   "execution_count": null,
   "metadata": {},
   "outputs": [],
   "source": [
    "(pn.ggplot(titanic.dropna(subset=['Age']), pn.aes(x='Sex', y='Age'))\n",
    "     + pn.geom_boxplot())"
   ]
  },
  {
   "cell_type": "markdown",
   "metadata": {},
   "source": [
    "Actually, a *violinplot* provides more inside to the distribution:"
   ]
  },
  {
   "cell_type": "code",
   "execution_count": null,
   "metadata": {},
   "outputs": [],
   "source": [
    "(pn.ggplot(titanic.dropna(subset=['Age']), pn.aes(x='Sex', y='Age'))\n",
    "     + pn.geom_violin()\n",
    ")"
   ]
  },
  {
   "cell_type": "markdown",
   "metadata": {},
   "source": [
    "<div class=\"alert alert-success\">\n",
    "\n",
    "<b>EXERCISE</b>:\n",
    "\n",
    " <ul>\n",
    "  <li>Make a violin plot of the Age for each `Sex`</li>\n",
    "  <li>Add `jitter` to the plot to see the actual data points</li>\n",
    "  <li>Adjust the transparency of the jitter dots to improve readability</li>\n",
    "\n",
    "</ul>\n",
    "</div>"
   ]
  },
  {
   "cell_type": "code",
   "execution_count": null,
   "metadata": {
    "clear_cell": true
   },
   "outputs": [],
   "source": [
    "# %load _solutions/visualization_02_plotnine25.py"
   ]
  },
  {
   "cell_type": "markdown",
   "metadata": {},
   "source": [
    "**regressions**"
   ]
  },
  {
   "cell_type": "markdown",
   "metadata": {},
   "source": [
    "plotnine supports a number of statistical functions with the [`geom_smooth` function]:(http://plotnine.readthedocs.io/en/stable/generated/plotnine.stats.stat_smooth.html#plotnine.stats.stat_smooth)\n",
    "\n",
    "The available methods are:\n",
    "```\n",
    "* 'auto'       # Use loess if (n<1000), glm otherwise\n",
    "* 'lm', 'ols'  # Linear Model\n",
    "* 'wls'        # Weighted Linear Model\n",
    "* 'rlm'        # Robust Linear Model\n",
    "* 'glm'        # Generalized linear Model\n",
    "* 'gls'        # Generalized Least Squares\n",
    "* 'lowess'     # Locally Weighted Regression (simple)\n",
    "* 'loess'      # Locally Weighted Regression\n",
    "* 'mavg'       # Moving Average\n",
    "* 'gpr'        # Gaussian Process Regressor\n",
    "```\n",
    "\n",
    "each of these functions are provided by existing Python libraries and integrated in plotnine, so make sure to have these dependencies installed (read the error message!)"
   ]
  },
  {
   "cell_type": "code",
   "execution_count": null,
   "metadata": {},
   "outputs": [],
   "source": [
    "(pn.ggplot(titanic.dropna(subset=['Age', 'Sex', 'Fare']), pn.aes(x='Fare', y='Age', color=\"Sex\"))\n",
    "     + pn.geom_point()\n",
    "     + pn.geom_rug(alpha=0.2)\n",
    "     + pn.geom_smooth(method='lm')\n",
    ")"
   ]
  },
  {
   "cell_type": "code",
   "execution_count": null,
   "metadata": {
    "run_control": {
     "frozen": false,
     "read_only": false
    }
   },
   "outputs": [],
   "source": [
    "(pn.ggplot(titanic.dropna(subset=['Age', 'Sex', 'Fare']), pn.aes(x='Fare', y='Age', color=\"Sex\"))\n",
    "     + pn.geom_point()\n",
    "     + pn.geom_rug(alpha=0.2)\n",
    "     + pn.geom_smooth(method='lm')\n",
    "     + pn.facet_wrap(\"Survived\")\n",
    "     + pn.scale_color_brewer(type=\"qual\")\n",
    ")"
   ]
  },
  {
   "cell_type": "markdown",
   "metadata": {},
   "source": [
    "# Need more plotnine inspiration? "
   ]
  },
  {
   "cell_type": "markdown",
   "metadata": {},
   "source": [
    "<div class=\"alert alert-info\" style=\"font-size:18px\">\n",
    "\n",
    " <b>Remember</b>(!)\n",
    "\n",
    "<ul>\n",
    "  <li>[plotnine gallery ](http://plotnine.readthedocs.io/en/stable/gallery.html) and [great documentation](http://plotnine.readthedocs.io/en/stable/api.html)</li>\n",
    "</ul>\n",
    "<br>\n",
    "Important resources to start from!\n",
    "\n",
    "</div>"
   ]
  },
  {
   "cell_type": "markdown",
   "metadata": {},
   "source": [
    "<a id='this_is_tidy'></a>"
   ]
  },
  {
   "cell_type": "markdown",
   "metadata": {},
   "source": [
    "# What the f* is `tidy`?"
   ]
  },
  {
   "cell_type": "markdown",
   "metadata": {},
   "source": [
    "If you're wondering what *tidy* data representations are, you can read the scientific paper by Hadley Wickham, http://vita.had.co.nz/papers/tidy-data.pdf. \n",
    "\n",
    "Here, we just introduce the main principle very briefly:"
   ]
  },
  {
   "cell_type": "markdown",
   "metadata": {},
   "source": [
    "Compare:\n",
    "\n",
    "#### un-tidy\n",
    "        \n",
    "| WWTP | Treatment A | Treatment B |\n",
    "|:------|-------------|-------------|\n",
    "| Destelbergen | 8.  | 6.3 |\n",
    "| Landegem | 7.5  | 5.2 |\n",
    "| Dendermonde | 8.3  | 6.2 |\n",
    "| Eeklo | 6.5  | 7.2 |\n",
    "\n",
    "*versus*\n",
    "\n",
    "#### tidy\n",
    "\n",
    "| WWTP | Treatment | pH |\n",
    "|:------|:-------------:|:-------------:|\n",
    "| Destelbergen | A  | 8. |\n",
    "| Landegem | A  | 7.5 |\n",
    "| Dendermonde | A  | 8.3 |\n",
    "| Eeklo | A  | 6.5 |\n",
    "| Destelbergen | B  | 6.3 |\n",
    "| Landegem | B  | 5.2 |\n",
    "| Dendermonde | B  | 6.2 |\n",
    "| Eeklo | B  | 7.2 |"
   ]
  },
  {
   "cell_type": "markdown",
   "metadata": {},
   "source": [
    "This is sometimes also referred as *short* versus *long* format for a specific variable... Plotnine (and other grammar of graphics libraries) work better on `tidy` data, as it better supports `groupby`-like transactions!"
   ]
  },
  {
   "cell_type": "markdown",
   "metadata": {},
   "source": [
    "<div class=\"alert alert-info\" style=\"font-size:16px\">\n",
    "\n",
    " <b>Remember:</b>\n",
    " \n",
    " <br><br>\n",
    " \n",
    " A tidy data set is setup as follows:\n",
    " \n",
    "    <ul>\n",
    "      <li>Each <code>variable</code> forms a <b>column</b> and contains <code>values</code></li>\n",
    "      <li>Each <code>observation</code> forms a <b>row</b></li>\n",
    "        <li>Each type of <code>observational unit</code> forms a <b>table</b>.</li>\n",
    "    </ul>\n",
    "</div>\n",
    "\n"
   ]
  }
 ],
 "metadata": {
  "celltoolbar": "Nbtutor - export exercises",
  "kernelspec": {
   "display_name": "Python 3",
   "language": "python",
   "name": "python3"
  },
  "language_info": {
   "codemirror_mode": {
    "name": "ipython",
    "version": 3
   },
   "file_extension": ".py",
   "mimetype": "text/x-python",
   "name": "python",
   "nbconvert_exporter": "python",
   "pygments_lexer": "ipython3",
   "version": "3.6.3"
  },
  "nav_menu": {},
  "toc": {
   "navigate_menu": true,
   "number_sections": true,
   "sideBar": true,
   "threshold": 6,
   "toc_cell": false,
   "toc_section_display": "block",
   "toc_window_display": true
  },
  "toc_position": {
   "height": "860px",
   "left": "0px",
   "right": "1657px",
   "top": "106px",
   "width": "212px"
  }
 },
 "nbformat": 4,
 "nbformat_minor": 1
}
