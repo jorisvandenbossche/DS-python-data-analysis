{
 "cells": [
  {
   "cell_type": "markdown",
   "metadata": {},
   "source": [
    "<p><font size=\"6\"><b>Matplotlib & Seaborn: Introduction </b></font></p>\n",
    "\n",
    "\n",
    "> *DS Data manipulation, analysis and visualisation in Python*  \n",
    "> *December, 2016*\n",
    "\n",
    "> *© 2016, Joris Van den Bossche and Stijn Van Hoey  (<mailto:jorisvandenbossche@gmail.com>, <mailto:stijnvanhoey@gmail.com>). Licensed under [CC BY 4.0 Creative Commons](http://creativecommons.org/licenses/by/4.0/)*\n",
    "\n",
    "---\n"
   ]
  },
  {
   "cell_type": "code",
   "execution_count": null,
   "metadata": {
    "collapsed": true,
    "run_control": {
     "frozen": false,
     "read_only": false
    }
   },
   "outputs": [],
   "source": [
    "%matplotlib inline"
   ]
  },
  {
   "cell_type": "markdown",
   "metadata": {},
   "source": [
    "# Matplotlib"
   ]
  },
  {
   "cell_type": "markdown",
   "metadata": {},
   "source": [
    "[Matplotlib](http://matplotlib.org/) is a Python package used widely throughout the scientific Python community to produce high quality 2D publication graphics. It transparently supports a wide range of output formats including PNG (and other raster formats), PostScript/EPS, PDF and SVG and has interfaces for all of the major desktop GUI (graphical user interface) toolkits. It is a great package with lots of options.\n",
    "\n",
    "However, matplotlib is...\n",
    "\n",
    "> The 800-pound gorilla — and like most 800-pound gorillas, this one should probably be avoided unless you genuinely need its power, e.g., to make a **custom plot** or produce a **publication-ready** graphic.\n",
    "\n",
    "> (As we’ll see, when it comes to statistical visualization, the preferred tack might be: “do as much as you easily can in your convenience layer of choice [nvdr e.g. directly from Pandas, or with seaborn], and then use matplotlib for the rest.”)\n",
    "\n",
    "(quote used from [this](https://dansaber.wordpress.com/2016/10/02/a-dramatic-tour-through-pythons-data-visualization-landscape-including-ggplot-and-altair/) blogpost)\n",
    "\n",
    "And that's we mostly did, just use the `.plot` function of Pandas. So, why do we learn matplotlib? Well, for the *...then use matplotlib for the rest.*; at some point, somehow!\n",
    "\n",
    "Matplotlib comes with a convenience sub-package called ``pyplot`` which, for consistency with the wider matplotlib community, should always be imported as ``plt``:"
   ]
  },
  {
   "cell_type": "code",
   "execution_count": null,
   "metadata": {
    "collapsed": false,
    "run_control": {
     "frozen": false,
     "read_only": false
    }
   },
   "outputs": [],
   "source": [
    "import numpy as np\n",
    "import matplotlib.pyplot as plt"
   ]
  },
  {
   "cell_type": "markdown",
   "metadata": {},
   "source": [
    "## - dry stuff - The matplotlib `Figure`, `axes` and `axis`\n",
    "\n",
    "At the heart of **every** plot is the figure object. The \"Figure\" object is the top level concept which can be drawn to one of the many output formats, or simply just to screen. Any object which can be drawn in this way is known as an \"Artist\" in matplotlib.\n",
    "\n",
    "Lets create our first artist using pyplot, and then show it:"
   ]
  },
  {
   "cell_type": "code",
   "execution_count": null,
   "metadata": {
    "collapsed": false,
    "run_control": {
     "frozen": false,
     "read_only": false
    }
   },
   "outputs": [],
   "source": [
    "fig = plt.figure()\n",
    "plt.show()"
   ]
  },
  {
   "cell_type": "markdown",
   "metadata": {},
   "source": [
    "On its own, drawing the figure artist is uninteresting and will result in an empty piece of paper (that's why we didn't see anything above).\n",
    "\n",
    "By far the most useful artist in matplotlib is the \"Ax**e**s\" artist. The Axes artist represents the \"data space\" of a typical plot, a rectangular axes (the most common, but not always the case, e.g. polar plots) will have 2 (confusingly named) Ax**i**s artists with tick labels and tick marks.\n",
    "\n",
    "There is no limit on the number of Axes artists which can exist on a Figure artist. Let's go ahead and create a figure with a single Axes artist, and show it using pyplot:"
   ]
  },
  {
   "cell_type": "code",
   "execution_count": null,
   "metadata": {
    "collapsed": false,
    "run_control": {
     "frozen": false,
     "read_only": false
    }
   },
   "outputs": [],
   "source": [
    "ax = plt.axes()"
   ]
  },
  {
   "cell_type": "markdown",
   "metadata": {},
   "source": [
    "Matplotlib's ``pyplot`` module makes the process of creating graphics easier by allowing us to skip some of the tedious Artist construction. For example, we did not need to manually create the Figure artist with ``plt.figure`` because it was implicit that we needed a figure when we created the Axes artist.\n",
    "\n",
    "Under the hood matplotlib still had to create a Figure artist, its just we didn't need to capture it into a variable. We can access the created object with the \"state\" functions found in pyplot called **``gcf``** and **``gca``**."
   ]
  },
  {
   "cell_type": "markdown",
   "metadata": {},
   "source": [
    "## - essential stuff - `pyplot` versus Object based"
   ]
  },
  {
   "cell_type": "markdown",
   "metadata": {},
   "source": [
    "Some example data:"
   ]
  },
  {
   "cell_type": "code",
   "execution_count": null,
   "metadata": {
    "collapsed": false,
    "run_control": {
     "frozen": false,
     "read_only": false
    }
   },
   "outputs": [],
   "source": [
    "x = np.linspace(0, 5, 10)\n",
    "y = x ** 2"
   ]
  },
  {
   "cell_type": "markdown",
   "metadata": {},
   "source": [
    "Observe the following difference:"
   ]
  },
  {
   "cell_type": "markdown",
   "metadata": {},
   "source": [
    "**1. pyplot style: plt...** (you will see this a lot for code online!)"
   ]
  },
  {
   "cell_type": "code",
   "execution_count": null,
   "metadata": {
    "collapsed": false,
    "run_control": {
     "frozen": false,
     "read_only": false
    }
   },
   "outputs": [],
   "source": [
    "plt.plot(x, y, '-')"
   ]
  },
  {
   "cell_type": "markdown",
   "metadata": {},
   "source": [
    "**2. creating objects**"
   ]
  },
  {
   "cell_type": "code",
   "execution_count": null,
   "metadata": {
    "collapsed": false,
    "run_control": {
     "frozen": false,
     "read_only": false
    }
   },
   "outputs": [],
   "source": [
    "fig, ax1 = plt.subplots()\n",
    "ax.plot(x, y, '-')"
   ]
  },
  {
   "cell_type": "markdown",
   "metadata": {},
   "source": [
    "Although a little bit more code is involved, the advantage is that we now have **full control** of where the plot axes are placed, and we can easily add more than one axis to the figure:"
   ]
  },
  {
   "cell_type": "code",
   "execution_count": null,
   "metadata": {
    "collapsed": false,
    "run_control": {
     "frozen": false,
     "read_only": false
    }
   },
   "outputs": [],
   "source": [
    "fig, ax1 = plt.subplots()\n",
    "ax.plot(x, y, '-')\n",
    "ax2 = fig.add_axes([0.2, 0.5, 0.4, 0.3]) # inset axes\n",
    "ax1.plot(x, y, '-')\n",
    "ax1.set_ylabel('y')\n",
    "ax2.set_xlabel('x')\n",
    "ax2.plot(x, y*2, 'r-')"
   ]
  },
  {
   "cell_type": "markdown",
   "metadata": {},
   "source": [
    "<div class=\"alert alert-info\" style=\"font-size:18px\">\n",
    "\n",
    "<b>REMEMBER</b>:\n",
    "\n",
    " <ul>\n",
    "  <li>Use the **object oriented** power of Matplotlib!</li>\n",
    "  <li>Get yourself used to writing `fig, ax = plt.subplots()`</li>\n",
    "</ul>\n",
    "</div>"
   ]
  },
  {
   "cell_type": "code",
   "execution_count": null,
   "metadata": {
    "collapsed": false,
    "run_control": {
     "frozen": false,
     "read_only": false
    }
   },
   "outputs": [],
   "source": [
    "fig, ax = plt.subplots()\n",
    "ax.plot(x, y, '-')\n",
    "# ..."
   ]
  },
  {
   "cell_type": "markdown",
   "metadata": {},
   "source": [
    "## An small cheat-sheet reference for some common elements"
   ]
  },
  {
   "cell_type": "code",
   "execution_count": null,
   "metadata": {
    "collapsed": false,
    "run_control": {
     "frozen": false,
     "read_only": false
    }
   },
   "outputs": [],
   "source": [
    "x = np.linspace(-1, 0, 100)\n",
    "\n",
    "fig, ax  = plt.subplots()\n",
    "\n",
    "# Adjust the created axes so that its topmost extent is 0.8 of the figure.\n",
    "fig.subplots_adjust(top=0.8)\n",
    "\n",
    "ax.plot(x, x**2, color='0.4', label=\"power 2\")\n",
    "ax.plot(x, x**3, color='0.8',  linestyle='--', label=\"power 3\")\n",
    "\n",
    "fig.suptitle('Figure title', fontsize=18, \n",
    "             fontweight='bold')\n",
    "ax.set_title('Axes title', fontsize=16)\n",
    "\n",
    "ax.set_xlabel('The X axis')\n",
    "ax.set_ylabel('The Y axis $y=f(x)$', fontsize=16)\n",
    "\n",
    "ax.set_xlim(-1.0, 1.1)\n",
    "ax.set_ylim(-0.1, 1.)\n",
    "\n",
    "ax.text(0.5, 0.2, 'Text centered at (0.5, 0.2)\\nin data coordinates.',\n",
    "        horizontalalignment='center', fontsize=14)\n",
    "\n",
    "ax.text(0.5, 0.5, 'Text centered at (0.5, 0.5)\\nin Figure coordinates.',\n",
    "        horizontalalignment='center', fontsize=14, \n",
    "        transform=ax.transAxes, color='grey')\n",
    "\n",
    "ax.legend(loc='upper right', frameon=True, ncol=2)"
   ]
  },
  {
   "cell_type": "markdown",
   "metadata": {},
   "source": [
    "For more information on legend positioning, check [this post](http://stackoverflow.com/questions/4700614/how-to-put-the-legend-out-of-the-plot) on stackoverflow!"
   ]
  },
  {
   "cell_type": "markdown",
   "metadata": {},
   "source": [
    "## I do not like the style..."
   ]
  },
  {
   "cell_type": "markdown",
   "metadata": {},
   "source": [
    "**...Understandable**"
   ]
  },
  {
   "cell_type": "markdown",
   "metadata": {},
   "source": [
    "Matplotlib is default very Matlab-lookalike and sometimes not really catchy. The power of the object-oriented way of working makes it possible to change everything. However, mostly we just want **quickly a good-looking plot**. Matplotlib provides a number of styles that can be used to quickly change a number of settings:"
   ]
  },
  {
   "cell_type": "code",
   "execution_count": null,
   "metadata": {
    "collapsed": false,
    "run_control": {
     "frozen": false,
     "read_only": false
    }
   },
   "outputs": [],
   "source": [
    "plt.style.available"
   ]
  },
  {
   "cell_type": "code",
   "execution_count": null,
   "metadata": {
    "collapsed": false,
    "run_control": {
     "frozen": false,
     "read_only": false
    }
   },
   "outputs": [],
   "source": [
    "x = np.linspace(0, 10)\n",
    "\n",
    "with plt.style.context('seaborn-muted'):  # 'ggplot', 'bmh', 'grayscale', 'seaborn-whitegrid'\n",
    "    fig, ax = plt.subplots()\n",
    "    ax.plot(x, np.sin(x) + x + np.random.randn(50))\n",
    "    ax.plot(x, np.sin(x) + 0.5 * x + np.random.randn(50))\n",
    "    ax.plot(x, np.sin(x) + 2 * x + np.random.randn(50))"
   ]
  },
  {
   "cell_type": "markdown",
   "metadata": {},
   "source": [
    "We should not start discussing about colors and styles, just pick **your favorite style**!"
   ]
  },
  {
   "cell_type": "code",
   "execution_count": null,
   "metadata": {
    "collapsed": false,
    "run_control": {
     "frozen": false,
     "read_only": false
    }
   },
   "outputs": [],
   "source": [
    "plt.style.use('seaborn-whitegrid')"
   ]
  },
  {
   "cell_type": "markdown",
   "metadata": {
    "collapsed": true
   },
   "source": [
    "## Interaction with Pandas"
   ]
  },
  {
   "cell_type": "markdown",
   "metadata": {
    "collapsed": true,
    "run_control": {
     "frozen": false,
     "read_only": false
    }
   },
   "source": [
    "What we have been doing while plotting with Pandas:"
   ]
  },
  {
   "cell_type": "code",
   "execution_count": null,
   "metadata": {
    "collapsed": true,
    "run_control": {
     "frozen": false,
     "read_only": false
    }
   },
   "outputs": [],
   "source": [
    "import pandas as pd"
   ]
  },
  {
   "cell_type": "code",
   "execution_count": null,
   "metadata": {
    "collapsed": false,
    "run_control": {
     "frozen": false,
     "read_only": false
    }
   },
   "outputs": [],
   "source": [
    "flowdata = pd.read_csv('../data/vmm_flowdata.csv', \n",
    "                       index_col='Time', \n",
    "                       parse_dates=True)"
   ]
  },
  {
   "cell_type": "code",
   "execution_count": null,
   "metadata": {
    "collapsed": false,
    "run_control": {
     "frozen": false,
     "read_only": false
    }
   },
   "outputs": [],
   "source": [
    "flowdata.plot()"
   ]
  },
  {
   "cell_type": "markdown",
   "metadata": {},
   "source": [
    "### The pandas versus matplotlib"
   ]
  },
  {
   "cell_type": "markdown",
   "metadata": {},
   "source": [
    "#### Comparison 1: single plot"
   ]
  },
  {
   "cell_type": "code",
   "execution_count": null,
   "metadata": {
    "collapsed": false,
    "run_control": {
     "frozen": false,
     "read_only": false
    }
   },
   "outputs": [],
   "source": [
    "flowdata.plot(figsize=(16, 6)) # shift tab this!"
   ]
  },
  {
   "cell_type": "markdown",
   "metadata": {},
   "source": [
    "Making this with matplotlib..."
   ]
  },
  {
   "cell_type": "code",
   "execution_count": null,
   "metadata": {
    "collapsed": false,
    "run_control": {
     "frozen": false,
     "read_only": false
    }
   },
   "outputs": [],
   "source": [
    "fig, ax = plt.subplots(figsize=(16, 6))\n",
    "ax.plot(flowdata.index, flowdata[\"L06_347\"],\n",
    "        flowdata.index, flowdata[\"LS06_347\"], \n",
    "        flowdata.index, flowdata[\"LS06_348\"])\n",
    "ax.legend([\"L06_347\", \"LS06_347\", \"LS06_348\"])"
   ]
  },
  {
   "cell_type": "markdown",
   "metadata": {},
   "source": [
    "or..."
   ]
  },
  {
   "cell_type": "code",
   "execution_count": null,
   "metadata": {
    "collapsed": false,
    "run_control": {
     "frozen": false,
     "read_only": false
    }
   },
   "outputs": [],
   "source": [
    "fig, ax = plt.subplots(figsize=(16, 6))\n",
    "for station in flowdata.columns:\n",
    "    ax.plot(flowdata.index, flowdata[station], label=station)\n",
    "ax.legend()"
   ]
  },
  {
   "cell_type": "markdown",
   "metadata": {},
   "source": [
    "#### Comparison 2: with subplots"
   ]
  },
  {
   "cell_type": "code",
   "execution_count": null,
   "metadata": {
    "collapsed": false,
    "run_control": {
     "frozen": false,
     "read_only": false
    }
   },
   "outputs": [],
   "source": [
    "axs = flowdata.plot(subplots=True, sharex=True,\n",
    "                    figsize=(16, 8), colormap='viridis', # Dark2\n",
    "                    fontsize=15)"
   ]
  },
  {
   "cell_type": "markdown",
   "metadata": {},
   "source": [
    "Mimicking this in matplotlib (just as a reference):"
   ]
  },
  {
   "cell_type": "code",
   "execution_count": null,
   "metadata": {
    "collapsed": false,
    "run_control": {
     "frozen": false,
     "read_only": false
    }
   },
   "outputs": [],
   "source": [
    "from matplotlib import cm\n",
    "import matplotlib.dates as mdates\n",
    "\n",
    "colors = [cm.viridis(x) for x in np.linspace(0.0, 1.0, len(flowdata.columns))] # list comprehension to set up the colors\n",
    "\n",
    "fig, axs = plt.subplots(3, 1, figsize=(16, 8))\n",
    "\n",
    "for ax, col, station in zip(axs, colors, flowdata.columns):\n",
    "    ax.plot(flowdata.index, flowdata[station], label=station, color=col)\n",
    "    ax.legend()\n",
    "    if not ax.is_last_row():\n",
    "        ax.xaxis.set_ticklabels([])\n",
    "        ax.xaxis.set_major_locator(mdates.YearLocator())\n",
    "    else:\n",
    "        ax.xaxis.set_major_locator(mdates.YearLocator())\n",
    "        ax.xaxis.set_major_formatter(mdates.DateFormatter('%Y'))\n",
    "        ax.set_xlabel('Time')\n",
    "    ax.tick_params(labelsize=15)\n",
    "fig.autofmt_xdate()"
   ]
  },
  {
   "cell_type": "markdown",
   "metadata": {},
   "source": [
    "### Best of both worlds..."
   ]
  },
  {
   "cell_type": "code",
   "execution_count": null,
   "metadata": {
    "collapsed": false,
    "run_control": {
     "frozen": false,
     "read_only": false
    }
   },
   "outputs": [],
   "source": [
    "fig, ax = plt.subplots() #prepare a matplotlib figure\n",
    "\n",
    "flowdata.plot(ax=ax) # use pandas for the plotting\n",
    "\n",
    "# Provide further adaptations with matplotlib:\n",
    "ax.set_xlabel(\"\")\n",
    "ax.tick_params(labelsize=15, pad=8)\n",
    "fig.suptitle('Flow station time series', fontsize=15)"
   ]
  },
  {
   "cell_type": "code",
   "execution_count": null,
   "metadata": {
    "collapsed": false,
    "run_control": {
     "frozen": false,
     "read_only": false
    }
   },
   "outputs": [],
   "source": [
    "fig, (ax1, ax2) = plt.subplots(2, 1) #provide with matplotlib 2 axis\n",
    "\n",
    "flowdata[[\"L06_347\", \"LS06_347\"]].plot(ax=ax1) # plot the two timeseries of the same location on the first plot\n",
    "flowdata[\"LS06_348\"].plot(ax=ax2) # plot the other station on the second plot\n",
    "\n",
    "# further adapt with matplotlib\n",
    "ax1.set_ylabel(\"L06_347\")\n",
    "ax2.set_ylabel(\"LS06_348\")\n",
    "ax2.legend()"
   ]
  },
  {
   "cell_type": "markdown",
   "metadata": {
    "collapsed": true,
    "run_control": {
     "frozen": false,
     "read_only": false
    }
   },
   "source": [
    "<div class=\"alert alert-info\">\n",
    "\n",
    " <b>Remember</b>: \n",
    "\n",
    " <ul>\n",
    "  <li>You can do anything with matplotlib, but at a cost... [stackoverflow!!](http://stackoverflow.com/questions/tagged/matplotlib)</li>\n",
    "  <li>The preformatting of Pandas provides mostly enough flexibility for quick analysis and draft reporting. It is not for paper-proof figures or customization</li>\n",
    "</ul>\n",
    "<br>\n",
    "\n",
    "If you take the time to make you're perfect/spot-on/greatest-ever matplotlib-figure: Make it a **reusable function**!\n",
    "\n",
    "</div>"
   ]
  },
  {
   "cell_type": "markdown",
   "metadata": {},
   "source": [
    "An example of such a reusable function to plot data:"
   ]
  },
  {
   "cell_type": "code",
   "execution_count": null,
   "metadata": {
    "collapsed": false,
    "run_control": {
     "frozen": false,
     "read_only": false
    }
   },
   "outputs": [],
   "source": [
    "%%file plotter.py  \n",
    "#this writes a file in your directory, check it(!)\n",
    "\n",
    "import numpy as np\n",
    "import matplotlib.pyplot as plt\n",
    "import matplotlib.dates as mdates\n",
    "\n",
    "from matplotlib import cm\n",
    "from matplotlib.ticker import MaxNLocator\n",
    "\n",
    "def vmm_station_plotter(flowdata, label=\"flow (m$^3$s$^{-1}$)\"):\n",
    "    colors = [cm.viridis(x) for x in np.linspace(0.0, 1.0, len(flowdata.columns))] # list comprehension to set up the color sequence\n",
    "\n",
    "    fig, axs = plt.subplots(3, 1, figsize=(16, 8))\n",
    "\n",
    "    for ax, col, station in zip(axs, colors, flowdata.columns):\n",
    "        ax.plot(flowdata.index, flowdata[station], label=station, color=col) # this plots the data itself\n",
    "        \n",
    "        ax.legend(fontsize=15)\n",
    "        ax.set_ylabel(label, size=15)\n",
    "        ax.yaxis.set_major_locator(MaxNLocator(4)) # smaller set of y-ticks for clarity\n",
    "        \n",
    "        if not ax.is_last_row():  # hide the xticklabels from the none-lower row x-axis\n",
    "            ax.xaxis.set_ticklabels([])\n",
    "            ax.xaxis.set_major_locator(mdates.YearLocator())\n",
    "        else:                     # yearly xticklabels from the lower x-axis in the subplots\n",
    "            ax.xaxis.set_major_locator(mdates.YearLocator())\n",
    "            ax.xaxis.set_major_formatter(mdates.DateFormatter('%Y'))\n",
    "        ax.tick_params(axis='both', labelsize=15, pad=8) # enlarge the ticklabels and increase distance to axis (otherwise overlap)\n",
    "    return fig, axs"
   ]
  },
  {
   "cell_type": "code",
   "execution_count": null,
   "metadata": {
    "collapsed": true,
    "run_control": {
     "frozen": false,
     "read_only": false
    }
   },
   "outputs": [],
   "source": [
    "from plotter import vmm_station_plotter\n",
    "# fig, axs = vmm_station_plotter(flowdata)"
   ]
  },
  {
   "cell_type": "code",
   "execution_count": null,
   "metadata": {
    "collapsed": false,
    "run_control": {
     "frozen": false,
     "read_only": false
    }
   },
   "outputs": [],
   "source": [
    "fig, axs = vmm_station_plotter(flowdata, \n",
    "                               label=\"NO$_3$ (mg/l)\")\n",
    "fig.suptitle('Ammonium concentrations in the Maarkebeek', fontsize='17')\n",
    "fig.savefig('ammonium_concentration.pdf')"
   ]
  },
  {
   "cell_type": "markdown",
   "metadata": {},
   "source": [
    "<div class=\"alert alert-danger\">\n",
    "\n",
    " <b>NOTE</b>: \n",
    "\n",
    "<ul>\n",
    "  <li>Let your hard work pay off, write your own custom functions!</li>\n",
    "</ul>\n",
    "\n",
    "</div>"
   ]
  },
  {
   "cell_type": "markdown",
   "metadata": {},
   "source": [
    "<div class=\"alert alert-info\" style=\"font-size:18px\">\n",
    "\n",
    " <b>Remember</b>: \n",
    "\n",
    "`fig.savefig()` to save your Figure object!\n",
    "\n",
    "</div>"
   ]
  },
  {
   "cell_type": "markdown",
   "metadata": {
    "collapsed": true
   },
   "source": [
    "# Seaborn"
   ]
  },
  {
   "cell_type": "code",
   "execution_count": null,
   "metadata": {
    "collapsed": true,
    "run_control": {
     "frozen": false,
     "read_only": false
    }
   },
   "outputs": [],
   "source": [
    "import seaborn as sns"
   ]
  },
  {
   "cell_type": "markdown",
   "metadata": {
    "collapsed": true,
    "run_control": {
     "frozen": false,
     "read_only": false
    }
   },
   "source": [
    "* Built on top of Matplotlib, but providing\n",
    "    1. High level functions\n",
    "    2. Much cleaner default figures\n",
    "* Works well with Pandas"
   ]
  },
  {
   "cell_type": "markdown",
   "metadata": {},
   "source": [
    "## First example: `pairplot`"
   ]
  },
  {
   "cell_type": "markdown",
   "metadata": {},
   "source": [
    "A scatterplot comparing the three stations with a color variation on the months:"
   ]
  },
  {
   "cell_type": "code",
   "execution_count": null,
   "metadata": {
    "collapsed": true,
    "run_control": {
     "frozen": false,
     "read_only": false
    }
   },
   "outputs": [],
   "source": [
    "flowdata[\"month\"] = flowdata.index.month"
   ]
  },
  {
   "cell_type": "code",
   "execution_count": null,
   "metadata": {
    "collapsed": false,
    "run_control": {
     "frozen": false,
     "read_only": false
    }
   },
   "outputs": [],
   "source": [
    "sns.pairplot(flowdata[\"2009\"].dropna(), \n",
    "             vars=[\"L06_347\", \"LS06_347\", \"LS06_348\"],\n",
    "             diag_kind='kde', hue=\"month\")"
   ]
  },
  {
   "cell_type": "markdown",
   "metadata": {},
   "source": [
    "## Seaborn works well with Pandas & is built on top of Matplotlib"
   ]
  },
  {
   "cell_type": "markdown",
   "metadata": {},
   "source": [
    "We will use the Titanic example again:"
   ]
  },
  {
   "cell_type": "code",
   "execution_count": null,
   "metadata": {
    "collapsed": false,
    "run_control": {
     "frozen": false,
     "read_only": false
    }
   },
   "outputs": [],
   "source": [
    "titanic = pd.read_csv('../data/titanic.csv')"
   ]
  },
  {
   "cell_type": "code",
   "execution_count": null,
   "metadata": {
    "collapsed": false,
    "run_control": {
     "frozen": false,
     "read_only": false
    }
   },
   "outputs": [],
   "source": [
    "titanic.head()"
   ]
  },
  {
   "cell_type": "markdown",
   "metadata": {},
   "source": [
    "**Histogram**: Getting the univariaite distribution of the `Age`"
   ]
  },
  {
   "cell_type": "code",
   "execution_count": null,
   "metadata": {
    "collapsed": false,
    "run_control": {
     "frozen": false,
     "read_only": false
    }
   },
   "outputs": [],
   "source": [
    "fig, ax = plt.subplots()\n",
    "sns.distplot(titanic[\"Age\"].dropna(), ax=ax)  # Seaborn does not like Nan values...\n",
    "sns.rugplot(titanic[\"Age\"].dropna(), color=\"g\", ax=ax) # rugplot provides lines at the individual data point locations\n",
    "ax.set_ylabel(\"Frequency\")"
   ]
  },
  {
   "cell_type": "markdown",
   "metadata": {},
   "source": [
    "<div class=\"alert alert-info\">\n",
    "\n",
    " <b>Remember</b>: \n",
    "\n",
    "Similar to Pandas handling above, we can set up a `figure` and `axes` and add the seaborn output to it; adapt it afterwards\n",
    "\n",
    "</div>"
   ]
  },
  {
   "cell_type": "markdown",
   "metadata": {},
   "source": [
    "Compare two variables (**scatter-plot**):"
   ]
  },
  {
   "cell_type": "code",
   "execution_count": null,
   "metadata": {
    "collapsed": false,
    "run_control": {
     "frozen": false,
     "read_only": false
    }
   },
   "outputs": [],
   "source": [
    "g = sns.jointplot(x=\"Fare\", y=\"Age\", \n",
    "                  data=titanic, \n",
    "                  kind=\"scatter\") #kde, hex"
   ]
  },
  {
   "cell_type": "code",
   "execution_count": null,
   "metadata": {
    "collapsed": false,
    "run_control": {
     "frozen": false,
     "read_only": false
    }
   },
   "outputs": [],
   "source": [
    "g = sns.jointplot(x=\"Fare\", y=\"Age\", \n",
    "                  data=titanic, \n",
    "                  kind=\"scatter\") #kde, hex\n",
    "# Adapt the properties with matplotlib by changing the available axes objects\n",
    "g.ax_marg_x.set_ylabel(\"Frequency\")\n",
    "g.ax_joint.set_axis_bgcolor('0.1')\n",
    "g.ax_marg_y.set_xlabel(\"Frequency\")"
   ]
  },
  {
   "cell_type": "markdown",
   "metadata": {},
   "source": [
    "<div class=\"alert alert-info\">\n",
    "\n",
    " <b>Remember</b>: \n",
    "\n",
    "Adapting the output of a Seaborn `grid` of different axes can be done as well to adapt it with matplotlib\n",
    "\n",
    "</div>"
   ]
  },
  {
   "cell_type": "markdown",
   "metadata": {},
   "source": [
    "Who likes **regressions**?"
   ]
  },
  {
   "cell_type": "code",
   "execution_count": null,
   "metadata": {
    "collapsed": false,
    "run_control": {
     "frozen": false,
     "read_only": false
    }
   },
   "outputs": [],
   "source": [
    "fig, ax = plt.subplots()\n",
    "sns.regplot(x=\"Fare\", y=\"Age\", data=titanic, ax=ax, lowess=False)\n",
    "# adding the small lines to indicate individual data points\n",
    "sns.rugplot(titanic[\"Fare\"].dropna(), axis='x', \n",
    "            color=\"#6699cc\", height=0.02, ax=ax)\n",
    "sns.rugplot(titanic[\"Age\"].dropna(), axis='y', \n",
    "            color=\"#6699cc\", height=0.02, ax=ax)"
   ]
  },
  {
   "cell_type": "markdown",
   "metadata": {},
   "source": [
    "## Section especially for R `ggplot` lovers"
   ]
  },
  {
   "cell_type": "markdown",
   "metadata": {},
   "source": [
    "### Regressions with factors/categories: `lmplot`"
   ]
  },
  {
   "cell_type": "markdown",
   "metadata": {},
   "source": [
    "When you want to take into account a category as well to do regressions, use `lmplot` (which is a special case of `Facetgrid`):"
   ]
  },
  {
   "cell_type": "code",
   "execution_count": null,
   "metadata": {
    "collapsed": false,
    "run_control": {
     "frozen": false,
     "read_only": false
    }
   },
   "outputs": [],
   "source": [
    "sns.lmplot(x=\"Fare\", y=\"Age\", hue=\"Sex\", \n",
    "           data=titanic)"
   ]
  },
  {
   "cell_type": "code",
   "execution_count": null,
   "metadata": {
    "collapsed": false,
    "run_control": {
     "frozen": false,
     "read_only": false
    }
   },
   "outputs": [],
   "source": [
    "sns.lmplot(x=\"Fare\", y=\"Age\", hue=\"Sex\", \n",
    "           col=\"Survived\", data=titanic)"
   ]
  },
  {
   "cell_type": "markdown",
   "metadata": {},
   "source": [
    "### Other plots with factors/categories: `factorplot`"
   ]
  },
  {
   "cell_type": "markdown",
   "metadata": {},
   "source": [
    "Another method to create thes **category** based split of columns, colors,... based on specific category columns is the `factorplot`"
   ]
  },
  {
   "cell_type": "code",
   "execution_count": null,
   "metadata": {
    "collapsed": false,
    "run_control": {
     "frozen": false,
     "read_only": false
    }
   },
   "outputs": [],
   "source": [
    "titanic.head()"
   ]
  },
  {
   "cell_type": "code",
   "execution_count": null,
   "metadata": {
    "collapsed": false,
    "run_control": {
     "frozen": false,
     "read_only": false
    }
   },
   "outputs": [],
   "source": [
    "sns.factorplot(x=\"Sex\", \n",
    "               y=\"Fare\", \n",
    "               col=\"Pclass\", \n",
    "               data=titanic) #kind='strip' # violin,..."
   ]
  },
  {
   "cell_type": "code",
   "execution_count": null,
   "metadata": {
    "collapsed": false,
    "run_control": {
     "frozen": false,
     "read_only": false
    }
   },
   "outputs": [],
   "source": [
    "sns.factorplot(x=\"Sex\", y=\"Fare\", col=\"Pclass\", row=\"Embarked\", \n",
    "               data=titanic, kind='bar')"
   ]
  },
  {
   "cell_type": "code",
   "execution_count": null,
   "metadata": {
    "collapsed": false,
    "run_control": {
     "frozen": false,
     "read_only": false
    }
   },
   "outputs": [],
   "source": [
    "g = sns.factorplot(x=\"Survived\", y=\"Fare\", hue=\"Sex\",\n",
    "                   col=\"Embarked\", data=titanic, \n",
    "                   kind=\"box\", size=4, aspect=.5);\n",
    "g.fig.set_figwidth(15)\n",
    "g.fig.set_figheight(6)"
   ]
  },
  {
   "cell_type": "markdown",
   "metadata": {},
   "source": [
    "<div class=\"alert alert-info\">\n",
    "\n",
    " <b>Remember</b>: \n",
    " \n",
    " <ul>\n",
    "  <li>`lmplot` and `factorplot` are shortcuts for a more advanced `FacetGrid` functionality</li>\n",
    "  <li>If you want to dig deeper into this `FacetGrid`-based plotting, check the [online manual](http://seaborn.pydata.org/tutorial/axis_grids.html)!</li>\n",
    "</ul>\n",
    " \n",
    "</div>"
   ]
  },
  {
   "cell_type": "markdown",
   "metadata": {},
   "source": [
    "# Need more matplotlib/seaborn inspiration? "
   ]
  },
  {
   "cell_type": "markdown",
   "metadata": {},
   "source": [
    "For more in-depth material:\n",
    "* http://www.labri.fr/perso/nrougier/teaching/matplotlib/\n",
    "* notebooks in matplotlib section: http://nbviewer.jupyter.org/github/jakevdp/PythonDataScienceHandbook/blob/master/notebooks/Index.ipynb#4.-Visualization-with-Matplotlib\n",
    "* main reference: [matplotlib homepage](http://matplotlib.org/)"
   ]
  },
  {
   "cell_type": "markdown",
   "metadata": {},
   "source": [
    "<div class=\"alert alert-info\" style=\"font-size:18px\">\n",
    "\n",
    " <b>Remember</b>(!)\n",
    "\n",
    "<ul>\n",
    "  <li>[matplotlib Gallery](http://matplotlib.org/gallery.html)</li>\n",
    "  <li>[seaborn gallery ](http://seaborn.pydata.org/examples/index.html)</li>\n",
    "</ul>\n",
    "<br>\n",
    "Important resources to start from!\n",
    "\n",
    "</div>"
   ]
  },
  {
   "cell_type": "markdown",
   "metadata": {},
   "source": [
    "---\n",
    "# Acknowledgement\n",
    "\n",
    "\n",
    "> This notebook is partly based on material of the Met Office (Copyright (C) 2013 SciTools, GPL licensed): https://github.com/SciTools/courses\n"
   ]
  }
 ],
 "metadata": {
  "kernelspec": {
   "display_name": "Python 3",
   "language": "python",
   "name": "python3"
  },
  "language_info": {
   "codemirror_mode": {
    "name": "ipython",
    "version": 3
   },
   "file_extension": ".py",
   "mimetype": "text/x-python",
   "name": "python",
   "nbconvert_exporter": "python",
   "pygments_lexer": "ipython3",
   "version": "3.5.2"
  },
  "nav_menu": {},
  "toc": {
   "navigate_menu": true,
   "number_sections": true,
   "sideBar": true,
   "threshold": 6,
   "toc_cell": false,
   "toc_section_display": "block",
   "toc_window_display": true
  },
  "toc_position": {
   "height": "860px",
   "left": "0px",
   "right": "1657px",
   "top": "106px",
   "width": "212px"
  }
 },
 "nbformat": 4,
 "nbformat_minor": 0
}
