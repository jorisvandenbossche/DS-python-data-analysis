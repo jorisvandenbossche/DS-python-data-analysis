{
 "cells": [
  {
   "cell_type": "markdown",
   "metadata": {},
   "source": [
    "<p><font size=\"6\"><b>Python's Visualization Landscape</b></font></p>\n",
    "\n",
    "\n",
    "> *DS Data manipulation, analysis and visualisation in Python*  \n",
    "> *December, 2017*\n",
    "\n",
    "> *© 2016, Joris Van den Bossche and Stijn Van Hoey  (<mailto:jorisvandenbossche@gmail.com>, <mailto:stijnvanhoey@gmail.com>). Licensed under [CC BY 4.0 Creative Commons](http://creativecommons.org/licenses/by/4.0/)*\n",
    "\n",
    "---"
   ]
  },
  {
   "cell_type": "markdown",
   "metadata": {},
   "source": [
    "---\n",
    "**Remark:**\n",
    "\n",
    "The packages used in this notebook are not provided by default in the conda environment of the course. In case you want to try these featutes yourself, make sure to install these packages with conda.\n",
    "\n",
    "To make some of the more general plotting packages available:\n",
    "\n",
    "```\n",
    "conda install bokeh altair plotly\n",
    "```\n",
    "\n",
    "an additional advice will appear about the making the vega nbextension available. This can be acivated with the command:\n",
    "\n",
    "```\n",
    "jupyter nbextension enable vega --py --sys-prefix\n",
    "```\n",
    "\n",
    "and use the interaction between plotly and pandas, install `cufflinks` as well\n",
    "\n",
    "```\n",
    "pip install cufflinks --upgrade\n",
    "```\n",
    "\n",
    "\n",
    "To run the large data set section, additional package installations are required:\n",
    "```\n",
    "conda install dask\n",
    "conda install -c bokeh datashader\n",
    "conda install -c conda-forge fastparquet\n",
    "```\n",
    "---\n"
   ]
  },
  {
   "cell_type": "markdown",
   "metadata": {},
   "source": [
    "## What have we done so far?"
   ]
  },
  {
   "cell_type": "markdown",
   "metadata": {},
   "source": [
    "What we have encountered until now:\n",
    "\n",
    "* [matplotlib](https://matplotlib.org/)\n",
    "* [pandas .plot](https://pandas.pydata.org/pandas-docs/stable/visualization.html)\n",
    "* [plotnine](https://github.com/has2k1/plotnine)\n",
    "* a bit of [seaborn](https://seaborn.pydata.org/)"
   ]
  },
  {
   "cell_type": "code",
   "execution_count": null,
   "metadata": {},
   "outputs": [],
   "source": [
    "%matplotlib inline\n",
    "import numpy as np\n",
    "import pandas as pd\n",
    "\n",
    "import matplotlib.pylab as plt\n",
    "import plotnine as pn\n",
    "import seaborn as sns"
   ]
  },
  {
   "cell_type": "markdown",
   "metadata": {},
   "source": [
    "### To 'grammar of graphics' or not to 'grammar of graphics'?"
   ]
  },
  {
   "cell_type": "markdown",
   "metadata": {},
   "source": [
    "#### Introduction"
   ]
  },
  {
   "cell_type": "markdown",
   "metadata": {},
   "source": [
    "There is `titanic` again..."
   ]
  },
  {
   "cell_type": "code",
   "execution_count": null,
   "metadata": {},
   "outputs": [],
   "source": [
    "titanic = pd.read_csv(\"../data/titanic.csv\")"
   ]
  },
  {
   "cell_type": "markdown",
   "metadata": {},
   "source": [
    "Pandas plot..."
   ]
  },
  {
   "cell_type": "code",
   "execution_count": null,
   "metadata": {},
   "outputs": [],
   "source": [
    "fig, ax = plt.subplots()\n",
    "plt.style.use('ggplot')\n",
    "survival_rate = titanic.groupby(\"Pclass\")['Survived'].mean()\n",
    "survival_rate.plot(kind='bar', color='grey', \n",
    "                   rot=0, figsize=(6, 4), ax=ax)\n",
    "ylab = ax.set_ylabel(\"Survival rate\")\n",
    "xlab = ax.set_xlabel(\"Cabin class\")"
   ]
  },
  {
   "cell_type": "markdown",
   "metadata": {},
   "source": [
    "Plotnine plot..."
   ]
  },
  {
   "cell_type": "code",
   "execution_count": null,
   "metadata": {},
   "outputs": [],
   "source": [
    "(pn.ggplot(titanic, pn.aes(x=\"factor(Pclass)\", \n",
    "                           y=\"Survived\"))   #add color/fill\n",
    "     + pn.geom_bar(stat='stat_summary', width=0.5)\n",
    "     + pn.theme(figure_size=(5, 3))\n",
    "     + pn.ylab(\"Survival rate\")\n",
    "     + pn.xlab(\"Cabin class\")\n",
    ")"
   ]
  },
  {
   "cell_type": "markdown",
   "metadata": {},
   "source": [
    "An important difference is the *imperative* approach from `matplotlib` versus the *declarative* approach from `plotnine`:"
   ]
  },
  {
   "cell_type": "markdown",
   "metadata": {},
   "source": [
    "| imperative | declarative |\n",
    "|------------|-------------|\n",
    "| Specify **how** something should be done |  Specify **what** should be done            |\n",
    "| **Manually specify** the individual plotting steps | Individual plotting steps based on **declaration** |\n",
    "| e.g. `for ax in axes: ax.plot(...` | e.g. `+ facet_wrap('my_variable)` |"
   ]
  },
  {
   "cell_type": "markdown",
   "metadata": {},
   "source": [
    "<center>*(`seaborn` lands somewhere in between)*</center>"
   ]
  },
  {
   "cell_type": "markdown",
   "metadata": {},
   "source": [
    "Which approach to use, is also a matter of personal preference...."
   ]
  },
  {
   "cell_type": "markdown",
   "metadata": {},
   "source": [
    "Although, take following elements into account:\n",
    "* When your data consists of only **1 factor variable**, such as\n",
    "\n",
    "| ID | variable 1 | variable 2 | variabel ... | \n",
    "|------------|-------------| ---- | ----- |\n",
    "| 1 | 0.2 | 0.8 | ... |\n",
    "| 2 | 0.3 | 0.1 | ... |\n",
    "| 3 | 0.9 | 0.6 | ... |\n",
    "| 4 | 0.1 | 0.7 | ... |\n",
    "| ...  | ... | ... | ...|\n",
    "the added value of using a grammar of graphics approach is LOW. \n",
    "\n",
    "* When working with **timeseries data** from sensors or continuous logging, such as\n",
    "\n",
    "| datetime | station 1 | station 2 | station ... | \n",
    "|------------|-------------| ---- | ----- |\n",
    "| 2017-12-20T17:50:46Z | 0.2 | 0.8 | ... |\n",
    "| 2017-12-20T17:50:52Z | 0.3 | 0.1 | ... |\n",
    "| 2017-12-20T17:51:03Z | 0.9 | 0.6 | ... |\n",
    "| 2017-12-20T17:51:40Z | 0.1 | 0.7 | ... |\n",
    "| ...  | ... | ... | ...|\n",
    "\n",
    "the added value of using a grammar of graphics approach is LOW.\n",
    "\n",
    "* When working with different experiments, different conditions, (factorial) **experimental designs**, such as\n",
    "\n",
    "| ID | substrate | addition (ml)  | measured_value | \n",
    "|----|-----------| ----- | ------ |\n",
    "| 1  | Eindhoven | 0.3 | 7.2 |\n",
    "| 2  | Eindhoven | 0.6 | 6.7 |\n",
    "| 3  | Eindhoven | 0.9 | 5.2 |\n",
    "| 4  | Destelbergen | 0.3 | 7.2 |\n",
    "| 5  | Destelbergen | 0.6 | 6.8 |\n",
    "| ...  | ... | ... | ...|\n",
    "\n",
    "the added value of using a grammar of graphics approach is HIGH. Represent you're data [`tidy`](http://www.jeannicholashould.com/tidy-data-in-python.html) to achieve maximal benefit!"
   ]
  },
  {
   "cell_type": "markdown",
   "metadata": {},
   "source": [
    "<div class=\"alert alert-info\">\n",
    "\n",
    " <b>Remember</b>: \n",
    "\n",
    " <ul>\n",
    "    <li>These packages will support you towards **static, publication quality** figures in a variety of **hardcopy** formats</li>\n",
    "    <li>In general, start with a *high-level* function and finish with `matplotlib`</li>\n",
    "</ul>\n",
    "<br>\n",
    "\n",
    "</div>"
   ]
  },
  {
   "cell_type": "markdown",
   "metadata": {},
   "source": [
    "Still...\n",
    "\n",
    "> *I've been wasting too much time on this one stupid detail for this publication graph*\n",
    "\n",
    "![](https://imgs.xkcd.com/comics/is_it_worth_the_time.png)"
   ]
  },
  {
   "cell_type": "code",
   "execution_count": null,
   "metadata": {},
   "outputs": [],
   "source": [
    "fig.savefig(\"my_plot_with_one_issue.pdf\")"
   ]
  },
  {
   "cell_type": "markdown",
   "metadata": {},
   "source": [
    "<div class=\"alert alert-warning\"  style=\"font-size:120%\">\n",
    "\n",
    " <b>Notice</b>: \n",
    "\n",
    " <ul>\n",
    "    <li>In the end... there is still [Inkscape](https://inkscape.org/en/) to the rescue!</li>\n",
    "</ul>\n",
    "<br>\n",
    "\n",
    "</div>"
   ]
  },
  {
   "cell_type": "markdown",
   "metadata": {},
   "source": [
    "### Seaborn"
   ]
  },
  {
   "cell_type": "code",
   "execution_count": null,
   "metadata": {},
   "outputs": [],
   "source": [
    "plt.style.use('seaborn-white')"
   ]
  },
  {
   "cell_type": "markdown",
   "metadata": {},
   "source": [
    "> Seaborn is a library for making attractive and **informative statistical** graphics in Python. It is built **on top of matplotlib** and tightly integrated with the PyData stack, including **support for numpy and pandas** data structures and statistical routines from scipy and statsmodels."
   ]
  },
  {
   "cell_type": "markdown",
   "metadata": {},
   "source": [
    "Seaborn provides a set of particularly interesting plot functions:"
   ]
  },
  {
   "cell_type": "markdown",
   "metadata": {},
   "source": [
    "#### scatterplot matrix"
   ]
  },
  {
   "cell_type": "markdown",
   "metadata": {},
   "source": [
    "We've already encountered the [`pairplot`](https://seaborn.pydata.org/examples/scatterplot_matrix.html), a typical quick explorative plot function"
   ]
  },
  {
   "cell_type": "code",
   "execution_count": null,
   "metadata": {},
   "outputs": [],
   "source": [
    "# the discharge data for a number of measurement stations as example\n",
    "flow_data = pd.read_csv(\"../data/vmm_flowdata.csv\", parse_dates=True, index_col=0)\n",
    "flow_data = flow_data.dropna()\n",
    "flow_data['year'] = flow_data.index.year\n",
    "flow_data.head()"
   ]
  },
  {
   "cell_type": "code",
   "execution_count": null,
   "metadata": {},
   "outputs": [],
   "source": [
    "# pairplot\n",
    "sns.pairplot(flow_data, vars=[\"L06_347\", \"LS06_347\", \"LS06_348\"], \n",
    "             hue='year', palette=sns.color_palette(\"Blues_d\"), \n",
    "             diag_kind='kde', dropna=True)"
   ]
  },
  {
   "cell_type": "markdown",
   "metadata": {},
   "source": [
    "#### heatmap"
   ]
  },
  {
   "cell_type": "markdown",
   "metadata": {},
   "source": [
    "Let's just start from a Ghent data set: The city of Ghent provides data about migration in the different districts as open data, https://data.stad.gent/data/58"
   ]
  },
  {
   "cell_type": "code",
   "execution_count": null,
   "metadata": {},
   "outputs": [],
   "source": [
    "district_migration = pd.read_csv(\"https://datatank.stad.gent/4/bevolking/wijkmigratieperduizend.csv\", \n",
    "                                 sep=\";\", index_col=0)\n",
    "district_migration.index.name = \"wijk\"\n",
    "district_migration.head()"
   ]
  },
  {
   "cell_type": "code",
   "execution_count": null,
   "metadata": {},
   "outputs": [],
   "source": [
    "# cleaning the column headers\n",
    "district_migration.columns = [year[-4:] for year in district_migration.columns]\n",
    "district_migration.head()"
   ]
  },
  {
   "cell_type": "code",
   "execution_count": null,
   "metadata": {},
   "outputs": [],
   "source": [
    "#adding a total column\n",
    "district_migration['TOTAAL'] = district_migration.sum(axis=1)"
   ]
  },
  {
   "cell_type": "code",
   "execution_count": null,
   "metadata": {},
   "outputs": [],
   "source": [
    "fig, ax = plt.subplots(figsize=(10, 10))\n",
    "sns.heatmap(district_migration, annot=True, fmt=\".1f\", linewidths=.5, \n",
    "            cmap=\"PiYG\", ax=ax, vmin=-20, vmax=20)\n",
    "ylab = ax.set_ylabel(\"\")\n",
    "ax.set_title(\"Migration of Ghent districts\", size=14)"
   ]
  },
  {
   "cell_type": "markdown",
   "metadata": {},
   "source": [
    "#### jointplot"
   ]
  },
  {
   "cell_type": "markdown",
   "metadata": {},
   "source": [
    "[jointplot](https://seaborn.pydata.org/generated/seaborn.jointplot.html#seaborn.jointplot) provides a very convenient function to check the combined distribution of two variables in a DataFrame (bivariate plot)"
   ]
  },
  {
   "cell_type": "markdown",
   "metadata": {},
   "source": [
    "Using the default options on the flow_data dataset"
   ]
  },
  {
   "cell_type": "code",
   "execution_count": null,
   "metadata": {},
   "outputs": [],
   "source": [
    "g = sns.jointplot(data=flow_data, \n",
    "                  x='LS06_347', y='LS06_348')"
   ]
  },
  {
   "cell_type": "code",
   "execution_count": null,
   "metadata": {},
   "outputs": [],
   "source": [
    "g = sns.jointplot(data=flow_data, \n",
    "                  x='LS06_347', y='LS06_348', \n",
    "                  kind=\"reg\", space=0)"
   ]
  },
  {
   "cell_type": "markdown",
   "metadata": {},
   "source": [
    "more options, applied on the migration data set:"
   ]
  },
  {
   "cell_type": "code",
   "execution_count": null,
   "metadata": {},
   "outputs": [],
   "source": [
    "g = sns.jointplot(data=district_migration.transpose(), \n",
    "                  x='Oud Gentbrugge', y='Nieuw Gent - UZ', \n",
    "                  kind=\"kde\", size=7, space=0) # kde"
   ]
  },
  {
   "cell_type": "markdown",
   "metadata": {},
   "source": [
    "<div class=\"alert alert-danger\">\n",
    "\n",
    " <b>Notice!</b>: \n",
    "\n",
    " <ul>\n",
    "    <li>Watch out with the interpretation. The representations (`kde`, `regression`) is based on a very limited set of data points!</li>\n",
    "</ul>\n",
    "<br>\n",
    "\n",
    "</div>"
   ]
  },
  {
   "cell_type": "markdown",
   "metadata": {},
   "source": [
    "Adding the data points itself, provides at least this info to the user:"
   ]
  },
  {
   "cell_type": "code",
   "execution_count": null,
   "metadata": {},
   "outputs": [],
   "source": [
    "g = (sns.jointplot(\n",
    "        data=district_migration.transpose(), \n",
    "        x='Oud Gentbrugge', y='Nieuw Gent - UZ', \n",
    "        kind=\"scatter\", size=7, space=0, stat_func=None,\n",
    "        marginal_kws=dict(bins=20, rug=True)\n",
    "        ).plot_joint(sns.kdeplot, zorder=0, \n",
    "                     n_levels=5, cmap='Reds'))\n",
    "g.savefig(\"my_great_plot.pdf\")"
   ]
  },
  {
   "cell_type": "markdown",
   "metadata": {},
   "source": [
    "<div class=\"alert alert-info\">\n",
    "\n",
    " <b>Remember - Check the package galleries</b>: \n",
    "\n",
    " <ul>\n",
    "    <li>[Matplotlib gallery](https://matplotlib.org/gallery.html)</li>\n",
    "    <li>[Seaborn gallery](http://seaborn.pydata.org/examples/)</li>\n",
    "    <li>[Plotnine gallery](http://plotnine.readthedocs.io/en/stable/gallery.html) and [R ggplot2 gallery](https://www.r-graph-gallery.com/portfolio/ggplot2-package/)</li>\n",
    "    <li>An overview based on the type of graph using Python is given [here](https://python-graph-gallery.com/).</li>\n",
    "</ul>\n",
    "<br>\n",
    "\n",
    "</div>"
   ]
  },
  {
   "cell_type": "markdown",
   "metadata": {},
   "source": [
    "## Interactivity and the web matter these days!"
   ]
  },
  {
   "cell_type": "markdown",
   "metadata": {},
   "source": [
    "### Bokeh"
   ]
  },
  {
   "cell_type": "markdown",
   "metadata": {},
   "source": [
    "> *[Bokeh](https://bokeh.pydata.org/en/latest/) is a Python interactive visualization library that targets modern web browsers for presentation*"
   ]
  },
  {
   "cell_type": "code",
   "execution_count": null,
   "metadata": {},
   "outputs": [],
   "source": [
    "from bokeh.plotting import figure, output_file, show"
   ]
  },
  {
   "cell_type": "code",
   "execution_count": null,
   "metadata": {},
   "outputs": [],
   "source": [
    "p = figure()\n",
    "p.line(x=[1, 2, 3], y=[4,6,2])\n",
    "show(p)"
   ]
  },
  {
   "cell_type": "markdown",
   "metadata": {},
   "source": [
    "By default, Bokeh will open a new webpage to plot the figure. Luckily, the **integration with notebooks** is provided as well:"
   ]
  },
  {
   "cell_type": "code",
   "execution_count": null,
   "metadata": {},
   "outputs": [],
   "source": [
    "from bokeh.io import output_notebook"
   ]
  },
  {
   "cell_type": "code",
   "execution_count": null,
   "metadata": {},
   "outputs": [],
   "source": [
    "output_notebook()"
   ]
  },
  {
   "cell_type": "code",
   "execution_count": null,
   "metadata": {},
   "outputs": [],
   "source": [
    "show(p)"
   ]
  },
  {
   "cell_type": "markdown",
   "metadata": {},
   "source": [
    "<div class=\"alert alert-danger\">\n",
    "\n",
    " <b>Notice!</b>: \n",
    "\n",
    " <ul>\n",
    "    <li>Bokeh does **not** support `eps`, `pdf` export of plots!</li>\n",
    "</ul>\n",
    "<br>\n",
    "\n",
    "</div>"
   ]
  },
  {
   "cell_type": "markdown",
   "metadata": {},
   "source": [
    "To accomodate the users of **Pandas**, a `pd.DataFrame` can also be used as the input for a Bokeh plot:"
   ]
  },
  {
   "cell_type": "code",
   "execution_count": null,
   "metadata": {},
   "outputs": [],
   "source": [
    "from bokeh.models import ColumnDataSource\n",
    "source_data = ColumnDataSource(data=flow_data)"
   ]
  },
  {
   "cell_type": "code",
   "execution_count": null,
   "metadata": {},
   "outputs": [],
   "source": [
    "flow_data.head()"
   ]
  },
  {
   "cell_type": "markdown",
   "metadata": {},
   "source": [
    "Useful to know when you want to use the index as well:\n",
    "> *If the DataFrame has a named index column, then CDS will also have a column with this name. However, if the index name (or any subname of a MultiIndex) is None, then the CDS will have a column generically named index for the index.*"
   ]
  },
  {
   "cell_type": "code",
   "execution_count": null,
   "metadata": {},
   "outputs": [],
   "source": [
    "p = figure(x_axis_type=\"datetime\", plot_height=300, plot_width=900)\n",
    "p.line(x='Time', y='L06_347', source=source_data)\n",
    "show(p)"
   ]
  },
  {
   "cell_type": "markdown",
   "metadata": {},
   "source": [
    "The setup of the graph, is by adding new elements to the figure object, e.g. adding annotations:"
   ]
  },
  {
   "cell_type": "code",
   "execution_count": null,
   "metadata": {},
   "outputs": [],
   "source": [
    "from bokeh.models import ColumnDataSource, BoxAnnotation, Label"
   ]
  },
  {
   "cell_type": "code",
   "execution_count": null,
   "metadata": {},
   "outputs": [],
   "source": [
    "p = figure(x_axis_type=\"datetime\", plot_height=300, plot_width=900)\n",
    "p.line(x='Time', y='L06_347', source=source_data)\n",
    "p.circle(x='Time', y='L06_347', source=source_data, fill_alpha= 0.3, line_alpha=0.3)\n",
    "\n",
    "alarm_box = BoxAnnotation(bottom=10, fill_alpha=0.3, \n",
    "                          fill_color='#ff6666')  # arbitrary value; this is NOT the real-case value\n",
    "p.add_layout(alarm_box)\n",
    "\n",
    "alarm_label = Label(text=\"Flood risk\", x_units='screen', \n",
    "                    x= 10, y=10, text_color=\"#330000\")\n",
    "p.add_layout(alarm_label)\n",
    "\n",
    "show(p)"
   ]
  },
  {
   "cell_type": "markdown",
   "metadata": {},
   "source": [
    "Also [this `jointplot`](https://demo.bokehplots.com/apps/selection_histogram) and [this gapminder reproduction](https://demo.bokehplots.com/apps/gapminder) is based on Bokeh!"
   ]
  },
  {
   "cell_type": "markdown",
   "metadata": {},
   "source": [
    "<div class=\"alert alert-info\">\n",
    "\n",
    " <b>More Bokeh?</b>\n",
    "\n",
    " <ul>\n",
    "    <li>Try the [quickstart notebook](http://nbviewer.jupyter.org/github/bokeh/bokeh-notebooks/blob/master/quickstart/quickstart.ipynb) yourself and check the [tutorials](http://nbviewer.jupyter.org/github/bokeh/bokeh-notebooks/blob/master/tutorial/00%20-%20Introduction%20and%20Setup.ipynb)!</li>\n",
    "    <li>Check the package gallery: https://bokeh.pydata.org/en/latest/docs/gallery.html</li>\n",
    "    <li>[Documentation](https://bokeh.pydata.org/en/latest/docs/user_guide.html) is very extensive...</li>\n",
    "</ul>\n",
    "<br>\n",
    "\n",
    "</div>"
   ]
  },
  {
   "cell_type": "markdown",
   "metadata": {},
   "source": [
    "### Plotly"
   ]
  },
  {
   "cell_type": "markdown",
   "metadata": {},
   "source": [
    "> *[plotly.py](https://plot.ly/python/) is an interactive, browser-based graphing library for Python*"
   ]
  },
  {
   "cell_type": "code",
   "execution_count": null,
   "metadata": {},
   "outputs": [],
   "source": [
    "import plotly"
   ]
  },
  {
   "cell_type": "markdown",
   "metadata": {},
   "source": [
    "If you start with `plotly` and try some things from the documentation..."
   ]
  },
  {
   "cell_type": "raw",
   "metadata": {},
   "source": [
    "# make this a code cell...\n",
    "import plotly.plotly as py\n",
    "import plotly.graph_objs as go\n",
    "\n",
    "import numpy as np\n",
    "\n",
    "x = np.random.randn(500)\n",
    "data = [go.Histogram(x=titanic['Fare'].values)]\n",
    "\n",
    "py.iplot(data, filename='basic histogram')"
   ]
  },
  {
   "cell_type": "markdown",
   "metadata": {},
   "source": [
    "they require to have an account..."
   ]
  },
  {
   "cell_type": "markdown",
   "metadata": {},
   "source": [
    "> All methods in `plotly.plotly` will communicate with a Plotly Cloud or Plotly Enterprise. \n",
    "get_figure downloads a figure from plot.ly or Plotly Enterprise.\n",
    "You need to provide credentials to download figures: https://plot.ly/python/getting-started/"
   ]
  },
  {
   "cell_type": "markdown",
   "metadata": {},
   "source": [
    "<div class=\"alert alert-danger\">\n",
    "\n",
    " <b>Notice!</b>: \n",
    "\n",
    " <ul>\n",
    "    <li>Some features of plotly require a **paid plan**... The `plotly.py` itself package is open source!</li>\n",
    "</ul>\n",
    "<br>\n",
    "\n",
    "</div>"
   ]
  },
  {
   "cell_type": "markdown",
   "metadata": {},
   "source": [
    "So, how to use the plotly library without an account?\n",
    "\n",
    "use the **`plotly.offline` mode** and activate the notebook:"
   ]
  },
  {
   "cell_type": "code",
   "execution_count": null,
   "metadata": {},
   "outputs": [],
   "source": [
    "from plotly.offline import download_plotlyjs, init_notebook_mode, plot, iplot\n",
    "\n",
    "# connect the notebook to have inline plots:\n",
    "plotly.offline.init_notebook_mode(connected=True)"
   ]
  },
  {
   "cell_type": "code",
   "execution_count": null,
   "metadata": {},
   "outputs": [],
   "source": [
    "import plotly.plotly as py\n",
    "import plotly.graph_objs as go\n",
    "\n",
    "x = np.random.randn(500)\n",
    "data = [go.Histogram(x=titanic['Fare'].values)]\n",
    "\n",
    "iplot(data, filename='basic histogram')"
   ]
  },
  {
   "cell_type": "markdown",
   "metadata": {},
   "source": [
    "The conversion from an existing `matplotlib` figure to an interactive figure with the function `iplot_mpl` is an interesting feature:"
   ]
  },
  {
   "cell_type": "code",
   "execution_count": null,
   "metadata": {},
   "outputs": [],
   "source": [
    "# pandas/maptlotlib plot:\n",
    "fig, ax  = plt.subplots(figsize=(10, 6))\n",
    "flow_data[[\"L06_347\", \"LS06_348\"]].plot(ax=ax)\n",
    "ax.legend().set_visible(False)\n",
    "\n",
    "# conversion to plotly interactive plot\n",
    "plot_url = plotly.offline.iplot_mpl(fig)"
   ]
  },
  {
   "cell_type": "markdown",
   "metadata": {},
   "source": [
    "(*Notice the removal of the legend, as this is not yet supported by the conversion function!*)"
   ]
  },
  {
   "cell_type": "markdown",
   "metadata": {},
   "source": [
    "See [here](https://plot.ly/matplotlib/) for more documentation, but don't forget to substitute the `py.plot_mpl(fig)` with `plotly.offline.iplot_mpl(fig)`!"
   ]
  },
  {
   "cell_type": "markdown",
   "metadata": {},
   "source": [
    "Furthermore, the [interaction with Pandas](https://plot.ly/pandas/) is supported:"
   ]
  },
  {
   "cell_type": "markdown",
   "metadata": {},
   "source": [
    ".1. Using the `plotly` specific syntax:"
   ]
  },
  {
   "cell_type": "code",
   "execution_count": null,
   "metadata": {},
   "outputs": [],
   "source": [
    "df = flow_data[[\"L06_347\", \"LS06_348\"]]\n",
    "\n",
    "plot_info = [{'x': df.index, \n",
    "              'y': df[col], \n",
    "              'name': col} for col in df.columns]  # remark, we use a list comprehension here ;-)\n",
    "\n",
    "iplot(plot_info)"
   ]
  },
  {
   "cell_type": "markdown",
   "metadata": {},
   "source": [
    ".2. or by installing an additional package, `cufflinks`, which enables plotting with `iplot` instead of `plot`:"
   ]
  },
  {
   "cell_type": "code",
   "execution_count": null,
   "metadata": {},
   "outputs": [],
   "source": [
    "import cufflinks as cf\n",
    "\n",
    "df = flow_data[[\"L06_347\", \"LS06_348\"]]\n",
    "fig = df.iplot(kind='scatter', asFigure=True)\n",
    "iplot(fig)"
   ]
  },
  {
   "cell_type": "markdown",
   "metadata": {},
   "source": [
    "Applied on the data set of district migration:"
   ]
  },
  {
   "cell_type": "code",
   "execution_count": null,
   "metadata": {},
   "outputs": [],
   "source": [
    "iplot(district_migration.transpose().iplot(kind='box', asFigure=True))"
   ]
  },
  {
   "cell_type": "markdown",
   "metadata": {},
   "source": [
    "<div class=\"alert alert-info\">\n",
    "\n",
    " <b>Plotly</b>\n",
    "\n",
    " <ul>\n",
    "    <li>Check the package gallery: https://plot.ly/python/ for plot examples</li>\n",
    "    <li>Information on using plotly offline only, is available [here](https://plot.ly/python/offline/)</li>\n",
    "    <li>The conversion from matplotlib figures is explained in [this tutorial](https://plot.ly/matplotlib/). Remember to substitute the `py.plot_mpl(fig)` with `plotly.offline.iplot_mpl(fig)`</li>\n",
    "    <li>More information about the `cufflinks` connection with Pandas is available [here](https://plot.ly/ipython-notebooks/cufflinks/).</li>\n",
    "</ul>\n",
    "<br>\n",
    "\n",
    "</div>"
   ]
  },
  {
   "cell_type": "markdown",
   "metadata": {},
   "source": [
    "<div class=\"alert alert-warning\">\n",
    "\n",
    " <b>For R users...</b>: \n",
    "\n",
    " <ul>\n",
    "    <li>Both `plotly` and `Bokeh` provide interactivity (sliders,..), but not the full equivalent of [`Rshiny`](https://shiny.rstudio.com/).<br>A similar functionality of Rshiny is provided by [`dash`](https://plot.ly/products/dash/), created by the same company as plotly.</li>\n",
    "</ul>\n",
    "<br>\n",
    "\n",
    "</div>"
   ]
  },
  {
   "cell_type": "markdown",
   "metadata": {},
   "source": [
    "## You like web-development and Javascript?"
   ]
  },
  {
   "cell_type": "markdown",
   "metadata": {
    "collapsed": true
   },
   "source": [
    "### Altair\n",
    "\n",
    "> *[Altair](https://altair-viz.github.io/) is a declarative statistical visualization library for Python, based on Vega-Lite.*"
   ]
  },
  {
   "cell_type": "code",
   "execution_count": null,
   "metadata": {},
   "outputs": [],
   "source": [
    "import altair as alt"
   ]
  },
  {
   "cell_type": "markdown",
   "metadata": {},
   "source": [
    "Reconsider the titanic example of the start fo this notebook:"
   ]
  },
  {
   "cell_type": "code",
   "execution_count": null,
   "metadata": {},
   "outputs": [],
   "source": [
    "fig, ax = plt.subplots()\n",
    "plt.style.use('ggplot')\n",
    "survival_rate = titanic.groupby(\"Pclass\")['Survived'].mean()\n",
    "survival_rate.plot(kind='bar', color='grey', \n",
    "                   rot=0, figsize=(6, 4), ax=ax)\n",
    "ylab = ax.set_ylabel(\"Survival rate\")\n",
    "xlab = ax.set_xlabel(\"Cabin class\")"
   ]
  },
  {
   "cell_type": "markdown",
   "metadata": {},
   "source": [
    "Translating this to `Altair` syntax:"
   ]
  },
  {
   "cell_type": "code",
   "execution_count": null,
   "metadata": {},
   "outputs": [],
   "source": [
    "alt.Chart(titanic).mark_bar().encode(\n",
    "    x=alt.X('Pclass:O', axis=alt.Axis(title='Cabin class')),\n",
    "    y=alt.Y('mean(Survived):Q', \n",
    "            axis=alt.Axis(format='%', \n",
    "                          title='survival_rate'))\n",
    ")"
   ]
  },
  {
   "cell_type": "markdown",
   "metadata": {},
   "source": [
    "Similar to `plotnine` with `aesthetic`, expressing the influence of a varibale on the plot building can be `encoded`:"
   ]
  },
  {
   "cell_type": "code",
   "execution_count": null,
   "metadata": {},
   "outputs": [],
   "source": [
    "alt.Chart(titanic).mark_bar().encode(\n",
    "    x=alt.X('Pclass:O', axis=alt.Axis(title='Cabin class')),\n",
    "    y=alt.Y('mean(Survived):Q', \n",
    "            axis=alt.Axis(format='%', \n",
    "                          title='survival_rate')),\n",
    "    column=\"Sex\"\n",
    ")"
   ]
  },
  {
   "cell_type": "markdown",
   "metadata": {},
   "source": [
    "The typical ingedrients of the **grammar of graphics** are available again:"
   ]
  },
  {
   "cell_type": "code",
   "execution_count": null,
   "metadata": {},
   "outputs": [],
   "source": [
    "(alt.Chart(titanic)  # Link with the data\n",
    "     .mark_circle().encode(  # defining a geometry\n",
    "        x=\"Fare:Q\",   # provide aesthetics by linking variables to channels\n",
    "        y=\"Age:Q\",\n",
    "        column=\"Pclass:O\",\n",
    "        color=\"Sex:N\",\n",
    "))\n",
    "# scales,... can be adjusted as well"
   ]
  },
  {
   "cell_type": "markdown",
   "metadata": {},
   "source": [
    "For information on this `...:Q`, `...:N`,`...:O`, see the [data type section](https://altair-viz.github.io/documentation/encoding.html#data-types) of the documentation."
   ]
  },
  {
   "cell_type": "markdown",
   "metadata": {},
   "source": [
    "<div class=\"alert alert-info\">\n",
    "\n",
    " <b>Remember</b>\n",
    "\n",
    " <ul>\n",
    "    <li>Altair provides a pure-Python **grammar of graphics** implementation!</li>\n",
    "    <li>Altair is built on top of the [Vega-Lite](https://vega.github.io/vega-lite/) visualization grammar, which can be interpreted as a language to specify a graph (from data to figure).</li>\n",
    "    <li>Altair easily integrates with web-technology (HTML/Javascript)</li>\n",
    "</ul>\n",
    "<br>\n",
    "\n",
    "</div>"
   ]
  },
  {
   "cell_type": "markdown",
   "metadata": {},
   "source": [
    "Worthwhile to mention are [toyplot](http://toyplot.readthedocs.io/en/stable/tutorial.html) and certainly [holoviews](http://holoviews.org/)!"
   ]
  },
  {
   "cell_type": "markdown",
   "metadata": {},
   "source": [
    "## You're data sets are HUGE?"
   ]
  },
  {
   "cell_type": "markdown",
   "metadata": {},
   "source": [
    "When you're working with a lot of records, the visualisation of the individual points does not always make sense as there are simply to many dots overlapping eachother (check [this](https://bokeh.github.io/datashader-docs/user_guide/1_Plotting_Pitfalls.html) notebook for a more detailed explanation)."
   ]
  },
  {
   "cell_type": "markdown",
   "metadata": {},
   "source": [
    "Consider the open data set:\n",
    "> Bird tracking - GPS tracking of Lesser Black-backed Gulls and Herring Gulls breeding at the southern North Sea coast https://www.gbif.org/dataset/83e20573-f7dd-4852-9159-21566e1e691e with > 8e6 records"
   ]
  },
  {
   "cell_type": "markdown",
   "metadata": {},
   "source": [
    "Working with such a data set on a local machine is not straightforward anymore, as this data set will consume a lot of memory to be handled by the default plotting libraries. Moreover, visualizing every single dot is not useful anymore at coarser zoom levels. "
   ]
  },
  {
   "cell_type": "markdown",
   "metadata": {},
   "source": [
    "The package [datashader](https://bokeh.github.io/datashader-docs/index.html) provides a solution for this size of data sets and works together with other packages such as `bokeh` and `holoviews`."
   ]
  },
  {
   "cell_type": "code",
   "execution_count": null,
   "metadata": {},
   "outputs": [],
   "source": [
    "import dask.dataframe as dd\n",
    "\n",
    "import datashader as ds\n",
    "import datashader.transfer_functions as tf"
   ]
  },
  {
   "cell_type": "markdown",
   "metadata": {},
   "source": [
    "To improve the performance of the rendering, some preprocessing of the data has been executed in order to have a subselection of the columns of the bird-tracking data available as a [parquet data format](https://parquet.apache.org/):"
   ]
  },
  {
   "cell_type": "markdown",
   "metadata": {},
   "source": [
    "Download of the [bird tracking](https://www.gbif.org/dataset/83e20573-f7dd-4852-9159-21566e1e691e) data set, resulting DOI: https://doi.org/10.15468/dl.hhvxuu.\n",
    "\n",
    "Transformation towards parquet (run this code on a gbif download to have the parquet data available):\n",
    "\n",
    "```python\n",
    "# Read data with dask package (cfr. pandas)\n",
    "birds_df = dd.read_csv(\"../data/0000296-171219132708484.csv\", delimiter=\"\\t\")\n",
    "# subselect certain columns of interest\n",
    "birds_df = birds_df[['occurrenceid', 'scientificname', 'decimallatitude', 'decimallongitude',\n",
    "                     'coordinateuncertaintyinmeters', 'day', 'month', 'year']]\n",
    "# adapt the dtypes\n",
    "birds_df[\"decimallatitude\"] = birds_df[\"decimallatitude\"].astype(np.float32)\n",
    "birds_df[\"decimallongitude\"] = birds_df[\"decimallongitude\"].astype(np.float32)\n",
    "birds_df[\"coordinateuncertaintyinmeters\"] = birds_df[\"coordinateuncertaintyinmeters\"].astype(np.float32)\n",
    "birds_df[\"scientificname\"] = birds_df[\"scientificname\"].astype('category')\n",
    "\n",
    "# write to parquet dat file format -  requires https://github.com/dask/fastparquet package!\n",
    "dd.to_parquet(\"bird_tracks\", birds_df, compression=\"GZIP\")\n",
    "```"
   ]
  },
  {
   "cell_type": "markdown",
   "metadata": {},
   "source": [
    "We can read the data from parquet with dask again:"
   ]
  },
  {
   "cell_type": "code",
   "execution_count": null,
   "metadata": {},
   "outputs": [],
   "source": [
    "df = dd.read_parquet('../data/bird_tracks').persist()\n",
    "df.head()"
   ]
  },
  {
   "cell_type": "markdown",
   "metadata": {},
   "source": [
    "Plotting all the occurrences on a single plot:"
   ]
  },
  {
   "cell_type": "code",
   "execution_count": null,
   "metadata": {},
   "outputs": [],
   "source": [
    "from colorcet import fire\n",
    "agg = ds.Canvas().points(df, 'decimallongitude', 'decimallatitude')\n",
    "tf.set_background(tf.shade(agg, cmap=fire),\"black\")"
   ]
  },
  {
   "cell_type": "markdown",
   "metadata": {},
   "source": [
    "<div class=\"alert alert-info\">\n",
    "\n",
    " <b>When not to use datashader</b>\n",
    "\n",
    " <ul>\n",
    "    <li>Plotting less than 1e5 or 1e6 data points</li>\n",
    "    <li>When every datapoint matters; standard Bokeh will render all of them</li>\n",
    "    <li>For full interactivity (hover tools) with every datapoint</li>\n",
    " </ul>\n",
    "<br>\n",
    "\n",
    " <b>When to use datashader</b>\n",
    "\n",
    " <ul>\n",
    "    <li>Actual big data; when Bokeh/Matplotlib have trouble</li>\n",
    "    <li>When the distribution matters more than individual points</li>\n",
    "    <li>When you find yourself sampling or binning to better understand the distribution</li>\n",
    " </ul>\n",
    "<br>\n",
    "\n",
    "([source](http://nbviewer.jupyter.org/github/bokeh/bokeh-notebooks/blob/master/tutorial/A2%20-%20Visualizing%20Big%20Data%20with%20Datashader.ipynb))\n",
    "\n",
    "</div>"
   ]
  },
  {
   "cell_type": "markdown",
   "metadata": {},
   "source": [
    "<div class=\"alert alert-warning\">\n",
    "\n",
    " <b>More alternatives for large data set visualisation that are worthwhile exploring:</b>: \n",
    "\n",
    " <ul>\n",
    "    <li>[vaex](http://vaex.astro.rug.nl/) which also provides on the fly binning or aggregating the data on a grid to be represented.</li>\n",
    "    <li>[Glumpy](https://glumpy.github.io/) and [Vispy](http://vispy.org/), which both rely on [OpenGL](https://www.opengl.org/) for achieving performance</li>\n",
    "</ul>\n",
    "<br>\n",
    "\n",
    "</div>"
   ]
  },
  {
   "cell_type": "markdown",
   "metadata": {},
   "source": [
    "## You want to dive deeper into Python viz?"
   ]
  },
  {
   "cell_type": "code",
   "execution_count": null,
   "metadata": {},
   "outputs": [],
   "source": [
    "from IPython.display import Image\n",
    "Image('https://raw.githubusercontent.com/rougier/python-visualization-landscape/master/landscape.png')"
   ]
  },
  {
   "cell_type": "markdown",
   "metadata": {},
   "source": [
    "or check the interactive version [here](https://rougier.github.io/python-visualization-landscape/landscape-colors.html)!"
   ]
  },
  {
   "cell_type": "markdown",
   "metadata": {},
   "source": [
    "further reading: http://journals.plos.org/ploscompbiol/article?id=10.1371/journal.pcbi.1003833"
   ]
  },
  {
   "cell_type": "markdown",
   "metadata": {},
   "source": [
    "## Acknowledgements\n",
    "\n",
    "\n",
    "https://speakerdeck.com/jakevdp/pythons-visualization-landscape-pycon-2017"
   ]
  }
 ],
 "metadata": {
  "kernelspec": {
   "display_name": "Python 3",
   "language": "python",
   "name": "python3"
  },
  "language_info": {
   "codemirror_mode": {
    "name": "ipython",
    "version": 3
   },
   "file_extension": ".py",
   "mimetype": "text/x-python",
   "name": "python",
   "nbconvert_exporter": "python",
   "pygments_lexer": "ipython3",
   "version": "3.6.3"
  }
 },
 "nbformat": 4,
 "nbformat_minor": 2
}
