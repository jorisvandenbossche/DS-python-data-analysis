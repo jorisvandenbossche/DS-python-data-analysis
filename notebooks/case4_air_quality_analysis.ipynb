{
 "cells": [
  {
   "cell_type": "markdown",
   "metadata": {
    "slideshow": {
     "slide_type": "slide"
    }
   },
   "source": [
    "<p><font size=\"6\"><b> Case study: air quality data of European monitoring stations (AirBase)</b></font></p><br>\n",
    "**AirBase (The European Air quality dataBase): hourly measurements of all air quality monitoring stations from Europe. **\n",
    "\n",
    "> *DS Data manipulation, analysis and visualisation in Python*  \n",
    "> *December, 2017*\n",
    "\n",
    "> *© 2016, Joris Van den Bossche and Stijn Van Hoey  (<mailto:jorisvandenbossche@gmail.com>, <mailto:stijnvanhoey@gmail.com>). Licensed under [CC BY 4.0 Creative Commons](http://creativecommons.org/licenses/by/4.0/)*\n",
    "\n",
    "---"
   ]
  },
  {
   "cell_type": "code",
   "execution_count": null,
   "metadata": {
    "run_control": {
     "frozen": false,
     "read_only": false
    },
    "slideshow": {
     "slide_type": "-"
    }
   },
   "outputs": [],
   "source": [
    "%matplotlib inline\n",
    "import pandas as pd\n",
    "import numpy as np\n",
    "import matplotlib.pyplot as plt\n",
    "import seaborn as sns\n",
    "\n",
    "pd.options.display.max_rows = 8"
   ]
  },
  {
   "cell_type": "markdown",
   "metadata": {},
   "source": [
    "In the previous notebook, we processed some raw data files of the AirBase air quality data. As a reminder, the data contains hourly concentrations of nitrogen dioxide (NO2) for 4 different measurement stations:\n",
    "\n",
    "- FR04037 (PARIS 13eme): urban background site at Square de Choisy\n",
    "- FR04012 (Paris, Place Victor Basch): urban traffic site at Rue d'Alesia\n",
    "- BETR802: urban traffic site in Antwerp, Belgium\n",
    "- BETN029: rural background site in Houtem, Belgium\n",
    "\n",
    "See http://www.eea.europa.eu/themes/air/interactive/no2"
   ]
  },
  {
   "cell_type": "markdown",
   "metadata": {
    "slideshow": {
     "slide_type": "slide"
    }
   },
   "source": [
    "# Importing and quick exploration"
   ]
  },
  {
   "cell_type": "markdown",
   "metadata": {
    "slideshow": {
     "slide_type": "subslide"
    }
   },
   "source": [
    "We processed the individual data files in the previous notebook, and saved it to a csv file `airbase_data.csv`. Let's import the file here (if you didn't finish the previous notebook, a version of the dataset is also available in `../data/airbase_data.csv`):"
   ]
  },
  {
   "cell_type": "code",
   "execution_count": null,
   "metadata": {
    "run_control": {
     "frozen": false,
     "read_only": false
    }
   },
   "outputs": [],
   "source": [
    "alldata = pd.read_csv('airbase_data.csv', index_col=0, parse_dates=True)"
   ]
  },
  {
   "cell_type": "markdown",
   "metadata": {},
   "source": [
    "We only use the data from 1999 onwards:"
   ]
  },
  {
   "cell_type": "code",
   "execution_count": null,
   "metadata": {},
   "outputs": [],
   "source": [
    "data = alldata['1999':].copy()"
   ]
  },
  {
   "cell_type": "markdown",
   "metadata": {},
   "source": [
    "Som first exploration with the *typical* functions:"
   ]
  },
  {
   "cell_type": "code",
   "execution_count": null,
   "metadata": {
    "run_control": {
     "frozen": false,
     "read_only": false
    }
   },
   "outputs": [],
   "source": [
    "data.head() # tail()"
   ]
  },
  {
   "cell_type": "code",
   "execution_count": null,
   "metadata": {
    "run_control": {
     "frozen": false,
     "read_only": false
    }
   },
   "outputs": [],
   "source": [
    "data.info()"
   ]
  },
  {
   "cell_type": "code",
   "execution_count": null,
   "metadata": {
    "run_control": {
     "frozen": false,
     "read_only": false
    }
   },
   "outputs": [],
   "source": [
    "data.describe(percentiles=[0.1, 0.5, 0.9])"
   ]
  },
  {
   "cell_type": "code",
   "execution_count": null,
   "metadata": {},
   "outputs": [],
   "source": [
    "data.plot(figsize=(12,6))"
   ]
  },
  {
   "cell_type": "markdown",
   "metadata": {},
   "source": [
    "<div class=\"alert alert-warning\">\n",
    "<b>ATTENTION!</b>: <br><br>\n",
    "\n",
    "When just using `.plot()` without further notice (selection, aggregation,...)\n",
    " <ul>\n",
    "  <li>Risk of running into troubles by overloading your computer processing (certainly with looooong time series)</li>\n",
    "  <li>Not always the most informative/interpretable visualisation</li>\n",
    "</ul>\n",
    "</div>"
   ]
  },
  {
   "cell_type": "markdown",
   "metadata": {},
   "source": [
    "**Plot only a subset**"
   ]
  },
  {
   "cell_type": "markdown",
   "metadata": {},
   "source": [
    "Why not just using the `head`/`tail` possibilities?"
   ]
  },
  {
   "cell_type": "code",
   "execution_count": null,
   "metadata": {},
   "outputs": [],
   "source": [
    "data.tail(500).plot(figsize=(12,6))"
   ]
  },
  {
   "cell_type": "markdown",
   "metadata": {},
   "source": [
    "**Summary figures**"
   ]
  },
  {
   "cell_type": "markdown",
   "metadata": {},
   "source": [
    "Use summary statistics..."
   ]
  },
  {
   "cell_type": "code",
   "execution_count": null,
   "metadata": {},
   "outputs": [],
   "source": [
    "data.plot(kind='box', ylim=[0,250])"
   ]
  },
  {
   "cell_type": "markdown",
   "metadata": {},
   "source": [
    "Also with seaborn plots function, just start with some subsets as first impression..."
   ]
  },
  {
   "cell_type": "code",
   "execution_count": null,
   "metadata": {},
   "outputs": [],
   "source": [
    "sns.pairplot(data.tail(5000).dropna())"
   ]
  },
  {
   "cell_type": "markdown",
   "metadata": {},
   "source": [
    "<div class=\"alert alert-success\">\n",
    "\n",
    "<b>EXERCISE</b>:\n",
    "\n",
    " <ul>\n",
    "  <li>Try out yourself alternative visualisations provided by [Pandas](http://pandas.pydata.org/pandas-docs/version/0.18.1/visualization.html) and [Seaborn](http://seaborn.pydata.org/examples/).</li>\n",
    "</ul>\n",
    "</div>"
   ]
  },
  {
   "cell_type": "markdown",
   "metadata": {},
   "source": [
    "# Exercises"
   ]
  },
  {
   "cell_type": "markdown",
   "metadata": {},
   "source": [
    "<div class=\"alert alert-warning\">\n",
    "\n",
    "<b>REMINDER</b>: <br><br>\n",
    "\n",
    "Take a look at the [Timeseries notebook](pandas_04_time_series_data.ipynb) when you require more info about...\n",
    "\n",
    " <ul>\n",
    "  <li>`resample`</li>\n",
    "  <li>string indexing of DateTimeIndex</li>\n",
    "</ul><br><br>\n",
    "\n",
    "Take a look at the [matplotlib/seaborn notebook](matplotlib_seaborn.ipynb) when you require more info about the plot requirements.\n",
    "\n",
    "</div>"
   ]
  },
  {
   "cell_type": "markdown",
   "metadata": {},
   "source": [
    "<div class=\"alert alert-success\">\n",
    "\n",
    "<b>EXERCISE</b>:\n",
    "\n",
    " <ul>\n",
    "  <li>Plot the monthly mean and median concentration of the 'FR04037' station for the years 2009 - 2012 in a single figure/ax</li>\n",
    "</ul>\n",
    "</div>"
   ]
  },
  {
   "cell_type": "code",
   "execution_count": null,
   "metadata": {
    "clear_cell": true
   },
   "outputs": [],
   "source": [
    "# %load _solutions/case4_air_quality_analysis11.py"
   ]
  },
  {
   "cell_type": "code",
   "execution_count": null,
   "metadata": {
    "clear_cell": true
   },
   "outputs": [],
   "source": [
    "# %load _solutions/case4_air_quality_analysis12.py"
   ]
  },
  {
   "cell_type": "markdown",
   "metadata": {},
   "source": [
    "<div class=\"alert alert-success\">\n",
    "\n",
    "<b>EXERCISE</b>\n",
    "\n",
    " <ul>\n",
    "  <li>Make a violin plot for January 2011 until August 2011 (check out the documentation to improve the plotting settings)</li>\n",
    "  <li>Change the y-label to 'NO$_2$ concentration (µg/m³)'</li>\n",
    "</ul><br>\n",
    "\n",
    " (for the violin plot documentation, check the examples at [seaborn](http://seaborn.pydata.org/examples/index.html) )\n",
    "</div>"
   ]
  },
  {
   "cell_type": "code",
   "execution_count": null,
   "metadata": {
    "clear_cell": true
   },
   "outputs": [],
   "source": [
    "# %load _solutions/case4_air_quality_analysis13.py"
   ]
  },
  {
   "cell_type": "markdown",
   "metadata": {},
   "source": [
    "<div class=\"alert alert-success\">\n",
    "\n",
    "<b>EXERCISE</b>\n",
    "\n",
    " <ul>\n",
    "  <li>Make a bar plot of the mean of each of the stations in the year 2012 (check the documentation of Pandas plot to adapt the rotation of the labels)</li>\n",
    "  <li>Change the y-label to 'NO$_2$ concentration (µg/m³)'</li>\n",
    "  <li>Add a 'darkorange' horizontal line on the ax for the y-value 40 µg/m³ (command for horizontal line from matplotlib: `axhline`)</li>\n",
    "  <li>[Place the text](matplotlib_seaborn.ipynb) just 'Yearly limit is 40 µg/m³' above the 'darkorange' line</li>\n",
    "</ul><br>\n",
    "\n",
    "</div>"
   ]
  },
  {
   "cell_type": "code",
   "execution_count": null,
   "metadata": {
    "clear_cell": true
   },
   "outputs": [],
   "source": [
    "# %load _solutions/case4_air_quality_analysis16.py"
   ]
  },
  {
   "cell_type": "markdown",
   "metadata": {},
   "source": [
    "<div class=\"alert alert-success\">\n",
    "\n",
    "<b>EXERCISE</b>\n",
    "\n",
    " <ul>\n",
    "  <li>For the data from 1999 till the end, plot the yearly averages</li>\n",
    "  <li>For the same period, add the overall mean (all stations together) as an additional line to the graph, use a thicker black line (`linewidt=4` and `linestyle='--'`)</li>\n",
    "  <li>[OPTIONAL] Add a legend above the ax for all lines</li>\n",
    "  \n",
    "\n",
    "</ul>\n",
    "</div>\n"
   ]
  },
  {
   "cell_type": "code",
   "execution_count": null,
   "metadata": {
    "clear_cell": true
   },
   "outputs": [],
   "source": [
    "# %load _solutions/case4_air_quality_analysis17.py"
   ]
  },
  {
   "cell_type": "markdown",
   "metadata": {},
   "source": [
    "<div class=\"alert alert-info\">\n",
    "\n",
    "<b>REMEMBER</b>: <br><br>\n",
    "\n",
    "`resample` is a specifal version of `groupby`. For example, taking annual means with `data.resample('A', 'mean')` is equivalent to `data.groupby(data.index.year).mean()` (but the result of `resample` still has a DatetimeIndex).<br><br>\n",
    "\n",
    "Checking the index of the resulting DataFrame when using **groupby** instead of resample: You'll notice that the Index lost the DateTime capabilities:\n",
    "\n",
    "<code>\n",
    "> data.groupby(data.index.year).mean().index\n",
    "</code>\n",
    "Results in:\n",
    "<code>\n",
    "Int64Index([1990, 1991, 1992, 1993, 1994, 1995, 1996, 1997, 1998, 1999, 2000,\n",
    "            2001, 2002, 2003, 2004, 2005, 2006, 2007, 2008, 2009, 2010, 2011,\n",
    "            2012],\n",
    "           dtype='int64')$\n",
    "</code>\n",
    "\n",
    "<br>\n",
    "When using **resample**, we keep the DateTime capabilities:\n",
    "\n",
    "<code>\n",
    "> data.resample('A').mean().index\n",
    "</code>\n",
    "Results in:\n",
    "<code>\n",
    "DatetimeIndex(['1999-12-31', '2000-12-31', '2001-12-31', '2002-12-31',\n",
    "               '2003-12-31', '2004-12-31', '2005-12-31', '2006-12-31',\n",
    "               '2007-12-31', '2008-12-31', '2009-12-31', '2010-12-31',\n",
    "               '2011-12-31', '2012-12-31'],\n",
    "              dtype='datetime64[ns]', freq='A-DEC')\n",
    "</code>\n",
    "<br>\n",
    "But, `groupby` is more flexible and can also do resamples that do not result in a new continuous time series, e.g. by grouping by the hour of the day to get the diurnal cycle.\n",
    "</div>"
   ]
  },
  {
   "cell_type": "markdown",
   "metadata": {},
   "source": [
    "<div class=\"alert alert-success\">\n",
    "\n",
    "<b>EXERCISE</b>\n",
    "\n",
    " <ul>\n",
    "  <li>How does the *typical yearly profile* (typical averages for the different months) look like for the different stations? (add a 'month' column as a first step)</li>\n",
    "\n",
    "</ul>\n",
    "</div>"
   ]
  },
  {
   "cell_type": "code",
   "execution_count": null,
   "metadata": {
    "clear_cell": true
   },
   "outputs": [],
   "source": [
    "# %load _solutions/case4_air_quality_analysis18.py"
   ]
  },
  {
   "cell_type": "code",
   "execution_count": null,
   "metadata": {},
   "outputs": [],
   "source": [
    "data = data.drop(\"month\", axis=1)"
   ]
  },
  {
   "cell_type": "markdown",
   "metadata": {},
   "source": [
    "<div class=\"alert alert-success\">\n",
    "\n",
    "<b>EXERCISE</b>\n",
    "\n",
    " <ul>\n",
    "  <li>Plot the weekly 95% percentiles of the concentration in 'BETR801' and 'BETN029' for 2011</li>\n",
    "\n",
    "</ul>\n",
    "</div>"
   ]
  },
  {
   "cell_type": "code",
   "execution_count": null,
   "metadata": {
    "clear_cell": true
   },
   "outputs": [],
   "source": [
    "# %load _solutions/case4_air_quality_analysis20.py"
   ]
  },
  {
   "cell_type": "code",
   "execution_count": null,
   "metadata": {
    "clear_cell": true
   },
   "outputs": [],
   "source": [
    "# %load _solutions/case4_air_quality_analysis21.py"
   ]
  },
  {
   "cell_type": "markdown",
   "metadata": {},
   "source": [
    "<div class=\"alert alert-success\">\n",
    "\n",
    "<b>EXERCISE</b>\n",
    "\n",
    " <ul>\n",
    "  <li>Plot the typical diurnal profile (typical hourly averages) for the different stations taking into account the whole time period.</li>\n",
    "\n",
    "</ul>\n",
    "</div>"
   ]
  },
  {
   "cell_type": "code",
   "execution_count": null,
   "metadata": {
    "clear_cell": true
   },
   "outputs": [],
   "source": [
    "# %load _solutions/case4_air_quality_analysis22.py"
   ]
  },
  {
   "cell_type": "markdown",
   "metadata": {},
   "source": [
    "<div class=\"alert alert-success\">\n",
    "\n",
    "<b>EXERCISE</b> <br><br>\n",
    "\n",
    "What is the difference in the typical diurnal profile between week and weekend days? (and visualise it)<br><br>\n",
    "\n",
    "**Hints:**\n",
    "\n",
    " <ul>\n",
    "  <li>Add a column 'weekday' defining the different days in the week</li>\n",
    "  <li>Add a column 'weekend' defining if a days is in the weekend (i.e. days 5 and 6) or not (True/False)</li>\n",
    "  <li>You can groupby on multiple items at the same time (which at the same time mostly requires an stack or unstack operation</li>\n",
    "\n",
    "\n",
    "</ul>\n",
    "</div>"
   ]
  },
  {
   "cell_type": "code",
   "execution_count": null,
   "metadata": {
    "clear_cell": true
   },
   "outputs": [],
   "source": [
    "# %load _solutions/case4_air_quality_analysis23.py"
   ]
  },
  {
   "cell_type": "code",
   "execution_count": null,
   "metadata": {
    "clear_cell": true
   },
   "outputs": [],
   "source": [
    "# %load _solutions/case4_air_quality_analysis24.py"
   ]
  },
  {
   "cell_type": "code",
   "execution_count": null,
   "metadata": {
    "clear_cell": true
   },
   "outputs": [],
   "source": [
    "# %load _solutions/case4_air_quality_analysis25.py"
   ]
  },
  {
   "cell_type": "code",
   "execution_count": null,
   "metadata": {},
   "outputs": [],
   "source": [
    "data = data.drop(['weekday', 'weekend'], axis=1)"
   ]
  },
  {
   "cell_type": "markdown",
   "metadata": {},
   "source": [
    "<div class=\"alert alert-success\">\n",
    "\n",
    "<b>EXERCISE</b>:<br><br>\n",
    "\n",
    " <ul>\n",
    "  <li>Calculate the correlation between the different stations (check in the documentation, google \"pandas correlation\" or use the magic function `%psearch`)</li>\n",
    "\n",
    "</ul>\n",
    "</div>\n"
   ]
  },
  {
   "cell_type": "code",
   "execution_count": null,
   "metadata": {
    "clear_cell": true
   },
   "outputs": [],
   "source": [
    "# %load _solutions/case4_air_quality_analysis27.py"
   ]
  },
  {
   "cell_type": "markdown",
   "metadata": {},
   "source": [
    "<div class=\"alert alert-success\">\n",
    "\n",
    "<b>EXERCISE</b>:<br><br>\n",
    "\n",
    "Count the number of exceedances of hourly values above the European limit 200 µg/m3 for each year and station after 2005. Make a barplot of the counts. Add an horizontal line indicating the maximum number of exceedances (which is 18) allowed per year?<br><br>\n",
    "\n",
    "**Hints:**\n",
    "\n",
    " <ul>\n",
    "  <li>Create a new DataFrame, called `exceedances`, (with boolean values) indicating if the threshold is exceeded or not</li>\n",
    "  <li>Remember that the sum of True values can be used to count elements</li>\n",
    "  <li>Adding a horizontal line can be done with the matplotlib function `ax.axhline`</li>\n",
    "\n",
    "\n",
    "</ul>\n",
    "</div>"
   ]
  },
  {
   "cell_type": "code",
   "execution_count": null,
   "metadata": {
    "clear_cell": true
   },
   "outputs": [],
   "source": [
    "# %load _solutions/case4_air_quality_analysis28.py"
   ]
  },
  {
   "cell_type": "code",
   "execution_count": null,
   "metadata": {
    "clear_cell": true
   },
   "outputs": [],
   "source": [
    "# %load _solutions/case4_air_quality_analysis29.py"
   ]
  },
  {
   "cell_type": "code",
   "execution_count": null,
   "metadata": {
    "clear_cell": true
   },
   "outputs": [],
   "source": [
    "# %load _solutions/case4_air_quality_analysis30.py"
   ]
  },
  {
   "cell_type": "markdown",
   "metadata": {},
   "source": [
    "<div class=\"alert alert-info\">\n",
    "\n",
    "<b>INTERMEZZO</b>: The `melt` functionality! <br><br>\n",
    "\n",
    "Conosider the following example:\n",
    "\n",
    "</div>"
   ]
  },
  {
   "cell_type": "markdown",
   "metadata": {},
   "source": [
    "Selecting a subset of data and adding new column:"
   ]
  },
  {
   "cell_type": "code",
   "execution_count": null,
   "metadata": {},
   "outputs": [],
   "source": [
    "subset = data['2012-02'].copy()\n",
    "subset[\"weekday\"] = subset.index.weekday"
   ]
  },
  {
   "cell_type": "markdown",
   "metadata": {},
   "source": [
    "To be able to use the factorplot of seaborn, we can reformat the data with `stack`"
   ]
  },
  {
   "cell_type": "code",
   "execution_count": null,
   "metadata": {},
   "outputs": [],
   "source": [
    "subset2 = subset.set_index(\"weekday\")\n",
    "stacked = subset2.stack().reset_index()\n",
    "sns.factorplot(x=\"weekday\", y=0, hue=\"level_1\", data=stacked)"
   ]
  },
  {
   "cell_type": "markdown",
   "metadata": {},
   "source": [
    "For this type of transformation, there is a shortcut as well, called `melt`:"
   ]
  },
  {
   "cell_type": "code",
   "execution_count": null,
   "metadata": {},
   "outputs": [],
   "source": [
    "pd.melt(subset, id_vars='weekday')\n",
    "sns.factorplot(x=\"weekday\", y=0, hue=\"level_1\", data=stacked)"
   ]
  },
  {
   "cell_type": "markdown",
   "metadata": {},
   "source": [
    "<div class=\"alert alert-info\">\n",
    "\n",
    "<b>REMEMBER</b>: <br><br>\n",
    "\n",
    "A shortcut for the command combination:<br>\n",
    "\n",
    "<code>\n",
    "subset = subset.set_index(\"weekday\")\n",
    "stacked = subset.stack().reset_index()\n",
    "</code><br>\n",
    "\n",
    "Is given by<br>\n",
    "\n",
    "<code>\n",
    "pd.melt(subset, id_vars='weekday')\n",
    "</code><br>\n",
    "\n",
    "For more information on the `melt` operation, check the [documentation](http://pandas.pydata.org/pandas-docs/stable/generated/pandas.melt.html)!\n",
    "\n",
    "</div>"
   ]
  },
  {
   "cell_type": "markdown",
   "metadata": {
    "slideshow": {
     "slide_type": "slide"
    }
   },
   "source": [
    "# More advanced exercises..."
   ]
  },
  {
   "cell_type": "markdown",
   "metadata": {},
   "source": [
    "<div class=\"alert alert-success\">\n",
    "\n",
    "<b>EXERCISE</b>: Perform the following actions for the station `'FR04012'` only:\n",
    "\n",
    " <ul>\n",
    "  <li>Remove the rows containing `Nan` or zero values</li>\n",
    "  <li>Sort the values  of the rows according to the air quality values (low to high values)</li>\n",
    "  <li>Rescale the values to the range [0-1] and store result as `FR_scaled` (Hint: check [wikipedia](https://en.wikipedia.org/wiki/Feature_scaling#Rescaling))</li>\n",
    "  <li>Plot these values sorted, not taking into account the dates</li>\n",
    "  <li>Add the station name 'FR04012' as y-label</li>\n",
    "  <li>[OPTIONAL] Add a vertical line to the plot where the line (hence, the values of variable FR_scaled) reach the value `0.3`. You will need the documentation of `np.searchsorted` and matplotlib's `axvline`</li>\n",
    "</ul>\n",
    "</div>"
   ]
  },
  {
   "cell_type": "code",
   "execution_count": null,
   "metadata": {
    "clear_cell": true
   },
   "outputs": [],
   "source": [
    "# %load _solutions/case4_air_quality_analysis34.py"
   ]
  },
  {
   "cell_type": "code",
   "execution_count": null,
   "metadata": {
    "clear_cell": true
   },
   "outputs": [],
   "source": [
    "# %load _solutions/case4_air_quality_analysis35.py"
   ]
  },
  {
   "cell_type": "code",
   "execution_count": null,
   "metadata": {
    "clear_cell": true,
    "run_control": {
     "frozen": false,
     "read_only": false
    }
   },
   "outputs": [],
   "source": [
    "# %load _solutions/case4_air_quality_analysis37.py"
   ]
  },
  {
   "cell_type": "markdown",
   "metadata": {},
   "source": [
    "<div class=\"alert alert-success\">\n",
    "\n",
    "<b>EXERCISE</b>:\n",
    "\n",
    " <ul>\n",
    "  <li>Create a Figure with two subplots (axes), for which both ax**i**s are shared</li>\n",
    "  <li>In the left subplot, plot the histogram (30 bins) of station 'BETN029', only for the year 2009</li>\n",
    "  <li>In the right subplot, plot the histogram (30 bins) of station 'BETR801', only for the year 2009</li>\n",
    "  <li>Add the title representing the station name on each of the subplots, you do not want to have a legend</li>\n",
    "</ul>\n",
    "</div>"
   ]
  },
  {
   "cell_type": "code",
   "execution_count": null,
   "metadata": {
    "clear_cell": true
   },
   "outputs": [],
   "source": [
    "# %load _solutions/case4_air_quality_analysis38.py"
   ]
  },
  {
   "cell_type": "code",
   "execution_count": null,
   "metadata": {
    "clear_cell": true
   },
   "outputs": [],
   "source": [
    "# %load _solutions/case4_air_quality_analysis39.py"
   ]
  },
  {
   "cell_type": "markdown",
   "metadata": {},
   "source": [
    "As an extension on the previous exercise, you could wonder how to do this for all the stations at once. Well, seaborn provides this as a functionality, here just as an example:"
   ]
  },
  {
   "cell_type": "code",
   "execution_count": null,
   "metadata": {},
   "outputs": [],
   "source": [
    "g = sns.FacetGrid(pd.melt(data[\"2009\"]), col=\"variable\", col_wrap=2)\n",
    "g.map(plt.hist, \"value\", bins=30)\n",
    "\n",
    "for station, ax in zip(data.columns, g.axes):\n",
    "    ax.set_title(station)\n",
    "# http://seaborn.pydata.org/tutorial/axis_grids.html"
   ]
  },
  {
   "cell_type": "markdown",
   "metadata": {},
   "source": [
    "<div class=\"alert alert-success\">\n",
    "\n",
    "<b>EXERCISE</b>\n",
    "\n",
    " <ul>\n",
    "  <li>Make a selectionof the original dataset of the data in January 2009, call the resulting variable `subset`</li>\n",
    "  <li>Add a new column, called 'weekday', to the variable `subset` which defines for each data point the day of the week</li>\n",
    "  <li>From the `subset` DataFrame, select only Monday (= day 0) and Sunday (=day 6) and remove the others (so, keep this as variable `subset`)</li>\n",
    "  <li>Change the values of the weekday column in `subset` according to the following mapping: `{0:\"Monday\", 6:\"Sunday\"}`</li>\n",
    "  <li>Make a linear regression between the stations 'BETN029' and 'FR04037', with a color variation (hue) [based on the weekday column](http://seaborn.pydata.org/tutorial/regression.html#conditioning-on-other-variables)</li>\n",
    "</ul><br><br>\n",
    "\n",
    "**Note**: If you run into the **SettingWithCopyWarning** and do not know what to do, recheck [pandas_03_selecting_data](pandas_03_selecting_data.ipynb)\n",
    "\n",
    "</div>"
   ]
  },
  {
   "cell_type": "code",
   "execution_count": null,
   "metadata": {
    "clear_cell": true
   },
   "outputs": [],
   "source": [
    "# %load _solutions/case4_air_quality_analysis41.py"
   ]
  },
  {
   "cell_type": "code",
   "execution_count": null,
   "metadata": {
    "clear_cell": true
   },
   "outputs": [],
   "source": [
    "# %load _solutions/case4_air_quality_analysis42.py"
   ]
  },
  {
   "cell_type": "code",
   "execution_count": null,
   "metadata": {
    "clear_cell": true
   },
   "outputs": [],
   "source": [
    "# %load _solutions/case4_air_quality_analysis43.py"
   ]
  },
  {
   "cell_type": "markdown",
   "metadata": {},
   "source": [
    "<div class=\"alert alert-success\">\n",
    "\n",
    "<b>EXERCISE</b>:\n",
    "\n",
    " <ul>\n",
    "  <li>The maximum daily, 8 hour mean, should be below 100 µg/m³. What is the number of exceedances of this limit for each year/station?</li><br><br>\n",
    "  </ul>\n",
    " \n",
    "  \n",
    "**Tip:**<br>\n",
    "\n",
    "Have a look at the `rolling` method to perform moving window operations.<br><br>\n",
    "\n",
    "**Note:**<br>\n",
    "This is not an actual limit for NO$_2$, but a nice exercise to introduce the `rolling` method. Other pollutans, such as 0$_3$ have actually such kind of limit values.\n",
    "\n",
    "</div>"
   ]
  },
  {
   "cell_type": "code",
   "execution_count": null,
   "metadata": {
    "clear_cell": true,
    "run_control": {
     "frozen": false,
     "read_only": false
    }
   },
   "outputs": [],
   "source": [
    "# %load _solutions/case4_air_quality_analysis44.py"
   ]
  },
  {
   "cell_type": "markdown",
   "metadata": {
    "slideshow": {
     "slide_type": "subslide"
    }
   },
   "source": [
    "<div class=\"alert alert-success\">\n",
    "\n",
    "<b>EXERCISE</b>:\n",
    "\n",
    " <ul>\n",
    "  <li>Visualize the typical week profile for the different stations as boxplots (where the values in one boxplot are the *daily means* for the different *weeks* for a certain weekday).</li><br><br>\n",
    "  </ul>\n",
    " \n",
    "  \n",
    "**Tip:**<br>\n",
    "\n",
    "The boxplot method of a DataFrame expects the data for the different boxes in different columns. For this, you can either use `pivot_table` or a combination of `groupby` and `unstack`\n",
    "\n",
    "\n",
    "</div>\n"
   ]
  },
  {
   "cell_type": "markdown",
   "metadata": {},
   "source": [
    "Using pivot_table:"
   ]
  },
  {
   "cell_type": "code",
   "execution_count": null,
   "metadata": {
    "clear_cell": true,
    "run_control": {
     "frozen": false,
     "read_only": false
    },
    "slideshow": {
     "slide_type": "fragment"
    }
   },
   "outputs": [],
   "source": [
    "# %load _solutions/case4_air_quality_analysis45.py"
   ]
  },
  {
   "cell_type": "code",
   "execution_count": null,
   "metadata": {
    "clear_cell": true,
    "run_control": {
     "frozen": false,
     "read_only": false
    },
    "slideshow": {
     "slide_type": "subslide"
    }
   },
   "outputs": [],
   "source": [
    "# %load _solutions/case4_air_quality_analysis46.py"
   ]
  },
  {
   "cell_type": "code",
   "execution_count": null,
   "metadata": {
    "clear_cell": true,
    "run_control": {
     "frozen": false,
     "read_only": false
    }
   },
   "outputs": [],
   "source": [
    "# %load _solutions/case4_air_quality_analysis47.py"
   ]
  },
  {
   "cell_type": "markdown",
   "metadata": {},
   "source": [
    "An alternative method using `groupby` and `unstack`:"
   ]
  },
  {
   "cell_type": "code",
   "execution_count": null,
   "metadata": {
    "clear_cell": true,
    "run_control": {
     "frozen": false,
     "read_only": false
    }
   },
   "outputs": [],
   "source": [
    "# %load _solutions/case4_air_quality_analysis48.py"
   ]
  },
  {
   "cell_type": "code",
   "execution_count": null,
   "metadata": {},
   "outputs": [],
   "source": [
    "data = data.drop(['week', 'weekday'], axis=1)"
   ]
  },
  {
   "cell_type": "code",
   "execution_count": null,
   "metadata": {},
   "outputs": [],
   "source": []
  }
 ],
 "metadata": {
  "celltoolbar": "Nbtutor - export exercises",
  "kernelspec": {
   "display_name": "Python 3",
   "language": "python",
   "name": "python3"
  },
  "language_info": {
   "codemirror_mode": {
    "name": "ipython",
    "version": 3
   },
   "file_extension": ".py",
   "mimetype": "text/x-python",
   "name": "python",
   "nbconvert_exporter": "python",
   "pygments_lexer": "ipython3",
   "version": "3.6.3"
  },
  "nav_menu": {},
  "toc": {
   "navigate_menu": true,
   "number_sections": true,
   "sideBar": true,
   "threshold": 6,
   "toc_cell": false,
   "toc_section_display": "block",
   "toc_window_display": true
  },
  "toc_position": {
   "height": "860px",
   "left": "0px",
   "right": "1657px",
   "top": "106px",
   "width": "212px"
  }
 },
 "nbformat": 4,
 "nbformat_minor": 1
}
